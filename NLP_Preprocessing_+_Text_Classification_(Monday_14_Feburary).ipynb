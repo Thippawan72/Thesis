{
  "cells": [
    {
      "cell_type": "markdown",
      "metadata": {
        "id": "view-in-github",
        "colab_type": "text"
      },
      "source": [
        "<a href=\"https://colab.research.google.com/github/Thippawan72/Thesis/blob/main/NLP_Preprocessing_%2B_Text_Classification_(Monday_14_Feburary).ipynb\" target=\"_parent\"><img src=\"https://colab.research.google.com/assets/colab-badge.svg\" alt=\"Open In Colab\"/></a>"
      ]
    },
    {
      "cell_type": "markdown",
      "metadata": {
        "id": "5QjhWA85hy6S"
      },
      "source": [
        "\n",
        "**Topics**\n",
        "- NLP Pre-processing Data\n",
        "- Text Classification\n",
        " + Word2Vec\n",
        " + LSTM\n",
        " + BERT (Transformer - Keras)\n",
        " + BERT (Transformer - Pytorch)\n",
        " + BERT (Transformer - Simple Transformer)"
      ]
    },
    {
      "cell_type": "markdown",
      "metadata": {
        "id": "vW45K8UX153v"
      },
      "source": [
        "# Text Classification"
      ]
    },
    {
      "cell_type": "markdown",
      "metadata": {
        "id": "4j5rRUHhyZ_F"
      },
      "source": [
        "## Preparing VM"
      ]
    },
    {
      "cell_type": "code",
      "execution_count": null,
      "metadata": {
        "colab": {
          "base_uri": "https://localhost:8080/"
        },
        "id": "_p2JBByAyYvw",
        "outputId": "d96719f5-b912-4d5c-c540-95dc8fb5ae9f"
      },
      "outputs": [
        {
          "name": "stdout",
          "output_type": "stream",
          "text": [
            "Mon Feb 27 08:23:47 2023       \n",
            "+-----------------------------------------------------------------------------+\n",
            "| NVIDIA-SMI 525.85.12    Driver Version: 525.85.12    CUDA Version: 12.0     |\n",
            "|-------------------------------+----------------------+----------------------+\n",
            "| GPU  Name        Persistence-M| Bus-Id        Disp.A | Volatile Uncorr. ECC |\n",
            "| Fan  Temp  Perf  Pwr:Usage/Cap|         Memory-Usage | GPU-Util  Compute M. |\n",
            "|                               |                      |               MIG M. |\n",
            "|===============================+======================+======================|\n",
            "|   0  Tesla T4            Off  | 00000000:00:04.0 Off |                    0 |\n",
            "| N/A   49C    P0    27W /  70W |      0MiB / 15360MiB |      0%      Default |\n",
            "|                               |                      |                  N/A |\n",
            "+-------------------------------+----------------------+----------------------+\n",
            "                                                                               \n",
            "+-----------------------------------------------------------------------------+\n",
            "| Processes:                                                                  |\n",
            "|  GPU   GI   CI        PID   Type   Process name                  GPU Memory |\n",
            "|        ID   ID                                                   Usage      |\n",
            "|=============================================================================|\n",
            "|  No running processes found                                                 |\n",
            "+-----------------------------------------------------------------------------+\n"
          ]
        }
      ],
      "source": [
        "gpu_info = !nvidia-smi\n",
        "gpu_info = '\\n'.join(gpu_info)\n",
        "if gpu_info.find('failed') >= 0:\n",
        "  print('Not connected to a GPU')\n",
        "else:\n",
        "  print(gpu_info)"
      ]
    },
    {
      "cell_type": "code",
      "execution_count": null,
      "metadata": {
        "colab": {
          "base_uri": "https://localhost:8080/"
        },
        "id": "67ccu9bkyeMQ",
        "outputId": "f3bd586f-a4d5-483b-ed10-856cd71153f6"
      },
      "outputs": [
        {
          "name": "stdout",
          "output_type": "stream",
          "text": [
            "Your runtime has 54.8 gigabytes of available RAM\n",
            "\n",
            "You are using a high-RAM runtime!\n"
          ]
        }
      ],
      "source": [
        "from psutil import virtual_memory\n",
        "ram_gb = virtual_memory().total / 1e9\n",
        "print('Your runtime has {:.1f} gigabytes of available RAM\\n'.format(ram_gb))\n",
        "\n",
        "if ram_gb < 20:\n",
        "  print('Not using a high-RAM runtime')\n",
        "else:\n",
        "  print('You are using a high-RAM runtime!')"
      ]
    },
    {
      "cell_type": "code",
      "execution_count": null,
      "metadata": {
        "colab": {
          "base_uri": "https://localhost:8080/"
        },
        "id": "YuJKXyi0jRuH",
        "outputId": "91583c06-6566-4e9a-d8ca-1cf7632e5471"
      },
      "outputs": [
        {
          "data": {
            "text/plain": [
              "True"
            ]
          },
          "execution_count": 3,
          "metadata": {},
          "output_type": "execute_result"
        }
      ],
      "source": [
        "import torch\n",
        "torch.cuda.is_available()"
      ]
    },
    {
      "cell_type": "code",
      "execution_count": null,
      "metadata": {
        "colab": {
          "base_uri": "https://localhost:8080/"
        },
        "id": "S8Nm8S3L2e09",
        "outputId": "93c874be-7f9c-4261-de33-7390b4a3d2dc"
      },
      "outputs": [
        {
          "name": "stdout",
          "output_type": "stream",
          "text": [
            "Selecting previously unselected package htop.\n",
            "(Reading database ... 128208 files and directories currently installed.)\n",
            "Preparing to unpack .../htop_2.2.0-2build1_amd64.deb ...\n",
            "Unpacking htop (2.2.0-2build1) ...\n",
            "Setting up htop (2.2.0-2build1) ...\n",
            "Processing triggers for mime-support (3.64ubuntu1) ...\n",
            "Processing triggers for man-db (2.9.1-1) ...\n"
          ]
        }
      ],
      "source": [
        "# Command line tool for monitoring VM\n",
        "! apt-get -qq install htop -y"
      ]
    },
    {
      "cell_type": "markdown",
      "metadata": {
        "id": "6DFoHKtXi48I"
      },
      "source": [
        "## Pre-processing"
      ]
    },
    {
      "cell_type": "code",
      "execution_count": null,
      "metadata": {
        "id": "6ItpucCijB0C"
      },
      "outputs": [],
      "source": [
        "import os\n",
        "import numpy as np\n",
        "import pandas as pd\n",
        "from sklearn.model_selection import train_test_split\n",
        "from sklearn.metrics import confusion_matrix\n",
        "import matplotlib.pyplot as plt"
      ]
    },
    {
      "cell_type": "code",
      "execution_count": null,
      "metadata": {
        "colab": {
          "base_uri": "https://localhost:8080/"
        },
        "id": "iokYvpifijFJ",
        "outputId": "20892f8c-1b73-4422-e9e5-076b07c607be"
      },
      "outputs": [
        {
          "name": "stdout",
          "output_type": "stream",
          "text": [
            "Cloning into 'wongnai-corpus'...\n",
            "remote: Enumerating objects: 127, done.\u001b[K\n",
            "remote: Total 127 (delta 0), reused 0 (delta 0), pack-reused 127\u001b[K\n",
            "Receiving objects: 100% (127/127), 39.65 MiB | 16.36 MiB/s, done.\n",
            "Resolving deltas: 100% (45/45), done.\n"
          ]
        }
      ],
      "source": [
        "!git clone https://github.com/wongnai/wongnai-corpus.git"
      ]
    },
    {
      "cell_type": "code",
      "execution_count": null,
      "metadata": {
        "id": "NRnuWCAmi763"
      },
      "outputs": [],
      "source": [
        "os.chdir('wongnai-corpus/review')"
      ]
    },
    {
      "cell_type": "code",
      "execution_count": null,
      "metadata": {
        "colab": {
          "base_uri": "https://localhost:8080/"
        },
        "id": "Tz8Zy5BYi-ER",
        "outputId": "3e11ca70-75b5-4a3d-a147-11304e25f819"
      },
      "outputs": [
        {
          "name": "stdout",
          "output_type": "stream",
          "text": [
            "Archive:  review_dataset.zip\n",
            " extracting: sample_submission.csv   \n",
            "  inflating: test_file.csv           \n",
            "  inflating: w_review_train.csv      \n",
            "   creating: __MACOSX/\n",
            "  inflating: __MACOSX/._sample_submission.csv  \n",
            "  inflating: __MACOSX/._test_file.csv  \n",
            "  inflating: __MACOSX/._w_review_train.csv  \n"
          ]
        }
      ],
      "source": [
        "!unzip review_dataset.zip"
      ]
    },
    {
      "cell_type": "code",
      "execution_count": null,
      "metadata": {
        "colab": {
          "base_uri": "https://localhost:8080/"
        },
        "id": "zhVgInwmi_Z7",
        "outputId": "1f365a6b-f9d9-4d98-c78c-2b8722356b23"
      },
      "outputs": [
        {
          "name": "stdout",
          "output_type": "stream",
          "text": [
            "__MACOSX\t    sample_submission.csv  w_review_train.csv\n",
            "review_dataset.zip  test_file.csv\n"
          ]
        }
      ],
      "source": [
        "!ls"
      ]
    },
    {
      "cell_type": "code",
      "execution_count": null,
      "metadata": {
        "colab": {
          "base_uri": "https://localhost:8080/"
        },
        "id": "yRmWxf0_jjtg",
        "outputId": "f8457cb1-facd-4461-8d7d-f7d0a56c32aa"
      },
      "outputs": [
        {
          "name": "stdout",
          "output_type": "stream",
          "text": [
            "/content/wongnai-corpus/review\n"
          ]
        }
      ],
      "source": [
        "!pwd"
      ]
    },
    {
      "cell_type": "code",
      "execution_count": null,
      "metadata": {
        "colab": {
          "base_uri": "https://localhost:8080/"
        },
        "id": "43D5nIRHkBcH",
        "outputId": "423b3d67-8aa5-4158-a725-d503ef9590f4"
      },
      "outputs": [
        {
          "name": "stdout",
          "output_type": "stream",
          "text": [
            "\"ร้านอาหารใหญ่มากกกกกกก \n",
            "เลี้ยวเข้ามาเจอห้องน้ำก่อนเลย เออแปลกดี \n",
            "ห้องทานหลักๆอยู่ชั้น 2 มีกาแฟ น้ำผึ้ง ซึ่งก็แค่เอาน้ำผึ้งมาราด แพงเวอร์ อย่าสั่งเลย \n",
            "ลาบไข่ต้ม ไข่มันคาวอะ เลยไม่ประทับใจเท่าไหร่\n",
            "ทอดมันหัวปลีกรอบอร่อยต้องเบิ้ล \n",
            "พะแนงห่อไข่อร่อยดี เห้ยแต่ราคา 150บาทมันเกินไปนะ รับไม่ไหวว\n",
            "เลิกกินแล้วมีขนมหวานให้กินฟรีเล็กน้อย )ขนมไทย) \n",
            "\n",
            "คงไม่ไปซ้ำ แพงเกิน \";3\n",
            "\"อาหารที่นี่เป็นอาหารจีนแคะที่หากินยากในบ้านเรา ตัวร้านตั้งอยู่ที่ถนนพุทธมณฑลสาย 3 ไปตาม ถ.ปิ่นเกล้า-นครชัยศรี เมื่อถึงพุทธมณฑลสาย 3 ก็เลี้ยวเข้าไปประมาณ 500 เมตร ร้านอยู่ทางซ้ายมือค่ะ มีคนบอกมาว่าความพิเศษของร้านนี้คือกุ๊กเก่าและเป็นกุ๊กรุ่นสุดท้ายจาก \"\"ฮก ลก ซิ่ว” ภัตตาคารจีนชื่อดังย่านราชประสงค์ ที่เลิกกิจการไปแล้ว ต้องคนที่อายุเลข 5 ขึ้นไปจึงจะเคยกิน ฮก ลก ซิ่ว  จานเด็ดที่มีขายที่นี่แห่งเดียวในเมืองไทยคือ ปลาเต๋าเต้ย 2 ฤดู เป็นสูตรจากมาเลเซีย นอกนั้นก็มี ผัดผักน้ำมันหอย ไก่เบตง เคาหยก ปูทะเลซุปน้ำใสหม้อไฟ เต้าหู้แคระยัดไส้หม้อดิน และ ลูกชิ้นแคระ \n"
          ]
        }
      ],
      "source": [
        "!head -n 10 /content/wongnai-corpus/review/w_review_train.csv"
      ]
    },
    {
      "cell_type": "code",
      "execution_count": null,
      "metadata": {
        "id": "ze8LvumcjFRf"
      },
      "outputs": [],
      "source": [
        "def create_data(file_path, test_size=0.1):\n",
        "  '''\n",
        "  Split wongnai training data into train and test set and save them in new folder called \"wongnai_data\"\n",
        "\n",
        "  Arguments:\n",
        "  file_path -- data file to be split.\n",
        "  test_size -- proportion of the test split. Float between 0-1.\n",
        "\n",
        "  Returns:\n",
        "  train -- DataFrame of training data.\n",
        "  test -- DataFrame of test data.\n",
        "  '''\n",
        "\n",
        "  # Preprocess data with csv that does not have header\n",
        "  data = pd.read_csv(file_path, sep=';', names=['review', 'star'])\n",
        "\n",
        "  # Split data with stratification to avoid class imbalance\n",
        "  x = data[['review']]\n",
        "  y = data[['star']]\n",
        "  x_train, x_test, y_train, y_test = train_test_split(x, y, stratify=y, test_size=test_size, random_state=42)\n",
        "\n",
        "  train = x_train.join(y_train)\n",
        "  test = x_test.join(y_test)\n",
        "\n",
        "  # Save to csv files\n",
        "  try:\n",
        "    os.mkdir('wongnai_data')\n",
        "  except:\n",
        "    print('Folder already exists, proceed to saving.')\n",
        "  train.to_csv('wongnai_data/train.csv', index=False) # , header=False)\n",
        "  test.to_csv('wongnai_data/test.csv', index=False) # , header=False)\n",
        "\n",
        "  return train, test"
      ]
    },
    {
      "cell_type": "code",
      "execution_count": null,
      "metadata": {
        "id": "jilR7lykjOWk"
      },
      "outputs": [],
      "source": [
        "train, test = create_data('/content/wongnai-corpus/review/w_review_train.csv')"
      ]
    },
    {
      "cell_type": "code",
      "execution_count": null,
      "metadata": {
        "colab": {
          "base_uri": "https://localhost:8080/",
          "height": 423
        },
        "id": "V2xbPbSMFkaU",
        "outputId": "a70a36e2-ac50-4435-c90f-0239051ace11"
      },
      "outputs": [
        {
          "data": {
            "text/html": [
              "\n",
              "  <div id=\"df-1eb2fc01-d27c-4ade-ae2b-964850cd11c4\">\n",
              "    <div class=\"colab-df-container\">\n",
              "      <div>\n",
              "<style scoped>\n",
              "    .dataframe tbody tr th:only-of-type {\n",
              "        vertical-align: middle;\n",
              "    }\n",
              "\n",
              "    .dataframe tbody tr th {\n",
              "        vertical-align: top;\n",
              "    }\n",
              "\n",
              "    .dataframe thead th {\n",
              "        text-align: right;\n",
              "    }\n",
              "</style>\n",
              "<table border=\"1\" class=\"dataframe\">\n",
              "  <thead>\n",
              "    <tr style=\"text-align: right;\">\n",
              "      <th></th>\n",
              "      <th>review</th>\n",
              "      <th>star</th>\n",
              "    </tr>\n",
              "  </thead>\n",
              "  <tbody>\n",
              "    <tr>\n",
              "      <th>8925</th>\n",
              "      <td>ตามที่บอกเป็นร้านกาแฟที่เน้นขายเคกนะครับ มีหลา...</td>\n",
              "      <td>3</td>\n",
              "    </tr>\n",
              "    <tr>\n",
              "      <th>4802</th>\n",
              "      <td>ร้านนี้อยู่ก่อนถึงถนนคนเดินค่ะ สามารถจอดรถได้ร...</td>\n",
              "      <td>4</td>\n",
              "    </tr>\n",
              "    <tr>\n",
              "      <th>24339</th>\n",
              "      <td>อูมิ (Umi) คืออีกหนึ่งร้านซูชิที่ตั้งอยู่ในซอย...</td>\n",
              "      <td>5</td>\n",
              "    </tr>\n",
              "    <tr>\n",
              "      <th>34701</th>\n",
              "      <td>ร้านนี้มีสโลแกน ปลูกผักเพราะรักแม่ ดังนั้นช่วง...</td>\n",
              "      <td>5</td>\n",
              "    </tr>\n",
              "    <tr>\n",
              "      <th>31990</th>\n",
              "      <td>มาตามลายแทง เห็นร้านและการแต่งก็ตัดสินใจเลย ร้...</td>\n",
              "      <td>5</td>\n",
              "    </tr>\n",
              "    <tr>\n",
              "      <th>...</th>\n",
              "      <td>...</td>\n",
              "      <td>...</td>\n",
              "    </tr>\n",
              "    <tr>\n",
              "      <th>27946</th>\n",
              "      <td>ร้านก๋วยเตี๋ยวหมูตุ๋นเจ้าเก่าดั้งเดิม ด้วยประส...</td>\n",
              "      <td>4</td>\n",
              "    </tr>\n",
              "    <tr>\n",
              "      <th>27687</th>\n",
              "      <td>คะแนนรวมร้าน⭐️⭐️\\nบริการ⭐️⭐️\\nรสชาติ⭐️⭐️\\nราคา...</td>\n",
              "      <td>2</td>\n",
              "    </tr>\n",
              "    <tr>\n",
              "      <th>4502</th>\n",
              "      <td>ร้านขนมข้าวกาแฟ บรรยากาศสบายๆมีน้องหมามาตอนรับ...</td>\n",
              "      <td>3</td>\n",
              "    </tr>\n",
              "    <tr>\n",
              "      <th>31182</th>\n",
              "      <td>ร้านตั้งอยู่ริมถนน ถึงก่อนหมูบ้านสารินคับ ที่จ...</td>\n",
              "      <td>3</td>\n",
              "    </tr>\n",
              "    <tr>\n",
              "      <th>11053</th>\n",
              "      <td>ถ้าจำไม่ผิดร้านนี้อยู่ร้านแรกทางขวามือของตึกเล...</td>\n",
              "      <td>2</td>\n",
              "    </tr>\n",
              "  </tbody>\n",
              "</table>\n",
              "<p>36000 rows × 2 columns</p>\n",
              "</div>\n",
              "      <button class=\"colab-df-convert\" onclick=\"convertToInteractive('df-1eb2fc01-d27c-4ade-ae2b-964850cd11c4')\"\n",
              "              title=\"Convert this dataframe to an interactive table.\"\n",
              "              style=\"display:none;\">\n",
              "        \n",
              "  <svg xmlns=\"http://www.w3.org/2000/svg\" height=\"24px\"viewBox=\"0 0 24 24\"\n",
              "       width=\"24px\">\n",
              "    <path d=\"M0 0h24v24H0V0z\" fill=\"none\"/>\n",
              "    <path d=\"M18.56 5.44l.94 2.06.94-2.06 2.06-.94-2.06-.94-.94-2.06-.94 2.06-2.06.94zm-11 1L8.5 8.5l.94-2.06 2.06-.94-2.06-.94L8.5 2.5l-.94 2.06-2.06.94zm10 10l.94 2.06.94-2.06 2.06-.94-2.06-.94-.94-2.06-.94 2.06-2.06.94z\"/><path d=\"M17.41 7.96l-1.37-1.37c-.4-.4-.92-.59-1.43-.59-.52 0-1.04.2-1.43.59L10.3 9.45l-7.72 7.72c-.78.78-.78 2.05 0 2.83L4 21.41c.39.39.9.59 1.41.59.51 0 1.02-.2 1.41-.59l7.78-7.78 2.81-2.81c.8-.78.8-2.07 0-2.86zM5.41 20L4 18.59l7.72-7.72 1.47 1.35L5.41 20z\"/>\n",
              "  </svg>\n",
              "      </button>\n",
              "      \n",
              "  <style>\n",
              "    .colab-df-container {\n",
              "      display:flex;\n",
              "      flex-wrap:wrap;\n",
              "      gap: 12px;\n",
              "    }\n",
              "\n",
              "    .colab-df-convert {\n",
              "      background-color: #E8F0FE;\n",
              "      border: none;\n",
              "      border-radius: 50%;\n",
              "      cursor: pointer;\n",
              "      display: none;\n",
              "      fill: #1967D2;\n",
              "      height: 32px;\n",
              "      padding: 0 0 0 0;\n",
              "      width: 32px;\n",
              "    }\n",
              "\n",
              "    .colab-df-convert:hover {\n",
              "      background-color: #E2EBFA;\n",
              "      box-shadow: 0px 1px 2px rgba(60, 64, 67, 0.3), 0px 1px 3px 1px rgba(60, 64, 67, 0.15);\n",
              "      fill: #174EA6;\n",
              "    }\n",
              "\n",
              "    [theme=dark] .colab-df-convert {\n",
              "      background-color: #3B4455;\n",
              "      fill: #D2E3FC;\n",
              "    }\n",
              "\n",
              "    [theme=dark] .colab-df-convert:hover {\n",
              "      background-color: #434B5C;\n",
              "      box-shadow: 0px 1px 3px 1px rgba(0, 0, 0, 0.15);\n",
              "      filter: drop-shadow(0px 1px 2px rgba(0, 0, 0, 0.3));\n",
              "      fill: #FFFFFF;\n",
              "    }\n",
              "  </style>\n",
              "\n",
              "      <script>\n",
              "        const buttonEl =\n",
              "          document.querySelector('#df-1eb2fc01-d27c-4ade-ae2b-964850cd11c4 button.colab-df-convert');\n",
              "        buttonEl.style.display =\n",
              "          google.colab.kernel.accessAllowed ? 'block' : 'none';\n",
              "\n",
              "        async function convertToInteractive(key) {\n",
              "          const element = document.querySelector('#df-1eb2fc01-d27c-4ade-ae2b-964850cd11c4');\n",
              "          const dataTable =\n",
              "            await google.colab.kernel.invokeFunction('convertToInteractive',\n",
              "                                                     [key], {});\n",
              "          if (!dataTable) return;\n",
              "\n",
              "          const docLinkHtml = 'Like what you see? Visit the ' +\n",
              "            '<a target=\"_blank\" href=https://colab.research.google.com/notebooks/data_table.ipynb>data table notebook</a>'\n",
              "            + ' to learn more about interactive tables.';\n",
              "          element.innerHTML = '';\n",
              "          dataTable['output_type'] = 'display_data';\n",
              "          await google.colab.output.renderOutput(dataTable, element);\n",
              "          const docLink = document.createElement('div');\n",
              "          docLink.innerHTML = docLinkHtml;\n",
              "          element.appendChild(docLink);\n",
              "        }\n",
              "      </script>\n",
              "    </div>\n",
              "  </div>\n",
              "  "
            ],
            "text/plain": [
              "                                                  review  star\n",
              "8925   ตามที่บอกเป็นร้านกาแฟที่เน้นขายเคกนะครับ มีหลา...     3\n",
              "4802   ร้านนี้อยู่ก่อนถึงถนนคนเดินค่ะ สามารถจอดรถได้ร...     4\n",
              "24339  อูมิ (Umi) คืออีกหนึ่งร้านซูชิที่ตั้งอยู่ในซอย...     5\n",
              "34701  ร้านนี้มีสโลแกน ปลูกผักเพราะรักแม่ ดังนั้นช่วง...     5\n",
              "31990  มาตามลายแทง เห็นร้านและการแต่งก็ตัดสินใจเลย ร้...     5\n",
              "...                                                  ...   ...\n",
              "27946  ร้านก๋วยเตี๋ยวหมูตุ๋นเจ้าเก่าดั้งเดิม ด้วยประส...     4\n",
              "27687  คะแนนรวมร้าน⭐️⭐️\\nบริการ⭐️⭐️\\nรสชาติ⭐️⭐️\\nราคา...     2\n",
              "4502   ร้านขนมข้าวกาแฟ บรรยากาศสบายๆมีน้องหมามาตอนรับ...     3\n",
              "31182  ร้านตั้งอยู่ริมถนน ถึงก่อนหมูบ้านสารินคับ ที่จ...     3\n",
              "11053  ถ้าจำไม่ผิดร้านนี้อยู่ร้านแรกทางขวามือของตึกเล...     2\n",
              "\n",
              "[36000 rows x 2 columns]"
            ]
          },
          "execution_count": 14,
          "metadata": {},
          "output_type": "execute_result"
        }
      ],
      "source": [
        "train"
      ]
    },
    {
      "cell_type": "code",
      "execution_count": null,
      "metadata": {
        "colab": {
          "base_uri": "https://localhost:8080/",
          "height": 423
        },
        "id": "E0AtGUpwFngb",
        "outputId": "ee0d0ea7-ae46-4949-cffd-9ff7e53a45e8"
      },
      "outputs": [
        {
          "data": {
            "text/html": [
              "\n",
              "  <div id=\"df-66004bfc-0058-4afd-af43-34ec932ee90c\">\n",
              "    <div class=\"colab-df-container\">\n",
              "      <div>\n",
              "<style scoped>\n",
              "    .dataframe tbody tr th:only-of-type {\n",
              "        vertical-align: middle;\n",
              "    }\n",
              "\n",
              "    .dataframe tbody tr th {\n",
              "        vertical-align: top;\n",
              "    }\n",
              "\n",
              "    .dataframe thead th {\n",
              "        text-align: right;\n",
              "    }\n",
              "</style>\n",
              "<table border=\"1\" class=\"dataframe\">\n",
              "  <thead>\n",
              "    <tr style=\"text-align: right;\">\n",
              "      <th></th>\n",
              "      <th>review</th>\n",
              "      <th>star</th>\n",
              "    </tr>\n",
              "  </thead>\n",
              "  <tbody>\n",
              "    <tr>\n",
              "      <th>17140</th>\n",
              "      <td>ร้านเก่า อร่อย ราคาเบาๆ \\nชอบเนื้อร้านนี้อร่อย...</td>\n",
              "      <td>4</td>\n",
              "    </tr>\n",
              "    <tr>\n",
              "      <th>26008</th>\n",
              "      <td>ใกล้ที่พักเลยลองเดินมาชิม \\n- โจ๊กอร่อยนะ 25 บ...</td>\n",
              "      <td>4</td>\n",
              "    </tr>\n",
              "    <tr>\n",
              "      <th>1021</th>\n",
              "      <td>ร้านอาหารครัวพวงพยอมอยู่บนเกาะล้าน พัทยา จ.ชลบ...</td>\n",
              "      <td>4</td>\n",
              "    </tr>\n",
              "    <tr>\n",
              "      <th>22522</th>\n",
              "      <td>ร้านนี้ญาติชวนมาเลี้ยงวันเกิด บอกว่าบรรยากาศดี...</td>\n",
              "      <td>3</td>\n",
              "    </tr>\n",
              "    <tr>\n",
              "      <th>6108</th>\n",
              "      <td>ชาบูราคา299 มีหมูสไลด์ เนื้อสไลด์ ของกินเล่นไข...</td>\n",
              "      <td>1</td>\n",
              "    </tr>\n",
              "    <tr>\n",
              "      <th>...</th>\n",
              "      <td>...</td>\n",
              "      <td>...</td>\n",
              "    </tr>\n",
              "    <tr>\n",
              "      <th>1930</th>\n",
              "      <td>ซูชิสายพาน สาขาสยามพารากอน ชั้น 4 แน่นอนว่าเลื...</td>\n",
              "      <td>4</td>\n",
              "    </tr>\n",
              "    <tr>\n",
              "      <th>14278</th>\n",
              "      <td>ร้านนี้กินบ่อย กินมานานมากกกก\\nชอบอะไร ชอบหมูต...</td>\n",
              "      <td>4</td>\n",
              "    </tr>\n",
              "    <tr>\n",
              "      <th>14748</th>\n",
              "      <td>ได้ยินชื่อเสียงร้านนี้จากเพื่อนๆ มานาน แต่ก็ยั...</td>\n",
              "      <td>4</td>\n",
              "    </tr>\n",
              "    <tr>\n",
              "      <th>33025</th>\n",
              "      <td>ร้านสมัยแรกๆที่เปิดตัวมาพร้อม I'm Park ช่วงเมน...</td>\n",
              "      <td>4</td>\n",
              "    </tr>\n",
              "    <tr>\n",
              "      <th>38749</th>\n",
              "      <td>พิกัด ชั้น 4 อาคารสยามวัน\\n\\nสมาชิกเคยมาทานแล้...</td>\n",
              "      <td>2</td>\n",
              "    </tr>\n",
              "  </tbody>\n",
              "</table>\n",
              "<p>4000 rows × 2 columns</p>\n",
              "</div>\n",
              "      <button class=\"colab-df-convert\" onclick=\"convertToInteractive('df-66004bfc-0058-4afd-af43-34ec932ee90c')\"\n",
              "              title=\"Convert this dataframe to an interactive table.\"\n",
              "              style=\"display:none;\">\n",
              "        \n",
              "  <svg xmlns=\"http://www.w3.org/2000/svg\" height=\"24px\"viewBox=\"0 0 24 24\"\n",
              "       width=\"24px\">\n",
              "    <path d=\"M0 0h24v24H0V0z\" fill=\"none\"/>\n",
              "    <path d=\"M18.56 5.44l.94 2.06.94-2.06 2.06-.94-2.06-.94-.94-2.06-.94 2.06-2.06.94zm-11 1L8.5 8.5l.94-2.06 2.06-.94-2.06-.94L8.5 2.5l-.94 2.06-2.06.94zm10 10l.94 2.06.94-2.06 2.06-.94-2.06-.94-.94-2.06-.94 2.06-2.06.94z\"/><path d=\"M17.41 7.96l-1.37-1.37c-.4-.4-.92-.59-1.43-.59-.52 0-1.04.2-1.43.59L10.3 9.45l-7.72 7.72c-.78.78-.78 2.05 0 2.83L4 21.41c.39.39.9.59 1.41.59.51 0 1.02-.2 1.41-.59l7.78-7.78 2.81-2.81c.8-.78.8-2.07 0-2.86zM5.41 20L4 18.59l7.72-7.72 1.47 1.35L5.41 20z\"/>\n",
              "  </svg>\n",
              "      </button>\n",
              "      \n",
              "  <style>\n",
              "    .colab-df-container {\n",
              "      display:flex;\n",
              "      flex-wrap:wrap;\n",
              "      gap: 12px;\n",
              "    }\n",
              "\n",
              "    .colab-df-convert {\n",
              "      background-color: #E8F0FE;\n",
              "      border: none;\n",
              "      border-radius: 50%;\n",
              "      cursor: pointer;\n",
              "      display: none;\n",
              "      fill: #1967D2;\n",
              "      height: 32px;\n",
              "      padding: 0 0 0 0;\n",
              "      width: 32px;\n",
              "    }\n",
              "\n",
              "    .colab-df-convert:hover {\n",
              "      background-color: #E2EBFA;\n",
              "      box-shadow: 0px 1px 2px rgba(60, 64, 67, 0.3), 0px 1px 3px 1px rgba(60, 64, 67, 0.15);\n",
              "      fill: #174EA6;\n",
              "    }\n",
              "\n",
              "    [theme=dark] .colab-df-convert {\n",
              "      background-color: #3B4455;\n",
              "      fill: #D2E3FC;\n",
              "    }\n",
              "\n",
              "    [theme=dark] .colab-df-convert:hover {\n",
              "      background-color: #434B5C;\n",
              "      box-shadow: 0px 1px 3px 1px rgba(0, 0, 0, 0.15);\n",
              "      filter: drop-shadow(0px 1px 2px rgba(0, 0, 0, 0.3));\n",
              "      fill: #FFFFFF;\n",
              "    }\n",
              "  </style>\n",
              "\n",
              "      <script>\n",
              "        const buttonEl =\n",
              "          document.querySelector('#df-66004bfc-0058-4afd-af43-34ec932ee90c button.colab-df-convert');\n",
              "        buttonEl.style.display =\n",
              "          google.colab.kernel.accessAllowed ? 'block' : 'none';\n",
              "\n",
              "        async function convertToInteractive(key) {\n",
              "          const element = document.querySelector('#df-66004bfc-0058-4afd-af43-34ec932ee90c');\n",
              "          const dataTable =\n",
              "            await google.colab.kernel.invokeFunction('convertToInteractive',\n",
              "                                                     [key], {});\n",
              "          if (!dataTable) return;\n",
              "\n",
              "          const docLinkHtml = 'Like what you see? Visit the ' +\n",
              "            '<a target=\"_blank\" href=https://colab.research.google.com/notebooks/data_table.ipynb>data table notebook</a>'\n",
              "            + ' to learn more about interactive tables.';\n",
              "          element.innerHTML = '';\n",
              "          dataTable['output_type'] = 'display_data';\n",
              "          await google.colab.output.renderOutput(dataTable, element);\n",
              "          const docLink = document.createElement('div');\n",
              "          docLink.innerHTML = docLinkHtml;\n",
              "          element.appendChild(docLink);\n",
              "        }\n",
              "      </script>\n",
              "    </div>\n",
              "  </div>\n",
              "  "
            ],
            "text/plain": [
              "                                                  review  star\n",
              "17140  ร้านเก่า อร่อย ราคาเบาๆ \\nชอบเนื้อร้านนี้อร่อย...     4\n",
              "26008  ใกล้ที่พักเลยลองเดินมาชิม \\n- โจ๊กอร่อยนะ 25 บ...     4\n",
              "1021   ร้านอาหารครัวพวงพยอมอยู่บนเกาะล้าน พัทยา จ.ชลบ...     4\n",
              "22522  ร้านนี้ญาติชวนมาเลี้ยงวันเกิด บอกว่าบรรยากาศดี...     3\n",
              "6108   ชาบูราคา299 มีหมูสไลด์ เนื้อสไลด์ ของกินเล่นไข...     1\n",
              "...                                                  ...   ...\n",
              "1930   ซูชิสายพาน สาขาสยามพารากอน ชั้น 4 แน่นอนว่าเลื...     4\n",
              "14278  ร้านนี้กินบ่อย กินมานานมากกกก\\nชอบอะไร ชอบหมูต...     4\n",
              "14748  ได้ยินชื่อเสียงร้านนี้จากเพื่อนๆ มานาน แต่ก็ยั...     4\n",
              "33025  ร้านสมัยแรกๆที่เปิดตัวมาพร้อม I'm Park ช่วงเมน...     4\n",
              "38749  พิกัด ชั้น 4 อาคารสยามวัน\\n\\nสมาชิกเคยมาทานแล้...     2\n",
              "\n",
              "[4000 rows x 2 columns]"
            ]
          },
          "execution_count": 15,
          "metadata": {},
          "output_type": "execute_result"
        }
      ],
      "source": [
        "test"
      ]
    },
    {
      "cell_type": "code",
      "execution_count": null,
      "metadata": {
        "id": "cF4SfsNz2rNC"
      },
      "outputs": [],
      "source": [
        "# Reduce data size for faster executions.\n",
        "train = train[:5000]\n",
        "test = test[:1000]"
      ]
    },
    {
      "cell_type": "code",
      "execution_count": null,
      "metadata": {
        "colab": {
          "base_uri": "https://localhost:8080/",
          "height": 423
        },
        "id": "JA7XV6Pcjo0q",
        "outputId": "f9f1be7a-c33c-4cbb-ba26-5f3960c922d7"
      },
      "outputs": [
        {
          "data": {
            "text/html": [
              "\n",
              "  <div id=\"df-22ff38a1-883b-4857-95b3-f1aa745fb697\">\n",
              "    <div class=\"colab-df-container\">\n",
              "      <div>\n",
              "<style scoped>\n",
              "    .dataframe tbody tr th:only-of-type {\n",
              "        vertical-align: middle;\n",
              "    }\n",
              "\n",
              "    .dataframe tbody tr th {\n",
              "        vertical-align: top;\n",
              "    }\n",
              "\n",
              "    .dataframe thead th {\n",
              "        text-align: right;\n",
              "    }\n",
              "</style>\n",
              "<table border=\"1\" class=\"dataframe\">\n",
              "  <thead>\n",
              "    <tr style=\"text-align: right;\">\n",
              "      <th></th>\n",
              "      <th>review</th>\n",
              "      <th>star</th>\n",
              "    </tr>\n",
              "  </thead>\n",
              "  <tbody>\n",
              "    <tr>\n",
              "      <th>8925</th>\n",
              "      <td>ตามที่บอกเป็นร้านกาแฟที่เน้นขายเคกนะครับ มีหลา...</td>\n",
              "      <td>3</td>\n",
              "    </tr>\n",
              "    <tr>\n",
              "      <th>4802</th>\n",
              "      <td>ร้านนี้อยู่ก่อนถึงถนนคนเดินค่ะ สามารถจอดรถได้ร...</td>\n",
              "      <td>4</td>\n",
              "    </tr>\n",
              "    <tr>\n",
              "      <th>24339</th>\n",
              "      <td>อูมิ (Umi) คืออีกหนึ่งร้านซูชิที่ตั้งอยู่ในซอย...</td>\n",
              "      <td>5</td>\n",
              "    </tr>\n",
              "    <tr>\n",
              "      <th>34701</th>\n",
              "      <td>ร้านนี้มีสโลแกน ปลูกผักเพราะรักแม่ ดังนั้นช่วง...</td>\n",
              "      <td>5</td>\n",
              "    </tr>\n",
              "    <tr>\n",
              "      <th>31990</th>\n",
              "      <td>มาตามลายแทง เห็นร้านและการแต่งก็ตัดสินใจเลย ร้...</td>\n",
              "      <td>5</td>\n",
              "    </tr>\n",
              "    <tr>\n",
              "      <th>...</th>\n",
              "      <td>...</td>\n",
              "      <td>...</td>\n",
              "    </tr>\n",
              "    <tr>\n",
              "      <th>15795</th>\n",
              "      <td>ถ้าพูดถึงร้านกาแฟในเชียงใหม่แล้วคงมีสักระดับพั...</td>\n",
              "      <td>5</td>\n",
              "    </tr>\n",
              "    <tr>\n",
              "      <th>28604</th>\n",
              "      <td>รีวิวช้าไปหน่อย จริงๆมากินวันวาเลนไทน์ อยากบอก...</td>\n",
              "      <td>4</td>\n",
              "    </tr>\n",
              "    <tr>\n",
              "      <th>20348</th>\n",
              "      <td>ร้านเชสเตอร์กริล สาขาขนส่งสายใต้ใหม่ เดินทางกร...</td>\n",
              "      <td>3</td>\n",
              "    </tr>\n",
              "    <tr>\n",
              "      <th>7953</th>\n",
              "      <td>ทานชาเขียวกีวี่+ไข่มุกเป็นประจำค่ะ \\nทานกี่สาข...</td>\n",
              "      <td>5</td>\n",
              "    </tr>\n",
              "    <tr>\n",
              "      <th>16387</th>\n",
              "      <td>ร้านเส้นแซ่บ ย่านตลาดรามอินทรา ร้านก๊วยเตี๋ยวเ...</td>\n",
              "      <td>3</td>\n",
              "    </tr>\n",
              "  </tbody>\n",
              "</table>\n",
              "<p>5000 rows × 2 columns</p>\n",
              "</div>\n",
              "      <button class=\"colab-df-convert\" onclick=\"convertToInteractive('df-22ff38a1-883b-4857-95b3-f1aa745fb697')\"\n",
              "              title=\"Convert this dataframe to an interactive table.\"\n",
              "              style=\"display:none;\">\n",
              "        \n",
              "  <svg xmlns=\"http://www.w3.org/2000/svg\" height=\"24px\"viewBox=\"0 0 24 24\"\n",
              "       width=\"24px\">\n",
              "    <path d=\"M0 0h24v24H0V0z\" fill=\"none\"/>\n",
              "    <path d=\"M18.56 5.44l.94 2.06.94-2.06 2.06-.94-2.06-.94-.94-2.06-.94 2.06-2.06.94zm-11 1L8.5 8.5l.94-2.06 2.06-.94-2.06-.94L8.5 2.5l-.94 2.06-2.06.94zm10 10l.94 2.06.94-2.06 2.06-.94-2.06-.94-.94-2.06-.94 2.06-2.06.94z\"/><path d=\"M17.41 7.96l-1.37-1.37c-.4-.4-.92-.59-1.43-.59-.52 0-1.04.2-1.43.59L10.3 9.45l-7.72 7.72c-.78.78-.78 2.05 0 2.83L4 21.41c.39.39.9.59 1.41.59.51 0 1.02-.2 1.41-.59l7.78-7.78 2.81-2.81c.8-.78.8-2.07 0-2.86zM5.41 20L4 18.59l7.72-7.72 1.47 1.35L5.41 20z\"/>\n",
              "  </svg>\n",
              "      </button>\n",
              "      \n",
              "  <style>\n",
              "    .colab-df-container {\n",
              "      display:flex;\n",
              "      flex-wrap:wrap;\n",
              "      gap: 12px;\n",
              "    }\n",
              "\n",
              "    .colab-df-convert {\n",
              "      background-color: #E8F0FE;\n",
              "      border: none;\n",
              "      border-radius: 50%;\n",
              "      cursor: pointer;\n",
              "      display: none;\n",
              "      fill: #1967D2;\n",
              "      height: 32px;\n",
              "      padding: 0 0 0 0;\n",
              "      width: 32px;\n",
              "    }\n",
              "\n",
              "    .colab-df-convert:hover {\n",
              "      background-color: #E2EBFA;\n",
              "      box-shadow: 0px 1px 2px rgba(60, 64, 67, 0.3), 0px 1px 3px 1px rgba(60, 64, 67, 0.15);\n",
              "      fill: #174EA6;\n",
              "    }\n",
              "\n",
              "    [theme=dark] .colab-df-convert {\n",
              "      background-color: #3B4455;\n",
              "      fill: #D2E3FC;\n",
              "    }\n",
              "\n",
              "    [theme=dark] .colab-df-convert:hover {\n",
              "      background-color: #434B5C;\n",
              "      box-shadow: 0px 1px 3px 1px rgba(0, 0, 0, 0.15);\n",
              "      filter: drop-shadow(0px 1px 2px rgba(0, 0, 0, 0.3));\n",
              "      fill: #FFFFFF;\n",
              "    }\n",
              "  </style>\n",
              "\n",
              "      <script>\n",
              "        const buttonEl =\n",
              "          document.querySelector('#df-22ff38a1-883b-4857-95b3-f1aa745fb697 button.colab-df-convert');\n",
              "        buttonEl.style.display =\n",
              "          google.colab.kernel.accessAllowed ? 'block' : 'none';\n",
              "\n",
              "        async function convertToInteractive(key) {\n",
              "          const element = document.querySelector('#df-22ff38a1-883b-4857-95b3-f1aa745fb697');\n",
              "          const dataTable =\n",
              "            await google.colab.kernel.invokeFunction('convertToInteractive',\n",
              "                                                     [key], {});\n",
              "          if (!dataTable) return;\n",
              "\n",
              "          const docLinkHtml = 'Like what you see? Visit the ' +\n",
              "            '<a target=\"_blank\" href=https://colab.research.google.com/notebooks/data_table.ipynb>data table notebook</a>'\n",
              "            + ' to learn more about interactive tables.';\n",
              "          element.innerHTML = '';\n",
              "          dataTable['output_type'] = 'display_data';\n",
              "          await google.colab.output.renderOutput(dataTable, element);\n",
              "          const docLink = document.createElement('div');\n",
              "          docLink.innerHTML = docLinkHtml;\n",
              "          element.appendChild(docLink);\n",
              "        }\n",
              "      </script>\n",
              "    </div>\n",
              "  </div>\n",
              "  "
            ],
            "text/plain": [
              "                                                  review  star\n",
              "8925   ตามที่บอกเป็นร้านกาแฟที่เน้นขายเคกนะครับ มีหลา...     3\n",
              "4802   ร้านนี้อยู่ก่อนถึงถนนคนเดินค่ะ สามารถจอดรถได้ร...     4\n",
              "24339  อูมิ (Umi) คืออีกหนึ่งร้านซูชิที่ตั้งอยู่ในซอย...     5\n",
              "34701  ร้านนี้มีสโลแกน ปลูกผักเพราะรักแม่ ดังนั้นช่วง...     5\n",
              "31990  มาตามลายแทง เห็นร้านและการแต่งก็ตัดสินใจเลย ร้...     5\n",
              "...                                                  ...   ...\n",
              "15795  ถ้าพูดถึงร้านกาแฟในเชียงใหม่แล้วคงมีสักระดับพั...     5\n",
              "28604  รีวิวช้าไปหน่อย จริงๆมากินวันวาเลนไทน์ อยากบอก...     4\n",
              "20348  ร้านเชสเตอร์กริล สาขาขนส่งสายใต้ใหม่ เดินทางกร...     3\n",
              "7953   ทานชาเขียวกีวี่+ไข่มุกเป็นประจำค่ะ \\nทานกี่สาข...     5\n",
              "16387  ร้านเส้นแซ่บ ย่านตลาดรามอินทรา ร้านก๊วยเตี๋ยวเ...     3\n",
              "\n",
              "[5000 rows x 2 columns]"
            ]
          },
          "execution_count": 17,
          "metadata": {},
          "output_type": "execute_result"
        }
      ],
      "source": [
        "train"
      ]
    },
    {
      "cell_type": "code",
      "execution_count": null,
      "metadata": {
        "colab": {
          "base_uri": "https://localhost:8080/",
          "height": 423
        },
        "id": "3L_5I6Jvj0EQ",
        "outputId": "33479707-5588-4467-9f55-f72bf1aae282"
      },
      "outputs": [
        {
          "data": {
            "text/html": [
              "\n",
              "  <div id=\"df-d151146c-d2fb-483c-8e40-c7a2547d4001\">\n",
              "    <div class=\"colab-df-container\">\n",
              "      <div>\n",
              "<style scoped>\n",
              "    .dataframe tbody tr th:only-of-type {\n",
              "        vertical-align: middle;\n",
              "    }\n",
              "\n",
              "    .dataframe tbody tr th {\n",
              "        vertical-align: top;\n",
              "    }\n",
              "\n",
              "    .dataframe thead th {\n",
              "        text-align: right;\n",
              "    }\n",
              "</style>\n",
              "<table border=\"1\" class=\"dataframe\">\n",
              "  <thead>\n",
              "    <tr style=\"text-align: right;\">\n",
              "      <th></th>\n",
              "      <th>review</th>\n",
              "      <th>star</th>\n",
              "    </tr>\n",
              "  </thead>\n",
              "  <tbody>\n",
              "    <tr>\n",
              "      <th>17140</th>\n",
              "      <td>ร้านเก่า อร่อย ราคาเบาๆ \\nชอบเนื้อร้านนี้อร่อย...</td>\n",
              "      <td>4</td>\n",
              "    </tr>\n",
              "    <tr>\n",
              "      <th>26008</th>\n",
              "      <td>ใกล้ที่พักเลยลองเดินมาชิม \\n- โจ๊กอร่อยนะ 25 บ...</td>\n",
              "      <td>4</td>\n",
              "    </tr>\n",
              "    <tr>\n",
              "      <th>1021</th>\n",
              "      <td>ร้านอาหารครัวพวงพยอมอยู่บนเกาะล้าน พัทยา จ.ชลบ...</td>\n",
              "      <td>4</td>\n",
              "    </tr>\n",
              "    <tr>\n",
              "      <th>22522</th>\n",
              "      <td>ร้านนี้ญาติชวนมาเลี้ยงวันเกิด บอกว่าบรรยากาศดี...</td>\n",
              "      <td>3</td>\n",
              "    </tr>\n",
              "    <tr>\n",
              "      <th>6108</th>\n",
              "      <td>ชาบูราคา299 มีหมูสไลด์ เนื้อสไลด์ ของกินเล่นไข...</td>\n",
              "      <td>1</td>\n",
              "    </tr>\n",
              "    <tr>\n",
              "      <th>...</th>\n",
              "      <td>...</td>\n",
              "      <td>...</td>\n",
              "    </tr>\n",
              "    <tr>\n",
              "      <th>462</th>\n",
              "      <td>ร้านอาหารทะเลแบบพื้นๆม่ีไม่มีอะไรมากมายในการตก...</td>\n",
              "      <td>5</td>\n",
              "    </tr>\n",
              "    <tr>\n",
              "      <th>3379</th>\n",
              "      <td>สวัสดีค่าาาา\\nคราวนี้บีจะมารีวิวร้านอาหาร sush...</td>\n",
              "      <td>4</td>\n",
              "    </tr>\n",
              "    <tr>\n",
              "      <th>8177</th>\n",
              "      <td>ร้านกาแฟร้านนี้ ถ้าใคนได้แวะเวียนไปที่สวนผึ้ง ...</td>\n",
              "      <td>3</td>\n",
              "    </tr>\n",
              "    <tr>\n",
              "      <th>20896</th>\n",
              "      <td>Quip sky bar roof top แห่งแรกบนภูเก็ตครับ\\nเป็...</td>\n",
              "      <td>4</td>\n",
              "    </tr>\n",
              "    <tr>\n",
              "      <th>16048</th>\n",
              "      <td>ร้าน Oishi Buffet เซ็นทรัลพระราม 9 ร้านอยู่ชั้...</td>\n",
              "      <td>3</td>\n",
              "    </tr>\n",
              "  </tbody>\n",
              "</table>\n",
              "<p>1000 rows × 2 columns</p>\n",
              "</div>\n",
              "      <button class=\"colab-df-convert\" onclick=\"convertToInteractive('df-d151146c-d2fb-483c-8e40-c7a2547d4001')\"\n",
              "              title=\"Convert this dataframe to an interactive table.\"\n",
              "              style=\"display:none;\">\n",
              "        \n",
              "  <svg xmlns=\"http://www.w3.org/2000/svg\" height=\"24px\"viewBox=\"0 0 24 24\"\n",
              "       width=\"24px\">\n",
              "    <path d=\"M0 0h24v24H0V0z\" fill=\"none\"/>\n",
              "    <path d=\"M18.56 5.44l.94 2.06.94-2.06 2.06-.94-2.06-.94-.94-2.06-.94 2.06-2.06.94zm-11 1L8.5 8.5l.94-2.06 2.06-.94-2.06-.94L8.5 2.5l-.94 2.06-2.06.94zm10 10l.94 2.06.94-2.06 2.06-.94-2.06-.94-.94-2.06-.94 2.06-2.06.94z\"/><path d=\"M17.41 7.96l-1.37-1.37c-.4-.4-.92-.59-1.43-.59-.52 0-1.04.2-1.43.59L10.3 9.45l-7.72 7.72c-.78.78-.78 2.05 0 2.83L4 21.41c.39.39.9.59 1.41.59.51 0 1.02-.2 1.41-.59l7.78-7.78 2.81-2.81c.8-.78.8-2.07 0-2.86zM5.41 20L4 18.59l7.72-7.72 1.47 1.35L5.41 20z\"/>\n",
              "  </svg>\n",
              "      </button>\n",
              "      \n",
              "  <style>\n",
              "    .colab-df-container {\n",
              "      display:flex;\n",
              "      flex-wrap:wrap;\n",
              "      gap: 12px;\n",
              "    }\n",
              "\n",
              "    .colab-df-convert {\n",
              "      background-color: #E8F0FE;\n",
              "      border: none;\n",
              "      border-radius: 50%;\n",
              "      cursor: pointer;\n",
              "      display: none;\n",
              "      fill: #1967D2;\n",
              "      height: 32px;\n",
              "      padding: 0 0 0 0;\n",
              "      width: 32px;\n",
              "    }\n",
              "\n",
              "    .colab-df-convert:hover {\n",
              "      background-color: #E2EBFA;\n",
              "      box-shadow: 0px 1px 2px rgba(60, 64, 67, 0.3), 0px 1px 3px 1px rgba(60, 64, 67, 0.15);\n",
              "      fill: #174EA6;\n",
              "    }\n",
              "\n",
              "    [theme=dark] .colab-df-convert {\n",
              "      background-color: #3B4455;\n",
              "      fill: #D2E3FC;\n",
              "    }\n",
              "\n",
              "    [theme=dark] .colab-df-convert:hover {\n",
              "      background-color: #434B5C;\n",
              "      box-shadow: 0px 1px 3px 1px rgba(0, 0, 0, 0.15);\n",
              "      filter: drop-shadow(0px 1px 2px rgba(0, 0, 0, 0.3));\n",
              "      fill: #FFFFFF;\n",
              "    }\n",
              "  </style>\n",
              "\n",
              "      <script>\n",
              "        const buttonEl =\n",
              "          document.querySelector('#df-d151146c-d2fb-483c-8e40-c7a2547d4001 button.colab-df-convert');\n",
              "        buttonEl.style.display =\n",
              "          google.colab.kernel.accessAllowed ? 'block' : 'none';\n",
              "\n",
              "        async function convertToInteractive(key) {\n",
              "          const element = document.querySelector('#df-d151146c-d2fb-483c-8e40-c7a2547d4001');\n",
              "          const dataTable =\n",
              "            await google.colab.kernel.invokeFunction('convertToInteractive',\n",
              "                                                     [key], {});\n",
              "          if (!dataTable) return;\n",
              "\n",
              "          const docLinkHtml = 'Like what you see? Visit the ' +\n",
              "            '<a target=\"_blank\" href=https://colab.research.google.com/notebooks/data_table.ipynb>data table notebook</a>'\n",
              "            + ' to learn more about interactive tables.';\n",
              "          element.innerHTML = '';\n",
              "          dataTable['output_type'] = 'display_data';\n",
              "          await google.colab.output.renderOutput(dataTable, element);\n",
              "          const docLink = document.createElement('div');\n",
              "          docLink.innerHTML = docLinkHtml;\n",
              "          element.appendChild(docLink);\n",
              "        }\n",
              "      </script>\n",
              "    </div>\n",
              "  </div>\n",
              "  "
            ],
            "text/plain": [
              "                                                  review  star\n",
              "17140  ร้านเก่า อร่อย ราคาเบาๆ \\nชอบเนื้อร้านนี้อร่อย...     4\n",
              "26008  ใกล้ที่พักเลยลองเดินมาชิม \\n- โจ๊กอร่อยนะ 25 บ...     4\n",
              "1021   ร้านอาหารครัวพวงพยอมอยู่บนเกาะล้าน พัทยา จ.ชลบ...     4\n",
              "22522  ร้านนี้ญาติชวนมาเลี้ยงวันเกิด บอกว่าบรรยากาศดี...     3\n",
              "6108   ชาบูราคา299 มีหมูสไลด์ เนื้อสไลด์ ของกินเล่นไข...     1\n",
              "...                                                  ...   ...\n",
              "462    ร้านอาหารทะเลแบบพื้นๆม่ีไม่มีอะไรมากมายในการตก...     5\n",
              "3379   สวัสดีค่าาาา\\nคราวนี้บีจะมารีวิวร้านอาหาร sush...     4\n",
              "8177   ร้านกาแฟร้านนี้ ถ้าใคนได้แวะเวียนไปที่สวนผึ้ง ...     3\n",
              "20896  Quip sky bar roof top แห่งแรกบนภูเก็ตครับ\\nเป็...     4\n",
              "16048  ร้าน Oishi Buffet เซ็นทรัลพระราม 9 ร้านอยู่ชั้...     3\n",
              "\n",
              "[1000 rows x 2 columns]"
            ]
          },
          "execution_count": 18,
          "metadata": {},
          "output_type": "execute_result"
        }
      ],
      "source": [
        "test"
      ]
    },
    {
      "cell_type": "markdown",
      "metadata": {
        "id": "XgGHy_35tqvd"
      },
      "source": [
        "### Data Distribution & Up Sampling using SMOTE"
      ]
    },
    {
      "cell_type": "code",
      "execution_count": null,
      "metadata": {
        "colab": {
          "base_uri": "https://localhost:8080/",
          "height": 283
        },
        "id": "BOlbQ782tqVZ",
        "outputId": "a5e2d92f-b0e4-4b80-8eb9-cd64acefeb1a"
      },
      "outputs": [
        {
          "data": {
            "text/plain": [
              "<AxesSubplot:>"
            ]
          },
          "execution_count": 19,
          "metadata": {},
          "output_type": "execute_result"
        },
        {
          "data": {
            "image/png": "[encoded data removed]",
            "text/plain": [
              "<Figure size 432x288 with 1 Axes>"
            ]
          },
          "metadata": {},
          "output_type": "display_data"
        }
      ],
      "source": [
        "train[\"star\"].hist()"
      ]
    },
    {
      "cell_type": "code",
      "execution_count": null,
      "metadata": {
        "colab": {
          "base_uri": "https://localhost:8080/",
          "height": 284
        },
        "id": "aVJdATpEtxXz",
        "outputId": "f0b58436-3e33-4a45-f0b5-7440a61926d7"
      },
      "outputs": [
        {
          "data": {
            "text/plain": [
              "<AxesSubplot:>"
            ]
          },
          "execution_count": 20,
          "metadata": {},
          "output_type": "execute_result"
        },
        {
          "data": {
            "image/png": "[encoded data removed]",
            "text/plain": [
              "<Figure size 432x288 with 1 Axes>"
            ]
          },
          "metadata": {},
          "output_type": "display_data"
        }
      ],
      "source": [
        "test[\"star\"].hist()"
      ]
    },
    {
      "cell_type": "code",
      "execution_count": null,
      "metadata": {
        "id": "9qftl-8Kt6bx"
      },
      "outputs": [],
      "source": [
        "# Up sampling & Down sampling of text data using SMOTE\n",
        "from imblearn.over_sampling import SMOTE\n",
        "from sklearn.preprocessing import LabelBinarizer\n",
        "\n",
        "sm = SMOTE(random_state = 2)\n",
        "lb = LabelBinarizer()\n",
        "\n",
        "# Waiting for 1 min and consume high memory\n",
        "# If you not in Colab Pro, it will failed due to not enough memory:\n",
        "# may be resize the size of training down to just see how it works\n",
        "# e.g., train_balance = train[:1000]\n",
        "\n",
        "X_train = lb.fit_transform(train[\"review\"])\n",
        "X_train_bin, y = sm.fit_resample(X_train, train[\"star\"])\n",
        "X = lb.inverse_transform(X_train_bin)"
      ]
    },
    {
      "cell_type": "code",
      "execution_count": null,
      "metadata": {
        "colab": {
          "base_uri": "https://localhost:8080/"
        },
        "id": "BvPkUEvcwNRR",
        "outputId": "5352c031-ef47-4a1f-e62e-173f9221686c"
      },
      "outputs": [
        {
          "data": {
            "text/plain": [
              "array(['ตามที่บอกเป็นร้านกาแฟที่เน้นขายเคกนะครับ มีหลายแบบให้เลือกกิน สำหรับตนกลัวอ้วนผมไม่แนะนำนะครับ อ้วนแน่ๆ ฮิฮิ แต่ตามที่บอกเคกน่ากินแต่ราคาอาจจะแพงนิดนึง ไม่ดิค่อนข้างแพงถ้าเทียบกับร้านอื่น จริงๆ ผมดูมสแล้ว แต่ก็อร่อยพอตัว ทางร้านเลยมั่นใจที่จะขายราคาแพงนิดนึง ผมว่านะ ไม่รู้จริงหรือเปล่า',\n",
              "       'ร้านนี้อยู่ก่อนถึงถนนคนเดินค่ะ สามารถจอดรถได้ริมถนนหน้าร้าน \\nการบริการที่นี่ โอเคค่ะ เหมือนร้านทั่วไป\\nเมนูที่สั่งคราวนี้\\n-ปลาผัดพริกขิง จานนี้อร่อย ปลาทอดแยกกับถั่วฝักยาวผัดเครื่องแกง จึงทำให้ไม่นิ่มไม่แฉะ รสชาติเผ็ดเค็มถึงรสมากค่ะ\\n-ออเดิฟเมืองน้ำพริกหนุ่ม น้ำพริกหนุ่มที่นี่อร่อยมากค่ะ ไม่เผ็ดทำให้ทานได้เรื่อยๆ ในเซทจะมีผักต้ม ไข่ต้ม แหนม แคบหมู หมูทอด ไส้อั่วค่ะ\\n-ปลาทอดยำมะม่วง ปลาช่อนทอดมากำลังดีไม่แข็ง ไม่มีกลิ่น น้ำยำครบรสดีค่ะ อร่อยค่ะ\\n-เห็ดหอมตุ๋นซี่โครงหมู เมนูนี้เฉยๆค่ะ\\n',\n",
              "       'อูมิ (Umi) คืออีกหนึ่งร้านซูชิที่ตั้งอยู่ในซอยทองหล่อ 13 (โครงการพิมาน 49) ซอยที่เต็มไปด้วยร้านอาหารหลากหลายสัญชาติ ความโดดเด่นของอูมิ อยู่ตรงที่ร้านนี้เป็นร้านอาหารญี่ปุ่นสไตล์โอมากะเสะ (Omakase) หรือแปลเป็นไทยว่าตามใจเชฟ, แล้วแต่เชฟ หรือว่าเชฟจัดให้ ต้องยอมรับว่าสิ่งที่เชฟจัดให้ที่นี่ เป็นซูชิแบบดังเดิมที่พบเจอได้น้อยในประเทศไทย หลาย ๆ คนอาจคุ้นเคยกับเรื่องของการเสิร์ฟอาหารญี่ปุ่นโดยเฉพาะปลาดิบที่บอกว่ายิ่งสดยิ่งดี แต่ความจริงปลาบางชนิดต้องผ่านการหมักและบ่มไว้ก่อนเพื่อให้เนื้อปลาได้รสชาติที่ดียิ่งขึ้นซึ่งที่อูมิแห่งนี้เมนูซูชิหลาย ๆ เมนูแต่ละคำเสิร์ฟแบบญี่ปุ่นแท้ ๆ โดยทางร้านตั้งใจที่จะนำเสนอแต่ละเมนูและนำเสนอรสสัมผัสที่แท้จริงของวัตถุดิบนั้น ๆ และที่สำคัญที่นี่เราจะได้รับประทานชูชิพอดีคำที่เสิร์ฟมาพร้อมกับวาซาบิสด ๆ\\n\\nหากคุณเป็นซูชิเลิฟเวอร์ คุณต้องหาเวลามาลิ้มลองความอร่อยของซูชิอูมิ แห่งนี้',\n",
              "       ...,\n",
              "       '\\n\\n\\n\\n\\nร้าน Dakasi เป็นร้านเครื่องดื่มครับ มีหลายสาขากันเลยทีเดียว\\nสำหรับสาขานี้คือเซ็นทรัลลาดพร้าวครับ ร้านนี้ตั้งอยู่ตรงข้ามกับ\\nร้านแมคโดนัลด์และฟู๊ดคอสตรงท็อปซูเปอมาเก็ตครับ ซึ่งเป็นร้าน\\nเล็กๆขนาดจิ๋ว ที่ไม่มีที่นั่งใดๆ\\n\\n\\nเมนูร้านนี้มีให้เลือกเยอะครับ แบ่งเป็นหลายๆหมวดเลยครับอย่างเช่น\\n\\n- หมวดชานม ก็จะมีรสฮันนี่มิลค์ที (40 บาท),ช็อคโก-\\nแลตสโนว์ (40 บาท),มัทฉะมิลค์ที (50บาท) หมวดมิลค์ทีนี้\\nราคาจะอยู่ระหว่าง 35-50 บาทครับ\\n\\n- หมวด Smoothies เช่น มอคค่าสมูทตี้ (70บาท),แมงโก้สมูทตี้ \\n(65บาท) ราคาหมวดนี้จะอยู่ที่ 65-70 บาทครับ\\n\\n- หมวด Pudding เช่น คลาสสิคมิลค์ทีพุดดิ้งนม/ช็อก (45บาท),\\nสตรอเบอรี่โอเลต์พุดดิ้งนมมาร์ชเมลโล พุดดิ้ง (60บาท) ราคาจะอยู่\\nที่45-60 บาทครับ\\n\\nนอกจากนี้ยังมีอีกหลายหมวดนะครับ เยอะมากๆ ถึงกับเลือกยากกันเลย\\nทีเดียว เพราะน่าทานไปหมดครับ\\n\\n\\nร้านนี้มีข้อดีกว่าบางร้านคือมีให้เลือกหลายทอปปิ้งครับ จากไข่มุก\\nเปลี่ยนเป็น เยลลี่สัปปะรด,เยลลี่กาแฟ,โอรีโอ้,พุดดิ้งนม,เฉาก๊วย เป็นต้น\\nราคาอยู่ที่ 5-10 บาทเท่านั้นครับ\\n\\n\\nสำหรับเมนูในวันนี้มี ฮันนี่สตรอบเบอรี่สแปลช ราคา 40 บาทครับ\\nรสชาติหวานๆเปรี้ยวๆปนกัน อร่อยครับ ทานแล้วสดชื่น ตื่นดีครับ\\n\\nส่วนอีกแก้วเป็น คลาสสิคมิลค์ทีใส่ไข่มุกครับ 40 บาท รสชาติก็อร่อย\\nไม่หวานเกิน ไข่มุกหนึบดีครับ ไม่เละเกิน\\n\\n\\nผมเป็นคนชอบทานชานมครับ หรือเครื่องดื่มหวานๆ ทำให้ต้องอยากลอง\\nหลายๆร้านดูครับ จะได้มีทางเลือกใหม่ แต่จริงๆแล้วก็รสชาติไม่ได้\\nแตกต่างกันมากหรอกครับ อาจจะต่างแค่ไข่มุกในความเละหนึบครับ\\n',\n",
              "       '\\n\\n\\n\\n\\nร้าน Dakasi เป็นร้านเครื่องดื่มครับ มีหลายสาขากันเลยทีเดียว\\nสำหรับสาขานี้คือเซ็นทรัลลาดพร้าวครับ ร้านนี้ตั้งอยู่ตรงข้ามกับ\\nร้านแมคโดนัลด์และฟู๊ดคอสตรงท็อปซูเปอมาเก็ตครับ ซึ่งเป็นร้าน\\nเล็กๆขนาดจิ๋ว ที่ไม่มีที่นั่งใดๆ\\n\\n\\nเมนูร้านนี้มีให้เลือกเยอะครับ แบ่งเป็นหลายๆหมวดเลยครับอย่างเช่น\\n\\n- หมวดชานม ก็จะมีรสฮันนี่มิลค์ที (40 บาท),ช็อคโก-\\nแลตสโนว์ (40 บาท),มัทฉะมิลค์ที (50บาท) หมวดมิลค์ทีนี้\\nราคาจะอยู่ระหว่าง 35-50 บาทครับ\\n\\n- หมวด Smoothies เช่น มอคค่าสมูทตี้ (70บาท),แมงโก้สมูทตี้ \\n(65บาท) ราคาหมวดนี้จะอยู่ที่ 65-70 บาทครับ\\n\\n- หมวด Pudding เช่น คลาสสิคมิลค์ทีพุดดิ้งนม/ช็อก (45บาท),\\nสตรอเบอรี่โอเลต์พุดดิ้งนมมาร์ชเมลโล พุดดิ้ง (60บาท) ราคาจะอยู่\\nที่45-60 บาทครับ\\n\\nนอกจากนี้ยังมีอีกหลายหมวดนะครับ เยอะมากๆ ถึงกับเลือกยากกันเลย\\nทีเดียว เพราะน่าทานไปหมดครับ\\n\\n\\nร้านนี้มีข้อดีกว่าบางร้านคือมีให้เลือกหลายทอปปิ้งครับ จากไข่มุก\\nเปลี่ยนเป็น เยลลี่สัปปะรด,เยลลี่กาแฟ,โอรีโอ้,พุดดิ้งนม,เฉาก๊วย เป็นต้น\\nราคาอยู่ที่ 5-10 บาทเท่านั้นครับ\\n\\n\\nสำหรับเมนูในวันนี้มี ฮันนี่สตรอบเบอรี่สแปลช ราคา 40 บาทครับ\\nรสชาติหวานๆเปรี้ยวๆปนกัน อร่อยครับ ทานแล้วสดชื่น ตื่นดีครับ\\n\\nส่วนอีกแก้วเป็น คลาสสิคมิลค์ทีใส่ไข่มุกครับ 40 บาท รสชาติก็อร่อย\\nไม่หวานเกิน ไข่มุกหนึบดีครับ ไม่เละเกิน\\n\\n\\nผมเป็นคนชอบทานชานมครับ หรือเครื่องดื่มหวานๆ ทำให้ต้องอยากลอง\\nหลายๆร้านดูครับ จะได้มีทางเลือกใหม่ แต่จริงๆแล้วก็รสชาติไม่ได้\\nแตกต่างกันมากหรอกครับ อาจจะต่างแค่ไข่มุกในความเละหนึบครับ\\n',\n",
              "       '\\n\\n\\n\\n\\nร้าน Dakasi เป็นร้านเครื่องดื่มครับ มีหลายสาขากันเลยทีเดียว\\nสำหรับสาขานี้คือเซ็นทรัลลาดพร้าวครับ ร้านนี้ตั้งอยู่ตรงข้ามกับ\\nร้านแมคโดนัลด์และฟู๊ดคอสตรงท็อปซูเปอมาเก็ตครับ ซึ่งเป็นร้าน\\nเล็กๆขนาดจิ๋ว ที่ไม่มีที่นั่งใดๆ\\n\\n\\nเมนูร้านนี้มีให้เลือกเยอะครับ แบ่งเป็นหลายๆหมวดเลยครับอย่างเช่น\\n\\n- หมวดชานม ก็จะมีรสฮันนี่มิลค์ที (40 บาท),ช็อคโก-\\nแลตสโนว์ (40 บาท),มัทฉะมิลค์ที (50บาท) หมวดมิลค์ทีนี้\\nราคาจะอยู่ระหว่าง 35-50 บาทครับ\\n\\n- หมวด Smoothies เช่น มอคค่าสมูทตี้ (70บาท),แมงโก้สมูทตี้ \\n(65บาท) ราคาหมวดนี้จะอยู่ที่ 65-70 บาทครับ\\n\\n- หมวด Pudding เช่น คลาสสิคมิลค์ทีพุดดิ้งนม/ช็อก (45บาท),\\nสตรอเบอรี่โอเลต์พุดดิ้งนมมาร์ชเมลโล พุดดิ้ง (60บาท) ราคาจะอยู่\\nที่45-60 บาทครับ\\n\\nนอกจากนี้ยังมีอีกหลายหมวดนะครับ เยอะมากๆ ถึงกับเลือกยากกันเลย\\nทีเดียว เพราะน่าทานไปหมดครับ\\n\\n\\nร้านนี้มีข้อดีกว่าบางร้านคือมีให้เลือกหลายทอปปิ้งครับ จากไข่มุก\\nเปลี่ยนเป็น เยลลี่สัปปะรด,เยลลี่กาแฟ,โอรีโอ้,พุดดิ้งนม,เฉาก๊วย เป็นต้น\\nราคาอยู่ที่ 5-10 บาทเท่านั้นครับ\\n\\n\\nสำหรับเมนูในวันนี้มี ฮันนี่สตรอบเบอรี่สแปลช ราคา 40 บาทครับ\\nรสชาติหวานๆเปรี้ยวๆปนกัน อร่อยครับ ทานแล้วสดชื่น ตื่นดีครับ\\n\\nส่วนอีกแก้วเป็น คลาสสิคมิลค์ทีใส่ไข่มุกครับ 40 บาท รสชาติก็อร่อย\\nไม่หวานเกิน ไข่มุกหนึบดีครับ ไม่เละเกิน\\n\\n\\nผมเป็นคนชอบทานชานมครับ หรือเครื่องดื่มหวานๆ ทำให้ต้องอยากลอง\\nหลายๆร้านดูครับ จะได้มีทางเลือกใหม่ แต่จริงๆแล้วก็รสชาติไม่ได้\\nแตกต่างกันมากหรอกครับ อาจจะต่างแค่ไข่มุกในความเละหนึบครับ\\n'],\n",
              "      dtype='<U9568')"
            ]
          },
          "execution_count": 22,
          "metadata": {},
          "output_type": "execute_result"
        }
      ],
      "source": [
        "X"
      ]
    },
    {
      "cell_type": "code",
      "execution_count": null,
      "metadata": {
        "colab": {
          "base_uri": "https://localhost:8080/"
        },
        "id": "en4fZxXJwOCp",
        "outputId": "911690da-1c61-4134-f581-7e0786fa8d66"
      },
      "outputs": [
        {
          "data": {
            "text/plain": [
              "0        3\n",
              "1        4\n",
              "2        5\n",
              "3        5\n",
              "4        5\n",
              "        ..\n",
              "11740    5\n",
              "11741    5\n",
              "11742    5\n",
              "11743    5\n",
              "11744    5\n",
              "Name: star, Length: 11745, dtype: int64"
            ]
          },
          "execution_count": 23,
          "metadata": {},
          "output_type": "execute_result"
        }
      ],
      "source": [
        "y"
      ]
    },
    {
      "cell_type": "code",
      "execution_count": null,
      "metadata": {
        "id": "6RpFYeR2w1aG"
      },
      "outputs": [],
      "source": [
        "import pandas as pd\n",
        "train_bal = pd.DataFrame({'review': X, 'star': y})"
      ]
    },
    {
      "cell_type": "code",
      "execution_count": null,
      "metadata": {
        "colab": {
          "base_uri": "https://localhost:8080/",
          "height": 283
        },
        "id": "0CdT1NJ3xGp0",
        "outputId": "0940578e-597b-463a-dd8d-f83076016e6a"
      },
      "outputs": [
        {
          "data": {
            "text/plain": [
              "<AxesSubplot:>"
            ]
          },
          "execution_count": 25,
          "metadata": {},
          "output_type": "execute_result"
        },
        {
          "data": {
            "image/png": "[encoded data removed]",
            "text/plain": [
              "<Figure size 432x288 with 1 Axes>"
            ]
          },
          "metadata": {},
          "output_type": "display_data"
        }
      ],
      "source": [
        "train_bal['star'].hist()"
      ]
    },
    {
      "cell_type": "code",
      "execution_count": null,
      "metadata": {
        "id": "mFxGDrJq3aYu"
      },
      "outputs": [],
      "source": [
        "# Making decision using either the balanced dataset or the original dataset\n",
        "train = train_bal"
      ]
    },
    {
      "cell_type": "markdown",
      "metadata": {
        "id": "Ohom-bDVlg-F"
      },
      "source": [
        "#### Cleaning Data"
      ]
    },
    {
      "cell_type": "code",
      "execution_count": null,
      "metadata": {
        "colab": {
          "base_uri": "https://localhost:8080/",
          "height": 423
        },
        "id": "RBzRcesI-8SU",
        "outputId": "10a00e37-2ead-4b18-f394-3293d3426e51"
      },
      "outputs": [
        {
          "data": {
            "text/html": [
              "\n",
              "  <div id=\"df-169f59b8-1535-46af-a20d-be35392862ff\">\n",
              "    <div class=\"colab-df-container\">\n",
              "      <div>\n",
              "<style scoped>\n",
              "    .dataframe tbody tr th:only-of-type {\n",
              "        vertical-align: middle;\n",
              "    }\n",
              "\n",
              "    .dataframe tbody tr th {\n",
              "        vertical-align: top;\n",
              "    }\n",
              "\n",
              "    .dataframe thead th {\n",
              "        text-align: right;\n",
              "    }\n",
              "</style>\n",
              "<table border=\"1\" class=\"dataframe\">\n",
              "  <thead>\n",
              "    <tr style=\"text-align: right;\">\n",
              "      <th></th>\n",
              "      <th>review</th>\n",
              "      <th>star</th>\n",
              "    </tr>\n",
              "  </thead>\n",
              "  <tbody>\n",
              "    <tr>\n",
              "      <th>0</th>\n",
              "      <td>ตามที่บอกเป็นร้านกาแฟที่เน้นขายเคกนะครับ มีหลา...</td>\n",
              "      <td>3</td>\n",
              "    </tr>\n",
              "    <tr>\n",
              "      <th>1</th>\n",
              "      <td>ร้านนี้อยู่ก่อนถึงถนนคนเดินค่ะ สามารถจอดรถได้ร...</td>\n",
              "      <td>4</td>\n",
              "    </tr>\n",
              "    <tr>\n",
              "      <th>2</th>\n",
              "      <td>อูมิ (Umi) คืออีกหนึ่งร้านซูชิที่ตั้งอยู่ในซอย...</td>\n",
              "      <td>5</td>\n",
              "    </tr>\n",
              "    <tr>\n",
              "      <th>3</th>\n",
              "      <td>ร้านนี้มีสโลแกน ปลูกผักเพราะรักแม่ ดังนั้นช่วง...</td>\n",
              "      <td>5</td>\n",
              "    </tr>\n",
              "    <tr>\n",
              "      <th>4</th>\n",
              "      <td>มาตามลายแทง เห็นร้านและการแต่งก็ตัดสินใจเลย ร้...</td>\n",
              "      <td>5</td>\n",
              "    </tr>\n",
              "    <tr>\n",
              "      <th>...</th>\n",
              "      <td>...</td>\n",
              "      <td>...</td>\n",
              "    </tr>\n",
              "    <tr>\n",
              "      <th>11740</th>\n",
              "      <td>\\n\\n\\n\\n\\nร้าน Dakasi เป็นร้านเครื่องดื่มครับ ...</td>\n",
              "      <td>5</td>\n",
              "    </tr>\n",
              "    <tr>\n",
              "      <th>11741</th>\n",
              "      <td>\\n\\n\\n\\n\\nร้าน Dakasi เป็นร้านเครื่องดื่มครับ ...</td>\n",
              "      <td>5</td>\n",
              "    </tr>\n",
              "    <tr>\n",
              "      <th>11742</th>\n",
              "      <td>\\n\\n\\n\\n\\nร้าน Dakasi เป็นร้านเครื่องดื่มครับ ...</td>\n",
              "      <td>5</td>\n",
              "    </tr>\n",
              "    <tr>\n",
              "      <th>11743</th>\n",
              "      <td>\\n\\n\\n\\n\\nร้าน Dakasi เป็นร้านเครื่องดื่มครับ ...</td>\n",
              "      <td>5</td>\n",
              "    </tr>\n",
              "    <tr>\n",
              "      <th>11744</th>\n",
              "      <td>\\n\\n\\n\\n\\nร้าน Dakasi เป็นร้านเครื่องดื่มครับ ...</td>\n",
              "      <td>5</td>\n",
              "    </tr>\n",
              "  </tbody>\n",
              "</table>\n",
              "<p>11745 rows × 2 columns</p>\n",
              "</div>\n",
              "      <button class=\"colab-df-convert\" onclick=\"convertToInteractive('df-169f59b8-1535-46af-a20d-be35392862ff')\"\n",
              "              title=\"Convert this dataframe to an interactive table.\"\n",
              "              style=\"display:none;\">\n",
              "        \n",
              "  <svg xmlns=\"http://www.w3.org/2000/svg\" height=\"24px\"viewBox=\"0 0 24 24\"\n",
              "       width=\"24px\">\n",
              "    <path d=\"M0 0h24v24H0V0z\" fill=\"none\"/>\n",
              "    <path d=\"M18.56 5.44l.94 2.06.94-2.06 2.06-.94-2.06-.94-.94-2.06-.94 2.06-2.06.94zm-11 1L8.5 8.5l.94-2.06 2.06-.94-2.06-.94L8.5 2.5l-.94 2.06-2.06.94zm10 10l.94 2.06.94-2.06 2.06-.94-2.06-.94-.94-2.06-.94 2.06-2.06.94z\"/><path d=\"M17.41 7.96l-1.37-1.37c-.4-.4-.92-.59-1.43-.59-.52 0-1.04.2-1.43.59L10.3 9.45l-7.72 7.72c-.78.78-.78 2.05 0 2.83L4 21.41c.39.39.9.59 1.41.59.51 0 1.02-.2 1.41-.59l7.78-7.78 2.81-2.81c.8-.78.8-2.07 0-2.86zM5.41 20L4 18.59l7.72-7.72 1.47 1.35L5.41 20z\"/>\n",
              "  </svg>\n",
              "      </button>\n",
              "      \n",
              "  <style>\n",
              "    .colab-df-container {\n",
              "      display:flex;\n",
              "      flex-wrap:wrap;\n",
              "      gap: 12px;\n",
              "    }\n",
              "\n",
              "    .colab-df-convert {\n",
              "      background-color: #E8F0FE;\n",
              "      border: none;\n",
              "      border-radius: 50%;\n",
              "      cursor: pointer;\n",
              "      display: none;\n",
              "      fill: #1967D2;\n",
              "      height: 32px;\n",
              "      padding: 0 0 0 0;\n",
              "      width: 32px;\n",
              "    }\n",
              "\n",
              "    .colab-df-convert:hover {\n",
              "      background-color: #E2EBFA;\n",
              "      box-shadow: 0px 1px 2px rgba(60, 64, 67, 0.3), 0px 1px 3px 1px rgba(60, 64, 67, 0.15);\n",
              "      fill: #174EA6;\n",
              "    }\n",
              "\n",
              "    [theme=dark] .colab-df-convert {\n",
              "      background-color: #3B4455;\n",
              "      fill: #D2E3FC;\n",
              "    }\n",
              "\n",
              "    [theme=dark] .colab-df-convert:hover {\n",
              "      background-color: #434B5C;\n",
              "      box-shadow: 0px 1px 3px 1px rgba(0, 0, 0, 0.15);\n",
              "      filter: drop-shadow(0px 1px 2px rgba(0, 0, 0, 0.3));\n",
              "      fill: #FFFFFF;\n",
              "    }\n",
              "  </style>\n",
              "\n",
              "      <script>\n",
              "        const buttonEl =\n",
              "          document.querySelector('#df-169f59b8-1535-46af-a20d-be35392862ff button.colab-df-convert');\n",
              "        buttonEl.style.display =\n",
              "          google.colab.kernel.accessAllowed ? 'block' : 'none';\n",
              "\n",
              "        async function convertToInteractive(key) {\n",
              "          const element = document.querySelector('#df-169f59b8-1535-46af-a20d-be35392862ff');\n",
              "          const dataTable =\n",
              "            await google.colab.kernel.invokeFunction('convertToInteractive',\n",
              "                                                     [key], {});\n",
              "          if (!dataTable) return;\n",
              "\n",
              "          const docLinkHtml = 'Like what you see? Visit the ' +\n",
              "            '<a target=\"_blank\" href=https://colab.research.google.com/notebooks/data_table.ipynb>data table notebook</a>'\n",
              "            + ' to learn more about interactive tables.';\n",
              "          element.innerHTML = '';\n",
              "          dataTable['output_type'] = 'display_data';\n",
              "          await google.colab.output.renderOutput(dataTable, element);\n",
              "          const docLink = document.createElement('div');\n",
              "          docLink.innerHTML = docLinkHtml;\n",
              "          element.appendChild(docLink);\n",
              "        }\n",
              "      </script>\n",
              "    </div>\n",
              "  </div>\n",
              "  "
            ],
            "text/plain": [
              "                                                  review  star\n",
              "0      ตามที่บอกเป็นร้านกาแฟที่เน้นขายเคกนะครับ มีหลา...     3\n",
              "1      ร้านนี้อยู่ก่อนถึงถนนคนเดินค่ะ สามารถจอดรถได้ร...     4\n",
              "2      อูมิ (Umi) คืออีกหนึ่งร้านซูชิที่ตั้งอยู่ในซอย...     5\n",
              "3      ร้านนี้มีสโลแกน ปลูกผักเพราะรักแม่ ดังนั้นช่วง...     5\n",
              "4      มาตามลายแทง เห็นร้านและการแต่งก็ตัดสินใจเลย ร้...     5\n",
              "...                                                  ...   ...\n",
              "11740  \\n\\n\\n\\n\\nร้าน Dakasi เป็นร้านเครื่องดื่มครับ ...     5\n",
              "11741  \\n\\n\\n\\n\\nร้าน Dakasi เป็นร้านเครื่องดื่มครับ ...     5\n",
              "11742  \\n\\n\\n\\n\\nร้าน Dakasi เป็นร้านเครื่องดื่มครับ ...     5\n",
              "11743  \\n\\n\\n\\n\\nร้าน Dakasi เป็นร้านเครื่องดื่มครับ ...     5\n",
              "11744  \\n\\n\\n\\n\\nร้าน Dakasi เป็นร้านเครื่องดื่มครับ ...     5\n",
              "\n",
              "[11745 rows x 2 columns]"
            ]
          },
          "execution_count": 28,
          "metadata": {},
          "output_type": "execute_result"
        }
      ],
      "source": [
        "train"
      ]
    },
    {
      "cell_type": "code",
      "execution_count": null,
      "metadata": {
        "colab": {
          "base_uri": "https://localhost:8080/"
        },
        "id": "TwBYk3hslgY1",
        "outputId": "f5f1974a-3c94-4f66-d636-2ecaf61c4253"
      },
      "outputs": [
        {
          "name": "stderr",
          "output_type": "stream",
          "text": [
            "<ipython-input-30-53247d4e6dc8>:4: SettingWithCopyWarning: \n",
            "A value is trying to be set on a copy of a slice from a DataFrame.\n",
            "Try using .loc[row_indexer,col_indexer] = value instead\n",
            "\n",
            "See the caveats in the documentation: https://pandas.pydata.org/pandas-docs/stable/user_guide/indexing.html#returning-a-view-versus-a-copy\n",
            "  test['clean_review'] = test['review'].str.replace(r'<[^<>]*>', '', regex=True)\n",
            "<ipython-input-30-53247d4e6dc8>:7: FutureWarning: The default value of regex will change from True to False in a future version.\n",
            "  train['clean2_review'] = train['clean_review'].str.strip().str.lower().str.replace('\\r+', ' ').str.replace('\\n+',' ').str.replace('\\t+',' ')\n",
            "<ipython-input-30-53247d4e6dc8>:8: FutureWarning: The default value of regex will change from True to False in a future version.\n",
            "  test['clean2_review'] = test['clean_review'].str.strip().str.lower().str.replace('\\r+', ' ').str.replace('\\n+',' ').str.replace('\\t+',' ')\n",
            "<ipython-input-30-53247d4e6dc8>:8: SettingWithCopyWarning: \n",
            "A value is trying to be set on a copy of a slice from a DataFrame.\n",
            "Try using .loc[row_indexer,col_indexer] = value instead\n",
            "\n",
            "See the caveats in the documentation: https://pandas.pydata.org/pandas-docs/stable/user_guide/indexing.html#returning-a-view-versus-a-copy\n",
            "  test['clean2_review'] = test['clean_review'].str.strip().str.lower().str.replace('\\r+', ' ').str.replace('\\n+',' ').str.replace('\\t+',' ')\n"
          ]
        }
      ],
      "source": [
        "# Remove all HTML tag\n",
        "#a = data['b'].str.replace(r'<[^<>]*>', '', regex=True)\n",
        "train['clean_review'] = train['review'].str.replace(r'<[^<>]*>', '', regex=True)\n",
        "test['clean_review'] = test['review'].str.replace(r'<[^<>]*>', '', regex=True)\n",
        "\n",
        "# Remove all excessive space, special characters and new line symbols\n",
        "train['clean2_review'] = train['clean_review'].str.strip().str.lower().str.replace('\\r+', ' ').str.replace('\\n+',' ').str.replace('\\t+',' ')\n",
        "test['clean2_review'] = test['clean_review'].str.strip().str.lower().str.replace('\\r+', ' ').str.replace('\\n+',' ').str.replace('\\t+',' ')"
      ]
    },
    {
      "cell_type": "code",
      "execution_count": null,
      "metadata": {
        "colab": {
          "base_uri": "https://localhost:8080/"
        },
        "id": "3v51KMoEmdvF",
        "outputId": "00c2ebe2-4627-4659-c522-44e2fe978993"
      },
      "outputs": [
        {
          "name": "stderr",
          "output_type": "stream",
          "text": [
            "<ipython-input-31-64c5a9f7997f>:28: SettingWithCopyWarning: \n",
            "A value is trying to be set on a copy of a slice from a DataFrame.\n",
            "Try using .loc[row_indexer,col_indexer] = value instead\n",
            "\n",
            "See the caveats in the documentation: https://pandas.pydata.org/pandas-docs/stable/user_guide/indexing.html#returning-a-view-versus-a-copy\n",
            "  test['clean3_review'] = test.apply(lambda row: deEmojify(row['clean2_review']), axis=1)\n"
          ]
        }
      ],
      "source": [
        "#Remove emoji\n",
        "import re\n",
        "\n",
        "def deEmojify(text):\n",
        "    regrex_pattern = re.compile(pattern = \"[\"\n",
        "        u\"\\U0001F600-\\U0001F64F\"  # emoticons\n",
        "        u\"\\U0001F300-\\U0001F5FF\"  # symbols & pictographs\n",
        "        u\"\\U0001F680-\\U0001F6FF\"  # transport & map symbols\n",
        "        u\"\\U0001F1E0-\\U0001F1FF\"  # flags (iOS)\n",
        "        u\"\\U00002500-\\U00002BEF\"  # chinese char\n",
        "        u\"\\U00002702-\\U000027B0\"\n",
        "        u\"\\U00002702-\\U000027B0\"\n",
        "        u\"\\U000024C2-\\U0001F251\"\n",
        "        u\"\\U0001f926-\\U0001f937\"\n",
        "        u\"\\U00010000-\\U0010ffff\"\n",
        "        u\"\\u2640-\\u2642\"\n",
        "        u\"\\u2600-\\u2B55\"\n",
        "        u\"\\u200d\"\n",
        "        u\"\\u23cf\"\n",
        "        u\"\\u23e9\"\n",
        "        u\"\\u231a\"\n",
        "        u\"\\ufe0f\"  # dingbats\n",
        "        u\"\\u3030\"\n",
        "                           \"]+\", flags = re.UNICODE)\n",
        "    return regrex_pattern.sub(r'',text)\n",
        "\n",
        "train['clean3_review'] = train.apply(lambda row: deEmojify(row['clean2_review']), axis=1)\n",
        "test['clean3_review'] = test.apply(lambda row: deEmojify(row['clean2_review']), axis=1)"
      ]
    },
    {
      "cell_type": "code",
      "execution_count": null,
      "metadata": {
        "colab": {
          "base_uri": "https://localhost:8080/",
          "height": 423
        },
        "id": "lZlVaA3-nI-p",
        "outputId": "e9f75e6e-8762-4029-d496-411b98ddf2d4"
      },
      "outputs": [
        {
          "data": {
            "text/html": [
              "\n",
              "  <div id=\"df-05746669-4943-44a2-b05c-3ea41360033e\">\n",
              "    <div class=\"colab-df-container\">\n",
              "      <div>\n",
              "<style scoped>\n",
              "    .dataframe tbody tr th:only-of-type {\n",
              "        vertical-align: middle;\n",
              "    }\n",
              "\n",
              "    .dataframe tbody tr th {\n",
              "        vertical-align: top;\n",
              "    }\n",
              "\n",
              "    .dataframe thead th {\n",
              "        text-align: right;\n",
              "    }\n",
              "</style>\n",
              "<table border=\"1\" class=\"dataframe\">\n",
              "  <thead>\n",
              "    <tr style=\"text-align: right;\">\n",
              "      <th></th>\n",
              "      <th>review</th>\n",
              "      <th>star</th>\n",
              "      <th>clean_review</th>\n",
              "      <th>clean2_review</th>\n",
              "      <th>clean3_review</th>\n",
              "    </tr>\n",
              "  </thead>\n",
              "  <tbody>\n",
              "    <tr>\n",
              "      <th>0</th>\n",
              "      <td>ตามที่บอกเป็นร้านกาแฟที่เน้นขายเคกนะครับ มีหลา...</td>\n",
              "      <td>3</td>\n",
              "      <td>ตามที่บอกเป็นร้านกาแฟที่เน้นขายเคกนะครับ มีหลา...</td>\n",
              "      <td>ตามที่บอกเป็นร้านกาแฟที่เน้นขายเคกนะครับ มีหลา...</td>\n",
              "      <td>ตามที่บอกเป็นร้านกาแฟที่เน้นขายเคกนะครับ มีหลา...</td>\n",
              "    </tr>\n",
              "    <tr>\n",
              "      <th>1</th>\n",
              "      <td>ร้านนี้อยู่ก่อนถึงถนนคนเดินค่ะ สามารถจอดรถได้ร...</td>\n",
              "      <td>4</td>\n",
              "      <td>ร้านนี้อยู่ก่อนถึงถนนคนเดินค่ะ สามารถจอดรถได้ร...</td>\n",
              "      <td>ร้านนี้อยู่ก่อนถึงถนนคนเดินค่ะ สามารถจอดรถได้ร...</td>\n",
              "      <td>ร้านนี้อยู่ก่อนถึงถนนคนเดินค่ะ สามารถจอดรถได้ร...</td>\n",
              "    </tr>\n",
              "    <tr>\n",
              "      <th>2</th>\n",
              "      <td>อูมิ (Umi) คืออีกหนึ่งร้านซูชิที่ตั้งอยู่ในซอย...</td>\n",
              "      <td>5</td>\n",
              "      <td>อูมิ (Umi) คืออีกหนึ่งร้านซูชิที่ตั้งอยู่ในซอย...</td>\n",
              "      <td>อูมิ (umi) คืออีกหนึ่งร้านซูชิที่ตั้งอยู่ในซอย...</td>\n",
              "      <td>อูมิ (umi) คืออีกหนึ่งร้านซูชิที่ตั้งอยู่ในซอย...</td>\n",
              "    </tr>\n",
              "    <tr>\n",
              "      <th>3</th>\n",
              "      <td>ร้านนี้มีสโลแกน ปลูกผักเพราะรักแม่ ดังนั้นช่วง...</td>\n",
              "      <td>5</td>\n",
              "      <td>ร้านนี้มีสโลแกน ปลูกผักเพราะรักแม่ ดังนั้นช่วง...</td>\n",
              "      <td>ร้านนี้มีสโลแกน ปลูกผักเพราะรักแม่ ดังนั้นช่วง...</td>\n",
              "      <td>ร้านนี้มีสโลแกน ปลูกผักเพราะรักแม่ ดังนั้นช่วง...</td>\n",
              "    </tr>\n",
              "    <tr>\n",
              "      <th>4</th>\n",
              "      <td>มาตามลายแทง เห็นร้านและการแต่งก็ตัดสินใจเลย ร้...</td>\n",
              "      <td>5</td>\n",
              "      <td>มาตามลายแทง เห็นร้านและการแต่งก็ตัดสินใจเลย ร้...</td>\n",
              "      <td>มาตามลายแทง เห็นร้านและการแต่งก็ตัดสินใจเลย ร้...</td>\n",
              "      <td>มาตามลายแทง เห็นร้านและการแต่งก็ตัดสินใจเลย ร้...</td>\n",
              "    </tr>\n",
              "    <tr>\n",
              "      <th>...</th>\n",
              "      <td>...</td>\n",
              "      <td>...</td>\n",
              "      <td>...</td>\n",
              "      <td>...</td>\n",
              "      <td>...</td>\n",
              "    </tr>\n",
              "    <tr>\n",
              "      <th>11740</th>\n",
              "      <td>\\n\\n\\n\\n\\nร้าน Dakasi เป็นร้านเครื่องดื่มครับ ...</td>\n",
              "      <td>5</td>\n",
              "      <td>\\n\\n\\n\\n\\nร้าน Dakasi เป็นร้านเครื่องดื่มครับ ...</td>\n",
              "      <td>ร้าน dakasi เป็นร้านเครื่องดื่มครับ มีหลายสาขา...</td>\n",
              "      <td>ร้าน dakasi เป็นร้านเครื่องดื่มครับ มีหลายสาขา...</td>\n",
              "    </tr>\n",
              "    <tr>\n",
              "      <th>11741</th>\n",
              "      <td>\\n\\n\\n\\n\\nร้าน Dakasi เป็นร้านเครื่องดื่มครับ ...</td>\n",
              "      <td>5</td>\n",
              "      <td>\\n\\n\\n\\n\\nร้าน Dakasi เป็นร้านเครื่องดื่มครับ ...</td>\n",
              "      <td>ร้าน dakasi เป็นร้านเครื่องดื่มครับ มีหลายสาขา...</td>\n",
              "      <td>ร้าน dakasi เป็นร้านเครื่องดื่มครับ มีหลายสาขา...</td>\n",
              "    </tr>\n",
              "    <tr>\n",
              "      <th>11742</th>\n",
              "      <td>\\n\\n\\n\\n\\nร้าน Dakasi เป็นร้านเครื่องดื่มครับ ...</td>\n",
              "      <td>5</td>\n",
              "      <td>\\n\\n\\n\\n\\nร้าน Dakasi เป็นร้านเครื่องดื่มครับ ...</td>\n",
              "      <td>ร้าน dakasi เป็นร้านเครื่องดื่มครับ มีหลายสาขา...</td>\n",
              "      <td>ร้าน dakasi เป็นร้านเครื่องดื่มครับ มีหลายสาขา...</td>\n",
              "    </tr>\n",
              "    <tr>\n",
              "      <th>11743</th>\n",
              "      <td>\\n\\n\\n\\n\\nร้าน Dakasi เป็นร้านเครื่องดื่มครับ ...</td>\n",
              "      <td>5</td>\n",
              "      <td>\\n\\n\\n\\n\\nร้าน Dakasi เป็นร้านเครื่องดื่มครับ ...</td>\n",
              "      <td>ร้าน dakasi เป็นร้านเครื่องดื่มครับ มีหลายสาขา...</td>\n",
              "      <td>ร้าน dakasi เป็นร้านเครื่องดื่มครับ มีหลายสาขา...</td>\n",
              "    </tr>\n",
              "    <tr>\n",
              "      <th>11744</th>\n",
              "      <td>\\n\\n\\n\\n\\nร้าน Dakasi เป็นร้านเครื่องดื่มครับ ...</td>\n",
              "      <td>5</td>\n",
              "      <td>\\n\\n\\n\\n\\nร้าน Dakasi เป็นร้านเครื่องดื่มครับ ...</td>\n",
              "      <td>ร้าน dakasi เป็นร้านเครื่องดื่มครับ มีหลายสาขา...</td>\n",
              "      <td>ร้าน dakasi เป็นร้านเครื่องดื่มครับ มีหลายสาขา...</td>\n",
              "    </tr>\n",
              "  </tbody>\n",
              "</table>\n",
              "<p>11745 rows × 5 columns</p>\n",
              "</div>\n",
              "      <button class=\"colab-df-convert\" onclick=\"convertToInteractive('df-05746669-4943-44a2-b05c-3ea41360033e')\"\n",
              "              title=\"Convert this dataframe to an interactive table.\"\n",
              "              style=\"display:none;\">\n",
              "        \n",
              "  <svg xmlns=\"http://www.w3.org/2000/svg\" height=\"24px\"viewBox=\"0 0 24 24\"\n",
              "       width=\"24px\">\n",
              "    <path d=\"M0 0h24v24H0V0z\" fill=\"none\"/>\n",
              "    <path d=\"M18.56 5.44l.94 2.06.94-2.06 2.06-.94-2.06-.94-.94-2.06-.94 2.06-2.06.94zm-11 1L8.5 8.5l.94-2.06 2.06-.94-2.06-.94L8.5 2.5l-.94 2.06-2.06.94zm10 10l.94 2.06.94-2.06 2.06-.94-2.06-.94-.94-2.06-.94 2.06-2.06.94z\"/><path d=\"M17.41 7.96l-1.37-1.37c-.4-.4-.92-.59-1.43-.59-.52 0-1.04.2-1.43.59L10.3 9.45l-7.72 7.72c-.78.78-.78 2.05 0 2.83L4 21.41c.39.39.9.59 1.41.59.51 0 1.02-.2 1.41-.59l7.78-7.78 2.81-2.81c.8-.78.8-2.07 0-2.86zM5.41 20L4 18.59l7.72-7.72 1.47 1.35L5.41 20z\"/>\n",
              "  </svg>\n",
              "      </button>\n",
              "      \n",
              "  <style>\n",
              "    .colab-df-container {\n",
              "      display:flex;\n",
              "      flex-wrap:wrap;\n",
              "      gap: 12px;\n",
              "    }\n",
              "\n",
              "    .colab-df-convert {\n",
              "      background-color: #E8F0FE;\n",
              "      border: none;\n",
              "      border-radius: 50%;\n",
              "      cursor: pointer;\n",
              "      display: none;\n",
              "      fill: #1967D2;\n",
              "      height: 32px;\n",
              "      padding: 0 0 0 0;\n",
              "      width: 32px;\n",
              "    }\n",
              "\n",
              "    .colab-df-convert:hover {\n",
              "      background-color: #E2EBFA;\n",
              "      box-shadow: 0px 1px 2px rgba(60, 64, 67, 0.3), 0px 1px 3px 1px rgba(60, 64, 67, 0.15);\n",
              "      fill: #174EA6;\n",
              "    }\n",
              "\n",
              "    [theme=dark] .colab-df-convert {\n",
              "      background-color: #3B4455;\n",
              "      fill: #D2E3FC;\n",
              "    }\n",
              "\n",
              "    [theme=dark] .colab-df-convert:hover {\n",
              "      background-color: #434B5C;\n",
              "      box-shadow: 0px 1px 3px 1px rgba(0, 0, 0, 0.15);\n",
              "      filter: drop-shadow(0px 1px 2px rgba(0, 0, 0, 0.3));\n",
              "      fill: #FFFFFF;\n",
              "    }\n",
              "  </style>\n",
              "\n",
              "      <script>\n",
              "        const buttonEl =\n",
              "          document.querySelector('#df-05746669-4943-44a2-b05c-3ea41360033e button.colab-df-convert');\n",
              "        buttonEl.style.display =\n",
              "          google.colab.kernel.accessAllowed ? 'block' : 'none';\n",
              "\n",
              "        async function convertToInteractive(key) {\n",
              "          const element = document.querySelector('#df-05746669-4943-44a2-b05c-3ea41360033e');\n",
              "          const dataTable =\n",
              "            await google.colab.kernel.invokeFunction('convertToInteractive',\n",
              "                                                     [key], {});\n",
              "          if (!dataTable) return;\n",
              "\n",
              "          const docLinkHtml = 'Like what you see? Visit the ' +\n",
              "            '<a target=\"_blank\" href=https://colab.research.google.com/notebooks/data_table.ipynb>data table notebook</a>'\n",
              "            + ' to learn more about interactive tables.';\n",
              "          element.innerHTML = '';\n",
              "          dataTable['output_type'] = 'display_data';\n",
              "          await google.colab.output.renderOutput(dataTable, element);\n",
              "          const docLink = document.createElement('div');\n",
              "          docLink.innerHTML = docLinkHtml;\n",
              "          element.appendChild(docLink);\n",
              "        }\n",
              "      </script>\n",
              "    </div>\n",
              "  </div>\n",
              "  "
            ],
            "text/plain": [
              "                                                  review  star  \\\n",
              "0      ตามที่บอกเป็นร้านกาแฟที่เน้นขายเคกนะครับ มีหลา...     3   \n",
              "1      ร้านนี้อยู่ก่อนถึงถนนคนเดินค่ะ สามารถจอดรถได้ร...     4   \n",
              "2      อูมิ (Umi) คืออีกหนึ่งร้านซูชิที่ตั้งอยู่ในซอย...     5   \n",
              "3      ร้านนี้มีสโลแกน ปลูกผักเพราะรักแม่ ดังนั้นช่วง...     5   \n",
              "4      มาตามลายแทง เห็นร้านและการแต่งก็ตัดสินใจเลย ร้...     5   \n",
              "...                                                  ...   ...   \n",
              "11740  \\n\\n\\n\\n\\nร้าน Dakasi เป็นร้านเครื่องดื่มครับ ...     5   \n",
              "11741  \\n\\n\\n\\n\\nร้าน Dakasi เป็นร้านเครื่องดื่มครับ ...     5   \n",
              "11742  \\n\\n\\n\\n\\nร้าน Dakasi เป็นร้านเครื่องดื่มครับ ...     5   \n",
              "11743  \\n\\n\\n\\n\\nร้าน Dakasi เป็นร้านเครื่องดื่มครับ ...     5   \n",
              "11744  \\n\\n\\n\\n\\nร้าน Dakasi เป็นร้านเครื่องดื่มครับ ...     5   \n",
              "\n",
              "                                            clean_review  \\\n",
              "0      ตามที่บอกเป็นร้านกาแฟที่เน้นขายเคกนะครับ มีหลา...   \n",
              "1      ร้านนี้อยู่ก่อนถึงถนนคนเดินค่ะ สามารถจอดรถได้ร...   \n",
              "2      อูมิ (Umi) คืออีกหนึ่งร้านซูชิที่ตั้งอยู่ในซอย...   \n",
              "3      ร้านนี้มีสโลแกน ปลูกผักเพราะรักแม่ ดังนั้นช่วง...   \n",
              "4      มาตามลายแทง เห็นร้านและการแต่งก็ตัดสินใจเลย ร้...   \n",
              "...                                                  ...   \n",
              "11740  \\n\\n\\n\\n\\nร้าน Dakasi เป็นร้านเครื่องดื่มครับ ...   \n",
              "11741  \\n\\n\\n\\n\\nร้าน Dakasi เป็นร้านเครื่องดื่มครับ ...   \n",
              "11742  \\n\\n\\n\\n\\nร้าน Dakasi เป็นร้านเครื่องดื่มครับ ...   \n",
              "11743  \\n\\n\\n\\n\\nร้าน Dakasi เป็นร้านเครื่องดื่มครับ ...   \n",
              "11744  \\n\\n\\n\\n\\nร้าน Dakasi เป็นร้านเครื่องดื่มครับ ...   \n",
              "\n",
              "                                           clean2_review  \\\n",
              "0      ตามที่บอกเป็นร้านกาแฟที่เน้นขายเคกนะครับ มีหลา...   \n",
              "1      ร้านนี้อยู่ก่อนถึงถนนคนเดินค่ะ สามารถจอดรถได้ร...   \n",
              "2      อูมิ (umi) คืออีกหนึ่งร้านซูชิที่ตั้งอยู่ในซอย...   \n",
              "3      ร้านนี้มีสโลแกน ปลูกผักเพราะรักแม่ ดังนั้นช่วง...   \n",
              "4      มาตามลายแทง เห็นร้านและการแต่งก็ตัดสินใจเลย ร้...   \n",
              "...                                                  ...   \n",
              "11740  ร้าน dakasi เป็นร้านเครื่องดื่มครับ มีหลายสาขา...   \n",
              "11741  ร้าน dakasi เป็นร้านเครื่องดื่มครับ มีหลายสาขา...   \n",
              "11742  ร้าน dakasi เป็นร้านเครื่องดื่มครับ มีหลายสาขา...   \n",
              "11743  ร้าน dakasi เป็นร้านเครื่องดื่มครับ มีหลายสาขา...   \n",
              "11744  ร้าน dakasi เป็นร้านเครื่องดื่มครับ มีหลายสาขา...   \n",
              "\n",
              "                                           clean3_review  \n",
              "0      ตามที่บอกเป็นร้านกาแฟที่เน้นขายเคกนะครับ มีหลา...  \n",
              "1      ร้านนี้อยู่ก่อนถึงถนนคนเดินค่ะ สามารถจอดรถได้ร...  \n",
              "2      อูมิ (umi) คืออีกหนึ่งร้านซูชิที่ตั้งอยู่ในซอย...  \n",
              "3      ร้านนี้มีสโลแกน ปลูกผักเพราะรักแม่ ดังนั้นช่วง...  \n",
              "4      มาตามลายแทง เห็นร้านและการแต่งก็ตัดสินใจเลย ร้...  \n",
              "...                                                  ...  \n",
              "11740  ร้าน dakasi เป็นร้านเครื่องดื่มครับ มีหลายสาขา...  \n",
              "11741  ร้าน dakasi เป็นร้านเครื่องดื่มครับ มีหลายสาขา...  \n",
              "11742  ร้าน dakasi เป็นร้านเครื่องดื่มครับ มีหลายสาขา...  \n",
              "11743  ร้าน dakasi เป็นร้านเครื่องดื่มครับ มีหลายสาขา...  \n",
              "11744  ร้าน dakasi เป็นร้านเครื่องดื่มครับ มีหลายสาขา...  \n",
              "\n",
              "[11745 rows x 5 columns]"
            ]
          },
          "execution_count": 32,
          "metadata": {},
          "output_type": "execute_result"
        }
      ],
      "source": [
        "train"
      ]
    },
    {
      "cell_type": "markdown",
      "metadata": {
        "id": "SbqiIhwM0ec9"
      },
      "source": [
        "### Text Normalization / Word Segmentation / Stop words filtering"
      ]
    },
    {
      "cell_type": "code",
      "execution_count": null,
      "metadata": {
        "colab": {
          "base_uri": "https://localhost:8080/"
        },
        "id": "zBWOeCeJ0mbe",
        "outputId": "d228567b-4522-4cfc-d00f-0a4a53e1f504"
      },
      "outputs": [
        {
          "name": "stdout",
          "output_type": "stream",
          "text": [
            "\u001b[2K     \u001b[90m━━━━━━━━━━━━━━━━━━━━━━━━━━━━━━━━━━━━━━━━\u001b[0m \u001b[32m9.6/9.6 MB\u001b[0m \u001b[31m96.5 MB/s\u001b[0m eta \u001b[36m0:00:00\u001b[0m\n",
            "\u001b[2K     \u001b[90m━━━━━━━━━━━━━━━━━━━━━━━━━━━━━━━━━━━━━━━━\u001b[0m \u001b[32m1.0/1.0 MB\u001b[0m \u001b[31m74.9 MB/s\u001b[0m eta \u001b[36m0:00:00\u001b[0m\n",
            "\u001b[?25h"
          ]
        }
      ],
      "source": [
        "! pip -q install pythainlp python-crfsuite"
      ]
    },
    {
      "cell_type": "code",
      "execution_count": null,
      "metadata": {
        "colab": {
          "base_uri": "https://localhost:8080/"
        },
        "id": "Lqoa_n8p0gFM",
        "outputId": "ab73fb50-746f-4fcf-da0b-b51daa2f8bb0"
      },
      "outputs": [
        {
          "name": "stderr",
          "output_type": "stream",
          "text": [
            "<ipython-input-34-10847c9839db>:14: SettingWithCopyWarning: \n",
            "A value is trying to be set on a copy of a slice from a DataFrame.\n",
            "Try using .loc[row_indexer,col_indexer] = value instead\n",
            "\n",
            "See the caveats in the documentation: https://pandas.pydata.org/pandas-docs/stable/user_guide/indexing.html#returning-a-view-versus-a-copy\n",
            "  test['clean4_review'] = test.apply(lambda row: normalize(row['clean3_review']), axis=1)\n",
            "<ipython-input-34-10847c9839db>:18: SettingWithCopyWarning: \n",
            "A value is trying to be set on a copy of a slice from a DataFrame.\n",
            "Try using .loc[row_indexer,col_indexer] = value instead\n",
            "\n",
            "See the caveats in the documentation: https://pandas.pydata.org/pandas-docs/stable/user_guide/indexing.html#returning-a-view-versus-a-copy\n",
            "  test['wordseged_review'] = test.apply(lambda row: word_tokenize(row['clean4_review'],engine=\"newmm-safe\"), axis=1)\n",
            "<ipython-input-34-10847c9839db>:26: SettingWithCopyWarning: \n",
            "A value is trying to be set on a copy of a slice from a DataFrame.\n",
            "Try using .loc[row_indexer,col_indexer] = value instead\n",
            "\n",
            "See the caveats in the documentation: https://pandas.pydata.org/pandas-docs/stable/user_guide/indexing.html#returning-a-view-versus-a-copy\n",
            "  test['wordseged_space_review'] = test.apply(lambda row: \" \".join(row[\"wordseged_review\"]), axis=1)\n"
          ]
        }
      ],
      "source": [
        "from pythainlp.util import normalize\n",
        "from pythainlp.corpus import thai_stopwords\n",
        "from pythainlp.tokenize import word_tokenize\n",
        "\n",
        "stopwords = list(thai_stopwords())\n",
        "stopwords.append(\"nan\")\n",
        "stopwords.append(\"-\")\n",
        "stopwords.append(\"_\")\n",
        "stopwords.append(\"\")\n",
        "stopwords.append(\" \")\n",
        "\n",
        "# Normalize text\n",
        "train['clean4_review'] = train.apply(lambda row: normalize(row['clean3_review']), axis=1)\n",
        "test['clean4_review'] = test.apply(lambda row: normalize(row['clean3_review']), axis=1)\n",
        "\n",
        "# Word segmentation: it will take a while....\n",
        "train['wordseged_review'] = train.apply(lambda row: word_tokenize(row['clean4_review'],engine=\"newmm-safe\"), axis=1)\n",
        "test['wordseged_review'] = test.apply(lambda row: word_tokenize(row['clean4_review'],engine=\"newmm-safe\"), axis=1)\n",
        "\n",
        "# Remove stopwords, it will take a very long time.....\n",
        "# train['wordseged_nostopword_review'] = train.apply(lambda row: [i for i in train['wordseged_review'] if i not in stopwords], axis=1)\n",
        "# test['wordseged_nostopword_review'] = test.apply(lambda row: [i for i in test['wordseged_review'] if i not in stopwords], axis=1)\n",
        "\n",
        "# Join the wordsegged with space\n",
        "train['wordseged_space_review'] = train.apply(lambda row: \" \".join(row[\"wordseged_review\"]), axis=1)\n",
        "test['wordseged_space_review'] = test.apply(lambda row: \" \".join(row[\"wordseged_review\"]), axis=1)\n"
      ]
    },
    {
      "cell_type": "code",
      "execution_count": null,
      "metadata": {
        "colab": {
          "base_uri": "https://localhost:8080/",
          "height": 641
        },
        "id": "IsA1WmlZ2Bov",
        "outputId": "2073ca7a-dd47-4af3-b04b-763b80b651bd"
      },
      "outputs": [
        {
          "data": {
            "text/html": [
              "\n",
              "  <div id=\"df-853aaff5-7bb8-41ba-b6ea-a6904696310f\">\n",
              "    <div class=\"colab-df-container\">\n",
              "      <div>\n",
              "<style scoped>\n",
              "    .dataframe tbody tr th:only-of-type {\n",
              "        vertical-align: middle;\n",
              "    }\n",
              "\n",
              "    .dataframe tbody tr th {\n",
              "        vertical-align: top;\n",
              "    }\n",
              "\n",
              "    .dataframe thead th {\n",
              "        text-align: right;\n",
              "    }\n",
              "</style>\n",
              "<table border=\"1\" class=\"dataframe\">\n",
              "  <thead>\n",
              "    <tr style=\"text-align: right;\">\n",
              "      <th></th>\n",
              "      <th>review</th>\n",
              "      <th>star</th>\n",
              "      <th>clean_review</th>\n",
              "      <th>clean2_review</th>\n",
              "      <th>clean3_review</th>\n",
              "      <th>clean4_review</th>\n",
              "      <th>wordseged_review</th>\n",
              "      <th>wordseged_space_review</th>\n",
              "    </tr>\n",
              "  </thead>\n",
              "  <tbody>\n",
              "    <tr>\n",
              "      <th>17140</th>\n",
              "      <td>ร้านเก่า อร่อย ราคาเบาๆ \\nชอบเนื้อร้านนี้อร่อย...</td>\n",
              "      <td>4</td>\n",
              "      <td>ร้านเก่า อร่อย ราคาเบาๆ \\nชอบเนื้อร้านนี้อร่อย...</td>\n",
              "      <td>ร้านเก่า อร่อย ราคาเบาๆ  ชอบเนื้อร้านนี้อร่อยม...</td>\n",
              "      <td>ร้านเก่า อร่อย ราคาเบาๆ  ชอบเนื้อร้านนี้อร่อยม...</td>\n",
              "      <td>ร้านเก่า อร่อย ราคาเบาๆ ชอบเนื้อร้านนี้อร่อยมา...</td>\n",
              "      <td>[ร้าน, เก่า,  , อร่อย,  , ราคา, เบา, ๆ,  , ชอบ...</td>\n",
              "      <td>ร้าน เก่า   อร่อย   ราคา เบา ๆ   ชอบ เนื้อ ร้า...</td>\n",
              "    </tr>\n",
              "    <tr>\n",
              "      <th>26008</th>\n",
              "      <td>ใกล้ที่พักเลยลองเดินมาชิม \\n- โจ๊กอร่อยนะ 25 บ...</td>\n",
              "      <td>4</td>\n",
              "      <td>ใกล้ที่พักเลยลองเดินมาชิม \\n- โจ๊กอร่อยนะ 25 บ...</td>\n",
              "      <td>ใกล้ที่พักเลยลองเดินมาชิม  - โจ๊กอร่อยนะ 25 บา...</td>\n",
              "      <td>ใกล้ที่พักเลยลองเดินมาชิม  - โจ๊กอร่อยนะ 25 บา...</td>\n",
              "      <td>ใกล้ที่พักเลยลองเดินมาชิม - โจ๊กอร่อยนะ 25 บาท...</td>\n",
              "      <td>[ใกล้, ที่พัก, เลย, ลอง, เดิน, มา, ชิม,  , -, ...</td>\n",
              "      <td>ใกล้ ที่พัก เลย ลอง เดิน มา ชิม   -   โจ๊ก อร่...</td>\n",
              "    </tr>\n",
              "    <tr>\n",
              "      <th>1021</th>\n",
              "      <td>ร้านอาหารครัวพวงพยอมอยู่บนเกาะล้าน พัทยา จ.ชลบ...</td>\n",
              "      <td>4</td>\n",
              "      <td>ร้านอาหารครัวพวงพยอมอยู่บนเกาะล้าน พัทยา จ.ชลบ...</td>\n",
              "      <td>ร้านอาหารครัวพวงพยอมอยู่บนเกาะล้าน พัทยา จ.ชลบ...</td>\n",
              "      <td>ร้านอาหารครัวพวงพยอมอยู่บนเกาะล้าน พัทยา จ.ชลบ...</td>\n",
              "      <td>ร้านอาหารครัวพวงพยอมอยู่บนเกาะล้าน พัทยา จ.ชลบ...</td>\n",
              "      <td>[ร, ้าน, อาหาร, ครัว, พวง, พยอม, อยู่, บน, เกา...</td>\n",
              "      <td>ร ้าน อาหาร ครัว พวง พยอม อยู่ บน เกาะ ล้าน   ...</td>\n",
              "    </tr>\n",
              "    <tr>\n",
              "      <th>22522</th>\n",
              "      <td>ร้านนี้ญาติชวนมาเลี้ยงวันเกิด บอกว่าบรรยากาศดี...</td>\n",
              "      <td>3</td>\n",
              "      <td>ร้านนี้ญาติชวนมาเลี้ยงวันเกิด บอกว่าบรรยากาศดี...</td>\n",
              "      <td>ร้านนี้ญาติชวนมาเลี้ยงวันเกิด บอกว่าบรรยากาศดี...</td>\n",
              "      <td>ร้านนี้ญาติชวนมาเลี้ยงวันเกิด บอกว่าบรรยากาศดี...</td>\n",
              "      <td>ร้านนี้ญาติชวนมาเลี้ยงวันเกิด บอกว่าบรรยากาศดี...</td>\n",
              "      <td>[ร้าน, นี้, ญาติ, ชวน, มา, เลี้ยง, วันเกิด,  ,...</td>\n",
              "      <td>ร้าน นี้ ญาติ ชวน มา เลี้ยง วันเกิด   บอ กว่า ...</td>\n",
              "    </tr>\n",
              "    <tr>\n",
              "      <th>6108</th>\n",
              "      <td>ชาบูราคา299 มีหมูสไลด์ เนื้อสไลด์ ของกินเล่นไข...</td>\n",
              "      <td>1</td>\n",
              "      <td>ชาบูราคา299 มีหมูสไลด์ เนื้อสไลด์ ของกินเล่นไข...</td>\n",
              "      <td>ชาบูราคา299 มีหมูสไลด์ เนื้อสไลด์ ของกินเล่นไข...</td>\n",
              "      <td>ชาบูราคา299 มีหมูสไลด์ เนื้อสไลด์ ของกินเล่นไข...</td>\n",
              "      <td>ชาบูราคา299 มีหมูสไลด์ เนื้อสไลด์ ของกินเล่นไข...</td>\n",
              "      <td>[ชาบู, ราคา, 299,  , มี, หมู, สไลด์,  , เนื้อ,...</td>\n",
              "      <td>ชาบู ราคา 299   มี หมู สไลด์   เนื้อ สไลด์   ข...</td>\n",
              "    </tr>\n",
              "    <tr>\n",
              "      <th>...</th>\n",
              "      <td>...</td>\n",
              "      <td>...</td>\n",
              "      <td>...</td>\n",
              "      <td>...</td>\n",
              "      <td>...</td>\n",
              "      <td>...</td>\n",
              "      <td>...</td>\n",
              "      <td>...</td>\n",
              "    </tr>\n",
              "    <tr>\n",
              "      <th>462</th>\n",
              "      <td>ร้านอาหารทะเลแบบพื้นๆม่ีไม่มีอะไรมากมายในการตก...</td>\n",
              "      <td>5</td>\n",
              "      <td>ร้านอาหารทะเลแบบพื้นๆม่ีไม่มีอะไรมากมายในการตก...</td>\n",
              "      <td>ร้านอาหารทะเลแบบพื้นๆม่ีไม่มีอะไรมากมายในการตก...</td>\n",
              "      <td>ร้านอาหารทะเลแบบพื้นๆม่ีไม่มีอะไรมากมายในการตก...</td>\n",
              "      <td>ร้านอาหารทะเลแบบพื้นๆมี่ไม่มีอะไรมากมายในการตก...</td>\n",
              "      <td>[ร้าน, อาหารทะเล, แบบ, พื้นๆ, มี่, ไม่, มี, อะ...</td>\n",
              "      <td>ร้าน อาหารทะเล แบบ พื้นๆ มี่ ไม่ มี อะไร มากมา...</td>\n",
              "    </tr>\n",
              "    <tr>\n",
              "      <th>3379</th>\n",
              "      <td>สวัสดีค่าาาา\\nคราวนี้บีจะมารีวิวร้านอาหาร sush...</td>\n",
              "      <td>4</td>\n",
              "      <td>สวัสดีค่าาาา\\nคราวนี้บีจะมารีวิวร้านอาหาร sush...</td>\n",
              "      <td>สวัสดีค่าาาา คราวนี้บีจะมารีวิวร้านอาหาร sushi...</td>\n",
              "      <td>สวัสดีค่าาาา คราวนี้บีจะมารีวิวร้านอาหาร sushi...</td>\n",
              "      <td>สวัสดีค่า คราวนี้บีจะมารีวิวร้านอาหาร sushi ให...</td>\n",
              "      <td>[สวัสดี, ค่า,  , คราวนี้, บี, จะ, มา, รีวิว, ร...</td>\n",
              "      <td>สวัสดี ค่า   คราวนี้ บี จะ มา รีวิว ร้านอาหาร ...</td>\n",
              "    </tr>\n",
              "    <tr>\n",
              "      <th>8177</th>\n",
              "      <td>ร้านกาแฟร้านนี้ ถ้าใคนได้แวะเวียนไปที่สวนผึ้ง ...</td>\n",
              "      <td>3</td>\n",
              "      <td>ร้านกาแฟร้านนี้ ถ้าใคนได้แวะเวียนไปที่สวนผึ้ง ...</td>\n",
              "      <td>ร้านกาแฟร้านนี้ ถ้าใคนได้แวะเวียนไปที่สวนผึ้ง ...</td>\n",
              "      <td>ร้านกาแฟร้านนี้ ถ้าใคนได้แวะเวียนไปที่สวนผึ้ง ...</td>\n",
              "      <td>ร้านกาแฟร้านนี้ ถ้าใคนได้แวะเวียนไปที่สวนผึ้ง ...</td>\n",
              "      <td>[ร้านกาแฟ, ร้าน, นี้,  , ถ้า, ใคน, ได้, แวะเวี...</td>\n",
              "      <td>ร้านกาแฟ ร้าน นี้   ถ้า ใคน ได้ แวะเวียน ไป ที...</td>\n",
              "    </tr>\n",
              "    <tr>\n",
              "      <th>20896</th>\n",
              "      <td>Quip sky bar roof top แห่งแรกบนภูเก็ตครับ\\nเป็...</td>\n",
              "      <td>4</td>\n",
              "      <td>Quip sky bar roof top แห่งแรกบนภูเก็ตครับ\\nเป็...</td>\n",
              "      <td>quip sky bar roof top แห่งแรกบนภูเก็ตครับ เป็น...</td>\n",
              "      <td>quip sky bar roof top แห่งแรกบนภูเก็ตครับ เป็น...</td>\n",
              "      <td>quip sky bar roof top แห่งแรกบนภูเก็ตครับ เป็น...</td>\n",
              "      <td>[quip,  , sky,  , bar,  , ro, of,  , top,  , แ...</td>\n",
              "      <td>quip   sky   bar   ro of   top   แห่ง แรก บน ภ...</td>\n",
              "    </tr>\n",
              "    <tr>\n",
              "      <th>16048</th>\n",
              "      <td>ร้าน Oishi Buffet เซ็นทรัลพระราม 9 ร้านอยู่ชั้...</td>\n",
              "      <td>3</td>\n",
              "      <td>ร้าน Oishi Buffet เซ็นทรัลพระราม 9 ร้านอยู่ชั้...</td>\n",
              "      <td>ร้าน oishi buffet เซ็นทรัลพระราม 9 ร้านอยู่ชั้...</td>\n",
              "      <td>ร้าน oishi buffet เซ็นทรัลพระราม 9 ร้านอยู่ชั้...</td>\n",
              "      <td>ร้าน oishi buffet เซ็นทรัลพระราม 9 ร้านอยู่ชั้...</td>\n",
              "      <td>[ร้าน,  , oishi,  , buffet,  , เซ็นทรัล, พระรา...</td>\n",
              "      <td>ร้าน   oishi   buffet   เซ็นทรัล พระราม   9   ...</td>\n",
              "    </tr>\n",
              "  </tbody>\n",
              "</table>\n",
              "<p>1000 rows × 8 columns</p>\n",
              "</div>\n",
              "      <button class=\"colab-df-convert\" onclick=\"convertToInteractive('df-853aaff5-7bb8-41ba-b6ea-a6904696310f')\"\n",
              "              title=\"Convert this dataframe to an interactive table.\"\n",
              "              style=\"display:none;\">\n",
              "        \n",
              "  <svg xmlns=\"http://www.w3.org/2000/svg\" height=\"24px\"viewBox=\"0 0 24 24\"\n",
              "       width=\"24px\">\n",
              "    <path d=\"M0 0h24v24H0V0z\" fill=\"none\"/>\n",
              "    <path d=\"M18.56 5.44l.94 2.06.94-2.06 2.06-.94-2.06-.94-.94-2.06-.94 2.06-2.06.94zm-11 1L8.5 8.5l.94-2.06 2.06-.94-2.06-.94L8.5 2.5l-.94 2.06-2.06.94zm10 10l.94 2.06.94-2.06 2.06-.94-2.06-.94-.94-2.06-.94 2.06-2.06.94z\"/><path d=\"M17.41 7.96l-1.37-1.37c-.4-.4-.92-.59-1.43-.59-.52 0-1.04.2-1.43.59L10.3 9.45l-7.72 7.72c-.78.78-.78 2.05 0 2.83L4 21.41c.39.39.9.59 1.41.59.51 0 1.02-.2 1.41-.59l7.78-7.78 2.81-2.81c.8-.78.8-2.07 0-2.86zM5.41 20L4 18.59l7.72-7.72 1.47 1.35L5.41 20z\"/>\n",
              "  </svg>\n",
              "      </button>\n",
              "      \n",
              "  <style>\n",
              "    .colab-df-container {\n",
              "      display:flex;\n",
              "      flex-wrap:wrap;\n",
              "      gap: 12px;\n",
              "    }\n",
              "\n",
              "    .colab-df-convert {\n",
              "      background-color: #E8F0FE;\n",
              "      border: none;\n",
              "      border-radius: 50%;\n",
              "      cursor: pointer;\n",
              "      display: none;\n",
              "      fill: #1967D2;\n",
              "      height: 32px;\n",
              "      padding: 0 0 0 0;\n",
              "      width: 32px;\n",
              "    }\n",
              "\n",
              "    .colab-df-convert:hover {\n",
              "      background-color: #E2EBFA;\n",
              "      box-shadow: 0px 1px 2px rgba(60, 64, 67, 0.3), 0px 1px 3px 1px rgba(60, 64, 67, 0.15);\n",
              "      fill: #174EA6;\n",
              "    }\n",
              "\n",
              "    [theme=dark] .colab-df-convert {\n",
              "      background-color: #3B4455;\n",
              "      fill: #D2E3FC;\n",
              "    }\n",
              "\n",
              "    [theme=dark] .colab-df-convert:hover {\n",
              "      background-color: #434B5C;\n",
              "      box-shadow: 0px 1px 3px 1px rgba(0, 0, 0, 0.15);\n",
              "      filter: drop-shadow(0px 1px 2px rgba(0, 0, 0, 0.3));\n",
              "      fill: #FFFFFF;\n",
              "    }\n",
              "  </style>\n",
              "\n",
              "      <script>\n",
              "        const buttonEl =\n",
              "          document.querySelector('#df-853aaff5-7bb8-41ba-b6ea-a6904696310f button.colab-df-convert');\n",
              "        buttonEl.style.display =\n",
              "          google.colab.kernel.accessAllowed ? 'block' : 'none';\n",
              "\n",
              "        async function convertToInteractive(key) {\n",
              "          const element = document.querySelector('#df-853aaff5-7bb8-41ba-b6ea-a6904696310f');\n",
              "          const dataTable =\n",
              "            await google.colab.kernel.invokeFunction('convertToInteractive',\n",
              "                                                     [key], {});\n",
              "          if (!dataTable) return;\n",
              "\n",
              "          const docLinkHtml = 'Like what you see? Visit the ' +\n",
              "            '<a target=\"_blank\" href=https://colab.research.google.com/notebooks/data_table.ipynb>data table notebook</a>'\n",
              "            + ' to learn more about interactive tables.';\n",
              "          element.innerHTML = '';\n",
              "          dataTable['output_type'] = 'display_data';\n",
              "          await google.colab.output.renderOutput(dataTable, element);\n",
              "          const docLink = document.createElement('div');\n",
              "          docLink.innerHTML = docLinkHtml;\n",
              "          element.appendChild(docLink);\n",
              "        }\n",
              "      </script>\n",
              "    </div>\n",
              "  </div>\n",
              "  "
            ],
            "text/plain": [
              "                                                  review  star  \\\n",
              "17140  ร้านเก่า อร่อย ราคาเบาๆ \\nชอบเนื้อร้านนี้อร่อย...     4   \n",
              "26008  ใกล้ที่พักเลยลองเดินมาชิม \\n- โจ๊กอร่อยนะ 25 บ...     4   \n",
              "1021   ร้านอาหารครัวพวงพยอมอยู่บนเกาะล้าน พัทยา จ.ชลบ...     4   \n",
              "22522  ร้านนี้ญาติชวนมาเลี้ยงวันเกิด บอกว่าบรรยากาศดี...     3   \n",
              "6108   ชาบูราคา299 มีหมูสไลด์ เนื้อสไลด์ ของกินเล่นไข...     1   \n",
              "...                                                  ...   ...   \n",
              "462    ร้านอาหารทะเลแบบพื้นๆม่ีไม่มีอะไรมากมายในการตก...     5   \n",
              "3379   สวัสดีค่าาาา\\nคราวนี้บีจะมารีวิวร้านอาหาร sush...     4   \n",
              "8177   ร้านกาแฟร้านนี้ ถ้าใคนได้แวะเวียนไปที่สวนผึ้ง ...     3   \n",
              "20896  Quip sky bar roof top แห่งแรกบนภูเก็ตครับ\\nเป็...     4   \n",
              "16048  ร้าน Oishi Buffet เซ็นทรัลพระราม 9 ร้านอยู่ชั้...     3   \n",
              "\n",
              "                                            clean_review  \\\n",
              "17140  ร้านเก่า อร่อย ราคาเบาๆ \\nชอบเนื้อร้านนี้อร่อย...   \n",
              "26008  ใกล้ที่พักเลยลองเดินมาชิม \\n- โจ๊กอร่อยนะ 25 บ...   \n",
              "1021   ร้านอาหารครัวพวงพยอมอยู่บนเกาะล้าน พัทยา จ.ชลบ...   \n",
              "22522  ร้านนี้ญาติชวนมาเลี้ยงวันเกิด บอกว่าบรรยากาศดี...   \n",
              "6108   ชาบูราคา299 มีหมูสไลด์ เนื้อสไลด์ ของกินเล่นไข...   \n",
              "...                                                  ...   \n",
              "462    ร้านอาหารทะเลแบบพื้นๆม่ีไม่มีอะไรมากมายในการตก...   \n",
              "3379   สวัสดีค่าาาา\\nคราวนี้บีจะมารีวิวร้านอาหาร sush...   \n",
              "8177   ร้านกาแฟร้านนี้ ถ้าใคนได้แวะเวียนไปที่สวนผึ้ง ...   \n",
              "20896  Quip sky bar roof top แห่งแรกบนภูเก็ตครับ\\nเป็...   \n",
              "16048  ร้าน Oishi Buffet เซ็นทรัลพระราม 9 ร้านอยู่ชั้...   \n",
              "\n",
              "                                           clean2_review  \\\n",
              "17140  ร้านเก่า อร่อย ราคาเบาๆ  ชอบเนื้อร้านนี้อร่อยม...   \n",
              "26008  ใกล้ที่พักเลยลองเดินมาชิม  - โจ๊กอร่อยนะ 25 บา...   \n",
              "1021   ร้านอาหารครัวพวงพยอมอยู่บนเกาะล้าน พัทยา จ.ชลบ...   \n",
              "22522  ร้านนี้ญาติชวนมาเลี้ยงวันเกิด บอกว่าบรรยากาศดี...   \n",
              "6108   ชาบูราคา299 มีหมูสไลด์ เนื้อสไลด์ ของกินเล่นไข...   \n",
              "...                                                  ...   \n",
              "462    ร้านอาหารทะเลแบบพื้นๆม่ีไม่มีอะไรมากมายในการตก...   \n",
              "3379   สวัสดีค่าาาา คราวนี้บีจะมารีวิวร้านอาหาร sushi...   \n",
              "8177   ร้านกาแฟร้านนี้ ถ้าใคนได้แวะเวียนไปที่สวนผึ้ง ...   \n",
              "20896  quip sky bar roof top แห่งแรกบนภูเก็ตครับ เป็น...   \n",
              "16048  ร้าน oishi buffet เซ็นทรัลพระราม 9 ร้านอยู่ชั้...   \n",
              "\n",
              "                                           clean3_review  \\\n",
              "17140  ร้านเก่า อร่อย ราคาเบาๆ  ชอบเนื้อร้านนี้อร่อยม...   \n",
              "26008  ใกล้ที่พักเลยลองเดินมาชิม  - โจ๊กอร่อยนะ 25 บา...   \n",
              "1021   ร้านอาหารครัวพวงพยอมอยู่บนเกาะล้าน พัทยา จ.ชลบ...   \n",
              "22522  ร้านนี้ญาติชวนมาเลี้ยงวันเกิด บอกว่าบรรยากาศดี...   \n",
              "6108   ชาบูราคา299 มีหมูสไลด์ เนื้อสไลด์ ของกินเล่นไข...   \n",
              "...                                                  ...   \n",
              "462    ร้านอาหารทะเลแบบพื้นๆม่ีไม่มีอะไรมากมายในการตก...   \n",
              "3379   สวัสดีค่าาาา คราวนี้บีจะมารีวิวร้านอาหาร sushi...   \n",
              "8177   ร้านกาแฟร้านนี้ ถ้าใคนได้แวะเวียนไปที่สวนผึ้ง ...   \n",
              "20896  quip sky bar roof top แห่งแรกบนภูเก็ตครับ เป็น...   \n",
              "16048  ร้าน oishi buffet เซ็นทรัลพระราม 9 ร้านอยู่ชั้...   \n",
              "\n",
              "                                           clean4_review  \\\n",
              "17140  ร้านเก่า อร่อย ราคาเบาๆ ชอบเนื้อร้านนี้อร่อยมา...   \n",
              "26008  ใกล้ที่พักเลยลองเดินมาชิม - โจ๊กอร่อยนะ 25 บาท...   \n",
              "1021   ร้านอาหารครัวพวงพยอมอยู่บนเกาะล้าน พัทยา จ.ชลบ...   \n",
              "22522  ร้านนี้ญาติชวนมาเลี้ยงวันเกิด บอกว่าบรรยากาศดี...   \n",
              "6108   ชาบูราคา299 มีหมูสไลด์ เนื้อสไลด์ ของกินเล่นไข...   \n",
              "...                                                  ...   \n",
              "462    ร้านอาหารทะเลแบบพื้นๆมี่ไม่มีอะไรมากมายในการตก...   \n",
              "3379   สวัสดีค่า คราวนี้บีจะมารีวิวร้านอาหาร sushi ให...   \n",
              "8177   ร้านกาแฟร้านนี้ ถ้าใคนได้แวะเวียนไปที่สวนผึ้ง ...   \n",
              "20896  quip sky bar roof top แห่งแรกบนภูเก็ตครับ เป็น...   \n",
              "16048  ร้าน oishi buffet เซ็นทรัลพระราม 9 ร้านอยู่ชั้...   \n",
              "\n",
              "                                        wordseged_review  \\\n",
              "17140  [ร้าน, เก่า,  , อร่อย,  , ราคา, เบา, ๆ,  , ชอบ...   \n",
              "26008  [ใกล้, ที่พัก, เลย, ลอง, เดิน, มา, ชิม,  , -, ...   \n",
              "1021   [ร, ้าน, อาหาร, ครัว, พวง, พยอม, อยู่, บน, เกา...   \n",
              "22522  [ร้าน, นี้, ญาติ, ชวน, มา, เลี้ยง, วันเกิด,  ,...   \n",
              "6108   [ชาบู, ราคา, 299,  , มี, หมู, สไลด์,  , เนื้อ,...   \n",
              "...                                                  ...   \n",
              "462    [ร้าน, อาหารทะเล, แบบ, พื้นๆ, มี่, ไม่, มี, อะ...   \n",
              "3379   [สวัสดี, ค่า,  , คราวนี้, บี, จะ, มา, รีวิว, ร...   \n",
              "8177   [ร้านกาแฟ, ร้าน, นี้,  , ถ้า, ใคน, ได้, แวะเวี...   \n",
              "20896  [quip,  , sky,  , bar,  , ro, of,  , top,  , แ...   \n",
              "16048  [ร้าน,  , oishi,  , buffet,  , เซ็นทรัล, พระรา...   \n",
              "\n",
              "                                  wordseged_space_review  \n",
              "17140  ร้าน เก่า   อร่อย   ราคา เบา ๆ   ชอบ เนื้อ ร้า...  \n",
              "26008  ใกล้ ที่พัก เลย ลอง เดิน มา ชิม   -   โจ๊ก อร่...  \n",
              "1021   ร ้าน อาหาร ครัว พวง พยอม อยู่ บน เกาะ ล้าน   ...  \n",
              "22522  ร้าน นี้ ญาติ ชวน มา เลี้ยง วันเกิด   บอ กว่า ...  \n",
              "6108   ชาบู ราคา 299   มี หมู สไลด์   เนื้อ สไลด์   ข...  \n",
              "...                                                  ...  \n",
              "462    ร้าน อาหารทะเล แบบ พื้นๆ มี่ ไม่ มี อะไร มากมา...  \n",
              "3379   สวัสดี ค่า   คราวนี้ บี จะ มา รีวิว ร้านอาหาร ...  \n",
              "8177   ร้านกาแฟ ร้าน นี้   ถ้า ใคน ได้ แวะเวียน ไป ที...  \n",
              "20896  quip   sky   bar   ro of   top   แห่ง แรก บน ภ...  \n",
              "16048  ร้าน   oishi   buffet   เซ็นทรัล พระราม   9   ...  \n",
              "\n",
              "[1000 rows x 8 columns]"
            ]
          },
          "execution_count": 35,
          "metadata": {},
          "output_type": "execute_result"
        }
      ],
      "source": [
        "test"
      ]
    },
    {
      "cell_type": "markdown",
      "metadata": {
        "id": "ejJ6P_tJk28U"
      },
      "source": [
        "## Word2Vec"
      ]
    },
    {
      "cell_type": "code",
      "execution_count": null,
      "metadata": {
        "id": "unXSVKLjJDRJ"
      },
      "outputs": [],
      "source": [
        "!pip install pythainlp python-crfsuite"
      ]
    },
    {
      "cell_type": "code",
      "execution_count": null,
      "metadata": {
        "id": "jjO58Y8i__Ww"
      },
      "outputs": [],
      "source": [
        "from pythainlp import word_vector\n",
        "import numpy as np\n",
        "word2vec = word_vector.get_model()"
      ]
    },
    {
      "cell_type": "code",
      "execution_count": null,
      "metadata": {
        "id": "LJh-8LM0AG-h"
      },
      "outputs": [],
      "source": [
        "def get_average_vector(cleaned_query):\n",
        "    sum_query = None\n",
        "    count=0\n",
        "    for query in cleaned_query:\n",
        "        try:\n",
        "            if (sum_query is None):\n",
        "                sum_query = np.copy(word2vec[query])\n",
        "            else:\n",
        "                sum_query += word2vec[query]\n",
        "            count+=1\n",
        "            print(\"Word \"+query+ \" found!\")\n",
        "        except:\n",
        "            print(\"Word \"+query+\" is not found!\")\n",
        "    if (sum_query is not None):\n",
        "        average_query = sum_query/count\n",
        "    else:\n",
        "        average_query = np.zeros((300,))\n",
        "    return average_query\n",
        "\n",
        "average_query = get_average_vector([\"ทดสอบ\",\"ดู\",\"นะ\",\"ครับ\"])\n",
        "print(average_query)"
      ]
    },
    {
      "cell_type": "code",
      "execution_count": null,
      "metadata": {
        "id": "0akAOkzUAfRx"
      },
      "outputs": [],
      "source": [
        "from functools import reduce\n",
        "\n",
        "# Make average vectors of each class\n",
        "avg_w = {}\n",
        "for i in range(1,6):\n",
        "  avg_w[i] = reduce(lambda x,y: x+y, train[train[\"star\"]==i][:100]['wordseged_review'])"
      ]
    },
    {
      "cell_type": "code",
      "execution_count": null,
      "metadata": {
        "id": "vK3GmDuhBWgW"
      },
      "outputs": [],
      "source": [
        "avg_v = {}\n",
        "for i in range(1,6):\n",
        "  print(i, len(avg_w[i]))\n",
        "  avg_v[i] = get_average_vector(avg_w[i])"
      ]
    },
    {
      "cell_type": "code",
      "execution_count": null,
      "metadata": {
        "id": "FMqZ1MofASqR"
      },
      "outputs": [],
      "source": [
        "def cosine_sim(u, v):\n",
        "    return np.dot(u, v) / (np.linalg.norm(u) * np.linalg.norm(v))"
      ]
    },
    {
      "cell_type": "code",
      "execution_count": null,
      "metadata": {
        "id": "5uvr0s2iAWva"
      },
      "outputs": [],
      "source": [
        "qv = get_average_vector([\"อร่อย\",\"ดี\",\"มาก\"])"
      ]
    },
    {
      "cell_type": "code",
      "execution_count": null,
      "metadata": {
        "id": "Hnd7eBPLJUFv"
      },
      "outputs": [],
      "source": [
        "qv"
      ]
    },
    {
      "cell_type": "code",
      "execution_count": null,
      "metadata": {
        "id": "T-PAyhiID9qA"
      },
      "outputs": [],
      "source": [
        "for i in range(1,6):\n",
        "    print(i, cosine_sim(qv, avg_v[i]))"
      ]
    },
    {
      "cell_type": "markdown",
      "metadata": {
        "id": "FM8qebQ_6qxs"
      },
      "source": [
        "## LSTM"
      ]
    },
    {
      "cell_type": "code",
      "execution_count": null,
      "metadata": {
        "id": "EBPU0CMJI9ZI"
      },
      "outputs": [],
      "source": [
        "! pip install pythainlp python-crfsuite"
      ]
    },
    {
      "cell_type": "code",
      "execution_count": null,
      "metadata": {
        "id": "cj_ouq6VEx_W"
      },
      "outputs": [],
      "source": [
        "import numpy as np\n",
        "from keras.models import Model\n",
        "from keras.layers import Dense, Input, Dropout, LSTM, Activation\n",
        "from keras.layers.embeddings import Embedding\n",
        "from keras.preprocessing import sequence\n",
        "from keras.initializers import glorot_uniform\n",
        "np.random.seed(23)\n",
        "from pythainlp import word_vector\n",
        "import numpy as np\n",
        "word2vec = word_vector.get_model()"
      ]
    },
    {
      "cell_type": "code",
      "execution_count": null,
      "metadata": {
        "id": "ikw-1CrOHy-4"
      },
      "outputs": [],
      "source": [
        "print(\"Vocab in Thai2Vec:\",len(word2vec.wv.vocab))"
      ]
    },
    {
      "cell_type": "code",
      "execution_count": null,
      "metadata": {
        "id": "KvS0A28cLcBX"
      },
      "outputs": [],
      "source": [
        "def sentences_to_indices(X, word2vec, max_len):\n",
        "    \"\"\"\n",
        "    Converts an array of sentences (strings) into an array of indices corresponding to words in the sentences.\n",
        "    The output shape should be such that it can be given to `Embedding()`.\n",
        "\n",
        "    Arguments:\n",
        "    X -- array of sentences (strings), of shape (m, 1)\n",
        "    word_to_index -- a dictionary containing the each word mapped to its index\n",
        "    max_len -- maximum number of words in a sentence. You can assume every sentence in X is no longer than this.\n",
        "\n",
        "    Returns:\n",
        "    X_indices -- array of indices corresponding to words in the sentences from X, of shape (m, max_len)\n",
        "    \"\"\"\n",
        "\n",
        "    m = X.shape[0]                                   # number of training examples\n",
        "\n",
        "    # Initialize X_indices as a numpy matrix of zeros and the correct shape (≈ 1 line)\n",
        "    X_indices = np.zeros((m, max_len))\n",
        "\n",
        "    for i in range(m):                               # loop over training examples\n",
        "\n",
        "        # Convert the ith training sentence in lower case and split is into words. You should get a list of words.\n",
        "        sentence_words = X[i].lower().split()[:max_len]\n",
        "\n",
        "        # Initialize j to 0\n",
        "        j = 0\n",
        "\n",
        "        # Loop over the words of sentence_words\n",
        "        for w in sentence_words:\n",
        "            # Set the (i,j)th entry of X_indices to the index of the correct word.\n",
        "            if w in word2vec:\n",
        "              X_indices[i, j] = word2vec.wv.vocab[w].index\n",
        "              # Increment j to j + 1\n",
        "              j = j + 1\n",
        "\n",
        "    return X_indices"
      ]
    },
    {
      "cell_type": "code",
      "execution_count": null,
      "metadata": {
        "id": "ZNOdu8EnLd5B"
      },
      "outputs": [],
      "source": [
        "X1 = np.array([\"สวัสดี ครับ ผม\", \"ทดสอบ ทดสอบ ทดสอบ\", \"เรา มา ทดสอบ กัน\"])\n",
        "X1_indices = sentences_to_indices(X1, word2vec, max_len = 10)\n",
        "print(\"X1 =\", X1)\n",
        "print(\"X1_indices =\", X1_indices)"
      ]
    },
    {
      "cell_type": "code",
      "execution_count": null,
      "metadata": {
        "id": "kwATeYZROZNC"
      },
      "outputs": [],
      "source": [
        "def convert_to_one_hot(y, maxLen):\n",
        "    max_value = max(y)\n",
        "    min_value = min(y)\n",
        "    length = len(y)\n",
        "    one_hot = np.zeros((length, (max_value - min_value + 1)))\n",
        "    one_hot[np.arange(length), y] = 1\n",
        "    return one_hot"
      ]
    },
    {
      "cell_type": "code",
      "execution_count": null,
      "metadata": {
        "id": "luUOVC5aFzSK"
      },
      "outputs": [],
      "source": [
        "def pretrained_embedding_layer(word2vec):\n",
        "    \"\"\"\n",
        "    Creates a Keras Embedding() layer and loads in pre-trained PyThaiNLP word_vector 300-dimensional vectors.\n",
        "\n",
        "    Arguments:\n",
        "    word_to_vec_map -- dictionary mapping words to their GloVe vector representation.\n",
        "    word_to_index -- dictionary mapping from words to their indices in the vocabulary (400,001 words)\n",
        "\n",
        "    Returns:\n",
        "    embedding_layer -- pretrained layer Keras instance\n",
        "    \"\"\"\n",
        "\n",
        "    vocab_len = len(word2vec.wv.vocab) + 1                  # adding 1 to fit Keras embedding (requirement)\n",
        "    emb_dim = word2vec[\"สวัสดี\"].shape[0]      # define dimensionality of your GloVe word vectors (= 50)\n",
        "\n",
        "    # Initialize the embedding matrix as a numpy array of zeros of shape (vocab_len, dimensions of word vectors = emb_dim)\n",
        "    emb_matrix = np.zeros((vocab_len, emb_dim))\n",
        "\n",
        "    # Set each row \"index\" of the embedding matrix to be the word vector representation of the \"index\"th word of the vocabulary\n",
        "    for word, index in word2vec.wv.vocab.items():\n",
        "        # print(word)\n",
        "        emb_matrix[index.index, :] = word2vec[word]\n",
        "\n",
        "    # Define Keras embedding layer with the correct output/input sizes, make it trainable. Use Embedding(...). Make sure to set trainable=False.\n",
        "    embedding_layer = Embedding(vocab_len, emb_dim)\n",
        "    ### END CODE HERE ###\n",
        "\n",
        "    # Build the embedding layer, it is required before setting the weights of the embedding layer. Do not modify the \"None\".\n",
        "    embedding_layer.build((None,))\n",
        "\n",
        "    # Set the weights of the embedding layer to the embedding matrix. Your layer is now pretrained.\n",
        "    embedding_layer.set_weights([emb_matrix])\n",
        "\n",
        "    return embedding_layer"
      ]
    },
    {
      "cell_type": "code",
      "execution_count": null,
      "metadata": {
        "id": "Lqz7RAKFHc8c"
      },
      "outputs": [],
      "source": [
        "embedding_layer = pretrained_embedding_layer(word2vec)\n",
        "print(\"weights[0][1] =\", embedding_layer.get_weights()[0][1])\n",
        "# print(\"weights[0][1][3] =\", embedding_layer.get_weights()[0][1][3])"
      ]
    },
    {
      "cell_type": "code",
      "execution_count": null,
      "metadata": {
        "id": "2H35GKAIJ-4d"
      },
      "outputs": [],
      "source": [
        "def text_clasifier_lstm(input_shape, word2vec):\n",
        "    \"\"\"\n",
        "    Function creating the Emojify-v2 model's graph.\n",
        "\n",
        "    Arguments:\n",
        "    input_shape -- shape of the input, usually (max_len,)\n",
        "    word_to_vec_map -- dictionary mapping every word in a vocabulary into its 50-dimensional vector representation\n",
        "    word_to_index -- dictionary mapping from words to their indices in the vocabulary (400,001 words)\n",
        "\n",
        "    Returns:\n",
        "    model -- a model instance in Keras\n",
        "    \"\"\"\n",
        "\n",
        "    # Define sentence_indices as the input of the graph, it should be of shape input_shape and dtype 'int32' (as it contains indices).\n",
        "    sentence_indices = Input(shape=input_shape, dtype=np.int32)\n",
        "\n",
        "    # Create the embedding layer pretrained with Word2Vec Vectors\n",
        "    embedding_layer =  pretrained_embedding_layer(word2vec)\n",
        "\n",
        "    # Propagate sentence_indices through your embedding layer, you get back the embeddings\n",
        "    embeddings = embedding_layer(sentence_indices)\n",
        "\n",
        "    # Propagate the embeddings through an LSTM layer with 128-dimensional hidden state\n",
        "    # Be careful, the returned output should be a batch of sequences.\n",
        "    X = LSTM(128, return_sequences=True)(embeddings)\n",
        "    # Add dropout with a probability of 0.1\n",
        "    X = Dropout(0.1)(X)\n",
        "    # Propagate X trough another LSTM layer with 128-dimensional hidden state\n",
        "    # Be careful, the returned output should be a single hidden state, not a batch of sequences.\n",
        "    X = LSTM(128)(X)\n",
        "    # Add dropout with a probability of 0.1\n",
        "    X = Dropout(0.1)(X)\n",
        "    # Propagate X through a Dense layer with softmax activation to get back a batch of 5-dimensional vectors.\n",
        "    X = Dense(5, activation='softmax')(X)\n",
        "    # Add a softmax activation\n",
        "    X = Activation('softmax')(X)\n",
        "\n",
        "    # Create Model instance which converts sentence_indices into X.\n",
        "    model = Model(sentence_indices, X)\n",
        "\n",
        "    return model"
      ]
    },
    {
      "cell_type": "code",
      "execution_count": null,
      "metadata": {
        "id": "sGcZTsdxK1Ui"
      },
      "outputs": [],
      "source": [
        "model = text_clasifier_lstm((128,), word2vec)\n",
        "model.summary()"
      ]
    },
    {
      "cell_type": "code",
      "execution_count": null,
      "metadata": {
        "id": "ochPziwmLCf2"
      },
      "outputs": [],
      "source": [
        "model.compile(loss='categorical_crossentropy', optimizer='adam', metrics=['accuracy'])"
      ]
    },
    {
      "cell_type": "code",
      "execution_count": null,
      "metadata": {
        "id": "SdOCpZszLE3F"
      },
      "outputs": [],
      "source": [
        "X_train_indices = sentences_to_indices(train['wordseged_space_review'][:1000], word2vec, 128)"
      ]
    },
    {
      "cell_type": "code",
      "execution_count": null,
      "metadata": {
        "id": "a_zqtvwhOD-9"
      },
      "outputs": [],
      "source": [
        "Y_train_oh = convert_to_one_hot((train['star'][:1000]-1), 5)"
      ]
    },
    {
      "cell_type": "code",
      "execution_count": null,
      "metadata": {
        "id": "CsNGHe0lQ4SU"
      },
      "outputs": [],
      "source": [
        "model.fit(X_train_indices, Y_train_oh, epochs = 10, batch_size = 32, shuffle=True)"
      ]
    },
    {
      "cell_type": "code",
      "execution_count": null,
      "metadata": {
        "id": "MJyxB_tBSrY1"
      },
      "outputs": [],
      "source": [
        "preds = model.predict(X_train_indices[:10])\n",
        "preds"
      ]
    },
    {
      "cell_type": "code",
      "execution_count": null,
      "metadata": {
        "id": "-xZbH5fRTlLS"
      },
      "outputs": [],
      "source": [
        "np.argmax(preds, axis=1)+1"
      ]
    },
    {
      "cell_type": "markdown",
      "metadata": {
        "id": "--kb03R_6tko"
      },
      "source": [
        "## BERT (via Transformers libary by Hugging Face)\n"
      ]
    },
    {
      "cell_type": "markdown",
      "metadata": {
        "id": "vynQ1TRxWFZW"
      },
      "source": [
        "\n",
        "### Bert-base-multilingual-cased (Tensorflow/Keras)\n",
        "\n",
        "![image.png](data:image/png;base64,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)"
      ]
    },
    {
      "cell_type": "code",
      "execution_count": null,
      "metadata": {
        "id": "8vwslbM08exI"
      },
      "outputs": [],
      "source": [
        "! pip -q install datasets transformers[sentencepiece]"
      ]
    },
    {
      "cell_type": "code",
      "execution_count": null,
      "metadata": {
        "id": "1dSrf1RFmPJh"
      },
      "outputs": [],
      "source": [
        "from datasets import load_dataset\n",
        "from transformers import AutoTokenizer\n",
        "import numpy as np\n",
        "raw_datasets = load_dataset(\"wongnai_reviews\")\n",
        "# https://huggingface.co/datasets/wongnai_reviews\n",
        "\n",
        "# If you interest in creating datasets on Transformer library\n",
        "# see here >> https://github.com/huggingface/datasets/blob/54525e0443ebb2645969702bd8818bff49760435/datasets/wongnai_reviews/wongnai_reviews.py"
      ]
    },
    {
      "cell_type": "code",
      "execution_count": null,
      "metadata": {
        "id": "voD6---VDx95"
      },
      "outputs": [],
      "source": [
        "raw_datasets"
      ]
    },
    {
      "cell_type": "code",
      "execution_count": null,
      "metadata": {
        "id": "dLd7HoHQ7jMU"
      },
      "outputs": [],
      "source": [
        "checkpoint = \"bert-base-multilingual-cased\"\n",
        "tokenizer = AutoTokenizer.from_pretrained(checkpoint)\n",
        "\n",
        "from transformers import DataCollatorWithPadding\n",
        "data_collator = DataCollatorWithPadding(tokenizer=tokenizer)\n",
        "\n",
        "def tokenize_dataset(dataset):\n",
        "    encoded = tokenizer(\n",
        "        dataset[\"review_body\"],\n",
        "        [\"\"]*len(dataset[\"review_body\"]),\n",
        "        max_length=128,\n",
        "        truncation=True,\n",
        "    )\n",
        "    return encoded.data\n",
        "\n",
        "tokenized_datasets = raw_datasets.map(tokenize_dataset, batched=True)\n",
        "\n",
        "train_dataset = tokenized_datasets[\"train\"].to_tf_dataset(\n",
        "    columns=[\"input_ids\", \"attention_mask\", \"token_type_ids\"],\n",
        "    label_cols=[\"star_rating\"],\n",
        "    shuffle=False,\n",
        "    collate_fn=data_collator,\n",
        "    batch_size=32)\n",
        "\n",
        "test_dataset = tokenized_datasets[\"test\"].to_tf_dataset(\n",
        "    columns=[\"input_ids\", \"attention_mask\", \"token_type_ids\"],\n",
        "    label_cols=[\"star_rating\"],\n",
        "    shuffle=False,\n",
        "    collate_fn=data_collator,\n",
        "    batch_size=32)"
      ]
    },
    {
      "cell_type": "code",
      "execution_count": null,
      "metadata": {
        "id": "gpcc25-h_vq1"
      },
      "outputs": [],
      "source": [
        "import tensorflow as tf\n",
        "from transformers import TFAutoModelForSequenceClassification\n",
        "\n",
        "checkpoint = 'bert-base-multilingual-cased'\n",
        "model = TFAutoModelForSequenceClassification.from_pretrained(checkpoint, num_labels=5)\n",
        "loss = tf.keras.losses.SparseCategoricalCrossentropy(from_logits=True)\n",
        "model.compile(optimizer='adam', loss=loss, metrics=['accuracy'])"
      ]
    },
    {
      "cell_type": "code",
      "execution_count": null,
      "metadata": {
        "id": "kwT0UhbldmOG"
      },
      "outputs": [],
      "source": [
        "model.summary()"
      ]
    },
    {
      "cell_type": "code",
      "execution_count": null,
      "metadata": {
        "id": "pVe6vtZTE-F2"
      },
      "outputs": [],
      "source": [
        "history = model.fit(\n",
        "    train_dataset,\n",
        "    validation_data=test_dataset,\n",
        "    batch_size=32,\n",
        "    verbose=1,\n",
        "    epochs=1\n",
        ")"
      ]
    },
    {
      "cell_type": "code",
      "execution_count": null,
      "metadata": {
        "id": "l9QI4B0laV1i"
      },
      "outputs": [],
      "source": [
        "r = next(iter(train_dataset))\n",
        "r"
      ]
    },
    {
      "cell_type": "code",
      "execution_count": null,
      "metadata": {
        "id": "3esYE_v3fQCl"
      },
      "outputs": [],
      "source": [
        "raw_datasets[\"train\"][\"review_body\"][:32]"
      ]
    },
    {
      "cell_type": "code",
      "execution_count": null,
      "metadata": {
        "id": "TXJOn5B9fi5u"
      },
      "outputs": [],
      "source": [
        "raw_datasets[\"train\"][\"star_rating\"][:32]"
      ]
    },
    {
      "cell_type": "code",
      "execution_count": null,
      "metadata": {
        "id": "461Rsp32HoXn"
      },
      "outputs": [],
      "source": [
        "preds = model.predict(r)\n",
        "preds"
      ]
    },
    {
      "cell_type": "code",
      "execution_count": null,
      "metadata": {
        "id": "N-TaL9FKcoYX"
      },
      "outputs": [],
      "source": [
        "np.argmax(preds.logits, axis=1)"
      ]
    },
    {
      "cell_type": "code",
      "execution_count": null,
      "metadata": {
        "id": "eCv-6Rukq9LF"
      },
      "outputs": [],
      "source": [
        "# Clear everything\n",
        "\n",
        "from keras import backend as K\n",
        "K.clear_session()\n",
        "\n",
        "from numba import cuda\n",
        "cuda.select_device(0)\n",
        "cuda.close()\n",
        "\n",
        "torch.cuda.empty_cache()\n",
        "\n",
        "!nvidia-smi"
      ]
    },
    {
      "cell_type": "markdown",
      "metadata": {
        "id": "GhQq8Ng0gTvh"
      },
      "source": [
        "### monsoon-nlp/bert-base-thai (Pytorch)\n",
        "![image.png](data:image/png;base64,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)"
      ]
    },
    {
      "cell_type": "code",
      "execution_count": null,
      "metadata": {
        "colab": {
          "base_uri": "https://localhost:8080/"
        },
        "id": "Mqeih5gDAGsR",
        "outputId": "b674312b-db24-4f79-9851-96ab2e708cf7"
      },
      "outputs": [
        {
          "name": "stdout",
          "output_type": "stream",
          "text": [
            "Looking in indexes: https://pypi.org/simple, https://us-python.pkg.dev/colab-wheels/public/simple/\n",
            "Requirement already satisfied: datasets in /usr/local/lib/python3.8/dist-packages (2.10.0)\n",
            "Collecting transformers[sentencepiece]\n",
            "  Downloading transformers-4.26.1-py3-none-any.whl (6.3 MB)\n",
            "\u001b[2K     \u001b[90m━━━━━━━━━━━━━━━━━━━━━━━━━━━━━━━━━━━━━━━━\u001b[0m \u001b[32m6.3/6.3 MB\u001b[0m \u001b[31m52.3 MB/s\u001b[0m eta \u001b[36m0:00:00\u001b[0m\n",
            "\u001b[?25hRequirement already satisfied: numpy>=1.17 in /usr/local/lib/python3.8/dist-packages (from datasets) (1.22.4)\n",
            "Requirement already satisfied: tqdm>=4.62.1 in /usr/local/lib/python3.8/dist-packages (from datasets) (4.64.1)\n",
            "Requirement already satisfied: dill<0.3.7,>=0.3.0 in /usr/local/lib/python3.8/dist-packages (from datasets) (0.3.6)\n",
            "Requirement already satisfied: huggingface-hub<1.0.0,>=0.2.0 in /usr/local/lib/python3.8/dist-packages (from datasets) (0.12.1)\n",
            "Requirement already satisfied: fsspec[http]>=2021.11.1 in /usr/local/lib/python3.8/dist-packages (from datasets) (2023.1.0)\n",
            "Requirement already satisfied: requests>=2.19.0 in /usr/local/lib/python3.8/dist-packages (from datasets) (2.25.1)\n",
            "Requirement already satisfied: aiohttp in /usr/local/lib/python3.8/dist-packages (from datasets) (3.8.4)\n",
            "Requirement already satisfied: pyarrow>=6.0.0 in /usr/local/lib/python3.8/dist-packages (from datasets) (9.0.0)\n",
            "Requirement already satisfied: xxhash in /usr/local/lib/python3.8/dist-packages (from datasets) (3.2.0)\n",
            "Requirement already satisfied: pandas in /usr/local/lib/python3.8/dist-packages (from datasets) (1.3.5)\n",
            "Requirement already satisfied: packaging in /usr/local/lib/python3.8/dist-packages (from datasets) (23.0)\n",
            "Requirement already satisfied: pyyaml>=5.1 in /usr/local/lib/python3.8/dist-packages (from datasets) (6.0)\n",
            "Requirement already satisfied: responses<0.19 in /usr/local/lib/python3.8/dist-packages (from datasets) (0.18.0)\n",
            "Requirement already satisfied: multiprocess in /usr/local/lib/python3.8/dist-packages (from datasets) (0.70.14)\n",
            "Requirement already satisfied: filelock in /usr/local/lib/python3.8/dist-packages (from transformers[sentencepiece]) (3.9.0)\n",
            "Requirement already satisfied: regex!=2019.12.17 in /usr/local/lib/python3.8/dist-packages (from transformers[sentencepiece]) (2022.6.2)\n",
            "Collecting tokenizers!=0.11.3,<0.14,>=0.11.1\n",
            "  Downloading tokenizers-0.13.2-cp38-cp38-manylinux_2_17_x86_64.manylinux2014_x86_64.whl (7.6 MB)\n",
            "\u001b[2K     \u001b[90m━━━━━━━━━━━━━━━━━━━━━━━━━━━━━━━━━━━━━━━━\u001b[0m \u001b[32m7.6/7.6 MB\u001b[0m \u001b[31m106.6 MB/s\u001b[0m eta \u001b[36m0:00:00\u001b[0m\n",
            "\u001b[?25hCollecting sentencepiece!=0.1.92,>=0.1.91\n",
            "  Downloading sentencepiece-0.1.97-cp38-cp38-manylinux_2_17_x86_64.manylinux2014_x86_64.whl (1.3 MB)\n",
            "\u001b[2K     \u001b[90m━━━━━━━━━━━━━━━━━━━━━━━━━━━━━━━━━━━━━━━━\u001b[0m \u001b[32m1.3/1.3 MB\u001b[0m \u001b[31m78.7 MB/s\u001b[0m eta \u001b[36m0:00:00\u001b[0m\n",
            "\u001b[?25hRequirement already satisfied: protobuf<=3.20.2 in /usr/local/lib/python3.8/dist-packages (from transformers[sentencepiece]) (3.19.6)\n",
            "Requirement already satisfied: charset-normalizer<4.0,>=2.0 in /usr/local/lib/python3.8/dist-packages (from aiohttp->datasets) (3.0.1)\n",
            "Requirement already satisfied: attrs>=17.3.0 in /usr/local/lib/python3.8/dist-packages (from aiohttp->datasets) (22.2.0)\n",
            "Requirement already satisfied: aiosignal>=1.1.2 in /usr/local/lib/python3.8/dist-packages (from aiohttp->datasets) (1.3.1)\n",
            "Requirement already satisfied: frozenlist>=1.1.1 in /usr/local/lib/python3.8/dist-packages (from aiohttp->datasets) (1.3.3)\n",
            "Requirement already satisfied: async-timeout<5.0,>=4.0.0a3 in /usr/local/lib/python3.8/dist-packages (from aiohttp->datasets) (4.0.2)\n",
            "Requirement already satisfied: yarl<2.0,>=1.0 in /usr/local/lib/python3.8/dist-packages (from aiohttp->datasets) (1.8.2)\n",
            "Requirement already satisfied: multidict<7.0,>=4.5 in /usr/local/lib/python3.8/dist-packages (from aiohttp->datasets) (6.0.4)\n",
            "Requirement already satisfied: typing-extensions>=3.7.4.3 in /usr/local/lib/python3.8/dist-packages (from huggingface-hub<1.0.0,>=0.2.0->datasets) (4.5.0)\n",
            "Requirement already satisfied: urllib3<1.27,>=1.21.1 in /usr/local/lib/python3.8/dist-packages (from requests>=2.19.0->datasets) (1.26.14)\n",
            "Requirement already satisfied: chardet<5,>=3.0.2 in /usr/local/lib/python3.8/dist-packages (from requests>=2.19.0->datasets) (4.0.0)\n",
            "Requirement already satisfied: certifi>=2017.4.17 in /usr/local/lib/python3.8/dist-packages (from requests>=2.19.0->datasets) (2022.12.7)\n",
            "Requirement already satisfied: idna<3,>=2.5 in /usr/local/lib/python3.8/dist-packages (from requests>=2.19.0->datasets) (2.10)\n",
            "Requirement already satisfied: python-dateutil>=2.7.3 in /usr/local/lib/python3.8/dist-packages (from pandas->datasets) (2.8.2)\n",
            "Requirement already satisfied: pytz>=2017.3 in /usr/local/lib/python3.8/dist-packages (from pandas->datasets) (2022.7.1)\n",
            "Requirement already satisfied: six>=1.5 in /usr/local/lib/python3.8/dist-packages (from python-dateutil>=2.7.3->pandas->datasets) (1.15.0)\n",
            "Installing collected packages: tokenizers, sentencepiece, transformers\n",
            "Successfully installed sentencepiece-0.1.97 tokenizers-0.13.2 transformers-4.26.1\n"
          ]
        }
      ],
      "source": [
        "! pip install datasets transformers[sentencepiece]"
      ]
    },
    {
      "cell_type": "code",
      "execution_count": null,
      "metadata": {
        "colab": {
          "base_uri": "https://localhost:8080/",
          "height": 393
        },
        "id": "HXTToLm0ggWi",
        "outputId": "4adc3106-bf72-40d6-8d87-4c2de8e2a73d"
      },
      "outputs": [
        {
          "data": {
            "application/vnd.jupyter.widget-view+json": {
              "model_id": "e1fddca827cb4020b2472e4360715c74",
              "version_major": 2,
              "version_minor": 0
            },
            "text/plain": [
              "Downloading builder script:   0%|          | 0.00/2.71k [00:00<?, ?B/s]"
            ]
          },
          "metadata": {},
          "output_type": "display_data"
        },
        {
          "data": {
            "application/vnd.jupyter.widget-view+json": {
              "model_id": "9e6faaa682db41309df113a119952d7c",
              "version_major": 2,
              "version_minor": 0
            },
            "text/plain": [
              "Downloading metadata:   0%|          | 0.00/1.38k [00:00<?, ?B/s]"
            ]
          },
          "metadata": {},
          "output_type": "display_data"
        },
        {
          "data": {
            "application/vnd.jupyter.widget-view+json": {
              "model_id": "5c7c2d14ba154b09918420ecf548e577",
              "version_major": 2,
              "version_minor": 0
            },
            "text/plain": [
              "Downloading readme:   0%|          | 0.00/2.04k [00:00<?, ?B/s]"
            ]
          },
          "metadata": {},
          "output_type": "display_data"
        },
        {
          "name": "stdout",
          "output_type": "stream",
          "text": [
            "Downloading and preparing dataset wongnai_reviews/default to /root/.cache/huggingface/datasets/wongnai_reviews/default/1.0.1/0741f812b51dea635d957a5cc8f46fcc98828c0f6c557336ab20367778299a4d...\n"
          ]
        },
        {
          "data": {
            "application/vnd.jupyter.widget-view+json": {
              "model_id": "63f3d6f956a64c3484154f8cbb16e9ba",
              "version_major": 2,
              "version_minor": 0
            },
            "text/plain": [
              "Downloading data:   0%|          | 0.00/16.6M [00:00<?, ?B/s]"
            ]
          },
          "metadata": {},
          "output_type": "display_data"
        },
        {
          "data": {
            "application/vnd.jupyter.widget-view+json": {
              "model_id": "43e14d076c1b41ed81a76a7a52814e00",
              "version_major": 2,
              "version_minor": 0
            },
            "text/plain": [
              "Generating train split:   0%|          | 0/40000 [00:00<?, ? examples/s]"
            ]
          },
          "metadata": {},
          "output_type": "display_data"
        },
        {
          "data": {
            "application/vnd.jupyter.widget-view+json": {
              "model_id": "a3587138293448d0955066952ea7a6c4",
              "version_major": 2,
              "version_minor": 0
            },
            "text/plain": [
              "Generating test split:   0%|          | 0/6203 [00:00<?, ? examples/s]"
            ]
          },
          "metadata": {},
          "output_type": "display_data"
        },
        {
          "name": "stdout",
          "output_type": "stream",
          "text": [
            "Dataset wongnai_reviews downloaded and prepared to /root/.cache/huggingface/datasets/wongnai_reviews/default/1.0.1/0741f812b51dea635d957a5cc8f46fcc98828c0f6c557336ab20367778299a4d. Subsequent calls will reuse this data.\n"
          ]
        },
        {
          "data": {
            "application/vnd.jupyter.widget-view+json": {
              "model_id": "11ab91a57cb04b5e9847008ab9f5296a",
              "version_major": 2,
              "version_minor": 0
            },
            "text/plain": [
              "  0%|          | 0/2 [00:00<?, ?it/s]"
            ]
          },
          "metadata": {},
          "output_type": "display_data"
        },
        {
          "data": {
            "application/vnd.jupyter.widget-view+json": {
              "model_id": "bb596e4e035f4242b06c9fad9ca03838",
              "version_major": 2,
              "version_minor": 0
            },
            "text/plain": [
              "Downloading (…)okenizer_config.json:   0%|          | 0.00/181 [00:00<?, ?B/s]"
            ]
          },
          "metadata": {},
          "output_type": "display_data"
        },
        {
          "data": {
            "application/vnd.jupyter.widget-view+json": {
              "model_id": "7cdc4faf2e69474ab71fe79d602760df",
              "version_major": 2,
              "version_minor": 0
            },
            "text/plain": [
              "Downloading (…)lve/main/config.json:   0%|          | 0.00/405 [00:00<?, ?B/s]"
            ]
          },
          "metadata": {},
          "output_type": "display_data"
        },
        {
          "data": {
            "application/vnd.jupyter.widget-view+json": {
              "model_id": "f8d7461a05b44d02b3538b90f62e6517",
              "version_major": 2,
              "version_minor": 0
            },
            "text/plain": [
              "Downloading (…)solve/main/vocab.txt:   0%|          | 0.00/489k [00:00<?, ?B/s]"
            ]
          },
          "metadata": {},
          "output_type": "display_data"
        },
        {
          "data": {
            "application/vnd.jupyter.widget-view+json": {
              "model_id": "fbc29e2b320d4d0fb756e474b3d832e4",
              "version_major": 2,
              "version_minor": 0
            },
            "text/plain": [
              "Downloading (…)cial_tokens_map.json:   0%|          | 0.00/113 [00:00<?, ?B/s]"
            ]
          },
          "metadata": {},
          "output_type": "display_data"
        },
        {
          "data": {
            "application/vnd.jupyter.widget-view+json": {
              "model_id": "39de25a2735d4943a3cd89c6ab9548ba",
              "version_major": 2,
              "version_minor": 0
            },
            "text/plain": [
              "Map:   0%|          | 0/40000 [00:00<?, ? examples/s]"
            ]
          },
          "metadata": {},
          "output_type": "display_data"
        },
        {
          "data": {
            "application/vnd.jupyter.widget-view+json": {
              "model_id": "0e1ba8ca77e94280b391d5f8e1c9fb91",
              "version_major": 2,
              "version_minor": 0
            },
            "text/plain": [
              "Map:   0%|          | 0/6203 [00:00<?, ? examples/s]"
            ]
          },
          "metadata": {},
          "output_type": "display_data"
        }
      ],
      "source": [
        "from datasets import load_dataset\n",
        "from transformers import AutoTokenizer\n",
        "import numpy as np\n",
        "raw_datasets = load_dataset(\"wongnai_reviews\")\n",
        "checkpoint = \"monsoon-nlp/bert-base-thai\"\n",
        "tokenizer = AutoTokenizer.from_pretrained(checkpoint)\n",
        "\n",
        "from transformers import DataCollatorWithPadding\n",
        "data_collator = DataCollatorWithPadding(tokenizer=tokenizer)\n",
        "\n",
        "def tokenize_dataset(dataset):\n",
        "    encoded = tokenizer(\n",
        "        dataset[\"review_body\"],\n",
        "        padding=\"max_length\",\n",
        "        max_length=128,\n",
        "        truncation=True,\n",
        "    )\n",
        "    return encoded.data\n",
        "\n",
        "tokenized_datasets = raw_datasets.map(tokenize_dataset, batched=True)\n",
        "\n",
        "small_train_dataset = tokenized_datasets[\"train\"].shuffle(seed=42).select(range(1000))\n",
        "small_eval_dataset = tokenized_datasets[\"test\"].shuffle(seed=42).select(range(1000))\n",
        "small_train_dataset = small_train_dataset.rename_column(\"star_rating\", \"label\")\n",
        "small_eval_dataset = small_eval_dataset.rename_column(\"star_rating\", \"label\")"
      ]
    },
    {
      "cell_type": "code",
      "execution_count": null,
      "metadata": {
        "colab": {
          "base_uri": "https://localhost:8080/"
        },
        "id": "yTGsaJQV5Xow",
        "outputId": "02a0ef94-814d-4f3d-dbd4-e511f1051279"
      },
      "outputs": [
        {
          "data": {
            "text/plain": [
              "Dataset({\n",
              "    features: ['review_body', 'label', 'input_ids', 'token_type_ids', 'attention_mask'],\n",
              "    num_rows: 1000\n",
              "})"
            ]
          },
          "execution_count": 42,
          "metadata": {},
          "output_type": "execute_result"
        }
      ],
      "source": [
        "small_train_dataset"
      ]
    },
    {
      "cell_type": "code",
      "execution_count": null,
      "metadata": {
        "colab": {
          "base_uri": "https://localhost:8080/"
        },
        "id": "DSBclubJ5aVG",
        "outputId": "5619532a-5e0e-4d4d-9738-7e18b1a9e461"
      },
      "outputs": [
        {
          "data": {
            "text/plain": [
              "Dataset({\n",
              "    features: ['review_body', 'label', 'input_ids', 'token_type_ids', 'attention_mask'],\n",
              "    num_rows: 1000\n",
              "})"
            ]
          },
          "execution_count": 43,
          "metadata": {},
          "output_type": "execute_result"
        }
      ],
      "source": [
        "small_eval_dataset"
      ]
    },
    {
      "cell_type": "code",
      "execution_count": null,
      "metadata": {
        "colab": {
          "base_uri": "https://localhost:8080/",
          "height": 160
        },
        "id": "mssN_vPvhP8U",
        "outputId": "b69da6c6-5e8e-4529-90d6-19d3f5422a05"
      },
      "outputs": [
        {
          "data": {
            "application/vnd.jupyter.widget-view+json": {
              "model_id": "d00d41daacb14182b6194673e35ea0e4",
              "version_major": 2,
              "version_minor": 0
            },
            "text/plain": [
              "Downloading (…)\"pytorch_model.bin\";:   0%|          | 0.00/424M [00:00<?, ?B/s]"
            ]
          },
          "metadata": {},
          "output_type": "display_data"
        },
        {
          "name": "stderr",
          "output_type": "stream",
          "text": [
            "Some weights of the model checkpoint at monsoon-nlp/bert-base-thai were not used when initializing BertForSequenceClassification: ['cls.predictions.bias', 'cls.predictions.transform.LayerNorm.weight', 'cls.seq_relationship.weight', 'cls.predictions.transform.LayerNorm.bias', 'cls.predictions.transform.dense.bias', 'cls.predictions.decoder.weight', 'cls.predictions.transform.dense.weight', 'cls.seq_relationship.bias', 'cls.predictions.decoder.bias']\n",
            "- This IS expected if you are initializing BertForSequenceClassification from the checkpoint of a model trained on another task or with another architecture (e.g. initializing a BertForSequenceClassification model from a BertForPreTraining model).\n",
            "- This IS NOT expected if you are initializing BertForSequenceClassification from the checkpoint of a model that you expect to be exactly identical (initializing a BertForSequenceClassification model from a BertForSequenceClassification model).\n",
            "Some weights of BertForSequenceClassification were not initialized from the model checkpoint at monsoon-nlp/bert-base-thai and are newly initialized: ['classifier.weight', 'classifier.bias']\n",
            "You should probably TRAIN this model on a down-stream task to be able to use it for predictions and inference.\n"
          ]
        }
      ],
      "source": [
        "from transformers import AutoModelForSequenceClassification\n",
        "model = AutoModelForSequenceClassification.from_pretrained(checkpoint, num_labels=5).cuda()\n"
      ]
    },
    {
      "cell_type": "code",
      "execution_count": null,
      "metadata": {
        "colab": {
          "base_uri": "https://localhost:8080/",
          "height": 511
        },
        "id": "_75vOuMahbDV",
        "outputId": "225a2760-9b6c-41f0-e65e-ff0d36281f32"
      },
      "outputs": [
        {
          "name": "stderr",
          "output_type": "stream",
          "text": [
            "<ipython-input-45-b22c92e68438>:6: FutureWarning: load_metric is deprecated and will be removed in the next major version of datasets. Use 'evaluate.load' instead, from the new library 🤗 Evaluate: https://huggingface.co/docs/evaluate\n",
            "  metric = load_metric(\"accuracy\")\n"
          ]
        },
        {
          "data": {
            "application/vnd.jupyter.widget-view+json": {
              "model_id": "82b5f1f1809e4f5cb90fda91c44764a4",
              "version_major": 2,
              "version_minor": 0
            },
            "text/plain": [
              "Downloading builder script:   0%|          | 0.00/1.65k [00:00<?, ?B/s]"
            ]
          },
          "metadata": {},
          "output_type": "display_data"
        },
        {
          "name": "stderr",
          "output_type": "stream",
          "text": [
            "The following columns in the training set don't have a corresponding argument in `BertForSequenceClassification.forward` and have been ignored: review_body. If review_body are not expected by `BertForSequenceClassification.forward`,  you can safely ignore this message.\n",
            "/usr/local/lib/python3.8/dist-packages/transformers/optimization.py:306: FutureWarning: This implementation of AdamW is deprecated and will be removed in a future version. Use the PyTorch implementation torch.optim.AdamW instead, or set `no_deprecation_warning=True` to disable this warning\n",
            "  warnings.warn(\n",
            "***** Running training *****\n",
            "  Num examples = 1000\n",
            "  Num Epochs = 3\n",
            "  Instantaneous batch size per device = 8\n",
            "  Total train batch size (w. parallel, distributed & accumulation) = 8\n",
            "  Gradient Accumulation steps = 1\n",
            "  Total optimization steps = 375\n",
            "  Number of trainable parameters = 105248261\n",
            "You're using a BertTokenizerFast tokenizer. Please note that with a fast tokenizer, using the `__call__` method is faster than using a method to encode the text followed by a call to the `pad` method to get a padded encoding.\n"
          ]
        },
        {
          "data": {
            "text/html": [
              "\n",
              "    <div>\n",
              "      \n",
              "      <progress value='375' max='375' style='width:300px; height:20px; vertical-align: middle;'></progress>\n",
              "      [375/375 01:13, Epoch 3/3]\n",
              "    </div>\n",
              "    <table border=\"1\" class=\"dataframe\">\n",
              "  <thead>\n",
              " <tr style=\"text-align: left;\">\n",
              "      <th>Step</th>\n",
              "      <th>Training Loss</th>\n",
              "    </tr>\n",
              "  </thead>\n",
              "  <tbody>\n",
              "  </tbody>\n",
              "</table><p>"
            ],
            "text/plain": [
              "<IPython.core.display.HTML object>"
            ]
          },
          "metadata": {},
          "output_type": "display_data"
        },
        {
          "name": "stderr",
          "output_type": "stream",
          "text": [
            "\n",
            "\n",
            "Training completed. Do not forget to share your model on huggingface.co/models =)\n",
            "\n",
            "\n"
          ]
        },
        {
          "data": {
            "text/plain": [
              "TrainOutput(global_step=375, training_loss=1.2714569498697916, metrics={'train_runtime': 76.3093, 'train_samples_per_second': 39.314, 'train_steps_per_second': 4.914, 'total_flos': 197338606848000.0, 'train_loss': 1.2714569498697916, 'epoch': 3.0})"
            ]
          },
          "execution_count": 45,
          "metadata": {},
          "output_type": "execute_result"
        }
      ],
      "source": [
        "from transformers import TrainingArguments\n",
        "from transformers import Trainer\n",
        "import numpy as np\n",
        "from datasets import load_metric\n",
        "\n",
        "metric = load_metric(\"accuracy\")\n",
        "\n",
        "def compute_metrics(eval_pred):\n",
        "    logits, labels = eval_pred\n",
        "    predictions = np.argmax(logits, axis=-1)\n",
        "    return metric.compute(predictions=predictions, references=labels)\n",
        "\n",
        "training_args = TrainingArguments(\"test_trainer\")\n",
        "trainer = Trainer(model=model, args=training_args, train_dataset=small_train_dataset, eval_dataset=small_eval_dataset, compute_metrics=compute_metrics, tokenizer=tokenizer)\n",
        "trainer.train()\n"
      ]
    },
    {
      "cell_type": "code",
      "execution_count": null,
      "metadata": {
        "colab": {
          "base_uri": "https://localhost:8080/",
          "height": 240
        },
        "id": "erwtGlyW3W9H",
        "outputId": "d8f8ef59-d866-441e-baba-7c8a02496ad9"
      },
      "outputs": [
        {
          "name": "stderr",
          "output_type": "stream",
          "text": [
            "The following columns in the evaluation set don't have a corresponding argument in `BertForSequenceClassification.forward` and have been ignored: review_body. If review_body are not expected by `BertForSequenceClassification.forward`,  you can safely ignore this message.\n",
            "***** Running Evaluation *****\n",
            "  Num examples = 1000\n",
            "  Batch size = 8\n"
          ]
        },
        {
          "data": {
            "text/html": [
              "\n",
              "    <div>\n",
              "      \n",
              "      <progress value='125' max='125' style='width:300px; height:20px; vertical-align: middle;'></progress>\n",
              "      [125/125 00:07]\n",
              "    </div>\n",
              "    "
            ],
            "text/plain": [
              "<IPython.core.display.HTML object>"
            ]
          },
          "metadata": {},
          "output_type": "display_data"
        },
        {
          "data": {
            "text/plain": [
              "{'eval_loss': 1.1714799404144287,\n",
              " 'eval_accuracy': 0.484,\n",
              " 'eval_runtime': 7.5223,\n",
              " 'eval_samples_per_second': 132.938,\n",
              " 'eval_steps_per_second': 16.617,\n",
              " 'epoch': 3.0}"
            ]
          },
          "execution_count": 46,
          "metadata": {},
          "output_type": "execute_result"
        }
      ],
      "source": [
        "trainer.evaluate()"
      ]
    },
    {
      "cell_type": "code",
      "execution_count": null,
      "metadata": {
        "id": "7cTuvAe498I4"
      },
      "outputs": [],
      "source": [
        "r = small_eval_dataset.select(range(10))"
      ]
    },
    {
      "cell_type": "code",
      "execution_count": null,
      "metadata": {
        "colab": {
          "base_uri": "https://localhost:8080/"
        },
        "id": "_b8Dn28V-mha",
        "outputId": "5ae17c58-0cf1-45b7-ce39-783d7f20897a"
      },
      "outputs": [
        {
          "data": {
            "text/plain": [
              "Dataset({\n",
              "    features: ['review_body', 'label', 'input_ids', 'token_type_ids', 'attention_mask'],\n",
              "    num_rows: 10\n",
              "})"
            ]
          },
          "execution_count": 48,
          "metadata": {},
          "output_type": "execute_result"
        }
      ],
      "source": [
        "r"
      ]
    },
    {
      "cell_type": "code",
      "execution_count": null,
      "metadata": {
        "colab": {
          "base_uri": "https://localhost:8080/"
        },
        "id": "OLOE9IKm-I74",
        "outputId": "81b3f244-bee3-459a-fbdc-a3f5dced2e7a"
      },
      "outputs": [
        {
          "data": {
            "text/plain": [
              "['หน้าร้อนนี้เพื่อนๆ หาร้านอาหารนั่งชิลล์กันอยู่หรือเปล่าคะ พอดีวันก่อนน้องหลุมดำกับพี่ชายสุดหล่อเดินผ่านร้าน On the Table ที่สาขา Siam Center เห็นว่ามี 8 เมนูออกใหม่ “In the Summertime” เฉพาะหน้าร้อนนี้ด้วย แค่เห็นรูปก็น้ำลายไหลแล้ว รีบชวนพี่ชายเข้าร้านแบบไม่คิดมากเลยค่ะ\\n\\n“In the Summertime” เป็นเมนูโปรโมชันต้อนรับความอบอุ่นช่วงหน้าร้อนเท่านั้นค่ะ เห็นแต่ละเมนูเลือกไม่ได้จริงๆ ว่าจะสั่งเมนูไหน ขอลองมันทุกอย่างเลยดีกว่า อิอิ ทานไม่หมดเดี๋ยวค่อยเรียกกำลังเสริมเนอะ เมนูแรกที่เสิร์ฟที่โต๊ะของเราสองพี่น้องคือ “Bacon Double Cheese Balls” (180.-) ชีสบอลกับโปเตโตเวดจ์ทอดจนเหลืองกรอบ เพิ่มรสชาติและเทกซ์เจอร์ด้วยเบคอนกรอบ ท็อปด้วยมอลซาเรลลาชีสที่นำไปอบจนชีสละลาย เสิร์ฟมาร้อนๆ ชีสเยิ้มสุดๆ ดีงามมากกก \\n\\nตามด้วยโรลล์พาร์แมงโกะ “Parmango Maki” (250.-) โดดเด่นด้วยรสชาติหวานอมเปรี้ยวของมะม่วงน้ำดอกไม้ที่วางท็อปบนโรลพาร์มาแฮม ด้านในโรลล์สอดไส้ด้วยปูอัด ฮิยาชิวากาเมะ และแตงกวา รสชาติกลมกล่อมเข้ากันได้อย่างไม่น่าเชื่อ\\n\\nหน้าร้อนใช่ว่าต้องทานแต่ของเย็นๆ เท่านั้นนะ ทานต้มยำกุ้งแซ่บๆ หน้าร้อนก็สะใจอยู่ค่ะ อุด้งต้มยำซีฟู้ด “Seafood Tomyum Udon” (280.-) ต้มยำฟิวชันที่มีพระเอกคืออุด้งเส้นหนึบหนับและเครื่องต้มยำเข้มข้น ไม่จัดจ้านมากเกินไปแต่กลมกล่อมกำลังดี แถมมีเครื่องทะเลเน้นๆ ทั้งหอยนิวซีแลนด์ ปลาหมึก กุ้ง ปลาแซลมอนเต็มถ้วยเลย\\n\\nแน่นอนว่ามา On the Table จะขาดพิซซ่าไม่ได้ โปรฯ “In the Summertime” มีพิซซ่าให้เลือก 2 หน้า “Tori Katsu Kare Pizza” (270.-) พิซซ่าแกงกะหรี่ไก่กรอบ เหมาะกับคนที่ชอบกลิ่นหอมเป็นเอกลักษณ์ของแกงกะหรี่ค่ะ แป้งบางกรอบ ท็อปปิ้งเน้นๆ ทั้งไข่โทบิโกะ ไก่กรอบ สลัด และชีส ส่วนอีกหน้าเหมาะกับคนที่ชอบรสชาติจัดจ้านของเครื่องต้มยำ “Tori Yaki Tomyum Pizza” (290.-) พิซซ่าต้มยำไก่ย่าง รสชาติเข้มข้นด้วยเครื่องต้มยำสูตรพิเศษเฉพาะที่ On the Table เท่านั้น เข้ากันได้ดีกับไก่ย่างเนื้อนุ่มค่ะ หยิบเข้าปากเพลินๆ หันมาอีกที่พี่ชายเราฟาดเรียบ!\\n\\nนอกจากอาหารแล้วก็มีเครื่องดื่มซิกเนเจอร์ที่มีเฉพาะหน้าร้อนนี้ด้วยนะคะ แมงโก้ไอซ์แลนด์ “Mango Island” (125.-) รสหวานอมเปรี้ยวซ่าบซ่าของมะม่วง สับปะรดและโซดา น้ำมะม่วงปั่น “Fresh Mango Smoothie” (135.-) น้ำมะม่วงสมูทตีที่ผสมผสานกับโยเกิร์ตรสหวานละมุน จะแก้วไหนยิ่งดื่มยิ่งสดชื่น\\n\\nมะม่วงพานาคอตต้า “Fresh Mango Panna Cotta” (160.-) พานาคอตตาเนื้อนุ่ม ตัดรสด้วยซอสมะม่วงโฮมเมด รสเปรี้ยวอมหวาน พร้อมเนื้อมะม่วงสุกหั่นเต๋า โดยรวมรสหวานเย็นสดชื่น เหมาะกับหน้าร้อนสุดๆ พวกเราแย่งกินจนต้องสั่งมาใหม่อีกแก้วเลยล่ะค่ะ ยิ่งเป็นคนชอบมะม่วงอยู่แล้วยิ่งเลิฟ~\\n\\nเมนูหน้าร้อนของ On the Table มีตามที่น้องหลุมดำว่ามาเลยค่ะ แต่ๆๆ ถ้ามากัน 2-3 คน แทนที่จะสั่งแยกกัน แนะนำสั่ง “Summer Set” เซตเมนูฤดูร้อนในราคาพิเศษจาก 860 บาทเหลือ 690 บาทเท่านั้น ที่จะได้ทั้งหมดสี่เมนู คือ เบคอน ดับเบิ้ล ชีสบอล, โรลล์พาร์แมงโกะ, พิซซ่าแกงกระหรี่ไก่กรอบ (สามารถเปลี่ยนเป็น Tori Yaki Tomyum Pizza ได้ค่ะ เพิ่มเพียง 20 บาท), มะม่วงพานาคอตตา บอกเลยว่าเซตนี้คุ้มสุดๆ\\nอยากรู้ว่าแต่ละเมนูจะโดนใจขนาดไหนก็ตามน้องหลุมดำมาโดนกันได้ >_< ตั้งแต่วันนี้ ถึง 16 มิ.ย. 60 ได้ที่ On the Table ทุกสาขาใกล้บ้านนะคะ',\n",
              " 'ช่วงนี้ใครมาเดินเจเจกรีน แน่นอนต้องโหยหาร้านที่มีที่นั่งสบายๆหน่อยเป็นแน่ เพราะทางเข้านั้นเดินอ้อมแสนอ้อม ไกลโคตรๆ ไปอีก เดินกันมันส์เท้าไปเลย \\n\\nก็ลองมานั่งกินข้าวต้มกันร้านนี้ก็ได้ แถวละแวกเบยโซนร้านเหล้าไป ใกล้ร้านเข้าโค้งคลับ \\n\\nน่าจะเป็นร้านข้าวต้มที่พึ่งเปิดไม่นาน ไม่เคยเห็นอะ หรือเราเซ่อร์เองไม่รู้ ร้านนี้ก็มีหลายอย่างพวกต้มๆข้าวต้ม ข้าวต้มกุ๊ยและกับข้าวไรงี้\\n\\n\\nวันนี้บองสั่งข้าวต้มหมูสับไข่ลวกดู  น้ำข้าวต้มไม่ได้มีรสอะไร รสมาเด่นที่หมูสับที่ปรุงรสมา ถ้ามีกระเพราก้อรสชาติคล้ายกับกินผัดกระเพรา ที่โดดหวานปะแล่มๆหน่อย ไม่โดดเค็ม ส่วนตัวว่ายังขาดเค็มนิดหน่อยอาจจะเพราะชอบทานเค็ม แต่ไม่ถึงกับเค็มแบบไตถามหานะ \\n\\n\\nรสชาติโดยรวมก้อถือว่าโอเคทานได้ ที่นั่งมีหลายโต๊ะอยู่\\nแถมพนักงานมีคนนึงน่ารักดี 55555  อะมาลองกันๆ ',\n",
              " 'เดือนที่แล้วมาจันทบุรี จะแวะทานข้าวหน้าเป็ดย่างร้านนี้ตอนจะกลับ กทม. แต่ร้านปิด เลยหมายตาไว้ วันนี้จัดซะเลยค่ะ\\n\\nเป็นข้าวหน้าเป็ดย่างจานที่สองของวันนี้ สั่งจานธรรมดา จานละ 30 บาทเท่านั้น ราคาไม่แพงค่ะ ปริมาณก็พอสมควร ไม่ถึงกับเยอะ แต่ก็ไม่น้อยจนน่าเกลียด \\n\\nเป็ดย่าง ย่างเนื้อดี ไม่แห้ง ข้าวคุณภาพกลางๆ นุ่มดี น้ำราดเป็ดออกรสหวานเฉยๆ สรุปภาพรวม คุณภาพและรสชาติกลางๆ ทานได้ค่ะ  ',\n",
              " 'ร้านอยู่ฝั่งเดียวกับซาฟารีเวิลด์แต่ก่อนถึง อยู่ด้านซ้ายทางที่เราขับมา ร้านมีทั้งอาหารไทย อาหารฝรั่ง เช่นsteak \\nสั่งไป3อย่าง 400บาท กินกันสองคน \\nอร่อยหมดเลย \\n1.สะตอผัดน้ำพริกกระปิ สะตอมีไม่เยอะ ต้องสั่งว่าไม่เผ็ดด้วยนะ ขนาดเราบอกว่าไม่เผ็ด ได้มาเผ็ดระดับหนึ่งเลย \\n2.ยำถั่วพลู เยอะมาก มีทั้งปลามึดกุ้ง อรอ่ยไม่เผ็ด\\n3.ปลากระบอกทอด -> แนะนำเปลี่ยนเป็นปลาชนิดอื่นจะได้กินได้ทั้งตัว',\n",
              " 'เป็นอีกร้านที่มีหลายสาขาและเดินผ่านบ่อยๆ แต่ไม่เคยลอง\\nพอดีวันนี้อยากทานซี่โครงหมูก็เลยลองแวะมาเพราะมีโปร 999 บาท\\nสั่งมา 3 อย่าง ทาน 4 คน อิ่มมากกก\\n\\nสลัดอกเป็ด รสชาติดี พีชก็อร่อย แต่ซอสเปรี้ยวไปหน่อย เลยทำให้เสียรสชาติผักสดๆไปนิดนึง\\n\\nQuesadilla อันนี้ชอบมาก แป้งบางกรอบดี ไส้ก็รสชาติดี รู้สึกถึงความเม็กซิกัน คิดถึงรสชาตินี้มากๆ เสริฟมากับ Greek Yoghurt ที่รสมันๆ หอมชีสบางๆ ไม่เปรี้ยวมาก ลงตัวดี\\n\\nซี่โครงหมูบาร์บีคิว จะบอกว่าจานนี้ใหญ่มากกก มาเป็นก้อนเลย แต่จะไปหนักกระดูก มีเนื้อพอประมาณ เนื้อค่อนข้างเปื่อย แต่ยังติดกระดูกบ้าง ถ้าไม่ใช้มือจะกินยากนิดนึง รสชาติรู้สึกออกคล้ายๆแฮม ไม่แห้ง แต่ซอสก็ไม่เยิ้มเหมือนบางที่ รู้สึกค่อนข้างแตกต่าง แต่ส่วนตัวชอบแบบซอสเยอะๆมากกว่า\\nชอบที่มี curly fries มาด้วย หาทานไม่ได้นานแล้ว แถม corn on the cob ยังมาทั้งฝักเลย\\nส่วน jack potato ก็นิ่มดี อร่อย ถ้ามี topping เยอะกว่านี้จะดีมาก\\n\\nCreme Brulee จานนี้ถือว่าอร่อยดี ชอบรสชาเขียวที่สุด (ถึงจะไม่ค่อยได้รสชาเขียว) ส่วนอันที่เป็นรสวานิลา (รสปกติ) เนื้อมันเบาไปนิด ถ้าแน่นๆจะดีกว่านี้ เชอร์เบทที่มาด้วยออกเปรี้ยวมาก แต่ชอบนะ ตัดเลี่ยนได้ดีมาก\\n\\nสุดท้ายมาที่ราคาที่ค่อนข้างสูง แต่ก็รู้สึกค่อนข้างคุ้มค่าทีเดียว ถ้ามีโอกาสก็อาจจะมาทานอีกค่า',\n",
              " 'หูฉลามที่นี่ถือว่าสุดยอด อร่อยที่สุดเท่าที่ทานมาหลายที่\\nกระเพาะปลาผัดกุ้งก็หอมมาก ฟินสุดๆ หอมกระเพาะปลา หอมกุ้ง\\nหอยนางรมสด หอยตัวโตสดมาก ให้เครื่องเคียงเยอะ\\nดีงามสุดๆ อร่อยแบบจีนแท้ๆ อร่อยเลิศกว่าร้านอาหารจีนระดับเดียวกันหลายร้าน ราคาสมเหตุสมผลไม่แพงเมื่อเทียบกับคุณภาพ\\nบรรยากาศร้านดูสะอาดสะอ้านดี\\nใครชอบทานอาหารจีนพลาดไม่ได้',\n",
              " 'ร้านข้าวมันไก่ ราคาเบาๆ เริ่มต้นที่ 29 บาท มีไก่ทอด ไก่ต้ม ไก่อบ โจ๊ก มาม่า  \\nข้าวมันไก่ ข้าวนิ่ม เนื้อไก่เด้ง ชิ้นใหญ่ ตักน้ำซุปและน้ำจิ้ม ได้เองตามชอบ\\nน้ำจิ้มรสเด็ด น้ำดิื่มฟรี ที่จอดรถบริเวณหน้าร้านและในซอยค่ะ',\n",
              " '#New Territories N°49/T1220/P14376(25)\\n\\nทริปนี้หม่ำดิ่มซำไปหลายร้านเลยค่ะ\\u200b เพราะมาเที่ยวยาวเกือบสองอาทิตย์\\u200b ร้านนี้เป็นร้านเดียว\\u200b  ที่ต่ำกว่ามาตรฐานแบบพอทานได้ไปมาก\\u200b  เหลืออาหารทิ้งเกือบทุกจาน\\n\\nที่สั่งมาลองคราวนี้คือ\\u200b\\n\\n- Crystal Dumplings แป้งใสแจ๋วดีน่าทาน\\u200b แต่กัดเข้าไปแล้ว.. แป้งเละๆรสจืดๆ\\u200b แถมไส้ด้านในผัดแบบไม่ปรุงอะไรมาเลย\\u200b จืดสนิททั้งแป้งทั้งไส้\\u200b ตัวแป้งห่อนี่ไม่ไหวค่ะ\\u200b ชิมไปคำเดียว\\u200b ลูกืี่เหลือแงะไส้จืดๆมาจิ้มกับ\\u200b chili oil ทานแทน\\u200b 1????\\n\\n- โจ๊กไขไก่ไข่เยี่ยวม้า\\u200b หาไก่แทบไม่เจอมีมาสองชิ้นเล็กๆ\\u200b ไข่เยี่ยวม้ากลิ่นแปลกๆ\\u200b เนื้อโจ๊กเนียนพอใช้\\u200b เหมือนทานแต่โจ๊กเปล่าๆ\\u200b ทานไป\\u200b 1/3  ก็หยุดทาน\\u200b 2????\\n\\n- ก๋วยเตี๋ยว\\u200bหลอด\\u200bหมู\\u200b แป้งนิ่มมากค่อนไปทานเละ\\u200b คีบเบาๆก็ขาดออกจากกันกระจัดกระจาย\\u200b ไส้หมูที่มาก็จืดสนิท\\u200b ทานไป1/3ชิ้นก็หยุด\\u200b 1????\\n\\nการบริการ\\u200b คือ\\u200b แบบเหมือนมาขอทานฟรี\\u200b ตอนไปถึงยังไม่มีคิวหน้าร้าน\\u200b พนักงานด้านหน้าก็ชี้แบบส่งๆไป\\u200bให้ไปนั่งโต๊ะว่างที่มีกาน้ำร้อนต้องอยู่สองกา\\u200b ซึ่งก็เต็มโต๊ะแล้ว\\u200b เราก็ขมวดคิ้วกลับ\\u200b ซิ้มแกถึงยกกาออกแล้วเอากระดาษมาปูทับลงไป\\u200b เวลามาเสริฟก็กระแทกกระทั้น\\u200b ปังปึงๆ\\u200b ไปทุกโต๊ะ\\u200b ไม่รู้\\u200bไปโกรธใครมา??? เสริฟอาหารครบทุกอย่างแต่ไม่มีซอสมีซีอิ้วมาให้\\u200b กะจะให้ทานโจ๊ก\\u200b ทานเตี๋ยวหลอดแบบนั้นเลย?? เราถามหาซีเหย๋าก็แบบทำหน้าไม่พอใจ\\u200b คือ\\u200b อะไรอ่ะ\\u200b บริการที่นี่ติดลบสุดๆ\\u200b ดีที่ไม่มี\\u200bSC  เพราะถ้ามีร้านแบบนี้แหละที่เราจะทะเลาะเอา\\u200b SC คืน\\u200b ติบลบมากๆกับบริการแบบนี้\\n\\nราคา\\u200b 100 กว่าเหรียญ\\u200bฮ่องกง\\u200b คุณภาพอาหาร\\u200b รสชาติ\\u200bอาหาร\\u200b การบริการไม่สมราคา\\u200b เพราะไปร้านอื่นๆทานก็ราคาพอๆกันนี้ได้อาหารคุณภาพและรสชาติดีกว่าเยอะ\\u200b บริการก็พอรับได้ตามสไตล์\\u200bคนฮ่องกงแก่ๆทั่วๆไป\\u200b \\n\\nสรุปประสบการณ์\\u200bที่ได้รับส่วนบุคคล\\u200bคือ\\u200b  เสียดายค่าอาหาร\\u200b เสียดายเวลา\\u200b เสียดายค่าแท็กซี่\\u200b \\n\\nผ่านมาทางนี้ก็แวะชิมดูค่ะ\\u200b ต่างวัน\\u200b ต่างเวลา\\u200b ประสบการณ์\\u200bที่ได้อาจแตกต่าง\\u200bกัน\\u200b เรื่องของรสชาติคงต้องแล้วแต่ความชอบ  ต่างคน\\u200b ต่างลิ้น\\u200bกันเนอะคะ ลองดู\\u200bก่อนเผื่อจะถูกใจ\\u200bค่า\\n\\n*** The rating scale for my reviews are from my personal taste with expects to adjusted for it\\'s own categories. The same place on different days may result in different experiences. We all have different \"Taste Buds\",\\xa0 and experience different \"Service\" ***',\n",
              " 'ร้านสาขานี้อยู่ตรงบันไดเลื่อนเลยค่ะ ใกล้ๆmarugame semen กับบาบีก้อน\\n\\nร้านไซส์กลางๆมาที่นั่งนิดหน่อย  พนง.ค่อนข้างเยอะกว่าร้านชานมทั่วไป เพราะเค้าชงชาสดๆแก้วต่อแก้ว ชาที่ได้เลยหอมอร่อย\\n\\nพนง.ยิ้มแย้มดี มัดผมเรียบร้อยน่ารัก ไปวันสงกรานต์เจอเค้ารดน้ำดำหัวกันเองอยู่ในร้าน ก็รู้สึกดีค่ะ^^',\n",
              " 'มาเดินเล่นแล้วเจอเข้ากับร้านนี้ มีพี่เรนคอยยืนต้อนรับอยู่หน้าร้าน เนื่องจากทานข้าวมาแล้วทำให้หนังท้องยังตึงอยู่ แต่อยากจะอุดหนุนเรนสักหน่อย แล้วสายตาก็เหลือบไปเห็นว่าเค้า ขายเบเกอรี่ด้วย อย่างนี้ก็เอากลับไปทานได้ เลยได้โอกาสอุดหนุนซะเลย\\n\\nขนมปังแต่ละตัวดูนุ่มน่าทานมาก มีขนมปังบางตัวมีให้ชิมด้วยนะคะ\\n\\nวันนี้ลองซื้อ ขนมปังถั่วแดง กับ  milk cream bread \\n\\nขนมปังถั่วแดง อยากบอกว่าเนื้อขนมปังนู้มมมมมมมาก อร่อยจริงๆ ทานแล้วไม่เบื่อเลย แต่ไส้ถั่วแดงหวานเจี๊ยบเลยอะค่ะ คราวหลังคงต้องไปลองไส้อื่นดูบ้าง\\n\\nmilk cream bread ขนมปังอร่อยอีกละคะ หอมครีมนม อร่อยมากๆค่ะ เนื้อขนมปังก็นุ่มอร่อย\\n\\nโดยรวมเนื้อขนมปังอร่อยค่ะ  วัตถุดิบที่นำมาใช้ทานแล้วรู้ได้เลยว่าของดี อร่อยดีค่ะ\\n\\n????รีวิวนี้เป็นความคิดเห็นส่วนตัว หากไม่ตรงใจใคร ก็ขออภัยไว้ ณ ที่นี้ เพราะเป็นการเขียนตามความคิดเห็นของเราในวันที่ไปทานเท่านั้นจ้า ????']"
            ]
          },
          "execution_count": 49,
          "metadata": {},
          "output_type": "execute_result"
        }
      ],
      "source": [
        "r['review_body']"
      ]
    },
    {
      "cell_type": "code",
      "execution_count": null,
      "metadata": {
        "colab": {
          "base_uri": "https://localhost:8080/"
        },
        "id": "IgFbKaKW-MFq",
        "outputId": "e038269c-9cf7-4f2b-b0d6-db7a52feb6ae"
      },
      "outputs": [
        {
          "data": {
            "text/plain": [
              "[4, 2, 2, 3, 3, 4, 3, 1, 2, 3]"
            ]
          },
          "execution_count": 50,
          "metadata": {},
          "output_type": "execute_result"
        }
      ],
      "source": [
        "r['label']"
      ]
    },
    {
      "cell_type": "code",
      "execution_count": null,
      "metadata": {
        "colab": {
          "base_uri": "https://localhost:8080/",
          "height": 110
        },
        "id": "yGbZIBrC67rR",
        "outputId": "5c662c31-6a30-4aa6-f348-f441681fb118"
      },
      "outputs": [
        {
          "name": "stderr",
          "output_type": "stream",
          "text": [
            "The following columns in the test set don't have a corresponding argument in `BertForSequenceClassification.forward` and have been ignored: review_body. If review_body are not expected by `BertForSequenceClassification.forward`,  you can safely ignore this message.\n",
            "***** Running Prediction *****\n",
            "  Num examples = 10\n",
            "  Batch size = 8\n"
          ]
        },
        {
          "data": {
            "text/html": [],
            "text/plain": [
              "<IPython.core.display.HTML object>"
            ]
          },
          "metadata": {},
          "output_type": "display_data"
        }
      ],
      "source": [
        "preds = trainer.predict(r)"
      ]
    },
    {
      "cell_type": "code",
      "execution_count": null,
      "metadata": {
        "colab": {
          "base_uri": "https://localhost:8080/"
        },
        "id": "tdKV038E-253",
        "outputId": "20030057-0e22-4d6c-9ac0-2813b4425e54"
      },
      "outputs": [
        {
          "data": {
            "text/plain": [
              "PredictionOutput(predictions=array([[-2.3499722 , -1.0028783 ,  1.0004996 ,  1.3586643 ,  0.37139955],\n",
              "       [-2.3489    , -1.0030563 ,  1.001059  ,  1.3587768 ,  0.3714226 ],\n",
              "       [-2.348864  , -1.0030391 ,  1.0010241 ,  1.3587189 ,  0.37135908],\n",
              "       [-2.3491077 , -1.0027978 ,  1.0006928 ,  1.3586824 ,  0.37128   ],\n",
              "       [-2.3496425 , -1.0029814 ,  1.0008881 ,  1.3588018 ,  0.37149498],\n",
              "       [-2.348802  , -1.0029571 ,  1.0010067 ,  1.3588072 ,  0.37147745],\n",
              "       [-2.3488188 , -1.0029209 ,  1.0009116 ,  1.3587403 ,  0.37144414],\n",
              "       [-2.3497894 , -1.002695  ,  1.0004333 ,  1.3588523 ,  0.37148616],\n",
              "       [-2.348773  , -1.0026742 ,  1.0007123 ,  1.3587731 ,  0.37139693],\n",
              "       [-2.349309  , -1.0027237 ,  1.0004654 ,  1.3589497 ,  0.37132868]],\n",
              "      dtype=float32), label_ids=array([4, 2, 2, 3, 3, 4, 3, 1, 2, 3]), metrics={'test_loss': 1.3250528573989868, 'test_accuracy': 0.4, 'test_runtime': 0.1189, 'test_samples_per_second': 84.073, 'test_steps_per_second': 16.815})"
            ]
          },
          "execution_count": 52,
          "metadata": {},
          "output_type": "execute_result"
        }
      ],
      "source": [
        "preds"
      ]
    },
    {
      "cell_type": "code",
      "execution_count": null,
      "metadata": {
        "colab": {
          "base_uri": "https://localhost:8080/"
        },
        "id": "h0zfjne66mpf",
        "outputId": "2fff1345-fe90-4500-ec32-107fa0ec6534"
      },
      "outputs": [
        {
          "data": {
            "text/plain": [
              "array([3, 3, 3, 3, 3, 3, 3, 3, 3, 3])"
            ]
          },
          "execution_count": 53,
          "metadata": {},
          "output_type": "execute_result"
        }
      ],
      "source": [
        "np.argmax(preds.predictions, axis=1)"
      ]
    },
    {
      "cell_type": "code",
      "execution_count": null,
      "metadata": {
        "colab": {
          "base_uri": "https://localhost:8080/",
          "height": 411
        },
        "id": "eLpQyC9LOwqe",
        "outputId": "2d4808f3-b204-4e2c-b63b-f9d5beaf0f87"
      },
      "outputs": [
        {
          "ename": "RuntimeError",
          "evalue": "ignored",
          "output_type": "error",
          "traceback": [
            "\u001b[0;31m---------------------------------------------------------------------------\u001b[0m",
            "\u001b[0;31mRuntimeError\u001b[0m                              Traceback (most recent call last)",
            "\u001b[0;32m<ipython-input-54-83f989b31dc6>\u001b[0m in \u001b[0;36m<module>\u001b[0;34m\u001b[0m\n\u001b[1;32m      8\u001b[0m \u001b[0mcuda\u001b[0m\u001b[0;34m.\u001b[0m\u001b[0mclose\u001b[0m\u001b[0;34m(\u001b[0m\u001b[0;34m)\u001b[0m\u001b[0;34m\u001b[0m\u001b[0;34m\u001b[0m\u001b[0m\n\u001b[1;32m      9\u001b[0m \u001b[0;34m\u001b[0m\u001b[0m\n\u001b[0;32m---> 10\u001b[0;31m \u001b[0mtorch\u001b[0m\u001b[0;34m.\u001b[0m\u001b[0mcuda\u001b[0m\u001b[0;34m.\u001b[0m\u001b[0mempty_cache\u001b[0m\u001b[0;34m(\u001b[0m\u001b[0;34m)\u001b[0m\u001b[0;34m\u001b[0m\u001b[0;34m\u001b[0m\u001b[0m\n\u001b[0m\u001b[1;32m     11\u001b[0m \u001b[0;34m\u001b[0m\u001b[0m\n\u001b[1;32m     12\u001b[0m \u001b[0mget_ipython\u001b[0m\u001b[0;34m(\u001b[0m\u001b[0;34m)\u001b[0m\u001b[0;34m.\u001b[0m\u001b[0msystem\u001b[0m\u001b[0;34m(\u001b[0m\u001b[0;34m'nvidia-smi'\u001b[0m\u001b[0;34m)\u001b[0m\u001b[0;34m\u001b[0m\u001b[0;34m\u001b[0m\u001b[0m\n",
            "\u001b[0;32m/usr/local/lib/python3.8/dist-packages/torch/cuda/memory.py\u001b[0m in \u001b[0;36mempty_cache\u001b[0;34m()\u001b[0m\n\u001b[1;32m    123\u001b[0m     \"\"\"\n\u001b[1;32m    124\u001b[0m     \u001b[0;32mif\u001b[0m \u001b[0mis_initialized\u001b[0m\u001b[0;34m(\u001b[0m\u001b[0;34m)\u001b[0m\u001b[0;34m:\u001b[0m\u001b[0;34m\u001b[0m\u001b[0;34m\u001b[0m\u001b[0m\n\u001b[0;32m--> 125\u001b[0;31m         \u001b[0mtorch\u001b[0m\u001b[0;34m.\u001b[0m\u001b[0m_C\u001b[0m\u001b[0;34m.\u001b[0m\u001b[0m_cuda_emptyCache\u001b[0m\u001b[0;34m(\u001b[0m\u001b[0;34m)\u001b[0m\u001b[0;34m\u001b[0m\u001b[0;34m\u001b[0m\u001b[0m\n\u001b[0m\u001b[1;32m    126\u001b[0m \u001b[0;34m\u001b[0m\u001b[0m\n\u001b[1;32m    127\u001b[0m \u001b[0;34m\u001b[0m\u001b[0m\n",
            "\u001b[0;31mRuntimeError\u001b[0m: CUDA error: invalid argument\nCUDA kernel errors might be asynchronously reported at some other API call,so the stacktrace below might be incorrect.\nFor debugging consider passing CUDA_LAUNCH_BLOCKING=1."
          ]
        }
      ],
      "source": [
        "# Clear everything\n",
        "\n",
        "from keras import backend as K\n",
        "K.clear_session()\n",
        "\n",
        "from numba import cuda\n",
        "cuda.select_device(0)\n",
        "cuda.close()\n",
        "\n",
        "torch.cuda.empty_cache()\n",
        "\n",
        "!nvidia-smi"
      ]
    },
    {
      "cell_type": "markdown",
      "metadata": {
        "id": "2pNZDy4BJl4X"
      },
      "source": [
        "## BERT (via Transformer library by Hugging Face and using Simple Transformer)\n",
        "Main reasons for using simple transformers.\n",
        "*   Can train the custom dataset without making formal Datasets in Huggingface's format.\n",
        "*   API is simple.\n",
        "\n",
        "Now we can use Wongnai dataframe from the preprocessing section.\n"
      ]
    },
    {
      "cell_type": "code",
      "execution_count": null,
      "metadata": {
        "colab": {
          "base_uri": "https://localhost:8080/"
        },
        "id": "WZbkki7DKGWE",
        "outputId": "0bd7594c-317a-4181-85d9-7f4427d78083"
      },
      "outputs": [
        {
          "name": "stdout",
          "output_type": "stream",
          "text": [
            "\u001b[2K     \u001b[90m━━━━━━━━━━━━━━━━━━━━━━━━━━━━━━━━━━━━━━\u001b[0m \u001b[32m250.5/250.5 KB\u001b[0m \u001b[31m21.8 MB/s\u001b[0m eta \u001b[36m0:00:00\u001b[0m\n",
            "\u001b[2K     \u001b[90m━━━━━━━━━━━━━━━━━━━━━━━━━━━━━━━━━━━━━━━━\u001b[0m \u001b[32m9.6/9.6 MB\u001b[0m \u001b[31m86.1 MB/s\u001b[0m eta \u001b[36m0:00:00\u001b[0m\n",
            "\u001b[2K     \u001b[90m━━━━━━━━━━━━━━━━━━━━━━━━━━━━━━━━━━━━━━━━\u001b[0m \u001b[32m2.0/2.0 MB\u001b[0m \u001b[31m92.3 MB/s\u001b[0m eta \u001b[36m0:00:00\u001b[0m\n",
            "\u001b[2K     \u001b[90m━━━━━━━━━━━━━━━━━━━━━━━━━━━━━━━━━━━━━━━━\u001b[0m \u001b[32m43.6/43.6 KB\u001b[0m \u001b[31m5.5 MB/s\u001b[0m eta \u001b[36m0:00:00\u001b[0m\n",
            "\u001b[?25h  Preparing metadata (setup.py) ... \u001b[?25l\u001b[?25hdone\n",
            "\u001b[2K     \u001b[90m━━━━━━━━━━━━━━━━━━━━━━━━━━━━━━━━━━━━━━\u001b[0m \u001b[32m181.3/181.3 KB\u001b[0m \u001b[31m24.1 MB/s\u001b[0m eta \u001b[36m0:00:00\u001b[0m\n",
            "\u001b[?25h  Preparing metadata (setup.py) ... \u001b[?25l\u001b[?25hdone\n",
            "\u001b[2K     \u001b[90m━━━━━━━━━━━━━━━━━━━━━━━━━━━━━━━━━━━━━━\u001b[0m \u001b[32m184.3/184.3 KB\u001b[0m \u001b[31m24.2 MB/s\u001b[0m eta \u001b[36m0:00:00\u001b[0m\n",
            "\u001b[2K     \u001b[90m━━━━━━━━━━━━━━━━━━━━━━━━━━━━━━━━━━━━━━\u001b[0m \u001b[32m239.0/239.0 KB\u001b[0m \u001b[31m29.2 MB/s\u001b[0m eta \u001b[36m0:00:00\u001b[0m\n",
            "\u001b[2K     \u001b[90m━━━━━━━━━━━━━━━━━━━━━━━━━━━━━━━━━━━━━━\u001b[0m \u001b[32m164.8/164.8 KB\u001b[0m \u001b[31m22.6 MB/s\u001b[0m eta \u001b[36m0:00:00\u001b[0m\n",
            "\u001b[2K     \u001b[90m━━━━━━━━━━━━━━━━━━━━━━━━━━━━━━━━━━━━━━━━\u001b[0m \u001b[32m80.7/80.7 KB\u001b[0m \u001b[31m10.8 MB/s\u001b[0m eta \u001b[36m0:00:00\u001b[0m\n",
            "\u001b[2K     \u001b[90m━━━━━━━━━━━━━━━━━━━━━━━━━━━━━━━━━━━━━━━━\u001b[0m \u001b[32m4.7/4.7 MB\u001b[0m \u001b[31m106.6 MB/s\u001b[0m eta \u001b[36m0:00:00\u001b[0m\n",
            "\u001b[?25h  Preparing metadata (setup.py) ... \u001b[?25l\u001b[?25hdone\n",
            "\u001b[2K     \u001b[90m━━━━━━━━━━━━━━━━━━━━━━━━━━━━━━━━━━━━━━━━\u001b[0m \u001b[32m62.7/62.7 KB\u001b[0m \u001b[31m8.6 MB/s\u001b[0m eta \u001b[36m0:00:00\u001b[0m\n",
            "\u001b[2K     \u001b[90m━━━━━━━━━━━━━━━━━━━━━━━━━━━━━━━━━━━━━━━━\u001b[0m \u001b[32m1.1/1.1 MB\u001b[0m \u001b[31m73.8 MB/s\u001b[0m eta \u001b[36m0:00:00\u001b[0m\n",
            "\u001b[2K     \u001b[90m━━━━━━━━━━━━━━━━━━━━━━━━━━━━━━━━━━━━━━━━\u001b[0m \u001b[32m84.5/84.5 KB\u001b[0m \u001b[31m12.5 MB/s\u001b[0m eta \u001b[36m0:00:00\u001b[0m\n",
            "\u001b[?25h  Building wheel for seqeval (setup.py) ... \u001b[?25l\u001b[?25hdone\n",
            "  Building wheel for validators (setup.py) ... \u001b[?25l\u001b[?25hdone\n",
            "  Building wheel for pathtools (setup.py) ... \u001b[?25l\u001b[?25hdone\n",
            "\u001b[31mERROR: pip's dependency resolver does not currently take into account all the packages that are installed. This behaviour is the source of the following dependency conflicts.\n",
            "ipython 7.9.0 requires jedi>=0.10, which is not installed.\u001b[0m\u001b[31m\n",
            "\u001b[0m"
          ]
        }
      ],
      "source": [
        "! pip -q install simpletransformers"
      ]
    },
    {
      "cell_type": "code",
      "execution_count": null,
      "metadata": {
        "colab": {
          "base_uri": "https://localhost:8080/"
        },
        "id": "IxMNbMX6OMIv",
        "outputId": "8843488b-b595-49be-a926-f092e93987a4"
      },
      "outputs": [
        {
          "name": "stdout",
          "output_type": "stream",
          "text": [
            "Mon Feb 27 08:41:06 2023       \n",
            "+-----------------------------------------------------------------------------+\n",
            "| NVIDIA-SMI 525.85.12    Driver Version: 525.85.12    CUDA Version: 12.0     |\n",
            "|-------------------------------+----------------------+----------------------+\n",
            "| GPU  Name        Persistence-M| Bus-Id        Disp.A | Volatile Uncorr. ECC |\n",
            "| Fan  Temp  Perf  Pwr:Usage/Cap|         Memory-Usage | GPU-Util  Compute M. |\n",
            "|                               |                      |               MIG M. |\n",
            "|===============================+======================+======================|\n",
            "|   0  Tesla T4            Off  | 00000000:00:04.0 Off |                    0 |\n",
            "| N/A   68C    P0    31W /  70W |    103MiB / 15360MiB |      0%      Default |\n",
            "|                               |                      |                  N/A |\n",
            "+-------------------------------+----------------------+----------------------+\n",
            "                                                                               \n",
            "+-----------------------------------------------------------------------------+\n",
            "| Processes:                                                                  |\n",
            "|  GPU   GI   CI        PID   Type   Process name                  GPU Memory |\n",
            "|        ID   ID                                                   Usage      |\n",
            "|=============================================================================|\n",
            "+-----------------------------------------------------------------------------+\n"
          ]
        }
      ],
      "source": [
        "! nvidia-smi"
      ]
    },
    {
      "cell_type": "code",
      "execution_count": null,
      "metadata": {
        "id": "45Kgns71LDQi"
      },
      "outputs": [],
      "source": [
        "# Simple transformer using a lot of conventions for simplify tasks.\n",
        "# See all about the conventions >> https://github.com/ThilinaRajapakse/simpletransformers\n",
        "\n",
        "\n",
        "# Simple transformer always set x class = \"text\" and y class = \"labels\" between 0..4\n",
        "train_ = pd.DataFrame({\"text\": train[\"wordseged_space_review\"], \"labels\": train[\"star\"]-1})\n",
        "test_ = pd.DataFrame({\"text\": test[\"wordseged_space_review\"], \"labels\": test[\"star\"]-1})\n",
        "train_.labels = pd.Categorical(train_.labels)\n",
        "test_.labels = pd.Categorical(test_.labels)"
      ]
    },
    {
      "cell_type": "code",
      "execution_count": null,
      "metadata": {
        "colab": {
          "base_uri": "https://localhost:8080/",
          "height": 423
        },
        "id": "6Hu2wBoLTGDb",
        "outputId": "d6c6e05a-1e23-4c4c-9aa0-dc9b64e8366c"
      },
      "outputs": [
        {
          "data": {
            "text/html": [
              "\n",
              "  <div id=\"df-c78b843c-67a9-4f67-8e8b-0b1da1e22237\">\n",
              "    <div class=\"colab-df-container\">\n",
              "      <div>\n",
              "<style scoped>\n",
              "    .dataframe tbody tr th:only-of-type {\n",
              "        vertical-align: middle;\n",
              "    }\n",
              "\n",
              "    .dataframe tbody tr th {\n",
              "        vertical-align: top;\n",
              "    }\n",
              "\n",
              "    .dataframe thead th {\n",
              "        text-align: right;\n",
              "    }\n",
              "</style>\n",
              "<table border=\"1\" class=\"dataframe\">\n",
              "  <thead>\n",
              "    <tr style=\"text-align: right;\">\n",
              "      <th></th>\n",
              "      <th>text</th>\n",
              "      <th>labels</th>\n",
              "    </tr>\n",
              "  </thead>\n",
              "  <tbody>\n",
              "    <tr>\n",
              "      <th>0</th>\n",
              "      <td>ตามที่ บอก เป็น ร้านกาแฟ ที่ เน้น ขาย เค ก นะ ...</td>\n",
              "      <td>2</td>\n",
              "    </tr>\n",
              "    <tr>\n",
              "      <th>1</th>\n",
              "      <td>ร้าน นี้ อยู่ ก่อน ถึง ถนน คน เดิน ค่ะ   สา มา...</td>\n",
              "      <td>3</td>\n",
              "    </tr>\n",
              "    <tr>\n",
              "      <th>2</th>\n",
              "      <td>อู มิ   ( umi )   คือ อีก หนึ่ง ร้าน ซูชิ ที่ ...</td>\n",
              "      <td>4</td>\n",
              "    </tr>\n",
              "    <tr>\n",
              "      <th>3</th>\n",
              "      <td>ร้าน นี้ มี สโลแกน   ปลูก ผัก เพราะ รัก แม่   ...</td>\n",
              "      <td>4</td>\n",
              "    </tr>\n",
              "    <tr>\n",
              "      <th>4</th>\n",
              "      <td>มาตา มลาย แทง   เห็น ร้าน และ การ แต่ง ก็ ตัดส...</td>\n",
              "      <td>4</td>\n",
              "    </tr>\n",
              "    <tr>\n",
              "      <th>...</th>\n",
              "      <td>...</td>\n",
              "      <td>...</td>\n",
              "    </tr>\n",
              "    <tr>\n",
              "      <th>11740</th>\n",
              "      <td>ร้าน   dakasi   เป็น ร้าน เค ร ื่อง ดื่ม ครับ ...</td>\n",
              "      <td>4</td>\n",
              "    </tr>\n",
              "    <tr>\n",
              "      <th>11741</th>\n",
              "      <td>ร้าน   dakasi   เป็น ร้าน เค ร ื่อง ดื่ม ครับ ...</td>\n",
              "      <td>4</td>\n",
              "    </tr>\n",
              "    <tr>\n",
              "      <th>11742</th>\n",
              "      <td>ร้าน   dakasi   เป็น ร้าน เค ร ื่อง ดื่ม ครับ ...</td>\n",
              "      <td>4</td>\n",
              "    </tr>\n",
              "    <tr>\n",
              "      <th>11743</th>\n",
              "      <td>ร้าน   dakasi   เป็น ร้าน เค ร ื่อง ดื่ม ครับ ...</td>\n",
              "      <td>4</td>\n",
              "    </tr>\n",
              "    <tr>\n",
              "      <th>11744</th>\n",
              "      <td>ร้าน   dakasi   เป็น ร้าน เค ร ื่อง ดื่ม ครับ ...</td>\n",
              "      <td>4</td>\n",
              "    </tr>\n",
              "  </tbody>\n",
              "</table>\n",
              "<p>11745 rows × 2 columns</p>\n",
              "</div>\n",
              "      <button class=\"colab-df-convert\" onclick=\"convertToInteractive('df-c78b843c-67a9-4f67-8e8b-0b1da1e22237')\"\n",
              "              title=\"Convert this dataframe to an interactive table.\"\n",
              "              style=\"display:none;\">\n",
              "        \n",
              "  <svg xmlns=\"http://www.w3.org/2000/svg\" height=\"24px\"viewBox=\"0 0 24 24\"\n",
              "       width=\"24px\">\n",
              "    <path d=\"M0 0h24v24H0V0z\" fill=\"none\"/>\n",
              "    <path d=\"M18.56 5.44l.94 2.06.94-2.06 2.06-.94-2.06-.94-.94-2.06-.94 2.06-2.06.94zm-11 1L8.5 8.5l.94-2.06 2.06-.94-2.06-.94L8.5 2.5l-.94 2.06-2.06.94zm10 10l.94 2.06.94-2.06 2.06-.94-2.06-.94-.94-2.06-.94 2.06-2.06.94z\"/><path d=\"M17.41 7.96l-1.37-1.37c-.4-.4-.92-.59-1.43-.59-.52 0-1.04.2-1.43.59L10.3 9.45l-7.72 7.72c-.78.78-.78 2.05 0 2.83L4 21.41c.39.39.9.59 1.41.59.51 0 1.02-.2 1.41-.59l7.78-7.78 2.81-2.81c.8-.78.8-2.07 0-2.86zM5.41 20L4 18.59l7.72-7.72 1.47 1.35L5.41 20z\"/>\n",
              "  </svg>\n",
              "      </button>\n",
              "      \n",
              "  <style>\n",
              "    .colab-df-container {\n",
              "      display:flex;\n",
              "      flex-wrap:wrap;\n",
              "      gap: 12px;\n",
              "    }\n",
              "\n",
              "    .colab-df-convert {\n",
              "      background-color: #E8F0FE;\n",
              "      border: none;\n",
              "      border-radius: 50%;\n",
              "      cursor: pointer;\n",
              "      display: none;\n",
              "      fill: #1967D2;\n",
              "      height: 32px;\n",
              "      padding: 0 0 0 0;\n",
              "      width: 32px;\n",
              "    }\n",
              "\n",
              "    .colab-df-convert:hover {\n",
              "      background-color: #E2EBFA;\n",
              "      box-shadow: 0px 1px 2px rgba(60, 64, 67, 0.3), 0px 1px 3px 1px rgba(60, 64, 67, 0.15);\n",
              "      fill: #174EA6;\n",
              "    }\n",
              "\n",
              "    [theme=dark] .colab-df-convert {\n",
              "      background-color: #3B4455;\n",
              "      fill: #D2E3FC;\n",
              "    }\n",
              "\n",
              "    [theme=dark] .colab-df-convert:hover {\n",
              "      background-color: #434B5C;\n",
              "      box-shadow: 0px 1px 3px 1px rgba(0, 0, 0, 0.15);\n",
              "      filter: drop-shadow(0px 1px 2px rgba(0, 0, 0, 0.3));\n",
              "      fill: #FFFFFF;\n",
              "    }\n",
              "  </style>\n",
              "\n",
              "      <script>\n",
              "        const buttonEl =\n",
              "          document.querySelector('#df-c78b843c-67a9-4f67-8e8b-0b1da1e22237 button.colab-df-convert');\n",
              "        buttonEl.style.display =\n",
              "          google.colab.kernel.accessAllowed ? 'block' : 'none';\n",
              "\n",
              "        async function convertToInteractive(key) {\n",
              "          const element = document.querySelector('#df-c78b843c-67a9-4f67-8e8b-0b1da1e22237');\n",
              "          const dataTable =\n",
              "            await google.colab.kernel.invokeFunction('convertToInteractive',\n",
              "                                                     [key], {});\n",
              "          if (!dataTable) return;\n",
              "\n",
              "          const docLinkHtml = 'Like what you see? Visit the ' +\n",
              "            '<a target=\"_blank\" href=https://colab.research.google.com/notebooks/data_table.ipynb>data table notebook</a>'\n",
              "            + ' to learn more about interactive tables.';\n",
              "          element.innerHTML = '';\n",
              "          dataTable['output_type'] = 'display_data';\n",
              "          await google.colab.output.renderOutput(dataTable, element);\n",
              "          const docLink = document.createElement('div');\n",
              "          docLink.innerHTML = docLinkHtml;\n",
              "          element.appendChild(docLink);\n",
              "        }\n",
              "      </script>\n",
              "    </div>\n",
              "  </div>\n",
              "  "
            ],
            "text/plain": [
              "                                                    text labels\n",
              "0      ตามที่ บอก เป็น ร้านกาแฟ ที่ เน้น ขาย เค ก นะ ...      2\n",
              "1      ร้าน นี้ อยู่ ก่อน ถึง ถนน คน เดิน ค่ะ   สา มา...      3\n",
              "2      อู มิ   ( umi )   คือ อีก หนึ่ง ร้าน ซูชิ ที่ ...      4\n",
              "3      ร้าน นี้ มี สโลแกน   ปลูก ผัก เพราะ รัก แม่   ...      4\n",
              "4      มาตา มลาย แทง   เห็น ร้าน และ การ แต่ง ก็ ตัดส...      4\n",
              "...                                                  ...    ...\n",
              "11740  ร้าน   dakasi   เป็น ร้าน เค ร ื่อง ดื่ม ครับ ...      4\n",
              "11741  ร้าน   dakasi   เป็น ร้าน เค ร ื่อง ดื่ม ครับ ...      4\n",
              "11742  ร้าน   dakasi   เป็น ร้าน เค ร ื่อง ดื่ม ครับ ...      4\n",
              "11743  ร้าน   dakasi   เป็น ร้าน เค ร ื่อง ดื่ม ครับ ...      4\n",
              "11744  ร้าน   dakasi   เป็น ร้าน เค ร ื่อง ดื่ม ครับ ...      4\n",
              "\n",
              "[11745 rows x 2 columns]"
            ]
          },
          "execution_count": 59,
          "metadata": {},
          "output_type": "execute_result"
        }
      ],
      "source": [
        "train_"
      ]
    },
    {
      "cell_type": "code",
      "execution_count": null,
      "metadata": {
        "colab": {
          "base_uri": "https://localhost:8080/",
          "height": 423
        },
        "id": "nQvhMFsGZ7Pj",
        "outputId": "1dc3e306-0f7a-430f-eab0-12de9566d1d6"
      },
      "outputs": [
        {
          "data": {
            "text/html": [
              "\n",
              "  <div id=\"df-b9579450-3b9b-4ce7-9819-b30faec232cb\">\n",
              "    <div class=\"colab-df-container\">\n",
              "      <div>\n",
              "<style scoped>\n",
              "    .dataframe tbody tr th:only-of-type {\n",
              "        vertical-align: middle;\n",
              "    }\n",
              "\n",
              "    .dataframe tbody tr th {\n",
              "        vertical-align: top;\n",
              "    }\n",
              "\n",
              "    .dataframe thead th {\n",
              "        text-align: right;\n",
              "    }\n",
              "</style>\n",
              "<table border=\"1\" class=\"dataframe\">\n",
              "  <thead>\n",
              "    <tr style=\"text-align: right;\">\n",
              "      <th></th>\n",
              "      <th>text</th>\n",
              "      <th>labels</th>\n",
              "    </tr>\n",
              "  </thead>\n",
              "  <tbody>\n",
              "    <tr>\n",
              "      <th>17140</th>\n",
              "      <td>ร้าน เก่า   อร่อย   ราคา เบา ๆ   ชอบ เนื้อ ร้า...</td>\n",
              "      <td>3</td>\n",
              "    </tr>\n",
              "    <tr>\n",
              "      <th>26008</th>\n",
              "      <td>ใกล้ ที่พัก เลย ลอง เดิน มา ชิม   -   โจ๊ก อร่...</td>\n",
              "      <td>3</td>\n",
              "    </tr>\n",
              "    <tr>\n",
              "      <th>1021</th>\n",
              "      <td>ร ้าน อาหาร ครัว พวง พยอม อยู่ บน เกาะ ล้าน   ...</td>\n",
              "      <td>3</td>\n",
              "    </tr>\n",
              "    <tr>\n",
              "      <th>22522</th>\n",
              "      <td>ร้าน นี้ ญาติ ชวน มา เลี้ยง วันเกิด   บอ กว่า ...</td>\n",
              "      <td>2</td>\n",
              "    </tr>\n",
              "    <tr>\n",
              "      <th>6108</th>\n",
              "      <td>ชาบู ราคา 299   มี หมู สไลด์   เนื้อ สไลด์   ข...</td>\n",
              "      <td>0</td>\n",
              "    </tr>\n",
              "    <tr>\n",
              "      <th>...</th>\n",
              "      <td>...</td>\n",
              "      <td>...</td>\n",
              "    </tr>\n",
              "    <tr>\n",
              "      <th>462</th>\n",
              "      <td>ร้าน อาหารทะเล แบบ พื้นๆ มี่ ไม่ มี อะไร มากมา...</td>\n",
              "      <td>4</td>\n",
              "    </tr>\n",
              "    <tr>\n",
              "      <th>3379</th>\n",
              "      <td>สวัสดี ค่า   คราวนี้ บี จะ มา รีวิว ร้านอาหาร ...</td>\n",
              "      <td>3</td>\n",
              "    </tr>\n",
              "    <tr>\n",
              "      <th>8177</th>\n",
              "      <td>ร้านกาแฟ ร้าน นี้   ถ้า ใคน ได้ แวะเวียน ไป ที...</td>\n",
              "      <td>2</td>\n",
              "    </tr>\n",
              "    <tr>\n",
              "      <th>20896</th>\n",
              "      <td>quip   sky   bar   ro of   top   แห่ง แรก บน ภ...</td>\n",
              "      <td>3</td>\n",
              "    </tr>\n",
              "    <tr>\n",
              "      <th>16048</th>\n",
              "      <td>ร้าน   oishi   buffet   เซ็นทรัล พระราม   9   ...</td>\n",
              "      <td>2</td>\n",
              "    </tr>\n",
              "  </tbody>\n",
              "</table>\n",
              "<p>1000 rows × 2 columns</p>\n",
              "</div>\n",
              "      <button class=\"colab-df-convert\" onclick=\"convertToInteractive('df-b9579450-3b9b-4ce7-9819-b30faec232cb')\"\n",
              "              title=\"Convert this dataframe to an interactive table.\"\n",
              "              style=\"display:none;\">\n",
              "        \n",
              "  <svg xmlns=\"http://www.w3.org/2000/svg\" height=\"24px\"viewBox=\"0 0 24 24\"\n",
              "       width=\"24px\">\n",
              "    <path d=\"M0 0h24v24H0V0z\" fill=\"none\"/>\n",
              "    <path d=\"M18.56 5.44l.94 2.06.94-2.06 2.06-.94-2.06-.94-.94-2.06-.94 2.06-2.06.94zm-11 1L8.5 8.5l.94-2.06 2.06-.94-2.06-.94L8.5 2.5l-.94 2.06-2.06.94zm10 10l.94 2.06.94-2.06 2.06-.94-2.06-.94-.94-2.06-.94 2.06-2.06.94z\"/><path d=\"M17.41 7.96l-1.37-1.37c-.4-.4-.92-.59-1.43-.59-.52 0-1.04.2-1.43.59L10.3 9.45l-7.72 7.72c-.78.78-.78 2.05 0 2.83L4 21.41c.39.39.9.59 1.41.59.51 0 1.02-.2 1.41-.59l7.78-7.78 2.81-2.81c.8-.78.8-2.07 0-2.86zM5.41 20L4 18.59l7.72-7.72 1.47 1.35L5.41 20z\"/>\n",
              "  </svg>\n",
              "      </button>\n",
              "      \n",
              "  <style>\n",
              "    .colab-df-container {\n",
              "      display:flex;\n",
              "      flex-wrap:wrap;\n",
              "      gap: 12px;\n",
              "    }\n",
              "\n",
              "    .colab-df-convert {\n",
              "      background-color: #E8F0FE;\n",
              "      border: none;\n",
              "      border-radius: 50%;\n",
              "      cursor: pointer;\n",
              "      display: none;\n",
              "      fill: #1967D2;\n",
              "      height: 32px;\n",
              "      padding: 0 0 0 0;\n",
              "      width: 32px;\n",
              "    }\n",
              "\n",
              "    .colab-df-convert:hover {\n",
              "      background-color: #E2EBFA;\n",
              "      box-shadow: 0px 1px 2px rgba(60, 64, 67, 0.3), 0px 1px 3px 1px rgba(60, 64, 67, 0.15);\n",
              "      fill: #174EA6;\n",
              "    }\n",
              "\n",
              "    [theme=dark] .colab-df-convert {\n",
              "      background-color: #3B4455;\n",
              "      fill: #D2E3FC;\n",
              "    }\n",
              "\n",
              "    [theme=dark] .colab-df-convert:hover {\n",
              "      background-color: #434B5C;\n",
              "      box-shadow: 0px 1px 3px 1px rgba(0, 0, 0, 0.15);\n",
              "      filter: drop-shadow(0px 1px 2px rgba(0, 0, 0, 0.3));\n",
              "      fill: #FFFFFF;\n",
              "    }\n",
              "  </style>\n",
              "\n",
              "      <script>\n",
              "        const buttonEl =\n",
              "          document.querySelector('#df-b9579450-3b9b-4ce7-9819-b30faec232cb button.colab-df-convert');\n",
              "        buttonEl.style.display =\n",
              "          google.colab.kernel.accessAllowed ? 'block' : 'none';\n",
              "\n",
              "        async function convertToInteractive(key) {\n",
              "          const element = document.querySelector('#df-b9579450-3b9b-4ce7-9819-b30faec232cb');\n",
              "          const dataTable =\n",
              "            await google.colab.kernel.invokeFunction('convertToInteractive',\n",
              "                                                     [key], {});\n",
              "          if (!dataTable) return;\n",
              "\n",
              "          const docLinkHtml = 'Like what you see? Visit the ' +\n",
              "            '<a target=\"_blank\" href=https://colab.research.google.com/notebooks/data_table.ipynb>data table notebook</a>'\n",
              "            + ' to learn more about interactive tables.';\n",
              "          element.innerHTML = '';\n",
              "          dataTable['output_type'] = 'display_data';\n",
              "          await google.colab.output.renderOutput(dataTable, element);\n",
              "          const docLink = document.createElement('div');\n",
              "          docLink.innerHTML = docLinkHtml;\n",
              "          element.appendChild(docLink);\n",
              "        }\n",
              "      </script>\n",
              "    </div>\n",
              "  </div>\n",
              "  "
            ],
            "text/plain": [
              "                                                    text labels\n",
              "17140  ร้าน เก่า   อร่อย   ราคา เบา ๆ   ชอบ เนื้อ ร้า...      3\n",
              "26008  ใกล้ ที่พัก เลย ลอง เดิน มา ชิม   -   โจ๊ก อร่...      3\n",
              "1021   ร ้าน อาหาร ครัว พวง พยอม อยู่ บน เกาะ ล้าน   ...      3\n",
              "22522  ร้าน นี้ ญาติ ชวน มา เลี้ยง วันเกิด   บอ กว่า ...      2\n",
              "6108   ชาบู ราคา 299   มี หมู สไลด์   เนื้อ สไลด์   ข...      0\n",
              "...                                                  ...    ...\n",
              "462    ร้าน อาหารทะเล แบบ พื้นๆ มี่ ไม่ มี อะไร มากมา...      4\n",
              "3379   สวัสดี ค่า   คราวนี้ บี จะ มา รีวิว ร้านอาหาร ...      3\n",
              "8177   ร้านกาแฟ ร้าน นี้   ถ้า ใคน ได้ แวะเวียน ไป ที...      2\n",
              "20896  quip   sky   bar   ro of   top   แห่ง แรก บน ภ...      3\n",
              "16048  ร้าน   oishi   buffet   เซ็นทรัล พระราม   9   ...      2\n",
              "\n",
              "[1000 rows x 2 columns]"
            ]
          },
          "execution_count": 60,
          "metadata": {},
          "output_type": "execute_result"
        }
      ],
      "source": [
        "test_"
      ]
    },
    {
      "cell_type": "code",
      "execution_count": null,
      "metadata": {
        "colab": {
          "background_save": true,
          "base_uri": "https://localhost:8080/",
          "height": 1000,
          "referenced_widgets": [
            "9fa570cf775c4dc6bf88fdb9e9877472",
            "2d6f8d113c7549b7aa9ccc072dd15ef3",
            "3721589a23724be6b9fbdf057ea5f59d",
            "c682d6b03b5e4660873bed43082f87f6",
            "457aa68208f64397a55fa35481f60424",
            "d342a95cc76745d49a4be25d2ca29a8b",
            "ce4c92808ca6493a9d7a85b7612674da",
            "22451d310e5c4076a50fb2dde448f30d",
            "ae9e73629845485bb53dc59579454e3a",
            "127fa7923cac41d1b8effc5defd48913",
            "a8f745787a844afd86c9e0544b487b19"
          ]
        },
        "id": "zV_4KXRxKDOD",
        "outputId": "d1f93d3c-ef40-42a8-d216-6c716405ad6d"
      },
      "outputs": [
        {
          "name": "stderr",
          "output_type": "stream",
          "text": [
            "loading configuration file config.json from cache at /root/.cache/huggingface/hub/models--monsoon-nlp--bert-base-thai/snapshots/9b5ca3cc1b41c8ff91c57d34e50e77d29ec7d2c1/config.json\n",
            "Model config BertConfig {\n",
            "  \"architectures\": [\n",
            "    \"BertModel\"\n",
            "  ],\n",
            "  \"attention_probs_dropout_prob\": 0.1,\n",
            "  \"classifier_dropout\": null,\n",
            "  \"embedding_size\": 768,\n",
            "  \"hidden_act\": \"gelu\",\n",
            "  \"hidden_dropout_prob\": 0.1,\n",
            "  \"hidden_size\": 768,\n",
            "  \"id2label\": {\n",
            "    \"0\": \"LABEL_0\",\n",
            "    \"1\": \"LABEL_1\",\n",
            "    \"2\": \"LABEL_2\",\n",
            "    \"3\": \"LABEL_3\",\n",
            "    \"4\": \"LABEL_4\"\n",
            "  },\n",
            "  \"initializer_range\": 0.02,\n",
            "  \"intermediate_size\": 3072,\n",
            "  \"label2id\": {\n",
            "    \"LABEL_0\": 0,\n",
            "    \"LABEL_1\": 1,\n",
            "    \"LABEL_2\": 2,\n",
            "    \"LABEL_3\": 3,\n",
            "    \"LABEL_4\": 4\n",
            "  },\n",
            "  \"layer_norm_eps\": 1e-12,\n",
            "  \"max_position_embeddings\": 512,\n",
            "  \"model_type\": \"bert\",\n",
            "  \"num_attention_heads\": 12,\n",
            "  \"num_hidden_layers\": 12,\n",
            "  \"pad_token_id\": 0,\n",
            "  \"position_embedding_type\": \"absolute\",\n",
            "  \"transformers_version\": \"4.26.1\",\n",
            "  \"type_vocab_size\": 2,\n",
            "  \"use_cache\": true,\n",
            "  \"vocab_size\": 25004\n",
            "}\n",
            "\n",
            "loading weights file pytorch_model.bin from cache at /root/.cache/huggingface/hub/models--monsoon-nlp--bert-base-thai/snapshots/9b5ca3cc1b41c8ff91c57d34e50e77d29ec7d2c1/pytorch_model.bin\n",
            "Some weights of the model checkpoint at monsoon-nlp/bert-base-thai were not used when initializing BertForSequenceClassification: ['cls.predictions.bias', 'cls.predictions.transform.LayerNorm.weight', 'cls.seq_relationship.weight', 'cls.predictions.transform.LayerNorm.bias', 'cls.predictions.transform.dense.bias', 'cls.predictions.decoder.weight', 'cls.predictions.transform.dense.weight', 'cls.seq_relationship.bias', 'cls.predictions.decoder.bias']\n",
            "- This IS expected if you are initializing BertForSequenceClassification from the checkpoint of a model trained on another task or with another architecture (e.g. initializing a BertForSequenceClassification model from a BertForPreTraining model).\n",
            "- This IS NOT expected if you are initializing BertForSequenceClassification from the checkpoint of a model that you expect to be exactly identical (initializing a BertForSequenceClassification model from a BertForSequenceClassification model).\n",
            "Some weights of BertForSequenceClassification were not initialized from the model checkpoint at monsoon-nlp/bert-base-thai and are newly initialized: ['classifier.weight', 'classifier.bias']\n",
            "You should probably TRAIN this model on a down-stream task to be able to use it for predictions and inference.\n",
            "loading file vocab.txt from cache at /root/.cache/huggingface/hub/models--monsoon-nlp--bert-base-thai/snapshots/9b5ca3cc1b41c8ff91c57d34e50e77d29ec7d2c1/vocab.txt\n",
            "loading file tokenizer.json from cache at None\n",
            "loading file added_tokens.json from cache at None\n",
            "loading file special_tokens_map.json from cache at /root/.cache/huggingface/hub/models--monsoon-nlp--bert-base-thai/snapshots/9b5ca3cc1b41c8ff91c57d34e50e77d29ec7d2c1/special_tokens_map.json\n",
            "loading file tokenizer_config.json from cache at /root/.cache/huggingface/hub/models--monsoon-nlp--bert-base-thai/snapshots/9b5ca3cc1b41c8ff91c57d34e50e77d29ec7d2c1/tokenizer_config.json\n",
            "loading configuration file config.json from cache at /root/.cache/huggingface/hub/models--monsoon-nlp--bert-base-thai/snapshots/9b5ca3cc1b41c8ff91c57d34e50e77d29ec7d2c1/config.json\n",
            "Model config BertConfig {\n",
            "  \"_name_or_path\": \"monsoon-nlp/bert-base-thai\",\n",
            "  \"architectures\": [\n",
            "    \"BertModel\"\n",
            "  ],\n",
            "  \"attention_probs_dropout_prob\": 0.1,\n",
            "  \"classifier_dropout\": null,\n",
            "  \"embedding_size\": 768,\n",
            "  \"hidden_act\": \"gelu\",\n",
            "  \"hidden_dropout_prob\": 0.1,\n",
            "  \"hidden_size\": 768,\n",
            "  \"initializer_range\": 0.02,\n",
            "  \"intermediate_size\": 3072,\n",
            "  \"layer_norm_eps\": 1e-12,\n",
            "  \"max_position_embeddings\": 512,\n",
            "  \"model_type\": \"bert\",\n",
            "  \"num_attention_heads\": 12,\n",
            "  \"num_hidden_layers\": 12,\n",
            "  \"pad_token_id\": 0,\n",
            "  \"position_embedding_type\": \"absolute\",\n",
            "  \"transformers_version\": \"4.26.1\",\n",
            "  \"type_vocab_size\": 2,\n",
            "  \"use_cache\": true,\n",
            "  \"vocab_size\": 25004\n",
            "}\n",
            "\n",
            "loading configuration file config.json from cache at /root/.cache/huggingface/hub/models--monsoon-nlp--bert-base-thai/snapshots/9b5ca3cc1b41c8ff91c57d34e50e77d29ec7d2c1/config.json\n",
            "Model config BertConfig {\n",
            "  \"_name_or_path\": \"monsoon-nlp/bert-base-thai\",\n",
            "  \"architectures\": [\n",
            "    \"BertModel\"\n",
            "  ],\n",
            "  \"attention_probs_dropout_prob\": 0.1,\n",
            "  \"classifier_dropout\": null,\n",
            "  \"embedding_size\": 768,\n",
            "  \"hidden_act\": \"gelu\",\n",
            "  \"hidden_dropout_prob\": 0.1,\n",
            "  \"hidden_size\": 768,\n",
            "  \"initializer_range\": 0.02,\n",
            "  \"intermediate_size\": 3072,\n",
            "  \"layer_norm_eps\": 1e-12,\n",
            "  \"max_position_embeddings\": 512,\n",
            "  \"model_type\": \"bert\",\n",
            "  \"num_attention_heads\": 12,\n",
            "  \"num_hidden_layers\": 12,\n",
            "  \"pad_token_id\": 0,\n",
            "  \"position_embedding_type\": \"absolute\",\n",
            "  \"transformers_version\": \"4.26.1\",\n",
            "  \"type_vocab_size\": 2,\n",
            "  \"use_cache\": true,\n",
            "  \"vocab_size\": 25004\n",
            "}\n",
            "\n"
          ]
        },
        {
          "data": {
            "application/vnd.jupyter.widget-view+json": {
              "model_id": "9fa570cf775c4dc6bf88fdb9e9877472",
              "version_major": 2,
              "version_minor": 0
            },
            "text/plain": [
              "  0%|          | 0/11745 [00:00<?, ?it/s]"
            ]
          },
          "metadata": {},
          "output_type": "display_data"
        }
      ],
      "source": [
        "from simpletransformers.classification import ClassificationModel, ClassificationArgs\n",
        "import sklearn\n",
        "model_args = {\n",
        "    \"reprocess_input_data\": True,\n",
        "    'train_batch_size':48,\n",
        "    \"use_early_stopping\": True,\n",
        "    \"early_stopping_delta\": 0.01,\n",
        "    \"early_stopping_metric\": \"mcc\",\n",
        "    \"early_stopping_metric_minimize\": False,\n",
        "    \"early_stopping_patience\": 5,\n",
        "    \"evaluate_during_training_steps\": 500,\n",
        "    \"fp16\": False,\n",
        "    \"overwrite_output_dir\":True,\n",
        "    'use_cached_eval_features' : False,\n",
        "    'max_seq_length': 128,\n",
        "    'no_cache': True,\n",
        "    \"num_train_epochs\": 10,\n",
        "    'custom_parameter_groups':[{\n",
        "        \"params\": [\"classifier.weight\", \"bert.encoder.layer.10.output.dense.weight\"],\n",
        "        \"lr\": 1e-2,\n",
        "    }]\n",
        "}\n",
        "\n",
        "model = ClassificationModel(\n",
        "     \"bert\",\n",
        "     \"monsoon-nlp/bert-base-thai\",\n",
        "     use_cuda=torch.cuda.is_available(),\n",
        "     args=model_args,\n",
        "     num_labels=5,\n",
        ")\n",
        "\n",
        "model.train_model(train_, show_running_loss = True, eval_df=test_, acc=sklearn.metrics.accuracy_score)"
      ]
    },
    {
      "cell_type": "code",
      "execution_count": null,
      "metadata": {
        "id": "SToPRQSsN-j1"
      },
      "outputs": [],
      "source": [
        "result, model_outputs, wrong_predictions = model.eval_model(test_)"
      ]
    },
    {
      "cell_type": "code",
      "execution_count": null,
      "metadata": {
        "id": "iVmR2bfyfkg1"
      },
      "outputs": [],
      "source": [
        "result"
      ]
    },
    {
      "cell_type": "code",
      "execution_count": null,
      "metadata": {
        "id": "PsFvsABWfm4U"
      },
      "outputs": [],
      "source": [
        "model_outputs"
      ]
    },
    {
      "cell_type": "code",
      "execution_count": null,
      "metadata": {
        "id": "hW_oEEQJfoAJ"
      },
      "outputs": [],
      "source": [
        "wrong_predictions[:10]"
      ]
    },
    {
      "cell_type": "code",
      "execution_count": null,
      "metadata": {
        "id": "_TOVsz6Zf0bn"
      },
      "outputs": [],
      "source": [
        "len(wrong_predictions)"
      ]
    },
    {
      "cell_type": "code",
      "execution_count": null,
      "metadata": {
        "id": "M88X8Br6f8rR"
      },
      "outputs": [],
      "source": [
        "model.predict([\"ห่วย แตก กิน ไม่ ได้ เลย ขอ บอก อาหาร เน่า มาก กลิ่น เหม็น มี แมลง สาบ มารยาท ทราม สุด ๆ\"])"
      ]
    },
    {
      "cell_type": "code",
      "execution_count": null,
      "metadata": {
        "id": "SdSR9blcf-ms"
      },
      "outputs": [],
      "source": [
        "model.predict([\"ร่้าน นี้ อาหาร เยี่ยม มาก สุดยอด ประทับ ใจ ที่จอดรถ ใหญ่ ตั้งใจ ทำงาน มาก เลย\"])"
      ]
    },
    {
      "cell_type": "code",
      "execution_count": null,
      "metadata": {
        "id": "MNRdgifigAMF"
      },
      "outputs": [],
      "source": [
        "model.predict(list(train_['text'][:10]))"
      ]
    },
    {
      "cell_type": "code",
      "execution_count": null,
      "metadata": {
        "id": "Mw3778y2gC_a"
      },
      "outputs": [],
      "source": [
        "list(train_['labels'])[:10]"
      ]
    },
    {
      "cell_type": "code",
      "execution_count": null,
      "metadata": {
        "id": "n2m-u-rECnzx"
      },
      "outputs": [],
      "source": []
    }
  ],
  "metadata": {
    "accelerator": "GPU",
    "colab": {
      "collapsed_sections": [
        "4j5rRUHhyZ_F",
        "6DFoHKtXi48I",
        "ejJ6P_tJk28U",
        "FM8qebQ_6qxs",
        "--kb03R_6tko",
        "vynQ1TRxWFZW"
      ],
      "machine_shape": "hm",
      "provenance": [],
      "include_colab_link": true
    },
    "kernelspec": {
      "display_name": "Python 3",
      "name": "python3"
    },
    "language_info": {
      "name": "python"
    },
    "widgets": {
      "application/vnd.jupyter.widget-state+json": {
        "127fa7923cac41d1b8effc5defd48913": {
          "model_module": "@jupyter-widgets/base",
          "model_module_version": "1.2.0",
          "model_name": "LayoutModel",
          "state": {
            "_model_module": "@jupyter-widgets/base",
            "_model_module_version": "1.2.0",
            "_model_name": "LayoutModel",
            "_view_count": null,
            "_view_module": "@jupyter-widgets/base",
            "_view_module_version": "1.2.0",
            "_view_name": "LayoutView",
            "align_content": null,
            "align_items": null,
            "align_self": null,
            "border": null,
            "bottom": null,
            "display": null,
            "flex": null,
            "flex_flow": null,
            "grid_area": null,
            "grid_auto_columns": null,
            "grid_auto_flow": null,
            "grid_auto_rows": null,
            "grid_column": null,
            "grid_gap": null,
            "grid_row": null,
            "grid_template_areas": null,
            "grid_template_columns": null,
            "grid_template_rows": null,
            "height": null,
            "justify_content": null,
            "justify_items": null,
            "left": null,
            "margin": null,
            "max_height": null,
            "max_width": null,
            "min_height": null,
            "min_width": null,
            "object_fit": null,
            "object_position": null,
            "order": null,
            "overflow": null,
            "overflow_x": null,
            "overflow_y": null,
            "padding": null,
            "right": null,
            "top": null,
            "visibility": null,
            "width": null
          }
        },
        "22451d310e5c4076a50fb2dde448f30d": {
          "model_module": "@jupyter-widgets/base",
          "model_module_version": "1.2.0",
          "model_name": "LayoutModel",
          "state": {
            "_model_module": "@jupyter-widgets/base",
            "_model_module_version": "1.2.0",
            "_model_name": "LayoutModel",
            "_view_count": null,
            "_view_module": "@jupyter-widgets/base",
            "_view_module_version": "1.2.0",
            "_view_name": "LayoutView",
            "align_content": null,
            "align_items": null,
            "align_self": null,
            "border": null,
            "bottom": null,
            "display": null,
            "flex": null,
            "flex_flow": null,
            "grid_area": null,
            "grid_auto_columns": null,
            "grid_auto_flow": null,
            "grid_auto_rows": null,
            "grid_column": null,
            "grid_gap": null,
            "grid_row": null,
            "grid_template_areas": null,
            "grid_template_columns": null,
            "grid_template_rows": null,
            "height": null,
            "justify_content": null,
            "justify_items": null,
            "left": null,
            "margin": null,
            "max_height": null,
            "max_width": null,
            "min_height": null,
            "min_width": null,
            "object_fit": null,
            "object_position": null,
            "order": null,
            "overflow": null,
            "overflow_x": null,
            "overflow_y": null,
            "padding": null,
            "right": null,
            "top": null,
            "visibility": null,
            "width": null
          }
        },
        "2d6f8d113c7549b7aa9ccc072dd15ef3": {
          "model_module": "@jupyter-widgets/controls",
          "model_module_version": "1.5.0",
          "model_name": "HTMLModel",
          "state": {
            "_dom_classes": [],
            "_model_module": "@jupyter-widgets/controls",
            "_model_module_version": "1.5.0",
            "_model_name": "HTMLModel",
            "_view_count": null,
            "_view_module": "@jupyter-widgets/controls",
            "_view_module_version": "1.5.0",
            "_view_name": "HTMLView",
            "description": "",
            "description_tooltip": null,
            "layout": "IPY_MODEL_d342a95cc76745d49a4be25d2ca29a8b",
            "placeholder": "​",
            "style": "IPY_MODEL_ce4c92808ca6493a9d7a85b7612674da",
            "value": "  0%"
          }
        },
        "3721589a23724be6b9fbdf057ea5f59d": {
          "model_module": "@jupyter-widgets/controls",
          "model_module_version": "1.5.0",
          "model_name": "FloatProgressModel",
          "state": {
            "_dom_classes": [],
            "_model_module": "@jupyter-widgets/controls",
            "_model_module_version": "1.5.0",
            "_model_name": "FloatProgressModel",
            "_view_count": null,
            "_view_module": "@jupyter-widgets/controls",
            "_view_module_version": "1.5.0",
            "_view_name": "ProgressView",
            "bar_style": "",
            "description": "",
            "description_tooltip": null,
            "layout": "IPY_MODEL_22451d310e5c4076a50fb2dde448f30d",
            "max": 11745,
            "min": 0,
            "orientation": "horizontal",
            "style": "IPY_MODEL_ae9e73629845485bb53dc59579454e3a",
            "value": 0
          }
        },
        "457aa68208f64397a55fa35481f60424": {
          "model_module": "@jupyter-widgets/base",
          "model_module_version": "1.2.0",
          "model_name": "LayoutModel",
          "state": {
            "_model_module": "@jupyter-widgets/base",
            "_model_module_version": "1.2.0",
            "_model_name": "LayoutModel",
            "_view_count": null,
            "_view_module": "@jupyter-widgets/base",
            "_view_module_version": "1.2.0",
            "_view_name": "LayoutView",
            "align_content": null,
            "align_items": null,
            "align_self": null,
            "border": null,
            "bottom": null,
            "display": null,
            "flex": null,
            "flex_flow": null,
            "grid_area": null,
            "grid_auto_columns": null,
            "grid_auto_flow": null,
            "grid_auto_rows": null,
            "grid_column": null,
            "grid_gap": null,
            "grid_row": null,
            "grid_template_areas": null,
            "grid_template_columns": null,
            "grid_template_rows": null,
            "height": null,
            "justify_content": null,
            "justify_items": null,
            "left": null,
            "margin": null,
            "max_height": null,
            "max_width": null,
            "min_height": null,
            "min_width": null,
            "object_fit": null,
            "object_position": null,
            "order": null,
            "overflow": null,
            "overflow_x": null,
            "overflow_y": null,
            "padding": null,
            "right": null,
            "top": null,
            "visibility": null,
            "width": null
          }
        },
        "9fa570cf775c4dc6bf88fdb9e9877472": {
          "model_module": "@jupyter-widgets/controls",
          "model_module_version": "1.5.0",
          "model_name": "HBoxModel",
          "state": {
            "_dom_classes": [],
            "_model_module": "@jupyter-widgets/controls",
            "_model_module_version": "1.5.0",
            "_model_name": "HBoxModel",
            "_view_count": null,
            "_view_module": "@jupyter-widgets/controls",
            "_view_module_version": "1.5.0",
            "_view_name": "HBoxView",
            "box_style": "",
            "children": [
              "IPY_MODEL_2d6f8d113c7549b7aa9ccc072dd15ef3",
              "IPY_MODEL_3721589a23724be6b9fbdf057ea5f59d",
              "IPY_MODEL_c682d6b03b5e4660873bed43082f87f6"
            ],
            "layout": "IPY_MODEL_457aa68208f64397a55fa35481f60424"
          }
        },
        "a8f745787a844afd86c9e0544b487b19": {
          "model_module": "@jupyter-widgets/controls",
          "model_module_version": "1.5.0",
          "model_name": "DescriptionStyleModel",
          "state": {
            "_model_module": "@jupyter-widgets/controls",
            "_model_module_version": "1.5.0",
            "_model_name": "DescriptionStyleModel",
            "_view_count": null,
            "_view_module": "@jupyter-widgets/base",
            "_view_module_version": "1.2.0",
            "_view_name": "StyleView",
            "description_width": ""
          }
        },
        "ae9e73629845485bb53dc59579454e3a": {
          "model_module": "@jupyter-widgets/controls",
          "model_module_version": "1.5.0",
          "model_name": "ProgressStyleModel",
          "state": {
            "_model_module": "@jupyter-widgets/controls",
            "_model_module_version": "1.5.0",
            "_model_name": "ProgressStyleModel",
            "_view_count": null,
            "_view_module": "@jupyter-widgets/base",
            "_view_module_version": "1.2.0",
            "_view_name": "StyleView",
            "bar_color": null,
            "description_width": ""
          }
        },
        "c682d6b03b5e4660873bed43082f87f6": {
          "model_module": "@jupyter-widgets/controls",
          "model_module_version": "1.5.0",
          "model_name": "HTMLModel",
          "state": {
            "_dom_classes": [],
            "_model_module": "@jupyter-widgets/controls",
            "_model_module_version": "1.5.0",
            "_model_name": "HTMLModel",
            "_view_count": null,
            "_view_module": "@jupyter-widgets/controls",
            "_view_module_version": "1.5.0",
            "_view_name": "HTMLView",
            "description": "",
            "description_tooltip": null,
            "layout": "IPY_MODEL_127fa7923cac41d1b8effc5defd48913",
            "placeholder": "​",
            "style": "IPY_MODEL_a8f745787a844afd86c9e0544b487b19",
            "value": " 0/11745 [00:00&lt;?, ?it/s]"
          }
        },
        "ce4c92808ca6493a9d7a85b7612674da": {
          "model_module": "@jupyter-widgets/controls",
          "model_module_version": "1.5.0",
          "model_name": "DescriptionStyleModel",
          "state": {
            "_model_module": "@jupyter-widgets/controls",
            "_model_module_version": "1.5.0",
            "_model_name": "DescriptionStyleModel",
            "_view_count": null,
            "_view_module": "@jupyter-widgets/base",
            "_view_module_version": "1.2.0",
            "_view_name": "StyleView",
            "description_width": ""
          }
        },
        "d342a95cc76745d49a4be25d2ca29a8b": {
          "model_module": "@jupyter-widgets/base",
          "model_module_version": "1.2.0",
          "model_name": "LayoutModel",
          "state": {
            "_model_module": "@jupyter-widgets/base",
            "_model_module_version": "1.2.0",
            "_model_name": "LayoutModel",
            "_view_count": null,
            "_view_module": "@jupyter-widgets/base",
            "_view_module_version": "1.2.0",
            "_view_name": "LayoutView",
            "align_content": null,
            "align_items": null,
            "align_self": null,
            "border": null,
            "bottom": null,
            "display": null,
            "flex": null,
            "flex_flow": null,
            "grid_area": null,
            "grid_auto_columns": null,
            "grid_auto_flow": null,
            "grid_auto_rows": null,
            "grid_column": null,
            "grid_gap": null,
            "grid_row": null,
            "grid_template_areas": null,
            "grid_template_columns": null,
            "grid_template_rows": null,
            "height": null,
            "justify_content": null,
            "justify_items": null,
            "left": null,
            "margin": null,
            "max_height": null,
            "max_width": null,
            "min_height": null,
            "min_width": null,
            "object_fit": null,
            "object_position": null,
            "order": null,
            "overflow": null,
            "overflow_x": null,
            "overflow_y": null,
            "padding": null,
            "right": null,
            "top": null,
            "visibility": null,
            "width": null
          }
        }
      }
    }
  },
  "nbformat": 4,
  "nbformat_minor": 0
}