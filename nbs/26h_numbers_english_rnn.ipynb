{
  "nbformat": 4,
  "nbformat_minor": 0,
  "metadata": {
    "colab": {
      "name": "26h-numbers-english-rnn.ipynb",
      "provenance": []
    },
    "kernelspec": {
      "name": "python3",
      "display_name": "Python 3"
    },
    "accelerator": "GPU"
  },
  "cells": [
    {
      "cell_type": "markdown",
      "metadata": {
        "id": "XlQtoavmlNzL"
      },
      "source": [
        "ใน ep นี้เราจะมาสร้าง Recurrent Neural Network (RNN) กันแต่ต้น เริ่มตั้งแต่พื้นฐาน แล้วค่อย ๆ พัฒนาโมเดล แก้ไขข้อจำกัดของโมเดลแต่ละแบบ พัฒนาไปจนถึงต่อยอดด้วย โมเดลที่ซับซ้อน เช่น GRU เปรียบเทียบประสิทธิภาพ Before / After ของแต่ละ Design การออกแบบ Model Architecture"
      ]
    },
    {
      "cell_type": "markdown",
      "metadata": {
        "id": "CzApwnjVlKxC"
      },
      "source": [
        "# 0. Install"
      ]
    },
    {
      "cell_type": "code",
      "metadata": {
        "id": "0WcUkQRak7e6"
      },
      "source": [
        "%reload_ext autoreload\n",
        "%autoreload 2\n",
        "%matplotlib inline"
      ],
      "execution_count": 1,
      "outputs": []
    },
    {
      "cell_type": "markdown",
      "metadata": {
        "id": "MGOPzh9vCLJh"
      },
      "source": [
        "Install Library ที่จำเป็น"
      ]
    },
    {
      "cell_type": "code",
      "metadata": {
        "id": "o0UgDCGLhby7",
        "outputId": "d5e437fe-e854-4495-81a6-a383b58123c5",
        "colab": {
          "base_uri": "https://localhost:8080/"
        }
      },
      "source": [
        "## Colab\n",
        "! curl -s https://course.fast.ai/setup/colab | bash"
      ],
      "execution_count": 2,
      "outputs": [
        {
          "output_type": "stream",
          "name": "stdout",
          "text": [
            "bash: line 1: syntax error near unexpected token `newline'\n",
            "bash: line 1: `<!DOCTYPE html>'\n"
          ]
        }
      ]
    },
    {
      "cell_type": "markdown",
      "metadata": {
        "id": "r8Ne5kVMzs9a"
      },
      "source": [
        "เช็ค GPU"
      ]
    },
    {
      "cell_type": "code",
      "metadata": {
        "id": "cQiYFoC4C8hy",
        "outputId": "0aee9349-eeba-4b1a-81af-8b709d830236",
        "colab": {
          "base_uri": "https://localhost:8080/"
        }
      },
      "source": [
        "! nvidia-smi"
      ],
      "execution_count": 3,
      "outputs": [
        {
          "output_type": "stream",
          "name": "stdout",
          "text": [
            "Thu Aug  1 08:29:51 2024       \n",
            "+---------------------------------------------------------------------------------------+\n",
            "| NVIDIA-SMI 535.104.05             Driver Version: 535.104.05   CUDA Version: 12.2     |\n",
            "|-----------------------------------------+----------------------+----------------------+\n",
            "| GPU  Name                 Persistence-M | Bus-Id        Disp.A | Volatile Uncorr. ECC |\n",
            "| Fan  Temp   Perf          Pwr:Usage/Cap |         Memory-Usage | GPU-Util  Compute M. |\n",
            "|                                         |                      |               MIG M. |\n",
            "|=========================================+======================+======================|\n",
            "|   0  Tesla T4                       Off | 00000000:00:04.0 Off |                    0 |\n",
            "| N/A   41C    P8               9W /  70W |      0MiB / 15360MiB |      0%      Default |\n",
            "|                                         |                      |                  N/A |\n",
            "+-----------------------------------------+----------------------+----------------------+\n",
            "                                                                                         \n",
            "+---------------------------------------------------------------------------------------+\n",
            "| Processes:                                                                            |\n",
            "|  GPU   GI   CI        PID   Type   Process name                            GPU Memory |\n",
            "|        ID   ID                                                             Usage      |\n",
            "|=======================================================================================|\n",
            "|  No running processes found                                                           |\n",
            "+---------------------------------------------------------------------------------------+\n"
          ]
        }
      ]
    },
    {
      "cell_type": "markdown",
      "metadata": {
        "id": "3VxLNfAElR29"
      },
      "source": [
        "# 1. Import"
      ]
    },
    {
      "cell_type": "markdown",
      "metadata": {
        "id": "nGm02SG0CQrq"
      },
      "source": [
        "Import Library ที่จะใช้ ในที่นี้คือ fastai และ fastai.text"
      ]
    },
    {
      "cell_type": "code",
      "metadata": {
        "id": "OORH3obdk-wS",
        "colab": {
          "base_uri": "https://localhost:8080/",
          "height": 366
        },
        "outputId": "8ed466ab-c9f2-4f81-bb31-9d42e4f93126"
      },
      "source": [
        "from fastai import *\n",
        "from fastai.text import *\n",
        "from fastai.callbacks import *\n",
        "from fastai.callbacks.mem import *"
      ],
      "execution_count": 5,
      "outputs": [
        {
          "output_type": "error",
          "ename": "ModuleNotFoundError",
          "evalue": "No module named 'fastai.callbacks'",
          "traceback": [
            "\u001b[0;31m---------------------------------------------------------------------------\u001b[0m",
            "\u001b[0;31mModuleNotFoundError\u001b[0m                       Traceback (most recent call last)",
            "\u001b[0;32m<ipython-input-5-03a42fbe018f>\u001b[0m in \u001b[0;36m<cell line: 3>\u001b[0;34m()\u001b[0m\n\u001b[1;32m      1\u001b[0m \u001b[0;32mfrom\u001b[0m \u001b[0mfastai\u001b[0m \u001b[0;32mimport\u001b[0m \u001b[0;34m*\u001b[0m\u001b[0;34m\u001b[0m\u001b[0;34m\u001b[0m\u001b[0m\n\u001b[1;32m      2\u001b[0m \u001b[0;32mfrom\u001b[0m \u001b[0mfastai\u001b[0m\u001b[0;34m.\u001b[0m\u001b[0mtext\u001b[0m \u001b[0;32mimport\u001b[0m \u001b[0;34m*\u001b[0m\u001b[0;34m\u001b[0m\u001b[0;34m\u001b[0m\u001b[0m\n\u001b[0;32m----> 3\u001b[0;31m \u001b[0;32mfrom\u001b[0m \u001b[0mfastai\u001b[0m\u001b[0;34m.\u001b[0m\u001b[0mcallbacks\u001b[0m \u001b[0;32mimport\u001b[0m \u001b[0;34m*\u001b[0m\u001b[0;34m\u001b[0m\u001b[0;34m\u001b[0m\u001b[0m\n\u001b[0m\u001b[1;32m      4\u001b[0m \u001b[0;32mfrom\u001b[0m \u001b[0mfastai\u001b[0m\u001b[0;34m.\u001b[0m\u001b[0mcallbacks\u001b[0m\u001b[0;34m.\u001b[0m\u001b[0mmem\u001b[0m \u001b[0;32mimport\u001b[0m \u001b[0;34m*\u001b[0m\u001b[0;34m\u001b[0m\u001b[0;34m\u001b[0m\u001b[0m\n",
            "\u001b[0;31mModuleNotFoundError\u001b[0m: No module named 'fastai.callbacks'",
            "",
            "\u001b[0;31m---------------------------------------------------------------------------\u001b[0;32m\nNOTE: If your import is failing due to a missing package, you can\nmanually install dependencies using either !pip or !apt.\n\nTo view examples of installing some common dependencies, click the\n\"Open Examples\" button below.\n\u001b[0;31m---------------------------------------------------------------------------\u001b[0m\n"
          ],
          "errorDetails": {
            "actions": [
              {
                "action": "open_url",
                "actionText": "Open Examples",
                "url": "/notebooks/snippets/importing_libraries.ipynb"
              }
            ]
          }
        }
      ]
    },
    {
      "cell_type": "code",
      "metadata": {
        "id": "nmZehcHclZyM"
      },
      "source": [
        "# import fastai.utils.collect_env\n",
        "# fastai.utils.collect_env.show_install()"
      ],
      "execution_count": null,
      "outputs": []
    },
    {
      "cell_type": "markdown",
      "metadata": {
        "id": "eEbTrCXdBkEG"
      },
      "source": [
        "สำหรับ [Google Colab](https://www.bualabs.com/archives/1687/what-is-colab-open-jupyter-notebook-in-github-on-google-colab-create-open-in-colab-button-colab-ep-1/) เราจะกำหนด path ที่เก็บ DataSet และ Mount Google Drive"
      ]
    },
    {
      "cell_type": "code",
      "metadata": {
        "id": "EOLkyx3DcL_k",
        "outputId": "6b6571b6-8bb9-45d4-bd87-9d4771cc7149",
        "colab": {
          "base_uri": "https://localhost:8080/",
          "height": 34
        }
      },
      "source": [
        "dataset = 'HUMAN_NUMBERS'\n",
        "\n",
        "# Google Colab\n",
        "config_path = Path('/content/drive')\n",
        "data_path_base = Path('/content/datasets/')\n",
        "\n",
        "data_path = data_path_base/dataset\n",
        "\n",
        "from google.colab import drive\n",
        "drive.mount(str(config_path))"
      ],
      "execution_count": null,
      "outputs": [
        {
          "output_type": "stream",
          "text": [
            "Drive already mounted at /content/drive; to attempt to forcibly remount, call drive.mount(\"/content/drive\", force_remount=True).\n"
          ],
          "name": "stdout"
        }
      ]
    },
    {
      "cell_type": "markdown",
      "metadata": {
        "id": "pv3eV6oElZD2"
      },
      "source": [
        "# 2. Dataset"
      ]
    },
    {
      "cell_type": "markdown",
      "metadata": {
        "id": "_9kLpiZj_Rd6"
      },
      "source": [
        "ในเคสนี้เราจะใช้ Human Numbers คือ รายการตัวเลข เขียนเป็นภาษาอังกฤษ"
      ]
    },
    {
      "cell_type": "code",
      "metadata": {
        "id": "JkPHmMH9thma",
        "outputId": "cd38d97b-6821-4f70-a957-b0642a5ea38f",
        "colab": {
          "base_uri": "https://localhost:8080/",
          "height": 51
        }
      },
      "source": [
        "path = untar_data(URLs.HUMAN_NUMBERS, dest=data_path)\n",
        "path.ls()"
      ],
      "execution_count": null,
      "outputs": [
        {
          "output_type": "execute_result",
          "data": {
            "text/plain": [
              "[PosixPath('/content/datasets/HUMAN_NUMBERS/human_numbers/train.txt'),\n",
              " PosixPath('/content/datasets/HUMAN_NUMBERS/human_numbers/valid.txt')]"
            ]
          },
          "metadata": {
            "tags": []
          },
          "execution_count": 7
        }
      ]
    },
    {
      "cell_type": "code",
      "metadata": {
        "id": "Ov-85JmrwRz6",
        "outputId": "9649b903-8801-491e-c556-6a1c44bacf38",
        "colab": {
          "base_uri": "https://localhost:8080/",
          "height": 187
        }
      },
      "source": [
        "! head {path}/train.txt"
      ],
      "execution_count": null,
      "outputs": [
        {
          "output_type": "stream",
          "text": [
            "one \n",
            "two \n",
            "three \n",
            "four \n",
            "five \n",
            "six \n",
            "seven \n",
            "eight \n",
            "nine \n",
            "ten \n"
          ],
          "name": "stdout"
        }
      ]
    },
    {
      "cell_type": "code",
      "metadata": {
        "id": "HLFtnDG4wb0a",
        "outputId": "0896d3a9-25c4-459f-d867-665680fc1f3b",
        "colab": {
          "base_uri": "https://localhost:8080/",
          "height": 187
        }
      },
      "source": [
        "! tail {path}/train.txt"
      ],
      "execution_count": null,
      "outputs": [
        {
          "output_type": "stream",
          "text": [
            "seven thousand nine hundred ninety \n",
            "seven thousand nine hundred ninety one \n",
            "seven thousand nine hundred ninety two \n",
            "seven thousand nine hundred ninety three \n",
            "seven thousand nine hundred ninety four \n",
            "seven thousand nine hundred ninety five \n",
            "seven thousand nine hundred ninety six \n",
            "seven thousand nine hundred ninety seven \n",
            "seven thousand nine hundred ninety eight \n",
            "seven thousand nine hundred ninety nine \n"
          ],
          "name": "stdout"
        }
      ]
    },
    {
      "cell_type": "code",
      "metadata": {
        "outputId": "37f3aa61-c445-4b35-ed54-134b66f99417",
        "id": "BDisJDwtjq_C",
        "colab": {
          "base_uri": "https://localhost:8080/",
          "height": 187
        }
      },
      "source": [
        "! head {path}/valid.txt"
      ],
      "execution_count": null,
      "outputs": [
        {
          "output_type": "stream",
          "text": [
            "eight thousand one \n",
            "eight thousand two \n",
            "eight thousand three \n",
            "eight thousand four \n",
            "eight thousand five \n",
            "eight thousand six \n",
            "eight thousand seven \n",
            "eight thousand eight \n",
            "eight thousand nine \n",
            "eight thousand ten \n"
          ],
          "name": "stdout"
        }
      ]
    },
    {
      "cell_type": "code",
      "metadata": {
        "outputId": "13a9a195-9b91-490c-9519-7335d37b0bdc",
        "id": "RFdWcGFojq_N",
        "colab": {
          "base_uri": "https://localhost:8080/",
          "height": 187
        }
      },
      "source": [
        "! tail {path}/valid.txt"
      ],
      "execution_count": null,
      "outputs": [
        {
          "output_type": "stream",
          "text": [
            "nine thousand nine hundred ninety \n",
            "nine thousand nine hundred ninety one \n",
            "nine thousand nine hundred ninety two \n",
            "nine thousand nine hundred ninety three \n",
            "nine thousand nine hundred ninety four \n",
            "nine thousand nine hundred ninety five \n",
            "nine thousand nine hundred ninety six \n",
            "nine thousand nine hundred ninety seven \n",
            "nine thousand nine hundred ninety eight \n",
            "nine thousand nine hundred ninety nine \n"
          ],
          "name": "stdout"
        }
      ]
    },
    {
      "cell_type": "markdown",
      "metadata": {
        "id": "5ng4jS1ez9W7"
      },
      "source": [
        "# 3. Preprocessing"
      ]
    },
    {
      "cell_type": "markdown",
      "metadata": {
        "id": "Mq9esPYR8muR"
      },
      "source": [
        "## 3.1 อ่านไฟล์"
      ]
    },
    {
      "cell_type": "markdown",
      "metadata": {
        "id": "hxr5XN6gwICP"
      },
      "source": [
        "ประกาศฟังก์ชัน สำหรับอ่านไฟล์มารวมคั่นด้วย Comma ใส่ List ไว้"
      ]
    },
    {
      "cell_type": "code",
      "metadata": {
        "id": "VoZS_8eJvX51"
      },
      "source": [
        "def readnums(d): return [', '.join(o.strip() for o in open(path/d).readlines())]"
      ],
      "execution_count": null,
      "outputs": []
    },
    {
      "cell_type": "code",
      "metadata": {
        "id": "9wUCDx8PvtzS",
        "outputId": "f93778c8-9ef2-4faf-ef49-00590288b306",
        "colab": {
          "base_uri": "https://localhost:8080/",
          "height": 34
        }
      },
      "source": [
        "train_txt = readnums('train.txt')\n",
        "train_txt[0][:80]"
      ],
      "execution_count": null,
      "outputs": [
        {
          "output_type": "execute_result",
          "data": {
            "text/plain": [
              "'one, two, three, four, five, six, seven, eight, nine, ten, eleven, twelve, thirt'"
            ]
          },
          "metadata": {
            "tags": []
          },
          "execution_count": 13
        }
      ]
    },
    {
      "cell_type": "code",
      "metadata": {
        "id": "6sfRQsjLv3Dz",
        "outputId": "c8dc4a58-44a7-4932-de4f-b3923b0ac1f5",
        "colab": {
          "base_uri": "https://localhost:8080/",
          "height": 34
        }
      },
      "source": [
        "valid_txt = readnums('valid.txt')\n",
        "valid_txt[0][:80]"
      ],
      "execution_count": null,
      "outputs": [
        {
          "output_type": "execute_result",
          "data": {
            "text/plain": [
              "'eight thousand one, eight thousand two, eight thousand three, eight thousand fou'"
            ]
          },
          "metadata": {
            "tags": []
          },
          "execution_count": 14
        }
      ]
    },
    {
      "cell_type": "markdown",
      "metadata": {
        "id": "JWBhMWp88pyk"
      },
      "source": [
        "## 3.2 Data Pipeline"
      ]
    },
    {
      "cell_type": "markdown",
      "metadata": {
        "id": "u7I_38dYzFq7"
      },
      "source": [
        "สร้าง TextList (ItemList) ทั้ง [Training Set และ Validation Set](https://www.bualabs.com/archives/532/what-is-training-set-why-train-test-split-training-set-validation-set-test-set/)"
      ]
    },
    {
      "cell_type": "code",
      "metadata": {
        "id": "3gJe35hPwpEe"
      },
      "source": [
        "train = TextList(train_txt, path=path)\n",
        "valid = TextList(valid_txt, path=path)\n",
        "\n",
        "train, valid"
      ],
      "execution_count": null,
      "outputs": []
    },
    {
      "cell_type": "markdown",
      "metadata": {
        "id": "5eG78X7ezQ0K"
      },
      "source": [
        "รวม 2 Splitted ItemList ที่เราสร้างไว้"
      ]
    },
    {
      "cell_type": "code",
      "metadata": {
        "id": "P-huAqfUzEYW"
      },
      "source": [
        "splitted = ItemLists(path=path, train=train, valid=valid)\n",
        "splitted"
      ],
      "execution_count": null,
      "outputs": []
    },
    {
      "cell_type": "markdown",
      "metadata": {
        "id": "1uoMv5qRzaJw"
      },
      "source": [
        "ใส่ Label สำหรับ Language Model ให้ทั้ง 2 ItemList"
      ]
    },
    {
      "cell_type": "code",
      "metadata": {
        "id": "kC-ZUKUhy3IN"
      },
      "source": [
        "labeled_splitted = splitted.label_for_lm()\n",
        "labeled_splitted"
      ],
      "execution_count": null,
      "outputs": []
    },
    {
      "cell_type": "markdown",
      "metadata": {
        "id": "YiW1Khqozz7w"
      },
      "source": [
        "สร้าง DataBunch"
      ]
    },
    {
      "cell_type": "code",
      "metadata": {
        "id": "qUELVKqczha1"
      },
      "source": [
        "data = labeled_splitted.databunch()\n",
        "data"
      ],
      "execution_count": null,
      "outputs": []
    },
    {
      "cell_type": "markdown",
      "metadata": {
        "id": "TbJM7UbL8urH"
      },
      "source": [
        "## 3.3 เช็คข้อมูล"
      ]
    },
    {
      "cell_type": "markdown",
      "metadata": {
        "id": "o-UQRxK60qty"
      },
      "source": [
        "จำนวน Token (ความยาว) ของ ข้อมูลตัวอย่าง x ตัวแรก ใน Validation Set"
      ]
    },
    {
      "cell_type": "code",
      "metadata": {
        "id": "q9g8yorjzsfa",
        "outputId": "080eeff5-fbc0-4b53-92e9-bde9d7960847",
        "colab": {
          "base_uri": "https://localhost:8080/",
          "height": 34
        }
      },
      "source": [
        "len(data.valid_ds[0][0].data)"
      ],
      "execution_count": null,
      "outputs": [
        {
          "output_type": "execute_result",
          "data": {
            "text/plain": [
              "13017"
            ]
          },
          "metadata": {
            "tags": []
          },
          "execution_count": 19
        }
      ]
    },
    {
      "cell_type": "markdown",
      "metadata": {
        "id": "cIVnxRph1Ozb"
      },
      "source": [
        "Backpropagation Through Time (BPTT) คือ มิติของเวลา ว่าจะเทรนไปกี่ Token ถึงจะทำ Backpropagation หา [Gradient](https://www.bualabs.com/archives/631/what-is-gradient-descent-in-deep-learning-what-is-stochastic-gradient-descent-sgd-optimization-ep-1/) เรียก [Optimizer Step](https://www.bualabs.com/archives/2042/refactor-parameter-optimizer-neural-network-train-deep-learning-machine-learning-neural-network-ep-6/) อัพเดท Weight ของโมเดล\n",
        "\n",
        "และจำนวน Batch ใน Validation Set"
      ]
    },
    {
      "cell_type": "code",
      "metadata": {
        "id": "SZqaeHwZ0ej-",
        "outputId": "cb223b3b-5606-4fee-970e-12f6fdb9f6a1",
        "colab": {
          "base_uri": "https://localhost:8080/",
          "height": 34
        }
      },
      "source": [
        "data.bptt, len(data.valid_dl)"
      ],
      "execution_count": null,
      "outputs": [
        {
          "output_type": "execute_result",
          "data": {
            "text/plain": [
              "(70, 3)"
            ]
          },
          "metadata": {
            "tags": []
          },
          "execution_count": 20
        }
      ]
    },
    {
      "cell_type": "markdown",
      "metadata": {
        "id": "6vQROd_X121N"
      },
      "source": [
        "กำหนด [Batch Size](https://www.bualabs.com/archives/729/what-is-batch-size-in-deep-neural-networks-how-to-adjust-machine-learning-model-accuracy-deep-learning-hyperparameter-tuning-ep-2/) = 64"
      ]
    },
    {
      "cell_type": "code",
      "metadata": {
        "id": "moo-_pjL12UX"
      },
      "source": [
        "bs=64"
      ],
      "execution_count": null,
      "outputs": []
    },
    {
      "cell_type": "markdown",
      "metadata": {
        "id": "FVZRDVBp1_yD"
      },
      "source": [
        "นำข้อมูลตัวอย่าง มาหารด้วยความยาว BPTT ว่าจะใส่ข้อความยาวเท่าไร และ Batch Size ว่าจะแบ่งเป็นกี่ข้อความ ที่จะ Feed ใส่พร้อม ๆ กัน\n",
        "\n",
        "คำนวนได้ประมาณ 3 Mini-Batch ใน 1 Epoch ของ [Training Loop](https://www.bualabs.com/archives/1985/basic-training-loop-start-train-neural-network-mini-batch-sgd-neural-network-ep-4/)"
      ]
    },
    {
      "cell_type": "code",
      "metadata": {
        "id": "406rCr241IB9",
        "outputId": "c24d5dbd-e5ea-4df3-a160-4cbeddd1f750",
        "colab": {
          "base_uri": "https://localhost:8080/",
          "height": 34
        }
      },
      "source": [
        "13017/70/bs"
      ],
      "execution_count": null,
      "outputs": [
        {
          "output_type": "execute_result",
          "data": {
            "text/plain": [
              "2.905580357142857"
            ]
          },
          "metadata": {
            "tags": []
          },
          "execution_count": 22
        }
      ]
    },
    {
      "cell_type": "markdown",
      "metadata": {
        "id": "ow9-6kgI3fDR"
      },
      "source": [
        "เราจะใช้ Iterator แบ่ง Validation Set ออกมาเป็น x, y 3 ชุดเลย จะได้เห็นชัด ๆ"
      ]
    },
    {
      "cell_type": "code",
      "metadata": {
        "id": "-ukI0jG211fQ"
      },
      "source": [
        "it = iter(data.valid_dl)\n",
        "\n",
        "x1, y1 = next(it)\n",
        "x2, y2 = next(it)\n",
        "x3, y3 = next(it)\n",
        "\n",
        "it.close()"
      ],
      "execution_count": null,
      "outputs": []
    },
    {
      "cell_type": "markdown",
      "metadata": {
        "id": "XtuVJCCG32ss"
      },
      "source": [
        "จะได้ ข้อมูล x ขนาด Batch Size x BPTT ออกมา และ Label y เท่ากับ x ตัวถัดไป สำหรับเทรน Language Model"
      ]
    },
    {
      "cell_type": "code",
      "metadata": {
        "id": "9TqfJejQ1sGe",
        "outputId": "f831bd10-8970-4445-cee4-73197dd1d879",
        "colab": {
          "base_uri": "https://localhost:8080/",
          "height": 85
        }
      },
      "source": [
        "x1.shape, y1.shape, x1[0, :10], y1[0, :10]"
      ],
      "execution_count": null,
      "outputs": [
        {
          "output_type": "execute_result",
          "data": {
            "text/plain": [
              "(torch.Size([64, 70]),\n",
              " torch.Size([64, 70]),\n",
              " tensor([ 2, 19, 11, 12,  9, 19, 11, 13,  9, 19], device='cuda:0'),\n",
              " tensor([19, 11, 12,  9, 19, 11, 13,  9, 19, 11], device='cuda:0'))"
            ]
          },
          "metadata": {
            "tags": []
          },
          "execution_count": 24
        }
      ]
    },
    {
      "cell_type": "markdown",
      "metadata": {
        "id": "evTAXMpA4b5-"
      },
      "source": [
        "เช็คว่าครบไหม พบว่าเกิน\n",
        "\n",
        "numel = Number of Elements"
      ]
    },
    {
      "cell_type": "code",
      "metadata": {
        "id": "tGGugkfT3r-b",
        "outputId": "25cdbad5-f96a-4654-e3f7-27797cd9c336",
        "colab": {
          "base_uri": "https://localhost:8080/",
          "height": 34
        }
      },
      "source": [
        "x1.numel() + x2.numel() + x3.numel()"
      ],
      "execution_count": null,
      "outputs": [
        {
          "output_type": "execute_result",
          "data": {
            "text/plain": [
              "13440"
            ]
          },
          "metadata": {
            "tags": []
          },
          "execution_count": 25
        }
      ]
    },
    {
      "cell_type": "markdown",
      "metadata": {
        "id": "XQy1lHI_5OWm"
      },
      "source": [
        "เพราะมีการใส่ Padding ให้ความยาวเท่ากันทุก Batch"
      ]
    },
    {
      "cell_type": "code",
      "metadata": {
        "id": "ZmjGpcD15FrR",
        "outputId": "ca18121e-2f8c-488d-d33b-4976e0e4dd24",
        "colab": {
          "base_uri": "https://localhost:8080/",
          "height": 34
        }
      },
      "source": [
        "x1.numel(), x2.numel(), x3.numel()"
      ],
      "execution_count": null,
      "outputs": [
        {
          "output_type": "execute_result",
          "data": {
            "text/plain": [
              "(4480, 4480, 4480)"
            ]
          },
          "metadata": {
            "tags": []
          },
          "execution_count": 26
        }
      ]
    },
    {
      "cell_type": "markdown",
      "metadata": {
        "id": "lbzkU28U82cf"
      },
      "source": [
        "## 3.4 ดูข้อมูล Explore Data"
      ]
    },
    {
      "cell_type": "markdown",
      "metadata": {
        "id": "sp9alD4Y4yU7"
      },
      "source": [
        "ดูรายการคำศัพท์ทั้งหมด ใน vocab Dictionary"
      ]
    },
    {
      "cell_type": "code",
      "metadata": {
        "id": "ObplzQKC4kB7"
      },
      "source": [
        "v = data.valid_ds.vocab"
      ],
      "execution_count": null,
      "outputs": []
    },
    {
      "cell_type": "code",
      "metadata": {
        "id": "eF495fHS4tfL",
        "outputId": "697b09df-b60c-4e83-c128-c1e40dfeaa61",
        "colab": {
          "base_uri": "https://localhost:8080/",
          "height": 697
        }
      },
      "source": [
        "v.itos"
      ],
      "execution_count": null,
      "outputs": [
        {
          "output_type": "execute_result",
          "data": {
            "text/plain": [
              "['xxunk',\n",
              " 'xxpad',\n",
              " 'xxbos',\n",
              " 'xxeos',\n",
              " 'xxfld',\n",
              " 'xxmaj',\n",
              " 'xxup',\n",
              " 'xxrep',\n",
              " 'xxwrep',\n",
              " ',',\n",
              " 'hundred',\n",
              " 'thousand',\n",
              " 'one',\n",
              " 'two',\n",
              " 'three',\n",
              " 'four',\n",
              " 'five',\n",
              " 'six',\n",
              " 'seven',\n",
              " 'eight',\n",
              " 'nine',\n",
              " 'twenty',\n",
              " 'thirty',\n",
              " 'forty',\n",
              " 'fifty',\n",
              " 'sixty',\n",
              " 'seventy',\n",
              " 'eighty',\n",
              " 'ninety',\n",
              " 'ten',\n",
              " 'eleven',\n",
              " 'twelve',\n",
              " 'thirteen',\n",
              " 'fourteen',\n",
              " 'fifteen',\n",
              " 'sixteen',\n",
              " 'seventeen',\n",
              " 'eighteen',\n",
              " 'nineteen',\n",
              " 'xxfake']"
            ]
          },
          "metadata": {
            "tags": []
          },
          "execution_count": 28
        }
      ]
    },
    {
      "cell_type": "code",
      "metadata": {
        "id": "NbO8Z5aH4vH2",
        "outputId": "960567d0-e750-4dd3-bd34-05a2ec7a1dcd",
        "colab": {
          "base_uri": "https://localhost:8080/",
          "height": 102
        }
      },
      "source": [
        "x1[0, :]"
      ],
      "execution_count": null,
      "outputs": [
        {
          "output_type": "execute_result",
          "data": {
            "text/plain": [
              "tensor([ 2, 19, 11, 12,  9, 19, 11, 13,  9, 19, 11, 14,  9, 19, 11, 15,  9, 19,\n",
              "        11, 16,  9, 19, 11, 17,  9, 19, 11, 18,  9, 19, 11, 19,  9, 19, 11, 20,\n",
              "         9, 19, 11, 29,  9, 19, 11, 30,  9, 19, 11, 31,  9, 19, 11, 32,  9, 19,\n",
              "        11, 33,  9, 19, 11, 34,  9, 19, 11, 35,  9, 19, 11, 36,  9, 19],\n",
              "       device='cuda:0')"
            ]
          },
          "metadata": {
            "tags": []
          },
          "execution_count": 29
        }
      ]
    },
    {
      "cell_type": "code",
      "metadata": {
        "id": "VM9_kq1F6o51",
        "outputId": "631a7abe-7360-4a70-fd0d-6dc714d2508f",
        "colab": {
          "base_uri": "https://localhost:8080/",
          "height": 102
        }
      },
      "source": [
        "y1[0, :]"
      ],
      "execution_count": null,
      "outputs": [
        {
          "output_type": "execute_result",
          "data": {
            "text/plain": [
              "tensor([19, 11, 12,  9, 19, 11, 13,  9, 19, 11, 14,  9, 19, 11, 15,  9, 19, 11,\n",
              "        16,  9, 19, 11, 17,  9, 19, 11, 18,  9, 19, 11, 19,  9, 19, 11, 20,  9,\n",
              "        19, 11, 29,  9, 19, 11, 30,  9, 19, 11, 31,  9, 19, 11, 32,  9, 19, 11,\n",
              "        33,  9, 19, 11, 34,  9, 19, 11, 35,  9, 19, 11, 36,  9, 19, 11],\n",
              "       device='cuda:0')"
            ]
          },
          "metadata": {
            "tags": []
          },
          "execution_count": 30
        }
      ]
    },
    {
      "cell_type": "code",
      "metadata": {
        "id": "Zfu71jPG6qnc",
        "outputId": "6d6b6c62-84a9-4fb7-ef09-76717f1fbecd",
        "colab": {
          "base_uri": "https://localhost:8080/",
          "height": 34
        }
      },
      "source": [
        "v.itos[13], v.itos[9], v.itos[14], v.itos[10], v.itos[13], v.itos[9], v.itos[15], v.itos[10]"
      ],
      "execution_count": null,
      "outputs": [
        {
          "output_type": "execute_result",
          "data": {
            "text/plain": [
              "('two', ',', 'three', 'hundred', 'two', ',', 'four', 'hundred')"
            ]
          },
          "metadata": {
            "tags": []
          },
          "execution_count": 31
        }
      ]
    },
    {
      "cell_type": "markdown",
      "metadata": {
        "id": "n6dtALy58Tko"
      },
      "source": [
        "ดูเป็นข้อความ Text"
      ]
    },
    {
      "cell_type": "code",
      "metadata": {
        "id": "bOiqywim7GHb",
        "outputId": "ef888482-121c-4e9e-8793-8ca42149ceda",
        "colab": {
          "base_uri": "https://localhost:8080/",
          "height": 54
        }
      },
      "source": [
        "v.textify(x1[0])"
      ],
      "execution_count": null,
      "outputs": [
        {
          "output_type": "execute_result",
          "data": {
            "text/plain": [
              "'xxbos eight thousand one , eight thousand two , eight thousand three , eight thousand four , eight thousand five , eight thousand six , eight thousand seven , eight thousand eight , eight thousand nine , eight thousand ten , eight thousand eleven , eight thousand twelve , eight thousand thirteen , eight thousand fourteen , eight thousand fifteen , eight thousand sixteen , eight thousand seventeen , eight'"
            ]
          },
          "metadata": {
            "tags": []
          },
          "execution_count": 32
        }
      ]
    },
    {
      "cell_type": "code",
      "metadata": {
        "id": "EeJMSlIJ7TPp",
        "outputId": "41f57125-da01-40d4-cba0-ea360820fa00",
        "colab": {
          "base_uri": "https://localhost:8080/",
          "height": 54
        }
      },
      "source": [
        "v.textify(x1[1])"
      ],
      "execution_count": null,
      "outputs": [
        {
          "output_type": "execute_result",
          "data": {
            "text/plain": [
              "', eight thousand forty six , eight thousand forty seven , eight thousand forty eight , eight thousand forty nine , eight thousand fifty , eight thousand fifty one , eight thousand fifty two , eight thousand fifty three , eight thousand fifty four , eight thousand fifty five , eight thousand fifty six , eight thousand fifty seven , eight thousand fifty eight , eight thousand fifty nine ,'"
            ]
          },
          "metadata": {
            "tags": []
          },
          "execution_count": 33
        }
      ]
    },
    {
      "cell_type": "code",
      "metadata": {
        "id": "ESyj5ufF70Lv",
        "outputId": "846a2be4-a68d-472d-b784-1b5d038c41cb",
        "colab": {
          "base_uri": "https://localhost:8080/",
          "height": 54
        }
      },
      "source": [
        "v.textify(y1[1])"
      ],
      "execution_count": null,
      "outputs": [
        {
          "output_type": "execute_result",
          "data": {
            "text/plain": [
              "'eight thousand forty six , eight thousand forty seven , eight thousand forty eight , eight thousand forty nine , eight thousand fifty , eight thousand fifty one , eight thousand fifty two , eight thousand fifty three , eight thousand fifty four , eight thousand fifty five , eight thousand fifty six , eight thousand fifty seven , eight thousand fifty eight , eight thousand fifty nine , eight'"
            ]
          },
          "metadata": {
            "tags": []
          },
          "execution_count": 34
        }
      ]
    },
    {
      "cell_type": "code",
      "metadata": {
        "id": "2uRU-Hf88E7s",
        "outputId": "d4f5078c-70ae-47ac-c6d5-ccb51b51ae0d",
        "colab": {
          "base_uri": "https://localhost:8080/",
          "height": 54
        }
      },
      "source": [
        "v.textify(x2[0])"
      ],
      "execution_count": null,
      "outputs": [
        {
          "output_type": "execute_result",
          "data": {
            "text/plain": [
              "'thousand eighteen , eight thousand nineteen , eight thousand twenty , eight thousand twenty one , eight thousand twenty two , eight thousand twenty three , eight thousand twenty four , eight thousand twenty five , eight thousand twenty six , eight thousand twenty seven , eight thousand twenty eight , eight thousand twenty nine , eight thousand thirty , eight thousand thirty one , eight thousand thirty two ,'"
            ]
          },
          "metadata": {
            "tags": []
          },
          "execution_count": 35
        }
      ]
    },
    {
      "cell_type": "code",
      "metadata": {
        "id": "yIiG9oRk8FOf",
        "outputId": "0e70a5f2-9f8b-42d1-c77c-871c7f83fb45",
        "colab": {
          "base_uri": "https://localhost:8080/",
          "height": 54
        }
      },
      "source": [
        "v.textify(x3[0])"
      ],
      "execution_count": null,
      "outputs": [
        {
          "output_type": "execute_result",
          "data": {
            "text/plain": [
              "'eight thousand thirty three , eight thousand thirty four , eight thousand thirty five , eight thousand thirty six , eight thousand thirty seven , eight thousand thirty eight , eight thousand thirty nine , eight thousand forty , eight thousand forty one , eight thousand forty two , eight thousand forty three , eight thousand forty four , eight thousand forty five , eight thousand forty six , eight'"
            ]
          },
          "metadata": {
            "tags": []
          },
          "execution_count": 36
        }
      ]
    },
    {
      "cell_type": "code",
      "metadata": {
        "id": "PF5ePWiX77PC",
        "outputId": "d8cab2ed-abe7-4e64-b947-9132a36c3ed8",
        "colab": {
          "base_uri": "https://localhost:8080/",
          "height": 54
        }
      },
      "source": [
        "v.textify(x3[-1])"
      ],
      "execution_count": null,
      "outputs": [
        {
          "output_type": "execute_result",
          "data": {
            "text/plain": [
              "'ninety , nine thousand nine hundred ninety one , nine thousand nine hundred ninety two , nine thousand nine hundred ninety three , nine thousand nine hundred ninety four , nine thousand nine hundred ninety five , nine thousand nine hundred ninety six , nine thousand nine hundred ninety seven , nine thousand nine hundred ninety eight , nine thousand nine hundred ninety nine xxbos eight thousand one , eight'"
            ]
          },
          "metadata": {
            "tags": []
          },
          "execution_count": 37
        }
      ]
    },
    {
      "cell_type": "code",
      "metadata": {
        "id": "_hhcbvYy8Aji",
        "outputId": "30cadcfd-8c75-4f82-8131-f1e592532d9b",
        "colab": {
          "base_uri": "https://localhost:8080/",
          "height": 357
        }
      },
      "source": [
        "data.show_batch(ds_type=DatasetType.Valid)"
      ],
      "execution_count": null,
      "outputs": [
        {
          "output_type": "display_data",
          "data": {
            "text/html": [
              "<table border=\"1\" class=\"dataframe\">\n",
              "  <thead>\n",
              "    <tr style=\"text-align: right;\">\n",
              "      <th>idx</th>\n",
              "      <th>text</th>\n",
              "    </tr>\n",
              "  </thead>\n",
              "  <tbody>\n",
              "    <tr>\n",
              "      <td>0</td>\n",
              "      <td>thousand forty seven , eight thousand forty eight , eight thousand forty nine , eight thousand fifty , eight thousand fifty one , eight thousand fifty two , eight thousand fifty three , eight thousand fifty four , eight thousand fifty five , eight thousand fifty six , eight thousand fifty seven , eight thousand fifty eight , eight thousand fifty nine , eight thousand sixty , eight thousand sixty</td>\n",
              "    </tr>\n",
              "    <tr>\n",
              "      <td>1</td>\n",
              "      <td>eight , eight thousand eighty nine , eight thousand ninety , eight thousand ninety one , eight thousand ninety two , eight thousand ninety three , eight thousand ninety four , eight thousand ninety five , eight thousand ninety six , eight thousand ninety seven , eight thousand ninety eight , eight thousand ninety nine , eight thousand one hundred , eight thousand one hundred one , eight thousand one</td>\n",
              "    </tr>\n",
              "    <tr>\n",
              "      <td>2</td>\n",
              "      <td>thousand one hundred twenty four , eight thousand one hundred twenty five , eight thousand one hundred twenty six , eight thousand one hundred twenty seven , eight thousand one hundred twenty eight , eight thousand one hundred twenty nine , eight thousand one hundred thirty , eight thousand one hundred thirty one , eight thousand one hundred thirty two , eight thousand one hundred thirty three , eight thousand</td>\n",
              "    </tr>\n",
              "    <tr>\n",
              "      <td>3</td>\n",
              "      <td>three , eight thousand one hundred fifty four , eight thousand one hundred fifty five , eight thousand one hundred fifty six , eight thousand one hundred fifty seven , eight thousand one hundred fifty eight , eight thousand one hundred fifty nine , eight thousand one hundred sixty , eight thousand one hundred sixty one , eight thousand one hundred sixty two , eight thousand one hundred sixty three</td>\n",
              "    </tr>\n",
              "    <tr>\n",
              "      <td>4</td>\n",
              "      <td>thousand one hundred eighty three , eight thousand one hundred eighty four , eight thousand one hundred eighty five , eight thousand one hundred eighty six , eight thousand one hundred eighty seven , eight thousand one hundred eighty eight , eight thousand one hundred eighty nine , eight thousand one hundred ninety , eight thousand one hundred ninety one , eight thousand one hundred ninety two , eight thousand</td>\n",
              "    </tr>\n",
              "  </tbody>\n",
              "</table>"
            ],
            "text/plain": [
              "<IPython.core.display.HTML object>"
            ]
          },
          "metadata": {
            "tags": []
          }
        }
      ]
    },
    {
      "cell_type": "markdown",
      "metadata": {
        "id": "Q6G_hUr29S0j"
      },
      "source": [
        "# 4. Model"
      ]
    },
    {
      "cell_type": "markdown",
      "metadata": {
        "id": "B4qB87jf9bpP"
      },
      "source": [
        "## 4.1 Fully Connected Model 1 Layer"
      ]
    },
    {
      "cell_type": "code",
      "metadata": {
        "id": "FuexB9mo9f6I"
      },
      "source": [
        "data = labeled_splitted.databunch(bs=bs, bptt=3)\n",
        "data"
      ],
      "execution_count": null,
      "outputs": []
    },
    {
      "cell_type": "code",
      "metadata": {
        "id": "e0fzxoXO9v2N",
        "outputId": "d40d49c4-af15-4e49-9ec4-009cafcdfe50",
        "colab": {
          "base_uri": "https://localhost:8080/",
          "height": 34
        }
      },
      "source": [
        "x, y = data.one_batch()\n",
        "x.shape, y.shape"
      ],
      "execution_count": null,
      "outputs": [
        {
          "output_type": "execute_result",
          "data": {
            "text/plain": [
              "(torch.Size([64, 3]), torch.Size([64, 3]))"
            ]
          },
          "metadata": {
            "tags": []
          },
          "execution_count": 40
        }
      ]
    },
    {
      "cell_type": "code",
      "metadata": {
        "id": "zWij1jXQ97AQ",
        "outputId": "9bf85b96-919a-4c65-910b-4de15163e127",
        "colab": {
          "base_uri": "https://localhost:8080/",
          "height": 340
        }
      },
      "source": [
        "x[:10, :], y[:10, :]"
      ],
      "execution_count": null,
      "outputs": [
        {
          "output_type": "execute_result",
          "data": {
            "text/plain": [
              "(tensor([[13,  9, 14],\n",
              "         [13, 10, 30],\n",
              "         [10, 26, 17],\n",
              "         [ 9, 16, 10],\n",
              "         [18, 10, 20],\n",
              "         [ 9, 19, 10],\n",
              "         [11, 23, 13],\n",
              "         [11, 12, 10],\n",
              "         [13, 10, 28],\n",
              "         [19,  9, 12]]), tensor([[ 9, 14,  9],\n",
              "         [10, 30,  9],\n",
              "         [26, 17,  9],\n",
              "         [16, 10, 23],\n",
              "         [10, 20,  9],\n",
              "         [19, 10, 26],\n",
              "         [23, 13,  9],\n",
              "         [12, 10, 26],\n",
              "         [10, 28, 12],\n",
              "         [ 9, 12, 11]]))"
            ]
          },
          "metadata": {
            "tags": []
          },
          "execution_count": 41
        }
      ]
    },
    {
      "cell_type": "markdown",
      "metadata": {
        "id": "d4OSMbsNCpJR"
      },
      "source": [
        "nv = Number of vocab"
      ]
    },
    {
      "cell_type": "code",
      "metadata": {
        "id": "DdVU9gQ4-KHn",
        "outputId": "aecbcbfb-c6c9-4c4d-a3a9-a32ab914e090",
        "colab": {
          "base_uri": "https://localhost:8080/",
          "height": 34
        }
      },
      "source": [
        "nv = len(v.itos); nv"
      ],
      "execution_count": null,
      "outputs": [
        {
          "output_type": "execute_result",
          "data": {
            "text/plain": [
              "40"
            ]
          },
          "metadata": {
            "tags": []
          },
          "execution_count": 42
        }
      ]
    },
    {
      "cell_type": "markdown",
      "metadata": {
        "id": "BNpZQR7OCrcg"
      },
      "source": [
        "nh = Number of Hidden"
      ]
    },
    {
      "cell_type": "code",
      "metadata": {
        "id": "qGBHfnNjCmTA"
      },
      "source": [
        "nh = 64"
      ],
      "execution_count": null,
      "outputs": []
    },
    {
      "cell_type": "markdown",
      "metadata": {
        "id": "qX70iBFxDC8P"
      },
      "source": [
        "ประกาศ Loss Function ที่จะคิดเฉพาะผลของ Step ท้ายสุด ภายในเป็น [Cross Entropy Loss](https://www.bualabs.com/archives/1945/what-is-cross-entropy-loss-logistic-regression-log-loss-loss-function-ep-3/) ที่เหมาะกับงาน Classification"
      ]
    },
    {
      "cell_type": "code",
      "metadata": {
        "id": "4EdeoFF2Cv0h"
      },
      "source": [
        "def loss4(input, target): return F.cross_entropy(input, target[:, -1])"
      ],
      "execution_count": null,
      "outputs": []
    },
    {
      "cell_type": "markdown",
      "metadata": {
        "id": "XKll6pHTDTTJ"
      },
      "source": [
        "ประกาศฟังก์ชัน คำนวน [Metric](https://www.bualabs.com/archives/1968/what-is-metrics-confusion-matrix-accuracy-precision-recall-f1-score-difference-metrics-ep-1/)  ที่จะคิดเฉพาะผลของ Step ท้ายสุด ภายในเป็น Accuracy ธรรมดา"
      ]
    },
    {
      "cell_type": "code",
      "metadata": {
        "id": "tevnQsUhC63X"
      },
      "source": [
        "def acc4(input, target): return accuracy(input, target[:, -1])"
      ],
      "execution_count": null,
      "outputs": []
    },
    {
      "cell_type": "code",
      "metadata": {
        "id": "ksKJ4kDdDBZY",
        "outputId": "6eb92547-df81-4b3a-c160-f9a651b0e373",
        "colab": {
          "base_uri": "https://localhost:8080/",
          "height": 85
        }
      },
      "source": [
        "x[:, 0]"
      ],
      "execution_count": null,
      "outputs": [
        {
          "output_type": "execute_result",
          "data": {
            "text/plain": [
              "tensor([13, 13, 10,  9, 18,  9, 11, 11, 13, 19, 16, 23, 24,  9, 12,  9, 13, 14,\n",
              "        15, 11, 10, 22, 15,  9, 10, 14, 11, 16, 10, 28, 11,  9, 20,  9, 15, 15,\n",
              "        11, 18, 10, 28, 23, 24,  9, 16, 10, 16, 19, 20, 12, 10, 22, 16, 17, 17,\n",
              "        17, 11, 24, 10,  9, 15, 16,  9, 18, 11])"
            ]
          },
          "metadata": {
            "tags": []
          },
          "execution_count": 46
        }
      ]
    },
    {
      "cell_type": "markdown",
      "metadata": {
        "id": "AK9VNxr6DrbK"
      },
      "source": [
        "สร้าง โมเดล [Artificial Neural Network](https://www.bualabs.com/archives/1763/what-is-neural-network-how-neural-network-work-build-deep-neural-network-from-scratch-neural-network-ep-1/) โดยมี Layer ดังนี้\n",
        "\n",
        "1. i_h input to hidden\n",
        "1. h_h hidden to hidden\n",
        "1. h_o hidden to output\n",
        "1. bn [BatchNorm](https://www.bualabs.com/archives/2617/what-is-batchnorm-teach-batch-normalization-train-machine-learning-model-deep-convolutional-neural-network-convnet-ep-5/)"
      ]
    },
    {
      "cell_type": "markdown",
      "metadata": {
        "id": "vGUGbJzMFfyo"
      },
      "source": [
        "เนื่องจากเรา fix bptt ไว้ที่ 3 ใน forward เราจะเช็คความยาวของ BPTT แล้วทำ Forward เอง ทีละขั้น เพื่อเวลา Backprop จะได้ Backprop ตามนั้น"
      ]
    },
    {
      "cell_type": "code",
      "metadata": {
        "id": "i_1IORc4ENQ6"
      },
      "source": [
        "class Model0(nn.Module):\n",
        "    def __init__(self):\n",
        "        super().__init__()\n",
        "        self.i_h = nn.Embedding(nv, nh)\n",
        "        self.h_h = nn.Linear(nh, nh)\n",
        "        self.h_o = nn.Linear(nh, nv)\n",
        "        self.bn = nn.BatchNorm1d(nh)\n",
        "\n",
        "    def forward(self, x):\n",
        "        h = self.bn(F.relu(self.i_h(x[:, 0])))\n",
        "        if x.shape[1] > 1:\n",
        "            h = h + self.i_h(x[:, 1])\n",
        "            h = self.bn(F.relu(self.h_h(h)))\n",
        "        if x.shape[1] > 2:\n",
        "            h = h + self.i_h(x[:, 2])\n",
        "            h = self.bn(F.relu(self.h_h(h)))\n",
        "        return self.h_o(h)"
      ],
      "execution_count": null,
      "outputs": []
    },
    {
      "cell_type": "code",
      "metadata": {
        "id": "nmtReMSRFeXX"
      },
      "source": [
        "learn = Learner(data, Model0(), loss_func=loss4, metrics=[acc4], callback_fns=[ShowGraph])"
      ],
      "execution_count": null,
      "outputs": []
    },
    {
      "cell_type": "code",
      "metadata": {
        "id": "qwt1WhvWGHCd"
      },
      "source": [
        "# learn.lr_find()\n",
        "# learn.recorder.plot(suggestion=True)"
      ],
      "execution_count": null,
      "outputs": []
    },
    {
      "cell_type": "code",
      "metadata": {
        "id": "Z0oXKujLGKfb",
        "outputId": "50ec5313-f1ea-4297-e5dc-cc53ab2521bb",
        "colab": {
          "base_uri": "https://localhost:8080/",
          "height": 545
        }
      },
      "source": [
        "learn.fit_one_cycle(8, max_lr=1e-4)"
      ],
      "execution_count": null,
      "outputs": [
        {
          "output_type": "display_data",
          "data": {
            "text/html": [
              "<table border=\"1\" class=\"dataframe\">\n",
              "  <thead>\n",
              "    <tr style=\"text-align: left;\">\n",
              "      <th>epoch</th>\n",
              "      <th>train_loss</th>\n",
              "      <th>valid_loss</th>\n",
              "      <th>acc4</th>\n",
              "      <th>time</th>\n",
              "    </tr>\n",
              "  </thead>\n",
              "  <tbody>\n",
              "    <tr>\n",
              "      <td>0</td>\n",
              "      <td>3.717673</td>\n",
              "      <td>3.650445</td>\n",
              "      <td>0.105699</td>\n",
              "      <td>00:01</td>\n",
              "    </tr>\n",
              "    <tr>\n",
              "      <td>1</td>\n",
              "      <td>3.054797</td>\n",
              "      <td>3.032577</td>\n",
              "      <td>0.388327</td>\n",
              "      <td>00:01</td>\n",
              "    </tr>\n",
              "    <tr>\n",
              "      <td>2</td>\n",
              "      <td>2.292718</td>\n",
              "      <td>2.450773</td>\n",
              "      <td>0.461167</td>\n",
              "      <td>00:01</td>\n",
              "    </tr>\n",
              "    <tr>\n",
              "      <td>3</td>\n",
              "      <td>1.938743</td>\n",
              "      <td>2.198278</td>\n",
              "      <td>0.461397</td>\n",
              "      <td>00:02</td>\n",
              "    </tr>\n",
              "    <tr>\n",
              "      <td>4</td>\n",
              "      <td>1.782156</td>\n",
              "      <td>2.114701</td>\n",
              "      <td>0.456112</td>\n",
              "      <td>00:01</td>\n",
              "    </tr>\n",
              "    <tr>\n",
              "      <td>5</td>\n",
              "      <td>1.713506</td>\n",
              "      <td>2.090328</td>\n",
              "      <td>0.457031</td>\n",
              "      <td>00:01</td>\n",
              "    </tr>\n",
              "    <tr>\n",
              "      <td>6</td>\n",
              "      <td>1.687654</td>\n",
              "      <td>2.085071</td>\n",
              "      <td>0.444623</td>\n",
              "      <td>00:01</td>\n",
              "    </tr>\n",
              "    <tr>\n",
              "      <td>7</td>\n",
              "      <td>1.682089</td>\n",
              "      <td>2.084593</td>\n",
              "      <td>0.444623</td>\n",
              "      <td>00:01</td>\n",
              "    </tr>\n",
              "  </tbody>\n",
              "</table>"
            ],
            "text/plain": [
              "<IPython.core.display.HTML object>"
            ]
          },
          "metadata": {
            "tags": []
          }
        },
        {
          "output_type": "display_data",
          "data": {
            "image/png": "[encoded data removed]",
            "text/plain": [
              "<Figure size 432x288 with 1 Axes>"
            ]
          },
          "metadata": {
            "tags": []
          }
        }
      ]
    },
    {
      "cell_type": "markdown",
      "metadata": {
        "id": "0pwXJ_m5GS0z"
      },
      "source": [
        "## 4.2 RNN"
      ]
    },
    {
      "cell_type": "markdown",
      "metadata": {
        "id": "gMjU-Ji7LE-H"
      },
      "source": [
        "เราจะเปลี่ยนจาก Fully Connected Model 1 Layer โดย Refactor ใน forward จากใช้ If ไปใช้ Loop แทน ได้เป็น Recurrent Neural Network (RNN)"
      ]
    },
    {
      "cell_type": "code",
      "metadata": {
        "id": "PJwJffnYLBqx"
      },
      "source": [
        "class Model1(nn.Module):\n",
        "    def __init__(self):\n",
        "        super().__init__()\n",
        "        self.i_h = nn.Embedding(nv, nh)\n",
        "        self.h_h = nn.Linear(nh, nh)\n",
        "        self.h_o = nn.Linear(nh, nv)\n",
        "        self.bn = nn.BatchNorm1d(nh)\n",
        "\n",
        "    def forward(self, x):\n",
        "        h = torch.zeros(x.shape[0], nh).to(device=x.device)\n",
        "        for i in range(x.shape[1]):\n",
        "            h = h + self.i_h(x[:, i])\n",
        "            # h = self.bn(F.relu(h))\n",
        "            h = self.bn(F.relu(self.h_h(h)))\n",
        "        return self.h_o(h)"
      ],
      "execution_count": null,
      "outputs": []
    },
    {
      "cell_type": "code",
      "metadata": {
        "id": "OoUy0cZ8MfUl"
      },
      "source": [
        "learn = Learner(data, Model1(), loss_func=loss4, metrics=[acc4], callback_fns=[ShowGraph])"
      ],
      "execution_count": null,
      "outputs": []
    },
    {
      "cell_type": "code",
      "metadata": {
        "id": "qTL5K3FiMfUs"
      },
      "source": [
        "# learn.lr_find()\n",
        "# learn.recorder.plot(suggestion=True)"
      ],
      "execution_count": null,
      "outputs": []
    },
    {
      "cell_type": "code",
      "metadata": {
        "outputId": "37be30ad-bb09-4a4e-d237-43edff9f14ff",
        "id": "kF8VTEbeMfUw",
        "colab": {
          "base_uri": "https://localhost:8080/",
          "height": 545
        }
      },
      "source": [
        "learn.fit_one_cycle(8, max_lr=1e-4)"
      ],
      "execution_count": null,
      "outputs": [
        {
          "output_type": "display_data",
          "data": {
            "text/html": [
              "<table border=\"1\" class=\"dataframe\">\n",
              "  <thead>\n",
              "    <tr style=\"text-align: left;\">\n",
              "      <th>epoch</th>\n",
              "      <th>train_loss</th>\n",
              "      <th>valid_loss</th>\n",
              "      <th>acc4</th>\n",
              "      <th>time</th>\n",
              "    </tr>\n",
              "  </thead>\n",
              "  <tbody>\n",
              "    <tr>\n",
              "      <td>0</td>\n",
              "      <td>3.701579</td>\n",
              "      <td>3.743782</td>\n",
              "      <td>0.053309</td>\n",
              "      <td>00:02</td>\n",
              "    </tr>\n",
              "    <tr>\n",
              "      <td>1</td>\n",
              "      <td>2.998606</td>\n",
              "      <td>3.002945</td>\n",
              "      <td>0.342371</td>\n",
              "      <td>00:02</td>\n",
              "    </tr>\n",
              "    <tr>\n",
              "      <td>2</td>\n",
              "      <td>2.284274</td>\n",
              "      <td>2.380152</td>\n",
              "      <td>0.453355</td>\n",
              "      <td>00:02</td>\n",
              "    </tr>\n",
              "    <tr>\n",
              "      <td>3</td>\n",
              "      <td>1.922181</td>\n",
              "      <td>2.110960</td>\n",
              "      <td>0.466912</td>\n",
              "      <td>00:02</td>\n",
              "    </tr>\n",
              "    <tr>\n",
              "      <td>4</td>\n",
              "      <td>1.758694</td>\n",
              "      <td>2.023635</td>\n",
              "      <td>0.463235</td>\n",
              "      <td>00:02</td>\n",
              "    </tr>\n",
              "    <tr>\n",
              "      <td>5</td>\n",
              "      <td>1.687768</td>\n",
              "      <td>2.000591</td>\n",
              "      <td>0.453585</td>\n",
              "      <td>00:02</td>\n",
              "    </tr>\n",
              "    <tr>\n",
              "      <td>6</td>\n",
              "      <td>1.661292</td>\n",
              "      <td>1.998328</td>\n",
              "      <td>0.440947</td>\n",
              "      <td>00:01</td>\n",
              "    </tr>\n",
              "    <tr>\n",
              "      <td>7</td>\n",
              "      <td>1.655519</td>\n",
              "      <td>1.998725</td>\n",
              "      <td>0.440947</td>\n",
              "      <td>00:02</td>\n",
              "    </tr>\n",
              "  </tbody>\n",
              "</table>"
            ],
            "text/plain": [
              "<IPython.core.display.HTML object>"
            ]
          },
          "metadata": {
            "tags": []
          }
        },
        {
          "output_type": "display_data",
          "data": {
            "image/png": "[encoded data removed]",
            "text/plain": [
              "<Figure size 432x288 with 1 Axes>"
            ]
          },
          "metadata": {
            "tags": []
          }
        }
      ]
    },
    {
      "cell_type": "markdown",
      "metadata": {
        "id": "WyIXjmICMkOk"
      },
      "source": [
        "## 4.3 RNN v2"
      ]
    },
    {
      "cell_type": "markdown",
      "metadata": {
        "id": "bYaCSc5hioKj"
      },
      "source": [
        "Loss Function และ Metric ด้านบน จะคิดเฉพาะ Step สุดท้ายเท่านั้น เราจะเปลี่ยนกลับมาใช้ Cross Entrophy Loss และ Accuracy ปกติ ที่นำ Output จากทุก Step มาคิด\n",
        "\n",
        "คราวนี้เราสามารถใช้ BPTT ยาวขึ้นได้"
      ]
    },
    {
      "cell_type": "code",
      "metadata": {
        "id": "WgAeTLW2i7s6"
      },
      "source": [
        "data = labeled_splitted.databunch(bs=bs, bptt=20)\n",
        "data"
      ],
      "execution_count": null,
      "outputs": []
    },
    {
      "cell_type": "code",
      "metadata": {
        "id": "vsJdI5BhjWu1",
        "outputId": "a0a58f90-15b5-4433-9e68-183621a58953",
        "colab": {
          "base_uri": "https://localhost:8080/",
          "height": 34
        }
      },
      "source": [
        "x, y = data.one_batch()\n",
        "x.shape, y.shape"
      ],
      "execution_count": null,
      "outputs": [
        {
          "output_type": "execute_result",
          "data": {
            "text/plain": [
              "(torch.Size([64, 20]), torch.Size([64, 20]))"
            ]
          },
          "metadata": {
            "tags": []
          },
          "execution_count": 56
        }
      ]
    },
    {
      "cell_type": "code",
      "metadata": {
        "id": "l9PSHdamsDkb",
        "outputId": "17973d7d-2b01-425a-b632-6584af505f1f",
        "colab": {
          "base_uri": "https://localhost:8080/",
          "height": 85
        }
      },
      "source": [
        "y[0], x[0]"
      ],
      "execution_count": null,
      "outputs": [
        {
          "output_type": "execute_result",
          "data": {
            "text/plain": [
              "(tensor([30,  9, 31,  9, 32,  9, 33,  9, 34,  9, 35,  9, 36,  9, 37,  9, 38,  9,\n",
              "         21,  9]),\n",
              " tensor([ 9, 30,  9, 31,  9, 32,  9, 33,  9, 34,  9, 35,  9, 36,  9, 37,  9, 38,\n",
              "          9, 21]))"
            ]
          },
          "metadata": {
            "tags": []
          },
          "execution_count": 57
        }
      ]
    },
    {
      "cell_type": "code",
      "metadata": {
        "id": "3kYfMyDNmnv3"
      },
      "source": [
        "class Model2(nn.Module):\n",
        "    def __init__(self):\n",
        "        super().__init__()\n",
        "        self.i_h = nn.Embedding(nv, nh)\n",
        "        self.h_h = nn.Linear(nh, nh)\n",
        "        self.h_o = nn.Linear(nh, nv)\n",
        "        self.bn = nn.BatchNorm1d(nh)\n",
        "\n",
        "    def forward(self, x):\n",
        "        h = torch.zeros(x.shape[0], nh).to(device=x.device)\n",
        "        res = []\n",
        "        for i in range(x.shape[1]):\n",
        "            h = h + self.i_h(x[:, i])\n",
        "            h = F.relu(self.h_h(h))\n",
        "            o = self.h_o(self.bn(h))\n",
        "            res.append(o)\n",
        "            # print(o.shape)\n",
        "        return torch.stack(res, dim=1)"
      ],
      "execution_count": null,
      "outputs": []
    },
    {
      "cell_type": "markdown",
      "metadata": {
        "id": "YZAUFDx-leOU"
      },
      "source": [
        "ใช้ accuracy แทน acc4 และ Loss Function เป็น Cross Entrophy โดย default"
      ]
    },
    {
      "cell_type": "code",
      "metadata": {
        "id": "qXMcZci4nS_y"
      },
      "source": [
        "learn = Learner(data, Model2(), metrics=[accuracy], callback_fns=[ShowGraph])"
      ],
      "execution_count": null,
      "outputs": []
    },
    {
      "cell_type": "code",
      "metadata": {
        "id": "138WbA23nS_6"
      },
      "source": [
        "# learn.lr_find()\n",
        "# learn.recorder.plot(suggestion=True)"
      ],
      "execution_count": null,
      "outputs": []
    },
    {
      "cell_type": "code",
      "metadata": {
        "outputId": "8da98582-22db-4e11-89ee-d6a322c17800",
        "id": "bgVRGuonnS_-",
        "colab": {
          "base_uri": "https://localhost:8080/",
          "height": 607
        }
      },
      "source": [
        "learn.fit_one_cycle(10, max_lr=1e-4)"
      ],
      "execution_count": null,
      "outputs": [
        {
          "output_type": "display_data",
          "data": {
            "text/html": [
              "<table border=\"1\" class=\"dataframe\">\n",
              "  <thead>\n",
              "    <tr style=\"text-align: left;\">\n",
              "      <th>epoch</th>\n",
              "      <th>train_loss</th>\n",
              "      <th>valid_loss</th>\n",
              "      <th>accuracy</th>\n",
              "      <th>time</th>\n",
              "    </tr>\n",
              "  </thead>\n",
              "  <tbody>\n",
              "    <tr>\n",
              "      <td>0</td>\n",
              "      <td>3.799586</td>\n",
              "      <td>3.876884</td>\n",
              "      <td>0.022301</td>\n",
              "      <td>00:00</td>\n",
              "    </tr>\n",
              "    <tr>\n",
              "      <td>1</td>\n",
              "      <td>3.733685</td>\n",
              "      <td>3.797432</td>\n",
              "      <td>0.030469</td>\n",
              "      <td>00:00</td>\n",
              "    </tr>\n",
              "    <tr>\n",
              "      <td>2</td>\n",
              "      <td>3.579090</td>\n",
              "      <td>3.660543</td>\n",
              "      <td>0.091406</td>\n",
              "      <td>00:00</td>\n",
              "    </tr>\n",
              "    <tr>\n",
              "      <td>3</td>\n",
              "      <td>3.360449</td>\n",
              "      <td>3.518141</td>\n",
              "      <td>0.177060</td>\n",
              "      <td>00:01</td>\n",
              "    </tr>\n",
              "    <tr>\n",
              "      <td>4</td>\n",
              "      <td>3.133600</td>\n",
              "      <td>3.388465</td>\n",
              "      <td>0.233594</td>\n",
              "      <td>00:01</td>\n",
              "    </tr>\n",
              "    <tr>\n",
              "      <td>5</td>\n",
              "      <td>2.934809</td>\n",
              "      <td>3.281665</td>\n",
              "      <td>0.264773</td>\n",
              "      <td>00:01</td>\n",
              "    </tr>\n",
              "    <tr>\n",
              "      <td>6</td>\n",
              "      <td>2.779546</td>\n",
              "      <td>3.206280</td>\n",
              "      <td>0.281321</td>\n",
              "      <td>00:01</td>\n",
              "    </tr>\n",
              "    <tr>\n",
              "      <td>7</td>\n",
              "      <td>2.670803</td>\n",
              "      <td>3.162859</td>\n",
              "      <td>0.283665</td>\n",
              "      <td>00:01</td>\n",
              "    </tr>\n",
              "    <tr>\n",
              "      <td>8</td>\n",
              "      <td>2.603894</td>\n",
              "      <td>3.145651</td>\n",
              "      <td>0.286293</td>\n",
              "      <td>00:00</td>\n",
              "    </tr>\n",
              "    <tr>\n",
              "      <td>9</td>\n",
              "      <td>2.568911</td>\n",
              "      <td>3.143039</td>\n",
              "      <td>0.286435</td>\n",
              "      <td>00:01</td>\n",
              "    </tr>\n",
              "  </tbody>\n",
              "</table>"
            ],
            "text/plain": [
              "<IPython.core.display.HTML object>"
            ]
          },
          "metadata": {
            "tags": []
          }
        },
        {
          "output_type": "display_data",
          "data": {
            "image/png": "[encoded data removed]",
            "text/plain": [
              "<Figure size 432x288 with 1 Axes>"
            ]
          },
          "metadata": {
            "tags": []
          }
        }
      ]
    },
    {
      "cell_type": "markdown",
      "metadata": {
        "id": "0hHmmvSeq0NH"
      },
      "source": [
        "จะเห็นว่า Accuracy ลดลง เนื่องจากต้อง Predict เยอะขึ้นกว่าเดิมมาก โมเดลจะต้อง Predict คำศัพท์จากอดีต 0-70 Token ยิ่งคำแรก ๆ ยิ่งมีอดีตให้เรียนรู้ได้น้อย\n",
        "\n",
        "ทางแก้ก็คือ เราจะให้โมเดลจำ Hidden State ไว้ ข้าม Batch"
      ]
    },
    {
      "cell_type": "markdown",
      "metadata": {
        "id": "6V4iGGknZAP7"
      },
      "source": [
        "## 4.4 RNN v3"
      ]
    },
    {
      "cell_type": "markdown",
      "metadata": {
        "id": "h5IlPY-iZHUZ"
      },
      "source": [
        "เราจะให้โมเดลจำ Hidden State ไว้ ข้าม Batch ด้วยการกำหนดให้ h เป็นส่วนหนึ่งของโมเดล `self.h`"
      ]
    },
    {
      "cell_type": "code",
      "metadata": {
        "id": "_k_aUw35V8h6"
      },
      "source": [
        "class Model3(nn.Module):\n",
        "    def __init__(self):\n",
        "        super().__init__()\n",
        "        self.i_h = nn.Embedding(nv, nh)\n",
        "        self.h_h = nn.Linear(nh, nh)\n",
        "        self.h_o = nn.Linear(nh, nv)\n",
        "        self.bn = nn.BatchNorm1d(nh)\n",
        "        self.h = torch.zeros(bs, nh)\n",
        "\n",
        "    def forward(self, x):\n",
        "        h = self.h.to(device=x.device)\n",
        "        res = []\n",
        "        for i in range(x.shape[1]):\n",
        "            h = h + self.i_h(x[:, i])\n",
        "            h = F.relu(self.h_h(h))\n",
        "            res.append(self.bn(h))\n",
        "        self.h = h.detach()\n",
        "        res = torch.stack(res, dim=1)\n",
        "        res = self.h_o(res)\n",
        "        return res"
      ],
      "execution_count": null,
      "outputs": []
    },
    {
      "cell_type": "code",
      "metadata": {
        "id": "BIkuoJ5oZ7gt"
      },
      "source": [
        "learn = Learner(data, Model3(), metrics=[accuracy], callback_fns=[ShowGraph])"
      ],
      "execution_count": null,
      "outputs": []
    },
    {
      "cell_type": "code",
      "metadata": {
        "id": "susAIOo0Z7g2"
      },
      "source": [
        "# learn.lr_find()\n",
        "# learn.recorder.plot(suggestion=True)"
      ],
      "execution_count": null,
      "outputs": []
    },
    {
      "cell_type": "code",
      "metadata": {
        "outputId": "128bc427-7cd7-4d18-c315-c32641f8122d",
        "id": "IG_8hULQZ7g7",
        "colab": {
          "base_uri": "https://localhost:8080/",
          "height": 917
        }
      },
      "source": [
        "learn.fit_one_cycle(20, max_lr=3e-3)"
      ],
      "execution_count": null,
      "outputs": [
        {
          "output_type": "display_data",
          "data": {
            "text/html": [
              "<table border=\"1\" class=\"dataframe\">\n",
              "  <thead>\n",
              "    <tr style=\"text-align: left;\">\n",
              "      <th>epoch</th>\n",
              "      <th>train_loss</th>\n",
              "      <th>valid_loss</th>\n",
              "      <th>accuracy</th>\n",
              "      <th>time</th>\n",
              "    </tr>\n",
              "  </thead>\n",
              "  <tbody>\n",
              "    <tr>\n",
              "      <td>0</td>\n",
              "      <td>3.628184</td>\n",
              "      <td>3.533759</td>\n",
              "      <td>0.136364</td>\n",
              "      <td>00:00</td>\n",
              "    </tr>\n",
              "    <tr>\n",
              "      <td>1</td>\n",
              "      <td>3.080928</td>\n",
              "      <td>2.644911</td>\n",
              "      <td>0.377273</td>\n",
              "      <td>00:00</td>\n",
              "    </tr>\n",
              "    <tr>\n",
              "      <td>2</td>\n",
              "      <td>2.330583</td>\n",
              "      <td>1.983615</td>\n",
              "      <td>0.439631</td>\n",
              "      <td>00:00</td>\n",
              "    </tr>\n",
              "    <tr>\n",
              "      <td>3</td>\n",
              "      <td>1.863787</td>\n",
              "      <td>2.053810</td>\n",
              "      <td>0.317969</td>\n",
              "      <td>00:00</td>\n",
              "    </tr>\n",
              "    <tr>\n",
              "      <td>4</td>\n",
              "      <td>1.641510</td>\n",
              "      <td>2.109487</td>\n",
              "      <td>0.318821</td>\n",
              "      <td>00:00</td>\n",
              "    </tr>\n",
              "    <tr>\n",
              "      <td>5</td>\n",
              "      <td>1.516332</td>\n",
              "      <td>2.009597</td>\n",
              "      <td>0.360085</td>\n",
              "      <td>00:00</td>\n",
              "    </tr>\n",
              "    <tr>\n",
              "      <td>6</td>\n",
              "      <td>1.373196</td>\n",
              "      <td>1.903509</td>\n",
              "      <td>0.400568</td>\n",
              "      <td>00:00</td>\n",
              "    </tr>\n",
              "    <tr>\n",
              "      <td>7</td>\n",
              "      <td>1.213779</td>\n",
              "      <td>2.065120</td>\n",
              "      <td>0.394105</td>\n",
              "      <td>00:00</td>\n",
              "    </tr>\n",
              "    <tr>\n",
              "      <td>8</td>\n",
              "      <td>1.078213</td>\n",
              "      <td>2.131414</td>\n",
              "      <td>0.401563</td>\n",
              "      <td>00:00</td>\n",
              "    </tr>\n",
              "    <tr>\n",
              "      <td>9</td>\n",
              "      <td>0.958686</td>\n",
              "      <td>2.088931</td>\n",
              "      <td>0.424432</td>\n",
              "      <td>00:00</td>\n",
              "    </tr>\n",
              "    <tr>\n",
              "      <td>10</td>\n",
              "      <td>0.862643</td>\n",
              "      <td>2.181373</td>\n",
              "      <td>0.437145</td>\n",
              "      <td>00:00</td>\n",
              "    </tr>\n",
              "    <tr>\n",
              "      <td>11</td>\n",
              "      <td>0.779591</td>\n",
              "      <td>2.155950</td>\n",
              "      <td>0.462997</td>\n",
              "      <td>00:00</td>\n",
              "    </tr>\n",
              "    <tr>\n",
              "      <td>12</td>\n",
              "      <td>0.712301</td>\n",
              "      <td>2.122618</td>\n",
              "      <td>0.504190</td>\n",
              "      <td>00:00</td>\n",
              "    </tr>\n",
              "    <tr>\n",
              "      <td>13</td>\n",
              "      <td>0.655664</td>\n",
              "      <td>2.116392</td>\n",
              "      <td>0.508736</td>\n",
              "      <td>00:00</td>\n",
              "    </tr>\n",
              "    <tr>\n",
              "      <td>14</td>\n",
              "      <td>0.610209</td>\n",
              "      <td>2.260797</td>\n",
              "      <td>0.508239</td>\n",
              "      <td>00:00</td>\n",
              "    </tr>\n",
              "    <tr>\n",
              "      <td>15</td>\n",
              "      <td>0.575360</td>\n",
              "      <td>2.318074</td>\n",
              "      <td>0.529190</td>\n",
              "      <td>00:01</td>\n",
              "    </tr>\n",
              "    <tr>\n",
              "      <td>16</td>\n",
              "      <td>0.548905</td>\n",
              "      <td>2.203338</td>\n",
              "      <td>0.544389</td>\n",
              "      <td>00:00</td>\n",
              "    </tr>\n",
              "    <tr>\n",
              "      <td>17</td>\n",
              "      <td>0.530556</td>\n",
              "      <td>2.233764</td>\n",
              "      <td>0.531037</td>\n",
              "      <td>00:00</td>\n",
              "    </tr>\n",
              "    <tr>\n",
              "      <td>18</td>\n",
              "      <td>0.517362</td>\n",
              "      <td>2.270015</td>\n",
              "      <td>0.532315</td>\n",
              "      <td>00:00</td>\n",
              "    </tr>\n",
              "    <tr>\n",
              "      <td>19</td>\n",
              "      <td>0.509788</td>\n",
              "      <td>2.277890</td>\n",
              "      <td>0.529972</td>\n",
              "      <td>00:00</td>\n",
              "    </tr>\n",
              "  </tbody>\n",
              "</table>"
            ],
            "text/plain": [
              "<IPython.core.display.HTML object>"
            ]
          },
          "metadata": {
            "tags": []
          }
        },
        {
          "output_type": "display_data",
          "data": {
            "image/png": "[encoded data removed]",
            "text/plain": [
              "<Figure size 432x288 with 1 Axes>"
            ]
          },
          "metadata": {
            "tags": []
          }
        }
      ]
    },
    {
      "cell_type": "markdown",
      "metadata": {
        "id": "H68Q289WZ9gb"
      },
      "source": [
        "## 4.5 PyTorch nn.RNN"
      ]
    },
    {
      "cell_type": "markdown",
      "metadata": {
        "id": "zikb9baqdVCU"
      },
      "source": [
        "เราจะใช้ RNN สำเร็จรูปจาก PyTorch ที่เหมือนกับโค้ดด้านบน แต่ภายในจะมี Optimize อะไรอีกนิดหน่อย เช่น [DropOut](https://www.bualabs.com/archives/1533/what-is-dropout-benefits-dropout-reduce-overfit-deep-learning-training-model-deep-neural-network-regularization-ep-2/) จะอธิบายต่อไป"
      ]
    },
    {
      "cell_type": "code",
      "metadata": {
        "id": "UuVPFF5sdYHs"
      },
      "source": [
        "class Model4(nn.Module):\n",
        "    def __init__(self):\n",
        "        super().__init__()\n",
        "        self.i_h = nn.Embedding(nv, nh)\n",
        "        self.rnn = nn.RNN(nh, nh, batch_first=True)\n",
        "        self.h_o = nn.Linear(nh, nv)\n",
        "        self.bn = BatchNorm1dFlat(nh)\n",
        "        self.h = torch.zeros(1, bs, nh).cuda()\n",
        "\n",
        "    def forward(self, x):\n",
        "        res, h = self.rnn(self.i_h(x), self.h)\n",
        "        self.h = h.detach()\n",
        "        return self.h_o(self.bn(res))"
      ],
      "execution_count": null,
      "outputs": []
    },
    {
      "cell_type": "code",
      "metadata": {
        "id": "z_VpT0rJdYHz"
      },
      "source": [
        "learn = Learner(data, Model4(), metrics=[accuracy], callback_fns=[ShowGraph])"
      ],
      "execution_count": null,
      "outputs": []
    },
    {
      "cell_type": "code",
      "metadata": {
        "id": "kXh-HJU3dYH3"
      },
      "source": [
        "# learn.lr_find()\n",
        "# learn.recorder.plot(suggestion=True)"
      ],
      "execution_count": null,
      "outputs": []
    },
    {
      "cell_type": "code",
      "metadata": {
        "outputId": "18edecc3-7370-4feb-83d9-3dd82155c009",
        "id": "5fnDjq50dYH6",
        "colab": {
          "base_uri": "https://localhost:8080/",
          "height": 917
        }
      },
      "source": [
        "learn.fit_one_cycle(20, max_lr=3e-3)"
      ],
      "execution_count": null,
      "outputs": [
        {
          "output_type": "display_data",
          "data": {
            "text/html": [
              "<table border=\"1\" class=\"dataframe\">\n",
              "  <thead>\n",
              "    <tr style=\"text-align: left;\">\n",
              "      <th>epoch</th>\n",
              "      <th>train_loss</th>\n",
              "      <th>valid_loss</th>\n",
              "      <th>accuracy</th>\n",
              "      <th>time</th>\n",
              "    </tr>\n",
              "  </thead>\n",
              "  <tbody>\n",
              "    <tr>\n",
              "      <td>0</td>\n",
              "      <td>3.379947</td>\n",
              "      <td>3.108656</td>\n",
              "      <td>0.309943</td>\n",
              "      <td>00:00</td>\n",
              "    </tr>\n",
              "    <tr>\n",
              "      <td>1</td>\n",
              "      <td>2.723461</td>\n",
              "      <td>2.240447</td>\n",
              "      <td>0.456605</td>\n",
              "      <td>00:00</td>\n",
              "    </tr>\n",
              "    <tr>\n",
              "      <td>2</td>\n",
              "      <td>2.106261</td>\n",
              "      <td>1.984713</td>\n",
              "      <td>0.433026</td>\n",
              "      <td>00:00</td>\n",
              "    </tr>\n",
              "    <tr>\n",
              "      <td>3</td>\n",
              "      <td>1.759663</td>\n",
              "      <td>2.008790</td>\n",
              "      <td>0.316974</td>\n",
              "      <td>00:00</td>\n",
              "    </tr>\n",
              "    <tr>\n",
              "      <td>4</td>\n",
              "      <td>1.565449</td>\n",
              "      <td>1.789742</td>\n",
              "      <td>0.461364</td>\n",
              "      <td>00:00</td>\n",
              "    </tr>\n",
              "    <tr>\n",
              "      <td>5</td>\n",
              "      <td>1.396146</td>\n",
              "      <td>1.599111</td>\n",
              "      <td>0.511719</td>\n",
              "      <td>00:00</td>\n",
              "    </tr>\n",
              "    <tr>\n",
              "      <td>6</td>\n",
              "      <td>1.192534</td>\n",
              "      <td>1.451566</td>\n",
              "      <td>0.553622</td>\n",
              "      <td>00:00</td>\n",
              "    </tr>\n",
              "    <tr>\n",
              "      <td>7</td>\n",
              "      <td>0.955861</td>\n",
              "      <td>1.328435</td>\n",
              "      <td>0.590412</td>\n",
              "      <td>00:00</td>\n",
              "    </tr>\n",
              "    <tr>\n",
              "      <td>8</td>\n",
              "      <td>0.757268</td>\n",
              "      <td>1.322794</td>\n",
              "      <td>0.595881</td>\n",
              "      <td>00:00</td>\n",
              "    </tr>\n",
              "    <tr>\n",
              "      <td>9</td>\n",
              "      <td>0.612197</td>\n",
              "      <td>1.339875</td>\n",
              "      <td>0.606534</td>\n",
              "      <td>00:00</td>\n",
              "    </tr>\n",
              "    <tr>\n",
              "      <td>10</td>\n",
              "      <td>0.505540</td>\n",
              "      <td>1.360431</td>\n",
              "      <td>0.619957</td>\n",
              "      <td>00:00</td>\n",
              "    </tr>\n",
              "    <tr>\n",
              "      <td>11</td>\n",
              "      <td>0.428217</td>\n",
              "      <td>1.313076</td>\n",
              "      <td>0.639773</td>\n",
              "      <td>00:00</td>\n",
              "    </tr>\n",
              "    <tr>\n",
              "      <td>12</td>\n",
              "      <td>0.371344</td>\n",
              "      <td>1.314721</td>\n",
              "      <td>0.643253</td>\n",
              "      <td>00:00</td>\n",
              "    </tr>\n",
              "    <tr>\n",
              "      <td>13</td>\n",
              "      <td>0.329842</td>\n",
              "      <td>1.282661</td>\n",
              "      <td>0.661790</td>\n",
              "      <td>00:00</td>\n",
              "    </tr>\n",
              "    <tr>\n",
              "      <td>14</td>\n",
              "      <td>0.296766</td>\n",
              "      <td>1.297732</td>\n",
              "      <td>0.663565</td>\n",
              "      <td>00:00</td>\n",
              "    </tr>\n",
              "    <tr>\n",
              "      <td>15</td>\n",
              "      <td>0.270948</td>\n",
              "      <td>1.300494</td>\n",
              "      <td>0.665412</td>\n",
              "      <td>00:00</td>\n",
              "    </tr>\n",
              "    <tr>\n",
              "      <td>16</td>\n",
              "      <td>0.252565</td>\n",
              "      <td>1.265684</td>\n",
              "      <td>0.674077</td>\n",
              "      <td>00:00</td>\n",
              "    </tr>\n",
              "    <tr>\n",
              "      <td>17</td>\n",
              "      <td>0.239009</td>\n",
              "      <td>1.316597</td>\n",
              "      <td>0.658665</td>\n",
              "      <td>00:00</td>\n",
              "    </tr>\n",
              "    <tr>\n",
              "      <td>18</td>\n",
              "      <td>0.229347</td>\n",
              "      <td>1.315821</td>\n",
              "      <td>0.657457</td>\n",
              "      <td>00:00</td>\n",
              "    </tr>\n",
              "    <tr>\n",
              "      <td>19</td>\n",
              "      <td>0.223677</td>\n",
              "      <td>1.335284</td>\n",
              "      <td>0.654403</td>\n",
              "      <td>00:00</td>\n",
              "    </tr>\n",
              "  </tbody>\n",
              "</table>"
            ],
            "text/plain": [
              "<IPython.core.display.HTML object>"
            ]
          },
          "metadata": {
            "tags": []
          }
        },
        {
          "output_type": "display_data",
          "data": {
            "image/png": "[encoded data removed]",
            "text/plain": [
              "<Figure size 432x288 with 1 Axes>"
            ]
          },
          "metadata": {
            "tags": []
          }
        }
      ]
    },
    {
      "cell_type": "markdown",
      "metadata": {
        "id": "--J3EwA1d7bk"
      },
      "source": [
        "## 4.6 GRU"
      ]
    },
    {
      "cell_type": "markdown",
      "metadata": {
        "id": "gF4-0JaMhRcB"
      },
      "source": [
        "จาก Vanilla RNN เราจะเปลี่ยนไปใช้ Gated Recurrent Unit (GRU) ที่ซับซ้อนยิ่งขึ้น เปรียบเทียบดูว่าประสิทธิภาพจะเป็นอย่างไร\n",
        "\n",
        "[GRU คืออะไร](https://www.bualabs.com/archives/3103/what-is-recurrent-neural-network-rnn-pytorch-gru-nlp-ep-9/) จะอธิบายต่อไป"
      ]
    },
    {
      "cell_type": "code",
      "metadata": {
        "id": "0EHvmeflhT0b"
      },
      "source": [
        "class Model5(nn.Module):\n",
        "    def __init__(self):\n",
        "        super().__init__()\n",
        "        self.i_h = nn.Embedding(nv, nh)\n",
        "        self.rnn = nn.GRU(nh, nh, 1, batch_first=True)\n",
        "        self.h_o = nn.Linear(nh, nv)\n",
        "        self.bn = BatchNorm1dFlat(nh)\n",
        "        self.h = torch.zeros(1, bs, nh).cuda()\n",
        "\n",
        "    def forward(self, x):\n",
        "        res, h = self.rnn(self.i_h(x), self.h)\n",
        "        self.h = h.detach()\n",
        "        return self.h_o(self.bn(res))"
      ],
      "execution_count": null,
      "outputs": []
    },
    {
      "cell_type": "code",
      "metadata": {
        "id": "mnBQb-4ChT0m"
      },
      "source": [
        "learn = Learner(data, Model5(), metrics=[accuracy], callback_fns=[ShowGraph])"
      ],
      "execution_count": null,
      "outputs": []
    },
    {
      "cell_type": "code",
      "metadata": {
        "id": "xFCW7TZIhT0p"
      },
      "source": [
        "# learn.lr_find()\n",
        "# learn.recorder.plot(suggestion=True)"
      ],
      "execution_count": null,
      "outputs": []
    },
    {
      "cell_type": "code",
      "metadata": {
        "outputId": "d5241677-969e-4baf-8141-1dcd8af5f9de",
        "id": "eTwN2roPhT0s",
        "colab": {
          "base_uri": "https://localhost:8080/",
          "height": 607
        }
      },
      "source": [
        "learn.fit_one_cycle(10, max_lr=3e-3)"
      ],
      "execution_count": null,
      "outputs": [
        {
          "output_type": "display_data",
          "data": {
            "text/html": [
              "<table border=\"1\" class=\"dataframe\">\n",
              "  <thead>\n",
              "    <tr style=\"text-align: left;\">\n",
              "      <th>epoch</th>\n",
              "      <th>train_loss</th>\n",
              "      <th>valid_loss</th>\n",
              "      <th>accuracy</th>\n",
              "      <th>time</th>\n",
              "    </tr>\n",
              "  </thead>\n",
              "  <tbody>\n",
              "    <tr>\n",
              "      <td>0</td>\n",
              "      <td>3.537620</td>\n",
              "      <td>3.397273</td>\n",
              "      <td>0.243040</td>\n",
              "      <td>00:00</td>\n",
              "    </tr>\n",
              "    <tr>\n",
              "      <td>1</td>\n",
              "      <td>2.476423</td>\n",
              "      <td>2.172773</td>\n",
              "      <td>0.326705</td>\n",
              "      <td>00:00</td>\n",
              "    </tr>\n",
              "    <tr>\n",
              "      <td>2</td>\n",
              "      <td>1.830405</td>\n",
              "      <td>1.902532</td>\n",
              "      <td>0.374645</td>\n",
              "      <td>00:00</td>\n",
              "    </tr>\n",
              "    <tr>\n",
              "      <td>3</td>\n",
              "      <td>1.365324</td>\n",
              "      <td>1.428957</td>\n",
              "      <td>0.606179</td>\n",
              "      <td>00:00</td>\n",
              "    </tr>\n",
              "    <tr>\n",
              "      <td>4</td>\n",
              "      <td>0.913514</td>\n",
              "      <td>1.182785</td>\n",
              "      <td>0.696662</td>\n",
              "      <td>00:00</td>\n",
              "    </tr>\n",
              "    <tr>\n",
              "      <td>5</td>\n",
              "      <td>0.580062</td>\n",
              "      <td>1.073155</td>\n",
              "      <td>0.721875</td>\n",
              "      <td>00:00</td>\n",
              "    </tr>\n",
              "    <tr>\n",
              "      <td>6</td>\n",
              "      <td>0.374687</td>\n",
              "      <td>1.166049</td>\n",
              "      <td>0.701918</td>\n",
              "      <td>00:00</td>\n",
              "    </tr>\n",
              "    <tr>\n",
              "      <td>7</td>\n",
              "      <td>0.256084</td>\n",
              "      <td>1.207110</td>\n",
              "      <td>0.699574</td>\n",
              "      <td>00:00</td>\n",
              "    </tr>\n",
              "    <tr>\n",
              "      <td>8</td>\n",
              "      <td>0.191481</td>\n",
              "      <td>1.113889</td>\n",
              "      <td>0.710014</td>\n",
              "      <td>00:00</td>\n",
              "    </tr>\n",
              "    <tr>\n",
              "      <td>9</td>\n",
              "      <td>0.158174</td>\n",
              "      <td>1.095850</td>\n",
              "      <td>0.715838</td>\n",
              "      <td>00:00</td>\n",
              "    </tr>\n",
              "  </tbody>\n",
              "</table>"
            ],
            "text/plain": [
              "<IPython.core.display.HTML object>"
            ]
          },
          "metadata": {
            "tags": []
          }
        },
        {
          "output_type": "display_data",
          "data": {
            "image/png": "[encoded data removed]",
            "text/plain": [
              "<Figure size 432x288 with 1 Axes>"
            ]
          },
          "metadata": {
            "tags": []
          }
        }
      ]
    },
    {
      "cell_type": "markdown",
      "metadata": {
        "id": "pZ7w79THNTok"
      },
      "source": [
        "## 4.7 GRU จาก PyTorch nn.GRUCell"
      ]
    },
    {
      "cell_type": "markdown",
      "metadata": {
        "id": "HMndMZIjNTop"
      },
      "source": [
        "เราจะสร้าง GRU ขึ้นมาเอง โดยประกอบขึ้นมาจาก GRUCell ของ PyTorch\n",
        "\n",
        "แต่เหมือนกับด้านบน เราจะต้องวน Loop คำนวนให้ครบมิติเวลา BPTT เอง"
      ]
    },
    {
      "cell_type": "code",
      "metadata": {
        "id": "uDcsPOHXNmpG"
      },
      "source": [
        "def rnn_loop(cell, h, x):\n",
        "    res = []\n",
        "    for x_ in x.transpose(0, 1):\n",
        "        h = cell(x_, h)\n",
        "        res.append(h)\n",
        "    return torch.stack(res, dim=1)"
      ],
      "execution_count": null,
      "outputs": []
    },
    {
      "cell_type": "code",
      "metadata": {
        "id": "_MxxHdsNNToq"
      },
      "source": [
        "class Model6(Model5):\n",
        "    def __init__(self):\n",
        "        super().__init__()\n",
        "        self.rnnc = nn.GRUCell(nh, nh)\n",
        "        self.h = torch.zeros(bs, nh).cuda()\n",
        "\n",
        "    def forward(self, x):\n",
        "        res = rnn_loop(self.rnnc, self.h, self.i_h(x))\n",
        "        self.h = res[:, -1].detach()\n",
        "        return self.h_o(self.bn(res))"
      ],
      "execution_count": null,
      "outputs": []
    },
    {
      "cell_type": "code",
      "metadata": {
        "id": "mIEoIezBNTou"
      },
      "source": [
        "learn = Learner(data, Model6(), metrics=[accuracy], callback_fns=[ShowGraph])"
      ],
      "execution_count": null,
      "outputs": []
    },
    {
      "cell_type": "code",
      "metadata": {
        "id": "QDtOMmwoNTox"
      },
      "source": [
        "# learn.lr_find()\n",
        "# learn.recorder.plot(suggestion=True)"
      ],
      "execution_count": null,
      "outputs": []
    },
    {
      "cell_type": "code",
      "metadata": {
        "outputId": "9061dd14-ecbf-42fd-cbe7-80fa514c1c4b",
        "id": "l4917F2bNTo3",
        "colab": {
          "base_uri": "https://localhost:8080/",
          "height": 607
        }
      },
      "source": [
        "learn.fit_one_cycle(10, max_lr=3e-3)"
      ],
      "execution_count": null,
      "outputs": [
        {
          "output_type": "display_data",
          "data": {
            "text/html": [
              "<table border=\"1\" class=\"dataframe\">\n",
              "  <thead>\n",
              "    <tr style=\"text-align: left;\">\n",
              "      <th>epoch</th>\n",
              "      <th>train_loss</th>\n",
              "      <th>valid_loss</th>\n",
              "      <th>accuracy</th>\n",
              "      <th>time</th>\n",
              "    </tr>\n",
              "  </thead>\n",
              "  <tbody>\n",
              "    <tr>\n",
              "      <td>0</td>\n",
              "      <td>3.441546</td>\n",
              "      <td>3.189493</td>\n",
              "      <td>0.260511</td>\n",
              "      <td>00:00</td>\n",
              "    </tr>\n",
              "    <tr>\n",
              "      <td>1</td>\n",
              "      <td>2.444460</td>\n",
              "      <td>2.297956</td>\n",
              "      <td>0.318253</td>\n",
              "      <td>00:00</td>\n",
              "    </tr>\n",
              "    <tr>\n",
              "      <td>2</td>\n",
              "      <td>1.835996</td>\n",
              "      <td>1.892758</td>\n",
              "      <td>0.377983</td>\n",
              "      <td>00:00</td>\n",
              "    </tr>\n",
              "    <tr>\n",
              "      <td>3</td>\n",
              "      <td>1.413481</td>\n",
              "      <td>1.565133</td>\n",
              "      <td>0.548722</td>\n",
              "      <td>00:00</td>\n",
              "    </tr>\n",
              "    <tr>\n",
              "      <td>4</td>\n",
              "      <td>0.961094</td>\n",
              "      <td>1.183301</td>\n",
              "      <td>0.673935</td>\n",
              "      <td>00:00</td>\n",
              "    </tr>\n",
              "    <tr>\n",
              "      <td>5</td>\n",
              "      <td>0.607936</td>\n",
              "      <td>1.116616</td>\n",
              "      <td>0.702557</td>\n",
              "      <td>00:00</td>\n",
              "    </tr>\n",
              "    <tr>\n",
              "      <td>6</td>\n",
              "      <td>0.389425</td>\n",
              "      <td>1.016415</td>\n",
              "      <td>0.736009</td>\n",
              "      <td>00:00</td>\n",
              "    </tr>\n",
              "    <tr>\n",
              "      <td>7</td>\n",
              "      <td>0.263867</td>\n",
              "      <td>1.080819</td>\n",
              "      <td>0.727344</td>\n",
              "      <td>00:00</td>\n",
              "    </tr>\n",
              "    <tr>\n",
              "      <td>8</td>\n",
              "      <td>0.194678</td>\n",
              "      <td>1.122433</td>\n",
              "      <td>0.706960</td>\n",
              "      <td>00:00</td>\n",
              "    </tr>\n",
              "    <tr>\n",
              "      <td>9</td>\n",
              "      <td>0.159316</td>\n",
              "      <td>1.106163</td>\n",
              "      <td>0.713778</td>\n",
              "      <td>00:00</td>\n",
              "    </tr>\n",
              "  </tbody>\n",
              "</table>"
            ],
            "text/plain": [
              "<IPython.core.display.HTML object>"
            ]
          },
          "metadata": {
            "tags": []
          }
        },
        {
          "output_type": "display_data",
          "data": {
            "image/png": "[encoded data removed]",
            "text/plain": [
              "<Figure size 432x288 with 1 Axes>"
            ]
          },
          "metadata": {
            "tags": []
          }
        }
      ]
    },
    {
      "cell_type": "markdown",
      "metadata": {
        "id": "sWn2n830Pa1p"
      },
      "source": [
        "## 4.8 GRU จาก GRUCell สร้างเอง"
      ]
    },
    {
      "cell_type": "markdown",
      "metadata": {
        "id": "HyQiKWCoPa1v"
      },
      "source": [
        "เราจะสร้าง GRU ขึ้นมาเอง โดยประกอบขึ้นมาจาก GRUCell ที่เราเขียนเอง\n",
        "\n",
        "แต่เหมือนกับด้านบน เราจะต้องวน Loop คำนวนให้ครบมิติเวลา BPTT เอง"
      ]
    },
    {
      "cell_type": "code",
      "metadata": {
        "id": "_GC5DqvmPa1w"
      },
      "source": [
        "class GRUCell(nn.Module):\n",
        "    def __init__(self, ni, nh):\n",
        "        super(GRUCell, self).__init__()\n",
        "        self.ni, self.nh = ni, nh\n",
        "        self.i2h = nn.Linear(ni, 3 * nh)\n",
        "        self.h2h = nn.Linear(nh, 3 * nh)\n",
        "\n",
        "    def forward(self, x, h):\n",
        "        gate_x = self.i2h(x).squeeze()\n",
        "        gate_h = self.h2h(h).squeeze()\n",
        "        i_r, i_u, i_n = gate_x.chunk(3, 1)\n",
        "        h_r, h_u, h_n = gate_h.chunk(3, 1)\n",
        "\n",
        "        resetgate = torch.sigmoid(i_r + h_r)\n",
        "        updategate = torch.sigmoid(i_u + h_u)\n",
        "        newgate = torch.tanh(i_n + (resetgate * h_n))\n",
        "        return updategate * h + (1 - updategate) * newgate"
      ],
      "execution_count": null,
      "outputs": []
    },
    {
      "cell_type": "code",
      "metadata": {
        "id": "xGkLejSKPa11"
      },
      "source": [
        "class Model7(Model6):\n",
        "    def __init__(self):\n",
        "        super().__init__()\n",
        "        self.rnnc = GRUCell(nh, nh)"
      ],
      "execution_count": null,
      "outputs": []
    },
    {
      "cell_type": "code",
      "metadata": {
        "id": "PP4VbCMTPa14"
      },
      "source": [
        "learn = Learner(data, Model7(), metrics=[accuracy], callback_fns=[ShowGraph])"
      ],
      "execution_count": null,
      "outputs": []
    },
    {
      "cell_type": "code",
      "metadata": {
        "id": "WCW874dwPa19"
      },
      "source": [
        "# learn.lr_find()\n",
        "# learn.recorder.plot(suggestion=True)"
      ],
      "execution_count": null,
      "outputs": []
    },
    {
      "cell_type": "code",
      "metadata": {
        "outputId": "58af9b10-66a3-487a-eddf-d2e97b88bd86",
        "id": "-N47r4j2Pa2A",
        "colab": {
          "base_uri": "https://localhost:8080/",
          "height": 607
        }
      },
      "source": [
        "learn.fit_one_cycle(10, max_lr=3e-3)"
      ],
      "execution_count": null,
      "outputs": [
        {
          "output_type": "display_data",
          "data": {
            "text/html": [
              "<table border=\"1\" class=\"dataframe\">\n",
              "  <thead>\n",
              "    <tr style=\"text-align: left;\">\n",
              "      <th>epoch</th>\n",
              "      <th>train_loss</th>\n",
              "      <th>valid_loss</th>\n",
              "      <th>accuracy</th>\n",
              "      <th>time</th>\n",
              "    </tr>\n",
              "  </thead>\n",
              "  <tbody>\n",
              "    <tr>\n",
              "      <td>0</td>\n",
              "      <td>3.444230</td>\n",
              "      <td>3.144925</td>\n",
              "      <td>0.409730</td>\n",
              "      <td>00:01</td>\n",
              "    </tr>\n",
              "    <tr>\n",
              "      <td>1</td>\n",
              "      <td>2.458143</td>\n",
              "      <td>2.294758</td>\n",
              "      <td>0.318679</td>\n",
              "      <td>00:01</td>\n",
              "    </tr>\n",
              "    <tr>\n",
              "      <td>2</td>\n",
              "      <td>1.825913</td>\n",
              "      <td>1.822744</td>\n",
              "      <td>0.424290</td>\n",
              "      <td>00:01</td>\n",
              "    </tr>\n",
              "    <tr>\n",
              "      <td>3</td>\n",
              "      <td>1.361728</td>\n",
              "      <td>1.496997</td>\n",
              "      <td>0.626634</td>\n",
              "      <td>00:01</td>\n",
              "    </tr>\n",
              "    <tr>\n",
              "      <td>4</td>\n",
              "      <td>0.890773</td>\n",
              "      <td>1.138155</td>\n",
              "      <td>0.718679</td>\n",
              "      <td>00:01</td>\n",
              "    </tr>\n",
              "    <tr>\n",
              "      <td>5</td>\n",
              "      <td>0.555861</td>\n",
              "      <td>1.134625</td>\n",
              "      <td>0.749574</td>\n",
              "      <td>00:01</td>\n",
              "    </tr>\n",
              "    <tr>\n",
              "      <td>6</td>\n",
              "      <td>0.356717</td>\n",
              "      <td>1.173079</td>\n",
              "      <td>0.760583</td>\n",
              "      <td>00:01</td>\n",
              "    </tr>\n",
              "    <tr>\n",
              "      <td>7</td>\n",
              "      <td>0.244029</td>\n",
              "      <td>1.104342</td>\n",
              "      <td>0.770810</td>\n",
              "      <td>00:01</td>\n",
              "    </tr>\n",
              "    <tr>\n",
              "      <td>8</td>\n",
              "      <td>0.182160</td>\n",
              "      <td>1.048848</td>\n",
              "      <td>0.786577</td>\n",
              "      <td>00:01</td>\n",
              "    </tr>\n",
              "    <tr>\n",
              "      <td>9</td>\n",
              "      <td>0.150305</td>\n",
              "      <td>1.033103</td>\n",
              "      <td>0.790057</td>\n",
              "      <td>00:01</td>\n",
              "    </tr>\n",
              "  </tbody>\n",
              "</table>"
            ],
            "text/plain": [
              "<IPython.core.display.HTML object>"
            ]
          },
          "metadata": {
            "tags": []
          }
        },
        {
          "output_type": "display_data",
          "data": {
            "image/png": "[encoded data removed]",
            "text/plain": [
              "<Figure size 432x288 with 1 Axes>"
            ]
          },
          "metadata": {
            "tags": []
          }
        }
      ]
    },
    {
      "cell_type": "markdown",
      "metadata": {
        "id": "Go-HPi-chjJf"
      },
      "source": [
        "# 5. สรุป"
      ]
    },
    {
      "cell_type": "markdown",
      "metadata": {
        "id": "sf8DoqyyiXxq"
      },
      "source": [
        "1. เราได้เรียนรู้การสร้าง Recurrent Neural Network (RNN) จากพื้นฐาน [Neural Network](https://www.bualabs.com/archives/1763/what-is-neural-network-how-neural-network-work-build-deep-neural-network-from-scratch-neural-network-ep-1/) จนใช้งานได้จริง\n",
        "1. เราได้เปรียบเทียบประสิทธิภาพ จุดเด่น จุดด้อย ของสถาปัตยกรรม RNN ในแบบต่าง ๆ แล้วพัฒนาโมเดลขึ้นมาเรื่อย ๆ ไปจนถึง GRU\n",
        "1. เราได้ใช้ RNN, GRU ของ PyTorch มาต่อยอดโมเดล ที่เราสร้างขึ้นมาแต่ต้น ให้มีประสิทธิภาพมากขึ้น\n",
        "1. ถ้าข้อมูลมีขนาดเล็ก โมเดลไม่ซับซ้อน เราสามารถเทรนโดยไม่จำเป็นต้องใช้ GPU ก็ได้ แต่ถ้าจะเทรน Language Model ด้วย Corpus ขนาดใหญ่ ควรวางแผนเตรียมการเทรนโมเดลข้ามคืน"
      ]
    },
    {
      "cell_type": "markdown",
      "metadata": {
        "id": "PmjwOPBNiYtP"
      },
      "source": [
        "# Credit"
      ]
    },
    {
      "cell_type": "markdown",
      "metadata": {
        "id": "Wq3m_edziYyk"
      },
      "source": [
        "* https://www.youtube.com/watch?v=l1rlFh0PmZw&list=PLtmWHNX-gukKocXQOkQjuVxglSDYWsSh9&index=11\n",
        "* https://www.bualabs.com/archives/2693/data-block-api-data-pipeline-machine-learning-supervised-learning-preprocessing-ep-5/\n",
        "* https://www.bualabs.com/archives/926/sentiment-analysis-imdb-movie-review-ulmfit-sentiment-analysis-ep-1/\n",
        "* https://docs.fast.ai/data_block.html\n",
        "* https://docs.fast.ai/text.data.html\n",
        "* https://github.com/emadRad/lstm-gru-pytorch/blob/master/lstm_gru.ipynb\n",
        "* https://pytorch.org/docs/stable/nn.html"
      ]
    },
    {
      "cell_type": "code",
      "metadata": {
        "id": "sM8u06pEiax2"
      },
      "source": [],
      "execution_count": null,
      "outputs": []
    }
  ]
}