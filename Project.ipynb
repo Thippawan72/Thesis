{
  "cells": [
    {
      "cell_type": "markdown",
      "metadata": {
        "id": "view-in-github",
        "colab_type": "text"
      },
      "source": [
        "<a href=\"https://colab.research.google.com/github/Thippawan72/Thesis/blob/main/Project.ipynb\" target=\"_parent\"><img src=\"https://colab.research.google.com/assets/colab-badge.svg\" alt=\"Open In Colab\"/></a>"
      ]
    },
    {
      "cell_type": "code",
      "execution_count": 4,
      "metadata": {
        "id": "VhBw2AmK4sGQ"
      },
      "outputs": [],
      "source": [
        "import pandas as pd"
      ]
    },
    {
      "cell_type": "markdown",
      "metadata": {
        "id": "jEVHz8jCFOnq"
      },
      "source": [
        "#Data Preprocessing"
      ]
    },
    {
      "cell_type": "code",
      "execution_count": 5,
      "metadata": {
        "id": "m23WOv5CmOHg"
      },
      "outputs": [],
      "source": [
        "#pip install moviepy"
      ]
    },
    {
      "cell_type": "code",
      "execution_count": 6,
      "metadata": {
        "colab": {
          "base_uri": "https://localhost:8080/"
        },
        "id": "5f05dnQR43St",
        "outputId": "37d8c0f7-902b-4946-8e80-de99288a350e"
      },
      "outputs": [
        {
          "output_type": "stream",
          "name": "stdout",
          "text": [
            "Mounted at /content/drive\n"
          ]
        }
      ],
      "source": [
        "from google.colab import drive\n",
        "drive.mount('/content/drive')"
      ]
    },
    {
      "cell_type": "code",
      "execution_count": 39,
      "metadata": {
        "colab": {
          "base_uri": "https://localhost:8080/"
        },
        "id": "YxtYfujoC5Zk",
        "outputId": "d3ba9792-0771-4f62-d7b6-83797e5a058f"
      },
      "outputs": [
        {
          "output_type": "stream",
          "name": "stdout",
          "text": [
            "Moviepy - Building video /content/drive/MyDrive/Thesis/New added Video3/เมื่อไร.mp4.\n",
            "Moviepy - Writing video /content/drive/MyDrive/Thesis/New added Video3/เมื่อไร.mp4\n",
            "\n"
          ]
        },
        {
          "output_type": "stream",
          "name": "stderr",
          "text": []
        },
        {
          "output_type": "stream",
          "name": "stdout",
          "text": [
            "Moviepy - Done !\n",
            "Moviepy - video ready /content/drive/MyDrive/Thesis/New added Video3/เมื่อไร.mp4\n",
            "Successfully converted /content/drive/MyDrive/Thesis/โหลดใหม่ ครั้งที่ 3/เมื่อไร.gif to /content/drive/MyDrive/Thesis/New added Video3/เมื่อไร.mp4\n",
            "Moviepy - Building video /content/drive/MyDrive/Thesis/New added Video3/เลือก.mp4.\n",
            "Moviepy - Writing video /content/drive/MyDrive/Thesis/New added Video3/เลือก.mp4\n",
            "\n"
          ]
        },
        {
          "output_type": "stream",
          "name": "stderr",
          "text": []
        },
        {
          "output_type": "stream",
          "name": "stdout",
          "text": [
            "Moviepy - Done !\n",
            "Moviepy - video ready /content/drive/MyDrive/Thesis/New added Video3/เลือก.mp4\n",
            "Successfully converted /content/drive/MyDrive/Thesis/โหลดใหม่ ครั้งที่ 3/เลือก.gif to /content/drive/MyDrive/Thesis/New added Video3/เลือก.mp4\n",
            "Moviepy - Building video /content/drive/MyDrive/Thesis/New added Video3/วาด.mp4.\n",
            "Moviepy - Writing video /content/drive/MyDrive/Thesis/New added Video3/วาด.mp4\n",
            "\n"
          ]
        },
        {
          "output_type": "stream",
          "name": "stderr",
          "text": []
        },
        {
          "output_type": "stream",
          "name": "stdout",
          "text": [
            "Moviepy - Done !\n",
            "Moviepy - video ready /content/drive/MyDrive/Thesis/New added Video3/วาด.mp4\n",
            "Successfully converted /content/drive/MyDrive/Thesis/โหลดใหม่ ครั้งที่ 3/วาด.gif to /content/drive/MyDrive/Thesis/New added Video3/วาด.mp4\n",
            "Moviepy - Building video /content/drive/MyDrive/Thesis/New added Video3/รับ.mp4.\n",
            "Moviepy - Writing video /content/drive/MyDrive/Thesis/New added Video3/รับ.mp4\n",
            "\n"
          ]
        },
        {
          "output_type": "stream",
          "name": "stderr",
          "text": []
        },
        {
          "output_type": "stream",
          "name": "stdout",
          "text": [
            "Moviepy - Done !\n",
            "Moviepy - video ready /content/drive/MyDrive/Thesis/New added Video3/รับ.mp4\n",
            "Successfully converted /content/drive/MyDrive/Thesis/โหลดใหม่ ครั้งที่ 3/รับ.gif to /content/drive/MyDrive/Thesis/New added Video3/รับ.mp4\n",
            "Moviepy - Building video /content/drive/MyDrive/Thesis/New added Video3/ส่ง.mp4.\n",
            "Moviepy - Writing video /content/drive/MyDrive/Thesis/New added Video3/ส่ง.mp4\n",
            "\n"
          ]
        },
        {
          "output_type": "stream",
          "name": "stderr",
          "text": []
        },
        {
          "output_type": "stream",
          "name": "stdout",
          "text": [
            "Moviepy - Done !\n",
            "Moviepy - video ready /content/drive/MyDrive/Thesis/New added Video3/ส่ง.mp4\n",
            "Successfully converted /content/drive/MyDrive/Thesis/โหลดใหม่ ครั้งที่ 3/ส่ง.gif to /content/drive/MyDrive/Thesis/New added Video3/ส่ง.mp4\n",
            "Moviepy - Building video /content/drive/MyDrive/Thesis/New added Video3/ปิด.mp4.\n",
            "Moviepy - Writing video /content/drive/MyDrive/Thesis/New added Video3/ปิด.mp4\n",
            "\n"
          ]
        },
        {
          "output_type": "stream",
          "name": "stderr",
          "text": []
        },
        {
          "output_type": "stream",
          "name": "stdout",
          "text": [
            "Moviepy - Done !\n",
            "Moviepy - video ready /content/drive/MyDrive/Thesis/New added Video3/ปิด.mp4\n",
            "Successfully converted /content/drive/MyDrive/Thesis/โหลดใหม่ ครั้งที่ 3/ปิด.gif to /content/drive/MyDrive/Thesis/New added Video3/ปิด.mp4\n",
            "Moviepy - Building video /content/drive/MyDrive/Thesis/New added Video3/เปิด.mp4.\n",
            "Moviepy - Writing video /content/drive/MyDrive/Thesis/New added Video3/เปิด.mp4\n",
            "\n"
          ]
        },
        {
          "output_type": "stream",
          "name": "stderr",
          "text": []
        },
        {
          "output_type": "stream",
          "name": "stdout",
          "text": [
            "Moviepy - Done !\n",
            "Moviepy - video ready /content/drive/MyDrive/Thesis/New added Video3/เปิด.mp4\n",
            "Successfully converted /content/drive/MyDrive/Thesis/โหลดใหม่ ครั้งที่ 3/เปิด.gif to /content/drive/MyDrive/Thesis/New added Video3/เปิด.mp4\n",
            "Moviepy - Building video /content/drive/MyDrive/Thesis/New added Video3/เขียน.mp4.\n",
            "Moviepy - Writing video /content/drive/MyDrive/Thesis/New added Video3/เขียน.mp4\n",
            "\n"
          ]
        },
        {
          "output_type": "stream",
          "name": "stderr",
          "text": []
        },
        {
          "output_type": "stream",
          "name": "stdout",
          "text": [
            "Moviepy - Done !\n",
            "Moviepy - video ready /content/drive/MyDrive/Thesis/New added Video3/เขียน.mp4\n",
            "Successfully converted /content/drive/MyDrive/Thesis/โหลดใหม่ ครั้งที่ 3/เขียน.gif to /content/drive/MyDrive/Thesis/New added Video3/เขียน.mp4\n",
            "Moviepy - Building video /content/drive/MyDrive/Thesis/New added Video3/ย้าย.mp4.\n",
            "Moviepy - Writing video /content/drive/MyDrive/Thesis/New added Video3/ย้าย.mp4\n",
            "\n"
          ]
        },
        {
          "output_type": "stream",
          "name": "stderr",
          "text": []
        },
        {
          "output_type": "stream",
          "name": "stdout",
          "text": [
            "Moviepy - Done !\n",
            "Moviepy - video ready /content/drive/MyDrive/Thesis/New added Video3/ย้าย.mp4\n",
            "Successfully converted /content/drive/MyDrive/Thesis/โหลดใหม่ ครั้งที่ 3/ย้าย.gif to /content/drive/MyDrive/Thesis/New added Video3/ย้าย.mp4\n",
            "Moviepy - Building video /content/drive/MyDrive/Thesis/New added Video3/เริ่ม.mp4.\n",
            "Moviepy - Writing video /content/drive/MyDrive/Thesis/New added Video3/เริ่ม.mp4\n",
            "\n"
          ]
        },
        {
          "output_type": "stream",
          "name": "stderr",
          "text": []
        },
        {
          "output_type": "stream",
          "name": "stdout",
          "text": [
            "Moviepy - Done !\n",
            "Moviepy - video ready /content/drive/MyDrive/Thesis/New added Video3/เริ่ม.mp4\n",
            "Successfully converted /content/drive/MyDrive/Thesis/โหลดใหม่ ครั้งที่ 3/เริ่ม.gif to /content/drive/MyDrive/Thesis/New added Video3/เริ่ม.mp4\n",
            "Moviepy - Building video /content/drive/MyDrive/Thesis/New added Video3/ถาม.mp4.\n",
            "Moviepy - Writing video /content/drive/MyDrive/Thesis/New added Video3/ถาม.mp4\n",
            "\n"
          ]
        },
        {
          "output_type": "stream",
          "name": "stderr",
          "text": []
        },
        {
          "output_type": "stream",
          "name": "stdout",
          "text": [
            "Moviepy - Done !\n",
            "Moviepy - video ready /content/drive/MyDrive/Thesis/New added Video3/ถาม.mp4\n",
            "Successfully converted /content/drive/MyDrive/Thesis/โหลดใหม่ ครั้งที่ 3/ถาม.gif to /content/drive/MyDrive/Thesis/New added Video3/ถาม.mp4\n",
            "Moviepy - Building video /content/drive/MyDrive/Thesis/New added Video3/บอก.mp4.\n",
            "Moviepy - Writing video /content/drive/MyDrive/Thesis/New added Video3/บอก.mp4\n",
            "\n"
          ]
        },
        {
          "output_type": "stream",
          "name": "stderr",
          "text": []
        },
        {
          "output_type": "stream",
          "name": "stdout",
          "text": [
            "Moviepy - Done !\n",
            "Moviepy - video ready /content/drive/MyDrive/Thesis/New added Video3/บอก.mp4\n",
            "Successfully converted /content/drive/MyDrive/Thesis/โหลดใหม่ ครั้งที่ 3/บอก.gif to /content/drive/MyDrive/Thesis/New added Video3/บอก.mp4\n",
            "Moviepy - Building video /content/drive/MyDrive/Thesis/New added Video3/ให้.mp4.\n",
            "Moviepy - Writing video /content/drive/MyDrive/Thesis/New added Video3/ให้.mp4\n",
            "\n"
          ]
        },
        {
          "output_type": "stream",
          "name": "stderr",
          "text": []
        },
        {
          "output_type": "stream",
          "name": "stdout",
          "text": [
            "Moviepy - Done !\n",
            "Moviepy - video ready /content/drive/MyDrive/Thesis/New added Video3/ให้.mp4\n",
            "Successfully converted /content/drive/MyDrive/Thesis/โหลดใหม่ ครั้งที่ 3/ให้.gif to /content/drive/MyDrive/Thesis/New added Video3/ให้.mp4\n",
            "Moviepy - Building video /content/drive/MyDrive/Thesis/New added Video3/อาย.mp4.\n",
            "Moviepy - Writing video /content/drive/MyDrive/Thesis/New added Video3/อาย.mp4\n",
            "\n"
          ]
        },
        {
          "output_type": "stream",
          "name": "stderr",
          "text": []
        },
        {
          "output_type": "stream",
          "name": "stdout",
          "text": [
            "Moviepy - Done !\n",
            "Moviepy - video ready /content/drive/MyDrive/Thesis/New added Video3/อาย.mp4\n",
            "Successfully converted /content/drive/MyDrive/Thesis/โหลดใหม่ ครั้งที่ 3/อาย.gif to /content/drive/MyDrive/Thesis/New added Video3/อาย.mp4\n",
            "Moviepy - Building video /content/drive/MyDrive/Thesis/New added Video3/วาระการประชุม.mp4.\n",
            "Moviepy - Writing video /content/drive/MyDrive/Thesis/New added Video3/วาระการประชุม.mp4\n",
            "\n"
          ]
        },
        {
          "output_type": "stream",
          "name": "stderr",
          "text": []
        },
        {
          "output_type": "stream",
          "name": "stdout",
          "text": [
            "Moviepy - Done !\n",
            "Moviepy - video ready /content/drive/MyDrive/Thesis/New added Video3/วาระการประชุม.mp4\n",
            "Successfully converted /content/drive/MyDrive/Thesis/โหลดใหม่ ครั้งที่ 3/วาระการประชุม.gif to /content/drive/MyDrive/Thesis/New added Video3/วาระการประชุม.mp4\n",
            "Moviepy - Building video /content/drive/MyDrive/Thesis/New added Video3/รายงานการประชุม พูด.mp4.\n",
            "Moviepy - Writing video /content/drive/MyDrive/Thesis/New added Video3/รายงานการประชุม พูด.mp4\n",
            "\n"
          ]
        },
        {
          "output_type": "stream",
          "name": "stderr",
          "text": []
        },
        {
          "output_type": "stream",
          "name": "stdout",
          "text": [
            "Moviepy - Done !\n",
            "Moviepy - video ready /content/drive/MyDrive/Thesis/New added Video3/รายงานการประชุม พูด.mp4\n",
            "Successfully converted /content/drive/MyDrive/Thesis/โหลดใหม่ ครั้งที่ 3/รายงานการประชุม พูด.gif to /content/drive/MyDrive/Thesis/New added Video3/รายงานการประชุม พูด.mp4\n",
            "Moviepy - Building video /content/drive/MyDrive/Thesis/New added Video3/รายงานการประชุม เล่ม.mp4.\n",
            "Moviepy - Writing video /content/drive/MyDrive/Thesis/New added Video3/รายงานการประชุม เล่ม.mp4\n",
            "\n"
          ]
        },
        {
          "output_type": "stream",
          "name": "stderr",
          "text": []
        },
        {
          "output_type": "stream",
          "name": "stdout",
          "text": [
            "Moviepy - Done !\n",
            "Moviepy - video ready /content/drive/MyDrive/Thesis/New added Video3/รายงานการประชุม เล่ม.mp4\n",
            "Successfully converted /content/drive/MyDrive/Thesis/โหลดใหม่ ครั้งที่ 3/รายงานการประชุม เล่ม.gif to /content/drive/MyDrive/Thesis/New added Video3/รายงานการประชุม เล่ม.mp4\n",
            "Moviepy - Building video /content/drive/MyDrive/Thesis/New added Video3/อันตราย.mp4.\n",
            "Moviepy - Writing video /content/drive/MyDrive/Thesis/New added Video3/อันตราย.mp4\n",
            "\n"
          ]
        },
        {
          "output_type": "stream",
          "name": "stderr",
          "text": []
        },
        {
          "output_type": "stream",
          "name": "stdout",
          "text": [
            "Moviepy - Done !\n",
            "Moviepy - video ready /content/drive/MyDrive/Thesis/New added Video3/อันตราย.mp4\n",
            "Successfully converted /content/drive/MyDrive/Thesis/โหลดใหม่ ครั้งที่ 3/อันตราย.gif to /content/drive/MyDrive/Thesis/New added Video3/อันตราย.mp4\n",
            "Moviepy - Building video /content/drive/MyDrive/Thesis/New added Video3/กระจกทึบแสง.mp4.\n",
            "Moviepy - Writing video /content/drive/MyDrive/Thesis/New added Video3/กระจกทึบแสง.mp4\n",
            "\n"
          ]
        },
        {
          "output_type": "stream",
          "name": "stderr",
          "text": []
        },
        {
          "output_type": "stream",
          "name": "stdout",
          "text": [
            "Moviepy - Done !\n",
            "Moviepy - video ready /content/drive/MyDrive/Thesis/New added Video3/กระจกทึบแสง.mp4\n",
            "Successfully converted /content/drive/MyDrive/Thesis/โหลดใหม่ ครั้งที่ 3/กระจกทึบแสง.gif to /content/drive/MyDrive/Thesis/New added Video3/กระจกทึบแสง.mp4\n",
            "Moviepy - Building video /content/drive/MyDrive/Thesis/New added Video3/กระจกโปร่งแสง.mp4.\n",
            "Moviepy - Writing video /content/drive/MyDrive/Thesis/New added Video3/กระจกโปร่งแสง.mp4\n",
            "\n"
          ]
        },
        {
          "output_type": "stream",
          "name": "stderr",
          "text": []
        },
        {
          "output_type": "stream",
          "name": "stdout",
          "text": [
            "Moviepy - Done !\n",
            "Moviepy - video ready /content/drive/MyDrive/Thesis/New added Video3/กระจกโปร่งแสง.mp4\n",
            "Successfully converted /content/drive/MyDrive/Thesis/โหลดใหม่ ครั้งที่ 3/กระจกโปร่งแสง.gif to /content/drive/MyDrive/Thesis/New added Video3/กระจกโปร่งแสง.mp4\n",
            "Moviepy - Building video /content/drive/MyDrive/Thesis/New added Video3/กระจกใส.mp4.\n",
            "Moviepy - Writing video /content/drive/MyDrive/Thesis/New added Video3/กระจกใส.mp4\n",
            "\n"
          ]
        },
        {
          "output_type": "stream",
          "name": "stderr",
          "text": []
        },
        {
          "output_type": "stream",
          "name": "stdout",
          "text": [
            "Moviepy - Done !\n",
            "Moviepy - video ready /content/drive/MyDrive/Thesis/New added Video3/กระจกใส.mp4\n",
            "Successfully converted /content/drive/MyDrive/Thesis/โหลดใหม่ ครั้งที่ 3/กระจกใส.gif to /content/drive/MyDrive/Thesis/New added Video3/กระจกใส.mp4\n",
            "Moviepy - Building video /content/drive/MyDrive/Thesis/New added Video3/บิน (ใช้กับผีเสื้อ).mp4.\n",
            "Moviepy - Writing video /content/drive/MyDrive/Thesis/New added Video3/บิน (ใช้กับผีเสื้อ).mp4\n",
            "\n"
          ]
        },
        {
          "output_type": "stream",
          "name": "stderr",
          "text": []
        },
        {
          "output_type": "stream",
          "name": "stdout",
          "text": [
            "Moviepy - Done !\n",
            "Moviepy - video ready /content/drive/MyDrive/Thesis/New added Video3/บิน (ใช้กับผีเสื้อ).mp4\n",
            "Successfully converted /content/drive/MyDrive/Thesis/โหลดใหม่ ครั้งที่ 3/บิน (ใช้กับผีเสื้อ).gif to /content/drive/MyDrive/Thesis/New added Video3/บิน (ใช้กับผีเสื้อ).mp4\n",
            "Moviepy - Building video /content/drive/MyDrive/Thesis/New added Video3/สเก็ตบอร์ด.mp4.\n",
            "Moviepy - Writing video /content/drive/MyDrive/Thesis/New added Video3/สเก็ตบอร์ด.mp4\n",
            "\n"
          ]
        },
        {
          "output_type": "stream",
          "name": "stderr",
          "text": []
        },
        {
          "output_type": "stream",
          "name": "stdout",
          "text": [
            "Moviepy - Done !\n",
            "Moviepy - video ready /content/drive/MyDrive/Thesis/New added Video3/สเก็ตบอร์ด.mp4\n",
            "Successfully converted /content/drive/MyDrive/Thesis/โหลดใหม่ ครั้งที่ 3/สเก็ตบอร์ด.gif to /content/drive/MyDrive/Thesis/New added Video3/สเก็ตบอร์ด.mp4\n",
            "Moviepy - Building video /content/drive/MyDrive/Thesis/New added Video3/โควิด-19 กลายพันธุ์.mp4.\n",
            "Moviepy - Writing video /content/drive/MyDrive/Thesis/New added Video3/โควิด-19 กลายพันธุ์.mp4\n",
            "\n"
          ]
        },
        {
          "output_type": "stream",
          "name": "stderr",
          "text": []
        },
        {
          "output_type": "stream",
          "name": "stdout",
          "text": [
            "Moviepy - Done !\n",
            "Moviepy - video ready /content/drive/MyDrive/Thesis/New added Video3/โควิด-19 กลายพันธุ์.mp4\n",
            "Successfully converted /content/drive/MyDrive/Thesis/โหลดใหม่ ครั้งที่ 3/โควิด-19 กลายพันธุ์.gif to /content/drive/MyDrive/Thesis/New added Video3/โควิด-19 กลายพันธุ์.mp4\n",
            "Moviepy - Building video /content/drive/MyDrive/Thesis/New added Video3/ซื่อตรง.mp4.\n",
            "Moviepy - Writing video /content/drive/MyDrive/Thesis/New added Video3/ซื่อตรง.mp4\n",
            "\n"
          ]
        },
        {
          "output_type": "stream",
          "name": "stderr",
          "text": []
        },
        {
          "output_type": "stream",
          "name": "stdout",
          "text": [
            "Moviepy - Done !\n",
            "Moviepy - video ready /content/drive/MyDrive/Thesis/New added Video3/ซื่อตรง.mp4\n",
            "Successfully converted /content/drive/MyDrive/Thesis/โหลดใหม่ ครั้งที่ 3/ซื่อตรง.gif to /content/drive/MyDrive/Thesis/New added Video3/ซื่อตรง.mp4\n",
            "Moviepy - Building video /content/drive/MyDrive/Thesis/New added Video3/ทางคดเคี้ยว.mp4.\n",
            "Moviepy - Writing video /content/drive/MyDrive/Thesis/New added Video3/ทางคดเคี้ยว.mp4\n",
            "\n"
          ]
        },
        {
          "output_type": "stream",
          "name": "stderr",
          "text": []
        },
        {
          "output_type": "stream",
          "name": "stdout",
          "text": [
            "Moviepy - Done !\n",
            "Moviepy - video ready /content/drive/MyDrive/Thesis/New added Video3/ทางคดเคี้ยว.mp4\n",
            "Successfully converted /content/drive/MyDrive/Thesis/โหลดใหม่ ครั้งที่ 3/ทางคดเคี้ยว.gif to /content/drive/MyDrive/Thesis/New added Video3/ทางคดเคี้ยว.mp4\n",
            "Moviepy - Building video /content/drive/MyDrive/Thesis/New added Video3/ผูกโบว์.mp4.\n",
            "Moviepy - Writing video /content/drive/MyDrive/Thesis/New added Video3/ผูกโบว์.mp4\n",
            "\n"
          ]
        },
        {
          "output_type": "stream",
          "name": "stderr",
          "text": []
        },
        {
          "output_type": "stream",
          "name": "stdout",
          "text": [
            "Moviepy - Done !\n",
            "Moviepy - video ready /content/drive/MyDrive/Thesis/New added Video3/ผูกโบว์.mp4\n",
            "Successfully converted /content/drive/MyDrive/Thesis/โหลดใหม่ ครั้งที่ 3/ผูกโบว์.gif to /content/drive/MyDrive/Thesis/New added Video3/ผูกโบว์.mp4\n",
            "Moviepy - Building video /content/drive/MyDrive/Thesis/New added Video3/มัดห่อ (ด้วยเชือกเส้นเล็ก).mp4.\n",
            "Moviepy - Writing video /content/drive/MyDrive/Thesis/New added Video3/มัดห่อ (ด้วยเชือกเส้นเล็ก).mp4\n",
            "\n"
          ]
        },
        {
          "output_type": "stream",
          "name": "stderr",
          "text": []
        },
        {
          "output_type": "stream",
          "name": "stdout",
          "text": [
            "Moviepy - Done !\n",
            "Moviepy - video ready /content/drive/MyDrive/Thesis/New added Video3/มัดห่อ (ด้วยเชือกเส้นเล็ก).mp4\n",
            "Successfully converted /content/drive/MyDrive/Thesis/โหลดใหม่ ครั้งที่ 3/มัดห่อ (ด้วยเชือกเส้นเล็ก).gif to /content/drive/MyDrive/Thesis/New added Video3/มัดห่อ (ด้วยเชือกเส้นเล็ก).mp4\n",
            "Moviepy - Building video /content/drive/MyDrive/Thesis/New added Video3/มัดห่อ (ด้วยเชือก).mp4.\n",
            "Moviepy - Writing video /content/drive/MyDrive/Thesis/New added Video3/มัดห่อ (ด้วยเชือก).mp4\n",
            "\n"
          ]
        },
        {
          "output_type": "stream",
          "name": "stderr",
          "text": []
        },
        {
          "output_type": "stream",
          "name": "stdout",
          "text": [
            "Moviepy - Done !\n",
            "Moviepy - video ready /content/drive/MyDrive/Thesis/New added Video3/มัดห่อ (ด้วยเชือก).mp4\n",
            "Successfully converted /content/drive/MyDrive/Thesis/โหลดใหม่ ครั้งที่ 3/มัดห่อ (ด้วยเชือก).gif to /content/drive/MyDrive/Thesis/New added Video3/มัดห่อ (ด้วยเชือก).mp4\n",
            "Moviepy - Building video /content/drive/MyDrive/Thesis/New added Video3/พื้นราบ.mp4.\n",
            "Moviepy - Writing video /content/drive/MyDrive/Thesis/New added Video3/พื้นราบ.mp4\n",
            "\n"
          ]
        },
        {
          "output_type": "stream",
          "name": "stderr",
          "text": []
        },
        {
          "output_type": "stream",
          "name": "stdout",
          "text": [
            "Moviepy - Done !\n",
            "Moviepy - video ready /content/drive/MyDrive/Thesis/New added Video3/พื้นราบ.mp4\n",
            "Successfully converted /content/drive/MyDrive/Thesis/โหลดใหม่ ครั้งที่ 3/พื้นราบ.gif to /content/drive/MyDrive/Thesis/New added Video3/พื้นราบ.mp4\n",
            "Moviepy - Building video /content/drive/MyDrive/Thesis/New added Video3/ผู้โดยสารลดน้อยลงในรถตลอดทาง.mp4.\n",
            "Moviepy - Writing video /content/drive/MyDrive/Thesis/New added Video3/ผู้โดยสารลดน้อยลงในรถตลอดทาง.mp4\n",
            "\n"
          ]
        },
        {
          "output_type": "stream",
          "name": "stderr",
          "text": []
        },
        {
          "output_type": "stream",
          "name": "stdout",
          "text": [
            "Moviepy - Done !\n",
            "Moviepy - video ready /content/drive/MyDrive/Thesis/New added Video3/ผู้โดยสารลดน้อยลงในรถตลอดทาง.mp4\n",
            "Successfully converted /content/drive/MyDrive/Thesis/โหลดใหม่ ครั้งที่ 3/ผู้โดยสารลดน้อยลงในรถตลอดทาง.gif to /content/drive/MyDrive/Thesis/New added Video3/ผู้โดยสารลดน้อยลงในรถตลอดทาง.mp4\n",
            "Moviepy - Building video /content/drive/MyDrive/Thesis/New added Video3/เพิ่มขึ้นอย่างรวดเร็ว.mp4.\n",
            "Moviepy - Writing video /content/drive/MyDrive/Thesis/New added Video3/เพิ่มขึ้นอย่างรวดเร็ว.mp4\n",
            "\n"
          ]
        },
        {
          "output_type": "stream",
          "name": "stderr",
          "text": []
        },
        {
          "output_type": "stream",
          "name": "stdout",
          "text": [
            "Moviepy - Done !\n",
            "Moviepy - video ready /content/drive/MyDrive/Thesis/New added Video3/เพิ่มขึ้นอย่างรวดเร็ว.mp4\n",
            "Successfully converted /content/drive/MyDrive/Thesis/โหลดใหม่ ครั้งที่ 3/เพิ่มขึ้นอย่างรวดเร็ว.gif to /content/drive/MyDrive/Thesis/New added Video3/เพิ่มขึ้นอย่างรวดเร็ว.mp4\n",
            "Moviepy - Building video /content/drive/MyDrive/Thesis/New added Video3/ลดลง.mp4.\n",
            "Moviepy - Writing video /content/drive/MyDrive/Thesis/New added Video3/ลดลง.mp4\n",
            "\n"
          ]
        },
        {
          "output_type": "stream",
          "name": "stderr",
          "text": []
        },
        {
          "output_type": "stream",
          "name": "stdout",
          "text": [
            "Moviepy - Done !\n",
            "Moviepy - video ready /content/drive/MyDrive/Thesis/New added Video3/ลดลง.mp4\n",
            "Successfully converted /content/drive/MyDrive/Thesis/โหลดใหม่ ครั้งที่ 3/ลดลง.gif to /content/drive/MyDrive/Thesis/New added Video3/ลดลง.mp4\n",
            "Moviepy - Building video /content/drive/MyDrive/Thesis/New added Video3/เพิ่มขึ้น.mp4.\n",
            "Moviepy - Writing video /content/drive/MyDrive/Thesis/New added Video3/เพิ่มขึ้น.mp4\n",
            "\n"
          ]
        },
        {
          "output_type": "stream",
          "name": "stderr",
          "text": []
        },
        {
          "output_type": "stream",
          "name": "stdout",
          "text": [
            "Moviepy - Done !\n",
            "Moviepy - video ready /content/drive/MyDrive/Thesis/New added Video3/เพิ่มขึ้น.mp4\n",
            "Successfully converted /content/drive/MyDrive/Thesis/โหลดใหม่ ครั้งที่ 3/เพิ่มขึ้น.gif to /content/drive/MyDrive/Thesis/New added Video3/เพิ่มขึ้น.mp4\n",
            "Moviepy - Building video /content/drive/MyDrive/Thesis/New added Video3/แยก.mp4.\n",
            "Moviepy - Writing video /content/drive/MyDrive/Thesis/New added Video3/แยก.mp4\n",
            "\n"
          ]
        },
        {
          "output_type": "stream",
          "name": "stderr",
          "text": []
        },
        {
          "output_type": "stream",
          "name": "stdout",
          "text": [
            "Moviepy - Done !\n",
            "Moviepy - video ready /content/drive/MyDrive/Thesis/New added Video3/แยก.mp4\n",
            "Successfully converted /content/drive/MyDrive/Thesis/โหลดใหม่ ครั้งที่ 3/แยก.gif to /content/drive/MyDrive/Thesis/New added Video3/แยก.mp4\n",
            "Moviepy - Building video /content/drive/MyDrive/Thesis/New added Video3/กระเป๋าตุง.mp4.\n",
            "Moviepy - Writing video /content/drive/MyDrive/Thesis/New added Video3/กระเป๋าตุง.mp4\n",
            "\n"
          ]
        },
        {
          "output_type": "stream",
          "name": "stderr",
          "text": []
        },
        {
          "output_type": "stream",
          "name": "stdout",
          "text": [
            "Moviepy - Done !\n",
            "Moviepy - video ready /content/drive/MyDrive/Thesis/New added Video3/กระเป๋าตุง.mp4\n",
            "Successfully converted /content/drive/MyDrive/Thesis/โหลดใหม่ ครั้งที่ 3/กระเป๋าตุง.gif to /content/drive/MyDrive/Thesis/New added Video3/กระเป๋าตุง.mp4\n",
            "Moviepy - Building video /content/drive/MyDrive/Thesis/New added Video3/มารับตัวผู้ทำท่ามือ.mp4.\n",
            "Moviepy - Writing video /content/drive/MyDrive/Thesis/New added Video3/มารับตัวผู้ทำท่ามือ.mp4\n",
            "\n"
          ]
        },
        {
          "output_type": "stream",
          "name": "stderr",
          "text": []
        },
        {
          "output_type": "stream",
          "name": "stdout",
          "text": [
            "Moviepy - Done !\n",
            "Moviepy - video ready /content/drive/MyDrive/Thesis/New added Video3/มารับตัวผู้ทำท่ามือ.mp4\n",
            "Successfully converted /content/drive/MyDrive/Thesis/โหลดใหม่ ครั้งที่ 3/มารับตัวผู้ทำท่ามือ.gif to /content/drive/MyDrive/Thesis/New added Video3/มารับตัวผู้ทำท่ามือ.mp4\n",
            "Moviepy - Building video /content/drive/MyDrive/Thesis/New added Video3/ขีดเส้นใต้.mp4.\n",
            "Moviepy - Writing video /content/drive/MyDrive/Thesis/New added Video3/ขีดเส้นใต้.mp4\n",
            "\n"
          ]
        },
        {
          "output_type": "stream",
          "name": "stderr",
          "text": []
        },
        {
          "output_type": "stream",
          "name": "stdout",
          "text": [
            "Moviepy - Done !\n",
            "Moviepy - video ready /content/drive/MyDrive/Thesis/New added Video3/ขีดเส้นใต้.mp4\n",
            "Successfully converted /content/drive/MyDrive/Thesis/โหลดใหม่ ครั้งที่ 3/ขีดเส้นใต้.gif to /content/drive/MyDrive/Thesis/New added Video3/ขีดเส้นใต้.mp4\n",
            "Moviepy - Building video /content/drive/MyDrive/Thesis/New added Video3/เฆี่ยนตี.mp4.\n",
            "Moviepy - Writing video /content/drive/MyDrive/Thesis/New added Video3/เฆี่ยนตี.mp4\n",
            "\n"
          ]
        },
        {
          "output_type": "stream",
          "name": "stderr",
          "text": []
        },
        {
          "output_type": "stream",
          "name": "stdout",
          "text": [
            "Moviepy - Done !\n",
            "Moviepy - video ready /content/drive/MyDrive/Thesis/New added Video3/เฆี่ยนตี.mp4\n",
            "Successfully converted /content/drive/MyDrive/Thesis/โหลดใหม่ ครั้งที่ 3/เฆี่ยนตี.gif to /content/drive/MyDrive/Thesis/New added Video3/เฆี่ยนตี.mp4\n",
            "Moviepy - Building video /content/drive/MyDrive/Thesis/New added Video3/เฆี่ยน.mp4.\n",
            "Moviepy - Writing video /content/drive/MyDrive/Thesis/New added Video3/เฆี่ยน.mp4\n",
            "\n"
          ]
        },
        {
          "output_type": "stream",
          "name": "stderr",
          "text": []
        },
        {
          "output_type": "stream",
          "name": "stdout",
          "text": [
            "Moviepy - Done !\n",
            "Moviepy - video ready /content/drive/MyDrive/Thesis/New added Video3/เฆี่ยน.mp4\n",
            "Successfully converted /content/drive/MyDrive/Thesis/โหลดใหม่ ครั้งที่ 3/เฆี่ยน.gif to /content/drive/MyDrive/Thesis/New added Video3/เฆี่ยน.mp4\n",
            "Moviepy - Building video /content/drive/MyDrive/Thesis/New added Video3/เฆี่ยนตี (ท่าที่ 1).mp4.\n",
            "Moviepy - Writing video /content/drive/MyDrive/Thesis/New added Video3/เฆี่ยนตี (ท่าที่ 1).mp4\n",
            "\n"
          ]
        },
        {
          "output_type": "stream",
          "name": "stderr",
          "text": []
        },
        {
          "output_type": "stream",
          "name": "stdout",
          "text": [
            "Moviepy - Done !\n",
            "Moviepy - video ready /content/drive/MyDrive/Thesis/New added Video3/เฆี่ยนตี (ท่าที่ 1).mp4\n",
            "Successfully converted /content/drive/MyDrive/Thesis/โหลดใหม่ ครั้งที่ 3/เฆี่ยนตี (ท่าที่ 1).gif to /content/drive/MyDrive/Thesis/New added Video3/เฆี่ยนตี (ท่าที่ 1).mp4\n",
            "Moviepy - Building video /content/drive/MyDrive/Thesis/New added Video3/เฆี่ยน (ท่าที่ 1).mp4.\n",
            "Moviepy - Writing video /content/drive/MyDrive/Thesis/New added Video3/เฆี่ยน (ท่าที่ 1).mp4\n",
            "\n"
          ]
        },
        {
          "output_type": "stream",
          "name": "stderr",
          "text": []
        },
        {
          "output_type": "stream",
          "name": "stdout",
          "text": [
            "Moviepy - Done !\n",
            "Moviepy - video ready /content/drive/MyDrive/Thesis/New added Video3/เฆี่ยน (ท่าที่ 1).mp4\n",
            "Successfully converted /content/drive/MyDrive/Thesis/โหลดใหม่ ครั้งที่ 3/เฆี่ยน (ท่าที่ 1).gif to /content/drive/MyDrive/Thesis/New added Video3/เฆี่ยน (ท่าที่ 1).mp4\n",
            "Moviepy - Building video /content/drive/MyDrive/Thesis/New added Video3/สกปรก.mp4.\n",
            "Moviepy - Writing video /content/drive/MyDrive/Thesis/New added Video3/สกปรก.mp4\n",
            "\n"
          ]
        },
        {
          "output_type": "stream",
          "name": "stderr",
          "text": []
        },
        {
          "output_type": "stream",
          "name": "stdout",
          "text": [
            "Moviepy - Done !\n",
            "Moviepy - video ready /content/drive/MyDrive/Thesis/New added Video3/สกปรก.mp4\n",
            "Successfully converted /content/drive/MyDrive/Thesis/โหลดใหม่ ครั้งที่ 3/สกปรก.gif to /content/drive/MyDrive/Thesis/New added Video3/สกปรก.mp4\n",
            "Moviepy - Building video /content/drive/MyDrive/Thesis/New added Video3/ชนบท.mp4.\n",
            "Moviepy - Writing video /content/drive/MyDrive/Thesis/New added Video3/ชนบท.mp4\n",
            "\n"
          ]
        },
        {
          "output_type": "stream",
          "name": "stderr",
          "text": []
        },
        {
          "output_type": "stream",
          "name": "stdout",
          "text": [
            "Moviepy - Done !\n",
            "Moviepy - video ready /content/drive/MyDrive/Thesis/New added Video3/ชนบท.mp4\n",
            "Successfully converted /content/drive/MyDrive/Thesis/โหลดใหม่ ครั้งที่ 3/ชนบท.gif to /content/drive/MyDrive/Thesis/New added Video3/ชนบท.mp4\n",
            "Moviepy - Building video /content/drive/MyDrive/Thesis/New added Video3/บ้านนอก.mp4.\n",
            "Moviepy - Writing video /content/drive/MyDrive/Thesis/New added Video3/บ้านนอก.mp4\n",
            "\n"
          ]
        },
        {
          "output_type": "stream",
          "name": "stderr",
          "text": []
        },
        {
          "output_type": "stream",
          "name": "stdout",
          "text": [
            "Moviepy - Done !\n",
            "Moviepy - video ready /content/drive/MyDrive/Thesis/New added Video3/บ้านนอก.mp4\n",
            "Successfully converted /content/drive/MyDrive/Thesis/โหลดใหม่ ครั้งที่ 3/บ้านนอก.gif to /content/drive/MyDrive/Thesis/New added Video3/บ้านนอก.mp4\n",
            "Moviepy - Building video /content/drive/MyDrive/Thesis/New added Video3/หนังสือเดินทาง.mp4.\n",
            "Moviepy - Writing video /content/drive/MyDrive/Thesis/New added Video3/หนังสือเดินทาง.mp4\n",
            "\n"
          ]
        },
        {
          "output_type": "stream",
          "name": "stderr",
          "text": []
        },
        {
          "output_type": "stream",
          "name": "stdout",
          "text": [
            "Moviepy - Done !\n",
            "Moviepy - video ready /content/drive/MyDrive/Thesis/New added Video3/หนังสือเดินทาง.mp4\n",
            "Successfully converted /content/drive/MyDrive/Thesis/โหลดใหม่ ครั้งที่ 3/หนังสือเดินทาง.gif to /content/drive/MyDrive/Thesis/New added Video3/หนังสือเดินทาง.mp4\n",
            "Moviepy - Building video /content/drive/MyDrive/Thesis/New added Video3/สัปหงก.mp4.\n",
            "Moviepy - Writing video /content/drive/MyDrive/Thesis/New added Video3/สัปหงก.mp4\n",
            "\n"
          ]
        },
        {
          "output_type": "stream",
          "name": "stderr",
          "text": []
        },
        {
          "output_type": "stream",
          "name": "stdout",
          "text": [
            "Moviepy - Done !\n",
            "Moviepy - video ready /content/drive/MyDrive/Thesis/New added Video3/สัปหงก.mp4\n",
            "Successfully converted /content/drive/MyDrive/Thesis/โหลดใหม่ ครั้งที่ 3/สัปหงก.gif to /content/drive/MyDrive/Thesis/New added Video3/สัปหงก.mp4\n",
            "Moviepy - Building video /content/drive/MyDrive/Thesis/New added Video3/ง่วงนอน.mp4.\n",
            "Moviepy - Writing video /content/drive/MyDrive/Thesis/New added Video3/ง่วงนอน.mp4\n",
            "\n"
          ]
        },
        {
          "output_type": "stream",
          "name": "stderr",
          "text": []
        },
        {
          "output_type": "stream",
          "name": "stdout",
          "text": [
            "Moviepy - Done !\n",
            "Moviepy - video ready /content/drive/MyDrive/Thesis/New added Video3/ง่วงนอน.mp4\n",
            "Successfully converted /content/drive/MyDrive/Thesis/โหลดใหม่ ครั้งที่ 3/ง่วงนอน.gif to /content/drive/MyDrive/Thesis/New added Video3/ง่วงนอน.mp4\n",
            "Moviepy - Building video /content/drive/MyDrive/Thesis/New added Video3/ง่วง.mp4.\n",
            "Moviepy - Writing video /content/drive/MyDrive/Thesis/New added Video3/ง่วง.mp4\n",
            "\n"
          ]
        },
        {
          "output_type": "stream",
          "name": "stderr",
          "text": []
        },
        {
          "output_type": "stream",
          "name": "stdout",
          "text": [
            "Moviepy - Done !\n",
            "Moviepy - video ready /content/drive/MyDrive/Thesis/New added Video3/ง่วง.mp4\n",
            "Successfully converted /content/drive/MyDrive/Thesis/โหลดใหม่ ครั้งที่ 3/ง่วง.gif to /content/drive/MyDrive/Thesis/New added Video3/ง่วง.mp4\n",
            "Moviepy - Building video /content/drive/MyDrive/Thesis/New added Video3/บุฟเฟต์.mp4.\n",
            "Moviepy - Writing video /content/drive/MyDrive/Thesis/New added Video3/บุฟเฟต์.mp4\n",
            "\n"
          ]
        },
        {
          "output_type": "stream",
          "name": "stderr",
          "text": []
        },
        {
          "output_type": "stream",
          "name": "stdout",
          "text": [
            "Moviepy - Done !\n",
            "Moviepy - video ready /content/drive/MyDrive/Thesis/New added Video3/บุฟเฟต์.mp4\n",
            "Successfully converted /content/drive/MyDrive/Thesis/โหลดใหม่ ครั้งที่ 3/บุฟเฟต์.gif to /content/drive/MyDrive/Thesis/New added Video3/บุฟเฟต์.mp4\n",
            "Moviepy - Building video /content/drive/MyDrive/Thesis/New added Video3/ตักบาตร.mp4.\n",
            "Moviepy - Writing video /content/drive/MyDrive/Thesis/New added Video3/ตักบาตร.mp4\n",
            "\n"
          ]
        },
        {
          "output_type": "stream",
          "name": "stderr",
          "text": []
        },
        {
          "output_type": "stream",
          "name": "stdout",
          "text": [
            "Moviepy - Done !\n",
            "Moviepy - video ready /content/drive/MyDrive/Thesis/New added Video3/ตักบาตร.mp4\n",
            "Successfully converted /content/drive/MyDrive/Thesis/โหลดใหม่ ครั้งที่ 3/ตักบาตร.gif to /content/drive/MyDrive/Thesis/New added Video3/ตักบาตร.mp4\n",
            "Moviepy - Building video /content/drive/MyDrive/Thesis/New added Video3/พระสงฆ์.mp4.\n",
            "Moviepy - Writing video /content/drive/MyDrive/Thesis/New added Video3/พระสงฆ์.mp4\n",
            "\n"
          ]
        },
        {
          "output_type": "stream",
          "name": "stderr",
          "text": []
        },
        {
          "output_type": "stream",
          "name": "stdout",
          "text": [
            "Moviepy - Done !\n",
            "Moviepy - video ready /content/drive/MyDrive/Thesis/New added Video3/พระสงฆ์.mp4\n",
            "Successfully converted /content/drive/MyDrive/Thesis/โหลดใหม่ ครั้งที่ 3/พระสงฆ์.gif to /content/drive/MyDrive/Thesis/New added Video3/พระสงฆ์.mp4\n",
            "Moviepy - Building video /content/drive/MyDrive/Thesis/New added Video3/หล่อ.mp4.\n",
            "Moviepy - Writing video /content/drive/MyDrive/Thesis/New added Video3/หล่อ.mp4\n",
            "\n"
          ]
        },
        {
          "output_type": "stream",
          "name": "stderr",
          "text": []
        },
        {
          "output_type": "stream",
          "name": "stdout",
          "text": [
            "Moviepy - Done !\n",
            "Moviepy - video ready /content/drive/MyDrive/Thesis/New added Video3/หล่อ.mp4\n",
            "Successfully converted /content/drive/MyDrive/Thesis/โหลดใหม่ ครั้งที่ 3/หล่อ.gif to /content/drive/MyDrive/Thesis/New added Video3/หล่อ.mp4\n",
            "Moviepy - Building video /content/drive/MyDrive/Thesis/New added Video3/สวย.mp4.\n",
            "Moviepy - Writing video /content/drive/MyDrive/Thesis/New added Video3/สวย.mp4\n",
            "\n"
          ]
        },
        {
          "output_type": "stream",
          "name": "stderr",
          "text": []
        },
        {
          "output_type": "stream",
          "name": "stdout",
          "text": [
            "Moviepy - Done !\n",
            "Moviepy - video ready /content/drive/MyDrive/Thesis/New added Video3/สวย.mp4\n",
            "Successfully converted /content/drive/MyDrive/Thesis/โหลดใหม่ ครั้งที่ 3/สวย.gif to /content/drive/MyDrive/Thesis/New added Video3/สวย.mp4\n",
            "Moviepy - Building video /content/drive/MyDrive/Thesis/New added Video3/ซ่อม.mp4.\n",
            "Moviepy - Writing video /content/drive/MyDrive/Thesis/New added Video3/ซ่อม.mp4\n",
            "\n"
          ]
        },
        {
          "output_type": "stream",
          "name": "stderr",
          "text": []
        },
        {
          "output_type": "stream",
          "name": "stdout",
          "text": [
            "Moviepy - Done !\n",
            "Moviepy - video ready /content/drive/MyDrive/Thesis/New added Video3/ซ่อม.mp4\n",
            "Successfully converted /content/drive/MyDrive/Thesis/โหลดใหม่ ครั้งที่ 3/ซ่อม.gif to /content/drive/MyDrive/Thesis/New added Video3/ซ่อม.mp4\n",
            "Moviepy - Building video /content/drive/MyDrive/Thesis/New added Video3/พระธรรมคำสอน.mp4.\n",
            "Moviepy - Writing video /content/drive/MyDrive/Thesis/New added Video3/พระธรรมคำสอน.mp4\n",
            "\n"
          ]
        },
        {
          "output_type": "stream",
          "name": "stderr",
          "text": []
        },
        {
          "output_type": "stream",
          "name": "stdout",
          "text": [
            "Moviepy - Done !\n",
            "Moviepy - video ready /content/drive/MyDrive/Thesis/New added Video3/พระธรรมคำสอน.mp4\n",
            "Successfully converted /content/drive/MyDrive/Thesis/โหลดใหม่ ครั้งที่ 3/พระธรรมคำสอน.gif to /content/drive/MyDrive/Thesis/New added Video3/พระธรรมคำสอน.mp4\n",
            "Moviepy - Building video /content/drive/MyDrive/Thesis/New added Video3/พระธรรม.mp4.\n",
            "Moviepy - Writing video /content/drive/MyDrive/Thesis/New added Video3/พระธรรม.mp4\n",
            "\n"
          ]
        },
        {
          "output_type": "stream",
          "name": "stderr",
          "text": []
        },
        {
          "output_type": "stream",
          "name": "stdout",
          "text": [
            "Moviepy - Done !\n",
            "Moviepy - video ready /content/drive/MyDrive/Thesis/New added Video3/พระธรรม.mp4\n",
            "Successfully converted /content/drive/MyDrive/Thesis/โหลดใหม่ ครั้งที่ 3/พระธรรม.gif to /content/drive/MyDrive/Thesis/New added Video3/พระธรรม.mp4\n",
            "Moviepy - Building video /content/drive/MyDrive/Thesis/New added Video3/รัฐธรรมนูญ.mp4.\n",
            "Moviepy - Writing video /content/drive/MyDrive/Thesis/New added Video3/รัฐธรรมนูญ.mp4\n",
            "\n"
          ]
        },
        {
          "output_type": "stream",
          "name": "stderr",
          "text": []
        },
        {
          "output_type": "stream",
          "name": "stdout",
          "text": [
            "Moviepy - Done !\n",
            "Moviepy - video ready /content/drive/MyDrive/Thesis/New added Video3/รัฐธรรมนูญ.mp4\n",
            "Successfully converted /content/drive/MyDrive/Thesis/โหลดใหม่ ครั้งที่ 3/รัฐธรรมนูญ.gif to /content/drive/MyDrive/Thesis/New added Video3/รัฐธรรมนูญ.mp4\n",
            "Moviepy - Building video /content/drive/MyDrive/Thesis/New added Video3/ลิขสิทธิ์.mp4.\n",
            "Moviepy - Writing video /content/drive/MyDrive/Thesis/New added Video3/ลิขสิทธิ์.mp4\n",
            "\n"
          ]
        },
        {
          "output_type": "stream",
          "name": "stderr",
          "text": []
        },
        {
          "output_type": "stream",
          "name": "stdout",
          "text": [
            "Moviepy - Done !\n",
            "Moviepy - video ready /content/drive/MyDrive/Thesis/New added Video3/ลิขสิทธิ์.mp4\n",
            "Successfully converted /content/drive/MyDrive/Thesis/โหลดใหม่ ครั้งที่ 3/ลิขสิทธิ์.gif to /content/drive/MyDrive/Thesis/New added Video3/ลิขสิทธิ์.mp4\n",
            "Moviepy - Building video /content/drive/MyDrive/Thesis/New added Video3/ห้องครัว.mp4.\n",
            "Moviepy - Writing video /content/drive/MyDrive/Thesis/New added Video3/ห้องครัว.mp4\n",
            "\n"
          ]
        },
        {
          "output_type": "stream",
          "name": "stderr",
          "text": []
        },
        {
          "output_type": "stream",
          "name": "stdout",
          "text": [
            "Moviepy - Done !\n",
            "Moviepy - video ready /content/drive/MyDrive/Thesis/New added Video3/ห้องครัว.mp4\n",
            "Successfully converted /content/drive/MyDrive/Thesis/โหลดใหม่ ครั้งที่ 3/ห้องครัว.gif to /content/drive/MyDrive/Thesis/New added Video3/ห้องครัว.mp4\n",
            "Moviepy - Building video /content/drive/MyDrive/Thesis/New added Video3/หุงต้มอาหาร.mp4.\n",
            "Moviepy - Writing video /content/drive/MyDrive/Thesis/New added Video3/หุงต้มอาหาร.mp4\n",
            "\n"
          ]
        },
        {
          "output_type": "stream",
          "name": "stderr",
          "text": []
        },
        {
          "output_type": "stream",
          "name": "stdout",
          "text": [
            "Moviepy - Done !\n",
            "Moviepy - video ready /content/drive/MyDrive/Thesis/New added Video3/หุงต้มอาหาร.mp4\n",
            "Successfully converted /content/drive/MyDrive/Thesis/โหลดใหม่ ครั้งที่ 3/หุงต้มอาหาร.gif to /content/drive/MyDrive/Thesis/New added Video3/หุงต้มอาหาร.mp4\n",
            "Moviepy - Building video /content/drive/MyDrive/Thesis/New added Video3/หุงอาหาร.mp4.\n",
            "Moviepy - Writing video /content/drive/MyDrive/Thesis/New added Video3/หุงอาหาร.mp4\n",
            "\n"
          ]
        },
        {
          "output_type": "stream",
          "name": "stderr",
          "text": []
        },
        {
          "output_type": "stream",
          "name": "stdout",
          "text": [
            "Moviepy - Done !\n",
            "Moviepy - video ready /content/drive/MyDrive/Thesis/New added Video3/หุงอาหาร.mp4\n",
            "Successfully converted /content/drive/MyDrive/Thesis/โหลดใหม่ ครั้งที่ 3/หุงอาหาร.gif to /content/drive/MyDrive/Thesis/New added Video3/หุงอาหาร.mp4\n",
            "Moviepy - Building video /content/drive/MyDrive/Thesis/New added Video3/หุงต้ม.mp4.\n",
            "Moviepy - Writing video /content/drive/MyDrive/Thesis/New added Video3/หุงต้ม.mp4\n",
            "\n"
          ]
        },
        {
          "output_type": "stream",
          "name": "stderr",
          "text": []
        },
        {
          "output_type": "stream",
          "name": "stdout",
          "text": [
            "Moviepy - Done !\n",
            "Moviepy - video ready /content/drive/MyDrive/Thesis/New added Video3/หุงต้ม.mp4\n",
            "Successfully converted /content/drive/MyDrive/Thesis/โหลดใหม่ ครั้งที่ 3/หุงต้ม.gif to /content/drive/MyDrive/Thesis/New added Video3/หุงต้ม.mp4\n",
            "Moviepy - Building video /content/drive/MyDrive/Thesis/New added Video3/ต้ม.mp4.\n",
            "Moviepy - Writing video /content/drive/MyDrive/Thesis/New added Video3/ต้ม.mp4\n",
            "\n"
          ]
        },
        {
          "output_type": "stream",
          "name": "stderr",
          "text": []
        },
        {
          "output_type": "stream",
          "name": "stdout",
          "text": [
            "Moviepy - Done !\n",
            "Moviepy - video ready /content/drive/MyDrive/Thesis/New added Video3/ต้ม.mp4\n",
            "Successfully converted /content/drive/MyDrive/Thesis/โหลดใหม่ ครั้งที่ 3/ต้ม.gif to /content/drive/MyDrive/Thesis/New added Video3/ต้ม.mp4\n",
            "Moviepy - Building video /content/drive/MyDrive/Thesis/New added Video3/หุง.mp4.\n",
            "Moviepy - Writing video /content/drive/MyDrive/Thesis/New added Video3/หุง.mp4\n",
            "\n"
          ]
        },
        {
          "output_type": "stream",
          "name": "stderr",
          "text": []
        },
        {
          "output_type": "stream",
          "name": "stdout",
          "text": [
            "Moviepy - Done !\n",
            "Moviepy - video ready /content/drive/MyDrive/Thesis/New added Video3/หุง.mp4\n",
            "Successfully converted /content/drive/MyDrive/Thesis/โหลดใหม่ ครั้งที่ 3/หุง.gif to /content/drive/MyDrive/Thesis/New added Video3/หุง.mp4\n",
            "Moviepy - Building video /content/drive/MyDrive/Thesis/New added Video3/เตาแก๊ส.mp4.\n",
            "Moviepy - Writing video /content/drive/MyDrive/Thesis/New added Video3/เตาแก๊ส.mp4\n",
            "\n"
          ]
        },
        {
          "output_type": "stream",
          "name": "stderr",
          "text": []
        },
        {
          "output_type": "stream",
          "name": "stdout",
          "text": [
            "Moviepy - Done !\n",
            "Moviepy - video ready /content/drive/MyDrive/Thesis/New added Video3/เตาแก๊ส.mp4\n",
            "Successfully converted /content/drive/MyDrive/Thesis/โหลดใหม่ ครั้งที่ 3/เตาแก๊ส.gif to /content/drive/MyDrive/Thesis/New added Video3/เตาแก๊ส.mp4\n",
            "Moviepy - Building video /content/drive/MyDrive/Thesis/New added Video3/เทียน.mp4.\n",
            "Moviepy - Writing video /content/drive/MyDrive/Thesis/New added Video3/เทียน.mp4\n",
            "\n"
          ]
        },
        {
          "output_type": "stream",
          "name": "stderr",
          "text": []
        },
        {
          "output_type": "stream",
          "name": "stdout",
          "text": [
            "Moviepy - Done !\n",
            "Moviepy - video ready /content/drive/MyDrive/Thesis/New added Video3/เทียน.mp4\n",
            "Successfully converted /content/drive/MyDrive/Thesis/โหลดใหม่ ครั้งที่ 3/เทียน.gif to /content/drive/MyDrive/Thesis/New added Video3/เทียน.mp4\n",
            "Moviepy - Building video /content/drive/MyDrive/Thesis/New added Video3/ไฟไหม้.mp4.\n",
            "Moviepy - Writing video /content/drive/MyDrive/Thesis/New added Video3/ไฟไหม้.mp4\n",
            "\n"
          ]
        },
        {
          "output_type": "stream",
          "name": "stderr",
          "text": []
        },
        {
          "output_type": "stream",
          "name": "stdout",
          "text": [
            "Moviepy - Done !\n",
            "Moviepy - video ready /content/drive/MyDrive/Thesis/New added Video3/ไฟไหม้.mp4\n",
            "Successfully converted /content/drive/MyDrive/Thesis/โหลดใหม่ ครั้งที่ 3/ไฟไหม้.gif to /content/drive/MyDrive/Thesis/New added Video3/ไฟไหม้.mp4\n",
            "Moviepy - Building video /content/drive/MyDrive/Thesis/New added Video3/หมวกกันน็อค.mp4.\n",
            "Moviepy - Writing video /content/drive/MyDrive/Thesis/New added Video3/หมวกกันน็อค.mp4\n",
            "\n"
          ]
        },
        {
          "output_type": "stream",
          "name": "stderr",
          "text": []
        },
        {
          "output_type": "stream",
          "name": "stdout",
          "text": [
            "Moviepy - Done !\n",
            "Moviepy - video ready /content/drive/MyDrive/Thesis/New added Video3/หมวกกันน็อค.mp4\n",
            "Successfully converted /content/drive/MyDrive/Thesis/โหลดใหม่ ครั้งที่ 3/หมวกกันน็อค.gif to /content/drive/MyDrive/Thesis/New added Video3/หมวกกันน็อค.mp4\n",
            "Moviepy - Building video /content/drive/MyDrive/Thesis/New added Video3/หมวกกันกระแทก.mp4.\n",
            "Moviepy - Writing video /content/drive/MyDrive/Thesis/New added Video3/หมวกกันกระแทก.mp4\n",
            "\n"
          ]
        },
        {
          "output_type": "stream",
          "name": "stderr",
          "text": []
        },
        {
          "output_type": "stream",
          "name": "stdout",
          "text": [
            "Moviepy - Done !\n",
            "Moviepy - video ready /content/drive/MyDrive/Thesis/New added Video3/หมวกกันกระแทก.mp4\n",
            "Successfully converted /content/drive/MyDrive/Thesis/โหลดใหม่ ครั้งที่ 3/หมวกกันกระแทก.gif to /content/drive/MyDrive/Thesis/New added Video3/หมวกกันกระแทก.mp4\n",
            "Moviepy - Building video /content/drive/MyDrive/Thesis/New added Video3/มอเตอร์ไซต์รับจ้าง.mp4.\n",
            "Moviepy - Writing video /content/drive/MyDrive/Thesis/New added Video3/มอเตอร์ไซต์รับจ้าง.mp4\n",
            "\n"
          ]
        },
        {
          "output_type": "stream",
          "name": "stderr",
          "text": []
        },
        {
          "output_type": "stream",
          "name": "stdout",
          "text": [
            "Moviepy - Done !\n",
            "Moviepy - video ready /content/drive/MyDrive/Thesis/New added Video3/มอเตอร์ไซต์รับจ้าง.mp4\n",
            "Successfully converted /content/drive/MyDrive/Thesis/โหลดใหม่ ครั้งที่ 3/มอเตอร์ไซต์รับจ้าง.gif to /content/drive/MyDrive/Thesis/New added Video3/มอเตอร์ไซต์รับจ้าง.mp4\n",
            "Moviepy - Building video /content/drive/MyDrive/Thesis/New added Video3/ถอน.mp4.\n",
            "Moviepy - Writing video /content/drive/MyDrive/Thesis/New added Video3/ถอน.mp4\n",
            "\n"
          ]
        },
        {
          "output_type": "stream",
          "name": "stderr",
          "text": []
        },
        {
          "output_type": "stream",
          "name": "stdout",
          "text": [
            "Moviepy - Done !\n",
            "Moviepy - video ready /content/drive/MyDrive/Thesis/New added Video3/ถอน.mp4\n",
            "Successfully converted /content/drive/MyDrive/Thesis/โหลดใหม่ ครั้งที่ 3/ถอน.gif to /content/drive/MyDrive/Thesis/New added Video3/ถอน.mp4\n",
            "Moviepy - Building video /content/drive/MyDrive/Thesis/New added Video3/คัดลอก.mp4.\n",
            "Moviepy - Writing video /content/drive/MyDrive/Thesis/New added Video3/คัดลอก.mp4\n",
            "\n"
          ]
        },
        {
          "output_type": "stream",
          "name": "stderr",
          "text": []
        },
        {
          "output_type": "stream",
          "name": "stdout",
          "text": [
            "Moviepy - Done !\n",
            "Moviepy - video ready /content/drive/MyDrive/Thesis/New added Video3/คัดลอก.mp4\n",
            "Successfully converted /content/drive/MyDrive/Thesis/โหลดใหม่ ครั้งที่ 3/คัดลอก.gif to /content/drive/MyDrive/Thesis/New added Video3/คัดลอก.mp4\n",
            "Moviepy - Building video /content/drive/MyDrive/Thesis/New added Video3/คัดลอกจากเอกสาร.mp4.\n",
            "Moviepy - Writing video /content/drive/MyDrive/Thesis/New added Video3/คัดลอกจากเอกสาร.mp4\n",
            "\n"
          ]
        },
        {
          "output_type": "stream",
          "name": "stderr",
          "text": []
        },
        {
          "output_type": "stream",
          "name": "stdout",
          "text": [
            "Moviepy - Done !\n",
            "Moviepy - video ready /content/drive/MyDrive/Thesis/New added Video3/คัดลอกจากเอกสาร.mp4\n",
            "Successfully converted /content/drive/MyDrive/Thesis/โหลดใหม่ ครั้งที่ 3/คัดลอกจากเอกสาร.gif to /content/drive/MyDrive/Thesis/New added Video3/คัดลอกจากเอกสาร.mp4\n",
            "Moviepy - Building video /content/drive/MyDrive/Thesis/New added Video3/ตาราง.mp4.\n",
            "Moviepy - Writing video /content/drive/MyDrive/Thesis/New added Video3/ตาราง.mp4\n",
            "\n"
          ]
        },
        {
          "output_type": "stream",
          "name": "stderr",
          "text": []
        },
        {
          "output_type": "stream",
          "name": "stdout",
          "text": [
            "Moviepy - Done !\n",
            "Moviepy - video ready /content/drive/MyDrive/Thesis/New added Video3/ตาราง.mp4\n",
            "Successfully converted /content/drive/MyDrive/Thesis/โหลดใหม่ ครั้งที่ 3/ตาราง.gif to /content/drive/MyDrive/Thesis/New added Video3/ตาราง.mp4\n",
            "Moviepy - Building video /content/drive/MyDrive/Thesis/New added Video3/แผนการ.mp4.\n",
            "Moviepy - Writing video /content/drive/MyDrive/Thesis/New added Video3/แผนการ.mp4\n",
            "\n"
          ]
        },
        {
          "output_type": "stream",
          "name": "stderr",
          "text": []
        },
        {
          "output_type": "stream",
          "name": "stdout",
          "text": [
            "Moviepy - Done !\n",
            "Moviepy - video ready /content/drive/MyDrive/Thesis/New added Video3/แผนการ.mp4\n",
            "Successfully converted /content/drive/MyDrive/Thesis/โหลดใหม่ ครั้งที่ 3/แผนการ.gif to /content/drive/MyDrive/Thesis/New added Video3/แผนการ.mp4\n",
            "Moviepy - Building video /content/drive/MyDrive/Thesis/New added Video3/วางแผน.mp4.\n",
            "Moviepy - Writing video /content/drive/MyDrive/Thesis/New added Video3/วางแผน.mp4\n",
            "\n"
          ]
        },
        {
          "output_type": "stream",
          "name": "stderr",
          "text": []
        },
        {
          "output_type": "stream",
          "name": "stdout",
          "text": [
            "Moviepy - Done !\n",
            "Moviepy - video ready /content/drive/MyDrive/Thesis/New added Video3/วางแผน.mp4\n",
            "Successfully converted /content/drive/MyDrive/Thesis/โหลดใหม่ ครั้งที่ 3/วางแผน.gif to /content/drive/MyDrive/Thesis/New added Video3/วางแผน.mp4\n",
            "Moviepy - Building video /content/drive/MyDrive/Thesis/New added Video3/เฉพาะ (ท่าที่1).mp4.\n",
            "Moviepy - Writing video /content/drive/MyDrive/Thesis/New added Video3/เฉพาะ (ท่าที่1).mp4\n",
            "\n"
          ]
        },
        {
          "output_type": "stream",
          "name": "stderr",
          "text": []
        },
        {
          "output_type": "stream",
          "name": "stdout",
          "text": [
            "Moviepy - Done !\n",
            "Moviepy - video ready /content/drive/MyDrive/Thesis/New added Video3/เฉพาะ (ท่าที่1).mp4\n",
            "Successfully converted /content/drive/MyDrive/Thesis/โหลดใหม่ ครั้งที่ 3/เฉพาะ (ท่าที่1).gif to /content/drive/MyDrive/Thesis/New added Video3/เฉพาะ (ท่าที่1).mp4\n",
            "Moviepy - Building video /content/drive/MyDrive/Thesis/New added Video3/เหมาะสม.mp4.\n",
            "Moviepy - Writing video /content/drive/MyDrive/Thesis/New added Video3/เหมาะสม.mp4\n",
            "\n"
          ]
        },
        {
          "output_type": "stream",
          "name": "stderr",
          "text": []
        },
        {
          "output_type": "stream",
          "name": "stdout",
          "text": [
            "Moviepy - Done !\n",
            "Moviepy - video ready /content/drive/MyDrive/Thesis/New added Video3/เหมาะสม.mp4\n",
            "Successfully converted /content/drive/MyDrive/Thesis/โหลดใหม่ ครั้งที่ 3/เหมาะสม.gif to /content/drive/MyDrive/Thesis/New added Video3/เหมาะสม.mp4\n",
            "Moviepy - Building video /content/drive/MyDrive/Thesis/New added Video3/น้ำแข็ง.mp4.\n",
            "Moviepy - Writing video /content/drive/MyDrive/Thesis/New added Video3/น้ำแข็ง.mp4\n",
            "\n"
          ]
        },
        {
          "output_type": "stream",
          "name": "stderr",
          "text": []
        },
        {
          "output_type": "stream",
          "name": "stdout",
          "text": [
            "Moviepy - Done !\n",
            "Moviepy - video ready /content/drive/MyDrive/Thesis/New added Video3/น้ำแข็ง.mp4\n",
            "Successfully converted /content/drive/MyDrive/Thesis/โหลดใหม่ ครั้งที่ 3/น้ำแข็ง.gif to /content/drive/MyDrive/Thesis/New added Video3/น้ำแข็ง.mp4\n",
            "Moviepy - Building video /content/drive/MyDrive/Thesis/New added Video3/คณิตศาสตร์.mp4.\n",
            "Moviepy - Writing video /content/drive/MyDrive/Thesis/New added Video3/คณิตศาสตร์.mp4\n",
            "\n"
          ]
        },
        {
          "output_type": "stream",
          "name": "stderr",
          "text": []
        },
        {
          "output_type": "stream",
          "name": "stdout",
          "text": [
            "Moviepy - Done !\n",
            "Moviepy - video ready /content/drive/MyDrive/Thesis/New added Video3/คณิตศาสตร์.mp4\n",
            "Successfully converted /content/drive/MyDrive/Thesis/โหลดใหม่ ครั้งที่ 3/คณิตศาสตร์.gif to /content/drive/MyDrive/Thesis/New added Video3/คณิตศาสตร์.mp4\n",
            "Moviepy - Building video /content/drive/MyDrive/Thesis/New added Video3/ตัวเลข.mp4.\n",
            "Moviepy - Writing video /content/drive/MyDrive/Thesis/New added Video3/ตัวเลข.mp4\n",
            "\n"
          ]
        },
        {
          "output_type": "stream",
          "name": "stderr",
          "text": []
        },
        {
          "output_type": "stream",
          "name": "stdout",
          "text": [
            "Moviepy - Done !\n",
            "Moviepy - video ready /content/drive/MyDrive/Thesis/New added Video3/ตัวเลข.mp4\n",
            "Successfully converted /content/drive/MyDrive/Thesis/โหลดใหม่ ครั้งที่ 3/ตัวเลข.gif to /content/drive/MyDrive/Thesis/New added Video3/ตัวเลข.mp4\n",
            "Moviepy - Building video /content/drive/MyDrive/Thesis/New added Video3/เลข.mp4.\n",
            "Moviepy - Writing video /content/drive/MyDrive/Thesis/New added Video3/เลข.mp4\n",
            "\n"
          ]
        },
        {
          "output_type": "stream",
          "name": "stderr",
          "text": []
        },
        {
          "output_type": "stream",
          "name": "stdout",
          "text": [
            "Moviepy - Done !\n",
            "Moviepy - video ready /content/drive/MyDrive/Thesis/New added Video3/เลข.mp4\n",
            "Successfully converted /content/drive/MyDrive/Thesis/โหลดใหม่ ครั้งที่ 3/เลข.gif to /content/drive/MyDrive/Thesis/New added Video3/เลข.mp4\n",
            "Moviepy - Building video /content/drive/MyDrive/Thesis/New added Video3/เท่าเทียมกัน.mp4.\n",
            "Moviepy - Writing video /content/drive/MyDrive/Thesis/New added Video3/เท่าเทียมกัน.mp4\n",
            "\n"
          ]
        },
        {
          "output_type": "stream",
          "name": "stderr",
          "text": []
        },
        {
          "output_type": "stream",
          "name": "stdout",
          "text": [
            "Moviepy - Done !\n",
            "Moviepy - video ready /content/drive/MyDrive/Thesis/New added Video3/เท่าเทียมกัน.mp4\n",
            "Successfully converted /content/drive/MyDrive/Thesis/โหลดใหม่ ครั้งที่ 3/เท่าเทียมกัน.gif to /content/drive/MyDrive/Thesis/New added Video3/เท่าเทียมกัน.mp4\n",
            "Moviepy - Building video /content/drive/MyDrive/Thesis/New added Video3/สำเนา.mp4.\n",
            "Moviepy - Writing video /content/drive/MyDrive/Thesis/New added Video3/สำเนา.mp4\n",
            "\n"
          ]
        },
        {
          "output_type": "stream",
          "name": "stderr",
          "text": []
        },
        {
          "output_type": "stream",
          "name": "stdout",
          "text": [
            "Moviepy - Done !\n",
            "Moviepy - video ready /content/drive/MyDrive/Thesis/New added Video3/สำเนา.mp4\n",
            "Successfully converted /content/drive/MyDrive/Thesis/โหลดใหม่ ครั้งที่ 3/สำเนา.gif to /content/drive/MyDrive/Thesis/New added Video3/สำเนา.mp4\n",
            "Moviepy - Building video /content/drive/MyDrive/Thesis/New added Video3/โอกาส.mp4.\n",
            "Moviepy - Writing video /content/drive/MyDrive/Thesis/New added Video3/โอกาส.mp4\n",
            "\n"
          ]
        },
        {
          "output_type": "stream",
          "name": "stderr",
          "text": []
        },
        {
          "output_type": "stream",
          "name": "stdout",
          "text": [
            "Moviepy - Done !\n",
            "Moviepy - video ready /content/drive/MyDrive/Thesis/New added Video3/โอกาส.mp4\n",
            "Successfully converted /content/drive/MyDrive/Thesis/โหลดใหม่ ครั้งที่ 3/โอกาส.gif to /content/drive/MyDrive/Thesis/New added Video3/โอกาส.mp4\n",
            "Moviepy - Building video /content/drive/MyDrive/Thesis/New added Video3/ประหลาด.mp4.\n",
            "Moviepy - Writing video /content/drive/MyDrive/Thesis/New added Video3/ประหลาด.mp4\n",
            "\n"
          ]
        },
        {
          "output_type": "stream",
          "name": "stderr",
          "text": []
        },
        {
          "output_type": "stream",
          "name": "stdout",
          "text": [
            "Moviepy - Done !\n",
            "Moviepy - video ready /content/drive/MyDrive/Thesis/New added Video3/ประหลาด.mp4\n",
            "Successfully converted /content/drive/MyDrive/Thesis/โหลดใหม่ ครั้งที่ 3/ประหลาด.gif to /content/drive/MyDrive/Thesis/New added Video3/ประหลาด.mp4\n",
            "Moviepy - Building video /content/drive/MyDrive/Thesis/New added Video3/แปลก.mp4.\n",
            "Moviepy - Writing video /content/drive/MyDrive/Thesis/New added Video3/แปลก.mp4\n",
            "\n"
          ]
        },
        {
          "output_type": "stream",
          "name": "stderr",
          "text": []
        },
        {
          "output_type": "stream",
          "name": "stdout",
          "text": [
            "Moviepy - Done !\n",
            "Moviepy - video ready /content/drive/MyDrive/Thesis/New added Video3/แปลก.mp4\n",
            "Successfully converted /content/drive/MyDrive/Thesis/โหลดใหม่ ครั้งที่ 3/แปลก.gif to /content/drive/MyDrive/Thesis/New added Video3/แปลก.mp4\n",
            "Moviepy - Building video /content/drive/MyDrive/Thesis/New added Video3/ประมาณ.mp4.\n",
            "Moviepy - Writing video /content/drive/MyDrive/Thesis/New added Video3/ประมาณ.mp4\n",
            "\n"
          ]
        },
        {
          "output_type": "stream",
          "name": "stderr",
          "text": []
        },
        {
          "output_type": "stream",
          "name": "stdout",
          "text": [
            "Moviepy - Done !\n",
            "Moviepy - video ready /content/drive/MyDrive/Thesis/New added Video3/ประมาณ.mp4\n",
            "Successfully converted /content/drive/MyDrive/Thesis/โหลดใหม่ ครั้งที่ 3/ประมาณ.gif to /content/drive/MyDrive/Thesis/New added Video3/ประมาณ.mp4\n",
            "Moviepy - Building video /content/drive/MyDrive/Thesis/New added Video3/ตลอด.mp4.\n",
            "Moviepy - Writing video /content/drive/MyDrive/Thesis/New added Video3/ตลอด.mp4\n",
            "\n"
          ]
        },
        {
          "output_type": "stream",
          "name": "stderr",
          "text": []
        },
        {
          "output_type": "stream",
          "name": "stdout",
          "text": [
            "Moviepy - Done !\n",
            "Moviepy - video ready /content/drive/MyDrive/Thesis/New added Video3/ตลอด.mp4\n",
            "Successfully converted /content/drive/MyDrive/Thesis/โหลดใหม่ ครั้งที่ 3/ตลอด.gif to /content/drive/MyDrive/Thesis/New added Video3/ตลอด.mp4\n",
            "Moviepy - Building video /content/drive/MyDrive/Thesis/New added Video3/เก็บเรื่องไว้ก่อน.mp4.\n",
            "Moviepy - Writing video /content/drive/MyDrive/Thesis/New added Video3/เก็บเรื่องไว้ก่อน.mp4\n",
            "\n"
          ]
        },
        {
          "output_type": "stream",
          "name": "stderr",
          "text": []
        },
        {
          "output_type": "stream",
          "name": "stdout",
          "text": [
            "Moviepy - Done !\n",
            "Moviepy - video ready /content/drive/MyDrive/Thesis/New added Video3/เก็บเรื่องไว้ก่อน.mp4\n",
            "Successfully converted /content/drive/MyDrive/Thesis/โหลดใหม่ ครั้งที่ 3/เก็บเรื่องไว้ก่อน.gif to /content/drive/MyDrive/Thesis/New added Video3/เก็บเรื่องไว้ก่อน.mp4\n",
            "Moviepy - Building video /content/drive/MyDrive/Thesis/New added Video3/พักเรื่องไว้ก่อน.mp4.\n",
            "Moviepy - Writing video /content/drive/MyDrive/Thesis/New added Video3/พักเรื่องไว้ก่อน.mp4\n",
            "\n"
          ]
        },
        {
          "output_type": "stream",
          "name": "stderr",
          "text": []
        },
        {
          "output_type": "stream",
          "name": "stdout",
          "text": [
            "Moviepy - Done !\n",
            "Moviepy - video ready /content/drive/MyDrive/Thesis/New added Video3/พักเรื่องไว้ก่อน.mp4\n",
            "Successfully converted /content/drive/MyDrive/Thesis/โหลดใหม่ ครั้งที่ 3/พักเรื่องไว้ก่อน.gif to /content/drive/MyDrive/Thesis/New added Video3/พักเรื่องไว้ก่อน.mp4\n",
            "Moviepy - Building video /content/drive/MyDrive/Thesis/New added Video3/เสนอ.mp4.\n",
            "Moviepy - Writing video /content/drive/MyDrive/Thesis/New added Video3/เสนอ.mp4\n",
            "\n"
          ]
        },
        {
          "output_type": "stream",
          "name": "stderr",
          "text": []
        },
        {
          "output_type": "stream",
          "name": "stdout",
          "text": [
            "Moviepy - Done !\n",
            "Moviepy - video ready /content/drive/MyDrive/Thesis/New added Video3/เสนอ.mp4\n",
            "Successfully converted /content/drive/MyDrive/Thesis/โหลดใหม่ ครั้งที่ 3/เสนอ.gif to /content/drive/MyDrive/Thesis/New added Video3/เสนอ.mp4\n",
            "Moviepy - Building video /content/drive/MyDrive/Thesis/New added Video3/สาธิต.mp4.\n",
            "Moviepy - Writing video /content/drive/MyDrive/Thesis/New added Video3/สาธิต.mp4\n",
            "\n"
          ]
        },
        {
          "output_type": "stream",
          "name": "stderr",
          "text": []
        },
        {
          "output_type": "stream",
          "name": "stdout",
          "text": [
            "Moviepy - Done !\n",
            "Moviepy - video ready /content/drive/MyDrive/Thesis/New added Video3/สาธิต.mp4\n",
            "Successfully converted /content/drive/MyDrive/Thesis/โหลดใหม่ ครั้งที่ 3/สาธิต.gif to /content/drive/MyDrive/Thesis/New added Video3/สาธิต.mp4\n",
            "Moviepy - Building video /content/drive/MyDrive/Thesis/New added Video3/ตัวอย่าง.mp4.\n",
            "Moviepy - Writing video /content/drive/MyDrive/Thesis/New added Video3/ตัวอย่าง.mp4\n",
            "\n"
          ]
        },
        {
          "output_type": "stream",
          "name": "stderr",
          "text": []
        },
        {
          "output_type": "stream",
          "name": "stdout",
          "text": [
            "Moviepy - Done !\n",
            "Moviepy - video ready /content/drive/MyDrive/Thesis/New added Video3/ตัวอย่าง.mp4\n",
            "Successfully converted /content/drive/MyDrive/Thesis/โหลดใหม่ ครั้งที่ 3/ตัวอย่าง.gif to /content/drive/MyDrive/Thesis/New added Video3/ตัวอย่าง.mp4\n",
            "Moviepy - Building video /content/drive/MyDrive/Thesis/New added Video3/แสดง.mp4.\n",
            "Moviepy - Writing video /content/drive/MyDrive/Thesis/New added Video3/แสดง.mp4\n",
            "\n"
          ]
        },
        {
          "output_type": "stream",
          "name": "stderr",
          "text": []
        },
        {
          "output_type": "stream",
          "name": "stdout",
          "text": [
            "Moviepy - Done !\n",
            "Moviepy - video ready /content/drive/MyDrive/Thesis/New added Video3/แสดง.mp4\n",
            "Successfully converted /content/drive/MyDrive/Thesis/โหลดใหม่ ครั้งที่ 3/แสดง.gif to /content/drive/MyDrive/Thesis/New added Video3/แสดง.mp4\n",
            "Moviepy - Building video /content/drive/MyDrive/Thesis/New added Video3/แสดงละคร.mp4.\n",
            "Moviepy - Writing video /content/drive/MyDrive/Thesis/New added Video3/แสดงละคร.mp4\n",
            "\n"
          ]
        },
        {
          "output_type": "stream",
          "name": "stderr",
          "text": []
        },
        {
          "output_type": "stream",
          "name": "stdout",
          "text": [
            "Moviepy - Done !\n",
            "Moviepy - video ready /content/drive/MyDrive/Thesis/New added Video3/แสดงละคร.mp4\n",
            "Successfully converted /content/drive/MyDrive/Thesis/โหลดใหม่ ครั้งที่ 3/แสดงละคร.gif to /content/drive/MyDrive/Thesis/New added Video3/แสดงละคร.mp4\n",
            "Moviepy - Building video /content/drive/MyDrive/Thesis/New added Video3/รายงานการประชุม.mp4.\n",
            "Moviepy - Writing video /content/drive/MyDrive/Thesis/New added Video3/รายงานการประชุม.mp4\n",
            "\n"
          ]
        },
        {
          "output_type": "stream",
          "name": "stderr",
          "text": []
        },
        {
          "output_type": "stream",
          "name": "stdout",
          "text": [
            "Moviepy - Done !\n",
            "Moviepy - video ready /content/drive/MyDrive/Thesis/New added Video3/รายงานการประชุม.mp4\n",
            "Successfully converted /content/drive/MyDrive/Thesis/โหลดใหม่ ครั้งที่ 3/รายงานการประชุม.gif to /content/drive/MyDrive/Thesis/New added Video3/รายงานการประชุม.mp4\n",
            "Moviepy - Building video /content/drive/MyDrive/Thesis/New added Video3/จดบันทึก.mp4.\n",
            "Moviepy - Writing video /content/drive/MyDrive/Thesis/New added Video3/จดบันทึก.mp4\n",
            "\n"
          ]
        },
        {
          "output_type": "stream",
          "name": "stderr",
          "text": []
        },
        {
          "output_type": "stream",
          "name": "stdout",
          "text": [
            "Moviepy - Done !\n",
            "Moviepy - video ready /content/drive/MyDrive/Thesis/New added Video3/จดบันทึก.mp4\n",
            "Successfully converted /content/drive/MyDrive/Thesis/โหลดใหม่ ครั้งที่ 3/จดบันทึก.gif to /content/drive/MyDrive/Thesis/New added Video3/จดบันทึก.mp4\n",
            "Moviepy - Building video /content/drive/MyDrive/Thesis/New added Video3/บันทึก.mp4.\n",
            "Moviepy - Writing video /content/drive/MyDrive/Thesis/New added Video3/บันทึก.mp4\n",
            "\n"
          ]
        },
        {
          "output_type": "stream",
          "name": "stderr",
          "text": []
        },
        {
          "output_type": "stream",
          "name": "stdout",
          "text": [
            "Moviepy - Done !\n",
            "Moviepy - video ready /content/drive/MyDrive/Thesis/New added Video3/บันทึก.mp4\n",
            "Successfully converted /content/drive/MyDrive/Thesis/โหลดใหม่ ครั้งที่ 3/บันทึก.gif to /content/drive/MyDrive/Thesis/New added Video3/บันทึก.mp4\n",
            "Moviepy - Building video /content/drive/MyDrive/Thesis/New added Video3/สมาคม.mp4.\n",
            "Moviepy - Writing video /content/drive/MyDrive/Thesis/New added Video3/สมาคม.mp4\n",
            "\n"
          ]
        },
        {
          "output_type": "stream",
          "name": "stderr",
          "text": []
        },
        {
          "output_type": "stream",
          "name": "stdout",
          "text": [
            "Moviepy - Done !\n",
            "Moviepy - video ready /content/drive/MyDrive/Thesis/New added Video3/สมาคม.mp4\n",
            "Successfully converted /content/drive/MyDrive/Thesis/โหลดใหม่ ครั้งที่ 3/สมาคม.gif to /content/drive/MyDrive/Thesis/New added Video3/สมาคม.mp4\n",
            "Moviepy - Building video /content/drive/MyDrive/Thesis/New added Video3/ว่าง.mp4.\n",
            "Moviepy - Writing video /content/drive/MyDrive/Thesis/New added Video3/ว่าง.mp4\n",
            "\n"
          ]
        },
        {
          "output_type": "stream",
          "name": "stderr",
          "text": []
        },
        {
          "output_type": "stream",
          "name": "stdout",
          "text": [
            "Moviepy - Done !\n",
            "Moviepy - video ready /content/drive/MyDrive/Thesis/New added Video3/ว่าง.mp4\n",
            "Successfully converted /content/drive/MyDrive/Thesis/โหลดใหม่ ครั้งที่ 3/ว่าง.gif to /content/drive/MyDrive/Thesis/New added Video3/ว่าง.mp4\n",
            "Moviepy - Building video /content/drive/MyDrive/Thesis/New added Video3/กรรมการ.mp4.\n",
            "Moviepy - Writing video /content/drive/MyDrive/Thesis/New added Video3/กรรมการ.mp4\n",
            "\n"
          ]
        },
        {
          "output_type": "stream",
          "name": "stderr",
          "text": []
        },
        {
          "output_type": "stream",
          "name": "stdout",
          "text": [
            "Moviepy - Done !\n",
            "Moviepy - video ready /content/drive/MyDrive/Thesis/New added Video3/กรรมการ.mp4\n",
            "Successfully converted /content/drive/MyDrive/Thesis/โหลดใหม่ ครั้งที่ 3/กรรมการ.gif to /content/drive/MyDrive/Thesis/New added Video3/กรรมการ.mp4\n",
            "Moviepy - Building video /content/drive/MyDrive/Thesis/New added Video3/คณะกรรมการ.mp4.\n",
            "Moviepy - Writing video /content/drive/MyDrive/Thesis/New added Video3/คณะกรรมการ.mp4\n",
            "\n"
          ]
        },
        {
          "output_type": "stream",
          "name": "stderr",
          "text": []
        },
        {
          "output_type": "stream",
          "name": "stdout",
          "text": [
            "Moviepy - Done !\n",
            "Moviepy - video ready /content/drive/MyDrive/Thesis/New added Video3/คณะกรรมการ.mp4\n",
            "Successfully converted /content/drive/MyDrive/Thesis/โหลดใหม่ ครั้งที่ 3/คณะกรรมการ.gif to /content/drive/MyDrive/Thesis/New added Video3/คณะกรรมการ.mp4\n",
            "Moviepy - Building video /content/drive/MyDrive/Thesis/New added Video3/องค์การสหประชาชาติ.mp4.\n",
            "Moviepy - Writing video /content/drive/MyDrive/Thesis/New added Video3/องค์การสหประชาชาติ.mp4\n",
            "\n"
          ]
        },
        {
          "output_type": "stream",
          "name": "stderr",
          "text": []
        },
        {
          "output_type": "stream",
          "name": "stdout",
          "text": [
            "Moviepy - Done !\n",
            "Moviepy - video ready /content/drive/MyDrive/Thesis/New added Video3/องค์การสหประชาชาติ.mp4\n",
            "Successfully converted /content/drive/MyDrive/Thesis/โหลดใหม่ ครั้งที่ 3/องค์การสหประชาชาติ.gif to /content/drive/MyDrive/Thesis/New added Video3/องค์การสหประชาชาติ.mp4\n",
            "Moviepy - Building video /content/drive/MyDrive/Thesis/New added Video3/สหประชาชาติ.mp4.\n",
            "Moviepy - Writing video /content/drive/MyDrive/Thesis/New added Video3/สหประชาชาติ.mp4\n",
            "\n"
          ]
        },
        {
          "output_type": "stream",
          "name": "stderr",
          "text": []
        },
        {
          "output_type": "stream",
          "name": "stdout",
          "text": [
            "Moviepy - Done !\n",
            "Moviepy - video ready /content/drive/MyDrive/Thesis/New added Video3/สหประชาชาติ.mp4\n",
            "Successfully converted /content/drive/MyDrive/Thesis/โหลดใหม่ ครั้งที่ 3/สหประชาชาติ.gif to /content/drive/MyDrive/Thesis/New added Video3/สหประชาชาติ.mp4\n",
            "Moviepy - Building video /content/drive/MyDrive/Thesis/New added Video3/แกว่งชิงช้า.mp4.\n",
            "Moviepy - Writing video /content/drive/MyDrive/Thesis/New added Video3/แกว่งชิงช้า.mp4\n",
            "\n"
          ]
        },
        {
          "output_type": "stream",
          "name": "stderr",
          "text": []
        },
        {
          "output_type": "stream",
          "name": "stdout",
          "text": [
            "Moviepy - Done !\n",
            "Moviepy - video ready /content/drive/MyDrive/Thesis/New added Video3/แกว่งชิงช้า.mp4\n",
            "Successfully converted /content/drive/MyDrive/Thesis/โหลดใหม่ ครั้งที่ 3/แกว่งชิงช้า.gif to /content/drive/MyDrive/Thesis/New added Video3/แกว่งชิงช้า.mp4\n",
            "Moviepy - Building video /content/drive/MyDrive/Thesis/New added Video3/เท่าไร.mp4.\n",
            "Moviepy - Writing video /content/drive/MyDrive/Thesis/New added Video3/เท่าไร.mp4\n",
            "\n"
          ]
        },
        {
          "output_type": "stream",
          "name": "stderr",
          "text": []
        },
        {
          "output_type": "stream",
          "name": "stdout",
          "text": [
            "Moviepy - Done !\n",
            "Moviepy - video ready /content/drive/MyDrive/Thesis/New added Video3/เท่าไร.mp4\n",
            "Successfully converted /content/drive/MyDrive/Thesis/โหลดใหม่ ครั้งที่ 3/เท่าไร.gif to /content/drive/MyDrive/Thesis/New added Video3/เท่าไร.mp4\n",
            "Moviepy - Building video /content/drive/MyDrive/Thesis/New added Video3/เหลือเท่าไร.mp4.\n",
            "Moviepy - Writing video /content/drive/MyDrive/Thesis/New added Video3/เหลือเท่าไร.mp4\n",
            "\n"
          ]
        },
        {
          "output_type": "stream",
          "name": "stderr",
          "text": []
        },
        {
          "output_type": "stream",
          "name": "stdout",
          "text": [
            "Moviepy - Done !\n",
            "Moviepy - video ready /content/drive/MyDrive/Thesis/New added Video3/เหลือเท่าไร.mp4\n",
            "Successfully converted /content/drive/MyDrive/Thesis/โหลดใหม่ ครั้งที่ 3/เหลือเท่าไร.gif to /content/drive/MyDrive/Thesis/New added Video3/เหลือเท่าไร.mp4\n",
            "Moviepy - Building video /content/drive/MyDrive/Thesis/New added Video3/นครนายก.mp4.\n",
            "Moviepy - Writing video /content/drive/MyDrive/Thesis/New added Video3/นครนายก.mp4\n",
            "\n"
          ]
        },
        {
          "output_type": "stream",
          "name": "stderr",
          "text": []
        },
        {
          "output_type": "stream",
          "name": "stdout",
          "text": [
            "Moviepy - Done !\n",
            "Moviepy - video ready /content/drive/MyDrive/Thesis/New added Video3/นครนายก.mp4\n",
            "Successfully converted /content/drive/MyDrive/Thesis/โหลดใหม่ ครั้งที่ 3/นครนายก.gif to /content/drive/MyDrive/Thesis/New added Video3/นครนายก.mp4\n",
            "Moviepy - Building video /content/drive/MyDrive/Thesis/New added Video3/อุบลราชธานี.mp4.\n",
            "Moviepy - Writing video /content/drive/MyDrive/Thesis/New added Video3/อุบลราชธานี.mp4\n",
            "\n"
          ]
        },
        {
          "output_type": "stream",
          "name": "stderr",
          "text": []
        },
        {
          "output_type": "stream",
          "name": "stdout",
          "text": [
            "Moviepy - Done !\n",
            "Moviepy - video ready /content/drive/MyDrive/Thesis/New added Video3/อุบลราชธานี.mp4\n",
            "Successfully converted /content/drive/MyDrive/Thesis/โหลดใหม่ ครั้งที่ 3/อุบลราชธานี.gif to /content/drive/MyDrive/Thesis/New added Video3/อุบลราชธานี.mp4\n",
            "Moviepy - Building video /content/drive/MyDrive/Thesis/New added Video3/จันทบุรี.mp4.\n",
            "Moviepy - Writing video /content/drive/MyDrive/Thesis/New added Video3/จันทบุรี.mp4\n",
            "\n"
          ]
        },
        {
          "output_type": "stream",
          "name": "stderr",
          "text": []
        },
        {
          "output_type": "stream",
          "name": "stdout",
          "text": [
            "Moviepy - Done !\n",
            "Moviepy - video ready /content/drive/MyDrive/Thesis/New added Video3/จันทบุรี.mp4\n",
            "Successfully converted /content/drive/MyDrive/Thesis/โหลดใหม่ ครั้งที่ 3/จันทบุรี.gif to /content/drive/MyDrive/Thesis/New added Video3/จันทบุรี.mp4\n",
            "Moviepy - Building video /content/drive/MyDrive/Thesis/New added Video3/ฉะเชิงเทรา.mp4.\n",
            "Moviepy - Writing video /content/drive/MyDrive/Thesis/New added Video3/ฉะเชิงเทรา.mp4\n",
            "\n"
          ]
        },
        {
          "output_type": "stream",
          "name": "stderr",
          "text": []
        },
        {
          "output_type": "stream",
          "name": "stdout",
          "text": [
            "Moviepy - Done !\n",
            "Moviepy - video ready /content/drive/MyDrive/Thesis/New added Video3/ฉะเชิงเทรา.mp4\n",
            "Successfully converted /content/drive/MyDrive/Thesis/โหลดใหม่ ครั้งที่ 3/ฉะเชิงเทรา.gif to /content/drive/MyDrive/Thesis/New added Video3/ฉะเชิงเทรา.mp4\n",
            "Moviepy - Building video /content/drive/MyDrive/Thesis/New added Video3/ระนอง.mp4.\n",
            "Moviepy - Writing video /content/drive/MyDrive/Thesis/New added Video3/ระนอง.mp4\n",
            "\n"
          ]
        },
        {
          "output_type": "stream",
          "name": "stderr",
          "text": []
        },
        {
          "output_type": "stream",
          "name": "stdout",
          "text": [
            "Moviepy - Done !\n",
            "Moviepy - video ready /content/drive/MyDrive/Thesis/New added Video3/ระนอง.mp4\n",
            "Successfully converted /content/drive/MyDrive/Thesis/โหลดใหม่ ครั้งที่ 3/ระนอง.gif to /content/drive/MyDrive/Thesis/New added Video3/ระนอง.mp4\n",
            "Moviepy - Building video /content/drive/MyDrive/Thesis/New added Video3/ระยอง (ท่าที่1).mp4.\n",
            "Moviepy - Writing video /content/drive/MyDrive/Thesis/New added Video3/ระยอง (ท่าที่1).mp4\n",
            "\n"
          ]
        },
        {
          "output_type": "stream",
          "name": "stderr",
          "text": []
        },
        {
          "output_type": "stream",
          "name": "stdout",
          "text": [
            "Moviepy - Done !\n",
            "Moviepy - video ready /content/drive/MyDrive/Thesis/New added Video3/ระยอง (ท่าที่1).mp4\n",
            "Successfully converted /content/drive/MyDrive/Thesis/โหลดใหม่ ครั้งที่ 3/ระยอง (ท่าที่1).gif to /content/drive/MyDrive/Thesis/New added Video3/ระยอง (ท่าที่1).mp4\n",
            "Moviepy - Building video /content/drive/MyDrive/Thesis/New added Video3/สมุทรสงคราม.mp4.\n",
            "Moviepy - Writing video /content/drive/MyDrive/Thesis/New added Video3/สมุทรสงคราม.mp4\n",
            "\n"
          ]
        },
        {
          "output_type": "stream",
          "name": "stderr",
          "text": []
        },
        {
          "output_type": "stream",
          "name": "stdout",
          "text": [
            "Moviepy - Done !\n",
            "Moviepy - video ready /content/drive/MyDrive/Thesis/New added Video3/สมุทรสงคราม.mp4\n",
            "Successfully converted /content/drive/MyDrive/Thesis/โหลดใหม่ ครั้งที่ 3/สมุทรสงคราม.gif to /content/drive/MyDrive/Thesis/New added Video3/สมุทรสงคราม.mp4\n",
            "Moviepy - Building video /content/drive/MyDrive/Thesis/New added Video3/เชียงราย.mp4.\n",
            "Moviepy - Writing video /content/drive/MyDrive/Thesis/New added Video3/เชียงราย.mp4\n",
            "\n"
          ]
        },
        {
          "output_type": "stream",
          "name": "stderr",
          "text": []
        },
        {
          "output_type": "stream",
          "name": "stdout",
          "text": [
            "Moviepy - Done !\n",
            "Moviepy - video ready /content/drive/MyDrive/Thesis/New added Video3/เชียงราย.mp4\n",
            "Successfully converted /content/drive/MyDrive/Thesis/โหลดใหม่ ครั้งที่ 3/เชียงราย.gif to /content/drive/MyDrive/Thesis/New added Video3/เชียงราย.mp4\n",
            "Moviepy - Building video /content/drive/MyDrive/Thesis/New added Video3/อำนาจเจริญ.mp4.\n",
            "Moviepy - Writing video /content/drive/MyDrive/Thesis/New added Video3/อำนาจเจริญ.mp4\n",
            "\n"
          ]
        },
        {
          "output_type": "stream",
          "name": "stderr",
          "text": []
        },
        {
          "output_type": "stream",
          "name": "stdout",
          "text": [
            "Moviepy - Done !\n",
            "Moviepy - video ready /content/drive/MyDrive/Thesis/New added Video3/อำนาจเจริญ.mp4\n",
            "Successfully converted /content/drive/MyDrive/Thesis/โหลดใหม่ ครั้งที่ 3/อำนาจเจริญ.gif to /content/drive/MyDrive/Thesis/New added Video3/อำนาจเจริญ.mp4\n",
            "Moviepy - Building video /content/drive/MyDrive/Thesis/New added Video3/กระบี่.mp4.\n",
            "Moviepy - Writing video /content/drive/MyDrive/Thesis/New added Video3/กระบี่.mp4\n",
            "\n"
          ]
        },
        {
          "output_type": "stream",
          "name": "stderr",
          "text": []
        },
        {
          "output_type": "stream",
          "name": "stdout",
          "text": [
            "Moviepy - Done !\n",
            "Moviepy - video ready /content/drive/MyDrive/Thesis/New added Video3/กระบี่.mp4\n",
            "Successfully converted /content/drive/MyDrive/Thesis/โหลดใหม่ ครั้งที่ 3/กระบี่.gif to /content/drive/MyDrive/Thesis/New added Video3/กระบี่.mp4\n",
            "Moviepy - Building video /content/drive/MyDrive/Thesis/New added Video3/สมุทรปราการ.mp4.\n",
            "Moviepy - Writing video /content/drive/MyDrive/Thesis/New added Video3/สมุทรปราการ.mp4\n",
            "\n"
          ]
        },
        {
          "output_type": "stream",
          "name": "stderr",
          "text": []
        },
        {
          "output_type": "stream",
          "name": "stdout",
          "text": [
            "Moviepy - Done !\n",
            "Moviepy - video ready /content/drive/MyDrive/Thesis/New added Video3/สมุทรปราการ.mp4\n",
            "Successfully converted /content/drive/MyDrive/Thesis/โหลดใหม่ ครั้งที่ 3/สมุทรปราการ.gif to /content/drive/MyDrive/Thesis/New added Video3/สมุทรปราการ.mp4\n",
            "Moviepy - Building video /content/drive/MyDrive/Thesis/New added Video3/ประจวบคีรีขันธ์.mp4.\n",
            "Moviepy - Writing video /content/drive/MyDrive/Thesis/New added Video3/ประจวบคีรีขันธ์.mp4\n",
            "\n"
          ]
        },
        {
          "output_type": "stream",
          "name": "stderr",
          "text": []
        },
        {
          "output_type": "stream",
          "name": "stdout",
          "text": [
            "Moviepy - Done !\n",
            "Moviepy - video ready /content/drive/MyDrive/Thesis/New added Video3/ประจวบคีรีขันธ์.mp4\n",
            "Successfully converted /content/drive/MyDrive/Thesis/โหลดใหม่ ครั้งที่ 3/ประจวบคีรีขันธ์.gif to /content/drive/MyDrive/Thesis/New added Video3/ประจวบคีรีขันธ์.mp4\n",
            "Moviepy - Building video /content/drive/MyDrive/Thesis/New added Video3/ชลบุรี.mp4.\n",
            "Moviepy - Writing video /content/drive/MyDrive/Thesis/New added Video3/ชลบุรี.mp4\n",
            "\n"
          ]
        },
        {
          "output_type": "stream",
          "name": "stderr",
          "text": []
        },
        {
          "output_type": "stream",
          "name": "stdout",
          "text": [
            "Moviepy - Done !\n",
            "Moviepy - video ready /content/drive/MyDrive/Thesis/New added Video3/ชลบุรี.mp4\n",
            "Successfully converted /content/drive/MyDrive/Thesis/โหลดใหม่ ครั้งที่ 3/ชลบุรี.gif to /content/drive/MyDrive/Thesis/New added Video3/ชลบุรี.mp4\n",
            "Moviepy - Building video /content/drive/MyDrive/Thesis/New added Video3/สกลนคร.mp4.\n",
            "Moviepy - Writing video /content/drive/MyDrive/Thesis/New added Video3/สกลนคร.mp4\n",
            "\n"
          ]
        },
        {
          "output_type": "stream",
          "name": "stderr",
          "text": []
        },
        {
          "output_type": "stream",
          "name": "stdout",
          "text": [
            "Moviepy - Done !\n",
            "Moviepy - video ready /content/drive/MyDrive/Thesis/New added Video3/สกลนคร.mp4\n",
            "Successfully converted /content/drive/MyDrive/Thesis/โหลดใหม่ ครั้งที่ 3/สกลนคร.gif to /content/drive/MyDrive/Thesis/New added Video3/สกลนคร.mp4\n",
            "Moviepy - Building video /content/drive/MyDrive/Thesis/New added Video3/สมุทรสาคร.mp4.\n",
            "Moviepy - Writing video /content/drive/MyDrive/Thesis/New added Video3/สมุทรสาคร.mp4\n",
            "\n"
          ]
        },
        {
          "output_type": "stream",
          "name": "stderr",
          "text": []
        },
        {
          "output_type": "stream",
          "name": "stdout",
          "text": [
            "Moviepy - Done !\n",
            "Moviepy - video ready /content/drive/MyDrive/Thesis/New added Video3/สมุทรสาคร.mp4\n",
            "Successfully converted /content/drive/MyDrive/Thesis/โหลดใหม่ ครั้งที่ 3/สมุทรสาคร.gif to /content/drive/MyDrive/Thesis/New added Video3/สมุทรสาคร.mp4\n",
            "Moviepy - Building video /content/drive/MyDrive/Thesis/New added Video3/กาฬสินธุ์.mp4.\n",
            "Moviepy - Writing video /content/drive/MyDrive/Thesis/New added Video3/กาฬสินธุ์.mp4\n",
            "\n"
          ]
        },
        {
          "output_type": "stream",
          "name": "stderr",
          "text": []
        },
        {
          "output_type": "stream",
          "name": "stdout",
          "text": [
            "Moviepy - Done !\n",
            "Moviepy - video ready /content/drive/MyDrive/Thesis/New added Video3/กาฬสินธุ์.mp4\n",
            "Successfully converted /content/drive/MyDrive/Thesis/โหลดใหม่ ครั้งที่ 3/กาฬสินธุ์.gif to /content/drive/MyDrive/Thesis/New added Video3/กาฬสินธุ์.mp4\n",
            "Moviepy - Building video /content/drive/MyDrive/Thesis/New added Video3/กาญจนบุรี.mp4.\n",
            "Moviepy - Writing video /content/drive/MyDrive/Thesis/New added Video3/กาญจนบุรี.mp4\n",
            "\n"
          ]
        },
        {
          "output_type": "stream",
          "name": "stderr",
          "text": []
        },
        {
          "output_type": "stream",
          "name": "stdout",
          "text": [
            "Moviepy - Done !\n",
            "Moviepy - video ready /content/drive/MyDrive/Thesis/New added Video3/กาญจนบุรี.mp4\n",
            "Successfully converted /content/drive/MyDrive/Thesis/โหลดใหม่ ครั้งที่ 3/กาญจนบุรี.gif to /content/drive/MyDrive/Thesis/New added Video3/กาญจนบุรี.mp4\n",
            "Moviepy - Building video /content/drive/MyDrive/Thesis/New added Video3/พัทลุง.mp4.\n",
            "Moviepy - Writing video /content/drive/MyDrive/Thesis/New added Video3/พัทลุง.mp4\n",
            "\n"
          ]
        },
        {
          "output_type": "stream",
          "name": "stderr",
          "text": []
        },
        {
          "output_type": "stream",
          "name": "stdout",
          "text": [
            "Moviepy - Done !\n",
            "Moviepy - video ready /content/drive/MyDrive/Thesis/New added Video3/พัทลุง.mp4\n",
            "Successfully converted /content/drive/MyDrive/Thesis/โหลดใหม่ ครั้งที่ 3/พัทลุง.gif to /content/drive/MyDrive/Thesis/New added Video3/พัทลุง.mp4\n",
            "Moviepy - Building video /content/drive/MyDrive/Thesis/New added Video3/ยโสธร.mp4.\n",
            "Moviepy - Writing video /content/drive/MyDrive/Thesis/New added Video3/ยโสธร.mp4\n",
            "\n"
          ]
        },
        {
          "output_type": "stream",
          "name": "stderr",
          "text": []
        },
        {
          "output_type": "stream",
          "name": "stdout",
          "text": [
            "Moviepy - Done !\n",
            "Moviepy - video ready /content/drive/MyDrive/Thesis/New added Video3/ยโสธร.mp4\n",
            "Successfully converted /content/drive/MyDrive/Thesis/โหลดใหม่ ครั้งที่ 3/ยโสธร.gif to /content/drive/MyDrive/Thesis/New added Video3/ยโสธร.mp4\n",
            "Moviepy - Building video /content/drive/MyDrive/Thesis/New added Video3/เพชรบูรณ์.mp4.\n",
            "Moviepy - Writing video /content/drive/MyDrive/Thesis/New added Video3/เพชรบูรณ์.mp4\n",
            "\n"
          ]
        },
        {
          "output_type": "stream",
          "name": "stderr",
          "text": []
        },
        {
          "output_type": "stream",
          "name": "stdout",
          "text": [
            "Moviepy - Done !\n",
            "Moviepy - video ready /content/drive/MyDrive/Thesis/New added Video3/เพชรบูรณ์.mp4\n",
            "Successfully converted /content/drive/MyDrive/Thesis/โหลดใหม่ ครั้งที่ 3/เพชรบูรณ์.gif to /content/drive/MyDrive/Thesis/New added Video3/เพชรบูรณ์.mp4\n",
            "Moviepy - Building video /content/drive/MyDrive/Thesis/New added Video3/อ่างทอง.mp4.\n",
            "Moviepy - Writing video /content/drive/MyDrive/Thesis/New added Video3/อ่างทอง.mp4\n",
            "\n"
          ]
        },
        {
          "output_type": "stream",
          "name": "stderr",
          "text": []
        },
        {
          "output_type": "stream",
          "name": "stdout",
          "text": [
            "Moviepy - Done !\n",
            "Moviepy - video ready /content/drive/MyDrive/Thesis/New added Video3/อ่างทอง.mp4\n",
            "Successfully converted /content/drive/MyDrive/Thesis/โหลดใหม่ ครั้งที่ 3/อ่างทอง.gif to /content/drive/MyDrive/Thesis/New added Video3/อ่างทอง.mp4\n",
            "Moviepy - Building video /content/drive/MyDrive/Thesis/New added Video3/ชัยนาท.mp4.\n",
            "Moviepy - Writing video /content/drive/MyDrive/Thesis/New added Video3/ชัยนาท.mp4\n",
            "\n"
          ]
        },
        {
          "output_type": "stream",
          "name": "stderr",
          "text": []
        },
        {
          "output_type": "stream",
          "name": "stdout",
          "text": [
            "Moviepy - Done !\n",
            "Moviepy - video ready /content/drive/MyDrive/Thesis/New added Video3/ชัยนาท.mp4\n",
            "Successfully converted /content/drive/MyDrive/Thesis/โหลดใหม่ ครั้งที่ 3/ชัยนาท.gif to /content/drive/MyDrive/Thesis/New added Video3/ชัยนาท.mp4\n",
            "Moviepy - Building video /content/drive/MyDrive/Thesis/New added Video3/เชียงใหม่.mp4.\n",
            "Moviepy - Writing video /content/drive/MyDrive/Thesis/New added Video3/เชียงใหม่.mp4\n",
            "\n"
          ]
        },
        {
          "output_type": "stream",
          "name": "stderr",
          "text": []
        },
        {
          "output_type": "stream",
          "name": "stdout",
          "text": [
            "Moviepy - Done !\n",
            "Moviepy - video ready /content/drive/MyDrive/Thesis/New added Video3/เชียงใหม่.mp4\n",
            "Successfully converted /content/drive/MyDrive/Thesis/โหลดใหม่ ครั้งที่ 3/เชียงใหม่.gif to /content/drive/MyDrive/Thesis/New added Video3/เชียงใหม่.mp4\n",
            "Moviepy - Building video /content/drive/MyDrive/Thesis/New added Video3/สิงห์บุรี.mp4.\n",
            "Moviepy - Writing video /content/drive/MyDrive/Thesis/New added Video3/สิงห์บุรี.mp4\n",
            "\n"
          ]
        },
        {
          "output_type": "stream",
          "name": "stderr",
          "text": []
        },
        {
          "output_type": "stream",
          "name": "stdout",
          "text": [
            "Moviepy - Done !\n",
            "Moviepy - video ready /content/drive/MyDrive/Thesis/New added Video3/สิงห์บุรี.mp4\n",
            "Successfully converted /content/drive/MyDrive/Thesis/โหลดใหม่ ครั้งที่ 3/สิงห์บุรี.gif to /content/drive/MyDrive/Thesis/New added Video3/สิงห์บุรี.mp4\n",
            "Moviepy - Building video /content/drive/MyDrive/Thesis/New added Video3/พังงา.mp4.\n",
            "Moviepy - Writing video /content/drive/MyDrive/Thesis/New added Video3/พังงา.mp4\n",
            "\n"
          ]
        },
        {
          "output_type": "stream",
          "name": "stderr",
          "text": []
        },
        {
          "output_type": "stream",
          "name": "stdout",
          "text": [
            "Moviepy - Done !\n",
            "Moviepy - video ready /content/drive/MyDrive/Thesis/New added Video3/พังงา.mp4\n",
            "Successfully converted /content/drive/MyDrive/Thesis/โหลดใหม่ ครั้งที่ 3/พังงา.gif to /content/drive/MyDrive/Thesis/New added Video3/พังงา.mp4\n",
            "Moviepy - Building video /content/drive/MyDrive/Thesis/New added Video3/สระบุรี.mp4.\n",
            "Moviepy - Writing video /content/drive/MyDrive/Thesis/New added Video3/สระบุรี.mp4\n",
            "\n"
          ]
        },
        {
          "output_type": "stream",
          "name": "stderr",
          "text": []
        },
        {
          "output_type": "stream",
          "name": "stdout",
          "text": [
            "Moviepy - Done !\n",
            "Moviepy - video ready /content/drive/MyDrive/Thesis/New added Video3/สระบุรี.mp4\n",
            "Successfully converted /content/drive/MyDrive/Thesis/โหลดใหม่ ครั้งที่ 3/สระบุรี.gif to /content/drive/MyDrive/Thesis/New added Video3/สระบุรี.mp4\n",
            "Moviepy - Building video /content/drive/MyDrive/Thesis/New added Video3/ร้อยเอ็ด.mp4.\n",
            "Moviepy - Writing video /content/drive/MyDrive/Thesis/New added Video3/ร้อยเอ็ด.mp4\n",
            "\n"
          ]
        },
        {
          "output_type": "stream",
          "name": "stderr",
          "text": []
        },
        {
          "output_type": "stream",
          "name": "stdout",
          "text": [
            "Moviepy - Done !\n",
            "Moviepy - video ready /content/drive/MyDrive/Thesis/New added Video3/ร้อยเอ็ด.mp4\n",
            "Successfully converted /content/drive/MyDrive/Thesis/โหลดใหม่ ครั้งที่ 3/ร้อยเอ็ด.gif to /content/drive/MyDrive/Thesis/New added Video3/ร้อยเอ็ด.mp4\n",
            "Moviepy - Building video /content/drive/MyDrive/Thesis/New added Video3/ตราด.mp4.\n",
            "Moviepy - Writing video /content/drive/MyDrive/Thesis/New added Video3/ตราด.mp4\n",
            "\n"
          ]
        },
        {
          "output_type": "stream",
          "name": "stderr",
          "text": []
        },
        {
          "output_type": "stream",
          "name": "stdout",
          "text": [
            "Moviepy - Done !\n",
            "Moviepy - video ready /content/drive/MyDrive/Thesis/New added Video3/ตราด.mp4\n",
            "Successfully converted /content/drive/MyDrive/Thesis/โหลดใหม่ ครั้งที่ 3/ตราด.gif to /content/drive/MyDrive/Thesis/New added Video3/ตราด.mp4\n",
            "Moviepy - Building video /content/drive/MyDrive/Thesis/New added Video3/พิษณุโลก.mp4.\n",
            "Moviepy - Writing video /content/drive/MyDrive/Thesis/New added Video3/พิษณุโลก.mp4\n",
            "\n"
          ]
        },
        {
          "output_type": "stream",
          "name": "stderr",
          "text": []
        },
        {
          "output_type": "stream",
          "name": "stdout",
          "text": [
            "Moviepy - Done !\n",
            "Moviepy - video ready /content/drive/MyDrive/Thesis/New added Video3/พิษณุโลก.mp4\n",
            "Successfully converted /content/drive/MyDrive/Thesis/โหลดใหม่ ครั้งที่ 3/พิษณุโลก.gif to /content/drive/MyDrive/Thesis/New added Video3/พิษณุโลก.mp4\n",
            "Moviepy - Building video /content/drive/MyDrive/Thesis/New added Video3/เพชรบุรี.mp4.\n",
            "Moviepy - Writing video /content/drive/MyDrive/Thesis/New added Video3/เพชรบุรี.mp4\n",
            "\n"
          ]
        },
        {
          "output_type": "stream",
          "name": "stderr",
          "text": []
        },
        {
          "output_type": "stream",
          "name": "stdout",
          "text": [
            "Moviepy - Done !\n",
            "Moviepy - video ready /content/drive/MyDrive/Thesis/New added Video3/เพชรบุรี.mp4\n",
            "Successfully converted /content/drive/MyDrive/Thesis/โหลดใหม่ ครั้งที่ 3/เพชรบุรี.gif to /content/drive/MyDrive/Thesis/New added Video3/เพชรบุรี.mp4\n",
            "Moviepy - Building video /content/drive/MyDrive/Thesis/New added Video3/แพร่.mp4.\n",
            "Moviepy - Writing video /content/drive/MyDrive/Thesis/New added Video3/แพร่.mp4\n",
            "\n"
          ]
        },
        {
          "output_type": "stream",
          "name": "stderr",
          "text": []
        },
        {
          "output_type": "stream",
          "name": "stdout",
          "text": [
            "Moviepy - Done !\n",
            "Moviepy - video ready /content/drive/MyDrive/Thesis/New added Video3/แพร่.mp4\n",
            "Successfully converted /content/drive/MyDrive/Thesis/โหลดใหม่ ครั้งที่ 3/แพร่.gif to /content/drive/MyDrive/Thesis/New added Video3/แพร่.mp4\n",
            "Moviepy - Building video /content/drive/MyDrive/Thesis/New added Video3/อุทัยธานี.mp4.\n",
            "Moviepy - Writing video /content/drive/MyDrive/Thesis/New added Video3/อุทัยธานี.mp4\n",
            "\n"
          ]
        },
        {
          "output_type": "stream",
          "name": "stderr",
          "text": []
        },
        {
          "output_type": "stream",
          "name": "stdout",
          "text": [
            "Moviepy - Done !\n",
            "Moviepy - video ready /content/drive/MyDrive/Thesis/New added Video3/อุทัยธานี.mp4\n",
            "Successfully converted /content/drive/MyDrive/Thesis/โหลดใหม่ ครั้งที่ 3/อุทัยธานี.gif to /content/drive/MyDrive/Thesis/New added Video3/อุทัยธานี.mp4\n",
            "Moviepy - Building video /content/drive/MyDrive/Thesis/New added Video3/สุรินทร์.mp4.\n",
            "Moviepy - Writing video /content/drive/MyDrive/Thesis/New added Video3/สุรินทร์.mp4\n",
            "\n"
          ]
        },
        {
          "output_type": "stream",
          "name": "stderr",
          "text": []
        },
        {
          "output_type": "stream",
          "name": "stdout",
          "text": [
            "Moviepy - Done !\n",
            "Moviepy - video ready /content/drive/MyDrive/Thesis/New added Video3/สุรินทร์.mp4\n",
            "Successfully converted /content/drive/MyDrive/Thesis/โหลดใหม่ ครั้งที่ 3/สุรินทร์.gif to /content/drive/MyDrive/Thesis/New added Video3/สุรินทร์.mp4\n",
            "Moviepy - Building video /content/drive/MyDrive/Thesis/New added Video3/มหาสารคาม.mp4.\n",
            "Moviepy - Writing video /content/drive/MyDrive/Thesis/New added Video3/มหาสารคาม.mp4\n",
            "\n"
          ]
        },
        {
          "output_type": "stream",
          "name": "stderr",
          "text": []
        },
        {
          "output_type": "stream",
          "name": "stdout",
          "text": [
            "Moviepy - Done !\n",
            "Moviepy - video ready /content/drive/MyDrive/Thesis/New added Video3/มหาสารคาม.mp4\n",
            "Successfully converted /content/drive/MyDrive/Thesis/โหลดใหม่ ครั้งที่ 3/มหาสารคาม.gif to /content/drive/MyDrive/Thesis/New added Video3/มหาสารคาม.mp4\n",
            "Moviepy - Building video /content/drive/MyDrive/Thesis/New added Video3/ภาคตะวันออกเฉียงเหนือ.mp4.\n",
            "Moviepy - Writing video /content/drive/MyDrive/Thesis/New added Video3/ภาคตะวันออกเฉียงเหนือ.mp4\n",
            "\n"
          ]
        },
        {
          "output_type": "stream",
          "name": "stderr",
          "text": []
        },
        {
          "output_type": "stream",
          "name": "stdout",
          "text": [
            "Moviepy - Done !\n",
            "Moviepy - video ready /content/drive/MyDrive/Thesis/New added Video3/ภาคตะวันออกเฉียงเหนือ.mp4\n",
            "Successfully converted /content/drive/MyDrive/Thesis/โหลดใหม่ ครั้งที่ 3/ภาคตะวันออกเฉียงเหนือ.gif to /content/drive/MyDrive/Thesis/New added Video3/ภาคตะวันออกเฉียงเหนือ.mp4\n",
            "Moviepy - Building video /content/drive/MyDrive/Thesis/New added Video3/ลำปาง.mp4.\n",
            "Moviepy - Writing video /content/drive/MyDrive/Thesis/New added Video3/ลำปาง.mp4\n",
            "\n"
          ]
        },
        {
          "output_type": "stream",
          "name": "stderr",
          "text": []
        },
        {
          "output_type": "stream",
          "name": "stdout",
          "text": [
            "Moviepy - Done !\n",
            "Moviepy - video ready /content/drive/MyDrive/Thesis/New added Video3/ลำปาง.mp4\n",
            "Successfully converted /content/drive/MyDrive/Thesis/โหลดใหม่ ครั้งที่ 3/ลำปาง.gif to /content/drive/MyDrive/Thesis/New added Video3/ลำปาง.mp4\n",
            "Moviepy - Building video /content/drive/MyDrive/Thesis/New added Video3/ตาก.mp4.\n",
            "Moviepy - Writing video /content/drive/MyDrive/Thesis/New added Video3/ตาก.mp4\n",
            "\n"
          ]
        },
        {
          "output_type": "stream",
          "name": "stderr",
          "text": []
        },
        {
          "output_type": "stream",
          "name": "stdout",
          "text": [
            "Moviepy - Done !\n",
            "Moviepy - video ready /content/drive/MyDrive/Thesis/New added Video3/ตาก.mp4\n",
            "Successfully converted /content/drive/MyDrive/Thesis/โหลดใหม่ ครั้งที่ 3/ตาก.gif to /content/drive/MyDrive/Thesis/New added Video3/ตาก.mp4\n",
            "Moviepy - Building video /content/drive/MyDrive/Thesis/New added Video3/ชุมพร.mp4.\n",
            "Moviepy - Writing video /content/drive/MyDrive/Thesis/New added Video3/ชุมพร.mp4\n",
            "\n"
          ]
        },
        {
          "output_type": "stream",
          "name": "stderr",
          "text": []
        },
        {
          "output_type": "stream",
          "name": "stdout",
          "text": [
            "Moviepy - Done !\n",
            "Moviepy - video ready /content/drive/MyDrive/Thesis/New added Video3/ชุมพร.mp4\n",
            "Successfully converted /content/drive/MyDrive/Thesis/โหลดใหม่ ครั้งที่ 3/ชุมพร.gif to /content/drive/MyDrive/Thesis/New added Video3/ชุมพร.mp4\n",
            "Moviepy - Building video /content/drive/MyDrive/Thesis/New added Video3/พะเยา.mp4.\n",
            "Moviepy - Writing video /content/drive/MyDrive/Thesis/New added Video3/พะเยา.mp4\n",
            "\n"
          ]
        },
        {
          "output_type": "stream",
          "name": "stderr",
          "text": []
        },
        {
          "output_type": "stream",
          "name": "stdout",
          "text": [
            "Moviepy - Done !\n",
            "Moviepy - video ready /content/drive/MyDrive/Thesis/New added Video3/พะเยา.mp4\n",
            "Successfully converted /content/drive/MyDrive/Thesis/โหลดใหม่ ครั้งที่ 3/พะเยา.gif to /content/drive/MyDrive/Thesis/New added Video3/พะเยา.mp4\n",
            "Moviepy - Building video /content/drive/MyDrive/Thesis/New added Video3/ราชบุรี.mp4.\n",
            "Moviepy - Writing video /content/drive/MyDrive/Thesis/New added Video3/ราชบุรี.mp4\n",
            "\n"
          ]
        },
        {
          "output_type": "stream",
          "name": "stderr",
          "text": []
        },
        {
          "output_type": "stream",
          "name": "stdout",
          "text": [
            "Moviepy - Done !\n",
            "Moviepy - video ready /content/drive/MyDrive/Thesis/New added Video3/ราชบุรี.mp4\n",
            "Successfully converted /content/drive/MyDrive/Thesis/โหลดใหม่ ครั้งที่ 3/ราชบุรี.gif to /content/drive/MyDrive/Thesis/New added Video3/ราชบุรี.mp4\n",
            "Moviepy - Building video /content/drive/MyDrive/Thesis/New added Video3/นครศรีธรรมราช.mp4.\n",
            "Moviepy - Writing video /content/drive/MyDrive/Thesis/New added Video3/นครศรีธรรมราช.mp4\n",
            "\n"
          ]
        },
        {
          "output_type": "stream",
          "name": "stderr",
          "text": []
        },
        {
          "output_type": "stream",
          "name": "stdout",
          "text": [
            "Moviepy - Done !\n",
            "Moviepy - video ready /content/drive/MyDrive/Thesis/New added Video3/นครศรีธรรมราช.mp4\n",
            "Successfully converted /content/drive/MyDrive/Thesis/โหลดใหม่ ครั้งที่ 3/นครศรีธรรมราช.gif to /content/drive/MyDrive/Thesis/New added Video3/นครศรีธรรมราช.mp4\n",
            "Moviepy - Building video /content/drive/MyDrive/Thesis/New added Video3/กรุงเทพฯ.mp4.\n",
            "Moviepy - Writing video /content/drive/MyDrive/Thesis/New added Video3/กรุงเทพฯ.mp4\n",
            "\n"
          ]
        },
        {
          "output_type": "stream",
          "name": "stderr",
          "text": []
        },
        {
          "output_type": "stream",
          "name": "stdout",
          "text": [
            "Moviepy - Done !\n",
            "Moviepy - video ready /content/drive/MyDrive/Thesis/New added Video3/กรุงเทพฯ.mp4\n",
            "Successfully converted /content/drive/MyDrive/Thesis/โหลดใหม่ ครั้งที่ 3/กรุงเทพฯ.gif to /content/drive/MyDrive/Thesis/New added Video3/กรุงเทพฯ.mp4\n",
            "Moviepy - Building video /content/drive/MyDrive/Thesis/New added Video3/สตูล.mp4.\n",
            "Moviepy - Writing video /content/drive/MyDrive/Thesis/New added Video3/สตูล.mp4\n",
            "\n"
          ]
        },
        {
          "output_type": "stream",
          "name": "stderr",
          "text": []
        },
        {
          "output_type": "stream",
          "name": "stdout",
          "text": [
            "Moviepy - Done !\n",
            "Moviepy - video ready /content/drive/MyDrive/Thesis/New added Video3/สตูล.mp4\n",
            "Successfully converted /content/drive/MyDrive/Thesis/โหลดใหม่ ครั้งที่ 3/สตูล.gif to /content/drive/MyDrive/Thesis/New added Video3/สตูล.mp4\n",
            "Moviepy - Building video /content/drive/MyDrive/Thesis/New added Video3/กำแพงเพชร.mp4.\n",
            "Moviepy - Writing video /content/drive/MyDrive/Thesis/New added Video3/กำแพงเพชร.mp4\n",
            "\n"
          ]
        },
        {
          "output_type": "stream",
          "name": "stderr",
          "text": []
        },
        {
          "output_type": "stream",
          "name": "stdout",
          "text": [
            "Moviepy - Done !\n",
            "Moviepy - video ready /content/drive/MyDrive/Thesis/New added Video3/กำแพงเพชร.mp4\n",
            "Successfully converted /content/drive/MyDrive/Thesis/โหลดใหม่ ครั้งที่ 3/กำแพงเพชร.gif to /content/drive/MyDrive/Thesis/New added Video3/กำแพงเพชร.mp4\n",
            "Moviepy - Building video /content/drive/MyDrive/Thesis/New added Video3/นนทบุรี.mp4.\n",
            "Moviepy - Writing video /content/drive/MyDrive/Thesis/New added Video3/นนทบุรี.mp4\n",
            "\n"
          ]
        },
        {
          "output_type": "stream",
          "name": "stderr",
          "text": []
        },
        {
          "output_type": "stream",
          "name": "stdout",
          "text": [
            "Moviepy - Done !\n",
            "Moviepy - video ready /content/drive/MyDrive/Thesis/New added Video3/นนทบุรี.mp4\n",
            "Successfully converted /content/drive/MyDrive/Thesis/โหลดใหม่ ครั้งที่ 3/นนทบุรี.gif to /content/drive/MyDrive/Thesis/New added Video3/นนทบุรี.mp4\n",
            "Moviepy - Building video /content/drive/MyDrive/Thesis/New added Video3/ปราจีนบุรี.mp4.\n",
            "Moviepy - Writing video /content/drive/MyDrive/Thesis/New added Video3/ปราจีนบุรี.mp4\n",
            "\n"
          ]
        },
        {
          "output_type": "stream",
          "name": "stderr",
          "text": []
        },
        {
          "output_type": "stream",
          "name": "stdout",
          "text": [
            "Moviepy - Done !\n",
            "Moviepy - video ready /content/drive/MyDrive/Thesis/New added Video3/ปราจีนบุรี.mp4\n",
            "Successfully converted /content/drive/MyDrive/Thesis/โหลดใหม่ ครั้งที่ 3/ปราจีนบุรี.gif to /content/drive/MyDrive/Thesis/New added Video3/ปราจีนบุรี.mp4\n",
            "Moviepy - Building video /content/drive/MyDrive/Thesis/New added Video3/หนองบัวลำภู (จังหวัด).mp4.\n",
            "Moviepy - Writing video /content/drive/MyDrive/Thesis/New added Video3/หนองบัวลำภู (จังหวัด).mp4\n",
            "\n"
          ]
        },
        {
          "output_type": "stream",
          "name": "stderr",
          "text": []
        },
        {
          "output_type": "stream",
          "name": "stdout",
          "text": [
            "Moviepy - Done !\n",
            "Moviepy - video ready /content/drive/MyDrive/Thesis/New added Video3/หนองบัวลำภู (จังหวัด).mp4\n",
            "Successfully converted /content/drive/MyDrive/Thesis/โหลดใหม่ ครั้งที่ 3/หนองบัวลำภู (จังหวัด).gif to /content/drive/MyDrive/Thesis/New added Video3/หนองบัวลำภู (จังหวัด).mp4\n",
            "Moviepy - Building video /content/drive/MyDrive/Thesis/New added Video3/หนองคาย.mp4.\n",
            "Moviepy - Writing video /content/drive/MyDrive/Thesis/New added Video3/หนองคาย.mp4\n",
            "\n"
          ]
        },
        {
          "output_type": "stream",
          "name": "stderr",
          "text": []
        },
        {
          "output_type": "stream",
          "name": "stdout",
          "text": [
            "Moviepy - Done !\n",
            "Moviepy - video ready /content/drive/MyDrive/Thesis/New added Video3/หนองคาย.mp4\n",
            "Successfully converted /content/drive/MyDrive/Thesis/โหลดใหม่ ครั้งที่ 3/หนองคาย.gif to /content/drive/MyDrive/Thesis/New added Video3/หนองคาย.mp4\n",
            "Moviepy - Building video /content/drive/MyDrive/Thesis/New added Video3/นครปฐม.mp4.\n",
            "Moviepy - Writing video /content/drive/MyDrive/Thesis/New added Video3/นครปฐม.mp4\n",
            "\n"
          ]
        },
        {
          "output_type": "stream",
          "name": "stderr",
          "text": []
        },
        {
          "output_type": "stream",
          "name": "stdout",
          "text": [
            "Moviepy - Done !\n",
            "Moviepy - video ready /content/drive/MyDrive/Thesis/New added Video3/นครปฐม.mp4\n",
            "Successfully converted /content/drive/MyDrive/Thesis/โหลดใหม่ ครั้งที่ 3/นครปฐม.gif to /content/drive/MyDrive/Thesis/New added Video3/นครปฐม.mp4\n",
            "Moviepy - Building video /content/drive/MyDrive/Thesis/New added Video3/น่าน.mp4.\n",
            "Moviepy - Writing video /content/drive/MyDrive/Thesis/New added Video3/น่าน.mp4\n",
            "\n"
          ]
        },
        {
          "output_type": "stream",
          "name": "stderr",
          "text": []
        },
        {
          "output_type": "stream",
          "name": "stdout",
          "text": [
            "Moviepy - Done !\n",
            "Moviepy - video ready /content/drive/MyDrive/Thesis/New added Video3/น่าน.mp4\n",
            "Successfully converted /content/drive/MyDrive/Thesis/โหลดใหม่ ครั้งที่ 3/น่าน.gif to /content/drive/MyDrive/Thesis/New added Video3/น่าน.mp4\n",
            "Moviepy - Building video /content/drive/MyDrive/Thesis/New added Video3/ไม่เป็นไร.mp4.\n",
            "Moviepy - Writing video /content/drive/MyDrive/Thesis/New added Video3/ไม่เป็นไร.mp4\n",
            "\n"
          ]
        },
        {
          "output_type": "stream",
          "name": "stderr",
          "text": []
        },
        {
          "output_type": "stream",
          "name": "stdout",
          "text": [
            "Moviepy - Done !\n",
            "Moviepy - video ready /content/drive/MyDrive/Thesis/New added Video3/ไม่เป็นไร.mp4\n",
            "Successfully converted /content/drive/MyDrive/Thesis/โหลดใหม่ ครั้งที่ 3/ไม่เป็นไร.gif to /content/drive/MyDrive/Thesis/New added Video3/ไม่เป็นไร.mp4\n",
            "Moviepy - Building video /content/drive/MyDrive/Thesis/New added Video3/สวัสดี.mp4.\n",
            "Moviepy - Writing video /content/drive/MyDrive/Thesis/New added Video3/สวัสดี.mp4\n",
            "\n"
          ]
        },
        {
          "output_type": "stream",
          "name": "stderr",
          "text": []
        },
        {
          "output_type": "stream",
          "name": "stdout",
          "text": [
            "Moviepy - Done !\n",
            "Moviepy - video ready /content/drive/MyDrive/Thesis/New added Video3/สวัสดี.mp4\n",
            "Successfully converted /content/drive/MyDrive/Thesis/โหลดใหม่ ครั้งที่ 3/สวัสดี.gif to /content/drive/MyDrive/Thesis/New added Video3/สวัสดี.mp4\n",
            "Moviepy - Building video /content/drive/MyDrive/Thesis/New added Video3/เงินสด.mp4.\n",
            "Moviepy - Writing video /content/drive/MyDrive/Thesis/New added Video3/เงินสด.mp4\n",
            "\n"
          ]
        },
        {
          "output_type": "stream",
          "name": "stderr",
          "text": []
        },
        {
          "output_type": "stream",
          "name": "stdout",
          "text": [
            "Moviepy - Done !\n",
            "Moviepy - video ready /content/drive/MyDrive/Thesis/New added Video3/เงินสด.mp4\n",
            "Successfully converted /content/drive/MyDrive/Thesis/โหลดใหม่ ครั้งที่ 3/เงินสด.gif to /content/drive/MyDrive/Thesis/New added Video3/เงินสด.mp4\n",
            "Moviepy - Building video /content/drive/MyDrive/Thesis/New added Video3/บิน (ใช้กับเฮลิคอปเตอร์).mp4.\n",
            "Moviepy - Writing video /content/drive/MyDrive/Thesis/New added Video3/บิน (ใช้กับเฮลิคอปเตอร์).mp4\n",
            "\n"
          ]
        },
        {
          "output_type": "stream",
          "name": "stderr",
          "text": []
        },
        {
          "output_type": "stream",
          "name": "stdout",
          "text": [
            "Moviepy - Done !\n",
            "Moviepy - video ready /content/drive/MyDrive/Thesis/New added Video3/บิน (ใช้กับเฮลิคอปเตอร์).mp4\n",
            "Successfully converted /content/drive/MyDrive/Thesis/โหลดใหม่ ครั้งที่ 3/บิน (ใช้กับเฮลิคอปเตอร์).gif to /content/drive/MyDrive/Thesis/New added Video3/บิน (ใช้กับเฮลิคอปเตอร์).mp4\n",
            "Moviepy - Building video /content/drive/MyDrive/Thesis/New added Video3/เอา.mp4.\n",
            "Moviepy - Writing video /content/drive/MyDrive/Thesis/New added Video3/เอา.mp4\n",
            "\n"
          ]
        },
        {
          "output_type": "stream",
          "name": "stderr",
          "text": []
        },
        {
          "output_type": "stream",
          "name": "stdout",
          "text": [
            "Moviepy - Done !\n",
            "Moviepy - video ready /content/drive/MyDrive/Thesis/New added Video3/เอา.mp4\n",
            "Successfully converted /content/drive/MyDrive/Thesis/โหลดใหม่ ครั้งที่ 3/เอา.gif to /content/drive/MyDrive/Thesis/New added Video3/เอา.mp4\n",
            "Moviepy - Building video /content/drive/MyDrive/Thesis/New added Video3/อีก.mp4.\n",
            "Moviepy - Writing video /content/drive/MyDrive/Thesis/New added Video3/อีก.mp4\n",
            "\n"
          ]
        },
        {
          "output_type": "stream",
          "name": "stderr",
          "text": []
        },
        {
          "output_type": "stream",
          "name": "stdout",
          "text": [
            "Moviepy - Done !\n",
            "Moviepy - video ready /content/drive/MyDrive/Thesis/New added Video3/อีก.mp4\n",
            "Successfully converted /content/drive/MyDrive/Thesis/โหลดใหม่ ครั้งที่ 3/อีก.gif to /content/drive/MyDrive/Thesis/New added Video3/อีก.mp4\n",
            "Moviepy - Building video /content/drive/MyDrive/Thesis/New added Video3/ผู้เอาประกันภัย.mp4.\n",
            "Moviepy - Writing video /content/drive/MyDrive/Thesis/New added Video3/ผู้เอาประกันภัย.mp4\n",
            "\n"
          ]
        },
        {
          "output_type": "stream",
          "name": "stderr",
          "text": []
        },
        {
          "output_type": "stream",
          "name": "stdout",
          "text": [
            "Moviepy - Done !\n",
            "Moviepy - video ready /content/drive/MyDrive/Thesis/New added Video3/ผู้เอาประกันภัย.mp4\n",
            "Successfully converted /content/drive/MyDrive/Thesis/โหลดใหม่ ครั้งที่ 3/ผู้เอาประกันภัย.gif to /content/drive/MyDrive/Thesis/New added Video3/ผู้เอาประกันภัย.mp4\n",
            "Moviepy - Building video /content/drive/MyDrive/Thesis/New added Video3/เอาใจใส่.mp4.\n",
            "Moviepy - Writing video /content/drive/MyDrive/Thesis/New added Video3/เอาใจใส่.mp4\n",
            "\n"
          ]
        },
        {
          "output_type": "stream",
          "name": "stderr",
          "text": []
        },
        {
          "output_type": "stream",
          "name": "stdout",
          "text": [
            "Moviepy - Done !\n",
            "Moviepy - video ready /content/drive/MyDrive/Thesis/New added Video3/เอาใจใส่.mp4\n",
            "Successfully converted /content/drive/MyDrive/Thesis/โหลดใหม่ ครั้งที่ 3/เอาใจใส่.gif to /content/drive/MyDrive/Thesis/New added Video3/เอาใจใส่.mp4\n",
            "Moviepy - Building video /content/drive/MyDrive/Thesis/New added Video3/ใกล้.mp4.\n",
            "Moviepy - Writing video /content/drive/MyDrive/Thesis/New added Video3/ใกล้.mp4\n",
            "\n"
          ]
        },
        {
          "output_type": "stream",
          "name": "stderr",
          "text": []
        },
        {
          "output_type": "stream",
          "name": "stdout",
          "text": [
            "Moviepy - Done !\n",
            "Moviepy - video ready /content/drive/MyDrive/Thesis/New added Video3/ใกล้.mp4\n",
            "Successfully converted /content/drive/MyDrive/Thesis/โหลดใหม่ ครั้งที่ 3/ใกล้.gif to /content/drive/MyDrive/Thesis/New added Video3/ใกล้.mp4\n",
            "Moviepy - Building video /content/drive/MyDrive/Thesis/New added Video3/ใกล้แค่นี้.mp4.\n",
            "Moviepy - Writing video /content/drive/MyDrive/Thesis/New added Video3/ใกล้แค่นี้.mp4\n",
            "\n"
          ]
        },
        {
          "output_type": "stream",
          "name": "stderr",
          "text": []
        },
        {
          "output_type": "stream",
          "name": "stdout",
          "text": [
            "Moviepy - Done !\n",
            "Moviepy - video ready /content/drive/MyDrive/Thesis/New added Video3/ใกล้แค่นี้.mp4\n",
            "Successfully converted /content/drive/MyDrive/Thesis/โหลดใหม่ ครั้งที่ 3/ใกล้แค่นี้.gif to /content/drive/MyDrive/Thesis/New added Video3/ใกล้แค่นี้.mp4\n",
            "Moviepy - Building video /content/drive/MyDrive/Thesis/New added Video3/เกาะสมุย.mp4.\n",
            "Moviepy - Writing video /content/drive/MyDrive/Thesis/New added Video3/เกาะสมุย.mp4\n",
            "\n"
          ]
        },
        {
          "output_type": "stream",
          "name": "stderr",
          "text": []
        },
        {
          "output_type": "stream",
          "name": "stdout",
          "text": [
            "Moviepy - Done !\n",
            "Moviepy - video ready /content/drive/MyDrive/Thesis/New added Video3/เกาะสมุย.mp4\n",
            "Successfully converted /content/drive/MyDrive/Thesis/โหลดใหม่ ครั้งที่ 3/เกาะสมุย.gif to /content/drive/MyDrive/Thesis/New added Video3/เกาะสมุย.mp4\n",
            "Moviepy - Building video /content/drive/MyDrive/Thesis/New added Video3/ปลอดภัย.mp4.\n",
            "Moviepy - Writing video /content/drive/MyDrive/Thesis/New added Video3/ปลอดภัย.mp4\n",
            "\n"
          ]
        },
        {
          "output_type": "stream",
          "name": "stderr",
          "text": []
        },
        {
          "output_type": "stream",
          "name": "stdout",
          "text": [
            "Moviepy - Done !\n",
            "Moviepy - video ready /content/drive/MyDrive/Thesis/New added Video3/ปลอดภัย.mp4\n",
            "Successfully converted /content/drive/MyDrive/Thesis/โหลดใหม่ ครั้งที่ 3/ปลอดภัย.gif to /content/drive/MyDrive/Thesis/New added Video3/ปลอดภัย.mp4\n",
            "Moviepy - Building video /content/drive/MyDrive/Thesis/New added Video3/ยามรักษาความปลอดภัย.mp4.\n",
            "Moviepy - Writing video /content/drive/MyDrive/Thesis/New added Video3/ยามรักษาความปลอดภัย.mp4\n",
            "\n"
          ]
        },
        {
          "output_type": "stream",
          "name": "stderr",
          "text": []
        },
        {
          "output_type": "stream",
          "name": "stdout",
          "text": [
            "Moviepy - Done !\n",
            "Moviepy - video ready /content/drive/MyDrive/Thesis/New added Video3/ยามรักษาความปลอดภัย.mp4\n",
            "Successfully converted /content/drive/MyDrive/Thesis/โหลดใหม่ ครั้งที่ 3/ยามรักษาความปลอดภัย.gif to /content/drive/MyDrive/Thesis/New added Video3/ยามรักษาความปลอดภัย.mp4\n",
            "Moviepy - Building video /content/drive/MyDrive/Thesis/New added Video3/สั้น.mp4.\n",
            "Moviepy - Writing video /content/drive/MyDrive/Thesis/New added Video3/สั้น.mp4\n",
            "\n"
          ]
        },
        {
          "output_type": "stream",
          "name": "stderr",
          "text": []
        },
        {
          "output_type": "stream",
          "name": "stdout",
          "text": [
            "Moviepy - Done !\n",
            "Moviepy - video ready /content/drive/MyDrive/Thesis/New added Video3/สั้น.mp4\n",
            "Successfully converted /content/drive/MyDrive/Thesis/โหลดใหม่ ครั้งที่ 3/สั้น.gif to /content/drive/MyDrive/Thesis/New added Video3/สั้น.mp4\n",
            "Moviepy - Building video /content/drive/MyDrive/Thesis/New added Video3/กล้องวงจรปิด.mp4.\n",
            "Moviepy - Writing video /content/drive/MyDrive/Thesis/New added Video3/กล้องวงจรปิด.mp4\n",
            "\n"
          ]
        },
        {
          "output_type": "stream",
          "name": "stderr",
          "text": []
        },
        {
          "output_type": "stream",
          "name": "stdout",
          "text": [
            "Moviepy - Done !\n",
            "Moviepy - video ready /content/drive/MyDrive/Thesis/New added Video3/กล้องวงจรปิด.mp4\n",
            "Successfully converted /content/drive/MyDrive/Thesis/โหลดใหม่ ครั้งที่ 3/กล้องวงจรปิด.gif to /content/drive/MyDrive/Thesis/New added Video3/กล้องวงจรปิด.mp4\n",
            "Moviepy - Building video /content/drive/MyDrive/Thesis/New added Video3/โทรศัพท์มือถือ.mp4.\n",
            "Moviepy - Writing video /content/drive/MyDrive/Thesis/New added Video3/โทรศัพท์มือถือ.mp4\n",
            "\n"
          ]
        },
        {
          "output_type": "stream",
          "name": "stderr",
          "text": []
        },
        {
          "output_type": "stream",
          "name": "stdout",
          "text": [
            "Moviepy - Done !\n",
            "Moviepy - video ready /content/drive/MyDrive/Thesis/New added Video3/โทรศัพท์มือถือ.mp4\n",
            "Successfully converted /content/drive/MyDrive/Thesis/โหลดใหม่ ครั้งที่ 3/โทรศัพท์มือถือ.gif to /content/drive/MyDrive/Thesis/New added Video3/โทรศัพท์มือถือ.mp4\n",
            "Moviepy - Building video /content/drive/MyDrive/Thesis/New added Video3/อุปกรณ์.mp4.\n",
            "Moviepy - Writing video /content/drive/MyDrive/Thesis/New added Video3/อุปกรณ์.mp4\n",
            "\n"
          ]
        },
        {
          "output_type": "stream",
          "name": "stderr",
          "text": []
        },
        {
          "output_type": "stream",
          "name": "stdout",
          "text": [
            "Moviepy - Done !\n",
            "Moviepy - video ready /content/drive/MyDrive/Thesis/New added Video3/อุปกรณ์.mp4\n",
            "Successfully converted /content/drive/MyDrive/Thesis/โหลดใหม่ ครั้งที่ 3/อุปกรณ์.gif to /content/drive/MyDrive/Thesis/New added Video3/อุปกรณ์.mp4\n",
            "Moviepy - Building video /content/drive/MyDrive/Thesis/New added Video3/ช่วย.mp4.\n",
            "Moviepy - Writing video /content/drive/MyDrive/Thesis/New added Video3/ช่วย.mp4\n",
            "\n"
          ]
        },
        {
          "output_type": "stream",
          "name": "stderr",
          "text": []
        },
        {
          "output_type": "stream",
          "name": "stdout",
          "text": [
            "Moviepy - Done !\n",
            "Moviepy - video ready /content/drive/MyDrive/Thesis/New added Video3/ช่วย.mp4\n",
            "Successfully converted /content/drive/MyDrive/Thesis/โหลดใหม่ ครั้งที่ 3/ช่วย.gif to /content/drive/MyDrive/Thesis/New added Video3/ช่วย.mp4\n",
            "Moviepy - Building video /content/drive/MyDrive/Thesis/New added Video3/ผู้ช่วยธุรการ.mp4.\n",
            "Moviepy - Writing video /content/drive/MyDrive/Thesis/New added Video3/ผู้ช่วยธุรการ.mp4\n",
            "\n"
          ]
        },
        {
          "output_type": "stream",
          "name": "stderr",
          "text": []
        },
        {
          "output_type": "stream",
          "name": "stdout",
          "text": [
            "Moviepy - Done !\n",
            "Moviepy - video ready /content/drive/MyDrive/Thesis/New added Video3/ผู้ช่วยธุรการ.mp4\n",
            "Successfully converted /content/drive/MyDrive/Thesis/โหลดใหม่ ครั้งที่ 3/ผู้ช่วยธุรการ.gif to /content/drive/MyDrive/Thesis/New added Video3/ผู้ช่วยธุรการ.mp4\n",
            "Moviepy - Building video /content/drive/MyDrive/Thesis/New added Video3/ช่วยเหลือ.mp4.\n",
            "Moviepy - Writing video /content/drive/MyDrive/Thesis/New added Video3/ช่วยเหลือ.mp4\n",
            "\n"
          ]
        },
        {
          "output_type": "stream",
          "name": "stderr",
          "text": []
        },
        {
          "output_type": "stream",
          "name": "stdout",
          "text": [
            "Moviepy - Done !\n",
            "Moviepy - video ready /content/drive/MyDrive/Thesis/New added Video3/ช่วยเหลือ.mp4\n",
            "Successfully converted /content/drive/MyDrive/Thesis/โหลดใหม่ ครั้งที่ 3/ช่วยเหลือ.gif to /content/drive/MyDrive/Thesis/New added Video3/ช่วยเหลือ.mp4\n",
            "Moviepy - Building video /content/drive/MyDrive/Thesis/New added Video3/ผู้ช่วยผู้พิพากษา.mp4.\n",
            "Moviepy - Writing video /content/drive/MyDrive/Thesis/New added Video3/ผู้ช่วยผู้พิพากษา.mp4\n",
            "\n"
          ]
        },
        {
          "output_type": "stream",
          "name": "stderr",
          "text": []
        },
        {
          "output_type": "stream",
          "name": "stdout",
          "text": [
            "Moviepy - Done !\n",
            "Moviepy - video ready /content/drive/MyDrive/Thesis/New added Video3/ผู้ช่วยผู้พิพากษา.mp4\n",
            "Successfully converted /content/drive/MyDrive/Thesis/โหลดใหม่ ครั้งที่ 3/ผู้ช่วยผู้พิพากษา.gif to /content/drive/MyDrive/Thesis/New added Video3/ผู้ช่วยผู้พิพากษา.mp4\n",
            "Moviepy - Building video /content/drive/MyDrive/Thesis/New added Video3/เข็มขัด.mp4.\n",
            "Moviepy - Writing video /content/drive/MyDrive/Thesis/New added Video3/เข็มขัด.mp4\n",
            "\n"
          ]
        },
        {
          "output_type": "stream",
          "name": "stderr",
          "text": []
        },
        {
          "output_type": "stream",
          "name": "stdout",
          "text": [
            "Moviepy - Done !\n",
            "Moviepy - video ready /content/drive/MyDrive/Thesis/New added Video3/เข็มขัด.mp4\n",
            "Successfully converted /content/drive/MyDrive/Thesis/โหลดใหม่ ครั้งที่ 3/เข็มขัด.gif to /content/drive/MyDrive/Thesis/New added Video3/เข็มขัด.mp4\n",
            "Moviepy - Building video /content/drive/MyDrive/Thesis/New added Video3/ใช้.mp4.\n",
            "Moviepy - Writing video /content/drive/MyDrive/Thesis/New added Video3/ใช้.mp4\n",
            "\n"
          ]
        },
        {
          "output_type": "stream",
          "name": "stderr",
          "text": []
        },
        {
          "output_type": "stream",
          "name": "stdout",
          "text": [
            "Moviepy - Done !\n",
            "Moviepy - video ready /content/drive/MyDrive/Thesis/New added Video3/ใช้.mp4\n",
            "Successfully converted /content/drive/MyDrive/Thesis/โหลดใหม่ ครั้งที่ 3/ใช้.gif to /content/drive/MyDrive/Thesis/New added Video3/ใช้.mp4\n",
            "Moviepy - Building video /content/drive/MyDrive/Thesis/New added Video3/ได้รับ.mp4.\n",
            "Moviepy - Writing video /content/drive/MyDrive/Thesis/New added Video3/ได้รับ.mp4\n",
            "\n"
          ]
        },
        {
          "output_type": "stream",
          "name": "stderr",
          "text": []
        },
        {
          "output_type": "stream",
          "name": "stdout",
          "text": [
            "Moviepy - Done !\n",
            "Moviepy - video ready /content/drive/MyDrive/Thesis/New added Video3/ได้รับ.mp4\n",
            "Successfully converted /content/drive/MyDrive/Thesis/โหลดใหม่ ครั้งที่ 3/ได้รับ.gif to /content/drive/MyDrive/Thesis/New added Video3/ได้รับ.mp4\n",
            "Moviepy - Building video /content/drive/MyDrive/Thesis/New added Video3/ได้ยิน.mp4.\n",
            "Moviepy - Writing video /content/drive/MyDrive/Thesis/New added Video3/ได้ยิน.mp4\n",
            "\n"
          ]
        },
        {
          "output_type": "stream",
          "name": "stderr",
          "text": []
        },
        {
          "output_type": "stream",
          "name": "stdout",
          "text": [
            "Moviepy - Done !\n",
            "Moviepy - video ready /content/drive/MyDrive/Thesis/New added Video3/ได้ยิน.mp4\n",
            "Successfully converted /content/drive/MyDrive/Thesis/โหลดใหม่ ครั้งที่ 3/ได้ยิน.gif to /content/drive/MyDrive/Thesis/New added Video3/ได้ยิน.mp4\n",
            "Moviepy - Building video /content/drive/MyDrive/Thesis/New added Video3/สอน.mp4.\n",
            "Moviepy - Writing video /content/drive/MyDrive/Thesis/New added Video3/สอน.mp4\n",
            "\n"
          ]
        },
        {
          "output_type": "stream",
          "name": "stderr",
          "text": []
        },
        {
          "output_type": "stream",
          "name": "stdout",
          "text": [
            "Moviepy - Done !\n",
            "Moviepy - video ready /content/drive/MyDrive/Thesis/New added Video3/สอน.mp4\n",
            "Successfully converted /content/drive/MyDrive/Thesis/โหลดใหม่ ครั้งที่ 3/สอน.gif to /content/drive/MyDrive/Thesis/New added Video3/สอน.mp4\n",
            "Moviepy - Building video /content/drive/MyDrive/Thesis/New added Video3/นิดหน่อย.mp4.\n",
            "Moviepy - Writing video /content/drive/MyDrive/Thesis/New added Video3/นิดหน่อย.mp4\n",
            "\n"
          ]
        },
        {
          "output_type": "stream",
          "name": "stderr",
          "text": []
        },
        {
          "output_type": "stream",
          "name": "stdout",
          "text": [
            "Moviepy - Done !\n",
            "Moviepy - video ready /content/drive/MyDrive/Thesis/New added Video3/นิดหน่อย.mp4\n",
            "Successfully converted /content/drive/MyDrive/Thesis/โหลดใหม่ ครั้งที่ 3/นิดหน่อย.gif to /content/drive/MyDrive/Thesis/New added Video3/นิดหน่อย.mp4\n",
            "Moviepy - Building video /content/drive/MyDrive/Thesis/New added Video3/ชาเขียว.mp4.\n",
            "Moviepy - Writing video /content/drive/MyDrive/Thesis/New added Video3/ชาเขียว.mp4\n",
            "\n"
          ]
        },
        {
          "output_type": "stream",
          "name": "stderr",
          "text": []
        },
        {
          "output_type": "stream",
          "name": "stdout",
          "text": [
            "Moviepy - Done !\n",
            "Moviepy - video ready /content/drive/MyDrive/Thesis/New added Video3/ชาเขียว.mp4\n",
            "Successfully converted /content/drive/MyDrive/Thesis/โหลดใหม่ ครั้งที่ 3/ชาเขียว.gif to /content/drive/MyDrive/Thesis/New added Video3/ชาเขียว.mp4\n",
            "Moviepy - Building video /content/drive/MyDrive/Thesis/New added Video3/ชาเขียวนม.mp4.\n",
            "Moviepy - Writing video /content/drive/MyDrive/Thesis/New added Video3/ชาเขียวนม.mp4\n",
            "\n"
          ]
        },
        {
          "output_type": "stream",
          "name": "stderr",
          "text": []
        },
        {
          "output_type": "stream",
          "name": "stdout",
          "text": [
            "Moviepy - Done !\n",
            "Moviepy - video ready /content/drive/MyDrive/Thesis/New added Video3/ชาเขียวนม.mp4\n",
            "Successfully converted /content/drive/MyDrive/Thesis/โหลดใหม่ ครั้งที่ 3/ชาเขียวนม.gif to /content/drive/MyDrive/Thesis/New added Video3/ชาเขียวนม.mp4\n",
            "Moviepy - Building video /content/drive/MyDrive/Thesis/New added Video3/สหรัฐอเมริกา.mp4.\n",
            "Moviepy - Writing video /content/drive/MyDrive/Thesis/New added Video3/สหรัฐอเมริกา.mp4\n",
            "\n"
          ]
        },
        {
          "output_type": "stream",
          "name": "stderr",
          "text": []
        },
        {
          "output_type": "stream",
          "name": "stdout",
          "text": [
            "Moviepy - Done !\n",
            "Moviepy - video ready /content/drive/MyDrive/Thesis/New added Video3/สหรัฐอเมริกา.mp4\n",
            "Successfully converted /content/drive/MyDrive/Thesis/โหลดใหม่ ครั้งที่ 3/สหรัฐอเมริกา.gif to /content/drive/MyDrive/Thesis/New added Video3/สหรัฐอเมริกา.mp4\n",
            "Moviepy - Building video /content/drive/MyDrive/Thesis/New added Video3/ยอดเยี่ยม.mp4.\n",
            "Moviepy - Writing video /content/drive/MyDrive/Thesis/New added Video3/ยอดเยี่ยม.mp4\n",
            "\n"
          ]
        },
        {
          "output_type": "stream",
          "name": "stderr",
          "text": []
        },
        {
          "output_type": "stream",
          "name": "stdout",
          "text": [
            "Moviepy - Done !\n",
            "Moviepy - video ready /content/drive/MyDrive/Thesis/New added Video3/ยอดเยี่ยม.mp4\n",
            "Successfully converted /content/drive/MyDrive/Thesis/โหลดใหม่ ครั้งที่ 3/ยอดเยี่ยม.gif to /content/drive/MyDrive/Thesis/New added Video3/ยอดเยี่ยม.mp4\n",
            "Moviepy - Building video /content/drive/MyDrive/Thesis/New added Video3/ดีเยี่ยม.mp4.\n",
            "Moviepy - Writing video /content/drive/MyDrive/Thesis/New added Video3/ดีเยี่ยม.mp4\n",
            "\n"
          ]
        },
        {
          "output_type": "stream",
          "name": "stderr",
          "text": []
        },
        {
          "output_type": "stream",
          "name": "stdout",
          "text": [
            "Moviepy - Done !\n",
            "Moviepy - video ready /content/drive/MyDrive/Thesis/New added Video3/ดีเยี่ยม.mp4\n",
            "Successfully converted /content/drive/MyDrive/Thesis/โหลดใหม่ ครั้งที่ 3/ดีเยี่ยม.gif to /content/drive/MyDrive/Thesis/New added Video3/ดีเยี่ยม.mp4\n",
            "Moviepy - Building video /content/drive/MyDrive/Thesis/New added Video3/ยอดเยี่ยมเลย.mp4.\n",
            "Moviepy - Writing video /content/drive/MyDrive/Thesis/New added Video3/ยอดเยี่ยมเลย.mp4\n",
            "\n"
          ]
        },
        {
          "output_type": "stream",
          "name": "stderr",
          "text": []
        },
        {
          "output_type": "stream",
          "name": "stdout",
          "text": [
            "Moviepy - Done !\n",
            "Moviepy - video ready /content/drive/MyDrive/Thesis/New added Video3/ยอดเยี่ยมเลย.mp4\n",
            "Successfully converted /content/drive/MyDrive/Thesis/โหลดใหม่ ครั้งที่ 3/ยอดเยี่ยมเลย.gif to /content/drive/MyDrive/Thesis/New added Video3/ยอดเยี่ยมเลย.mp4\n",
            "Moviepy - Building video /content/drive/MyDrive/Thesis/New added Video3/ฝรั่งเศส.mp4.\n",
            "Moviepy - Writing video /content/drive/MyDrive/Thesis/New added Video3/ฝรั่งเศส.mp4\n",
            "\n"
          ]
        },
        {
          "output_type": "stream",
          "name": "stderr",
          "text": []
        },
        {
          "output_type": "stream",
          "name": "stdout",
          "text": [
            "Moviepy - Done !\n",
            "Moviepy - video ready /content/drive/MyDrive/Thesis/New added Video3/ฝรั่งเศส.mp4\n",
            "Successfully converted /content/drive/MyDrive/Thesis/โหลดใหม่ ครั้งที่ 3/ฝรั่งเศส.gif to /content/drive/MyDrive/Thesis/New added Video3/ฝรั่งเศส.mp4\n",
            "Moviepy - Building video /content/drive/MyDrive/Thesis/New added Video3/ฝรั่งเศส (ท่ามือที่2).mp4.\n",
            "Moviepy - Writing video /content/drive/MyDrive/Thesis/New added Video3/ฝรั่งเศส (ท่ามือที่2).mp4\n",
            "\n"
          ]
        },
        {
          "output_type": "stream",
          "name": "stderr",
          "text": []
        },
        {
          "output_type": "stream",
          "name": "stdout",
          "text": [
            "Moviepy - Done !\n",
            "Moviepy - video ready /content/drive/MyDrive/Thesis/New added Video3/ฝรั่งเศส (ท่ามือที่2).mp4\n",
            "Successfully converted /content/drive/MyDrive/Thesis/โหลดใหม่ ครั้งที่ 3/ฝรั่งเศส (ท่ามือที่2).gif to /content/drive/MyDrive/Thesis/New added Video3/ฝรั่งเศส (ท่ามือที่2).mp4\n",
            "Moviepy - Building video /content/drive/MyDrive/Thesis/New added Video3/สามารถ.mp4.\n",
            "Moviepy - Writing video /content/drive/MyDrive/Thesis/New added Video3/สามารถ.mp4\n",
            "\n"
          ]
        },
        {
          "output_type": "stream",
          "name": "stderr",
          "text": []
        },
        {
          "output_type": "stream",
          "name": "stdout",
          "text": [
            "Moviepy - Done !\n",
            "Moviepy - video ready /content/drive/MyDrive/Thesis/New added Video3/สามารถ.mp4\n",
            "Successfully converted /content/drive/MyDrive/Thesis/โหลดใหม่ ครั้งที่ 3/สามารถ.gif to /content/drive/MyDrive/Thesis/New added Video3/สามารถ.mp4\n",
            "Moviepy - Building video /content/drive/MyDrive/Thesis/New added Video3/สามารถทำได้.mp4.\n",
            "Moviepy - Writing video /content/drive/MyDrive/Thesis/New added Video3/สามารถทำได้.mp4\n",
            "\n"
          ]
        },
        {
          "output_type": "stream",
          "name": "stderr",
          "text": []
        },
        {
          "output_type": "stream",
          "name": "stdout",
          "text": [
            "Moviepy - Done !\n",
            "Moviepy - video ready /content/drive/MyDrive/Thesis/New added Video3/สามารถทำได้.mp4\n",
            "Successfully converted /content/drive/MyDrive/Thesis/โหลดใหม่ ครั้งที่ 3/สามารถทำได้.gif to /content/drive/MyDrive/Thesis/New added Video3/สามารถทำได้.mp4\n",
            "Moviepy - Building video /content/drive/MyDrive/Thesis/New added Video3/ได้.mp4.\n",
            "Moviepy - Writing video /content/drive/MyDrive/Thesis/New added Video3/ได้.mp4\n",
            "\n"
          ]
        },
        {
          "output_type": "stream",
          "name": "stderr",
          "text": []
        },
        {
          "output_type": "stream",
          "name": "stdout",
          "text": [
            "Moviepy - Done !\n",
            "Moviepy - video ready /content/drive/MyDrive/Thesis/New added Video3/ได้.mp4\n",
            "Successfully converted /content/drive/MyDrive/Thesis/โหลดใหม่ ครั้งที่ 3/ได้.gif to /content/drive/MyDrive/Thesis/New added Video3/ได้.mp4\n",
            "Moviepy - Building video /content/drive/MyDrive/Thesis/New added Video3/คืนหมาหอน.mp4.\n",
            "Moviepy - Writing video /content/drive/MyDrive/Thesis/New added Video3/คืนหมาหอน.mp4\n",
            "\n"
          ]
        },
        {
          "output_type": "stream",
          "name": "stderr",
          "text": []
        },
        {
          "output_type": "stream",
          "name": "stdout",
          "text": [
            "Moviepy - Done !\n",
            "Moviepy - video ready /content/drive/MyDrive/Thesis/New added Video3/คืนหมาหอน.mp4\n",
            "Successfully converted /content/drive/MyDrive/Thesis/โหลดใหม่ ครั้งที่ 3/คืนหมาหอน.gif to /content/drive/MyDrive/Thesis/New added Video3/คืนหมาหอน.mp4\n",
            "Moviepy - Building video /content/drive/MyDrive/Thesis/New added Video3/พรรคทวงคืนผืนป่าประเทศไทย.mp4.\n",
            "Moviepy - Writing video /content/drive/MyDrive/Thesis/New added Video3/พรรคทวงคืนผืนป่าประเทศไทย.mp4\n",
            "\n"
          ]
        },
        {
          "output_type": "stream",
          "name": "stderr",
          "text": []
        },
        {
          "output_type": "stream",
          "name": "stdout",
          "text": [
            "Moviepy - Done !\n",
            "Moviepy - video ready /content/drive/MyDrive/Thesis/New added Video3/พรรคทวงคืนผืนป่าประเทศไทย.mp4\n",
            "Successfully converted /content/drive/MyDrive/Thesis/โหลดใหม่ ครั้งที่ 3/พรรคทวงคืนผืนป่าประเทศไทย.gif to /content/drive/MyDrive/Thesis/New added Video3/พรรคทวงคืนผืนป่าประเทศไทย.mp4\n",
            "Moviepy - Building video /content/drive/MyDrive/Thesis/New added Video3/กลางคืน.mp4.\n",
            "Moviepy - Writing video /content/drive/MyDrive/Thesis/New added Video3/กลางคืน.mp4\n",
            "\n"
          ]
        },
        {
          "output_type": "stream",
          "name": "stderr",
          "text": []
        },
        {
          "output_type": "stream",
          "name": "stdout",
          "text": [
            "Moviepy - Done !\n",
            "Moviepy - video ready /content/drive/MyDrive/Thesis/New added Video3/กลางคืน.mp4\n",
            "Successfully converted /content/drive/MyDrive/Thesis/โหลดใหม่ ครั้งที่ 3/กลางคืน.gif to /content/drive/MyDrive/Thesis/New added Video3/กลางคืน.mp4\n",
            "Moviepy - Building video /content/drive/MyDrive/Thesis/New added Video3/เที่ยงคืน.mp4.\n",
            "Moviepy - Writing video /content/drive/MyDrive/Thesis/New added Video3/เที่ยงคืน.mp4\n",
            "\n"
          ]
        },
        {
          "output_type": "stream",
          "name": "stderr",
          "text": []
        },
        {
          "output_type": "stream",
          "name": "stdout",
          "text": [
            "Moviepy - Done !\n",
            "Moviepy - video ready /content/drive/MyDrive/Thesis/New added Video3/เที่ยงคืน.mp4\n",
            "Successfully converted /content/drive/MyDrive/Thesis/โหลดใหม่ ครั้งที่ 3/เที่ยงคืน.gif to /content/drive/MyDrive/Thesis/New added Video3/เที่ยงคืน.mp4\n",
            "Moviepy - Building video /content/drive/MyDrive/Thesis/New added Video3/คิดมาก.mp4.\n",
            "Moviepy - Writing video /content/drive/MyDrive/Thesis/New added Video3/คิดมาก.mp4\n",
            "\n"
          ]
        },
        {
          "output_type": "stream",
          "name": "stderr",
          "text": []
        },
        {
          "output_type": "stream",
          "name": "stdout",
          "text": [
            "Moviepy - Done !\n",
            "Moviepy - video ready /content/drive/MyDrive/Thesis/New added Video3/คิดมาก.mp4\n",
            "Successfully converted /content/drive/MyDrive/Thesis/โหลดใหม่ ครั้งที่ 3/คิดมาก.gif to /content/drive/MyDrive/Thesis/New added Video3/คิดมาก.mp4\n",
            "Moviepy - Building video /content/drive/MyDrive/Thesis/New added Video3/เจ้าความคิด.mp4.\n",
            "Moviepy - Writing video /content/drive/MyDrive/Thesis/New added Video3/เจ้าความคิด.mp4\n",
            "\n"
          ]
        },
        {
          "output_type": "stream",
          "name": "stderr",
          "text": []
        },
        {
          "output_type": "stream",
          "name": "stdout",
          "text": [
            "Moviepy - Done !\n",
            "Moviepy - video ready /content/drive/MyDrive/Thesis/New added Video3/เจ้าความคิด.mp4\n",
            "Successfully converted /content/drive/MyDrive/Thesis/โหลดใหม่ ครั้งที่ 3/เจ้าความคิด.gif to /content/drive/MyDrive/Thesis/New added Video3/เจ้าความคิด.mp4\n",
            "Moviepy - Building video /content/drive/MyDrive/Thesis/New added Video3/วันนี้.mp4.\n",
            "Moviepy - Writing video /content/drive/MyDrive/Thesis/New added Video3/วันนี้.mp4\n",
            "\n"
          ]
        },
        {
          "output_type": "stream",
          "name": "stderr",
          "text": []
        },
        {
          "output_type": "stream",
          "name": "stdout",
          "text": [
            "Moviepy - Done !\n",
            "Moviepy - video ready /content/drive/MyDrive/Thesis/New added Video3/วันนี้.mp4\n",
            "Successfully converted /content/drive/MyDrive/Thesis/โหลดใหม่ ครั้งที่ 3/วันนี้.gif to /content/drive/MyDrive/Thesis/New added Video3/วันนี้.mp4\n",
            "Moviepy - Building video /content/drive/MyDrive/Thesis/New added Video3/วันอาทิตย์.mp4.\n",
            "Moviepy - Writing video /content/drive/MyDrive/Thesis/New added Video3/วันอาทิตย์.mp4\n",
            "\n"
          ]
        },
        {
          "output_type": "stream",
          "name": "stderr",
          "text": []
        },
        {
          "output_type": "stream",
          "name": "stdout",
          "text": [
            "Moviepy - Done !\n",
            "Moviepy - video ready /content/drive/MyDrive/Thesis/New added Video3/วันอาทิตย์.mp4\n",
            "Successfully converted /content/drive/MyDrive/Thesis/โหลดใหม่ ครั้งที่ 3/วันอาทิตย์.gif to /content/drive/MyDrive/Thesis/New added Video3/วันอาทิตย์.mp4\n",
            "Moviepy - Building video /content/drive/MyDrive/Thesis/New added Video3/วันอังคาร.mp4.\n",
            "Moviepy - Writing video /content/drive/MyDrive/Thesis/New added Video3/วันอังคาร.mp4\n",
            "\n"
          ]
        },
        {
          "output_type": "stream",
          "name": "stderr",
          "text": []
        },
        {
          "output_type": "stream",
          "name": "stdout",
          "text": [
            "Moviepy - Done !\n",
            "Moviepy - video ready /content/drive/MyDrive/Thesis/New added Video3/วันอังคาร.mp4\n",
            "Successfully converted /content/drive/MyDrive/Thesis/โหลดใหม่ ครั้งที่ 3/วันอังคาร.gif to /content/drive/MyDrive/Thesis/New added Video3/วันอังคาร.mp4\n",
            "Moviepy - Building video /content/drive/MyDrive/Thesis/New added Video3/วันพฤหัสบดี.mp4.\n",
            "Moviepy - Writing video /content/drive/MyDrive/Thesis/New added Video3/วันพฤหัสบดี.mp4\n",
            "\n"
          ]
        },
        {
          "output_type": "stream",
          "name": "stderr",
          "text": []
        },
        {
          "output_type": "stream",
          "name": "stdout",
          "text": [
            "Moviepy - Done !\n",
            "Moviepy - video ready /content/drive/MyDrive/Thesis/New added Video3/วันพฤหัสบดี.mp4\n",
            "Successfully converted /content/drive/MyDrive/Thesis/โหลดใหม่ ครั้งที่ 3/วันพฤหัสบดี.gif to /content/drive/MyDrive/Thesis/New added Video3/วันพฤหัสบดี.mp4\n",
            "Moviepy - Building video /content/drive/MyDrive/Thesis/New added Video3/วันศุกร์.mp4.\n",
            "Moviepy - Writing video /content/drive/MyDrive/Thesis/New added Video3/วันศุกร์.mp4\n",
            "\n"
          ]
        },
        {
          "output_type": "stream",
          "name": "stderr",
          "text": []
        },
        {
          "output_type": "stream",
          "name": "stdout",
          "text": [
            "Moviepy - Done !\n",
            "Moviepy - video ready /content/drive/MyDrive/Thesis/New added Video3/วันศุกร์.mp4\n",
            "Successfully converted /content/drive/MyDrive/Thesis/โหลดใหม่ ครั้งที่ 3/วันศุกร์.gif to /content/drive/MyDrive/Thesis/New added Video3/วันศุกร์.mp4\n",
            "Moviepy - Building video /content/drive/MyDrive/Thesis/New added Video3/วันที่จะไปบ้างไม่ไปบ้าง.mp4.\n",
            "Moviepy - Writing video /content/drive/MyDrive/Thesis/New added Video3/วันที่จะไปบ้างไม่ไปบ้าง.mp4\n",
            "\n"
          ]
        },
        {
          "output_type": "stream",
          "name": "stderr",
          "text": []
        },
        {
          "output_type": "stream",
          "name": "stdout",
          "text": [
            "Moviepy - Done !\n",
            "Moviepy - video ready /content/drive/MyDrive/Thesis/New added Video3/วันที่จะไปบ้างไม่ไปบ้าง.mp4\n",
            "Successfully converted /content/drive/MyDrive/Thesis/โหลดใหม่ ครั้งที่ 3/วันที่จะไปบ้างไม่ไปบ้าง.gif to /content/drive/MyDrive/Thesis/New added Video3/วันที่จะไปบ้างไม่ไปบ้าง.mp4\n",
            "Moviepy - Building video /content/drive/MyDrive/Thesis/New added Video3/วันเสาร์.mp4.\n",
            "Moviepy - Writing video /content/drive/MyDrive/Thesis/New added Video3/วันเสาร์.mp4\n",
            "\n"
          ]
        },
        {
          "output_type": "stream",
          "name": "stderr",
          "text": []
        },
        {
          "output_type": "stream",
          "name": "stdout",
          "text": [
            "Moviepy - Done !\n",
            "Moviepy - video ready /content/drive/MyDrive/Thesis/New added Video3/วันเสาร์.mp4\n",
            "Successfully converted /content/drive/MyDrive/Thesis/โหลดใหม่ ครั้งที่ 3/วันเสาร์.gif to /content/drive/MyDrive/Thesis/New added Video3/วันเสาร์.mp4\n",
            "Moviepy - Building video /content/drive/MyDrive/Thesis/New added Video3/วันหยุด.mp4.\n",
            "Moviepy - Writing video /content/drive/MyDrive/Thesis/New added Video3/วันหยุด.mp4\n",
            "\n"
          ]
        },
        {
          "output_type": "stream",
          "name": "stderr",
          "text": []
        },
        {
          "output_type": "stream",
          "name": "stdout",
          "text": [
            "Moviepy - Done !\n",
            "Moviepy - video ready /content/drive/MyDrive/Thesis/New added Video3/วันหยุด.mp4\n",
            "Successfully converted /content/drive/MyDrive/Thesis/โหลดใหม่ ครั้งที่ 3/วันหยุด.gif to /content/drive/MyDrive/Thesis/New added Video3/วันหยุด.mp4\n",
            "Moviepy - Building video /content/drive/MyDrive/Thesis/New added Video3/วันพระ.mp4.\n",
            "Moviepy - Writing video /content/drive/MyDrive/Thesis/New added Video3/วันพระ.mp4\n",
            "\n"
          ]
        },
        {
          "output_type": "stream",
          "name": "stderr",
          "text": []
        },
        {
          "output_type": "stream",
          "name": "stdout",
          "text": [
            "Moviepy - Done !\n",
            "Moviepy - video ready /content/drive/MyDrive/Thesis/New added Video3/วันพระ.mp4\n",
            "Successfully converted /content/drive/MyDrive/Thesis/โหลดใหม่ ครั้งที่ 3/วันพระ.gif to /content/drive/MyDrive/Thesis/New added Video3/วันพระ.mp4\n",
            "Moviepy - Building video /content/drive/MyDrive/Thesis/New added Video3/วันขึ้นปีใหม่.mp4.\n",
            "Moviepy - Writing video /content/drive/MyDrive/Thesis/New added Video3/วันขึ้นปีใหม่.mp4\n",
            "\n"
          ]
        },
        {
          "output_type": "stream",
          "name": "stderr",
          "text": []
        },
        {
          "output_type": "stream",
          "name": "stdout",
          "text": [
            "Moviepy - Done !\n",
            "Moviepy - video ready /content/drive/MyDrive/Thesis/New added Video3/วันขึ้นปีใหม่.mp4\n",
            "Successfully converted /content/drive/MyDrive/Thesis/โหลดใหม่ ครั้งที่ 3/วันขึ้นปีใหม่.gif to /content/drive/MyDrive/Thesis/New added Video3/วันขึ้นปีใหม่.mp4\n",
            "Moviepy - Building video /content/drive/MyDrive/Thesis/New added Video3/วันเฉลิมพระชนมพรรษา.mp4.\n",
            "Moviepy - Writing video /content/drive/MyDrive/Thesis/New added Video3/วันเฉลิมพระชนมพรรษา.mp4\n",
            "\n"
          ]
        },
        {
          "output_type": "stream",
          "name": "stderr",
          "text": []
        },
        {
          "output_type": "stream",
          "name": "stdout",
          "text": [
            "Moviepy - Done !\n",
            "Moviepy - video ready /content/drive/MyDrive/Thesis/New added Video3/วันเฉลิมพระชนมพรรษา.mp4\n",
            "Successfully converted /content/drive/MyDrive/Thesis/โหลดใหม่ ครั้งที่ 3/วันเฉลิมพระชนมพรรษา.gif to /content/drive/MyDrive/Thesis/New added Video3/วันเฉลิมพระชนมพรรษา.mp4\n",
            "Moviepy - Building video /content/drive/MyDrive/Thesis/New added Video3/วันพุธ.mp4.\n",
            "Moviepy - Writing video /content/drive/MyDrive/Thesis/New added Video3/วันพุธ.mp4\n",
            "\n"
          ]
        },
        {
          "output_type": "stream",
          "name": "stderr",
          "text": []
        },
        {
          "output_type": "stream",
          "name": "stdout",
          "text": [
            "Moviepy - Done !\n",
            "Moviepy - video ready /content/drive/MyDrive/Thesis/New added Video3/วันพุธ.mp4\n",
            "Successfully converted /content/drive/MyDrive/Thesis/โหลดใหม่ ครั้งที่ 3/วันพุธ.gif to /content/drive/MyDrive/Thesis/New added Video3/วันพุธ.mp4\n",
            "Moviepy - Building video /content/drive/MyDrive/Thesis/New added Video3/วันสงกรานต์.mp4.\n",
            "Moviepy - Writing video /content/drive/MyDrive/Thesis/New added Video3/วันสงกรานต์.mp4\n",
            "\n"
          ]
        },
        {
          "output_type": "stream",
          "name": "stderr",
          "text": []
        },
        {
          "output_type": "stream",
          "name": "stdout",
          "text": [
            "Moviepy - Done !\n",
            "Moviepy - video ready /content/drive/MyDrive/Thesis/New added Video3/วันสงกรานต์.mp4\n",
            "Successfully converted /content/drive/MyDrive/Thesis/โหลดใหม่ ครั้งที่ 3/วันสงกรานต์.gif to /content/drive/MyDrive/Thesis/New added Video3/วันสงกรานต์.mp4\n",
            "Moviepy - Building video /content/drive/MyDrive/Thesis/New added Video3/ทุกวัน.mp4.\n",
            "Moviepy - Writing video /content/drive/MyDrive/Thesis/New added Video3/ทุกวัน.mp4\n",
            "\n"
          ]
        },
        {
          "output_type": "stream",
          "name": "stderr",
          "text": []
        },
        {
          "output_type": "stream",
          "name": "stdout",
          "text": [
            "Moviepy - Done !\n",
            "Moviepy - video ready /content/drive/MyDrive/Thesis/New added Video3/ทุกวัน.mp4\n",
            "Successfully converted /content/drive/MyDrive/Thesis/โหลดใหม่ ครั้งที่ 3/ทุกวัน.gif to /content/drive/MyDrive/Thesis/New added Video3/ทุกวัน.mp4\n",
            "Moviepy - Building video /content/drive/MyDrive/Thesis/New added Video3/ขณะนี้.mp4.\n",
            "Moviepy - Writing video /content/drive/MyDrive/Thesis/New added Video3/ขณะนี้.mp4\n",
            "\n"
          ]
        },
        {
          "output_type": "stream",
          "name": "stderr",
          "text": []
        },
        {
          "output_type": "stream",
          "name": "stdout",
          "text": [
            "Moviepy - Done !\n",
            "Moviepy - video ready /content/drive/MyDrive/Thesis/New added Video3/ขณะนี้.mp4\n",
            "Successfully converted /content/drive/MyDrive/Thesis/โหลดใหม่ ครั้งที่ 3/ขณะนี้.gif to /content/drive/MyDrive/Thesis/New added Video3/ขณะนี้.mp4\n",
            "Moviepy - Building video /content/drive/MyDrive/Thesis/New added Video3/วันลอยกระทง.mp4.\n",
            "Moviepy - Writing video /content/drive/MyDrive/Thesis/New added Video3/วันลอยกระทง.mp4\n",
            "\n"
          ]
        },
        {
          "output_type": "stream",
          "name": "stderr",
          "text": []
        },
        {
          "output_type": "stream",
          "name": "stdout",
          "text": [
            "Moviepy - Done !\n",
            "Moviepy - video ready /content/drive/MyDrive/Thesis/New added Video3/วันลอยกระทง.mp4\n",
            "Successfully converted /content/drive/MyDrive/Thesis/โหลดใหม่ ครั้งที่ 3/วันลอยกระทง.gif to /content/drive/MyDrive/Thesis/New added Video3/วันลอยกระทง.mp4\n",
            "Moviepy - Building video /content/drive/MyDrive/Thesis/New added Video3/วันรัฐธรรมนูญ.mp4.\n",
            "Moviepy - Writing video /content/drive/MyDrive/Thesis/New added Video3/วันรัฐธรรมนูญ.mp4\n",
            "\n"
          ]
        },
        {
          "output_type": "stream",
          "name": "stderr",
          "text": []
        },
        {
          "output_type": "stream",
          "name": "stdout",
          "text": [
            "Moviepy - Done !\n",
            "Moviepy - video ready /content/drive/MyDrive/Thesis/New added Video3/วันรัฐธรรมนูญ.mp4\n",
            "Successfully converted /content/drive/MyDrive/Thesis/โหลดใหม่ ครั้งที่ 3/วันรัฐธรรมนูญ.gif to /content/drive/MyDrive/Thesis/New added Video3/วันรัฐธรรมนูญ.mp4\n",
            "Moviepy - Building video /content/drive/MyDrive/Thesis/New added Video3/วันปีใหม่.mp4.\n",
            "Moviepy - Writing video /content/drive/MyDrive/Thesis/New added Video3/วันปีใหม่.mp4\n",
            "\n"
          ]
        },
        {
          "output_type": "stream",
          "name": "stderr",
          "text": []
        },
        {
          "output_type": "stream",
          "name": "stdout",
          "text": [
            "Moviepy - Done !\n",
            "Moviepy - video ready /content/drive/MyDrive/Thesis/New added Video3/วันปีใหม่.mp4\n",
            "Successfully converted /content/drive/MyDrive/Thesis/โหลดใหม่ ครั้งที่ 3/วันปีใหม่.gif to /content/drive/MyDrive/Thesis/New added Video3/วันปีใหม่.mp4\n",
            "Moviepy - Building video /content/drive/MyDrive/Thesis/New added Video3/วันปิยมหาราช.mp4.\n",
            "Moviepy - Writing video /content/drive/MyDrive/Thesis/New added Video3/วันปิยมหาราช.mp4\n",
            "\n"
          ]
        },
        {
          "output_type": "stream",
          "name": "stderr",
          "text": []
        },
        {
          "output_type": "stream",
          "name": "stdout",
          "text": [
            "Moviepy - Done !\n",
            "Moviepy - video ready /content/drive/MyDrive/Thesis/New added Video3/วันปิยมหาราช.mp4\n",
            "Successfully converted /content/drive/MyDrive/Thesis/โหลดใหม่ ครั้งที่ 3/วันปิยมหาราช.gif to /content/drive/MyDrive/Thesis/New added Video3/วันปิยมหาราช.mp4\n",
            "Moviepy - Building video /content/drive/MyDrive/Thesis/New added Video3/วันครู.mp4.\n",
            "Moviepy - Writing video /content/drive/MyDrive/Thesis/New added Video3/วันครู.mp4\n",
            "\n"
          ]
        },
        {
          "output_type": "stream",
          "name": "stderr",
          "text": []
        },
        {
          "output_type": "stream",
          "name": "stdout",
          "text": [
            "Moviepy - Done !\n",
            "Moviepy - video ready /content/drive/MyDrive/Thesis/New added Video3/วันครู.mp4\n",
            "Successfully converted /content/drive/MyDrive/Thesis/โหลดใหม่ ครั้งที่ 3/วันครู.gif to /content/drive/MyDrive/Thesis/New added Video3/วันครู.mp4\n",
            "Moviepy - Building video /content/drive/MyDrive/Thesis/New added Video3/วันเด็ก.mp4.\n",
            "Moviepy - Writing video /content/drive/MyDrive/Thesis/New added Video3/วันเด็ก.mp4\n",
            "\n"
          ]
        },
        {
          "output_type": "stream",
          "name": "stderr",
          "text": []
        },
        {
          "output_type": "stream",
          "name": "stdout",
          "text": [
            "Moviepy - Done !\n",
            "Moviepy - video ready /content/drive/MyDrive/Thesis/New added Video3/วันเด็ก.mp4\n",
            "Successfully converted /content/drive/MyDrive/Thesis/โหลดใหม่ ครั้งที่ 3/วันเด็ก.gif to /content/drive/MyDrive/Thesis/New added Video3/วันเด็ก.mp4\n",
            "Moviepy - Building video /content/drive/MyDrive/Thesis/New added Video3/วันฉัตรมงคล.mp4.\n",
            "Moviepy - Writing video /content/drive/MyDrive/Thesis/New added Video3/วันฉัตรมงคล.mp4\n",
            "\n"
          ]
        },
        {
          "output_type": "stream",
          "name": "stderr",
          "text": []
        },
        {
          "output_type": "stream",
          "name": "stdout",
          "text": [
            "Moviepy - Done !\n",
            "Moviepy - video ready /content/drive/MyDrive/Thesis/New added Video3/วันฉัตรมงคล.mp4\n",
            "Successfully converted /content/drive/MyDrive/Thesis/โหลดใหม่ ครั้งที่ 3/วันฉัตรมงคล.gif to /content/drive/MyDrive/Thesis/New added Video3/วันฉัตรมงคล.mp4\n",
            "Moviepy - Building video /content/drive/MyDrive/Thesis/New added Video3/วันมหิดล.mp4.\n",
            "Moviepy - Writing video /content/drive/MyDrive/Thesis/New added Video3/วันมหิดล.mp4\n",
            "\n"
          ]
        },
        {
          "output_type": "stream",
          "name": "stderr",
          "text": []
        },
        {
          "output_type": "stream",
          "name": "stdout",
          "text": [
            "Moviepy - Done !\n",
            "Moviepy - video ready /content/drive/MyDrive/Thesis/New added Video3/วันมหิดล.mp4\n",
            "Successfully converted /content/drive/MyDrive/Thesis/โหลดใหม่ ครั้งที่ 3/วันมหิดล.gif to /content/drive/MyDrive/Thesis/New added Video3/วันมหิดล.mp4\n",
            "Moviepy - Building video /content/drive/MyDrive/Thesis/New added Video3/วันพืชมงคล.mp4.\n",
            "Moviepy - Writing video /content/drive/MyDrive/Thesis/New added Video3/วันพืชมงคล.mp4\n",
            "\n"
          ]
        },
        {
          "output_type": "stream",
          "name": "stderr",
          "text": []
        },
        {
          "output_type": "stream",
          "name": "stdout",
          "text": [
            "Moviepy - Done !\n",
            "Moviepy - video ready /content/drive/MyDrive/Thesis/New added Video3/วันพืชมงคล.mp4\n",
            "Successfully converted /content/drive/MyDrive/Thesis/โหลดใหม่ ครั้งที่ 3/วันพืชมงคล.gif to /content/drive/MyDrive/Thesis/New added Video3/วันพืชมงคล.mp4\n",
            "Moviepy - Building video /content/drive/MyDrive/Thesis/New added Video3/วันคริสต์มาส.mp4.\n",
            "Moviepy - Writing video /content/drive/MyDrive/Thesis/New added Video3/วันคริสต์มาส.mp4\n",
            "\n"
          ]
        },
        {
          "output_type": "stream",
          "name": "stderr",
          "text": []
        },
        {
          "output_type": "stream",
          "name": "stdout",
          "text": [
            "Moviepy - Done !\n",
            "Moviepy - video ready /content/drive/MyDrive/Thesis/New added Video3/วันคริสต์มาส.mp4\n",
            "Successfully converted /content/drive/MyDrive/Thesis/โหลดใหม่ ครั้งที่ 3/วันคริสต์มาส.gif to /content/drive/MyDrive/Thesis/New added Video3/วันคริสต์มาส.mp4\n",
            "Moviepy - Building video /content/drive/MyDrive/Thesis/New added Video3/วันตรุษจีน.mp4.\n",
            "Moviepy - Writing video /content/drive/MyDrive/Thesis/New added Video3/วันตรุษจีน.mp4\n",
            "\n"
          ]
        },
        {
          "output_type": "stream",
          "name": "stderr",
          "text": []
        },
        {
          "output_type": "stream",
          "name": "stdout",
          "text": [
            "Moviepy - Done !\n",
            "Moviepy - video ready /content/drive/MyDrive/Thesis/New added Video3/วันตรุษจีน.mp4\n",
            "Successfully converted /content/drive/MyDrive/Thesis/โหลดใหม่ ครั้งที่ 3/วันตรุษจีน.gif to /content/drive/MyDrive/Thesis/New added Video3/วันตรุษจีน.mp4\n",
            "Moviepy - Building video /content/drive/MyDrive/Thesis/New added Video3/วันแรงงาน.mp4.\n",
            "Moviepy - Writing video /content/drive/MyDrive/Thesis/New added Video3/วันแรงงาน.mp4\n",
            "\n"
          ]
        },
        {
          "output_type": "stream",
          "name": "stderr",
          "text": []
        },
        {
          "output_type": "stream",
          "name": "stdout",
          "text": [
            "Moviepy - Done !\n",
            "Moviepy - video ready /content/drive/MyDrive/Thesis/New added Video3/วันแรงงาน.mp4\n",
            "Successfully converted /content/drive/MyDrive/Thesis/โหลดใหม่ ครั้งที่ 3/วันแรงงาน.gif to /content/drive/MyDrive/Thesis/New added Video3/วันแรงงาน.mp4\n",
            "Moviepy - Building video /content/drive/MyDrive/Thesis/New added Video3/ทุ่งทานตะวัน.mp4.\n",
            "Moviepy - Writing video /content/drive/MyDrive/Thesis/New added Video3/ทุ่งทานตะวัน.mp4\n",
            "\n"
          ]
        },
        {
          "output_type": "stream",
          "name": "stderr",
          "text": []
        },
        {
          "output_type": "stream",
          "name": "stdout",
          "text": [
            "Moviepy - Done !\n",
            "Moviepy - video ready /content/drive/MyDrive/Thesis/New added Video3/ทุ่งทานตะวัน.mp4\n",
            "Successfully converted /content/drive/MyDrive/Thesis/โหลดใหม่ ครั้งที่ 3/ทุ่งทานตะวัน.gif to /content/drive/MyDrive/Thesis/New added Video3/ทุ่งทานตะวัน.mp4\n",
            "Moviepy - Building video /content/drive/MyDrive/Thesis/New added Video3/เทควันโด.mp4.\n",
            "Moviepy - Writing video /content/drive/MyDrive/Thesis/New added Video3/เทควันโด.mp4\n",
            "\n"
          ]
        },
        {
          "output_type": "stream",
          "name": "stderr",
          "text": []
        },
        {
          "output_type": "stream",
          "name": "stdout",
          "text": [
            "Moviepy - Done !\n",
            "Moviepy - video ready /content/drive/MyDrive/Thesis/New added Video3/เทควันโด.mp4\n",
            "Successfully converted /content/drive/MyDrive/Thesis/โหลดใหม่ ครั้งที่ 3/เทควันโด.gif to /content/drive/MyDrive/Thesis/New added Video3/เทควันโด.mp4\n",
            "Moviepy - Building video /content/drive/MyDrive/Thesis/New added Video3/ไร่เชิญตะวัน.mp4.\n",
            "Moviepy - Writing video /content/drive/MyDrive/Thesis/New added Video3/ไร่เชิญตะวัน.mp4\n",
            "\n"
          ]
        },
        {
          "output_type": "stream",
          "name": "stderr",
          "text": []
        },
        {
          "output_type": "stream",
          "name": "stdout",
          "text": [
            "Moviepy - Done !\n",
            "Moviepy - video ready /content/drive/MyDrive/Thesis/New added Video3/ไร่เชิญตะวัน.mp4\n",
            "Successfully converted /content/drive/MyDrive/Thesis/โหลดใหม่ ครั้งที่ 3/ไร่เชิญตะวัน.gif to /content/drive/MyDrive/Thesis/New added Video3/ไร่เชิญตะวัน.mp4\n",
            "Moviepy - Building video /content/drive/MyDrive/Thesis/New added Video3/วันแม่แห่งชาติ.mp4.\n",
            "Moviepy - Writing video /content/drive/MyDrive/Thesis/New added Video3/วันแม่แห่งชาติ.mp4\n",
            "\n"
          ]
        },
        {
          "output_type": "stream",
          "name": "stderr",
          "text": []
        },
        {
          "output_type": "stream",
          "name": "stdout",
          "text": [
            "Moviepy - Done !\n",
            "Moviepy - video ready /content/drive/MyDrive/Thesis/New added Video3/วันแม่แห่งชาติ.mp4\n",
            "Successfully converted /content/drive/MyDrive/Thesis/โหลดใหม่ ครั้งที่ 3/วันแม่แห่งชาติ.gif to /content/drive/MyDrive/Thesis/New added Video3/วันแม่แห่งชาติ.mp4\n",
            "Moviepy - Building video /content/drive/MyDrive/Thesis/New added Video3/วันจักรี.mp4.\n",
            "Moviepy - Writing video /content/drive/MyDrive/Thesis/New added Video3/วันจักรี.mp4\n",
            "\n"
          ]
        },
        {
          "output_type": "stream",
          "name": "stderr",
          "text": []
        },
        {
          "output_type": "stream",
          "name": "stdout",
          "text": [
            "Moviepy - Done !\n",
            "Moviepy - video ready /content/drive/MyDrive/Thesis/New added Video3/วันจักรี.mp4\n",
            "Successfully converted /content/drive/MyDrive/Thesis/โหลดใหม่ ครั้งที่ 3/วันจักรี.gif to /content/drive/MyDrive/Thesis/New added Video3/วันจักรี.mp4\n",
            "Moviepy - Building video /content/drive/MyDrive/Thesis/New added Video3/ทุ่งทานตะวันเป๋าตุงฟาร์ม.mp4.\n",
            "Moviepy - Writing video /content/drive/MyDrive/Thesis/New added Video3/ทุ่งทานตะวันเป๋าตุงฟาร์ม.mp4\n",
            "\n"
          ]
        },
        {
          "output_type": "stream",
          "name": "stderr",
          "text": []
        },
        {
          "output_type": "stream",
          "name": "stdout",
          "text": [
            "Moviepy - Done !\n",
            "Moviepy - video ready /content/drive/MyDrive/Thesis/New added Video3/ทุ่งทานตะวันเป๋าตุงฟาร์ม.mp4\n",
            "Successfully converted /content/drive/MyDrive/Thesis/โหลดใหม่ ครั้งที่ 3/ทุ่งทานตะวันเป๋าตุงฟาร์ม.gif to /content/drive/MyDrive/Thesis/New added Video3/ทุ่งทานตะวันเป๋าตุงฟาร์ม.mp4\n",
            "Moviepy - Building video /content/drive/MyDrive/Thesis/New added Video3/ม่อนหมอกตะวัน.mp4.\n",
            "Moviepy - Writing video /content/drive/MyDrive/Thesis/New added Video3/ม่อนหมอกตะวัน.mp4\n",
            "\n"
          ]
        },
        {
          "output_type": "stream",
          "name": "stderr",
          "text": []
        },
        {
          "output_type": "stream",
          "name": "stdout",
          "text": [
            "Moviepy - Done !\n",
            "Moviepy - video ready /content/drive/MyDrive/Thesis/New added Video3/ม่อนหมอกตะวัน.mp4\n",
            "Successfully converted /content/drive/MyDrive/Thesis/โหลดใหม่ ครั้งที่ 3/ม่อนหมอกตะวัน.gif to /content/drive/MyDrive/Thesis/New added Video3/ม่อนหมอกตะวัน.mp4\n",
            "Moviepy - Building video /content/drive/MyDrive/Thesis/New added Video3/ภูตะวัน.mp4.\n",
            "Moviepy - Writing video /content/drive/MyDrive/Thesis/New added Video3/ภูตะวัน.mp4\n",
            "\n"
          ]
        },
        {
          "output_type": "stream",
          "name": "stderr",
          "text": []
        },
        {
          "output_type": "stream",
          "name": "stdout",
          "text": [
            "Moviepy - Done !\n",
            "Moviepy - video ready /content/drive/MyDrive/Thesis/New added Video3/ภูตะวัน.mp4\n",
            "Successfully converted /content/drive/MyDrive/Thesis/โหลดใหม่ ครั้งที่ 3/ภูตะวัน.gif to /content/drive/MyDrive/Thesis/New added Video3/ภูตะวัน.mp4\n",
            "Moviepy - Building video /content/drive/MyDrive/Thesis/New added Video3/วันเกิด.mp4.\n",
            "Moviepy - Writing video /content/drive/MyDrive/Thesis/New added Video3/วันเกิด.mp4\n",
            "\n"
          ]
        },
        {
          "output_type": "stream",
          "name": "stderr",
          "text": []
        },
        {
          "output_type": "stream",
          "name": "stdout",
          "text": [
            "Moviepy - Done !\n",
            "Moviepy - video ready /content/drive/MyDrive/Thesis/New added Video3/วันเกิด.mp4\n",
            "Successfully converted /content/drive/MyDrive/Thesis/โหลดใหม่ ครั้งที่ 3/วันเกิด.gif to /content/drive/MyDrive/Thesis/New added Video3/วันเกิด.mp4\n",
            "Moviepy - Building video /content/drive/MyDrive/Thesis/New added Video3/วันเว้นวัน.mp4.\n",
            "Moviepy - Writing video /content/drive/MyDrive/Thesis/New added Video3/วันเว้นวัน.mp4\n",
            "\n"
          ]
        },
        {
          "output_type": "stream",
          "name": "stderr",
          "text": []
        },
        {
          "output_type": "stream",
          "name": "stdout",
          "text": [
            "Moviepy - Done !\n",
            "Moviepy - video ready /content/drive/MyDrive/Thesis/New added Video3/วันเว้นวัน.mp4\n",
            "Successfully converted /content/drive/MyDrive/Thesis/โหลดใหม่ ครั้งที่ 3/วันเว้นวัน.gif to /content/drive/MyDrive/Thesis/New added Video3/วันเว้นวัน.mp4\n",
            "Moviepy - Building video /content/drive/MyDrive/Thesis/New added Video3/ทิศตะวันตก.mp4.\n",
            "Moviepy - Writing video /content/drive/MyDrive/Thesis/New added Video3/ทิศตะวันตก.mp4\n",
            "\n"
          ]
        },
        {
          "output_type": "stream",
          "name": "stderr",
          "text": []
        },
        {
          "output_type": "stream",
          "name": "stdout",
          "text": [
            "Moviepy - Done !\n",
            "Moviepy - video ready /content/drive/MyDrive/Thesis/New added Video3/ทิศตะวันตก.mp4\n",
            "Successfully converted /content/drive/MyDrive/Thesis/โหลดใหม่ ครั้งที่ 3/ทิศตะวันตก.gif to /content/drive/MyDrive/Thesis/New added Video3/ทิศตะวันตก.mp4\n",
            "Moviepy - Building video /content/drive/MyDrive/Thesis/New added Video3/ทิศตะวันออก.mp4.\n",
            "Moviepy - Writing video /content/drive/MyDrive/Thesis/New added Video3/ทิศตะวันออก.mp4\n",
            "\n"
          ]
        },
        {
          "output_type": "stream",
          "name": "stderr",
          "text": []
        },
        {
          "output_type": "stream",
          "name": "stdout",
          "text": [
            "Moviepy - Done !\n",
            "Moviepy - video ready /content/drive/MyDrive/Thesis/New added Video3/ทิศตะวันออก.mp4\n",
            "Successfully converted /content/drive/MyDrive/Thesis/โหลดใหม่ ครั้งที่ 3/ทิศตะวันออก.gif to /content/drive/MyDrive/Thesis/New added Video3/ทิศตะวันออก.mp4\n",
            "Moviepy - Building video /content/drive/MyDrive/Thesis/New added Video3/วัดมหาวัน.mp4.\n",
            "Moviepy - Writing video /content/drive/MyDrive/Thesis/New added Video3/วัดมหาวัน.mp4\n",
            "\n"
          ]
        },
        {
          "output_type": "stream",
          "name": "stderr",
          "text": []
        },
        {
          "output_type": "stream",
          "name": "stdout",
          "text": [
            "Moviepy - Done !\n",
            "Moviepy - video ready /content/drive/MyDrive/Thesis/New added Video3/วัดมหาวัน.mp4\n",
            "Successfully converted /content/drive/MyDrive/Thesis/โหลดใหม่ ครั้งที่ 3/วัดมหาวัน.gif to /content/drive/MyDrive/Thesis/New added Video3/วัดมหาวัน.mp4\n",
            "Moviepy - Building video /content/drive/MyDrive/Thesis/New added Video3/ถนนคนเดินวันศุกร์.mp4.\n",
            "Moviepy - Writing video /content/drive/MyDrive/Thesis/New added Video3/ถนนคนเดินวันศุกร์.mp4\n",
            "\n"
          ]
        },
        {
          "output_type": "stream",
          "name": "stderr",
          "text": []
        },
        {
          "output_type": "stream",
          "name": "stdout",
          "text": [
            "Moviepy - Done !\n",
            "Moviepy - video ready /content/drive/MyDrive/Thesis/New added Video3/ถนนคนเดินวันศุกร์.mp4\n",
            "Successfully converted /content/drive/MyDrive/Thesis/โหลดใหม่ ครั้งที่ 3/ถนนคนเดินวันศุกร์.gif to /content/drive/MyDrive/Thesis/New added Video3/ถนนคนเดินวันศุกร์.mp4\n",
            "Moviepy - Building video /content/drive/MyDrive/Thesis/New added Video3/เจ้าชู้.mp4.\n",
            "Moviepy - Writing video /content/drive/MyDrive/Thesis/New added Video3/เจ้าชู้.mp4\n",
            "\n"
          ]
        },
        {
          "output_type": "stream",
          "name": "stderr",
          "text": []
        },
        {
          "output_type": "stream",
          "name": "stdout",
          "text": [
            "Moviepy - Done !\n",
            "Moviepy - video ready /content/drive/MyDrive/Thesis/New added Video3/เจ้าชู้.mp4\n",
            "Successfully converted /content/drive/MyDrive/Thesis/โหลดใหม่ ครั้งที่ 3/เจ้าชู้.gif to /content/drive/MyDrive/Thesis/New added Video3/เจ้าชู้.mp4\n",
            "Moviepy - Building video /content/drive/MyDrive/Thesis/New added Video3/เจ้าชู้ (หมายถึงผู้ทำท่ามือหรือผู้พูด).mp4.\n",
            "Moviepy - Writing video /content/drive/MyDrive/Thesis/New added Video3/เจ้าชู้ (หมายถึงผู้ทำท่ามือหรือผู้พูด).mp4\n",
            "\n"
          ]
        },
        {
          "output_type": "stream",
          "name": "stderr",
          "text": []
        },
        {
          "output_type": "stream",
          "name": "stdout",
          "text": [
            "Moviepy - Done !\n",
            "Moviepy - video ready /content/drive/MyDrive/Thesis/New added Video3/เจ้าชู้ (หมายถึงผู้ทำท่ามือหรือผู้พูด).mp4\n",
            "Successfully converted /content/drive/MyDrive/Thesis/โหลดใหม่ ครั้งที่ 3/เจ้าชู้ (หมายถึงผู้ทำท่ามือหรือผู้พูด).gif to /content/drive/MyDrive/Thesis/New added Video3/เจ้าชู้ (หมายถึงผู้ทำท่ามือหรือผู้พูด).mp4\n",
            "Moviepy - Building video /content/drive/MyDrive/Thesis/New added Video3/เสี่ยง (ท่าที่ 2 ).mp4.\n",
            "Moviepy - Writing video /content/drive/MyDrive/Thesis/New added Video3/เสี่ยง (ท่าที่ 2 ).mp4\n",
            "\n"
          ]
        },
        {
          "output_type": "stream",
          "name": "stderr",
          "text": []
        },
        {
          "output_type": "stream",
          "name": "stdout",
          "text": [
            "Moviepy - Done !\n",
            "Moviepy - video ready /content/drive/MyDrive/Thesis/New added Video3/เสี่ยง (ท่าที่ 2 ).mp4\n",
            "Successfully converted /content/drive/MyDrive/Thesis/โหลดใหม่ ครั้งที่ 3/เสี่ยง (ท่าที่ 2 ).gif to /content/drive/MyDrive/Thesis/New added Video3/เสี่ยง (ท่าที่ 2 ).mp4\n",
            "Moviepy - Building video /content/drive/MyDrive/Thesis/New added Video3/เสี่ยง.mp4.\n",
            "Moviepy - Writing video /content/drive/MyDrive/Thesis/New added Video3/เสี่ยง.mp4\n",
            "\n"
          ]
        },
        {
          "output_type": "stream",
          "name": "stderr",
          "text": []
        },
        {
          "output_type": "stream",
          "name": "stdout",
          "text": [
            "Moviepy - Done !\n",
            "Moviepy - video ready /content/drive/MyDrive/Thesis/New added Video3/เสี่ยง.mp4\n",
            "Successfully converted /content/drive/MyDrive/Thesis/โหลดใหม่ ครั้งที่ 3/เสี่ยง.gif to /content/drive/MyDrive/Thesis/New added Video3/เสี่ยง.mp4\n",
            "Moviepy - Building video /content/drive/MyDrive/Thesis/New added Video3/พินิจพิจารณา.mp4.\n",
            "Moviepy - Writing video /content/drive/MyDrive/Thesis/New added Video3/พินิจพิจารณา.mp4\n",
            "\n"
          ]
        },
        {
          "output_type": "stream",
          "name": "stderr",
          "text": []
        },
        {
          "output_type": "stream",
          "name": "stdout",
          "text": [
            "Moviepy - Done !\n",
            "Moviepy - video ready /content/drive/MyDrive/Thesis/New added Video3/พินิจพิจารณา.mp4\n",
            "Successfully converted /content/drive/MyDrive/Thesis/โหลดใหม่ ครั้งที่ 3/พินิจพิจารณา.gif to /content/drive/MyDrive/Thesis/New added Video3/พินิจพิจารณา.mp4\n",
            "Moviepy - Building video /content/drive/MyDrive/Thesis/New added Video3/มองดู.mp4.\n",
            "Moviepy - Writing video /content/drive/MyDrive/Thesis/New added Video3/มองดู.mp4\n",
            "\n"
          ]
        },
        {
          "output_type": "stream",
          "name": "stderr",
          "text": []
        },
        {
          "output_type": "stream",
          "name": "stdout",
          "text": [
            "Moviepy - Done !\n",
            "Moviepy - video ready /content/drive/MyDrive/Thesis/New added Video3/มองดู.mp4\n",
            "Successfully converted /content/drive/MyDrive/Thesis/โหลดใหม่ ครั้งที่ 3/มองดู.gif to /content/drive/MyDrive/Thesis/New added Video3/มองดู.mp4\n",
            "Moviepy - Building video /content/drive/MyDrive/Thesis/New added Video3/รังแก.mp4.\n",
            "Moviepy - Writing video /content/drive/MyDrive/Thesis/New added Video3/รังแก.mp4\n",
            "\n"
          ]
        },
        {
          "output_type": "stream",
          "name": "stderr",
          "text": []
        },
        {
          "output_type": "stream",
          "name": "stdout",
          "text": [
            "Moviepy - Done !\n",
            "Moviepy - video ready /content/drive/MyDrive/Thesis/New added Video3/รังแก.mp4\n",
            "Successfully converted /content/drive/MyDrive/Thesis/โหลดใหม่ ครั้งที่ 3/รังแก.gif to /content/drive/MyDrive/Thesis/New added Video3/รังแก.mp4\n",
            "Moviepy - Building video /content/drive/MyDrive/Thesis/New added Video3/รังแก (ท่ามือนี้หมายถึงผู้ทำท่ามือรังแกผู้นั้น).mp4.\n",
            "Moviepy - Writing video /content/drive/MyDrive/Thesis/New added Video3/รังแก (ท่ามือนี้หมายถึงผู้ทำท่ามือรังแกผู้นั้น).mp4\n",
            "\n"
          ]
        },
        {
          "output_type": "stream",
          "name": "stderr",
          "text": []
        },
        {
          "output_type": "stream",
          "name": "stdout",
          "text": [
            "Moviepy - Done !\n",
            "Moviepy - video ready /content/drive/MyDrive/Thesis/New added Video3/รังแก (ท่ามือนี้หมายถึงผู้ทำท่ามือรังแกผู้นั้น).mp4\n",
            "Successfully converted /content/drive/MyDrive/Thesis/โหลดใหม่ ครั้งที่ 3/รังแก (ท่ามือนี้หมายถึงผู้ทำท่ามือรังแกผู้นั้น).gif to /content/drive/MyDrive/Thesis/New added Video3/รังแก (ท่ามือนี้หมายถึงผู้ทำท่ามือรังแกผู้นั้น).mp4\n",
            "Moviepy - Building video /content/drive/MyDrive/Thesis/New added Video3/สอนอย่างตั้งใจ.mp4.\n",
            "Moviepy - Writing video /content/drive/MyDrive/Thesis/New added Video3/สอนอย่างตั้งใจ.mp4\n",
            "\n"
          ]
        },
        {
          "output_type": "stream",
          "name": "stderr",
          "text": []
        },
        {
          "output_type": "stream",
          "name": "stdout",
          "text": [
            "Moviepy - Done !\n",
            "Moviepy - video ready /content/drive/MyDrive/Thesis/New added Video3/สอนอย่างตั้งใจ.mp4\n",
            "Successfully converted /content/drive/MyDrive/Thesis/โหลดใหม่ ครั้งที่ 3/สอนอย่างตั้งใจ.gif to /content/drive/MyDrive/Thesis/New added Video3/สอนอย่างตั้งใจ.mp4\n",
            "Moviepy - Building video /content/drive/MyDrive/Thesis/New added Video3/สอน (ท่ามือนี้หมายถึงผู้ทำท่ามือสอนไปยังผู้นั้น).mp4.\n",
            "Moviepy - Writing video /content/drive/MyDrive/Thesis/New added Video3/สอน (ท่ามือนี้หมายถึงผู้ทำท่ามือสอนไปยังผู้นั้น).mp4\n",
            "\n"
          ]
        },
        {
          "output_type": "stream",
          "name": "stderr",
          "text": []
        },
        {
          "output_type": "stream",
          "name": "stdout",
          "text": [
            "Moviepy - Done !\n",
            "Moviepy - video ready /content/drive/MyDrive/Thesis/New added Video3/สอน (ท่ามือนี้หมายถึงผู้ทำท่ามือสอนไปยังผู้นั้น).mp4\n",
            "Successfully converted /content/drive/MyDrive/Thesis/โหลดใหม่ ครั้งที่ 3/สอน (ท่ามือนี้หมายถึงผู้ทำท่ามือสอนไปยังผู้นั้น).gif to /content/drive/MyDrive/Thesis/New added Video3/สอน (ท่ามือนี้หมายถึงผู้ทำท่ามือสอนไปยังผู้นั้น).mp4\n",
            "Moviepy - Building video /content/drive/MyDrive/Thesis/New added Video3/แพร่ ท่ามือนี้หมายถึงข่าวกระจายออกไป.mp4.\n",
            "Moviepy - Writing video /content/drive/MyDrive/Thesis/New added Video3/แพร่ ท่ามือนี้หมายถึงข่าวกระจายออกไป.mp4\n",
            "\n"
          ]
        },
        {
          "output_type": "stream",
          "name": "stderr",
          "text": []
        },
        {
          "output_type": "stream",
          "name": "stdout",
          "text": [
            "Moviepy - Done !\n",
            "Moviepy - video ready /content/drive/MyDrive/Thesis/New added Video3/แพร่ ท่ามือนี้หมายถึงข่าวกระจายออกไป.mp4\n",
            "Successfully converted /content/drive/MyDrive/Thesis/โหลดใหม่ ครั้งที่ 3/แพร่ ท่ามือนี้หมายถึงข่าวกระจายออกไป.gif to /content/drive/MyDrive/Thesis/New added Video3/แพร่ ท่ามือนี้หมายถึงข่าวกระจายออกไป.mp4\n",
            "Moviepy - Building video /content/drive/MyDrive/Thesis/New added Video3/คิดถึง.mp4.\n",
            "Moviepy - Writing video /content/drive/MyDrive/Thesis/New added Video3/คิดถึง.mp4\n",
            "\n"
          ]
        },
        {
          "output_type": "stream",
          "name": "stderr",
          "text": []
        },
        {
          "output_type": "stream",
          "name": "stdout",
          "text": [
            "Moviepy - Done !\n",
            "Moviepy - video ready /content/drive/MyDrive/Thesis/New added Video3/คิดถึง.mp4\n",
            "Successfully converted /content/drive/MyDrive/Thesis/โหลดใหม่ ครั้งที่ 3/คิดถึง.gif to /content/drive/MyDrive/Thesis/New added Video3/คิดถึง.mp4\n",
            "Moviepy - Building video /content/drive/MyDrive/Thesis/New added Video3/พี่น้อง.mp4.\n",
            "Moviepy - Writing video /content/drive/MyDrive/Thesis/New added Video3/พี่น้อง.mp4\n",
            "\n"
          ]
        },
        {
          "output_type": "stream",
          "name": "stderr",
          "text": []
        },
        {
          "output_type": "stream",
          "name": "stdout",
          "text": [
            "Moviepy - Done !\n",
            "Moviepy - video ready /content/drive/MyDrive/Thesis/New added Video3/พี่น้อง.mp4\n",
            "Successfully converted /content/drive/MyDrive/Thesis/โหลดใหม่ ครั้งที่ 3/พี่น้อง.gif to /content/drive/MyDrive/Thesis/New added Video3/พี่น้อง.mp4\n",
            "Moviepy - Building video /content/drive/MyDrive/Thesis/New added Video3/คู่.mp4.\n",
            "Moviepy - Writing video /content/drive/MyDrive/Thesis/New added Video3/คู่.mp4\n",
            "\n"
          ]
        },
        {
          "output_type": "stream",
          "name": "stderr",
          "text": []
        },
        {
          "output_type": "stream",
          "name": "stdout",
          "text": [
            "Moviepy - Done !\n",
            "Moviepy - video ready /content/drive/MyDrive/Thesis/New added Video3/คู่.mp4\n",
            "Successfully converted /content/drive/MyDrive/Thesis/โหลดใหม่ ครั้งที่ 3/คู่.gif to /content/drive/MyDrive/Thesis/New added Video3/คู่.mp4\n",
            "Moviepy - Building video /content/drive/MyDrive/Thesis/New added Video3/ดีทั้งคู่.mp4.\n",
            "Moviepy - Writing video /content/drive/MyDrive/Thesis/New added Video3/ดีทั้งคู่.mp4\n",
            "\n"
          ]
        },
        {
          "output_type": "stream",
          "name": "stderr",
          "text": []
        },
        {
          "output_type": "stream",
          "name": "stdout",
          "text": [
            "Moviepy - Done !\n",
            "Moviepy - video ready /content/drive/MyDrive/Thesis/New added Video3/ดีทั้งคู่.mp4\n",
            "Successfully converted /content/drive/MyDrive/Thesis/โหลดใหม่ ครั้งที่ 3/ดีทั้งคู่.gif to /content/drive/MyDrive/Thesis/New added Video3/ดีทั้งคู่.mp4\n",
            "Moviepy - Building video /content/drive/MyDrive/Thesis/New added Video3/อ้วนขึ้นทั้งคู่.mp4.\n",
            "Moviepy - Writing video /content/drive/MyDrive/Thesis/New added Video3/อ้วนขึ้นทั้งคู่.mp4\n",
            "\n"
          ]
        },
        {
          "output_type": "stream",
          "name": "stderr",
          "text": []
        },
        {
          "output_type": "stream",
          "name": "stdout",
          "text": [
            "Moviepy - Done !\n",
            "Moviepy - video ready /content/drive/MyDrive/Thesis/New added Video3/อ้วนขึ้นทั้งคู่.mp4\n",
            "Successfully converted /content/drive/MyDrive/Thesis/โหลดใหม่ ครั้งที่ 3/อ้วนขึ้นทั้งคู่.gif to /content/drive/MyDrive/Thesis/New added Video3/อ้วนขึ้นทั้งคู่.mp4\n",
            "Moviepy - Building video /content/drive/MyDrive/Thesis/New added Video3/เผชิญหน้ากันระหว่างผู้ทำท่ามือกับคู่สนทนา.mp4.\n",
            "Moviepy - Writing video /content/drive/MyDrive/Thesis/New added Video3/เผชิญหน้ากันระหว่างผู้ทำท่ามือกับคู่สนทนา.mp4\n",
            "\n"
          ]
        },
        {
          "output_type": "stream",
          "name": "stderr",
          "text": []
        },
        {
          "output_type": "stream",
          "name": "stdout",
          "text": [
            "Moviepy - Done !\n",
            "Moviepy - video ready /content/drive/MyDrive/Thesis/New added Video3/เผชิญหน้ากันระหว่างผู้ทำท่ามือกับคู่สนทนา.mp4\n",
            "Successfully converted /content/drive/MyDrive/Thesis/โหลดใหม่ ครั้งที่ 3/เผชิญหน้ากันระหว่างผู้ทำท่ามือกับคู่สนทนา.gif to /content/drive/MyDrive/Thesis/New added Video3/เผชิญหน้ากันระหว่างผู้ทำท่ามือกับคู่สนทนา.mp4\n",
            "Moviepy - Building video /content/drive/MyDrive/Thesis/New added Video3/เลขคู่.mp4.\n",
            "Moviepy - Writing video /content/drive/MyDrive/Thesis/New added Video3/เลขคู่.mp4\n",
            "\n"
          ]
        },
        {
          "output_type": "stream",
          "name": "stderr",
          "text": []
        },
        {
          "output_type": "stream",
          "name": "stdout",
          "text": [
            "Moviepy - Done !\n",
            "Moviepy - video ready /content/drive/MyDrive/Thesis/New added Video3/เลขคู่.mp4\n",
            "Successfully converted /content/drive/MyDrive/Thesis/โหลดใหม่ ครั้งที่ 3/เลขคู่.gif to /content/drive/MyDrive/Thesis/New added Video3/เลขคู่.mp4\n",
            "Moviepy - Building video /content/drive/MyDrive/Thesis/New added Video3/ดอกเหลืองอินเดีย.mp4.\n",
            "Moviepy - Writing video /content/drive/MyDrive/Thesis/New added Video3/ดอกเหลืองอินเดีย.mp4\n",
            "\n"
          ]
        },
        {
          "output_type": "stream",
          "name": "stderr",
          "text": []
        },
        {
          "output_type": "stream",
          "name": "stdout",
          "text": [
            "Moviepy - Done !\n",
            "Moviepy - video ready /content/drive/MyDrive/Thesis/New added Video3/ดอกเหลืองอินเดีย.mp4\n",
            "Successfully converted /content/drive/MyDrive/Thesis/โหลดใหม่ ครั้งที่ 3/ดอกเหลืองอินเดีย.gif to /content/drive/MyDrive/Thesis/New added Video3/ดอกเหลืองอินเดีย.mp4\n",
            "Moviepy - Building video /content/drive/MyDrive/Thesis/New added Video3/รถไฟฟ้าสายสีเหลือง.mp4.\n",
            "Moviepy - Writing video /content/drive/MyDrive/Thesis/New added Video3/รถไฟฟ้าสายสีเหลือง.mp4\n",
            "\n"
          ]
        },
        {
          "output_type": "stream",
          "name": "stderr",
          "text": []
        },
        {
          "output_type": "stream",
          "name": "stdout",
          "text": [
            "Moviepy - Done !\n",
            "Moviepy - video ready /content/drive/MyDrive/Thesis/New added Video3/รถไฟฟ้าสายสีเหลือง.mp4\n",
            "Successfully converted /content/drive/MyDrive/Thesis/โหลดใหม่ ครั้งที่ 3/รถไฟฟ้าสายสีเหลือง.gif to /content/drive/MyDrive/Thesis/New added Video3/รถไฟฟ้าสายสีเหลือง.mp4\n",
            "Moviepy - Building video /content/drive/MyDrive/Thesis/New added Video3/งูเหลือม.mp4.\n",
            "Moviepy - Writing video /content/drive/MyDrive/Thesis/New added Video3/งูเหลือม.mp4\n",
            "\n"
          ]
        },
        {
          "output_type": "stream",
          "name": "stderr",
          "text": []
        },
        {
          "output_type": "stream",
          "name": "stdout",
          "text": [
            "Moviepy - Done !\n",
            "Moviepy - video ready /content/drive/MyDrive/Thesis/New added Video3/งูเหลือม.mp4\n",
            "Successfully converted /content/drive/MyDrive/Thesis/โหลดใหม่ ครั้งที่ 3/งูเหลือม.gif to /content/drive/MyDrive/Thesis/New added Video3/งูเหลือม.mp4\n",
            "Moviepy - Building video /content/drive/MyDrive/Thesis/New added Video3/ซอสถั่วเหลือง.mp4.\n",
            "Moviepy - Writing video /content/drive/MyDrive/Thesis/New added Video3/ซอสถั่วเหลือง.mp4\n",
            "\n"
          ]
        },
        {
          "output_type": "stream",
          "name": "stderr",
          "text": []
        },
        {
          "output_type": "stream",
          "name": "stdout",
          "text": [
            "Moviepy - Done !\n",
            "Moviepy - video ready /content/drive/MyDrive/Thesis/New added Video3/ซอสถั่วเหลือง.mp4\n",
            "Successfully converted /content/drive/MyDrive/Thesis/โหลดใหม่ ครั้งที่ 3/ซอสถั่วเหลือง.gif to /content/drive/MyDrive/Thesis/New added Video3/ซอสถั่วเหลือง.mp4\n",
            "Moviepy - Building video /content/drive/MyDrive/Thesis/New added Video3/พริกเหลือง.mp4.\n",
            "Moviepy - Writing video /content/drive/MyDrive/Thesis/New added Video3/พริกเหลือง.mp4\n",
            "\n"
          ]
        },
        {
          "output_type": "stream",
          "name": "stderr",
          "text": []
        },
        {
          "output_type": "stream",
          "name": "stdout",
          "text": [
            "Moviepy - Done !\n",
            "Moviepy - video ready /content/drive/MyDrive/Thesis/New added Video3/พริกเหลือง.mp4\n",
            "Successfully converted /content/drive/MyDrive/Thesis/โหลดใหม่ ครั้งที่ 3/พริกเหลือง.gif to /content/drive/MyDrive/Thesis/New added Video3/พริกเหลือง.mp4\n",
            "Moviepy - Building video /content/drive/MyDrive/Thesis/New added Video3/สีเหลือง.mp4.\n",
            "Moviepy - Writing video /content/drive/MyDrive/Thesis/New added Video3/สีเหลือง.mp4\n",
            "\n"
          ]
        },
        {
          "output_type": "stream",
          "name": "stderr",
          "text": []
        },
        {
          "output_type": "stream",
          "name": "stdout",
          "text": [
            "Moviepy - Done !\n",
            "Moviepy - video ready /content/drive/MyDrive/Thesis/New added Video3/สีเหลือง.mp4\n",
            "Successfully converted /content/drive/MyDrive/Thesis/โหลดใหม่ ครั้งที่ 3/สีเหลือง.gif to /content/drive/MyDrive/Thesis/New added Video3/สีเหลือง.mp4\n",
            "Moviepy - Building video /content/drive/MyDrive/Thesis/New added Video3/แค้น.mp4.\n",
            "Moviepy - Writing video /content/drive/MyDrive/Thesis/New added Video3/แค้น.mp4\n",
            "\n"
          ]
        },
        {
          "output_type": "stream",
          "name": "stderr",
          "text": []
        },
        {
          "output_type": "stream",
          "name": "stdout",
          "text": [
            "Moviepy - Done !\n",
            "Moviepy - video ready /content/drive/MyDrive/Thesis/New added Video3/แค้น.mp4\n",
            "Successfully converted /content/drive/MyDrive/Thesis/โหลดใหม่ ครั้งที่ 3/แค้น.gif to /content/drive/MyDrive/Thesis/New added Video3/แค้น.mp4\n",
            "Moviepy - Building video /content/drive/MyDrive/Thesis/New added Video3/ตระหนี่.mp4.\n",
            "Moviepy - Writing video /content/drive/MyDrive/Thesis/New added Video3/ตระหนี่.mp4\n",
            "\n"
          ]
        },
        {
          "output_type": "stream",
          "name": "stderr",
          "text": []
        },
        {
          "output_type": "stream",
          "name": "stdout",
          "text": [
            "Moviepy - Done !\n",
            "Moviepy - video ready /content/drive/MyDrive/Thesis/New added Video3/ตระหนี่.mp4\n",
            "Successfully converted /content/drive/MyDrive/Thesis/โหลดใหม่ ครั้งที่ 3/ตระหนี่.gif to /content/drive/MyDrive/Thesis/New added Video3/ตระหนี่.mp4\n",
            "Moviepy - Building video /content/drive/MyDrive/Thesis/New added Video3/ขี้เหนียว.mp4.\n",
            "Moviepy - Writing video /content/drive/MyDrive/Thesis/New added Video3/ขี้เหนียว.mp4\n",
            "\n"
          ]
        },
        {
          "output_type": "stream",
          "name": "stderr",
          "text": []
        },
        {
          "output_type": "stream",
          "name": "stdout",
          "text": [
            "Moviepy - Done !\n",
            "Moviepy - video ready /content/drive/MyDrive/Thesis/New added Video3/ขี้เหนียว.mp4\n",
            "Successfully converted /content/drive/MyDrive/Thesis/โหลดใหม่ ครั้งที่ 3/ขี้เหนียว.gif to /content/drive/MyDrive/Thesis/New added Video3/ขี้เหนียว.mp4\n",
            "Moviepy - Building video /content/drive/MyDrive/Thesis/New added Video3/อาเจียน.mp4.\n",
            "Moviepy - Writing video /content/drive/MyDrive/Thesis/New added Video3/อาเจียน.mp4\n",
            "\n"
          ]
        },
        {
          "output_type": "stream",
          "name": "stderr",
          "text": []
        },
        {
          "output_type": "stream",
          "name": "stdout",
          "text": [
            "Moviepy - Done !\n",
            "Moviepy - video ready /content/drive/MyDrive/Thesis/New added Video3/อาเจียน.mp4\n",
            "Successfully converted /content/drive/MyDrive/Thesis/โหลดใหม่ ครั้งที่ 3/อาเจียน.gif to /content/drive/MyDrive/Thesis/New added Video3/อาเจียน.mp4\n",
            "Moviepy - Building video /content/drive/MyDrive/Thesis/New added Video3/ประหม่า.mp4.\n",
            "Moviepy - Writing video /content/drive/MyDrive/Thesis/New added Video3/ประหม่า.mp4\n",
            "\n"
          ]
        },
        {
          "output_type": "stream",
          "name": "stderr",
          "text": []
        },
        {
          "output_type": "stream",
          "name": "stdout",
          "text": [
            "Moviepy - Done !\n",
            "Moviepy - video ready /content/drive/MyDrive/Thesis/New added Video3/ประหม่า.mp4\n",
            "Successfully converted /content/drive/MyDrive/Thesis/โหลดใหม่ ครั้งที่ 3/ประหม่า.gif to /content/drive/MyDrive/Thesis/New added Video3/ประหม่า.mp4\n",
            "Moviepy - Building video /content/drive/MyDrive/Thesis/New added Video3/โครงสร้าง.mp4.\n",
            "Moviepy - Writing video /content/drive/MyDrive/Thesis/New added Video3/โครงสร้าง.mp4\n",
            "\n"
          ]
        },
        {
          "output_type": "stream",
          "name": "stderr",
          "text": []
        },
        {
          "output_type": "stream",
          "name": "stdout",
          "text": [
            "Moviepy - Done !\n",
            "Moviepy - video ready /content/drive/MyDrive/Thesis/New added Video3/โครงสร้าง.mp4\n",
            "Successfully converted /content/drive/MyDrive/Thesis/โหลดใหม่ ครั้งที่ 3/โครงสร้าง.gif to /content/drive/MyDrive/Thesis/New added Video3/โครงสร้าง.mp4\n",
            "Moviepy - Building video /content/drive/MyDrive/Thesis/New added Video3/รุ้งกินน้ำ.mp4.\n",
            "Moviepy - Writing video /content/drive/MyDrive/Thesis/New added Video3/รุ้งกินน้ำ.mp4\n",
            "\n"
          ]
        },
        {
          "output_type": "stream",
          "name": "stderr",
          "text": []
        },
        {
          "output_type": "stream",
          "name": "stdout",
          "text": [
            "Moviepy - Done !\n",
            "Moviepy - video ready /content/drive/MyDrive/Thesis/New added Video3/รุ้งกินน้ำ.mp4\n",
            "Successfully converted /content/drive/MyDrive/Thesis/โหลดใหม่ ครั้งที่ 3/รุ้งกินน้ำ.gif to /content/drive/MyDrive/Thesis/New added Video3/รุ้งกินน้ำ.mp4\n",
            "Moviepy - Building video /content/drive/MyDrive/Thesis/New added Video3/ชิงช้า.mp4.\n",
            "Moviepy - Writing video /content/drive/MyDrive/Thesis/New added Video3/ชิงช้า.mp4\n",
            "\n"
          ]
        },
        {
          "output_type": "stream",
          "name": "stderr",
          "text": []
        },
        {
          "output_type": "stream",
          "name": "stdout",
          "text": [
            "Moviepy - Done !\n",
            "Moviepy - video ready /content/drive/MyDrive/Thesis/New added Video3/ชิงช้า.mp4\n",
            "Successfully converted /content/drive/MyDrive/Thesis/โหลดใหม่ ครั้งที่ 3/ชิงช้า.gif to /content/drive/MyDrive/Thesis/New added Video3/ชิงช้า.mp4\n",
            "Moviepy - Building video /content/drive/MyDrive/Thesis/New added Video3/เสาชิงช้า.mp4.\n",
            "Moviepy - Writing video /content/drive/MyDrive/Thesis/New added Video3/เสาชิงช้า.mp4\n",
            "\n"
          ]
        },
        {
          "output_type": "stream",
          "name": "stderr",
          "text": []
        },
        {
          "output_type": "stream",
          "name": "stdout",
          "text": [
            "Moviepy - Done !\n",
            "Moviepy - video ready /content/drive/MyDrive/Thesis/New added Video3/เสาชิงช้า.mp4\n",
            "Successfully converted /content/drive/MyDrive/Thesis/โหลดใหม่ ครั้งที่ 3/เสาชิงช้า.gif to /content/drive/MyDrive/Thesis/New added Video3/เสาชิงช้า.mp4\n",
            "Moviepy - Building video /content/drive/MyDrive/Thesis/New added Video3/รับประกันคุณภาพ.mp4.\n",
            "Moviepy - Writing video /content/drive/MyDrive/Thesis/New added Video3/รับประกันคุณภาพ.mp4\n",
            "\n"
          ]
        },
        {
          "output_type": "stream",
          "name": "stderr",
          "text": []
        },
        {
          "output_type": "stream",
          "name": "stdout",
          "text": [
            "Moviepy - Done !\n",
            "Moviepy - video ready /content/drive/MyDrive/Thesis/New added Video3/รับประกันคุณภาพ.mp4\n",
            "Successfully converted /content/drive/MyDrive/Thesis/โหลดใหม่ ครั้งที่ 3/รับประกันคุณภาพ.gif to /content/drive/MyDrive/Thesis/New added Video3/รับประกันคุณภาพ.mp4\n",
            "Moviepy - Building video /content/drive/MyDrive/Thesis/New added Video3/รับรอง.mp4.\n",
            "Moviepy - Writing video /content/drive/MyDrive/Thesis/New added Video3/รับรอง.mp4\n",
            "\n"
          ]
        },
        {
          "output_type": "stream",
          "name": "stderr",
          "text": []
        },
        {
          "output_type": "stream",
          "name": "stdout",
          "text": [
            "Moviepy - Done !\n",
            "Moviepy - video ready /content/drive/MyDrive/Thesis/New added Video3/รับรอง.mp4\n",
            "Successfully converted /content/drive/MyDrive/Thesis/โหลดใหม่ ครั้งที่ 3/รับรอง.gif to /content/drive/MyDrive/Thesis/New added Video3/รับรอง.mp4\n",
            "Moviepy - Building video /content/drive/MyDrive/Thesis/New added Video3/หน้าซีด.mp4.\n",
            "Moviepy - Writing video /content/drive/MyDrive/Thesis/New added Video3/หน้าซีด.mp4\n",
            "\n"
          ]
        },
        {
          "output_type": "stream",
          "name": "stderr",
          "text": []
        },
        {
          "output_type": "stream",
          "name": "stdout",
          "text": [
            "Moviepy - Done !\n",
            "Moviepy - video ready /content/drive/MyDrive/Thesis/New added Video3/หน้าซีด.mp4\n",
            "Successfully converted /content/drive/MyDrive/Thesis/โหลดใหม่ ครั้งที่ 3/หน้าซีด.gif to /content/drive/MyDrive/Thesis/New added Video3/หน้าซีด.mp4\n",
            "Moviepy - Building video /content/drive/MyDrive/Thesis/New added Video3/สุดท้าย.mp4.\n",
            "Moviepy - Writing video /content/drive/MyDrive/Thesis/New added Video3/สุดท้าย.mp4\n",
            "\n"
          ]
        },
        {
          "output_type": "stream",
          "name": "stderr",
          "text": []
        },
        {
          "output_type": "stream",
          "name": "stdout",
          "text": [
            "Moviepy - Done !\n",
            "Moviepy - video ready /content/drive/MyDrive/Thesis/New added Video3/สุดท้าย.mp4\n",
            "Successfully converted /content/drive/MyDrive/Thesis/โหลดใหม่ ครั้งที่ 3/สุดท้าย.gif to /content/drive/MyDrive/Thesis/New added Video3/สุดท้าย.mp4\n",
            "Moviepy - Building video /content/drive/MyDrive/Thesis/New added Video3/ครั้งเดียวเท่านั้น.mp4.\n",
            "Moviepy - Writing video /content/drive/MyDrive/Thesis/New added Video3/ครั้งเดียวเท่านั้น.mp4\n",
            "\n"
          ]
        },
        {
          "output_type": "stream",
          "name": "stderr",
          "text": []
        },
        {
          "output_type": "stream",
          "name": "stdout",
          "text": [
            "Moviepy - Done !\n",
            "Moviepy - video ready /content/drive/MyDrive/Thesis/New added Video3/ครั้งเดียวเท่านั้น.mp4\n",
            "Successfully converted /content/drive/MyDrive/Thesis/โหลดใหม่ ครั้งที่ 3/ครั้งเดียวเท่านั้น.gif to /content/drive/MyDrive/Thesis/New added Video3/ครั้งเดียวเท่านั้น.mp4\n",
            "Moviepy - Building video /content/drive/MyDrive/Thesis/New added Video3/เพียงหนึ่งเท่านั้น.mp4.\n",
            "Moviepy - Writing video /content/drive/MyDrive/Thesis/New added Video3/เพียงหนึ่งเท่านั้น.mp4\n",
            "\n"
          ]
        },
        {
          "output_type": "stream",
          "name": "stderr",
          "text": []
        },
        {
          "output_type": "stream",
          "name": "stdout",
          "text": [
            "Moviepy - Done !\n",
            "Moviepy - video ready /content/drive/MyDrive/Thesis/New added Video3/เพียงหนึ่งเท่านั้น.mp4\n",
            "Successfully converted /content/drive/MyDrive/Thesis/โหลดใหม่ ครั้งที่ 3/เพียงหนึ่งเท่านั้น.gif to /content/drive/MyDrive/Thesis/New added Video3/เพียงหนึ่งเท่านั้น.mp4\n",
            "Moviepy - Building video /content/drive/MyDrive/Thesis/New added Video3/ขนลุก.mp4.\n",
            "Moviepy - Writing video /content/drive/MyDrive/Thesis/New added Video3/ขนลุก.mp4\n",
            "\n"
          ]
        },
        {
          "output_type": "stream",
          "name": "stderr",
          "text": []
        },
        {
          "output_type": "stream",
          "name": "stdout",
          "text": [
            "Moviepy - Done !\n",
            "Moviepy - video ready /content/drive/MyDrive/Thesis/New added Video3/ขนลุก.mp4\n",
            "Successfully converted /content/drive/MyDrive/Thesis/โหลดใหม่ ครั้งที่ 3/ขนลุก.gif to /content/drive/MyDrive/Thesis/New added Video3/ขนลุก.mp4\n",
            "Moviepy - Building video /content/drive/MyDrive/Thesis/New added Video3/ลอยกระทง.mp4.\n",
            "Moviepy - Writing video /content/drive/MyDrive/Thesis/New added Video3/ลอยกระทง.mp4\n",
            "\n"
          ]
        },
        {
          "output_type": "stream",
          "name": "stderr",
          "text": []
        },
        {
          "output_type": "stream",
          "name": "stdout",
          "text": [
            "Moviepy - Done !\n",
            "Moviepy - video ready /content/drive/MyDrive/Thesis/New added Video3/ลอยกระทง.mp4\n",
            "Successfully converted /content/drive/MyDrive/Thesis/โหลดใหม่ ครั้งที่ 3/ลอยกระทง.gif to /content/drive/MyDrive/Thesis/New added Video3/ลอยกระทง.mp4\n",
            "Moviepy - Building video /content/drive/MyDrive/Thesis/New added Video3/สนใจ.mp4.\n",
            "Moviepy - Writing video /content/drive/MyDrive/Thesis/New added Video3/สนใจ.mp4\n",
            "\n"
          ]
        },
        {
          "output_type": "stream",
          "name": "stderr",
          "text": []
        },
        {
          "output_type": "stream",
          "name": "stdout",
          "text": [
            "Moviepy - Done !\n",
            "Moviepy - video ready /content/drive/MyDrive/Thesis/New added Video3/สนใจ.mp4\n",
            "Successfully converted /content/drive/MyDrive/Thesis/โหลดใหม่ ครั้งที่ 3/สนใจ.gif to /content/drive/MyDrive/Thesis/New added Video3/สนใจ.mp4\n",
            "Moviepy - Building video /content/drive/MyDrive/Thesis/New added Video3/ไม่สนใจ.mp4.\n",
            "Moviepy - Writing video /content/drive/MyDrive/Thesis/New added Video3/ไม่สนใจ.mp4\n",
            "\n"
          ]
        },
        {
          "output_type": "stream",
          "name": "stderr",
          "text": []
        },
        {
          "output_type": "stream",
          "name": "stdout",
          "text": [
            "Moviepy - Done !\n",
            "Moviepy - video ready /content/drive/MyDrive/Thesis/New added Video3/ไม่สนใจ.mp4\n",
            "Successfully converted /content/drive/MyDrive/Thesis/โหลดใหม่ ครั้งที่ 3/ไม่สนใจ.gif to /content/drive/MyDrive/Thesis/New added Video3/ไม่สนใจ.mp4\n",
            "Moviepy - Building video /content/drive/MyDrive/Thesis/New added Video3/ป้องกัน.mp4.\n",
            "Moviepy - Writing video /content/drive/MyDrive/Thesis/New added Video3/ป้องกัน.mp4\n",
            "\n"
          ]
        },
        {
          "output_type": "stream",
          "name": "stderr",
          "text": []
        },
        {
          "output_type": "stream",
          "name": "stdout",
          "text": [
            "Moviepy - Done !\n",
            "Moviepy - video ready /content/drive/MyDrive/Thesis/New added Video3/ป้องกัน.mp4\n",
            "Successfully converted /content/drive/MyDrive/Thesis/โหลดใหม่ ครั้งที่ 3/ป้องกัน.gif to /content/drive/MyDrive/Thesis/New added Video3/ป้องกัน.mp4\n",
            "Moviepy - Building video /content/drive/MyDrive/Thesis/New added Video3/ซิโนแวค (Sinovac).mp4.\n",
            "Moviepy - Writing video /content/drive/MyDrive/Thesis/New added Video3/ซิโนแวค (Sinovac).mp4\n",
            "\n"
          ]
        },
        {
          "output_type": "stream",
          "name": "stderr",
          "text": []
        },
        {
          "output_type": "stream",
          "name": "stdout",
          "text": [
            "Moviepy - Done !\n",
            "Moviepy - video ready /content/drive/MyDrive/Thesis/New added Video3/ซิโนแวค (Sinovac).mp4\n",
            "Successfully converted /content/drive/MyDrive/Thesis/โหลดใหม่ ครั้งที่ 3/ซิโนแวค (Sinovac).gif to /content/drive/MyDrive/Thesis/New added Video3/ซิโนแวค (Sinovac).mp4\n",
            "Moviepy - Building video /content/drive/MyDrive/Thesis/New added Video3/ซิโนฟาร์ม (Sinopharm).mp4.\n",
            "Moviepy - Writing video /content/drive/MyDrive/Thesis/New added Video3/ซิโนฟาร์ม (Sinopharm).mp4\n",
            "\n"
          ]
        },
        {
          "output_type": "stream",
          "name": "stderr",
          "text": []
        },
        {
          "output_type": "stream",
          "name": "stdout",
          "text": [
            "Moviepy - Done !\n",
            "Moviepy - video ready /content/drive/MyDrive/Thesis/New added Video3/ซิโนฟาร์ม (Sinopharm).mp4\n",
            "Successfully converted /content/drive/MyDrive/Thesis/โหลดใหม่ ครั้งที่ 3/ซิโนฟาร์ม (Sinopharm).gif to /content/drive/MyDrive/Thesis/New added Video3/ซิโนฟาร์ม (Sinopharm).mp4\n",
            "Moviepy - Building video /content/drive/MyDrive/Thesis/New added Video3/อดทน.mp4.\n",
            "Moviepy - Writing video /content/drive/MyDrive/Thesis/New added Video3/อดทน.mp4\n",
            "\n"
          ]
        },
        {
          "output_type": "stream",
          "name": "stderr",
          "text": []
        },
        {
          "output_type": "stream",
          "name": "stdout",
          "text": [
            "Moviepy - Done !\n",
            "Moviepy - video ready /content/drive/MyDrive/Thesis/New added Video3/อดทน.mp4\n",
            "Successfully converted /content/drive/MyDrive/Thesis/โหลดใหม่ ครั้งที่ 3/อดทน.gif to /content/drive/MyDrive/Thesis/New added Video3/อดทน.mp4\n",
            "Moviepy - Building video /content/drive/MyDrive/Thesis/New added Video3/สำคัญ.mp4.\n",
            "Moviepy - Writing video /content/drive/MyDrive/Thesis/New added Video3/สำคัญ.mp4\n",
            "\n"
          ]
        },
        {
          "output_type": "stream",
          "name": "stderr",
          "text": []
        },
        {
          "output_type": "stream",
          "name": "stdout",
          "text": [
            "Moviepy - Done !\n",
            "Moviepy - video ready /content/drive/MyDrive/Thesis/New added Video3/สำคัญ.mp4\n",
            "Successfully converted /content/drive/MyDrive/Thesis/โหลดใหม่ ครั้งที่ 3/สำคัญ.gif to /content/drive/MyDrive/Thesis/New added Video3/สำคัญ.mp4\n",
            "Moviepy - Building video /content/drive/MyDrive/Thesis/New added Video3/ดิเอโก อาร์มันโด มาราโดนา (ท่าที่ 2).mp4.\n",
            "Moviepy - Writing video /content/drive/MyDrive/Thesis/New added Video3/ดิเอโก อาร์มันโด มาราโดนา (ท่าที่ 2).mp4\n",
            "\n"
          ]
        },
        {
          "output_type": "stream",
          "name": "stderr",
          "text": []
        },
        {
          "output_type": "stream",
          "name": "stdout",
          "text": [
            "Moviepy - Done !\n",
            "Moviepy - video ready /content/drive/MyDrive/Thesis/New added Video3/ดิเอโก อาร์มันโด มาราโดนา (ท่าที่ 2).mp4\n",
            "Successfully converted /content/drive/MyDrive/Thesis/โหลดใหม่ ครั้งที่ 3/ดิเอโก อาร์มันโด มาราโดนา (ท่าที่ 2).gif to /content/drive/MyDrive/Thesis/New added Video3/ดิเอโก อาร์มันโด มาราโดนา (ท่าที่ 2).mp4\n",
            "Moviepy - Building video /content/drive/MyDrive/Thesis/New added Video3/ดิเอโก อาร์มันโด มาราโดนา.mp4.\n",
            "Moviepy - Writing video /content/drive/MyDrive/Thesis/New added Video3/ดิเอโก อาร์มันโด มาราโดนา.mp4\n",
            "\n"
          ]
        },
        {
          "output_type": "stream",
          "name": "stderr",
          "text": []
        },
        {
          "output_type": "stream",
          "name": "stdout",
          "text": [
            "Moviepy - Done !\n",
            "Moviepy - video ready /content/drive/MyDrive/Thesis/New added Video3/ดิเอโก อาร์มันโด มาราโดนา.mp4\n",
            "Successfully converted /content/drive/MyDrive/Thesis/โหลดใหม่ ครั้งที่ 3/ดิเอโก อาร์มันโด มาราโดนา.gif to /content/drive/MyDrive/Thesis/New added Video3/ดิเอโก อาร์มันโด มาราโดนา.mp4\n",
            "Moviepy - Building video /content/drive/MyDrive/Thesis/New added Video3/สถานที่สำคัญ.mp4.\n",
            "Moviepy - Writing video /content/drive/MyDrive/Thesis/New added Video3/สถานที่สำคัญ.mp4\n",
            "\n"
          ]
        },
        {
          "output_type": "stream",
          "name": "stderr",
          "text": []
        },
        {
          "output_type": "stream",
          "name": "stdout",
          "text": [
            "Moviepy - Done !\n",
            "Moviepy - video ready /content/drive/MyDrive/Thesis/New added Video3/สถานที่สำคัญ.mp4\n",
            "Successfully converted /content/drive/MyDrive/Thesis/โหลดใหม่ ครั้งที่ 3/สถานที่สำคัญ.gif to /content/drive/MyDrive/Thesis/New added Video3/สถานที่สำคัญ.mp4\n",
            "Moviepy - Building video /content/drive/MyDrive/Thesis/New added Video3/โฉนดที่ดิน.mp4.\n",
            "Moviepy - Writing video /content/drive/MyDrive/Thesis/New added Video3/โฉนดที่ดิน.mp4\n",
            "\n"
          ]
        },
        {
          "output_type": "stream",
          "name": "stderr",
          "text": []
        },
        {
          "output_type": "stream",
          "name": "stdout",
          "text": [
            "Moviepy - Done !\n",
            "Moviepy - video ready /content/drive/MyDrive/Thesis/New added Video3/โฉนดที่ดิน.mp4\n",
            "Successfully converted /content/drive/MyDrive/Thesis/โหลดใหม่ ครั้งที่ 3/โฉนดที่ดิน.gif to /content/drive/MyDrive/Thesis/New added Video3/โฉนดที่ดิน.mp4\n",
            "Moviepy - Building video /content/drive/MyDrive/Thesis/New added Video3/รับสินบน.mp4.\n",
            "Moviepy - Writing video /content/drive/MyDrive/Thesis/New added Video3/รับสินบน.mp4\n",
            "\n"
          ]
        },
        {
          "output_type": "stream",
          "name": "stderr",
          "text": []
        },
        {
          "output_type": "stream",
          "name": "stdout",
          "text": [
            "Moviepy - Done !\n",
            "Moviepy - video ready /content/drive/MyDrive/Thesis/New added Video3/รับสินบน.mp4\n",
            "Successfully converted /content/drive/MyDrive/Thesis/โหลดใหม่ ครั้งที่ 3/รับสินบน.gif to /content/drive/MyDrive/Thesis/New added Video3/รับสินบน.mp4\n",
            "Moviepy - Building video /content/drive/MyDrive/Thesis/New added Video3/รับสินบนเป็นประจำ.mp4.\n",
            "Moviepy - Writing video /content/drive/MyDrive/Thesis/New added Video3/รับสินบนเป็นประจำ.mp4\n",
            "\n"
          ]
        },
        {
          "output_type": "stream",
          "name": "stderr",
          "text": []
        },
        {
          "output_type": "stream",
          "name": "stdout",
          "text": [
            "Moviepy - Done !\n",
            "Moviepy - video ready /content/drive/MyDrive/Thesis/New added Video3/รับสินบนเป็นประจำ.mp4\n",
            "Successfully converted /content/drive/MyDrive/Thesis/โหลดใหม่ ครั้งที่ 3/รับสินบนเป็นประจำ.gif to /content/drive/MyDrive/Thesis/New added Video3/รับสินบนเป็นประจำ.mp4\n",
            "Moviepy - Building video /content/drive/MyDrive/Thesis/New added Video3/ดิน.mp4.\n",
            "Moviepy - Writing video /content/drive/MyDrive/Thesis/New added Video3/ดิน.mp4\n",
            "\n"
          ]
        },
        {
          "output_type": "stream",
          "name": "stderr",
          "text": []
        },
        {
          "output_type": "stream",
          "name": "stdout",
          "text": [
            "Moviepy - Done !\n",
            "Moviepy - video ready /content/drive/MyDrive/Thesis/New added Video3/ดิน.mp4\n",
            "Successfully converted /content/drive/MyDrive/Thesis/โหลดใหม่ ครั้งที่ 3/ดิน.gif to /content/drive/MyDrive/Thesis/New added Video3/ดิน.mp4\n",
            "Moviepy - Building video /content/drive/MyDrive/Thesis/New added Video3/แผ่นดินไหว.mp4.\n",
            "Moviepy - Writing video /content/drive/MyDrive/Thesis/New added Video3/แผ่นดินไหว.mp4\n",
            "\n"
          ]
        },
        {
          "output_type": "stream",
          "name": "stderr",
          "text": []
        },
        {
          "output_type": "stream",
          "name": "stdout",
          "text": [
            "Moviepy - Done !\n",
            "Moviepy - video ready /content/drive/MyDrive/Thesis/New added Video3/แผ่นดินไหว.mp4\n",
            "Successfully converted /content/drive/MyDrive/Thesis/โหลดใหม่ ครั้งที่ 3/แผ่นดินไหว.gif to /content/drive/MyDrive/Thesis/New added Video3/แผ่นดินไหว.mp4\n",
            "Moviepy - Building video /content/drive/MyDrive/Thesis/New added Video3/ทางเดินเท้า.mp4.\n",
            "Moviepy - Writing video /content/drive/MyDrive/Thesis/New added Video3/ทางเดินเท้า.mp4\n",
            "\n"
          ]
        },
        {
          "output_type": "stream",
          "name": "stderr",
          "text": []
        },
        {
          "output_type": "stream",
          "name": "stdout",
          "text": [
            "Moviepy - Done !\n",
            "Moviepy - video ready /content/drive/MyDrive/Thesis/New added Video3/ทางเดินเท้า.mp4\n",
            "Successfully converted /content/drive/MyDrive/Thesis/โหลดใหม่ ครั้งที่ 3/ทางเดินเท้า.gif to /content/drive/MyDrive/Thesis/New added Video3/ทางเดินเท้า.mp4\n",
            "Moviepy - Building video /content/drive/MyDrive/Thesis/New added Video3/แผ่นดิน.mp4.\n",
            "Moviepy - Writing video /content/drive/MyDrive/Thesis/New added Video3/แผ่นดิน.mp4\n",
            "\n"
          ]
        },
        {
          "output_type": "stream",
          "name": "stderr",
          "text": []
        },
        {
          "output_type": "stream",
          "name": "stdout",
          "text": [
            "Moviepy - Done !\n",
            "Moviepy - video ready /content/drive/MyDrive/Thesis/New added Video3/แผ่นดิน.mp4\n",
            "Successfully converted /content/drive/MyDrive/Thesis/โหลดใหม่ ครั้งที่ 3/แผ่นดิน.gif to /content/drive/MyDrive/Thesis/New added Video3/แผ่นดิน.mp4\n",
            "Moviepy - Building video /content/drive/MyDrive/Thesis/New added Video3/ที่ดิน.mp4.\n",
            "Moviepy - Writing video /content/drive/MyDrive/Thesis/New added Video3/ที่ดิน.mp4\n",
            "\n"
          ]
        },
        {
          "output_type": "stream",
          "name": "stderr",
          "text": []
        },
        {
          "output_type": "stream",
          "name": "stdout",
          "text": [
            "Moviepy - Done !\n",
            "Moviepy - video ready /content/drive/MyDrive/Thesis/New added Video3/ที่ดิน.mp4\n",
            "Successfully converted /content/drive/MyDrive/Thesis/โหลดใหม่ ครั้งที่ 3/ที่ดิน.gif to /content/drive/MyDrive/Thesis/New added Video3/ที่ดิน.mp4\n",
            "Moviepy - Building video /content/drive/MyDrive/Thesis/New added Video3/เขื่อนดิน.mp4.\n",
            "Moviepy - Writing video /content/drive/MyDrive/Thesis/New added Video3/เขื่อนดิน.mp4\n",
            "\n"
          ]
        },
        {
          "output_type": "stream",
          "name": "stderr",
          "text": []
        },
        {
          "output_type": "stream",
          "name": "stdout",
          "text": [
            "Moviepy - Done !\n",
            "Moviepy - video ready /content/drive/MyDrive/Thesis/New added Video3/เขื่อนดิน.mp4\n",
            "Successfully converted /content/drive/MyDrive/Thesis/โหลดใหม่ ครั้งที่ 3/เขื่อนดิน.gif to /content/drive/MyDrive/Thesis/New added Video3/เขื่อนดิน.mp4\n",
            "Moviepy - Building video /content/drive/MyDrive/Thesis/New added Video3/รถไฟฟ้าใต้ดิน.mp4.\n",
            "Moviepy - Writing video /content/drive/MyDrive/Thesis/New added Video3/รถไฟฟ้าใต้ดิน.mp4\n",
            "\n"
          ]
        },
        {
          "output_type": "stream",
          "name": "stderr",
          "text": []
        },
        {
          "output_type": "stream",
          "name": "stdout",
          "text": [
            "Moviepy - Done !\n",
            "Moviepy - video ready /content/drive/MyDrive/Thesis/New added Video3/รถไฟฟ้าใต้ดิน.mp4\n",
            "Successfully converted /content/drive/MyDrive/Thesis/โหลดใหม่ ครั้งที่ 3/รถไฟฟ้าใต้ดิน.gif to /content/drive/MyDrive/Thesis/New added Video3/รถไฟฟ้าใต้ดิน.mp4\n",
            "Moviepy - Building video /content/drive/MyDrive/Thesis/New added Video3/ถนนคนเดินข่วงเมืองน่าน.mp4.\n",
            "Moviepy - Writing video /content/drive/MyDrive/Thesis/New added Video3/ถนนคนเดินข่วงเมืองน่าน.mp4\n",
            "\n"
          ]
        },
        {
          "output_type": "stream",
          "name": "stderr",
          "text": []
        },
        {
          "output_type": "stream",
          "name": "stdout",
          "text": [
            "Moviepy - Done !\n",
            "Moviepy - video ready /content/drive/MyDrive/Thesis/New added Video3/ถนนคนเดินข่วงเมืองน่าน.mp4\n",
            "Successfully converted /content/drive/MyDrive/Thesis/โหลดใหม่ ครั้งที่ 3/ถนนคนเดินข่วงเมืองน่าน.gif to /content/drive/MyDrive/Thesis/New added Video3/ถนนคนเดินข่วงเมืองน่าน.mp4\n",
            "Moviepy - Building video /content/drive/MyDrive/Thesis/New added Video3/เดิน.mp4.\n",
            "Moviepy - Writing video /content/drive/MyDrive/Thesis/New added Video3/เดิน.mp4\n",
            "\n"
          ]
        },
        {
          "output_type": "stream",
          "name": "stderr",
          "text": []
        },
        {
          "output_type": "stream",
          "name": "stdout",
          "text": [
            "Moviepy - Done !\n",
            "Moviepy - video ready /content/drive/MyDrive/Thesis/New added Video3/เดิน.mp4\n",
            "Successfully converted /content/drive/MyDrive/Thesis/โหลดใหม่ ครั้งที่ 3/เดิน.gif to /content/drive/MyDrive/Thesis/New added Video3/เดิน.mp4\n",
            "Moviepy - Building video /content/drive/MyDrive/Thesis/New added Video3/เครื่องปั่นดิน.mp4.\n",
            "Moviepy - Writing video /content/drive/MyDrive/Thesis/New added Video3/เครื่องปั่นดิน.mp4\n",
            "\n"
          ]
        },
        {
          "output_type": "stream",
          "name": "stderr",
          "text": []
        },
        {
          "output_type": "stream",
          "name": "stdout",
          "text": [
            "Moviepy - Done !\n",
            "Moviepy - video ready /content/drive/MyDrive/Thesis/New added Video3/เครื่องปั่นดิน.mp4\n",
            "Successfully converted /content/drive/MyDrive/Thesis/โหลดใหม่ ครั้งที่ 3/เครื่องปั่นดิน.gif to /content/drive/MyDrive/Thesis/New added Video3/เครื่องปั่นดิน.mp4\n",
            "Moviepy - Building video /content/drive/MyDrive/Thesis/New added Video3/ดินสอ.mp4.\n",
            "Moviepy - Writing video /content/drive/MyDrive/Thesis/New added Video3/ดินสอ.mp4\n",
            "\n"
          ]
        },
        {
          "output_type": "stream",
          "name": "stderr",
          "text": []
        },
        {
          "output_type": "stream",
          "name": "stdout",
          "text": [
            "Moviepy - Done !\n",
            "Moviepy - video ready /content/drive/MyDrive/Thesis/New added Video3/ดินสอ.mp4\n",
            "Successfully converted /content/drive/MyDrive/Thesis/โหลดใหม่ ครั้งที่ 3/ดินสอ.gif to /content/drive/MyDrive/Thesis/New added Video3/ดินสอ.mp4\n",
            "Moviepy - Building video /content/drive/MyDrive/Thesis/New added Video3/ดินแดง.mp4.\n",
            "Moviepy - Writing video /content/drive/MyDrive/Thesis/New added Video3/ดินแดง.mp4\n",
            "\n"
          ]
        },
        {
          "output_type": "stream",
          "name": "stderr",
          "text": []
        },
        {
          "output_type": "stream",
          "name": "stdout",
          "text": [
            "Moviepy - Done !\n",
            "Moviepy - video ready /content/drive/MyDrive/Thesis/New added Video3/ดินแดง.mp4\n",
            "Successfully converted /content/drive/MyDrive/Thesis/โหลดใหม่ ครั้งที่ 3/ดินแดง.gif to /content/drive/MyDrive/Thesis/New added Video3/ดินแดง.mp4\n",
            "Moviepy - Building video /content/drive/MyDrive/Thesis/New added Video3/น่ารัก.mp4.\n",
            "Moviepy - Writing video /content/drive/MyDrive/Thesis/New added Video3/น่ารัก.mp4\n",
            "\n"
          ]
        },
        {
          "output_type": "stream",
          "name": "stderr",
          "text": []
        },
        {
          "output_type": "stream",
          "name": "stdout",
          "text": [
            "Moviepy - Done !\n",
            "Moviepy - video ready /content/drive/MyDrive/Thesis/New added Video3/น่ารัก.mp4\n",
            "Successfully converted /content/drive/MyDrive/Thesis/โหลดใหม่ ครั้งที่ 3/น่ารัก.gif to /content/drive/MyDrive/Thesis/New added Video3/น่ารัก.mp4\n",
            "Moviepy - Building video /content/drive/MyDrive/Thesis/New added Video3/ประชุม.mp4.\n",
            "Moviepy - Writing video /content/drive/MyDrive/Thesis/New added Video3/ประชุม.mp4\n",
            "\n"
          ]
        },
        {
          "output_type": "stream",
          "name": "stderr",
          "text": []
        },
        {
          "output_type": "stream",
          "name": "stdout",
          "text": [
            "Moviepy - Done !\n",
            "Moviepy - video ready /content/drive/MyDrive/Thesis/New added Video3/ประชุม.mp4\n",
            "Successfully converted /content/drive/MyDrive/Thesis/โหลดใหม่ ครั้งที่ 3/ประชุม.gif to /content/drive/MyDrive/Thesis/New added Video3/ประชุม.mp4\n",
            "Moviepy - Building video /content/drive/MyDrive/Thesis/New added Video3/กินเลี้ยง.mp4.\n",
            "Moviepy - Writing video /content/drive/MyDrive/Thesis/New added Video3/กินเลี้ยง.mp4\n",
            "\n"
          ]
        },
        {
          "output_type": "stream",
          "name": "stderr",
          "text": []
        },
        {
          "output_type": "stream",
          "name": "stdout",
          "text": [
            "Moviepy - Done !\n",
            "Moviepy - video ready /content/drive/MyDrive/Thesis/New added Video3/กินเลี้ยง.mp4\n",
            "Successfully converted /content/drive/MyDrive/Thesis/โหลดใหม่ ครั้งที่ 3/กินเลี้ยง.gif to /content/drive/MyDrive/Thesis/New added Video3/กินเลี้ยง.mp4\n",
            "Moviepy - Building video /content/drive/MyDrive/Thesis/New added Video3/ยักยอก.mp4.\n",
            "Moviepy - Writing video /content/drive/MyDrive/Thesis/New added Video3/ยักยอก.mp4\n",
            "\n"
          ]
        },
        {
          "output_type": "stream",
          "name": "stderr",
          "text": []
        },
        {
          "output_type": "stream",
          "name": "stdout",
          "text": [
            "Moviepy - Done !\n",
            "Moviepy - video ready /content/drive/MyDrive/Thesis/New added Video3/ยักยอก.mp4\n",
            "Successfully converted /content/drive/MyDrive/Thesis/โหลดใหม่ ครั้งที่ 3/ยักยอก.gif to /content/drive/MyDrive/Thesis/New added Video3/ยักยอก.mp4\n",
            "Moviepy - Building video /content/drive/MyDrive/Thesis/New added Video3/เงินหมุนเวียน.mp4.\n",
            "Moviepy - Writing video /content/drive/MyDrive/Thesis/New added Video3/เงินหมุนเวียน.mp4\n",
            "\n"
          ]
        },
        {
          "output_type": "stream",
          "name": "stderr",
          "text": []
        },
        {
          "output_type": "stream",
          "name": "stdout",
          "text": [
            "Moviepy - Done !\n",
            "Moviepy - video ready /content/drive/MyDrive/Thesis/New added Video3/เงินหมุนเวียน.mp4\n",
            "Successfully converted /content/drive/MyDrive/Thesis/โหลดใหม่ ครั้งที่ 3/เงินหมุนเวียน.gif to /content/drive/MyDrive/Thesis/New added Video3/เงินหมุนเวียน.mp4\n",
            "Moviepy - Building video /content/drive/MyDrive/Thesis/New added Video3/จับฉลาก.mp4.\n",
            "Moviepy - Writing video /content/drive/MyDrive/Thesis/New added Video3/จับฉลาก.mp4\n",
            "\n"
          ]
        },
        {
          "output_type": "stream",
          "name": "stderr",
          "text": []
        },
        {
          "output_type": "stream",
          "name": "stdout",
          "text": [
            "Moviepy - Done !\n",
            "Moviepy - video ready /content/drive/MyDrive/Thesis/New added Video3/จับฉลาก.mp4\n",
            "Successfully converted /content/drive/MyDrive/Thesis/โหลดใหม่ ครั้งที่ 3/จับฉลาก.gif to /content/drive/MyDrive/Thesis/New added Video3/จับฉลาก.mp4\n",
            "Moviepy - Building video /content/drive/MyDrive/Thesis/New added Video3/ถ่ายสำเนา.mp4.\n",
            "Moviepy - Writing video /content/drive/MyDrive/Thesis/New added Video3/ถ่ายสำเนา.mp4\n",
            "\n"
          ]
        },
        {
          "output_type": "stream",
          "name": "stderr",
          "text": []
        },
        {
          "output_type": "stream",
          "name": "stdout",
          "text": [
            "Moviepy - Done !\n",
            "Moviepy - video ready /content/drive/MyDrive/Thesis/New added Video3/ถ่ายสำเนา.mp4\n",
            "Successfully converted /content/drive/MyDrive/Thesis/โหลดใหม่ ครั้งที่ 3/ถ่ายสำเนา.gif to /content/drive/MyDrive/Thesis/New added Video3/ถ่ายสำเนา.mp4\n",
            "Moviepy - Building video /content/drive/MyDrive/Thesis/New added Video3/ยอมรับ.mp4.\n",
            "Moviepy - Writing video /content/drive/MyDrive/Thesis/New added Video3/ยอมรับ.mp4\n",
            "\n"
          ]
        },
        {
          "output_type": "stream",
          "name": "stderr",
          "text": []
        },
        {
          "output_type": "stream",
          "name": "stdout",
          "text": [
            "Moviepy - Done !\n",
            "Moviepy - video ready /content/drive/MyDrive/Thesis/New added Video3/ยอมรับ.mp4\n",
            "Successfully converted /content/drive/MyDrive/Thesis/โหลดใหม่ ครั้งที่ 3/ยอมรับ.gif to /content/drive/MyDrive/Thesis/New added Video3/ยอมรับ.mp4\n",
            "Moviepy - Building video /content/drive/MyDrive/Thesis/New added Video3/ยอม.mp4.\n",
            "Moviepy - Writing video /content/drive/MyDrive/Thesis/New added Video3/ยอม.mp4\n",
            "\n"
          ]
        },
        {
          "output_type": "stream",
          "name": "stderr",
          "text": []
        },
        {
          "output_type": "stream",
          "name": "stdout",
          "text": [
            "Moviepy - Done !\n",
            "Moviepy - video ready /content/drive/MyDrive/Thesis/New added Video3/ยอม.mp4\n",
            "Successfully converted /content/drive/MyDrive/Thesis/โหลดใหม่ ครั้งที่ 3/ยอม.gif to /content/drive/MyDrive/Thesis/New added Video3/ยอม.mp4\n",
            "Moviepy - Building video /content/drive/MyDrive/Thesis/New added Video3/ยอมความ.mp4.\n",
            "Moviepy - Writing video /content/drive/MyDrive/Thesis/New added Video3/ยอมความ.mp4\n",
            "\n"
          ]
        },
        {
          "output_type": "stream",
          "name": "stderr",
          "text": []
        },
        {
          "output_type": "stream",
          "name": "stdout",
          "text": [
            "Moviepy - Done !\n",
            "Moviepy - video ready /content/drive/MyDrive/Thesis/New added Video3/ยอมความ.mp4\n",
            "Successfully converted /content/drive/MyDrive/Thesis/โหลดใหม่ ครั้งที่ 3/ยอมความ.gif to /content/drive/MyDrive/Thesis/New added Video3/ยอมความ.mp4\n",
            "Moviepy - Building video /content/drive/MyDrive/Thesis/New added Video3/ก่อวินาศกรรม.mp4.\n",
            "Moviepy - Writing video /content/drive/MyDrive/Thesis/New added Video3/ก่อวินาศกรรม.mp4\n",
            "\n"
          ]
        },
        {
          "output_type": "stream",
          "name": "stderr",
          "text": []
        },
        {
          "output_type": "stream",
          "name": "stdout",
          "text": [
            "Moviepy - Done !\n",
            "Moviepy - video ready /content/drive/MyDrive/Thesis/New added Video3/ก่อวินาศกรรม.mp4\n",
            "Successfully converted /content/drive/MyDrive/Thesis/โหลดใหม่ ครั้งที่ 3/ก่อวินาศกรรม.gif to /content/drive/MyDrive/Thesis/New added Video3/ก่อวินาศกรรม.mp4\n",
            "Moviepy - Building video /content/drive/MyDrive/Thesis/New added Video3/ไฟฉาย.mp4.\n",
            "Moviepy - Writing video /content/drive/MyDrive/Thesis/New added Video3/ไฟฉาย.mp4\n",
            "\n"
          ]
        },
        {
          "output_type": "stream",
          "name": "stderr",
          "text": []
        },
        {
          "output_type": "stream",
          "name": "stdout",
          "text": [
            "Moviepy - Done !\n",
            "Moviepy - video ready /content/drive/MyDrive/Thesis/New added Video3/ไฟฉาย.mp4\n",
            "Successfully converted /content/drive/MyDrive/Thesis/โหลดใหม่ ครั้งที่ 3/ไฟฉาย.gif to /content/drive/MyDrive/Thesis/New added Video3/ไฟฉาย.mp4\n",
            "Moviepy - Building video /content/drive/MyDrive/Thesis/New added Video3/เท่ากัน.mp4.\n",
            "Moviepy - Writing video /content/drive/MyDrive/Thesis/New added Video3/เท่ากัน.mp4\n",
            "\n"
          ]
        },
        {
          "output_type": "stream",
          "name": "stderr",
          "text": []
        },
        {
          "output_type": "stream",
          "name": "stdout",
          "text": [
            "Moviepy - Done !\n",
            "Moviepy - video ready /content/drive/MyDrive/Thesis/New added Video3/เท่ากัน.mp4\n",
            "Successfully converted /content/drive/MyDrive/Thesis/โหลดใหม่ ครั้งที่ 3/เท่ากัน.gif to /content/drive/MyDrive/Thesis/New added Video3/เท่ากัน.mp4\n",
            "Moviepy - Building video /content/drive/MyDrive/Thesis/New added Video3/ก้าวหน้า.mp4.\n",
            "Moviepy - Writing video /content/drive/MyDrive/Thesis/New added Video3/ก้าวหน้า.mp4\n",
            "\n"
          ]
        },
        {
          "output_type": "stream",
          "name": "stderr",
          "text": []
        },
        {
          "output_type": "stream",
          "name": "stdout",
          "text": [
            "Moviepy - Done !\n",
            "Moviepy - video ready /content/drive/MyDrive/Thesis/New added Video3/ก้าวหน้า.mp4\n",
            "Successfully converted /content/drive/MyDrive/Thesis/โหลดใหม่ ครั้งที่ 3/ก้าวหน้า.gif to /content/drive/MyDrive/Thesis/New added Video3/ก้าวหน้า.mp4\n",
            "Moviepy - Building video /content/drive/MyDrive/Thesis/New added Video3/คณะก้าวหน้า.mp4.\n",
            "Moviepy - Writing video /content/drive/MyDrive/Thesis/New added Video3/คณะก้าวหน้า.mp4\n",
            "\n"
          ]
        },
        {
          "output_type": "stream",
          "name": "stderr",
          "text": []
        },
        {
          "output_type": "stream",
          "name": "stdout",
          "text": [
            "Moviepy - Done !\n",
            "Moviepy - video ready /content/drive/MyDrive/Thesis/New added Video3/คณะก้าวหน้า.mp4\n",
            "Successfully converted /content/drive/MyDrive/Thesis/โหลดใหม่ ครั้งที่ 3/คณะก้าวหน้า.gif to /content/drive/MyDrive/Thesis/New added Video3/คณะก้าวหน้า.mp4\n",
            "Moviepy - Building video /content/drive/MyDrive/Thesis/New added Video3/เจริญ.mp4.\n",
            "Moviepy - Writing video /content/drive/MyDrive/Thesis/New added Video3/เจริญ.mp4\n",
            "\n"
          ]
        },
        {
          "output_type": "stream",
          "name": "stderr",
          "text": []
        },
        {
          "output_type": "stream",
          "name": "stdout",
          "text": [
            "Moviepy - Done !\n",
            "Moviepy - video ready /content/drive/MyDrive/Thesis/New added Video3/เจริญ.mp4\n",
            "Successfully converted /content/drive/MyDrive/Thesis/โหลดใหม่ ครั้งที่ 3/เจริญ.gif to /content/drive/MyDrive/Thesis/New added Video3/เจริญ.mp4\n",
            "Moviepy - Building video /content/drive/MyDrive/Thesis/New added Video3/หยิ่ง.mp4.\n",
            "Moviepy - Writing video /content/drive/MyDrive/Thesis/New added Video3/หยิ่ง.mp4\n",
            "\n"
          ]
        },
        {
          "output_type": "stream",
          "name": "stderr",
          "text": []
        },
        {
          "output_type": "stream",
          "name": "stdout",
          "text": [
            "Moviepy - Done !\n",
            "Moviepy - video ready /content/drive/MyDrive/Thesis/New added Video3/หยิ่ง.mp4\n",
            "Successfully converted /content/drive/MyDrive/Thesis/โหลดใหม่ ครั้งที่ 3/หยิ่ง.gif to /content/drive/MyDrive/Thesis/New added Video3/หยิ่ง.mp4\n",
            "Moviepy - Building video /content/drive/MyDrive/Thesis/New added Video3/สนับสนุน.mp4.\n",
            "Moviepy - Writing video /content/drive/MyDrive/Thesis/New added Video3/สนับสนุน.mp4\n",
            "\n"
          ]
        },
        {
          "output_type": "stream",
          "name": "stderr",
          "text": []
        },
        {
          "output_type": "stream",
          "name": "stdout",
          "text": [
            "Moviepy - Done !\n",
            "Moviepy - video ready /content/drive/MyDrive/Thesis/New added Video3/สนับสนุน.mp4\n",
            "Successfully converted /content/drive/MyDrive/Thesis/โหลดใหม่ ครั้งที่ 3/สนับสนุน.gif to /content/drive/MyDrive/Thesis/New added Video3/สนับสนุน.mp4\n",
            "Moviepy - Building video /content/drive/MyDrive/Thesis/New added Video3/พักผ่อน.mp4.\n",
            "Moviepy - Writing video /content/drive/MyDrive/Thesis/New added Video3/พักผ่อน.mp4\n",
            "\n"
          ]
        },
        {
          "output_type": "stream",
          "name": "stderr",
          "text": []
        },
        {
          "output_type": "stream",
          "name": "stdout",
          "text": [
            "Moviepy - Done !\n",
            "Moviepy - video ready /content/drive/MyDrive/Thesis/New added Video3/พักผ่อน.mp4\n",
            "Successfully converted /content/drive/MyDrive/Thesis/โหลดใหม่ ครั้งที่ 3/พักผ่อน.gif to /content/drive/MyDrive/Thesis/New added Video3/พักผ่อน.mp4\n",
            "Moviepy - Building video /content/drive/MyDrive/Thesis/New added Video3/พัก.mp4.\n",
            "Moviepy - Writing video /content/drive/MyDrive/Thesis/New added Video3/พัก.mp4\n",
            "\n"
          ]
        },
        {
          "output_type": "stream",
          "name": "stderr",
          "text": []
        },
        {
          "output_type": "stream",
          "name": "stdout",
          "text": [
            "Moviepy - Done !\n",
            "Moviepy - video ready /content/drive/MyDrive/Thesis/New added Video3/พัก.mp4\n",
            "Successfully converted /content/drive/MyDrive/Thesis/โหลดใหม่ ครั้งที่ 3/พัก.gif to /content/drive/MyDrive/Thesis/New added Video3/พัก.mp4\n",
            "Moviepy - Building video /content/drive/MyDrive/Thesis/New added Video3/หอพัก.mp4.\n",
            "Moviepy - Writing video /content/drive/MyDrive/Thesis/New added Video3/หอพัก.mp4\n",
            "\n"
          ]
        },
        {
          "output_type": "stream",
          "name": "stderr",
          "text": []
        },
        {
          "output_type": "stream",
          "name": "stdout",
          "text": [
            "Moviepy - Done !\n",
            "Moviepy - video ready /content/drive/MyDrive/Thesis/New added Video3/หอพัก.mp4\n",
            "Successfully converted /content/drive/MyDrive/Thesis/โหลดใหม่ ครั้งที่ 3/หอพัก.gif to /content/drive/MyDrive/Thesis/New added Video3/หอพัก.mp4\n",
            "Moviepy - Building video /content/drive/MyDrive/Thesis/New added Video3/แฟลตพักครู.mp4.\n",
            "Moviepy - Writing video /content/drive/MyDrive/Thesis/New added Video3/แฟลตพักครู.mp4\n",
            "\n"
          ]
        },
        {
          "output_type": "stream",
          "name": "stderr",
          "text": []
        },
        {
          "output_type": "stream",
          "name": "stdout",
          "text": [
            "Moviepy - Done !\n",
            "Moviepy - video ready /content/drive/MyDrive/Thesis/New added Video3/แฟลตพักครู.mp4\n",
            "Successfully converted /content/drive/MyDrive/Thesis/โหลดใหม่ ครั้งที่ 3/แฟลตพักครู.gif to /content/drive/MyDrive/Thesis/New added Video3/แฟลตพักครู.mp4\n",
            "Moviepy - Building video /content/drive/MyDrive/Thesis/New added Video3/หยุด.mp4.\n",
            "Moviepy - Writing video /content/drive/MyDrive/Thesis/New added Video3/หยุด.mp4\n",
            "\n"
          ]
        },
        {
          "output_type": "stream",
          "name": "stderr",
          "text": []
        },
        {
          "output_type": "stream",
          "name": "stdout",
          "text": [
            "Moviepy - Done !\n",
            "Moviepy - video ready /content/drive/MyDrive/Thesis/New added Video3/หยุด.mp4\n",
            "Successfully converted /content/drive/MyDrive/Thesis/โหลดใหม่ ครั้งที่ 3/หยุด.gif to /content/drive/MyDrive/Thesis/New added Video3/หยุด.mp4\n",
            "Moviepy - Building video /content/drive/MyDrive/Thesis/New added Video3/ฟันแขน.mp4.\n",
            "Moviepy - Writing video /content/drive/MyDrive/Thesis/New added Video3/ฟันแขน.mp4\n",
            "\n"
          ]
        },
        {
          "output_type": "stream",
          "name": "stderr",
          "text": []
        },
        {
          "output_type": "stream",
          "name": "stdout",
          "text": [
            "Moviepy - Done !\n",
            "Moviepy - video ready /content/drive/MyDrive/Thesis/New added Video3/ฟันแขน.mp4\n",
            "Successfully converted /content/drive/MyDrive/Thesis/โหลดใหม่ ครั้งที่ 3/ฟันแขน.gif to /content/drive/MyDrive/Thesis/New added Video3/ฟันแขน.mp4\n",
            "Moviepy - Building video /content/drive/MyDrive/Thesis/New added Video3/ฟันคอ.mp4.\n",
            "Moviepy - Writing video /content/drive/MyDrive/Thesis/New added Video3/ฟันคอ.mp4\n",
            "\n"
          ]
        },
        {
          "output_type": "stream",
          "name": "stderr",
          "text": []
        },
        {
          "output_type": "stream",
          "name": "stdout",
          "text": [
            "Moviepy - Done !\n",
            "Moviepy - video ready /content/drive/MyDrive/Thesis/New added Video3/ฟันคอ.mp4\n",
            "Successfully converted /content/drive/MyDrive/Thesis/โหลดใหม่ ครั้งที่ 3/ฟันคอ.gif to /content/drive/MyDrive/Thesis/New added Video3/ฟันคอ.mp4\n",
            "Moviepy - Building video /content/drive/MyDrive/Thesis/New added Video3/กระจกส่องหน้า.mp4.\n",
            "Moviepy - Writing video /content/drive/MyDrive/Thesis/New added Video3/กระจกส่องหน้า.mp4\n",
            "\n"
          ]
        },
        {
          "output_type": "stream",
          "name": "stderr",
          "text": []
        },
        {
          "output_type": "stream",
          "name": "stdout",
          "text": [
            "Moviepy - Done !\n",
            "Moviepy - video ready /content/drive/MyDrive/Thesis/New added Video3/กระจกส่องหน้า.mp4\n",
            "Successfully converted /content/drive/MyDrive/Thesis/โหลดใหม่ ครั้งที่ 3/กระจกส่องหน้า.gif to /content/drive/MyDrive/Thesis/New added Video3/กระจกส่องหน้า.mp4\n",
            "Moviepy - Building video /content/drive/MyDrive/Thesis/New added Video3/กระจก.mp4.\n",
            "Moviepy - Writing video /content/drive/MyDrive/Thesis/New added Video3/กระจก.mp4\n",
            "\n"
          ]
        },
        {
          "output_type": "stream",
          "name": "stderr",
          "text": []
        },
        {
          "output_type": "stream",
          "name": "stdout",
          "text": [
            "Moviepy - Done !\n",
            "Moviepy - video ready /content/drive/MyDrive/Thesis/New added Video3/กระจก.mp4\n",
            "Successfully converted /content/drive/MyDrive/Thesis/โหลดใหม่ ครั้งที่ 3/กระจก.gif to /content/drive/MyDrive/Thesis/New added Video3/กระจก.mp4\n",
            "Moviepy - Building video /content/drive/MyDrive/Thesis/New added Video3/พยานบุคคล.mp4.\n",
            "Moviepy - Writing video /content/drive/MyDrive/Thesis/New added Video3/พยานบุคคล.mp4\n",
            "\n"
          ]
        },
        {
          "output_type": "stream",
          "name": "stderr",
          "text": []
        },
        {
          "output_type": "stream",
          "name": "stdout",
          "text": [
            "Moviepy - Done !\n",
            "Moviepy - video ready /content/drive/MyDrive/Thesis/New added Video3/พยานบุคคล.mp4\n",
            "Successfully converted /content/drive/MyDrive/Thesis/โหลดใหม่ ครั้งที่ 3/พยานบุคคล.gif to /content/drive/MyDrive/Thesis/New added Video3/พยานบุคคล.mp4\n",
            "Moviepy - Building video /content/drive/MyDrive/Thesis/New added Video3/หลักฐาน.mp4.\n",
            "Moviepy - Writing video /content/drive/MyDrive/Thesis/New added Video3/หลักฐาน.mp4\n",
            "\n"
          ]
        },
        {
          "output_type": "stream",
          "name": "stderr",
          "text": []
        },
        {
          "output_type": "stream",
          "name": "stdout",
          "text": [
            "Moviepy - Done !\n",
            "Moviepy - video ready /content/drive/MyDrive/Thesis/New added Video3/หลักฐาน.mp4\n",
            "Successfully converted /content/drive/MyDrive/Thesis/โหลดใหม่ ครั้งที่ 3/หลักฐาน.gif to /content/drive/MyDrive/Thesis/New added Video3/หลักฐาน.mp4\n",
            "Moviepy - Building video /content/drive/MyDrive/Thesis/New added Video3/เลื่อยต้นไม้.mp4.\n",
            "Moviepy - Writing video /content/drive/MyDrive/Thesis/New added Video3/เลื่อยต้นไม้.mp4\n",
            "\n"
          ]
        },
        {
          "output_type": "stream",
          "name": "stderr",
          "text": []
        },
        {
          "output_type": "stream",
          "name": "stdout",
          "text": [
            "Moviepy - Done !\n",
            "Moviepy - video ready /content/drive/MyDrive/Thesis/New added Video3/เลื่อยต้นไม้.mp4\n",
            "Successfully converted /content/drive/MyDrive/Thesis/โหลดใหม่ ครั้งที่ 3/เลื่อยต้นไม้.gif to /content/drive/MyDrive/Thesis/New added Video3/เลื่อยต้นไม้.mp4\n",
            "Moviepy - Building video /content/drive/MyDrive/Thesis/New added Video3/จดทะเบียนหย่า.mp4.\n",
            "Moviepy - Writing video /content/drive/MyDrive/Thesis/New added Video3/จดทะเบียนหย่า.mp4\n",
            "\n"
          ]
        },
        {
          "output_type": "stream",
          "name": "stderr",
          "text": []
        },
        {
          "output_type": "stream",
          "name": "stdout",
          "text": [
            "Moviepy - Done !\n",
            "Moviepy - video ready /content/drive/MyDrive/Thesis/New added Video3/จดทะเบียนหย่า.mp4\n",
            "Successfully converted /content/drive/MyDrive/Thesis/โหลดใหม่ ครั้งที่ 3/จดทะเบียนหย่า.gif to /content/drive/MyDrive/Thesis/New added Video3/จดทะเบียนหย่า.mp4\n",
            "Moviepy - Building video /content/drive/MyDrive/Thesis/New added Video3/จดทะเบียนสมรส.mp4.\n",
            "Moviepy - Writing video /content/drive/MyDrive/Thesis/New added Video3/จดทะเบียนสมรส.mp4\n",
            "\n"
          ]
        },
        {
          "output_type": "stream",
          "name": "stderr",
          "text": []
        },
        {
          "output_type": "stream",
          "name": "stdout",
          "text": [
            "Moviepy - Done !\n",
            "Moviepy - video ready /content/drive/MyDrive/Thesis/New added Video3/จดทะเบียนสมรส.mp4\n",
            "Successfully converted /content/drive/MyDrive/Thesis/โหลดใหม่ ครั้งที่ 3/จดทะเบียนสมรส.gif to /content/drive/MyDrive/Thesis/New added Video3/จดทะเบียนสมรส.mp4\n",
            "Moviepy - Building video /content/drive/MyDrive/Thesis/New added Video3/หญ้า.mp4.\n",
            "Moviepy - Writing video /content/drive/MyDrive/Thesis/New added Video3/หญ้า.mp4\n",
            "\n"
          ]
        },
        {
          "output_type": "stream",
          "name": "stderr",
          "text": []
        },
        {
          "output_type": "stream",
          "name": "stdout",
          "text": [
            "Moviepy - Done !\n",
            "Moviepy - video ready /content/drive/MyDrive/Thesis/New added Video3/หญ้า.mp4\n",
            "Successfully converted /content/drive/MyDrive/Thesis/โหลดใหม่ ครั้งที่ 3/หญ้า.gif to /content/drive/MyDrive/Thesis/New added Video3/หญ้า.mp4\n",
            "Moviepy - Building video /content/drive/MyDrive/Thesis/New added Video3/มีดคัตเตอร์.mp4.\n",
            "Moviepy - Writing video /content/drive/MyDrive/Thesis/New added Video3/มีดคัตเตอร์.mp4\n",
            "\n"
          ]
        },
        {
          "output_type": "stream",
          "name": "stderr",
          "text": []
        },
        {
          "output_type": "stream",
          "name": "stdout",
          "text": [
            "Moviepy - Done !\n",
            "Moviepy - video ready /content/drive/MyDrive/Thesis/New added Video3/มีดคัตเตอร์.mp4\n",
            "Successfully converted /content/drive/MyDrive/Thesis/โหลดใหม่ ครั้งที่ 3/มีดคัตเตอร์.gif to /content/drive/MyDrive/Thesis/New added Video3/มีดคัตเตอร์.mp4\n",
            "Moviepy - Building video /content/drive/MyDrive/Thesis/New added Video3/รัฐสภา.mp4.\n",
            "Moviepy - Writing video /content/drive/MyDrive/Thesis/New added Video3/รัฐสภา.mp4\n",
            "\n"
          ]
        },
        {
          "output_type": "stream",
          "name": "stderr",
          "text": []
        },
        {
          "output_type": "stream",
          "name": "stdout",
          "text": [
            "Moviepy - Done !\n",
            "Moviepy - video ready /content/drive/MyDrive/Thesis/New added Video3/รัฐสภา.mp4\n",
            "Successfully converted /content/drive/MyDrive/Thesis/โหลดใหม่ ครั้งที่ 3/รัฐสภา.gif to /content/drive/MyDrive/Thesis/New added Video3/รัฐสภา.mp4\n",
            "Moviepy - Building video /content/drive/MyDrive/Thesis/New added Video3/มีด.mp4.\n",
            "Moviepy - Writing video /content/drive/MyDrive/Thesis/New added Video3/มีด.mp4\n",
            "\n"
          ]
        },
        {
          "output_type": "stream",
          "name": "stderr",
          "text": []
        },
        {
          "output_type": "stream",
          "name": "stdout",
          "text": [
            "Moviepy - Done !\n",
            "Moviepy - video ready /content/drive/MyDrive/Thesis/New added Video3/มีด.mp4\n",
            "Successfully converted /content/drive/MyDrive/Thesis/โหลดใหม่ ครั้งที่ 3/มีด.gif to /content/drive/MyDrive/Thesis/New added Video3/มีด.mp4\n",
            "Moviepy - Building video /content/drive/MyDrive/Thesis/New added Video3/ฟ้นต้นไม้.mp4.\n",
            "Moviepy - Writing video /content/drive/MyDrive/Thesis/New added Video3/ฟ้นต้นไม้.mp4\n",
            "\n"
          ]
        },
        {
          "output_type": "stream",
          "name": "stderr",
          "text": []
        },
        {
          "output_type": "stream",
          "name": "stdout",
          "text": [
            "Moviepy - Done !\n",
            "Moviepy - video ready /content/drive/MyDrive/Thesis/New added Video3/ฟ้นต้นไม้.mp4\n",
            "Successfully converted /content/drive/MyDrive/Thesis/โหลดใหม่ ครั้งที่ 3/ฟ้นต้นไม้.gif to /content/drive/MyDrive/Thesis/New added Video3/ฟ้นต้นไม้.mp4\n",
            "Moviepy - Building video /content/drive/MyDrive/Thesis/New added Video3/แปรงฟัน.mp4.\n",
            "Moviepy - Writing video /content/drive/MyDrive/Thesis/New added Video3/แปรงฟัน.mp4\n",
            "\n"
          ]
        },
        {
          "output_type": "stream",
          "name": "stderr",
          "text": []
        },
        {
          "output_type": "stream",
          "name": "stdout",
          "text": [
            "Moviepy - Done !\n",
            "Moviepy - video ready /content/drive/MyDrive/Thesis/New added Video3/แปรงฟัน.mp4\n",
            "Successfully converted /content/drive/MyDrive/Thesis/โหลดใหม่ ครั้งที่ 3/แปรงฟัน.gif to /content/drive/MyDrive/Thesis/New added Video3/แปรงฟัน.mp4\n",
            "Moviepy - Building video /content/drive/MyDrive/Thesis/New added Video3/ฟัน.mp4.\n",
            "Moviepy - Writing video /content/drive/MyDrive/Thesis/New added Video3/ฟัน.mp4\n",
            "\n"
          ]
        },
        {
          "output_type": "stream",
          "name": "stderr",
          "text": []
        },
        {
          "output_type": "stream",
          "name": "stdout",
          "text": [
            "Moviepy - Done !\n",
            "Moviepy - video ready /content/drive/MyDrive/Thesis/New added Video3/ฟัน.mp4\n",
            "Successfully converted /content/drive/MyDrive/Thesis/โหลดใหม่ ครั้งที่ 3/ฟัน.gif to /content/drive/MyDrive/Thesis/New added Video3/ฟัน.mp4\n",
            "Moviepy - Building video /content/drive/MyDrive/Thesis/New added Video3/ยาสีฟัน.mp4.\n",
            "Moviepy - Writing video /content/drive/MyDrive/Thesis/New added Video3/ยาสีฟัน.mp4\n",
            "\n"
          ]
        },
        {
          "output_type": "stream",
          "name": "stderr",
          "text": []
        },
        {
          "output_type": "stream",
          "name": "stdout",
          "text": [
            "Moviepy - Done !\n",
            "Moviepy - video ready /content/drive/MyDrive/Thesis/New added Video3/ยาสีฟัน.mp4\n",
            "Successfully converted /content/drive/MyDrive/Thesis/โหลดใหม่ ครั้งที่ 3/ยาสีฟัน.gif to /content/drive/MyDrive/Thesis/New added Video3/ยาสีฟัน.mp4\n",
            "Moviepy - Building video /content/drive/MyDrive/Thesis/New added Video3/ฟ้นต้นไม้ ใช้กับขวาน.mp4.\n",
            "Moviepy - Writing video /content/drive/MyDrive/Thesis/New added Video3/ฟ้นต้นไม้ ใช้กับขวาน.mp4\n",
            "\n"
          ]
        },
        {
          "output_type": "stream",
          "name": "stderr",
          "text": []
        },
        {
          "output_type": "stream",
          "name": "stdout",
          "text": [
            "Moviepy - Done !\n",
            "Moviepy - video ready /content/drive/MyDrive/Thesis/New added Video3/ฟ้นต้นไม้ ใช้กับขวาน.mp4\n",
            "Successfully converted /content/drive/MyDrive/Thesis/โหลดใหม่ ครั้งที่ 3/ฟ้นต้นไม้ ใช้กับขวาน.gif to /content/drive/MyDrive/Thesis/New added Video3/ฟ้นต้นไม้ ใช้กับขวาน.mp4\n",
            "Moviepy - Building video /content/drive/MyDrive/Thesis/New added Video3/ส.ว..mp4.\n",
            "Moviepy - Writing video /content/drive/MyDrive/Thesis/New added Video3/ส.ว..mp4\n",
            "\n"
          ]
        },
        {
          "output_type": "stream",
          "name": "stderr",
          "text": []
        },
        {
          "output_type": "stream",
          "name": "stdout",
          "text": [
            "Moviepy - Done !\n",
            "Moviepy - video ready /content/drive/MyDrive/Thesis/New added Video3/ส.ว..mp4\n",
            "Successfully converted /content/drive/MyDrive/Thesis/โหลดใหม่ ครั้งที่ 3/ส.ว..gif to /content/drive/MyDrive/Thesis/New added Video3/ส.ว..mp4\n",
            "Moviepy - Building video /content/drive/MyDrive/Thesis/New added Video3/สมาชิกวุฒิสภา.mp4.\n",
            "Moviepy - Writing video /content/drive/MyDrive/Thesis/New added Video3/สมาชิกวุฒิสภา.mp4\n",
            "\n"
          ]
        },
        {
          "output_type": "stream",
          "name": "stderr",
          "text": []
        },
        {
          "output_type": "stream",
          "name": "stdout",
          "text": [
            "Moviepy - Done !\n",
            "Moviepy - video ready /content/drive/MyDrive/Thesis/New added Video3/สมาชิกวุฒิสภา.mp4\n",
            "Successfully converted /content/drive/MyDrive/Thesis/โหลดใหม่ ครั้งที่ 3/สมาชิกวุฒิสภา.gif to /content/drive/MyDrive/Thesis/New added Video3/สมาชิกวุฒิสภา.mp4\n",
            "Moviepy - Building video /content/drive/MyDrive/Thesis/New added Video3/บริสุทธิ์.mp4.\n",
            "Moviepy - Writing video /content/drive/MyDrive/Thesis/New added Video3/บริสุทธิ์.mp4\n",
            "\n"
          ]
        },
        {
          "output_type": "stream",
          "name": "stderr",
          "text": []
        },
        {
          "output_type": "stream",
          "name": "stdout",
          "text": [
            "Moviepy - Done !\n",
            "Moviepy - video ready /content/drive/MyDrive/Thesis/New added Video3/บริสุทธิ์.mp4\n",
            "Successfully converted /content/drive/MyDrive/Thesis/โหลดใหม่ ครั้งที่ 3/บริสุทธิ์.gif to /content/drive/MyDrive/Thesis/New added Video3/บริสุทธิ์.mp4\n",
            "Moviepy - Building video /content/drive/MyDrive/Thesis/New added Video3/กรรไกร.mp4.\n",
            "Moviepy - Writing video /content/drive/MyDrive/Thesis/New added Video3/กรรไกร.mp4\n",
            "\n"
          ]
        },
        {
          "output_type": "stream",
          "name": "stderr",
          "text": []
        },
        {
          "output_type": "stream",
          "name": "stdout",
          "text": [
            "Moviepy - Done !\n",
            "Moviepy - video ready /content/drive/MyDrive/Thesis/New added Video3/กรรไกร.mp4\n",
            "Successfully converted /content/drive/MyDrive/Thesis/โหลดใหม่ ครั้งที่ 3/กรรไกร.gif to /content/drive/MyDrive/Thesis/New added Video3/กรรไกร.mp4\n",
            "Moviepy - Building video /content/drive/MyDrive/Thesis/New added Video3/กรรไกรตัดเล็บ.mp4.\n",
            "Moviepy - Writing video /content/drive/MyDrive/Thesis/New added Video3/กรรไกรตัดเล็บ.mp4\n",
            "\n"
          ]
        },
        {
          "output_type": "stream",
          "name": "stderr",
          "text": []
        },
        {
          "output_type": "stream",
          "name": "stdout",
          "text": [
            "Moviepy - Done !\n",
            "Moviepy - video ready /content/drive/MyDrive/Thesis/New added Video3/กรรไกรตัดเล็บ.mp4\n",
            "Successfully converted /content/drive/MyDrive/Thesis/โหลดใหม่ ครั้งที่ 3/กรรไกรตัดเล็บ.gif to /content/drive/MyDrive/Thesis/New added Video3/กรรไกรตัดเล็บ.mp4\n",
            "Moviepy - Building video /content/drive/MyDrive/Thesis/New added Video3/สมาชิกสภาผู้แทนราษฎร(ส.ส.).mp4.\n",
            "Moviepy - Writing video /content/drive/MyDrive/Thesis/New added Video3/สมาชิกสภาผู้แทนราษฎร(ส.ส.).mp4\n",
            "\n"
          ]
        },
        {
          "output_type": "stream",
          "name": "stderr",
          "text": []
        },
        {
          "output_type": "stream",
          "name": "stdout",
          "text": [
            "Moviepy - Done !\n",
            "Moviepy - video ready /content/drive/MyDrive/Thesis/New added Video3/สมาชิกสภาผู้แทนราษฎร(ส.ส.).mp4\n",
            "Successfully converted /content/drive/MyDrive/Thesis/โหลดใหม่ ครั้งที่ 3/สมาชิกสภาผู้แทนราษฎร(ส.ส.).gif to /content/drive/MyDrive/Thesis/New added Video3/สมาชิกสภาผู้แทนราษฎร(ส.ส.).mp4\n",
            "Moviepy - Building video /content/drive/MyDrive/Thesis/New added Video3/ส.ส..mp4.\n",
            "Moviepy - Writing video /content/drive/MyDrive/Thesis/New added Video3/ส.ส..mp4\n",
            "\n"
          ]
        },
        {
          "output_type": "stream",
          "name": "stderr",
          "text": []
        },
        {
          "output_type": "stream",
          "name": "stdout",
          "text": [
            "Moviepy - Done !\n",
            "Moviepy - video ready /content/drive/MyDrive/Thesis/New added Video3/ส.ส..mp4\n",
            "Successfully converted /content/drive/MyDrive/Thesis/โหลดใหม่ ครั้งที่ 3/ส.ส..gif to /content/drive/MyDrive/Thesis/New added Video3/ส.ส..mp4\n",
            "Moviepy - Building video /content/drive/MyDrive/Thesis/New added Video3/เรียบร้อย.mp4.\n",
            "Moviepy - Writing video /content/drive/MyDrive/Thesis/New added Video3/เรียบร้อย.mp4\n",
            "\n"
          ]
        },
        {
          "output_type": "stream",
          "name": "stderr",
          "text": []
        },
        {
          "output_type": "stream",
          "name": "stdout",
          "text": [
            "Moviepy - Done !\n",
            "Moviepy - video ready /content/drive/MyDrive/Thesis/New added Video3/เรียบร้อย.mp4\n",
            "Successfully converted /content/drive/MyDrive/Thesis/โหลดใหม่ ครั้งที่ 3/เรียบร้อย.gif to /content/drive/MyDrive/Thesis/New added Video3/เรียบร้อย.mp4\n",
            "Moviepy - Building video /content/drive/MyDrive/Thesis/New added Video3/สมาชิกสภาผู้แทนราษฎร.mp4.\n",
            "Moviepy - Writing video /content/drive/MyDrive/Thesis/New added Video3/สมาชิกสภาผู้แทนราษฎร.mp4\n",
            "\n"
          ]
        },
        {
          "output_type": "stream",
          "name": "stderr",
          "text": []
        },
        {
          "output_type": "stream",
          "name": "stdout",
          "text": [
            "Moviepy - Done !\n",
            "Moviepy - video ready /content/drive/MyDrive/Thesis/New added Video3/สมาชิกสภาผู้แทนราษฎร.mp4\n",
            "Successfully converted /content/drive/MyDrive/Thesis/โหลดใหม่ ครั้งที่ 3/สมาชิกสภาผู้แทนราษฎร.gif to /content/drive/MyDrive/Thesis/New added Video3/สมาชิกสภาผู้แทนราษฎร.mp4\n",
            "Moviepy - Building video /content/drive/MyDrive/Thesis/New added Video3/สะอาด.mp4.\n",
            "Moviepy - Writing video /content/drive/MyDrive/Thesis/New added Video3/สะอาด.mp4\n",
            "\n"
          ]
        },
        {
          "output_type": "stream",
          "name": "stderr",
          "text": []
        },
        {
          "output_type": "stream",
          "name": "stdout",
          "text": [
            "Moviepy - Done !\n",
            "Moviepy - video ready /content/drive/MyDrive/Thesis/New added Video3/สะอาด.mp4\n",
            "Successfully converted /content/drive/MyDrive/Thesis/โหลดใหม่ ครั้งที่ 3/สะอาด.gif to /content/drive/MyDrive/Thesis/New added Video3/สะอาด.mp4\n",
            "Moviepy - Building video /content/drive/MyDrive/Thesis/New added Video3/พนักงานทำความสะอาด.mp4.\n",
            "Moviepy - Writing video /content/drive/MyDrive/Thesis/New added Video3/พนักงานทำความสะอาด.mp4\n",
            "\n"
          ]
        },
        {
          "output_type": "stream",
          "name": "stderr",
          "text": []
        },
        {
          "output_type": "stream",
          "name": "stdout",
          "text": [
            "Moviepy - Done !\n",
            "Moviepy - video ready /content/drive/MyDrive/Thesis/New added Video3/พนักงานทำความสะอาด.mp4\n",
            "Successfully converted /content/drive/MyDrive/Thesis/โหลดใหม่ ครั้งที่ 3/พนักงานทำความสะอาด.gif to /content/drive/MyDrive/Thesis/New added Video3/พนักงานทำความสะอาด.mp4\n",
            "Moviepy - Building video /content/drive/MyDrive/Thesis/New added Video3/เลือกตั้ง.mp4.\n",
            "Moviepy - Writing video /content/drive/MyDrive/Thesis/New added Video3/เลือกตั้ง.mp4\n",
            "\n"
          ]
        },
        {
          "output_type": "stream",
          "name": "stderr",
          "text": []
        },
        {
          "output_type": "stream",
          "name": "stdout",
          "text": [
            "Moviepy - Done !\n",
            "Moviepy - video ready /content/drive/MyDrive/Thesis/New added Video3/เลือกตั้ง.mp4\n",
            "Successfully converted /content/drive/MyDrive/Thesis/โหลดใหม่ ครั้งที่ 3/เลือกตั้ง.gif to /content/drive/MyDrive/Thesis/New added Video3/เลือกตั้ง.mp4\n",
            "Moviepy - Building video /content/drive/MyDrive/Thesis/New added Video3/ทะเบียนบ้าน (ท่าที่ 2).mp4.\n",
            "Moviepy - Writing video /content/drive/MyDrive/Thesis/New added Video3/ทะเบียนบ้าน (ท่าที่ 2).mp4\n",
            "\n"
          ]
        },
        {
          "output_type": "stream",
          "name": "stderr",
          "text": []
        },
        {
          "output_type": "stream",
          "name": "stdout",
          "text": [
            "Moviepy - Done !\n",
            "Moviepy - video ready /content/drive/MyDrive/Thesis/New added Video3/ทะเบียนบ้าน (ท่าที่ 2).mp4\n",
            "Successfully converted /content/drive/MyDrive/Thesis/โหลดใหม่ ครั้งที่ 3/ทะเบียนบ้าน (ท่าที่ 2).gif to /content/drive/MyDrive/Thesis/New added Video3/ทะเบียนบ้าน (ท่าที่ 2).mp4\n",
            "Moviepy - Building video /content/drive/MyDrive/Thesis/New added Video3/ทะเบียนบ้าน.mp4.\n",
            "Moviepy - Writing video /content/drive/MyDrive/Thesis/New added Video3/ทะเบียนบ้าน.mp4\n",
            "\n"
          ]
        },
        {
          "output_type": "stream",
          "name": "stderr",
          "text": []
        },
        {
          "output_type": "stream",
          "name": "stdout",
          "text": [
            "Moviepy - Done !\n",
            "Moviepy - video ready /content/drive/MyDrive/Thesis/New added Video3/ทะเบียนบ้าน.mp4\n",
            "Successfully converted /content/drive/MyDrive/Thesis/โหลดใหม่ ครั้งที่ 3/ทะเบียนบ้าน.gif to /content/drive/MyDrive/Thesis/New added Video3/ทะเบียนบ้าน.mp4\n",
            "Moviepy - Building video /content/drive/MyDrive/Thesis/New added Video3/เร็ว.mp4.\n",
            "Moviepy - Writing video /content/drive/MyDrive/Thesis/New added Video3/เร็ว.mp4\n",
            "\n"
          ]
        },
        {
          "output_type": "stream",
          "name": "stderr",
          "text": []
        },
        {
          "output_type": "stream",
          "name": "stdout",
          "text": [
            "Moviepy - Done !\n",
            "Moviepy - video ready /content/drive/MyDrive/Thesis/New added Video3/เร็ว.mp4\n",
            "Successfully converted /content/drive/MyDrive/Thesis/โหลดใหม่ ครั้งที่ 3/เร็ว.gif to /content/drive/MyDrive/Thesis/New added Video3/เร็ว.mp4\n",
            "Moviepy - Building video /content/drive/MyDrive/Thesis/New added Video3/เมื่อเร็วๆ นี้.mp4.\n",
            "Moviepy - Writing video /content/drive/MyDrive/Thesis/New added Video3/เมื่อเร็วๆ นี้.mp4\n",
            "\n"
          ]
        },
        {
          "output_type": "stream",
          "name": "stderr",
          "text": []
        },
        {
          "output_type": "stream",
          "name": "stdout",
          "text": [
            "Moviepy - Done !\n",
            "Moviepy - video ready /content/drive/MyDrive/Thesis/New added Video3/เมื่อเร็วๆ นี้.mp4\n",
            "Successfully converted /content/drive/MyDrive/Thesis/โหลดใหม่ ครั้งที่ 3/เมื่อเร็วๆ นี้.gif to /content/drive/MyDrive/Thesis/New added Video3/เมื่อเร็วๆ นี้.mp4\n",
            "Moviepy - Building video /content/drive/MyDrive/Thesis/New added Video3/รถไฟความเร็วสูง.mp4.\n",
            "Moviepy - Writing video /content/drive/MyDrive/Thesis/New added Video3/รถไฟความเร็วสูง.mp4\n",
            "\n"
          ]
        },
        {
          "output_type": "stream",
          "name": "stderr",
          "text": []
        },
        {
          "output_type": "stream",
          "name": "stdout",
          "text": [
            "Moviepy - Done !\n",
            "Moviepy - video ready /content/drive/MyDrive/Thesis/New added Video3/รถไฟความเร็วสูง.mp4\n",
            "Successfully converted /content/drive/MyDrive/Thesis/โหลดใหม่ ครั้งที่ 3/รถไฟความเร็วสูง.gif to /content/drive/MyDrive/Thesis/New added Video3/รถไฟความเร็วสูง.mp4\n",
            "Moviepy - Building video /content/drive/MyDrive/Thesis/New added Video3/รีบ.mp4.\n",
            "Moviepy - Writing video /content/drive/MyDrive/Thesis/New added Video3/รีบ.mp4\n",
            "\n"
          ]
        },
        {
          "output_type": "stream",
          "name": "stderr",
          "text": []
        },
        {
          "output_type": "stream",
          "name": "stdout",
          "text": [
            "Moviepy - Done !\n",
            "Moviepy - video ready /content/drive/MyDrive/Thesis/New added Video3/รีบ.mp4\n",
            "Successfully converted /content/drive/MyDrive/Thesis/โหลดใหม่ ครั้งที่ 3/รีบ.gif to /content/drive/MyDrive/Thesis/New added Video3/รีบ.mp4\n",
            "Moviepy - Building video /content/drive/MyDrive/Thesis/New added Video3/ด่วน.mp4.\n",
            "Moviepy - Writing video /content/drive/MyDrive/Thesis/New added Video3/ด่วน.mp4\n",
            "\n"
          ]
        },
        {
          "output_type": "stream",
          "name": "stderr",
          "text": []
        },
        {
          "output_type": "stream",
          "name": "stdout",
          "text": [
            "Moviepy - Done !\n",
            "Moviepy - video ready /content/drive/MyDrive/Thesis/New added Video3/ด่วน.mp4\n",
            "Successfully converted /content/drive/MyDrive/Thesis/โหลดใหม่ ครั้งที่ 3/ด่วน.gif to /content/drive/MyDrive/Thesis/New added Video3/ด่วน.mp4\n",
            "Moviepy - Building video /content/drive/MyDrive/Thesis/New added Video3/เรือด่วน.mp4.\n",
            "Moviepy - Writing video /content/drive/MyDrive/Thesis/New added Video3/เรือด่วน.mp4\n",
            "\n"
          ]
        },
        {
          "output_type": "stream",
          "name": "stderr",
          "text": []
        },
        {
          "output_type": "stream",
          "name": "stdout",
          "text": [
            "Moviepy - Done !\n",
            "Moviepy - video ready /content/drive/MyDrive/Thesis/New added Video3/เรือด่วน.mp4\n",
            "Successfully converted /content/drive/MyDrive/Thesis/โหลดใหม่ ครั้งที่ 3/เรือด่วน.gif to /content/drive/MyDrive/Thesis/New added Video3/เรือด่วน.mp4\n",
            "Moviepy - Building video /content/drive/MyDrive/Thesis/New added Video3/พาราลิมปิก.mp4.\n",
            "Moviepy - Writing video /content/drive/MyDrive/Thesis/New added Video3/พาราลิมปิก.mp4\n",
            "\n"
          ]
        },
        {
          "output_type": "stream",
          "name": "stderr",
          "text": []
        },
        {
          "output_type": "stream",
          "name": "stdout",
          "text": [
            "Moviepy - Done !\n",
            "Moviepy - video ready /content/drive/MyDrive/Thesis/New added Video3/พาราลิมปิก.mp4\n",
            "Successfully converted /content/drive/MyDrive/Thesis/โหลดใหม่ ครั้งที่ 3/พาราลิมปิก.gif to /content/drive/MyDrive/Thesis/New added Video3/พาราลิมปิก.mp4\n",
            "Moviepy - Building video /content/drive/MyDrive/Thesis/New added Video3/เปลืองเงิน.mp4.\n",
            "Moviepy - Writing video /content/drive/MyDrive/Thesis/New added Video3/เปลืองเงิน.mp4\n",
            "\n"
          ]
        },
        {
          "output_type": "stream",
          "name": "stderr",
          "text": []
        },
        {
          "output_type": "stream",
          "name": "stdout",
          "text": [
            "Moviepy - Done !\n",
            "Moviepy - video ready /content/drive/MyDrive/Thesis/New added Video3/เปลืองเงิน.mp4\n",
            "Successfully converted /content/drive/MyDrive/Thesis/โหลดใหม่ ครั้งที่ 3/เปลืองเงิน.gif to /content/drive/MyDrive/Thesis/New added Video3/เปลืองเงิน.mp4\n",
            "Moviepy - Building video /content/drive/MyDrive/Thesis/New added Video3/ประหยัด.mp4.\n",
            "Moviepy - Writing video /content/drive/MyDrive/Thesis/New added Video3/ประหยัด.mp4\n",
            "\n"
          ]
        },
        {
          "output_type": "stream",
          "name": "stderr",
          "text": []
        },
        {
          "output_type": "stream",
          "name": "stdout",
          "text": [
            "Moviepy - Done !\n",
            "Moviepy - video ready /content/drive/MyDrive/Thesis/New added Video3/ประหยัด.mp4\n",
            "Successfully converted /content/drive/MyDrive/Thesis/โหลดใหม่ ครั้งที่ 3/ประหยัด.gif to /content/drive/MyDrive/Thesis/New added Video3/ประหยัด.mp4\n",
            "Moviepy - Building video /content/drive/MyDrive/Thesis/New added Video3/ร้องเพลงคาราโอเกะ.mp4.\n",
            "Moviepy - Writing video /content/drive/MyDrive/Thesis/New added Video3/ร้องเพลงคาราโอเกะ.mp4\n",
            "\n"
          ]
        },
        {
          "output_type": "stream",
          "name": "stderr",
          "text": []
        },
        {
          "output_type": "stream",
          "name": "stdout",
          "text": [
            "Moviepy - Done !\n",
            "Moviepy - video ready /content/drive/MyDrive/Thesis/New added Video3/ร้องเพลงคาราโอเกะ.mp4\n",
            "Successfully converted /content/drive/MyDrive/Thesis/โหลดใหม่ ครั้งที่ 3/ร้องเพลงคาราโอเกะ.gif to /content/drive/MyDrive/Thesis/New added Video3/ร้องเพลงคาราโอเกะ.mp4\n",
            "Moviepy - Building video /content/drive/MyDrive/Thesis/New added Video3/ช่างซ่อมร้องเท้า.mp4.\n",
            "Moviepy - Writing video /content/drive/MyDrive/Thesis/New added Video3/ช่างซ่อมร้องเท้า.mp4\n",
            "\n"
          ]
        },
        {
          "output_type": "stream",
          "name": "stderr",
          "text": []
        },
        {
          "output_type": "stream",
          "name": "stdout",
          "text": [
            "Moviepy - Done !\n",
            "Moviepy - video ready /content/drive/MyDrive/Thesis/New added Video3/ช่างซ่อมร้องเท้า.mp4\n",
            "Successfully converted /content/drive/MyDrive/Thesis/โหลดใหม่ ครั้งที่ 3/ช่างซ่อมร้องเท้า.gif to /content/drive/MyDrive/Thesis/New added Video3/ช่างซ่อมร้องเท้า.mp4\n",
            "Moviepy - Building video /content/drive/MyDrive/Thesis/New added Video3/ร้องไห้.mp4.\n",
            "Moviepy - Writing video /content/drive/MyDrive/Thesis/New added Video3/ร้องไห้.mp4\n",
            "\n"
          ]
        },
        {
          "output_type": "stream",
          "name": "stderr",
          "text": []
        },
        {
          "output_type": "stream",
          "name": "stdout",
          "text": [
            "Moviepy - Done !\n",
            "Moviepy - video ready /content/drive/MyDrive/Thesis/New added Video3/ร้องไห้.mp4\n",
            "Successfully converted /content/drive/MyDrive/Thesis/โหลดใหม่ ครั้งที่ 3/ร้องไห้.gif to /content/drive/MyDrive/Thesis/New added Video3/ร้องไห้.mp4\n",
            "Moviepy - Building video /content/drive/MyDrive/Thesis/New added Video3/ฟ้าร้อง.mp4.\n",
            "Moviepy - Writing video /content/drive/MyDrive/Thesis/New added Video3/ฟ้าร้อง.mp4\n",
            "\n"
          ]
        },
        {
          "output_type": "stream",
          "name": "stderr",
          "text": []
        },
        {
          "output_type": "stream",
          "name": "stdout",
          "text": [
            "Moviepy - Done !\n",
            "Moviepy - video ready /content/drive/MyDrive/Thesis/New added Video3/ฟ้าร้อง.mp4\n",
            "Successfully converted /content/drive/MyDrive/Thesis/โหลดใหม่ ครั้งที่ 3/ฟ้าร้อง.gif to /content/drive/MyDrive/Thesis/New added Video3/ฟ้าร้อง.mp4\n",
            "Moviepy - Building video /content/drive/MyDrive/Thesis/New added Video3/คาราโอเกะ.mp4.\n",
            "Moviepy - Writing video /content/drive/MyDrive/Thesis/New added Video3/คาราโอเกะ.mp4\n",
            "\n"
          ]
        },
        {
          "output_type": "stream",
          "name": "stderr",
          "text": []
        },
        {
          "output_type": "stream",
          "name": "stdout",
          "text": [
            "Moviepy - Done !\n",
            "Moviepy - video ready /content/drive/MyDrive/Thesis/New added Video3/คาราโอเกะ.mp4\n",
            "Successfully converted /content/drive/MyDrive/Thesis/โหลดใหม่ ครั้งที่ 3/คาราโอเกะ.gif to /content/drive/MyDrive/Thesis/New added Video3/คาราโอเกะ.mp4\n",
            "Moviepy - Building video /content/drive/MyDrive/Thesis/New added Video3/เรือกรรเชียง.mp4.\n",
            "Moviepy - Writing video /content/drive/MyDrive/Thesis/New added Video3/เรือกรรเชียง.mp4\n",
            "\n"
          ]
        },
        {
          "output_type": "stream",
          "name": "stderr",
          "text": []
        },
        {
          "output_type": "stream",
          "name": "stdout",
          "text": [
            "Moviepy - Done !\n",
            "Moviepy - video ready /content/drive/MyDrive/Thesis/New added Video3/เรือกรรเชียง.mp4\n",
            "Successfully converted /content/drive/MyDrive/Thesis/โหลดใหม่ ครั้งที่ 3/เรือกรรเชียง.gif to /content/drive/MyDrive/Thesis/New added Video3/เรือกรรเชียง.mp4\n",
            "Moviepy - Building video /content/drive/MyDrive/Thesis/New added Video3/เหวี่ยงแห.mp4.\n",
            "Moviepy - Writing video /content/drive/MyDrive/Thesis/New added Video3/เหวี่ยงแห.mp4\n",
            "\n"
          ]
        },
        {
          "output_type": "stream",
          "name": "stderr",
          "text": []
        },
        {
          "output_type": "stream",
          "name": "stdout",
          "text": [
            "Moviepy - Done !\n",
            "Moviepy - video ready /content/drive/MyDrive/Thesis/New added Video3/เหวี่ยงแห.mp4\n",
            "Successfully converted /content/drive/MyDrive/Thesis/โหลดใหม่ ครั้งที่ 3/เหวี่ยงแห.gif to /content/drive/MyDrive/Thesis/New added Video3/เหวี่ยงแห.mp4\n",
            "Moviepy - Building video /content/drive/MyDrive/Thesis/New added Video3/สมัครงาน.mp4.\n",
            "Moviepy - Writing video /content/drive/MyDrive/Thesis/New added Video3/สมัครงาน.mp4\n",
            "\n"
          ]
        },
        {
          "output_type": "stream",
          "name": "stderr",
          "text": []
        },
        {
          "output_type": "stream",
          "name": "stdout",
          "text": [
            "Moviepy - Done !\n",
            "Moviepy - video ready /content/drive/MyDrive/Thesis/New added Video3/สมัครงาน.mp4\n",
            "Successfully converted /content/drive/MyDrive/Thesis/โหลดใหม่ ครั้งที่ 3/สมัครงาน.gif to /content/drive/MyDrive/Thesis/New added Video3/สมัครงาน.mp4\n",
            "Moviepy - Building video /content/drive/MyDrive/Thesis/New added Video3/ใบขับขี่รถจักรยานยนต์.mp4.\n",
            "Moviepy - Writing video /content/drive/MyDrive/Thesis/New added Video3/ใบขับขี่รถจักรยานยนต์.mp4\n",
            "\n"
          ]
        },
        {
          "output_type": "stream",
          "name": "stderr",
          "text": []
        },
        {
          "output_type": "stream",
          "name": "stdout",
          "text": [
            "Moviepy - Done !\n",
            "Moviepy - video ready /content/drive/MyDrive/Thesis/New added Video3/ใบขับขี่รถจักรยานยนต์.mp4\n",
            "Successfully converted /content/drive/MyDrive/Thesis/โหลดใหม่ ครั้งที่ 3/ใบขับขี่รถจักรยานยนต์.gif to /content/drive/MyDrive/Thesis/New added Video3/ใบขับขี่รถจักรยานยนต์.mp4\n",
            "Moviepy - Building video /content/drive/MyDrive/Thesis/New added Video3/ใบขับขี่รถยนต์.mp4.\n",
            "Moviepy - Writing video /content/drive/MyDrive/Thesis/New added Video3/ใบขับขี่รถยนต์.mp4\n",
            "\n"
          ]
        },
        {
          "output_type": "stream",
          "name": "stderr",
          "text": []
        },
        {
          "output_type": "stream",
          "name": "stdout",
          "text": [
            "Moviepy - Done !\n",
            "Moviepy - video ready /content/drive/MyDrive/Thesis/New added Video3/ใบขับขี่รถยนต์.mp4\n",
            "Successfully converted /content/drive/MyDrive/Thesis/โหลดใหม่ ครั้งที่ 3/ใบขับขี่รถยนต์.gif to /content/drive/MyDrive/Thesis/New added Video3/ใบขับขี่รถยนต์.mp4\n",
            "Moviepy - Building video /content/drive/MyDrive/Thesis/New added Video3/บัตรสมาชิก.mp4.\n",
            "Moviepy - Writing video /content/drive/MyDrive/Thesis/New added Video3/บัตรสมาชิก.mp4\n",
            "\n"
          ]
        },
        {
          "output_type": "stream",
          "name": "stderr",
          "text": []
        },
        {
          "output_type": "stream",
          "name": "stdout",
          "text": [
            "Moviepy - Done !\n",
            "Moviepy - video ready /content/drive/MyDrive/Thesis/New added Video3/บัตรสมาชิก.mp4\n",
            "Successfully converted /content/drive/MyDrive/Thesis/โหลดใหม่ ครั้งที่ 3/บัตรสมาชิก.gif to /content/drive/MyDrive/Thesis/New added Video3/บัตรสมาชิก.mp4\n",
            "Moviepy - Building video /content/drive/MyDrive/Thesis/New added Video3/บัตรเครดิต.mp4.\n",
            "Moviepy - Writing video /content/drive/MyDrive/Thesis/New added Video3/บัตรเครดิต.mp4\n",
            "\n"
          ]
        },
        {
          "output_type": "stream",
          "name": "stderr",
          "text": []
        },
        {
          "output_type": "stream",
          "name": "stdout",
          "text": [
            "Moviepy - Done !\n",
            "Moviepy - video ready /content/drive/MyDrive/Thesis/New added Video3/บัตรเครดิต.mp4\n",
            "Successfully converted /content/drive/MyDrive/Thesis/โหลดใหม่ ครั้งที่ 3/บัตรเครดิต.gif to /content/drive/MyDrive/Thesis/New added Video3/บัตรเครดิต.mp4\n",
            "Moviepy - Building video /content/drive/MyDrive/Thesis/New added Video3/บัตรเอทีเอ็ม.mp4.\n",
            "Moviepy - Writing video /content/drive/MyDrive/Thesis/New added Video3/บัตรเอทีเอ็ม.mp4\n",
            "\n"
          ]
        },
        {
          "output_type": "stream",
          "name": "stderr",
          "text": []
        },
        {
          "output_type": "stream",
          "name": "stdout",
          "text": [
            "Moviepy - Done !\n",
            "Moviepy - video ready /content/drive/MyDrive/Thesis/New added Video3/บัตรเอทีเอ็ม.mp4\n",
            "Successfully converted /content/drive/MyDrive/Thesis/โหลดใหม่ ครั้งที่ 3/บัตรเอทีเอ็ม.gif to /content/drive/MyDrive/Thesis/New added Video3/บัตรเอทีเอ็ม.mp4\n",
            "Moviepy - Building video /content/drive/MyDrive/Thesis/New added Video3/บัตรประชาชน.mp4.\n",
            "Moviepy - Writing video /content/drive/MyDrive/Thesis/New added Video3/บัตรประชาชน.mp4\n",
            "\n"
          ]
        },
        {
          "output_type": "stream",
          "name": "stderr",
          "text": []
        },
        {
          "output_type": "stream",
          "name": "stdout",
          "text": [
            "Moviepy - Done !\n",
            "Moviepy - video ready /content/drive/MyDrive/Thesis/New added Video3/บัตรประชาชน.mp4\n",
            "Successfully converted /content/drive/MyDrive/Thesis/โหลดใหม่ ครั้งที่ 3/บัตรประชาชน.gif to /content/drive/MyDrive/Thesis/New added Video3/บัตรประชาชน.mp4\n",
            "Moviepy - Building video /content/drive/MyDrive/Thesis/New added Video3/รถทัวร์.mp4.\n",
            "Moviepy - Writing video /content/drive/MyDrive/Thesis/New added Video3/รถทัวร์.mp4\n",
            "\n"
          ]
        },
        {
          "output_type": "stream",
          "name": "stderr",
          "text": []
        },
        {
          "output_type": "stream",
          "name": "stdout",
          "text": [
            "Moviepy - Done !\n",
            "Moviepy - video ready /content/drive/MyDrive/Thesis/New added Video3/รถทัวร์.mp4\n",
            "Successfully converted /content/drive/MyDrive/Thesis/โหลดใหม่ ครั้งที่ 3/รถทัวร์.gif to /content/drive/MyDrive/Thesis/New added Video3/รถทัวร์.mp4\n",
            "Moviepy - Building video /content/drive/MyDrive/Thesis/New added Video3/วางเงินมัดจำ.mp4.\n",
            "Moviepy - Writing video /content/drive/MyDrive/Thesis/New added Video3/วางเงินมัดจำ.mp4\n",
            "\n"
          ]
        },
        {
          "output_type": "stream",
          "name": "stderr",
          "text": []
        },
        {
          "output_type": "stream",
          "name": "stdout",
          "text": [
            "Moviepy - Done !\n",
            "Moviepy - video ready /content/drive/MyDrive/Thesis/New added Video3/วางเงินมัดจำ.mp4\n",
            "Successfully converted /content/drive/MyDrive/Thesis/โหลดใหม่ ครั้งที่ 3/วางเงินมัดจำ.gif to /content/drive/MyDrive/Thesis/New added Video3/วางเงินมัดจำ.mp4\n",
            "Moviepy - Building video /content/drive/MyDrive/Thesis/New added Video3/จอง.mp4.\n",
            "Moviepy - Writing video /content/drive/MyDrive/Thesis/New added Video3/จอง.mp4\n",
            "\n"
          ]
        },
        {
          "output_type": "stream",
          "name": "stderr",
          "text": []
        },
        {
          "output_type": "stream",
          "name": "stdout",
          "text": [
            "Moviepy - Done !\n",
            "Moviepy - video ready /content/drive/MyDrive/Thesis/New added Video3/จอง.mp4\n",
            "Successfully converted /content/drive/MyDrive/Thesis/โหลดใหม่ ครั้งที่ 3/จอง.gif to /content/drive/MyDrive/Thesis/New added Video3/จอง.mp4\n",
            "Moviepy - Building video /content/drive/MyDrive/Thesis/New added Video3/เป็นหนี้.mp4.\n",
            "Moviepy - Writing video /content/drive/MyDrive/Thesis/New added Video3/เป็นหนี้.mp4\n",
            "\n"
          ]
        },
        {
          "output_type": "stream",
          "name": "stderr",
          "text": []
        },
        {
          "output_type": "stream",
          "name": "stdout",
          "text": [
            "Moviepy - Done !\n",
            "Moviepy - video ready /content/drive/MyDrive/Thesis/New added Video3/เป็นหนี้.mp4\n",
            "Successfully converted /content/drive/MyDrive/Thesis/โหลดใหม่ ครั้งที่ 3/เป็นหนี้.gif to /content/drive/MyDrive/Thesis/New added Video3/เป็นหนี้.mp4\n",
            "Moviepy - Building video /content/drive/MyDrive/Thesis/New added Video3/งบประมาณ.mp4.\n",
            "Moviepy - Writing video /content/drive/MyDrive/Thesis/New added Video3/งบประมาณ.mp4\n",
            "\n"
          ]
        },
        {
          "output_type": "stream",
          "name": "stderr",
          "text": []
        },
        {
          "output_type": "stream",
          "name": "stdout",
          "text": [
            "Moviepy - Done !\n",
            "Moviepy - video ready /content/drive/MyDrive/Thesis/New added Video3/งบประมาณ.mp4\n",
            "Successfully converted /content/drive/MyDrive/Thesis/โหลดใหม่ ครั้งที่ 3/งบประมาณ.gif to /content/drive/MyDrive/Thesis/New added Video3/งบประมาณ.mp4\n",
            "Moviepy - Building video /content/drive/MyDrive/Thesis/New added Video3/พิมพ์นิ้ว.mp4.\n",
            "Moviepy - Writing video /content/drive/MyDrive/Thesis/New added Video3/พิมพ์นิ้ว.mp4\n",
            "\n"
          ]
        },
        {
          "output_type": "stream",
          "name": "stderr",
          "text": []
        },
        {
          "output_type": "stream",
          "name": "stdout",
          "text": [
            "Moviepy - Done !\n",
            "Moviepy - video ready /content/drive/MyDrive/Thesis/New added Video3/พิมพ์นิ้ว.mp4\n",
            "Successfully converted /content/drive/MyDrive/Thesis/โหลดใหม่ ครั้งที่ 3/พิมพ์นิ้ว.gif to /content/drive/MyDrive/Thesis/New added Video3/พิมพ์นิ้ว.mp4\n",
            "Moviepy - Building video /content/drive/MyDrive/Thesis/New added Video3/แอสตราเซเนก้า.mp4.\n",
            "Moviepy - Writing video /content/drive/MyDrive/Thesis/New added Video3/แอสตราเซเนก้า.mp4\n",
            "\n"
          ]
        },
        {
          "output_type": "stream",
          "name": "stderr",
          "text": []
        },
        {
          "output_type": "stream",
          "name": "stdout",
          "text": [
            "Moviepy - Done !\n",
            "Moviepy - video ready /content/drive/MyDrive/Thesis/New added Video3/แอสตราเซเนก้า.mp4\n",
            "Successfully converted /content/drive/MyDrive/Thesis/โหลดใหม่ ครั้งที่ 3/แอสตราเซเนก้า.gif to /content/drive/MyDrive/Thesis/New added Video3/แอสตราเซเนก้า.mp4\n",
            "Moviepy - Building video /content/drive/MyDrive/Thesis/New added Video3/จำนำ.mp4.\n",
            "Moviepy - Writing video /content/drive/MyDrive/Thesis/New added Video3/จำนำ.mp4\n",
            "\n"
          ]
        },
        {
          "output_type": "stream",
          "name": "stderr",
          "text": []
        },
        {
          "output_type": "stream",
          "name": "stdout",
          "text": [
            "Moviepy - Done !\n",
            "Moviepy - video ready /content/drive/MyDrive/Thesis/New added Video3/จำนำ.mp4\n",
            "Successfully converted /content/drive/MyDrive/Thesis/โหลดใหม่ ครั้งที่ 3/จำนำ.gif to /content/drive/MyDrive/Thesis/New added Video3/จำนำ.mp4\n",
            "Moviepy - Building video /content/drive/MyDrive/Thesis/New added Video3/ผู้จำนำ.mp4.\n",
            "Moviepy - Writing video /content/drive/MyDrive/Thesis/New added Video3/ผู้จำนำ.mp4\n",
            "\n"
          ]
        },
        {
          "output_type": "stream",
          "name": "stderr",
          "text": []
        },
        {
          "output_type": "stream",
          "name": "stdout",
          "text": [
            "Moviepy - Done !\n",
            "Moviepy - video ready /content/drive/MyDrive/Thesis/New added Video3/ผู้จำนำ.mp4\n",
            "Successfully converted /content/drive/MyDrive/Thesis/โหลดใหม่ ครั้งที่ 3/ผู้จำนำ.gif to /content/drive/MyDrive/Thesis/New added Video3/ผู้จำนำ.mp4\n",
            "Moviepy - Building video /content/drive/MyDrive/Thesis/New added Video3/ผู้รับจำนำ.mp4.\n",
            "Moviepy - Writing video /content/drive/MyDrive/Thesis/New added Video3/ผู้รับจำนำ.mp4\n",
            "\n"
          ]
        },
        {
          "output_type": "stream",
          "name": "stderr",
          "text": []
        },
        {
          "output_type": "stream",
          "name": "stdout",
          "text": [
            "Moviepy - Done !\n",
            "Moviepy - video ready /content/drive/MyDrive/Thesis/New added Video3/ผู้รับจำนำ.mp4\n",
            "Successfully converted /content/drive/MyDrive/Thesis/โหลดใหม่ ครั้งที่ 3/ผู้รับจำนำ.gif to /content/drive/MyDrive/Thesis/New added Video3/ผู้รับจำนำ.mp4\n",
            "Moviepy - Building video /content/drive/MyDrive/Thesis/New added Video3/จอห์นสันแอนด์จอห์นสัน.mp4.\n",
            "Moviepy - Writing video /content/drive/MyDrive/Thesis/New added Video3/จอห์นสันแอนด์จอห์นสัน.mp4\n",
            "\n"
          ]
        },
        {
          "output_type": "stream",
          "name": "stderr",
          "text": []
        },
        {
          "output_type": "stream",
          "name": "stdout",
          "text": [
            "Moviepy - Done !\n",
            "Moviepy - video ready /content/drive/MyDrive/Thesis/New added Video3/จอห์นสันแอนด์จอห์นสัน.mp4\n",
            "Successfully converted /content/drive/MyDrive/Thesis/โหลดใหม่ ครั้งที่ 3/จอห์นสันแอนด์จอห์นสัน.gif to /content/drive/MyDrive/Thesis/New added Video3/จอห์นสันแอนด์จอห์นสัน.mp4\n",
            "Moviepy - Building video /content/drive/MyDrive/Thesis/New added Video3/ผ่อนชำระ.mp4.\n",
            "Moviepy - Writing video /content/drive/MyDrive/Thesis/New added Video3/ผ่อนชำระ.mp4\n",
            "\n"
          ]
        },
        {
          "output_type": "stream",
          "name": "stderr",
          "text": []
        },
        {
          "output_type": "stream",
          "name": "stdout",
          "text": [
            "Moviepy - Done !\n",
            "Moviepy - video ready /content/drive/MyDrive/Thesis/New added Video3/ผ่อนชำระ.mp4\n",
            "Successfully converted /content/drive/MyDrive/Thesis/โหลดใหม่ ครั้งที่ 3/ผ่อนชำระ.gif to /content/drive/MyDrive/Thesis/New added Video3/ผ่อนชำระ.mp4\n",
            "Moviepy - Building video /content/drive/MyDrive/Thesis/New added Video3/โมเดอร์นา.mp4.\n",
            "Moviepy - Writing video /content/drive/MyDrive/Thesis/New added Video3/โมเดอร์นา.mp4\n",
            "\n"
          ]
        },
        {
          "output_type": "stream",
          "name": "stderr",
          "text": []
        },
        {
          "output_type": "stream",
          "name": "stdout",
          "text": [
            "Moviepy - Done !\n",
            "Moviepy - video ready /content/drive/MyDrive/Thesis/New added Video3/โมเดอร์นา.mp4\n",
            "Successfully converted /content/drive/MyDrive/Thesis/โหลดใหม่ ครั้งที่ 3/โมเดอร์นา.gif to /content/drive/MyDrive/Thesis/New added Video3/โมเดอร์นา.mp4\n",
            "Moviepy - Building video /content/drive/MyDrive/Thesis/New added Video3/ชุดตรวจโควิด-19 (แบบหยด).mp4.\n",
            "Moviepy - Writing video /content/drive/MyDrive/Thesis/New added Video3/ชุดตรวจโควิด-19 (แบบหยด).mp4\n",
            "\n"
          ]
        },
        {
          "output_type": "stream",
          "name": "stderr",
          "text": []
        },
        {
          "output_type": "stream",
          "name": "stdout",
          "text": [
            "Moviepy - Done !\n",
            "Moviepy - video ready /content/drive/MyDrive/Thesis/New added Video3/ชุดตรวจโควิด-19 (แบบหยด).mp4\n",
            "Successfully converted /content/drive/MyDrive/Thesis/โหลดใหม่ ครั้งที่ 3/ชุดตรวจโควิด-19 (แบบหยด).gif to /content/drive/MyDrive/Thesis/New added Video3/ชุดตรวจโควิด-19 (แบบหยด).mp4\n",
            "Moviepy - Building video /content/drive/MyDrive/Thesis/New added Video3/ชุดตรวจการตั้งครรภ์ (แบบหยด).mp4.\n",
            "Moviepy - Writing video /content/drive/MyDrive/Thesis/New added Video3/ชุดตรวจการตั้งครรภ์ (แบบหยด).mp4\n",
            "\n"
          ]
        },
        {
          "output_type": "stream",
          "name": "stderr",
          "text": []
        },
        {
          "output_type": "stream",
          "name": "stdout",
          "text": [
            "Moviepy - Done !\n",
            "Moviepy - video ready /content/drive/MyDrive/Thesis/New added Video3/ชุดตรวจการตั้งครรภ์ (แบบหยด).mp4\n",
            "Successfully converted /content/drive/MyDrive/Thesis/โหลดใหม่ ครั้งที่ 3/ชุดตรวจการตั้งครรภ์ (แบบหยด).gif to /content/drive/MyDrive/Thesis/New added Video3/ชุดตรวจการตั้งครรภ์ (แบบหยด).mp4\n",
            "Moviepy - Building video /content/drive/MyDrive/Thesis/New added Video3/เงินดาวน์.mp4.\n",
            "Moviepy - Writing video /content/drive/MyDrive/Thesis/New added Video3/เงินดาวน์.mp4\n",
            "\n"
          ]
        },
        {
          "output_type": "stream",
          "name": "stderr",
          "text": []
        },
        {
          "output_type": "stream",
          "name": "stdout",
          "text": [
            "Moviepy - Done !\n",
            "Moviepy - video ready /content/drive/MyDrive/Thesis/New added Video3/เงินดาวน์.mp4\n",
            "Successfully converted /content/drive/MyDrive/Thesis/โหลดใหม่ ครั้งที่ 3/เงินดาวน์.gif to /content/drive/MyDrive/Thesis/New added Video3/เงินดาวน์.mp4\n",
            "Moviepy - Building video /content/drive/MyDrive/Thesis/New added Video3/ไวรัสโควิด-19.mp4.\n",
            "Moviepy - Writing video /content/drive/MyDrive/Thesis/New added Video3/ไวรัสโควิด-19.mp4\n",
            "\n"
          ]
        },
        {
          "output_type": "stream",
          "name": "stderr",
          "text": []
        },
        {
          "output_type": "stream",
          "name": "stdout",
          "text": [
            "Moviepy - Done !\n",
            "Moviepy - video ready /content/drive/MyDrive/Thesis/New added Video3/ไวรัสโควิด-19.mp4\n",
            "Successfully converted /content/drive/MyDrive/Thesis/โหลดใหม่ ครั้งที่ 3/ไวรัสโควิด-19.gif to /content/drive/MyDrive/Thesis/New added Video3/ไวรัสโควิด-19.mp4\n",
            "Moviepy - Building video /content/drive/MyDrive/Thesis/New added Video3/ภัยพิบัติทางธรรมชาติ.mp4.\n",
            "Moviepy - Writing video /content/drive/MyDrive/Thesis/New added Video3/ภัยพิบัติทางธรรมชาติ.mp4\n",
            "\n"
          ]
        },
        {
          "output_type": "stream",
          "name": "stderr",
          "text": []
        },
        {
          "output_type": "stream",
          "name": "stdout",
          "text": [
            "Moviepy - Done !\n",
            "Moviepy - video ready /content/drive/MyDrive/Thesis/New added Video3/ภัยพิบัติทางธรรมชาติ.mp4\n",
            "Successfully converted /content/drive/MyDrive/Thesis/โหลดใหม่ ครั้งที่ 3/ภัยพิบัติทางธรรมชาติ.gif to /content/drive/MyDrive/Thesis/New added Video3/ภัยพิบัติทางธรรมชาติ.mp4\n",
            "Moviepy - Building video /content/drive/MyDrive/Thesis/New added Video3/นามธรรม.mp4.\n",
            "Moviepy - Writing video /content/drive/MyDrive/Thesis/New added Video3/นามธรรม.mp4\n",
            "\n"
          ]
        },
        {
          "output_type": "stream",
          "name": "stderr",
          "text": []
        },
        {
          "output_type": "stream",
          "name": "stdout",
          "text": [
            "Moviepy - Done !\n",
            "Moviepy - video ready /content/drive/MyDrive/Thesis/New added Video3/นามธรรม.mp4\n",
            "Successfully converted /content/drive/MyDrive/Thesis/โหลดใหม่ ครั้งที่ 3/นามธรรม.gif to /content/drive/MyDrive/Thesis/New added Video3/นามธรรม.mp4\n",
            "Moviepy - Building video /content/drive/MyDrive/Thesis/New added Video3/รูปธรรม.mp4.\n",
            "Moviepy - Writing video /content/drive/MyDrive/Thesis/New added Video3/รูปธรรม.mp4\n",
            "\n"
          ]
        },
        {
          "output_type": "stream",
          "name": "stderr",
          "text": []
        },
        {
          "output_type": "stream",
          "name": "stdout",
          "text": [
            "Moviepy - Done !\n",
            "Moviepy - video ready /content/drive/MyDrive/Thesis/New added Video3/รูปธรรม.mp4\n",
            "Successfully converted /content/drive/MyDrive/Thesis/โหลดใหม่ ครั้งที่ 3/รูปธรรม.gif to /content/drive/MyDrive/Thesis/New added Video3/รูปธรรม.mp4\n",
            "Moviepy - Building video /content/drive/MyDrive/Thesis/New added Video3/สัปดาห์ที่สี่ของเดือน.mp4.\n",
            "Moviepy - Writing video /content/drive/MyDrive/Thesis/New added Video3/สัปดาห์ที่สี่ของเดือน.mp4\n",
            "\n"
          ]
        },
        {
          "output_type": "stream",
          "name": "stderr",
          "text": []
        },
        {
          "output_type": "stream",
          "name": "stdout",
          "text": [
            "Moviepy - Done !\n",
            "Moviepy - video ready /content/drive/MyDrive/Thesis/New added Video3/สัปดาห์ที่สี่ของเดือน.mp4\n",
            "Successfully converted /content/drive/MyDrive/Thesis/โหลดใหม่ ครั้งที่ 3/สัปดาห์ที่สี่ของเดือน.gif to /content/drive/MyDrive/Thesis/New added Video3/สัปดาห์ที่สี่ของเดือน.mp4\n",
            "Moviepy - Building video /content/drive/MyDrive/Thesis/New added Video3/โกนหนวด (ท่าที่ 3).mp4.\n",
            "Moviepy - Writing video /content/drive/MyDrive/Thesis/New added Video3/โกนหนวด (ท่าที่ 3).mp4\n",
            "\n"
          ]
        },
        {
          "output_type": "stream",
          "name": "stderr",
          "text": []
        },
        {
          "output_type": "stream",
          "name": "stdout",
          "text": [
            "Moviepy - Done !\n",
            "Moviepy - video ready /content/drive/MyDrive/Thesis/New added Video3/โกนหนวด (ท่าที่ 3).mp4\n",
            "Successfully converted /content/drive/MyDrive/Thesis/โหลดใหม่ ครั้งที่ 3/โกนหนวด (ท่าที่ 3).gif to /content/drive/MyDrive/Thesis/New added Video3/โกนหนวด (ท่าที่ 3).mp4\n",
            "Moviepy - Building video /content/drive/MyDrive/Thesis/New added Video3/โกนหนวด.mp4.\n",
            "Moviepy - Writing video /content/drive/MyDrive/Thesis/New added Video3/โกนหนวด.mp4\n",
            "\n"
          ]
        },
        {
          "output_type": "stream",
          "name": "stderr",
          "text": []
        },
        {
          "output_type": "stream",
          "name": "stdout",
          "text": [
            "Moviepy - Done !\n",
            "Moviepy - video ready /content/drive/MyDrive/Thesis/New added Video3/โกนหนวด.mp4\n",
            "Successfully converted /content/drive/MyDrive/Thesis/โหลดใหม่ ครั้งที่ 3/โกนหนวด.gif to /content/drive/MyDrive/Thesis/New added Video3/โกนหนวด.mp4\n",
            "Moviepy - Building video /content/drive/MyDrive/Thesis/New added Video3/แกะ.mp4.\n",
            "Moviepy - Writing video /content/drive/MyDrive/Thesis/New added Video3/แกะ.mp4\n",
            "\n"
          ]
        },
        {
          "output_type": "stream",
          "name": "stderr",
          "text": []
        },
        {
          "output_type": "stream",
          "name": "stdout",
          "text": [
            "Moviepy - Done !\n",
            "Moviepy - video ready /content/drive/MyDrive/Thesis/New added Video3/แกะ.mp4\n",
            "Successfully converted /content/drive/MyDrive/Thesis/โหลดใหม่ ครั้งที่ 3/แกะ.gif to /content/drive/MyDrive/Thesis/New added Video3/แกะ.mp4\n",
            "Moviepy - Building video /content/drive/MyDrive/Thesis/New added Video3/แกะ (ใช้กับแผ่นป้ายชื่อหรือป้ายราคา).mp4.\n",
            "Moviepy - Writing video /content/drive/MyDrive/Thesis/New added Video3/แกะ (ใช้กับแผ่นป้ายชื่อหรือป้ายราคา).mp4\n",
            "\n"
          ]
        },
        {
          "output_type": "stream",
          "name": "stderr",
          "text": []
        },
        {
          "output_type": "stream",
          "name": "stdout",
          "text": [
            "Moviepy - Done !\n",
            "Moviepy - video ready /content/drive/MyDrive/Thesis/New added Video3/แกะ (ใช้กับแผ่นป้ายชื่อหรือป้ายราคา).mp4\n",
            "Successfully converted /content/drive/MyDrive/Thesis/โหลดใหม่ ครั้งที่ 3/แกะ (ใช้กับแผ่นป้ายชื่อหรือป้ายราคา).gif to /content/drive/MyDrive/Thesis/New added Video3/แกะ (ใช้กับแผ่นป้ายชื่อหรือป้ายราคา).mp4\n",
            "Moviepy - Building video /content/drive/MyDrive/Thesis/New added Video3/ดมกาว.mp4.\n",
            "Moviepy - Writing video /content/drive/MyDrive/Thesis/New added Video3/ดมกาว.mp4\n",
            "\n"
          ]
        },
        {
          "output_type": "stream",
          "name": "stderr",
          "text": []
        },
        {
          "output_type": "stream",
          "name": "stdout",
          "text": [
            "Moviepy - Done !\n",
            "Moviepy - video ready /content/drive/MyDrive/Thesis/New added Video3/ดมกาว.mp4\n",
            "Successfully converted /content/drive/MyDrive/Thesis/โหลดใหม่ ครั้งที่ 3/ดมกาว.gif to /content/drive/MyDrive/Thesis/New added Video3/ดมกาว.mp4\n",
            "Moviepy - Building video /content/drive/MyDrive/Thesis/New added Video3/ยาดม.mp4.\n",
            "Moviepy - Writing video /content/drive/MyDrive/Thesis/New added Video3/ยาดม.mp4\n",
            "\n"
          ]
        },
        {
          "output_type": "stream",
          "name": "stderr",
          "text": []
        },
        {
          "output_type": "stream",
          "name": "stdout",
          "text": [
            "Moviepy - Done !\n",
            "Moviepy - video ready /content/drive/MyDrive/Thesis/New added Video3/ยาดม.mp4\n",
            "Successfully converted /content/drive/MyDrive/Thesis/โหลดใหม่ ครั้งที่ 3/ยาดม.gif to /content/drive/MyDrive/Thesis/New added Video3/ยาดม.mp4\n",
            "Moviepy - Building video /content/drive/MyDrive/Thesis/New added Video3/พูดมาก.mp4.\n",
            "Moviepy - Writing video /content/drive/MyDrive/Thesis/New added Video3/พูดมาก.mp4\n",
            "\n"
          ]
        },
        {
          "output_type": "stream",
          "name": "stderr",
          "text": []
        },
        {
          "output_type": "stream",
          "name": "stdout",
          "text": [
            "Moviepy - Done !\n",
            "Moviepy - video ready /content/drive/MyDrive/Thesis/New added Video3/พูดมาก.mp4\n",
            "Successfully converted /content/drive/MyDrive/Thesis/โหลดใหม่ ครั้งที่ 3/พูดมาก.gif to /content/drive/MyDrive/Thesis/New added Video3/พูดมาก.mp4\n",
            "Moviepy - Building video /content/drive/MyDrive/Thesis/New added Video3/ดมขวด.mp4.\n",
            "Moviepy - Writing video /content/drive/MyDrive/Thesis/New added Video3/ดมขวด.mp4\n",
            "\n"
          ]
        },
        {
          "output_type": "stream",
          "name": "stderr",
          "text": []
        },
        {
          "output_type": "stream",
          "name": "stdout",
          "text": [
            "Moviepy - Done !\n",
            "Moviepy - video ready /content/drive/MyDrive/Thesis/New added Video3/ดมขวด.mp4\n",
            "Successfully converted /content/drive/MyDrive/Thesis/โหลดใหม่ ครั้งที่ 3/ดมขวด.gif to /content/drive/MyDrive/Thesis/New added Video3/ดมขวด.mp4\n",
            "Moviepy - Building video /content/drive/MyDrive/Thesis/New added Video3/ดมหลอด.mp4.\n",
            "Moviepy - Writing video /content/drive/MyDrive/Thesis/New added Video3/ดมหลอด.mp4\n",
            "\n"
          ]
        },
        {
          "output_type": "stream",
          "name": "stderr",
          "text": []
        },
        {
          "output_type": "stream",
          "name": "stdout",
          "text": [
            "Moviepy - Done !\n",
            "Moviepy - video ready /content/drive/MyDrive/Thesis/New added Video3/ดมหลอด.mp4\n",
            "Successfully converted /content/drive/MyDrive/Thesis/โหลดใหม่ ครั้งที่ 3/ดมหลอด.gif to /content/drive/MyDrive/Thesis/New added Video3/ดมหลอด.mp4\n",
            "Moviepy - Building video /content/drive/MyDrive/Thesis/New added Video3/ดมแท่ง.mp4.\n",
            "Moviepy - Writing video /content/drive/MyDrive/Thesis/New added Video3/ดมแท่ง.mp4\n",
            "\n"
          ]
        },
        {
          "output_type": "stream",
          "name": "stderr",
          "text": []
        },
        {
          "output_type": "stream",
          "name": "stdout",
          "text": [
            "Moviepy - Done !\n",
            "Moviepy - video ready /content/drive/MyDrive/Thesis/New added Video3/ดมแท่ง.mp4\n",
            "Successfully converted /content/drive/MyDrive/Thesis/โหลดใหม่ ครั้งที่ 3/ดมแท่ง.gif to /content/drive/MyDrive/Thesis/New added Video3/ดมแท่ง.mp4\n",
            "Moviepy - Building video /content/drive/MyDrive/Thesis/New added Video3/ฉลาดมาก.mp4.\n",
            "Moviepy - Writing video /content/drive/MyDrive/Thesis/New added Video3/ฉลาดมาก.mp4\n",
            "\n"
          ]
        },
        {
          "output_type": "stream",
          "name": "stderr",
          "text": []
        },
        {
          "output_type": "stream",
          "name": "stdout",
          "text": [
            "Moviepy - Done !\n",
            "Moviepy - video ready /content/drive/MyDrive/Thesis/New added Video3/ฉลาดมาก.mp4\n",
            "Successfully converted /content/drive/MyDrive/Thesis/โหลดใหม่ ครั้งที่ 3/ฉลาดมาก.gif to /content/drive/MyDrive/Thesis/New added Video3/ฉลาดมาก.mp4\n",
            "Moviepy - Building video /content/drive/MyDrive/Thesis/New added Video3/ดม.mp4.\n",
            "Moviepy - Writing video /content/drive/MyDrive/Thesis/New added Video3/ดม.mp4\n",
            "\n"
          ]
        },
        {
          "output_type": "stream",
          "name": "stderr",
          "text": []
        },
        {
          "output_type": "stream",
          "name": "stdout",
          "text": [
            "Moviepy - Done !\n",
            "Moviepy - video ready /content/drive/MyDrive/Thesis/New added Video3/ดม.mp4\n",
            "Successfully converted /content/drive/MyDrive/Thesis/โหลดใหม่ ครั้งที่ 3/ดม.gif to /content/drive/MyDrive/Thesis/New added Video3/ดม.mp4\n",
            "Moviepy - Building video /content/drive/MyDrive/Thesis/New added Video3/ดมตลับ.mp4.\n",
            "Moviepy - Writing video /content/drive/MyDrive/Thesis/New added Video3/ดมตลับ.mp4\n",
            "\n"
          ]
        },
        {
          "output_type": "stream",
          "name": "stderr",
          "text": []
        },
        {
          "output_type": "stream",
          "name": "stdout",
          "text": [
            "Moviepy - Done !\n",
            "Moviepy - video ready /content/drive/MyDrive/Thesis/New added Video3/ดมตลับ.mp4\n",
            "Successfully converted /content/drive/MyDrive/Thesis/โหลดใหม่ ครั้งที่ 3/ดมตลับ.gif to /content/drive/MyDrive/Thesis/New added Video3/ดมตลับ.mp4\n",
            "Moviepy - Building video /content/drive/MyDrive/Thesis/New added Video3/ดมยาดม.mp4.\n",
            "Moviepy - Writing video /content/drive/MyDrive/Thesis/New added Video3/ดมยาดม.mp4\n",
            "\n"
          ]
        },
        {
          "output_type": "stream",
          "name": "stderr",
          "text": []
        },
        {
          "output_type": "stream",
          "name": "stdout",
          "text": [
            "Moviepy - Done !\n",
            "Moviepy - video ready /content/drive/MyDrive/Thesis/New added Video3/ดมยาดม.mp4\n",
            "Successfully converted /content/drive/MyDrive/Thesis/โหลดใหม่ ครั้งที่ 3/ดมยาดม.gif to /content/drive/MyDrive/Thesis/New added Video3/ดมยาดม.mp4\n",
            "Moviepy - Building video /content/drive/MyDrive/Thesis/New added Video3/คอนโดมิเนียม.mp4.\n",
            "Moviepy - Writing video /content/drive/MyDrive/Thesis/New added Video3/คอนโดมิเนียม.mp4\n",
            "\n"
          ]
        },
        {
          "output_type": "stream",
          "name": "stderr",
          "text": []
        },
        {
          "output_type": "stream",
          "name": "stdout",
          "text": [
            "Moviepy - Done !\n",
            "Moviepy - video ready /content/drive/MyDrive/Thesis/New added Video3/คอนโดมิเนียม.mp4\n",
            "Successfully converted /content/drive/MyDrive/Thesis/โหลดใหม่ ครั้งที่ 3/คอนโดมิเนียม.gif to /content/drive/MyDrive/Thesis/New added Video3/คอนโดมิเนียม.mp4\n",
            "Moviepy - Building video /content/drive/MyDrive/Thesis/New added Video3/แบดมินตัน.mp4.\n",
            "Moviepy - Writing video /content/drive/MyDrive/Thesis/New added Video3/แบดมินตัน.mp4\n",
            "\n"
          ]
        },
        {
          "output_type": "stream",
          "name": "stderr",
          "text": []
        },
        {
          "output_type": "stream",
          "name": "stdout",
          "text": [
            "Moviepy - Done !\n",
            "Moviepy - video ready /content/drive/MyDrive/Thesis/New added Video3/แบดมินตัน.mp4\n",
            "Successfully converted /content/drive/MyDrive/Thesis/โหลดใหม่ ครั้งที่ 3/แบดมินตัน.gif to /content/drive/MyDrive/Thesis/New added Video3/แบดมินตัน.mp4\n",
            "Moviepy - Building video /content/drive/MyDrive/Thesis/New added Video3/จำลอง.mp4.\n",
            "Moviepy - Writing video /content/drive/MyDrive/Thesis/New added Video3/จำลอง.mp4\n",
            "\n"
          ]
        },
        {
          "output_type": "stream",
          "name": "stderr",
          "text": []
        },
        {
          "output_type": "stream",
          "name": "stdout",
          "text": [
            "Moviepy - Done !\n",
            "Moviepy - video ready /content/drive/MyDrive/Thesis/New added Video3/จำลอง.mp4\n",
            "Successfully converted /content/drive/MyDrive/Thesis/โหลดใหม่ ครั้งที่ 3/จำลอง.gif to /content/drive/MyDrive/Thesis/New added Video3/จำลอง.mp4\n",
            "Moviepy - Building video /content/drive/MyDrive/Thesis/New added Video3/จำเป็น.mp4.\n",
            "Moviepy - Writing video /content/drive/MyDrive/Thesis/New added Video3/จำเป็น.mp4\n",
            "\n"
          ]
        },
        {
          "output_type": "stream",
          "name": "stderr",
          "text": []
        },
        {
          "output_type": "stream",
          "name": "stdout",
          "text": [
            "Moviepy - Done !\n",
            "Moviepy - video ready /content/drive/MyDrive/Thesis/New added Video3/จำเป็น.mp4\n",
            "Successfully converted /content/drive/MyDrive/Thesis/โหลดใหม่ ครั้งที่ 3/จำเป็น.gif to /content/drive/MyDrive/Thesis/New added Video3/จำเป็น.mp4\n",
            "Moviepy - Building video /content/drive/MyDrive/Thesis/New added Video3/ผู้รับจำนอง.mp4.\n",
            "Moviepy - Writing video /content/drive/MyDrive/Thesis/New added Video3/ผู้รับจำนอง.mp4\n",
            "\n"
          ]
        },
        {
          "output_type": "stream",
          "name": "stderr",
          "text": []
        },
        {
          "output_type": "stream",
          "name": "stdout",
          "text": [
            "Moviepy - Done !\n",
            "Moviepy - video ready /content/drive/MyDrive/Thesis/New added Video3/ผู้รับจำนอง.mp4\n",
            "Successfully converted /content/drive/MyDrive/Thesis/โหลดใหม่ ครั้งที่ 3/ผู้รับจำนอง.gif to /content/drive/MyDrive/Thesis/New added Video3/ผู้รับจำนอง.mp4\n",
            "Moviepy - Building video /content/drive/MyDrive/Thesis/New added Video3/ผู้จำนอง.mp4.\n",
            "Moviepy - Writing video /content/drive/MyDrive/Thesis/New added Video3/ผู้จำนอง.mp4\n",
            "\n"
          ]
        },
        {
          "output_type": "stream",
          "name": "stderr",
          "text": []
        },
        {
          "output_type": "stream",
          "name": "stdout",
          "text": [
            "Moviepy - Done !\n",
            "Moviepy - video ready /content/drive/MyDrive/Thesis/New added Video3/ผู้จำนอง.mp4\n",
            "Successfully converted /content/drive/MyDrive/Thesis/โหลดใหม่ ครั้งที่ 3/ผู้จำนอง.gif to /content/drive/MyDrive/Thesis/New added Video3/ผู้จำนอง.mp4\n",
            "Moviepy - Building video /content/drive/MyDrive/Thesis/New added Video3/จำเลย.mp4.\n",
            "Moviepy - Writing video /content/drive/MyDrive/Thesis/New added Video3/จำเลย.mp4\n",
            "\n"
          ]
        },
        {
          "output_type": "stream",
          "name": "stderr",
          "text": []
        },
        {
          "output_type": "stream",
          "name": "stdout",
          "text": [
            "Moviepy - Done !\n",
            "Moviepy - video ready /content/drive/MyDrive/Thesis/New added Video3/จำเลย.mp4\n",
            "Successfully converted /content/drive/MyDrive/Thesis/โหลดใหม่ ครั้งที่ 3/จำเลย.gif to /content/drive/MyDrive/Thesis/New added Video3/จำเลย.mp4\n",
            "Moviepy - Building video /content/drive/MyDrive/Thesis/New added Video3/มัดจำ.mp4.\n",
            "Moviepy - Writing video /content/drive/MyDrive/Thesis/New added Video3/มัดจำ.mp4\n",
            "\n"
          ]
        },
        {
          "output_type": "stream",
          "name": "stderr",
          "text": []
        },
        {
          "output_type": "stream",
          "name": "stdout",
          "text": [
            "Moviepy - Done !\n",
            "Moviepy - video ready /content/drive/MyDrive/Thesis/New added Video3/มัดจำ.mp4\n",
            "Successfully converted /content/drive/MyDrive/Thesis/โหลดใหม่ ครั้งที่ 3/มัดจำ.gif to /content/drive/MyDrive/Thesis/New added Video3/มัดจำ.mp4\n",
            "Moviepy - Building video /content/drive/MyDrive/Thesis/New added Video3/สัญญาจำนอง.mp4.\n",
            "Moviepy - Writing video /content/drive/MyDrive/Thesis/New added Video3/สัญญาจำนอง.mp4\n",
            "\n"
          ]
        },
        {
          "output_type": "stream",
          "name": "stderr",
          "text": []
        },
        {
          "output_type": "stream",
          "name": "stdout",
          "text": [
            "Moviepy - Done !\n",
            "Moviepy - video ready /content/drive/MyDrive/Thesis/New added Video3/สัญญาจำนอง.mp4\n",
            "Successfully converted /content/drive/MyDrive/Thesis/โหลดใหม่ ครั้งที่ 3/สัญญาจำนอง.gif to /content/drive/MyDrive/Thesis/New added Video3/สัญญาจำนอง.mp4\n",
            "Moviepy - Building video /content/drive/MyDrive/Thesis/New added Video3/จำ.mp4.\n",
            "Moviepy - Writing video /content/drive/MyDrive/Thesis/New added Video3/จำ.mp4\n",
            "\n"
          ]
        },
        {
          "output_type": "stream",
          "name": "stderr",
          "text": []
        },
        {
          "output_type": "stream",
          "name": "stdout",
          "text": [
            "Moviepy - Done !\n",
            "Moviepy - video ready /content/drive/MyDrive/Thesis/New added Video3/จำ.mp4\n",
            "Successfully converted /content/drive/MyDrive/Thesis/โหลดใหม่ ครั้งที่ 3/จำ.gif to /content/drive/MyDrive/Thesis/New added Video3/จำ.mp4\n",
            "Moviepy - Building video /content/drive/MyDrive/Thesis/New added Video3/จดจำ.mp4.\n",
            "Moviepy - Writing video /content/drive/MyDrive/Thesis/New added Video3/จดจำ.mp4\n",
            "\n"
          ]
        },
        {
          "output_type": "stream",
          "name": "stderr",
          "text": []
        },
        {
          "output_type": "stream",
          "name": "stdout",
          "text": [
            "Moviepy - Done !\n",
            "Moviepy - video ready /content/drive/MyDrive/Thesis/New added Video3/จดจำ.mp4\n",
            "Successfully converted /content/drive/MyDrive/Thesis/โหลดใหม่ ครั้งที่ 3/จดจำ.gif to /content/drive/MyDrive/Thesis/New added Video3/จดจำ.mp4\n",
            "Moviepy - Building video /content/drive/MyDrive/Thesis/New added Video3/เรือนจำ.mp4.\n",
            "Moviepy - Writing video /content/drive/MyDrive/Thesis/New added Video3/เรือนจำ.mp4\n",
            "\n"
          ]
        },
        {
          "output_type": "stream",
          "name": "stderr",
          "text": []
        },
        {
          "output_type": "stream",
          "name": "stdout",
          "text": [
            "Moviepy - Done !\n",
            "Moviepy - video ready /content/drive/MyDrive/Thesis/New added Video3/เรือนจำ.mp4\n",
            "Successfully converted /content/drive/MyDrive/Thesis/โหลดใหม่ ครั้งที่ 3/เรือนจำ.gif to /content/drive/MyDrive/Thesis/New added Video3/เรือนจำ.mp4\n",
            "Moviepy - Building video /content/drive/MyDrive/Thesis/New added Video3/ประจำเดือน.mp4.\n",
            "Moviepy - Writing video /content/drive/MyDrive/Thesis/New added Video3/ประจำเดือน.mp4\n",
            "\n"
          ]
        },
        {
          "output_type": "stream",
          "name": "stderr",
          "text": []
        },
        {
          "output_type": "stream",
          "name": "stdout",
          "text": [
            "Moviepy - Done !\n",
            "Moviepy - video ready /content/drive/MyDrive/Thesis/New added Video3/ประจำเดือน.mp4\n",
            "Successfully converted /content/drive/MyDrive/Thesis/โหลดใหม่ ครั้งที่ 3/ประจำเดือน.gif to /content/drive/MyDrive/Thesis/New added Video3/ประจำเดือน.mp4\n",
            "Moviepy - Building video /content/drive/MyDrive/Thesis/New added Video3/ฝัน.mp4.\n",
            "Moviepy - Writing video /content/drive/MyDrive/Thesis/New added Video3/ฝัน.mp4\n",
            "\n"
          ]
        },
        {
          "output_type": "stream",
          "name": "stderr",
          "text": []
        },
        {
          "output_type": "stream",
          "name": "stdout",
          "text": [
            "Moviepy - Done !\n",
            "Moviepy - video ready /content/drive/MyDrive/Thesis/New added Video3/ฝัน.mp4\n",
            "Successfully converted /content/drive/MyDrive/Thesis/โหลดใหม่ ครั้งที่ 3/ฝัน.gif to /content/drive/MyDrive/Thesis/New added Video3/ฝัน.mp4\n",
            "Moviepy - Building video /content/drive/MyDrive/Thesis/New added Video3/เรียนหนังสือ.mp4.\n",
            "Moviepy - Writing video /content/drive/MyDrive/Thesis/New added Video3/เรียนหนังสือ.mp4\n",
            "\n"
          ]
        },
        {
          "output_type": "stream",
          "name": "stderr",
          "text": []
        },
        {
          "output_type": "stream",
          "name": "stdout",
          "text": [
            "Moviepy - Done !\n",
            "Moviepy - video ready /content/drive/MyDrive/Thesis/New added Video3/เรียนหนังสือ.mp4\n",
            "Successfully converted /content/drive/MyDrive/Thesis/โหลดใหม่ ครั้งที่ 3/เรียนหนังสือ.gif to /content/drive/MyDrive/Thesis/New added Video3/เรียนหนังสือ.mp4\n",
            "Moviepy - Building video /content/drive/MyDrive/Thesis/New added Video3/สบายดี.mp4.\n",
            "Moviepy - Writing video /content/drive/MyDrive/Thesis/New added Video3/สบายดี.mp4\n",
            "\n"
          ]
        },
        {
          "output_type": "stream",
          "name": "stderr",
          "text": []
        },
        {
          "output_type": "stream",
          "name": "stdout",
          "text": [
            "Moviepy - Done !\n",
            "Moviepy - video ready /content/drive/MyDrive/Thesis/New added Video3/สบายดี.mp4\n",
            "Successfully converted /content/drive/MyDrive/Thesis/โหลดใหม่ ครั้งที่ 3/สบายดี.gif to /content/drive/MyDrive/Thesis/New added Video3/สบายดี.mp4\n",
            "Moviepy - Building video /content/drive/MyDrive/Thesis/New added Video3/ขำขัน (ท่าที่ 2).mp4.\n",
            "Moviepy - Writing video /content/drive/MyDrive/Thesis/New added Video3/ขำขัน (ท่าที่ 2).mp4\n",
            "\n"
          ]
        },
        {
          "output_type": "stream",
          "name": "stderr",
          "text": []
        },
        {
          "output_type": "stream",
          "name": "stdout",
          "text": [
            "Moviepy - Done !\n",
            "Moviepy - video ready /content/drive/MyDrive/Thesis/New added Video3/ขำขัน (ท่าที่ 2).mp4\n",
            "Successfully converted /content/drive/MyDrive/Thesis/โหลดใหม่ ครั้งที่ 3/ขำขัน (ท่าที่ 2).gif to /content/drive/MyDrive/Thesis/New added Video3/ขำขัน (ท่าที่ 2).mp4\n",
            "Moviepy - Building video /content/drive/MyDrive/Thesis/New added Video3/ขำขัน.mp4.\n",
            "Moviepy - Writing video /content/drive/MyDrive/Thesis/New added Video3/ขำขัน.mp4\n",
            "\n"
          ]
        },
        {
          "output_type": "stream",
          "name": "stderr",
          "text": []
        },
        {
          "output_type": "stream",
          "name": "stdout",
          "text": [
            "Moviepy - Done !\n",
            "Moviepy - video ready /content/drive/MyDrive/Thesis/New added Video3/ขำขัน.mp4\n",
            "Successfully converted /content/drive/MyDrive/Thesis/โหลดใหม่ ครั้งที่ 3/ขำขัน.gif to /content/drive/MyDrive/Thesis/New added Video3/ขำขัน.mp4\n",
            "Moviepy - Building video /content/drive/MyDrive/Thesis/New added Video3/วัสดุ.mp4.\n",
            "Moviepy - Writing video /content/drive/MyDrive/Thesis/New added Video3/วัสดุ.mp4\n",
            "\n"
          ]
        },
        {
          "output_type": "stream",
          "name": "stderr",
          "text": []
        },
        {
          "output_type": "stream",
          "name": "stdout",
          "text": [
            "Moviepy - Done !\n",
            "Moviepy - video ready /content/drive/MyDrive/Thesis/New added Video3/วัสดุ.mp4\n",
            "Successfully converted /content/drive/MyDrive/Thesis/โหลดใหม่ ครั้งที่ 3/วัสดุ.gif to /content/drive/MyDrive/Thesis/New added Video3/วัสดุ.mp4\n",
            "Moviepy - Building video /content/drive/MyDrive/Thesis/New added Video3/วัตถุ.mp4.\n",
            "Moviepy - Writing video /content/drive/MyDrive/Thesis/New added Video3/วัตถุ.mp4\n",
            "\n"
          ]
        },
        {
          "output_type": "stream",
          "name": "stderr",
          "text": []
        },
        {
          "output_type": "stream",
          "name": "stdout",
          "text": [
            "Moviepy - Done !\n",
            "Moviepy - video ready /content/drive/MyDrive/Thesis/New added Video3/วัตถุ.mp4\n",
            "Successfully converted /content/drive/MyDrive/Thesis/โหลดใหม่ ครั้งที่ 3/วัตถุ.gif to /content/drive/MyDrive/Thesis/New added Video3/วัตถุ.mp4\n",
            "Moviepy - Building video /content/drive/MyDrive/Thesis/New added Video3/สิ่งของ.mp4.\n",
            "Moviepy - Writing video /content/drive/MyDrive/Thesis/New added Video3/สิ่งของ.mp4\n",
            "\n"
          ]
        },
        {
          "output_type": "stream",
          "name": "stderr",
          "text": []
        },
        {
          "output_type": "stream",
          "name": "stdout",
          "text": [
            "Moviepy - Done !\n",
            "Moviepy - video ready /content/drive/MyDrive/Thesis/New added Video3/สิ่งของ.mp4\n",
            "Successfully converted /content/drive/MyDrive/Thesis/โหลดใหม่ ครั้งที่ 3/สิ่งของ.gif to /content/drive/MyDrive/Thesis/New added Video3/สิ่งของ.mp4\n",
            "Moviepy - Building video /content/drive/MyDrive/Thesis/New added Video3/ช่างฉัน (ท่าที่ 2).mp4.\n",
            "Moviepy - Writing video /content/drive/MyDrive/Thesis/New added Video3/ช่างฉัน (ท่าที่ 2).mp4\n",
            "\n"
          ]
        },
        {
          "output_type": "stream",
          "name": "stderr",
          "text": []
        },
        {
          "output_type": "stream",
          "name": "stdout",
          "text": [
            "Moviepy - Done !\n",
            "Moviepy - video ready /content/drive/MyDrive/Thesis/New added Video3/ช่างฉัน (ท่าที่ 2).mp4\n",
            "Successfully converted /content/drive/MyDrive/Thesis/โหลดใหม่ ครั้งที่ 3/ช่างฉัน (ท่าที่ 2).gif to /content/drive/MyDrive/Thesis/New added Video3/ช่างฉัน (ท่าที่ 2).mp4\n",
            "Moviepy - Building video /content/drive/MyDrive/Thesis/New added Video3/ช่างฉัน.mp4.\n",
            "Moviepy - Writing video /content/drive/MyDrive/Thesis/New added Video3/ช่างฉัน.mp4\n",
            "\n"
          ]
        },
        {
          "output_type": "stream",
          "name": "stderr",
          "text": []
        },
        {
          "output_type": "stream",
          "name": "stdout",
          "text": [
            "Moviepy - Done !\n",
            "Moviepy - video ready /content/drive/MyDrive/Thesis/New added Video3/ช่างฉัน.mp4\n",
            "Successfully converted /content/drive/MyDrive/Thesis/โหลดใหม่ ครั้งที่ 3/ช่างฉัน.gif to /content/drive/MyDrive/Thesis/New added Video3/ช่างฉัน.mp4\n",
            "Moviepy - Building video /content/drive/MyDrive/Thesis/New added Video3/ช่างผู้นั้น.mp4.\n",
            "Moviepy - Writing video /content/drive/MyDrive/Thesis/New added Video3/ช่างผู้นั้น.mp4\n",
            "\n"
          ]
        },
        {
          "output_type": "stream",
          "name": "stderr",
          "text": []
        },
        {
          "output_type": "stream",
          "name": "stdout",
          "text": [
            "Moviepy - Done !\n",
            "Moviepy - video ready /content/drive/MyDrive/Thesis/New added Video3/ช่างผู้นั้น.mp4\n",
            "Successfully converted /content/drive/MyDrive/Thesis/โหลดใหม่ ครั้งที่ 3/ช่างผู้นั้น.gif to /content/drive/MyDrive/Thesis/New added Video3/ช่างผู้นั้น.mp4\n",
            "Moviepy - Building video /content/drive/MyDrive/Thesis/New added Video3/ช่างผู้นั้น (ท่าที่ 2).mp4.\n",
            "Moviepy - Writing video /content/drive/MyDrive/Thesis/New added Video3/ช่างผู้นั้น (ท่าที่ 2).mp4\n",
            "\n"
          ]
        },
        {
          "output_type": "stream",
          "name": "stderr",
          "text": []
        },
        {
          "output_type": "stream",
          "name": "stdout",
          "text": [
            "Moviepy - Done !\n",
            "Moviepy - video ready /content/drive/MyDrive/Thesis/New added Video3/ช่างผู้นั้น (ท่าที่ 2).mp4\n",
            "Successfully converted /content/drive/MyDrive/Thesis/โหลดใหม่ ครั้งที่ 3/ช่างผู้นั้น (ท่าที่ 2).gif to /content/drive/MyDrive/Thesis/New added Video3/ช่างผู้นั้น (ท่าที่ 2).mp4\n",
            "Moviepy - Building video /content/drive/MyDrive/Thesis/New added Video3/คอยดูว่าจะเกิดอะไรขึ้น.mp4.\n",
            "Moviepy - Writing video /content/drive/MyDrive/Thesis/New added Video3/คอยดูว่าจะเกิดอะไรขึ้น.mp4\n",
            "\n"
          ]
        },
        {
          "output_type": "stream",
          "name": "stderr",
          "text": []
        },
        {
          "output_type": "stream",
          "name": "stdout",
          "text": [
            "Moviepy - Done !\n",
            "Moviepy - video ready /content/drive/MyDrive/Thesis/New added Video3/คอยดูว่าจะเกิดอะไรขึ้น.mp4\n",
            "Successfully converted /content/drive/MyDrive/Thesis/โหลดใหม่ ครั้งที่ 3/คอยดูว่าจะเกิดอะไรขึ้น.gif to /content/drive/MyDrive/Thesis/New added Video3/คอยดูว่าจะเกิดอะไรขึ้น.mp4\n",
            "Moviepy - Building video /content/drive/MyDrive/Thesis/New added Video3/ดื้อรั้น.mp4.\n",
            "Moviepy - Writing video /content/drive/MyDrive/Thesis/New added Video3/ดื้อรั้น.mp4\n",
            "\n"
          ]
        },
        {
          "output_type": "stream",
          "name": "stderr",
          "text": []
        },
        {
          "output_type": "stream",
          "name": "stdout",
          "text": [
            "Moviepy - Done !\n",
            "Moviepy - video ready /content/drive/MyDrive/Thesis/New added Video3/ดื้อรั้น.mp4\n",
            "Successfully converted /content/drive/MyDrive/Thesis/โหลดใหม่ ครั้งที่ 3/ดื้อรั้น.gif to /content/drive/MyDrive/Thesis/New added Video3/ดื้อรั้น.mp4\n",
            "Moviepy - Building video /content/drive/MyDrive/Thesis/New added Video3/ดื้อ.mp4.\n",
            "Moviepy - Writing video /content/drive/MyDrive/Thesis/New added Video3/ดื้อ.mp4\n",
            "\n"
          ]
        },
        {
          "output_type": "stream",
          "name": "stderr",
          "text": []
        },
        {
          "output_type": "stream",
          "name": "stdout",
          "text": [
            "Moviepy - Done !\n",
            "Moviepy - video ready /content/drive/MyDrive/Thesis/New added Video3/ดื้อ.mp4\n",
            "Successfully converted /content/drive/MyDrive/Thesis/โหลดใหม่ ครั้งที่ 3/ดื้อ.gif to /content/drive/MyDrive/Thesis/New added Video3/ดื้อ.mp4\n",
            "Moviepy - Building video /content/drive/MyDrive/Thesis/New added Video3/เมื่อก่อนโน้น.mp4.\n",
            "Moviepy - Writing video /content/drive/MyDrive/Thesis/New added Video3/เมื่อก่อนโน้น.mp4\n",
            "\n"
          ]
        },
        {
          "output_type": "stream",
          "name": "stderr",
          "text": []
        },
        {
          "output_type": "stream",
          "name": "stdout",
          "text": [
            "Moviepy - Done !\n",
            "Moviepy - video ready /content/drive/MyDrive/Thesis/New added Video3/เมื่อก่อนโน้น.mp4\n",
            "Successfully converted /content/drive/MyDrive/Thesis/โหลดใหม่ ครั้งที่ 3/เมื่อก่อนโน้น.gif to /content/drive/MyDrive/Thesis/New added Video3/เมื่อก่อนโน้น.mp4\n",
            "Moviepy - Building video /content/drive/MyDrive/Thesis/New added Video3/เมื่อก่อน.mp4.\n",
            "Moviepy - Writing video /content/drive/MyDrive/Thesis/New added Video3/เมื่อก่อน.mp4\n",
            "\n"
          ]
        },
        {
          "output_type": "stream",
          "name": "stderr",
          "text": []
        },
        {
          "output_type": "stream",
          "name": "stdout",
          "text": [
            "Moviepy - Done !\n",
            "Moviepy - video ready /content/drive/MyDrive/Thesis/New added Video3/เมื่อก่อน.mp4\n",
            "Successfully converted /content/drive/MyDrive/Thesis/โหลดใหม่ ครั้งที่ 3/เมื่อก่อน.gif to /content/drive/MyDrive/Thesis/New added Video3/เมื่อก่อน.mp4\n",
            "Moviepy - Building video /content/drive/MyDrive/Thesis/New added Video3/ค่อย ๆ คลาย.mp4.\n",
            "Moviepy - Writing video /content/drive/MyDrive/Thesis/New added Video3/ค่อย ๆ คลาย.mp4\n",
            "\n"
          ]
        },
        {
          "output_type": "stream",
          "name": "stderr",
          "text": []
        },
        {
          "output_type": "stream",
          "name": "stdout",
          "text": [
            "Moviepy - Done !\n",
            "Moviepy - video ready /content/drive/MyDrive/Thesis/New added Video3/ค่อย ๆ คลาย.mp4\n",
            "Successfully converted /content/drive/MyDrive/Thesis/โหลดใหม่ ครั้งที่ 3/ค่อย ๆ คลาย.gif to /content/drive/MyDrive/Thesis/New added Video3/ค่อย ๆ คลาย.mp4\n",
            "Moviepy - Building video /content/drive/MyDrive/Thesis/New added Video3/ลาก่อน.mp4.\n",
            "Moviepy - Writing video /content/drive/MyDrive/Thesis/New added Video3/ลาก่อน.mp4\n",
            "\n"
          ]
        },
        {
          "output_type": "stream",
          "name": "stderr",
          "text": []
        },
        {
          "output_type": "stream",
          "name": "stdout",
          "text": [
            "Moviepy - Done !\n",
            "Moviepy - video ready /content/drive/MyDrive/Thesis/New added Video3/ลาก่อน.mp4\n",
            "Successfully converted /content/drive/MyDrive/Thesis/โหลดใหม่ ครั้งที่ 3/ลาก่อน.gif to /content/drive/MyDrive/Thesis/New added Video3/ลาก่อน.mp4\n"
          ]
        }
      ],
      "source": [
        "import os\n",
        "from moviepy.editor import VideoFileClip\n",
        "\n",
        "varbs_input_directory = '/content/drive/MyDrive/วิดีโอภาษามือ/TSL/กริยา'\n",
        "varbs_output_directory = '/content/drive/MyDrive/วิดีโอภาษามือ/TSL/varbs_video'\n",
        "words_input_directory = '/content/drive/MyDrive/วิดีโอภาษามือ/TSL/คำ'\n",
        "words_output_directory = '/content/drive/MyDrive/วิดีโอภาษามือ/TSL/words_video'\n",
        "added_input_directory = '/content/drive/MyDrive/Thesis/วิดีโอภาษามือ (โหลดใหม่)'\n",
        "added_output_directory = '/content/drive/MyDrive/Thesis/Added Video'\n",
        "added3_input_directory = '/content/drive/MyDrive/Thesis/โหลดใหม่ ครั้งที่ 3'\n",
        "added3_output_directory = '/content/drive/MyDrive/Thesis/New added Video3'\n",
        "\n",
        "# Function to convert GIF to MP4\n",
        "def convert_gif_to_mp4(input_gif, output_mp4):\n",
        "    try:\n",
        "        clip = VideoFileClip(input_gif)\n",
        "\n",
        "        clip.write_videofile(output_mp4, codec='libx264')\n",
        "        print(f\"Successfully converted {input_gif} to {output_mp4}\")\n",
        "\n",
        "    except Exception as e:\n",
        "        print(f\"Failed to convert {input_gif}: {e}\")\n",
        "\n",
        "def preprocess_videos(input_dir, output_dir):\n",
        "    if not os.path.exists(output_dir):\n",
        "        os.makedirs(output_dir)\n",
        "\n",
        "    for filename in os.listdir(input_dir):\n",
        "        if filename.endswith(\".gif\"):\n",
        "            input_path = os.path.join(input_dir, filename)\n",
        "            output_filename = filename.replace(\".gif\", \".mp4\")\n",
        "            output_path = os.path.join(output_dir, output_filename)\n",
        "\n",
        "            # Convert GIF to MP4\n",
        "            convert_gif_to_mp4(input_path, output_path)\n",
        "\n",
        "#preprocess_videos(varbs_input_directory, varbs_output_directory)\n",
        "#preprocess_videos(words_input_directory, words_output_directory)\n",
        "#preprocess_videos(added_input_directory, added_output_directory)\n",
        "#preprocess_videos(added3_input_directory, added3_output_directory)"
      ]
    },
    {
      "cell_type": "code",
      "execution_count": 8,
      "metadata": {
        "colab": {
          "base_uri": "https://localhost:8080/"
        },
        "id": "gw8lEvRtla8S",
        "outputId": "744cb0e5-0106-437e-ca3b-2d0e1d757aff"
      },
      "outputs": [
        {
          "output_type": "stream",
          "name": "stdout",
          "text": [
            "ศูนย์อนุรักษ์ช้างไทย.mp4 - ศูนย์อนุรักษ์ช้างไทย\n",
            "กาดกองต้า.mp4 - กาดกองต้า\n",
            "วัดปงสนุก.mp4 - วัดปงสนุก\n",
            "หล่มภูเขียว.mp4 - หล่มภูเขียว\n",
            "สะพานรัษฎาภิเศก.mp4 - สะพานรัษฎาภิเศก\n",
            "วัดพระธาตุดอยพระฌาน.mp4 - วัดพระธาตุดอยพระฌาน\n",
            "โรงไฟฟ้าแม่เมาะ.mp4 - โรงไฟฟ้าแม่เมาะ\n",
            "วัดเฉลิมพระเกียรติพระจอมเกล้าราชานุสรณ์.mp4 - วัดเฉลิมพระเกียรติพระจอมเกล้าราชานุสรณ์\n",
            "พัด.mp4 - พัด\n",
            "แขวน.mp4 - แขวน\n",
            "โรคฝีดาษลิง.mp4 - โรคฝีดาษลิง\n",
            "พรรคประชาชน.mp4 - พรรคประชาชน\n",
            "พาณิภัค วงศ์พัฒนกิจ (น้องเทนนิส).mp4 - พาณิภัค วงศ์พัฒนกิจ (น้องเทนนิส)\n",
            "รัชนก อินทนนท์ (เมย์).mp4 - รัชนก อินทนนท์ (เมย์)\n",
            "กุลวุฒิ วิทิศานต์ (วิว).mp4 - กุลวุฒิ วิทิศานต์ (วิว)\n",
            "เติร์กเมนิสถาน.mp4 - เติร์กเมนิสถาน\n",
            "เกาหลีเหนือ.mp4 - เกาหลีเหนือ\n",
            "บังกลาเทศ.mp4 - บังกลาเทศ\n",
            "มัลดีฟส์.mp4 - มัลดีฟส์\n",
            "สหรัฐอาหรับเมิเรตส์.mp4 - สหรัฐอาหรับเมิเรตส์\n",
            "ติมอร์-เลสเต.mp4 - ติมอร์-เลสเต\n",
            "อัฟกานิสถาน.mp4 - อัฟกานิสถาน\n",
            "บาห์เรน.mp4 - บาห์เรน\n",
            "กวม.mp4 - กวม\n",
            "ซีเรีย.mp4 - ซีเรีย\n",
            "วงกลม.mp4 - วงกลม\n",
            "สี่เหลี่ยมผืนผ้า.mp4 - สี่เหลี่ยมผืนผ้า\n",
            "สี่เหลี่ยมขนมเปียกปูน.mp4 - สี่เหลี่ยมขนมเปียกปูน\n",
            "หกเหลี่ยม.mp4 - หกเหลี่ยม\n",
            "สี่เหลี่ยม.mp4 - สี่เหลี่ยม\n",
            "สามเหลี่ยม.mp4 - สามเหลี่ยม\n",
            "ข้างหลัง.mp4 - ข้างหลัง\n",
            "คนทำงาน.mp4 - คนทำงาน\n",
            "ประเทศมาลี.mp4 - ประเทศมาลี\n",
            "ประเทศกานา.mp4 - ประเทศกานา\n",
            "ปานามา (ประเทศ).mp4 - ปานามา (ประเทศ)\n",
            "ประเทศโบลิเวีย.mp4 - ประเทศโบลิเวีย\n",
            "ประเทศจาไมก้า.mp4 - ประเทศจาไมก้า\n",
            "ประเทศเม็กซิโก.mp4 - ประเทศเม็กซิโก\n",
            "ประเทศเอกวาดอร์.mp4 - ประเทศเอกวาดอร์\n",
            "ประเทศชิลี.mp4 - ประเทศชิลี\n",
            "ประเทศเปรู.mp4 - ประเทศเปรู\n",
            "ทางรัฐ.mp4 - ทางรัฐ\n",
            "ประเทศแทนซาเนีย.mp4 - ประเทศแทนซาเนีย\n",
            "ประเทศแซมเบีย.mp4 - ประเทศแซมเบีย\n",
            "ประเทศ ดร.คองโก.mp4 - ประเทศ ดร.คองโก\n",
            "ประเทศโมร็อกโก.mp4 - ประเทศโมร็อกโก\n",
            "ประเทศนามิเบีย.mp4 - ประเทศนามิเบีย\n",
            "ประเทศแอฟริกาใต้.mp4 - ประเทศแอฟริกาใต้\n",
            "ประเทศตูนิเซีย.mp4 - ประเทศตูนิเซีย\n",
            "ประเทศแองโกลา.mp4 - ประเทศแองโกลา\n",
            "ประเทศมอริเตเนีย.mp4 - ประเทศมอริเตเนีย\n",
            "ประเทศบูร์กินาฟาโซ.mp4 - ประเทศบูร์กินาฟาโซ\n",
            "ประเทศแกมเบีย.mp4 - ประเทศแกมเบีย\n",
            "ประเทศกินี.mp4 - ประเทศกินี\n",
            "ประเทศแคเมอรูน.mp4 - ประเทศแคเมอรูน\n",
            "ประเทศเซเนกัล.mp4 - ประเทศเซเนกัล\n",
            "ประเทศโมซักบิก.mp4 - ประเทศโมซักบิก\n",
            "ประเทศกาบูเวร์ดี.mp4 - ประเทศกาบูเวร์ดี\n",
            "กินี-บิสเซา.mp4 - กินี-บิสเซา\n",
            "อีเควทอเรียลกินี.mp4 - อีเควทอเรียลกินี\n",
            "ไนจีเรีย.mp4 - ไนจีเรีย\n",
            "ประเทศโกตดิวัวร์.mp4 - ประเทศโกตดิวัวร์\n",
            "กระท่อม.mp4 - กระท่อม\n",
            "โชจู.mp4 - โชจู\n",
            "สุราขาว.mp4 - สุราขาว\n",
            "ยาอี.mp4 - ยาอี\n",
            "ยาเลิฟ.mp4 - ยาเลิฟ\n",
            "โคเคน.mp4 - โคเคน\n",
            "ฝิ่น.mp4 - ฝิ่น\n",
            "เฮโรอีน.mp4 - เฮโรอีน\n",
            "ยาบ้า.mp4 - ยาบ้า\n",
            "อายุ.mp4 - อายุ\n",
            "ส่วนสูง.mp4 - ส่วนสูง\n",
            "น้ำหนัก.mp4 - น้ำหนัก\n",
            "เพลีย.mp4 - เพลีย\n",
            "หัวหน้า.mp4 - หัวหน้า\n",
            "น้ำใจ.mp4 - น้ำใจ\n",
            "สาธารณรัฐเช็ก.mp4 - สาธารณรัฐเช็ก\n",
            "ประเทศโปรตุเกส.mp4 - ประเทศโปรตุเกส\n",
            "จอร์เจีย.mp4 - จอร์เจีย\n",
            "ตุรกี.mp4 - ตุรกี\n",
            "ยูเครน.mp4 - ยูเครน\n",
            "โรมาเนีย.mp4 - โรมาเนีย\n",
            "สโลวาเกีย.mp4 - สโลวาเกีย\n",
            "เบลเยี่ยม.mp4 - เบลเยี่ยม\n",
            "เนเธอร์แลนด์.mp4 - เนเธอร์แลนด์\n",
            "โปแลนด์.mp4 - โปแลนด์\n",
            "อังกฤษ.mp4 - อังกฤษ\n",
            "เซอร์เบีย.mp4 - เซอร์เบีย\n",
            "สโลวีเนีย.mp4 - สโลวีเนีย\n",
            "แอลเบเนีย.mp4 - แอลเบเนีย\n",
            "โครเอเชีย.mp4 - โครเอเชีย\n",
            "ฮังการี.mp4 - ฮังการี\n",
            "สกอตแลนด์.mp4 - สกอตแลนด์\n",
            "สด.mp4 - สด\n",
            "พิธีกร.mp4 - พิธีกร\n",
            "แมลงก้นกระดก.mp4 - แมลงก้นกระดก\n",
            "นรก.mp4 - นรก\n",
            "เทวดา.mp4 - เทวดา\n",
            "พื้นฐาน.mp4 - พื้นฐาน\n",
            "หลักสูตร.mp4 - หลักสูตร\n",
            "ความลับ.mp4 - ความลับ\n",
            "ทั้งหมด.mp4 - ทั้งหมด\n",
            "กล้า.mp4 - กล้า\n",
            "ว้าว.mp4 - ว้าว\n",
            "กิ๊ก.mp4 - กิ๊ก\n",
            "ฝ่าย.mp4 - ฝ่าย\n",
            "ตรงข้าม.mp4 - ตรงข้าม\n",
            "วิษณุ เครืองาม.mp4 - วิษณุ เครืองาม\n",
            "พระเยซู.mp4 - พระเยซู\n",
            "บาป.mp4 - บาป\n",
            "กิจกรรม.mp4 - กิจกรรม\n",
            "คำ.mp4 - คำ\n",
            "ขยะ.mp4 - ขยะ\n",
            "ประสบการณ์.mp4 - ประสบการณ์\n",
            "การปราศรัย.mp4 - การปราศรัย\n",
            "หาเสียง.mp4 - หาเสียง\n",
            "ยุบสภา.mp4 - ยุบสภา\n",
            "รัฐประหาร.mp4 - รัฐประหาร\n",
            "นโยบาย.mp4 - นโยบาย\n",
            "ฝ่ายค้าน.mp4 - ฝ่ายค้าน\n",
            "สมาชิกผู้แทนราษฎร.mp4 - สมาชิกผู้แทนราษฎร\n",
            "รัฐบาล.mp4 - รัฐบาล\n",
            "รัฐสภา.mp4 - รัฐสภา\n",
            "นายกรัฐมนตรี.mp4 - นายกรัฐมนตรี\n",
            "นักการเมือง.mp4 - นักการเมือง\n",
            "การเมือง.mp4 - การเมือง\n",
            "ดีเบต (Debate).mp4 - ดีเบต (Debate)\n",
            "แคนดิเดต (Candidate).mp4 - แคนดิเดต (Candidate)\n",
            "แลนด์สไลด์ (Landslide).mp4 - แลนด์สไลด์ (Landslide)\n",
            "โนโหวต (No Vote).mp4 - โนโหวต (No Vote)\n",
            "โหวตโน.mp4 - โหวตโน\n",
            "นิวโหวตเตอร์ (New Votor).mp4 - นิวโหวตเตอร์ (New Votor)\n",
            "คืนหมาหอน.mp4 - คืนหมาหอน\n",
            "พรรค ส.ว. (ส.ว. 250).mp4 - พรรค ส.ว. (ส.ว. 250)\n",
            "สลิ่ม.mp4 - สลิ่ม\n",
            "สอบตก (การเมือง).mp4 - สอบตก (การเมือง)\n",
            "ไวไฟ.mp4 - ไวไฟ\n",
            "เดอะ สตรีท.mp4 - เดอะ สตรีท\n",
            "ขนมเบื้อง.mp4 - ขนมเบื้อง\n",
            "สีลม.mp4 - สีลม\n",
            "ซอยพัฒน์พงษ์.mp4 - ซอยพัฒน์พงษ์\n",
            "กรรม.mp4 - กรรม\n",
            "อสังหาริมทรัพย์.mp4 - อสังหาริมทรัพย์\n",
            "ค่าจ้าง.mp4 - ค่าจ้าง\n",
            "สัญญาให้โดยเสน่หา.mp4 - สัญญาให้โดยเสน่หา\n",
            "สัญญาจำนอง.mp4 - สัญญาจำนอง\n",
            "สัญญาจ้างแรงงาน.mp4 - สัญญาจ้างแรงงาน\n",
            "สัญญาจ้างทำของ.mp4 - สัญญาจ้างทำของ\n",
            "สัญญาค้ำประกัน.mp4 - สัญญาค้ำประกัน\n",
            "สัญญาฝากขาย.mp4 - สัญญาฝากขาย\n",
            "สัญญา.mp4 - สัญญา\n",
            "สังหาริมทรัพย์.mp4 - สังหาริมทรัพย์\n",
            "วินาศภัย.mp4 - วินาศภัย\n",
            "ลูกหนี้.mp4 - ลูกหนี้\n",
            "โมฆีกรรม.mp4 - โมฆีกรรม\n",
            "โมฆกรรม.mp4 - โมฆกรรม\n",
            "อินเตอร์เน็ต.mp4 - อินเตอร์เน็ต\n",
            "วันแรงงาน.mp4 - วันแรงงาน\n",
            "ประเทศลัตเวีย.mp4 - ประเทศลัตเวีย\n",
            "ผู้รับประกันภัย.mp4 - ผู้รับประกันภัย\n",
            "ผู้รับจำนำ.mp4 - ผู้รับจำนำ\n",
            "ผู้รับจำนอง.mp4 - ผู้รับจำนอง\n",
            "ผู้รับจ้าง.mp4 - ผู้รับจ้าง\n",
            "ผู้เช่าซื้อ.mp4 - ผู้เช่าซื้อ\n",
            "ผู้เช่า.mp4 - ผู้เช่า\n",
            "ผู้จำนำ.mp4 - ผู้จำนำ\n",
            "ผู้จำนอง.mp4 - ผู้จำนอง\n",
            "ผู้กู้.mp4 - ผู้กู้\n",
            "การประกันสุขภาพ.mp4 - การประกันสุขภาพ\n",
            "การประกันภัยรถยนต์.mp4 - การประกันภัยรถยนต์\n",
            "การประกันภัยทรัพย์สิน.mp4 - การประกันภัยทรัพย์สิน\n",
            "การประกันภัย.mp4 - การประกันภัย\n",
            "การประกันชีวิต.mp4 - การประกันชีวิต\n",
            "เบี้ยประกันภัย.mp4 - เบี้ยประกันภัย\n",
            "ประเทศทาจิสถาน.mp4 - ประเทศทาจิสถาน\n",
            "นินจา.mp4 - นินจา\n",
            "นิติกรรม.mp4 - นิติกรรม\n",
            "นายจ้าง.mp4 - นายจ้าง\n",
            "ทรัพย์สิน.mp4 - ทรัพย์สิน\n",
            "ทรัพย์.mp4 - ทรัพย์\n",
            "เจ้าหนี้.mp4 - เจ้าหนี้\n",
            "เงินทดแทน.mp4 - เงินทดแทน\n",
            "การกู้ยืมเงิน.mp4 - การกู้ยืมเงิน\n",
            "กรรมสิทธิ์.mp4 - กรรมสิทธิ์\n",
            "สินสอด.mp4 - สินสอด\n",
            "สินสมรส.mp4 - สินสมรส\n",
            "การแยกกันอยู่.mp4 - การแยกกันอยู่\n",
            "ฟ้องหย่า.mp4 - ฟ้องหย่า\n",
            "การหมั้น.mp4 - การหมั้น\n",
            "หมวดครอบครัว.mp4 - หมวดครอบครัว\n",
            "พนักงานอัยการ.mp4 - พนักงานอัยการ\n",
            "พนักงานสืบสวน.mp4 - พนักงานสืบสวน\n",
            "พนักงานสอบสวน.mp4 - พนักงานสอบสวน\n",
            "ผู้เสียหาย.mp4 - ผู้เสียหาย\n",
            "ผู้เยาว์.mp4 - ผู้เยาว์\n",
            "ผู้พิพากษาอาวุโส.mp4 - ผู้พิพากษาอาวุโส\n",
            "ผู้พิพากษา.mp4 - ผู้พิพากษา\n",
            "ผู้พิพากษาสมทบ.mp4 - ผู้พิพากษาสมทบ\n",
            "ผู้ปกครอง.mp4 - ผู้ปกครอง\n",
            "ผู้บรรลุนิติภาวะ.mp4 - ผู้บรรลุนิติภาวะ\n",
            "ผู้ต้องหา.mp4 - ผู้ต้องหา\n",
            "ผู้ต้องสงสัย.mp4 - ผู้ต้องสงสัย\n",
            "ผู้ช่วยผู้พิพากษา.mp4 - ผู้ช่วยผู้พิพากษา\n",
            "บุคคลธรรมดา.mp4 - บุคคลธรรมดา\n",
            "นิติบุคคล.mp4 - นิติบุคคล\n",
            "นักโทษ.mp4 - นักโทษ\n",
            "ทนายความ.mp4 - ทนายความ\n",
            "โจทก์.mp4 - โจทก์\n",
            "จำเลย.mp4 - จำเลย\n",
            "คณะบุคคล.mp4 - คณะบุคคล\n",
            "หมวดบุคคล.mp4 - หมวดบุคคล\n",
            "หมวดสถานที่.mp4 - หมวดสถานที่\n",
            "ถ้า.mp4 - ถ้า\n",
            "หรือ.mp4 - หรือ\n",
            "อิสรภาพ.mp4 - อิสรภาพ\n",
            "อายุความ.mp4 - อายุความ\n",
            "หน้าที่.mp4 - หน้าที่\n",
            "เสรีภาพ.mp4 - เสรีภาพ\n",
            "เหตุสุดวิสัย.mp4 - เหตุสุดวิสัย\n",
            "สิทธิมนุษยชน.mp4 - สิทธิมนุษยชน\n",
            "สิทธิบัตร.mp4 - สิทธิบัตร\n",
            "สิทธิ์.mp4 - สิทธิ์\n",
            "ลหุโทษ.mp4 - ลหุโทษ\n",
            "การล้มละลาย.mp4 - การล้มละลาย\n",
            "ระเบียบ.mp4 - ระเบียบ\n",
            "ยอมความ.mp4 - ยอมความ\n",
            "มาตรา.mp4 - มาตรา\n",
            "ภาษีมูลค่าเพิ่ม.mp4 - ภาษีมูลค่าเพิ่ม\n",
            "ภาษีเงินได้บุคคลธรรมดา.mp4 - ภาษีเงินได้บุคคลธรรมดา\n",
            "ภาษีเงินได้นิติบุคคล.mp4 - ภาษีเงินได้นิติบุคคล\n",
            "ภาษีเงินได้.mp4 - ภาษีเงินได้\n",
            "ภาษีหัก ณ ที่จ่าย.mp4 - ภาษีหัก ณ ที่จ่าย\n",
            "พันวิสัย.mp4 - พันวิสัย\n",
            "ประมวลกฎหมาย.mp4 - ประมวลกฎหมาย\n",
            "ประกาศ.mp4 - ประกาศ\n",
            "การนัดไกล่เกลี่ย.mp4 - การนัดไกล่เกลี่ย\n",
            "ทรัพย์สินทางปัญญา.mp4 - ทรัพย์สินทางปัญญา\n",
            "เครื่องหมายการค้า.mp4 - เครื่องหมายการค้า\n",
            "คำสั่ง.mp4 - คำสั่ง\n",
            "คำพิพากษา.mp4 - คำพิพากษา\n",
            "ความเสมอภาค.mp4 - ความเสมอภาค\n",
            "คดีอาญา.mp4 - คดีอาญา\n",
            "คดีหมายเลขดำ.mp4 - คดีหมายเลขดำ\n",
            "คดีมีมูล.mp4 - คดีมีมูล\n",
            "คดีแพ่ง.mp4 - คดีแพ่ง\n",
            "คดี.mp4 - คดี\n",
            "ข้อบังคับ.mp4 - ข้อบังคับ\n",
            "การไกล่เกลี่ย.mp4 - การไกล่เกลี่ย\n",
            "กฎกระทรวง.mp4 - กฎกระทรวง\n",
            "การเลือกปฎิบัติ.mp4 - การเลือกปฎิบัติ\n",
            "กฎหมายรัฐธรรมนูญ.mp4 - กฎหมายรัฐธรรมนูญ\n",
            "หมวดทั่วไป.mp4 - หมวดทั่วไป\n",
            "ซูชิ.mp4 - ซูชิ\n",
            "เศรษฐกิจพอเพียง.mp4 - เศรษฐกิจพอเพียง\n",
            "เวอร์ไป.mp4 - เวอร์ไป\n",
            "ประเทศแอลจีเรีย.mp4 - ประเทศแอลจีเรีย\n",
            "สาลี่.mp4 - สาลี่\n",
            "บัตรสวัสดิการแห่งรัฐ.mp4 - บัตรสวัสดิการแห่งรัฐ\n",
            "ฝุ่น pm 2.5.mp4 - ฝุ่น pm 2.5\n",
            "หน้ากากอนามัย.mp4 - หน้ากากอนามัย\n",
            "ยาหม่อง.mp4 - ยาหม่อง\n",
            "ยาล้างแผล.mp4 - ยาล้างแผล\n",
            "ยาทาแผล.mp4 - ยาทาแผล\n",
            "ยาพ่นคอ.mp4 - ยาพ่นคอ\n",
            "ยาพ่นจมูก.mp4 - ยาพ่นจมูก\n",
            "ยาดม.mp4 - ยาดม\n",
            "ยาเม็ด.mp4 - ยาเม็ด\n",
            "ยาเม็ดเล็ก.mp4 - ยาเม็ดเล็ก\n",
            "ยาน้ำ.mp4 - ยาน้ำ\n",
            "มัดจำ.mp4 - มัดจำ\n",
            "เงินผ่อน.mp4 - เงินผ่อน\n",
            "เงินกู้.mp4 - เงินกู้\n",
            "ดอกเบี้ย.mp4 - ดอกเบี้ย\n",
            "ภาษี.mp4 - ภาษี\n",
            "กล้องวงจรปิด.mp4 - กล้องวงจรปิด\n",
            "นิทาน.mp4 - นิทาน\n",
            "ไถนา.mp4 - ไถนา\n",
            "คนพิการ.mp4 - คนพิการ\n",
            "แอปพลิเคชั่น.mp4 - แอปพลิเคชั่น\n",
            "กูเกิ้ลไดร์ฟ.mp4 - กูเกิ้ลไดร์ฟ\n",
            "กูเกิ้ลโครม.mp4 - กูเกิ้ลโครม\n",
            "เล็ก.mp4 - เล็ก\n",
            "กูเกิ้ล.mp4 - กูเกิ้ล\n",
            "เมาส์.mp4 - เมาส์\n",
            "แป้นพิมพ์.mp4 - แป้นพิมพ์\n",
            "เว็ปไซต์.mp4 - เว็ปไซต์\n",
            "บลูทูธ.mp4 - บลูทูธ\n",
            "ใหญ่.mp4 - ใหญ่\n",
            "โน๊ตบุ๊ค.mp4 - โน๊ตบุ๊ค\n",
            "ตรงกัน.mp4 - ตรงกัน\n",
            "ไอโอเอส (IOS).mp4 - ไอโอเอส (IOS)\n",
            "แอนดรอย์.mp4 - แอนดรอย์\n",
            "ตรง.mp4 - ตรง\n",
            "โปรแกรมคอมพิวเตอร์.mp4 - โปรแกรมคอมพิวเตอร์\n",
            "แอปพลิเคชัน ซูม.mp4 - แอปพลิเคชัน ซูม\n",
            "รับจ้าง.mp4 - รับจ้าง\n",
            "โปรแกรมออฟฟิศ Office.mp4 - โปรแกรมออฟฟิศ Office\n",
            "ไมโครซอฟท์พาวเวอร์พอยท์ (Microsoft PowerPoint).mp4 - ไมโครซอฟท์พาวเวอร์พอยท์ (Microsoft PowerPoint)\n",
            "แบตเตอร์รี่รถยนต์.mp4 - แบตเตอร์รี่รถยนต์\n",
            "แบตเตอรี่โทรศัพท์.mp4 - แบตเตอรี่โทรศัพท์\n",
            "ถุงผ้า.mp4 - ถุงผ้า\n",
            "ถุงพลาสติก.mp4 - ถุงพลาสติก\n",
            "ถุงกระดาษ.mp4 - ถุงกระดาษ\n",
            "รูปภาพ.mp4 - รูปภาพ\n",
            "โฟมล้างหน้า.mp4 - โฟมล้างหน้า\n",
            "โลเคชั่นทาผิว.mp4 - โลเคชั่นทาผิว\n",
            "ครีมทาหน้า.mp4 - ครีมทาหน้า\n",
            "สบู่เหลว.mp4 - สบู่เหลว\n",
            "น้ำหอม.mp4 - น้ำหอม\n",
            "แป้งตลับ.mp4 - แป้งตลับ\n",
            "ไม้กวาดหยากไย่.mp4 - ไม้กวาดหยากไย่\n",
            "ไม้แขวนเสื้อ.mp4 - ไม้แขวนเสื้อ\n",
            "ไม้ขนไก่.mp4 - ไม้ขนไก่\n",
            "ไม้กวาด.mp4 - ไม้กวาด\n",
            "สาก.mp4 - สาก\n",
            "ครก.mp4 - ครก\n",
            "ชักโครก.mp4 - ชักโครก\n",
            "อ่างล้างหน้า.mp4 - อ่างล้างหน้า\n",
            "ปลั๊กไฟ.mp4 - ปลั๊กไฟ\n",
            "ปริ้นเตอร์.mp4 - ปริ้นเตอร์\n",
            "เรือดำน้ำ.mp4 - เรือดำน้ำ\n",
            "เรือด่วน.mp4 - เรือด่วน\n",
            "ตะเกียบ.mp4 - ตะเกียบ\n",
            "หม้อ.mp4 - หม้อ\n",
            "กระทะ.mp4 - กระทะ\n",
            "เขียง.mp4 - เขียง\n",
            "ทัพพี.mp4 - ทัพพี\n",
            "ตะไบเล็บ.mp4 - ตะไบเล็บ\n",
            "กรรไกรตัดเล็บ.mp4 - กรรไกรตัดเล็บ\n",
            "ทิชชู่เปียก.mp4 - ทิชชู่เปียก\n",
            "ผ้าอนามัย.mp4 - ผ้าอนามัย\n",
            "แคบ.mp4 - แคบ\n",
            "สมาร์ทโฟน.mp4 - สมาร์ทโฟน\n",
            "โทรศัพท์บ้าน.mp4 - โทรศัพท์บ้าน\n",
            "มือถือแบบกด.mp4 - มือถือแบบกด\n",
            "แว่นตากันแดด.mp4 - แว่นตากันแดด\n",
            "แว่นตา.mp4 - แว่นตา\n",
            "กล่อง.mp4 - กล่อง\n",
            "กล้องวิดีโอ.mp4 - กล้องวิดีโอ\n",
            "กล้องถ่ายรูป.mp4 - กล้องถ่ายรูป\n",
            "ฟืน.mp4 - ฟืน\n",
            "จอบ.mp4 - จอบ\n",
            "กระดาษคาร์บอน.mp4 - กระดาษคาร์บอน\n",
            "หุ่นยนต์.mp4 - หุ่นยนต์\n",
            "การ์ตูน.mp4 - การ์ตูน\n",
            "ตุ๊กตา.mp4 - ตุ๊กตา\n",
            "ซาลาเปา.mp4 - ซาลาเปา\n",
            "ปาท่องโก๋.mp4 - ปาท่องโก๋\n",
            "ช้อปปี้ (Shopee).mp4 - ช้อปปี้ (Shopee)\n",
            "โคมไฟ.mp4 - โคมไฟ\n",
            "ไมโครโฟนตั้งโต๊ะ.mp4 - ไมโครโฟนตั้งโต๊ะ\n",
            "ไมโครโฟน.mp4 - ไมโครโฟน\n",
            "วิดีโอเทป.mp4 - วิดีโอเทป\n",
            "เครื่องเล่นวิดีโอ.mp4 - เครื่องเล่นวิดีโอ\n",
            "เครื่องพิมพ์ดีด.mp4 - เครื่องพิมพ์ดีด\n",
            "ธนาคารอาคารสงเคราะห์.mp4 - ธนาคารอาคารสงเคราะห์\n",
            "ธนาคารยูโอบี.mp4 - ธนาคารยูโอบี\n",
            "ธนาคารทีทีบี.mp4 - ธนาคารทีทีบี\n",
            "ธนาคารอิสลาม.mp4 - ธนาคารอิสลาม\n",
            "ภูเขา.mp4 - ภูเขา\n",
            "ลำคลอง.mp4 - ลำคลอง\n",
            "แม่น้ำ.mp4 - แม่น้ำ\n",
            "เขื่อน.mp4 - เขื่อน\n",
            "ศูนย์ราชการเฉลิมพระเกียรติ 80 พรรษา แจ้งวัฒนะ.mp4 - ศูนย์ราชการเฉลิมพระเกียรติ 80 พรรษา แจ้งวัฒนะ\n",
            "ผมปลอม.mp4 - ผมปลอม\n",
            "วัดพระเชตุพนวิมลมังคลารามราช (วัดโพธิ์).mp4 - วัดพระเชตุพนวิมลมังคลารามราช (วัดโพธิ์)\n",
            "สะพานลอย.mp4 - สะพานลอย\n",
            "สะพาน.mp4 - สะพาน\n",
            "พิพิธภัณฑ์.mp4 - พิพิธภัณฑ์\n",
            "เอเซียทีค เดอะ ริเวอร์ ฟรอนต์.mp4 - เอเซียทีค เดอะ ริเวอร์ ฟรอนต์\n",
            "สวนสยาม.mp4 - สวนสยาม\n",
            "สวนสัตว์ซาฟารีเวิลด์.mp4 - สวนสัตว์ซาฟารีเวิลด์\n",
            "รถยนต์ไฮบริด.mp4 - รถยนต์ไฮบริด\n",
            "รถไฟฟ้าสายสีชมพู.mp4 - รถไฟฟ้าสายสีชมพู\n",
            "รถไฟฟ้าสายสีเหลือง.mp4 - รถไฟฟ้าสายสีเหลือง\n",
            "ศูนย์การประชุมแห่งชาติสิริกิติ์.mp4 - ศูนย์การประชุมแห่งชาติสิริกิติ์\n",
            "อิมแพคอารีนาเมืองทองธานี.mp4 - อิมแพคอารีนาเมืองทองธานี\n",
            "ศูนย์บริการถ่ายทอดการสื่อสารแห่งประเทศไทย TTRS.mp4 - ศูนย์บริการถ่ายทอดการสื่อสารแห่งประเทศไทย TTRS\n",
            "โรงพยาบาลพุทธมณฑล.mp4 - โรงพยาบาลพุทธมณฑล\n",
            "หนังสือ.mp4 - หนังสือ\n",
            "สมุด.mp4 - สมุด\n",
            "อะไร.mp4 - อะไร\n",
            "นาฬิกา.mp4 - นาฬิกา\n",
            "ขอโทษ.mp4 - ขอโทษ\n",
            "พี่ชาย.mp4 - พี่ชาย\n",
            "ขอบคุณ.mp4 - ขอบคุณ\n",
            "คุณ.mp4 - คุณ\n",
            "สามี.mp4 - สามี\n",
            "ภาษาไทย.mp4 - ภาษาไทย\n",
            "ปากกา.mp4 - ปากกา\n",
            "ปากกาไวท์บอร์ด.mp4 - ปากกาไวท์บอร์ด\n",
            "ที่ไหน.mp4 - ที่ไหน\n",
            "คน.mp4 - คน\n",
            "ขาย.mp4 - ขาย\n",
            "ราคา.mp4 - ราคา\n",
            "บน.mp4 - บน\n",
            "โต๊ะ.mp4 - โต๊ะ\n",
            "ญี่ปุ่น.mp4 - ญี่ปุ่น\n",
            "เกาหลีใต้.mp4 - เกาหลีใต้\n",
            "วิทยากร.mp4 - วิทยากร\n",
            "สุกี้ ยากี้.mp4 - สุกี้ ยากี้\n",
            "แพง.mp4 - แพง\n",
            "เก้าอี้.mp4 - เก้าอี้\n",
            "เตียง.mp4 - เตียง\n",
            "กระเพาะอาหาร.mp4 - กระเพาะอาหาร\n",
            "จีน.mp4 - จีน\n",
            "ขนมจีน.mp4 - ขนมจีน\n",
            "ปราจีนบุรี.mp4 - ปราจีนบุรี\n",
            "วันตรุษจีน.mp4 - วันตรุษจีน\n",
            "ไฟไหม้.mp4 - ไฟไหม้\n",
            "เครื่องดื่ม.mp4 - เครื่องดื่ม\n",
            "เครื่องดื่มเกลือแร่.mp4 - เครื่องดื่มเกลือแร่\n",
            "เครื่องดื่มชูกำลัง.mp4 - เครื่องดื่มชูกำลัง\n",
            "ช่างภาพ.mp4 - ช่างภาพ\n",
            "ช่างไม้.mp4 - ช่างไม้\n",
            "เช้า.mp4 - เช้า\n",
            "น้ำส้มสายชู.mp4 - น้ำส้มสายชู\n",
            "บ่าย.mp4 - บ่าย\n",
            "เย็น.mp4 - เย็น\n",
            "นมเย็น.mp4 - นมเย็น\n",
            "เย็นตาโฟ.mp4 - เย็นตาโฟ\n",
            "ตู้เย็น.mp4 - ตู้เย็น\n",
            "มีด.mp4 - มีด\n",
            "มาก.mp4 - มาก\n",
            "สวัสดี.mp4 - สวัสดี\n",
            "มีนาคม.mp4 - มีนาคม\n",
            "เส้นหมี่.mp4 - เส้นหมี่\n",
            "บะหมี่.mp4 - บะหมี่\n",
            "มกราคม.mp4 - มกราคม\n",
            "กุมภาพันธ์.mp4 - กุมภาพันธ์\n",
            "เมษายน.mp4 - เมษายน\n",
            "พฤษภาคม.mp4 - พฤษภาคม\n",
            "มิถุนายน.mp4 - มิถุนายน\n",
            "กรกฎาคม.mp4 - กรกฎาคม\n",
            "กัมพูชา.mp4 - กัมพูชา\n",
            "สิงหาคม.mp4 - สิงหาคม\n",
            "กันยายน.mp4 - กันยายน\n",
            "ตุลาคม.mp4 - ตุลาคม\n",
            "พฤศจิกายน.mp4 - พฤศจิกายน\n",
            "ธันวาคม.mp4 - ธันวาคม\n",
            "วันปีใหม่.mp4 - วันปีใหม่\n",
            "เทควันโด.mp4 - เทควันโด\n",
            "วันรัฐธรรมนูญ.mp4 - วันรัฐธรรมนูญ\n",
            "วันแม่แห่งชาติ.mp4 - วันแม่แห่งชาติ\n",
            "วันครู.mp4 - วันครู\n",
            "วันเด็ก.mp4 - วันเด็ก\n",
            "วันปิยมหาราช.mp4 - วันปิยมหาราช\n",
            "วันฉัตรมงคล.mp4 - วันฉัตรมงคล\n",
            "วันมหิดล.mp4 - วันมหิดล\n",
            "วันพืชมงคล.mp4 - วันพืชมงคล\n",
            "วันคริสต์มาส.mp4 - วันคริสต์มาส\n",
            "วันลอยกระทง.mp4 - วันลอยกระทง\n",
            "วันนี้.mp4 - วันนี้\n",
            "วันอังคาร.mp4 - วันอังคาร\n",
            "วันอาทิตย์.mp4 - วันอาทิตย์\n",
            "เที่ยง.mp4 - เที่ยง\n",
            "วันเสาร์.mp4 - วันเสาร์\n",
            "ไดโนเสาร์.mp4 - ไดโนเสาร์\n",
            "ทัวร์ลง.mp4 - ทัวร์ลง\n",
            "แมลงวัน.mp4 - แมลงวัน\n",
            "แมลงเม่า.mp4 - แมลงเม่า\n",
            "แมลงหวี่.mp4 - แมลงหวี่\n",
            "แมลงปอ.mp4 - แมลงปอ\n",
            "หอยแมลงภู่.mp4 - หอยแมลงภู่\n",
            "แมลงสาบ.mp4 - แมลงสาบ\n",
            "ทุกวัน.mp4 - ทุกวัน\n",
            "เมื่อวานนี้.mp4 - เมื่อวานนี้\n",
            "เมื่อวานซืน.mp4 - เมื่อวานซืน\n",
            "สิ้นเดือน.mp4 - สิ้นเดือน\n",
            "สัปดาห์ที่สี่ของเดือน.mp4 - สัปดาห์ที่สี่ของเดือน\n",
            "เดือน.mp4 - เดือน\n",
            "เงินเดือน.mp4 - เงินเดือน\n",
            "สัปดาห์ที่สามของเดือน.mp4 - สัปดาห์ที่สามของเดือน\n",
            "สัปดาห์ที่สองของเดือน.mp4 - สัปดาห์ที่สองของเดือน\n",
            "สัปดาห์ที่หนึ่งของเดือน.mp4 - สัปดาห์ที่หนึ่งของเดือน\n",
            "ประจำเดือน.mp4 - ประจำเดือน\n",
            "ไส้เดือน.mp4 - ไส้เดือน\n",
            "ปี.mp4 - ปี\n",
            "การบินไทย.mp4 - การบินไทย\n",
            "ประเทศไทย.mp4 - ประเทศไทย\n",
            "แผนที่ประเทศไทย.mp4 - แผนที่ประเทศไทย\n",
            "ภูเก็ต.mp4 - ภูเก็ต\n",
            "ผัดไทย.mp4 - ผัดไทย\n",
            "ภาษามือไทย.mp4 - ภาษามือไทย\n",
            "พริกไทย.mp4 - พริกไทย\n",
            "เส้นผม.mp4 - เส้นผม\n",
            "แชมพู.mp4 - แชมพู\n",
            "ช่างทำผม.mp4 - ช่างทำผม\n",
            "แฟน.mp4 - แฟน\n",
            "สลากกินแบ่งรัฐบาล.mp4 - สลากกินแบ่งรัฐบาล\n",
            "ข่าว.mp4 - ข่าว\n",
            "ข้าวมันไก่.mp4 - ข้าวมันไก่\n",
            "ข้าวเกรียบ.mp4 - ข้าวเกรียบ\n",
            "ข้าวต้มมัด.mp4 - ข้าวต้มมัด\n",
            "ข้าวเกรียบปากหม้อ.mp4 - ข้าวเกรียบปากหม้อ\n",
            "ข้าวเหนียวมะม่วง.mp4 - ข้าวเหนียวมะม่วง\n",
            "ข้าวหมูแดง.mp4 - ข้าวหมูแดง\n",
            "ข้าวผัด.mp4 - ข้าวผัด\n",
            "ข้าวต้ม.mp4 - ข้าวต้ม\n",
            "ข้าว.mp4 - ข้าว\n",
            "ข้าวเหนียว.mp4 - ข้าวเหนียว\n",
            "ข้าวโพด.mp4 - ข้าวโพด\n",
            "หม้อหุงข้าวไฟฟ้า.mp4 - หม้อหุงข้าวไฟฟ้า\n",
            "วินาที.mp4 - วินาที\n",
            "นาที.mp4 - นาที\n",
            "แล้ว.mp4 - แล้ว\n",
            "เมื่อไร.mp4 - เมื่อไร\n",
            "ลง.mp4 - ลง\n",
            "ช้า.mp4 - ช้า\n",
            "ไป.mp4 - ไป\n",
            "อีก.mp4 - อีก\n",
            "มี.mp4 - มี\n",
            "ตอบกลับ.mp4 - ตอบกลับ\n",
            "กลับ.mp4 - กลับ\n",
            "หนึ่งสัปดาห์.mp4 - หนึ่งสัปดาห์\n",
            "หนึ่ง.mp4 - หนึ่ง\n",
            "หนึ่งแสน.mp4 - หนึ่งแสน\n",
            "หนึ่งล้าน.mp4 - หนึ่งล้าน\n",
            "หนึ่งหมื่น.mp4 - หนึ่งหมื่น\n",
            "หนึ่งพัน.mp4 - หนึ่งพัน\n",
            "หนึ่งร้อย.mp4 - หนึ่งร้อย\n",
            "สอง.mp4 - สอง\n",
            "สิบสอง.mp4 - สิบสอง\n",
            "สิบสาม.mp4 - สิบสาม\n",
            "สามร้อย.mp4 - สามร้อย\n",
            "สามสิบ.mp4 - สามสิบ\n",
            "สาม.mp4 - สาม\n",
            "มาสาย.mp4 - มาสาย\n",
            "สนามบิน.mp4 - สนามบิน\n",
            "เวลา.mp4 - เวลา\n",
            "เวลาเท่าไร.mp4 - เวลาเท่าไร\n",
            "พรุ่งนี้.mp4 - พรุ่งนี้\n",
            "ดิฉัน.mp4 - ดิฉัน\n",
            "ผม.mp4 - ผม\n",
            "วันหยุด.mp4 - วันหยุด\n",
            "ธนาคาร.mp4 - ธนาคาร\n",
            "เสี่ยง.mp4 - เสี่ยง\n",
            "สี่.mp4 - สี่\n",
            "สิบสี่.mp4 - สิบสี่\n",
            "สี่สิบ.mp4 - สี่สิบ\n",
            "สี่ร้อย.mp4 - สี่ร้อย\n",
            "ห้าม.mp4 - ห้าม\n",
            "ห้าร้อย.mp4 - ห้าร้อย\n",
            "ห้าสิบ.mp4 - ห้าสิบ\n",
            "สิบห้า.mp4 - สิบห้า\n",
            "ห้า.mp4 - ห้า\n",
            "หกสิบ.mp4 - หกสิบ\n",
            "โกหก.mp4 - โกหก\n",
            "หก.mp4 - หก\n",
            "สิบหก.mp4 - สิบหก\n",
            "เจ็ดร้อย.mp4 - เจ็ดร้อย\n",
            "เจ็ดสิบ.mp4 - เจ็ดสิบ\n",
            "สิบเจ็ด.mp4 - สิบเจ็ด\n",
            "เจ็ด.mp4 - เจ็ด\n",
            "แปด.mp4 - แปด\n",
            "สิบแปด.mp4 - สิบแปด\n",
            "แปดสิบ.mp4 - แปดสิบ\n",
            "แปดร้อย.mp4 - แปดร้อย\n",
            "เก่า.mp4 - เก่า\n",
            "เก้าร้อย.mp4 - เก้าร้อย\n",
            "เก้าสิบ.mp4 - เก้าสิบ\n",
            "สิบเก้า.mp4 - สิบเก้า\n",
            "เก้า.mp4 - เก้า\n",
            "มาเก๊า.mp4 - มาเก๊า\n",
            "ยี่สิบ.mp4 - ยี่สิบ\n",
            "สิบ.mp4 - สิบ\n",
            "สิบเอ็ด.mp4 - สิบเอ็ด\n",
            "ดีเยี่ยม.mp4 - ดีเยี่ยม\n",
            "เรียบร้อย.mp4 - เรียบร้อย\n",
            "อร่อย.mp4 - อร่อย\n",
            "ไม่อร่อย.mp4 - ไม่อร่อย\n",
            "ร้อยละ.mp4 - ร้อยละ\n",
            "เดิมพัน.mp4 - เดิมพัน\n",
            "เยอรมนี.mp4 - เยอรมนี\n",
            "พี่น้อง.mp4 - พี่น้อง\n",
            "รัสเซีย.mp4 - รัสเซีย\n",
            "หนี่งแสน.mp4 - หนี่งแสน\n",
            "บางแสน.mp4 - บางแสน\n",
            "นาน.mp4 - นาน\n",
            "วิเคราะห์.mp4 - วิเคราะห์\n",
            "มหาวิทยาลัยจุฬาลงกรณ์.mp4 - มหาวิทยาลัยจุฬาลงกรณ์\n",
            "มหาวิทยาลัยมหิดล.mp4 - มหาวิทยาลัยมหิดล\n",
            "มหาวิทยาลัยสารคาม.mp4 - มหาวิทยาลัยสารคาม\n",
            "มหาวิทยาลัยขอนแก่น.mp4 - มหาวิทยาลัยขอนแก่น\n",
            "อาจารย์.mp4 - อาจารย์\n",
            "ปรึกษา.mp4 - ปรึกษา\n",
            "พ่อค้า.mp4 - พ่อค้า\n",
            "แพ้อาหาร.mp4 - แพ้อาหาร\n",
            "พ่อครัว.mp4 - พ่อครัว\n",
            "พ่อ.mp4 - พ่อ\n",
            "คุณตา.mp4 - คุณตา\n",
            "แม่กำปอง.mp4 - แม่กำปอง\n",
            "แม่.mp4 - แม่\n",
            "แม่ฮ่องสอน.mp4 - แม่ฮ่องสอน\n",
            "แม่ค้า.mp4 - แม่ค้า\n",
            "ปลูก.mp4 - ปลูก\n",
            "ลูกจ้าง.mp4 - ลูกจ้าง\n",
            "ลูก.mp4 - ลูก\n",
            "มดลูก.mp4 - มดลูก\n",
            "ปู่.mp4 - ปู่\n",
            "หย่า.mp4 - หย่า\n",
            "ย้าย.mp4 - ย้าย\n",
            "ตัวอย่าง.mp4 - ตัวอย่าง\n",
            "อย่างไร.mp4 - อย่างไร\n",
            "ย่า.mp4 - ย่า\n",
            "พี่สาว.mp4 - พี่สาว\n",
            "พี่.mp4 - พี่\n",
            "น้อง.mp4 - น้อง\n",
            "ผู้ชาย.mp4 - ผู้ชาย\n",
            "ผู้หญิง.mp4 - ผู้หญิง\n",
            "เด็ก.mp4 - เด็ก\n",
            "สอน.mp4 - สอน\n",
            "ผู้ใหญ่.mp4 - ผู้ใหญ่\n",
            "ทำงาน.mp4 - ทำงาน\n",
            "ทำ.mp4 - ทำ\n",
            "จ่าย.mp4 - จ่าย\n",
            "ทำไม.mp4 - ทำไม\n",
            "นี่.mp4 - นี่\n",
            "เดี๋ยวนี้.mp4 - เดี๋ยวนี้\n",
            "เมื่อกี้นี้.mp4 - เมื่อกี้นี้\n",
            "ไม่ดี.mp4 - ไม่ดี\n",
            "พบกัน.mp4 - พบกัน\n",
            "นั่น.mp4 - นั่น\n",
            "เขา.mp4 - เขา\n",
            "ลด.mp4 - ลด\n",
            "โหลด.mp4 - โหลด\n",
            "ยาก.mp4 - ยาก\n",
            "อยาก.mp4 - อยาก\n",
            "ไม่อยาก.mp4 - ไม่อยาก\n",
            "ง่าย.mp4 - ง่าย\n",
            "ราคาแพง.mp4 - ราคาแพง\n",
            "เที่ยงคืน.mp4 - เที่ยงคืน\n",
            "เที่ยงวัน.mp4 - เที่ยงวัน\n",
            "น้ำ.mp4 - น้ำ\n",
            "โค้ก.mp4 - โค้ก\n",
            "น้ำชา.mp4 - น้ำชา\n",
            "น้ำเต้าหู้.mp4 - น้ำเต้าหู้\n",
            "โซดา.mp4 - โซดา\n",
            "น้ำแข็ง.mp4 - น้ำแข็ง\n",
            "รุ้งกินน้ำ.mp4 - รุ้งกินน้ำ\n",
            "ร้อน.mp4 - ร้อน\n",
            "ใจร้อน.mp4 - ใจร้อน\n",
            "หนาว.mp4 - หนาว\n",
            "เสื้อกันหนาว.mp4 - เสื้อกันหนาว\n",
            "อากาศ.mp4 - อากาศ\n",
            "เครื่องปรับอากาศ.mp4 - เครื่องปรับอากาศ\n",
            "รถโดยสารปรับอากาศ.mp4 - รถโดยสารปรับอากาศ\n",
            "ครั้งเดียว.mp4 - ครั้งเดียว\n",
            "ดอกไม้.mp4 - ดอกไม้\n",
            "กะหล่ำดอก.mp4 - กะหล่ำดอก\n",
            "ดอกแค.mp4 - ดอกแค\n",
            "สวย.mp4 - สวย\n",
            "หมู่บ้าน.mp4 - หมู่บ้าน\n",
            "ทะเบียนบ้าน.mp4 - ทะเบียนบ้าน\n",
            "บ้าน.mp4 - บ้าน\n",
            "โทรศัพท์.mp4 - โทรศัพท์\n",
            "ห้องครัว.mp4 - ห้องครัว\n",
            "เนื้ิอวัว.mp4 - เนื้ิอวัว\n",
            "เนื้อหมู.mp4 - เนื้อหมู\n",
            "น้ำตกเนื้อ.mp4 - น้ำตกเนื้อ\n",
            "เกาเหลาเนื้อวัว.mp4 - เกาเหลาเนื้อวัว\n",
            "รถยนต์.mp4 - รถยนต์\n",
            "ใบขับขี่รถยนต์.mp4 - ใบขับขี่รถยนต์\n",
            "รถยนต์ไฟฟ้า.mp4 - รถยนต์ไฟฟ้า\n",
            "คุย.mp4 - คุย\n",
            "ผลไม้.mp4 - ผลไม้\n",
            "ต้นไม้.mp4 - ต้นไม้\n",
            "ไม่.mp4 - ไม่\n",
            "ไม่เคย.mp4 - ไม่เคย\n",
            "ไม่รู้.mp4 - ไม่รู้\n",
            "ไม่กิน.mp4 - ไม่กิน\n",
            "ไม่มี.mp4 - ไม่มี\n",
            "ฝนตก.mp4 - ฝนตก\n",
            "หิมะ.mp4 - หิมะ\n",
            "ออกกำลังกาย.mp4 - ออกกำลังกาย\n",
            "กำลังใจ.mp4 - กำลังใจ\n",
            "ตกลง.mp4 - ตกลง\n",
            "ตก.mp4 - ตก\n",
            "แตก.mp4 - แตก\n",
            "ตกใจ.mp4 - ตกใจ\n",
            "น้ำตก.mp4 - น้ำตก\n",
            "พลาสติก.mp4 - พลาสติก\n",
            "ทอง.mp4 - ทอง\n",
            "ตั๋ว.mp4 - ตั๋ว\n",
            "ซิ่.mp4 - ซิ่\n",
            "ซิ่ง.mp4 - ซิ่ง\n",
            "เลื่อน.mp4 - เลื่อน\n",
            "ฟุ่มเฟือย.mp4 - ฟุ่มเฟือย\n",
            "เฉพาะ.mp4 - เฉพาะ\n",
            "กด.mp4 - กด\n",
            "แชร์.mp4 - แชร์\n",
            "ธุระ.mp4 - ธุระ\n",
            "นั่ง.mp4 - นั่ง\n",
            "นอน.mp4 - นอน\n",
            "อ่าน.mp4 - อ่าน\n",
            "ใคร.mp4 - ใคร\n",
            "ว่ายน้ำ.mp4 - ว่ายน้ำ\n",
            "จำเป็น.mp4 - จำเป็น\n",
            "จำ.mp4 - จำ\n",
            "จดจำ.mp4 - จดจำ\n",
            "จำนำ.mp4 - จำนำ\n",
            "ลดลง.mp4 - ลดลง\n",
            "เพิ่มขึ้น.mp4 - เพิ่มขึ้น\n",
            "ได้ยิน.mp4 - ได้ยิน\n",
            "มอง.mp4 - มอง\n",
            "มองดู.mp4 - มองดู\n",
            "สมอง.mp4 - สมอง\n",
            "เห็น.mp4 - เห็น\n",
            "เห็นด้วย.mp4 - เห็นด้วย\n",
            "รู้.mp4 - รู้\n",
            "ไม่รู็.mp4 - ไม่รู็\n",
            "รู้จัก.mp4 - รู้จัก\n",
            "เสร็จ.mp4 - เสร็จ\n",
            "กะทันหัน.mp4 - กะทันหัน\n",
            "เผ็ด.mp4 - เผ็ด\n",
            "แกงเผ็ด.mp4 - แกงเผ็ด\n",
            "ดัง.mp4 - ดัง\n",
            "กลางคืน.mp4 - กลางคืน\n",
            "ค่อย.mp4 - ค่อย\n",
            "ออก.mp4 - ออก\n",
            "ลาออก.mp4 - ลาออก\n",
            "แยก.mp4 - แยก\n",
            "ลุง.mp4 - ลุง\n",
            "ป้า.mp4 - ป้า\n",
            "ป้าย.mp4 - ป้าย\n",
            "สูง.mp4 - สูง\n",
            "รัก.mp4 - รัก\n",
            "น่ารัก.mp4 - น่ารัก\n",
            "โกรธ.mp4 - โกรธ\n",
            "กระดาษ.mp4 - กระดาษ\n",
            "เขียน.mp4 - เขียน\n",
            "อันตราย.mp4 - อันตราย\n",
            "แผ่นดิน.mp4 - แผ่นดิน\n",
            "ถาม.mp4 - ถาม\n",
            "คำถาม.mp4 - คำถาม\n",
            "ดีใจ.mp4 - ดีใจ\n",
            "เชียงใหม่.mp4 - เชียงใหม่\n",
            "กรุงเทพ.mp4 - กรุงเทพ\n",
            "ถนน.mp4 - ถนน\n",
            "สุขุมวิท.mp4 - สุขุมวิท\n",
            "ครอบครัว.mp4 - ครอบครัว\n",
            "สบายดี.mp4 - สบายดี\n",
            "ภาษาอังกฤษ.mp4 - ภาษาอังกฤษ\n",
            "งด.mp4 - งด\n",
            "บัตรเครดิต.mp4 - บัตรเครดิต\n",
            "ต้องการ.mp4 - ต้องการ\n",
            "คู่.mp4 - คู่\n",
            "หน้าต่าง.mp4 - หน้าต่าง\n",
            "ว่าง.mp4 - ว่าง\n",
            "พัก.mp4 - พัก\n",
            "พักผ่อน.mp4 - พักผ่อน\n",
            "เต็ม.mp4 - เต็ม\n",
            "โรงแรม.mp4 - โรงแรม\n",
            "รถไฟ.mp4 - รถไฟ\n",
            "รถไฟฟ้า.mp4 - รถไฟฟ้า\n",
            "บุหรี่.mp4 - บุหรี่\n",
            "เครื่องบิน.mp4 - เครื่องบิน\n",
            "รู้สึก.mp4 - รู้สึก\n",
            "หมี.mp4 - หมี\n",
            "ห้องน้ำ.mp4 - ห้องน้ำ\n",
            "อยู่.mp4 - อยู่\n",
            "ฉัน.mp4 - ฉัน\n",
            "คุณ (1).mp4 - คุณ (1)\n",
            "เขา (1).mp4 - เขา (1)\n",
            "ถนนคนเดินวันศุกร์.mp4 - ถนนคนเดินวันศุกร์\n",
            "ถนนคนเดินพิษณุโลก.mp4 - ถนนคนเดินพิษณุโลก\n",
            "ถนนคนเดินพะเยา.mp4 - ถนนคนเดินพะเยา\n",
            "หนังสือเดินทาง.mp4 - หนังสือเดินทาง\n",
            "ถนนคนเดินประตูท่าแพ.mp4 - ถนนคนเดินประตูท่าแพ\n",
            "วัดพระนั่งเดิน.mp4 - วัดพระนั่งเดิน\n",
            "ทางเดินเท้า.mp4 - ทางเดินเท้า\n",
            "พระที่นั่งอนันตสมาคม.mp4 - พระที่นั่งอนันตสมาคม\n",
            "วัดพระยืน.mp4 - วัดพระยืน\n",
            "พระที่นั่งวิมานเมฆ.mp4 - พระที่นั่งวิมานเมฆ\n",
            "หนอน.mp4 - หนอน\n",
            "เลบานอน.mp4 - เลบานอน\n",
            "แน่นอน.mp4 - แน่นอน\n",
            "พูดมาก.mp4 - พูดมาก\n",
            "ถ้ำหลวงขุนน้ำนางนอน.mp4 - ถ้ำหลวงขุนน้ำนางนอน\n",
            "พูดอย่างลำบากใจ.mp4 - พูดอย่างลำบากใจ\n",
            "พูดรายงานการประชุม.mp4 - พูดรายงานการประชุม\n",
            "พูดไม่ได้เลย.mp4 - พูดไม่ได้เลย\n",
            "พูดไม่ชัด.mp4 - พูดไม่ชัด\n",
            "เจ้าชู้.mp4 - เจ้าชู้\n",
            "พูดตรงๆ.mp4 - พูดตรงๆ\n",
            "พูดอ้อมค้อมวกไปวนมา.mp4 - พูดอ้อมค้อมวกไปวนมา\n",
            "สลับกัน.mp4 - สลับกัน\n",
            "หูฟังมีสาย.mp4 - หูฟังมีสาย\n",
            "หูฟังไร้สาย.mp4 - หูฟังไร้สาย\n",
            "กระดูก.mp4 - กระดูก\n",
            "อุปการะเลี้ยงดู.mp4 - อุปการะเลี้ยงดู\n",
            "ดูถูก.mp4 - ดูถูก\n",
            "ดูคาติ Ducati.mp4 - ดูคาติ Ducati\n",
            "กล้องดูดาว.mp4 - กล้องดูดาว\n",
            "ตกขาว.mp4 - ตกขาว\n",
            "ฤดู.mp4 - ฤดู\n",
            "บูธ.mp4 - บูธ\n",
            "รายงาน.mp4 - รายงาน\n",
            "กิ๊ก (1).mp4 - กิ๊ก (1)\n",
            "ข้อมูล.mp4 - ข้อมูล\n",
            "กระทรวงพลังงาน.mp4 - กระทรวงพลังงาน\n",
            "คิดลบ.mp4 - คิดลบ\n",
            "เราเตอร์.mp4 - เราเตอร์\n",
            "วิธี.mp4 - วิธี\n",
            "ชีวิต.mp4 - ชีวิต\n",
            "น่ารังเกียจ.mp4 - น่ารังเกียจ\n",
            "กระทรวงการพัฒนาสังคมและความมั่นคงของมนุษย์.mp4 - กระทรวงการพัฒนาสังคมและความมั่นคงของมนุษย์\n",
            "แพะ.mp4 - แพะ\n",
            "อ่าง.mp4 - อ่าง\n",
            "ตามสั่ง.mp4 - ตามสั่ง\n",
            "ปริญญาเอก.mp4 - ปริญญาเอก\n",
            "ปริญญาตรี.mp4 - ปริญญาตรี\n",
            "ปริญญาโท.mp4 - ปริญญาโท\n",
            "สามย่านมิตรทาวน์.mp4 - สามย่านมิตรทาวน์\n",
            "ตอนนี้.mp4 - ตอนนี้\n",
            "กมลา แฮร์ริส.mp4 - กมลา แฮร์ริส\n",
            "ดอนัลด์ ทรัมป์.mp4 - ดอนัลด์ ทรัมป์\n",
            "ทิศใต้.mp4 - ทิศใต้\n",
            "ทิศตะวันออก.mp4 - ทิศตะวันออก\n",
            "ทิศตะวันตก.mp4 - ทิศตะวันตก\n",
            "ทิศเหนือ.mp4 - ทิศเหนือ\n",
            "ประเภท.mp4 - ประเภท\n",
            "ใบหน้า.mp4 - ใบหน้า\n",
            "ขนาด.mp4 - ขนาด\n",
            "ภาคกลาง.mp4 - ภาคกลาง\n",
            "สินค้า.mp4 - สินค้า\n",
            "ย่อ.mp4 - ย่อ\n",
            "ไอร์แลนด์.mp4 - ไอร์แลนด์\n",
            "ค้อน.mp4 - ค้อน\n",
            "สุขภาพ.mp4 - สุขภาพ\n",
            "เอ็มเค (MK).mp4 - เอ็มเค (MK)\n",
            "ชุมชน.mp4 - ชุมชน\n",
            "อาหาร.mp4 - อาหาร\n",
            "พิซซ่า (Pizza).mp4 - พิซซ่า (Pizza)\n",
            "แมคโดนัลด์ (MCDONALDS).mp4 - แมคโดนัลด์ (MCDONALDS)\n",
            "เคเอฟซี.mp4 - เคเอฟซี\n",
            "เมเจอร์ ซีนีเพล็กซ์ (Major Cineplex).mp4 - เมเจอร์ ซีนีเพล็กซ์ (Major Cineplex)\n",
            "รายเดือน.mp4 - รายเดือน\n",
            "กฏ.mp4 - กฏ\n",
            "เงินประกัน.mp4 - เงินประกัน\n",
            "บ้านม้าเฟอร์นิเจอร์.mp4 - บ้านม้าเฟอร์นิเจอร์\n",
            "เดอะซันนิวเซ็นเตอร์.mp4 - เดอะซันนิวเซ็นเตอร์\n",
            "แจ่มฟ้าช้อปปิ้งมอลล์.mp4 - แจ่มฟ้าช้อปปิ้งมอลล์\n",
            "อนุสาวรีย์พระนางจามเทวี.mp4 - อนุสาวรีย์พระนางจามเทวี\n",
            "กู่ช้างกู่ม้า.mp4 - กู่ช้างกู่ม้า\n",
            "อ่างเก็บน้ำแม่ธิ.mp4 - อ่างเก็บน้ำแม่ธิ\n",
            "วัดพระบาทผาหนาม.mp4 - วัดพระบาทผาหนาม\n",
            "วัดพุทธบาทตากผ้า.mp4 - วัดพุทธบาทตากผ้า\n",
            "วัดสันป่ายางหลวง.mp4 - วัดสันป่ายางหลวง\n",
            "สะพานทาชมภู.mp4 - สะพานทาชมภู\n",
            "แก่งก้อ.mp4 - แก่งก้อ\n",
            "น้ำตกก้อหลวง.mp4 - น้ำตกก้อหลวง\n",
            "วัดมหาวัน.mp4 - วัดมหาวัน\n",
            "วัดจามเทวี.mp4 - วัดจามเทวี\n",
            "วัดพระธาตุหริภุญชัยวรมหาวิหาร.mp4 - วัดพระธาตุหริภุญชัยวรมหาวิหาร\n",
            "อุโมงค์รถไฟขุนตาล.mp4 - อุโมงค์รถไฟขุนตาล\n",
            "อุทยานแห่งชาติดอยขุนตาล.mp4 - อุทยานแห่งชาติดอยขุนตาล\n",
            "ฮะจิบัง ราเมน.mp4 - ฮะจิบัง ราเมน\n",
            "วัดดอยติ.mp4 - วัดดอยติ\n",
            "อินทนิล คอฟฟี่ (Inthanin Coffee).mp4 - อินทนิล คอฟฟี่ (Inthanin Coffee)\n",
            "สตาร์บัค (Starbucks).mp4 - สตาร์บัค (Starbucks)\n",
            "นายโชคชัย วิเชียรชัยยะ.mp4 - นายโชคชัย วิเชียรชัยยะ\n",
            "ผู้อาวุโส.mp4 - ผู้อาวุโส\n",
            "อีฟ ปานเจริญ (ปาล์มมี่).mp4 - อีฟ ปานเจริญ (ปาล์มมี่)\n",
            "กรรชัย กำเนิดพลอย (หนุ่ม).mp4 - กรรชัย กำเนิดพลอย (หนุ่ม)\n",
            "ไพบูลย์ แสงเดือน.mp4 - ไพบูลย์ แสงเดือน\n",
            "เกาะสมุย.mp4 - เกาะสมุย\n",
            "เดชอิศม์ ขาวทอง.mp4 - เดชอิศม์ ขาวทอง\n",
            "ดร. เฉลิมชัย ศรีอ่อน.mp4 - ดร. เฉลิมชัย ศรีอ่อน\n",
            "ไฟแนนซ์.mp4 - ไฟแนนซ์\n",
            "กัน จอมพลัง.mp4 - กัน จอมพลัง\n",
            "ทนายเดชา.mp4 - ทนายเดชา\n",
            "ภูมิธรรม เวชยชัย.mp4 - ภูมิธรรม เวชยชัย\n",
            "ปลาฉลาม.mp4 - ปลาฉลาม\n",
            "อุทยานแห่งชาติน้ำตกแจ้ซ้อน.mp4 - อุทยานแห่งชาติน้ำตกแจ้ซ้อน\n",
            "บ้านป่าเมี้ยง.mp4 - บ้านป่าเมี้ยง\n",
            "วัดหลวงพ่อเกษมลำปาง.mp4 - วัดหลวงพ่อเกษมลำปาง\n",
            "กาดทุ่งเกวียน.mp4 - กาดทุ่งเกวียน\n",
            "สถานีรถม้า.mp4 - สถานีรถม้า\n",
            "วัดศรีชุม.mp4 - วัดศรีชุม\n",
            "วัดศรีรองเมือง.mp4 - วัดศรีรองเมือง\n",
            "วัดพระธาตุจอมปิง.mp4 - วัดพระธาตุจอมปิง\n",
            "พิพิธภัฑ์เซรามิกธนบดี.mp4 - พิพิธภัฑ์เซรามิกธนบดี\n",
            "วัดพระธาตุลำปางหลวง.mp4 - วัดพระธาตุลำปางหลวง\n",
            "วัดเจดีย์ซาวหลัง.mp4 - วัดเจดีย์ซาวหลัง\n",
            "วัดพระแก้วดอนเต้าสุชาดาราม.mp4 - วัดพระแก้วดอนเต้าสุชาดาราม\n"
          ]
        }
      ],
      "source": [
        "#Prints the filenames in the format you specified (filename.mp4 - filename).\n",
        "import os\n",
        "\n",
        "# Set the directory where your files are located\n",
        "folder_path = \"/content/drive/MyDrive/Thesis/วิดีโอภาษามือ/TSL/words_video\"  # Replace with your actual path\n",
        "\n",
        "# List all files in the directory\n",
        "file_list = os.listdir(folder_path)\n",
        "\n",
        "# Filter and list only the .mp4 files\n",
        "mp4_files = [f for f in file_list if f.endswith('.mp4')]\n",
        "\n",
        "# Print the file names in the desired format\n",
        "for file in mp4_files:\n",
        "    filename = file.replace(\".mp4\", \"\")\n",
        "    print(f\"{file} - {filename}\")"
      ]
    },
    {
      "cell_type": "code",
      "execution_count": 8,
      "metadata": {
        "id": "_bpkUuOZqsQm"
      },
      "outputs": [],
      "source": []
    },
    {
      "cell_type": "code",
      "execution_count": 9,
      "metadata": {
        "colab": {
          "base_uri": "https://localhost:8080/"
        },
        "id": "X4ltoO9AUI0r",
        "outputId": "348084a6-3c0b-4b80-84b3-d8caabb93911"
      },
      "outputs": [
        {
          "output_type": "stream",
          "name": "stdout",
          "text": [
            "Video file 'สวัสดี.mp4' not found.\n",
            "Video file 'อาจารย์.mp4' not found.\n",
            "Video file 'ปรึกษา.mp4' not found.\n"
          ]
        }
      ],
      "source": [
        "import os\n",
        "from IPython.display import Video, display\n",
        "\n",
        "video_directory = '/content/drive/MyDrive/Thesis/วิดีโอภาษามือ/2.ภาษาระดับกึ่งทางการ/วิดีโอทั้งหมดกึ่งทางการ'\n",
        "\n",
        "# Path to the file containing the keyword-video pairs (assume one pair per line)\n",
        "keyword_file_path = '/content/drive/MyDrive/Thesis/keyword_video.txt'\n",
        "\n",
        "# Load the keywords and video filenames into a dictionary\n",
        "def load_keyword_video_mapping(file_path):\n",
        "    keyword_video_map = {}\n",
        "    with open(file_path, 'r', encoding='utf-8') as f:\n",
        "        for line in f:\n",
        "            video_file, keyword = line.strip().split(' - ')\n",
        "            keyword_video_map[keyword] = video_file\n",
        "    return keyword_video_map\n",
        "\n",
        "# Display the video corresponding to the keyword\n",
        "def display_video_for_keyword(keyword, keyword_video_map, width=640, height=480):\n",
        "    if keyword in keyword_video_map:\n",
        "        video_file = keyword_video_map[keyword]\n",
        "        video_path = os.path.join(video_directory, video_file)\n",
        "\n",
        "        if os.path.exists(video_path):\n",
        "            print(f\"Displaying video for '{keyword}': {video_file}\")\n",
        "            # Standardized size for video display\n",
        "            display(Video(video_path, embed=True, width=width, height=height))\n",
        "        else:\n",
        "            print(f\"Video file '{video_file}' not found.\")\n",
        "    else:\n",
        "        print(f\"No video found for the keyword '{keyword}'.\")\n",
        "\n",
        "# Load the keyword-video mapping\n",
        "keyword_video_map = load_keyword_video_mapping(keyword_file_path)\n",
        "\n",
        "# Example: Display videos for multiple keywords\n",
        "keywords_to_search = [\"สวัสดี\", \"อาจารย์\", \"ปรึกษา\"]  # List of keywords to search for\n",
        "\n",
        "# Loop through each keyword and display its corresponding video\n",
        "for keyword in keywords_to_search:\n",
        "    display_video_for_keyword(keyword, keyword_video_map, width=640, height=480)  # Adjust video size here"
      ]
    },
    {
      "cell_type": "code",
      "execution_count": 10,
      "metadata": {
        "colab": {
          "base_uri": "https://localhost:8080/",
          "height": 501
        },
        "id": "woY_iEk_FpHa",
        "outputId": "7f944149-483c-41ee-9ca0-4c893ede1a48"
      },
      "outputs": [
        {
          "output_type": "display_data",
          "data": {
            "text/plain": [
              "<IPython.core.display.Video object>"
            ],
            "text/html": [
              "<video controls  width=\"640\"  height=\"480\">\n",
              " <source src=\"data:None;base64,/content/drive/MyDrive/Thesis/วิดีโอภาษามือ/2.ภาษาระดับกึ่งทางการ/วิดีโอทั้งหมดกึ่งทางการ/สวัสดี.mp4\" type=\"None\">\n",
              " Your browser does not support the video tag.\n",
              " </video>"
            ]
          },
          "metadata": {}
        }
      ],
      "source": [
        "from IPython.display import Video, display\n",
        "\n",
        "# ตัวอย่างแสดงวิดีโอหนึ่งตัว\n",
        "video_path = '/content/drive/MyDrive/Thesis/วิดีโอภาษามือ/2.ภาษาระดับกึ่งทางการ/วิดีโอทั้งหมดกึ่งทางการ/สวัสดี.mp4'\n",
        "display(Video(video_path, embed=True, width=640, height=480))"
      ]
    },
    {
      "cell_type": "code",
      "execution_count": 11,
      "metadata": {
        "id": "1zm702-pJm1c"
      },
      "outputs": [],
      "source": [
        "#!pip install streamlit"
      ]
    },
    {
      "cell_type": "code",
      "execution_count": 12,
      "metadata": {
        "colab": {
          "base_uri": "https://localhost:8080/"
        },
        "id": "HtH387EQQLj3",
        "outputId": "da1b1b2a-258c-42bb-9bef-f4c802ff0158"
      },
      "outputs": [
        {
          "output_type": "stream",
          "name": "stdout",
          "text": [
            "Writing app.py\n"
          ]
        }
      ],
      "source": [
        "%%writefile app.py\n",
        "import os\n",
        "import streamlit as st\n",
        "\n",
        "video_directory = '/content/drive/MyDrive/Thesis/วิดีโอภาษามือ/2.ภาษาระดับกึ่งทางการ/วิดีโอทั้งหมดกึ่งทางการ'\n",
        "\n",
        "keyword_file_path = '/content/drive/MyDrive/Thesis/keyword_video.txt'\n",
        "\n",
        "def load_keyword_video_mapping(file_path):\n",
        "    keyword_video_map = {}\n",
        "    with open(file_path, 'r', encoding='utf-8') as f:\n",
        "        for line in f:\n",
        "            video_file, keyword = line.strip().split(' - ')\n",
        "            keyword_video_map[keyword] = video_file\n",
        "    return keyword_video_map\n",
        "\n",
        "def display_videos_inline(keywords, keyword_video_map):\n",
        "    for keyword in keywords:\n",
        "        if keyword in keyword_video_map:\n",
        "            video_file = keyword_video_map[keyword]\n",
        "            video_path = os.path.join(video_directory, video_file)\n",
        "\n",
        "            if os.path.exists(video_path):\n",
        "                st.write(f\"Displaying video for '{keyword}': {video_file}\")\n",
        "                st.video(video_path)\n",
        "            else:\n",
        "                st.error(f\"Video file '{video_file}' not found.\")\n",
        "        else:\n",
        "            st.warning(f\"No video found for the keyword '{keyword}'.\")\n",
        "\n",
        "keyword_video_map = load_keyword_video_mapping(keyword_file_path)\n",
        "keywords_to_search = [\"สวัสดี\", \"อาจารย์\", \"ปรึกษา\"]\n",
        "\n",
        "st.title(\"Thai Sign Language Video Display\")\n",
        "display_videos_inline(keywords_to_search, keyword_video_map)\n"
      ]
    },
    {
      "cell_type": "markdown",
      "metadata": {
        "id": "Ri5cVDAWIgp7"
      },
      "source": [
        "# PyThaiNLP Get Started\n",
        "\n",
        "Code examples for basic functions in PyThaiNLP https://github.com/PyThaiNLP/pythainlp"
      ]
    },
    {
      "cell_type": "code",
      "execution_count": 13,
      "metadata": {
        "id": "3HsfhZlwInqs"
      },
      "outputs": [],
      "source": [
        "# # pip install required modules\n",
        "# # uncomment if running from colab\n",
        "# # see list of modules in `requirements` and `extras`\n",
        "# # in https://github.com/PyThaiNLP/pythainlp/blob/dev/setup.py\n",
        "\n",
        "#!pip install pythainlp\n",
        "#!pip install epitran"
      ]
    },
    {
      "cell_type": "code",
      "execution_count": 14,
      "metadata": {
        "id": "BaT_g8fV-7xp"
      },
      "outputs": [],
      "source": [
        "#pip install required modules"
      ]
    },
    {
      "cell_type": "code",
      "execution_count": 15,
      "metadata": {
        "colab": {
          "base_uri": "https://localhost:8080/"
        },
        "id": "E32blbWe_CLX",
        "outputId": "c7e7593b-5924-4c9b-c480-389a765b54d7"
      },
      "outputs": [
        {
          "output_type": "stream",
          "name": "stdout",
          "text": [
            "Collecting pythainlp\n",
            "  Downloading pythainlp-5.1.0-py3-none-any.whl.metadata (8.0 kB)\n",
            "Requirement already satisfied: requests>=2.31 in /usr/local/lib/python3.11/dist-packages (from pythainlp) (2.32.3)\n",
            "Requirement already satisfied: charset-normalizer<4,>=2 in /usr/local/lib/python3.11/dist-packages (from requests>=2.31->pythainlp) (3.4.1)\n",
            "Requirement already satisfied: idna<4,>=2.5 in /usr/local/lib/python3.11/dist-packages (from requests>=2.31->pythainlp) (3.10)\n",
            "Requirement already satisfied: urllib3<3,>=1.21.1 in /usr/local/lib/python3.11/dist-packages (from requests>=2.31->pythainlp) (2.3.0)\n",
            "Requirement already satisfied: certifi>=2017.4.17 in /usr/local/lib/python3.11/dist-packages (from requests>=2.31->pythainlp) (2025.1.31)\n",
            "Downloading pythainlp-5.1.0-py3-none-any.whl (19.3 MB)\n",
            "\u001b[2K   \u001b[90m━━━━━━━━━━━━━━━━━━━━━━━━━━━━━━━━━━━━━━━━\u001b[0m \u001b[32m19.3/19.3 MB\u001b[0m \u001b[31m55.3 MB/s\u001b[0m eta \u001b[36m0:00:00\u001b[0m\n",
            "\u001b[?25hInstalling collected packages: pythainlp\n",
            "Successfully installed pythainlp-5.1.0\n",
            "Collecting epitran\n",
            "  Downloading epitran-1.26.0-py2.py3-none-any.whl.metadata (34 kB)\n",
            "Requirement already satisfied: setuptools in /usr/local/lib/python3.11/dist-packages (from epitran) (75.1.0)\n",
            "Requirement already satisfied: regex in /usr/local/lib/python3.11/dist-packages (from epitran) (2024.11.6)\n",
            "Collecting panphon>=0.20 (from epitran)\n",
            "  Downloading panphon-0.21.2-py2.py3-none-any.whl.metadata (15 kB)\n",
            "Requirement already satisfied: marisa-trie in /usr/local/lib/python3.11/dist-packages (from epitran) (1.2.1)\n",
            "Requirement already satisfied: requests in /usr/local/lib/python3.11/dist-packages (from epitran) (2.32.3)\n",
            "Collecting jamo (from epitran)\n",
            "  Downloading jamo-0.4.1-py3-none-any.whl.metadata (2.3 kB)\n",
            "Collecting unicodecsv (from panphon>=0.20->epitran)\n",
            "  Downloading unicodecsv-0.14.1.tar.gz (10 kB)\n",
            "  Preparing metadata (setup.py) ... \u001b[?25l\u001b[?25hdone\n",
            "Requirement already satisfied: PyYAML in /usr/local/lib/python3.11/dist-packages (from panphon>=0.20->epitran) (6.0.2)\n",
            "Requirement already satisfied: numpy>=1.20.2 in /usr/local/lib/python3.11/dist-packages (from panphon>=0.20->epitran) (2.0.2)\n",
            "Requirement already satisfied: editdistance in /usr/local/lib/python3.11/dist-packages (from panphon>=0.20->epitran) (0.8.1)\n",
            "Collecting munkres (from panphon>=0.20->epitran)\n",
            "  Downloading munkres-1.1.4-py2.py3-none-any.whl.metadata (980 bytes)\n",
            "Requirement already satisfied: charset-normalizer<4,>=2 in /usr/local/lib/python3.11/dist-packages (from requests->epitran) (3.4.1)\n",
            "Requirement already satisfied: idna<4,>=2.5 in /usr/local/lib/python3.11/dist-packages (from requests->epitran) (3.10)\n",
            "Requirement already satisfied: urllib3<3,>=1.21.1 in /usr/local/lib/python3.11/dist-packages (from requests->epitran) (2.3.0)\n",
            "Requirement already satisfied: certifi>=2017.4.17 in /usr/local/lib/python3.11/dist-packages (from requests->epitran) (2025.1.31)\n",
            "Downloading epitran-1.26.0-py2.py3-none-any.whl (188 kB)\n",
            "\u001b[2K   \u001b[90m━━━━━━━━━━━━━━━━━━━━━━━━━━━━━━━━━━━━━━━━\u001b[0m \u001b[32m188.5/188.5 kB\u001b[0m \u001b[31m9.7 MB/s\u001b[0m eta \u001b[36m0:00:00\u001b[0m\n",
            "\u001b[?25hDownloading panphon-0.21.2-py2.py3-none-any.whl (75 kB)\n",
            "\u001b[2K   \u001b[90m━━━━━━━━━━━━━━━━━━━━━━━━━━━━━━━━━━━━━━━━\u001b[0m \u001b[32m75.4/75.4 kB\u001b[0m \u001b[31m5.6 MB/s\u001b[0m eta \u001b[36m0:00:00\u001b[0m\n",
            "\u001b[?25hDownloading jamo-0.4.1-py3-none-any.whl (9.5 kB)\n",
            "Downloading munkres-1.1.4-py2.py3-none-any.whl (7.0 kB)\n",
            "Building wheels for collected packages: unicodecsv\n",
            "  Building wheel for unicodecsv (setup.py) ... \u001b[?25l\u001b[?25hdone\n",
            "  Created wheel for unicodecsv: filename=unicodecsv-0.14.1-py3-none-any.whl size=10744 sha256=56b9cb48f48e04de1ea26474e7bb43669425980088a8e1421030319c431ce614\n",
            "  Stored in directory: /root/.cache/pip/wheels/ec/03/6f/d2e0162d94c0d451556fa43dd4d5531457245c34a36b41ef4a\n",
            "Successfully built unicodecsv\n",
            "Installing collected packages: unicodecsv, munkres, jamo, panphon, epitran\n",
            "Successfully installed epitran-1.26.0 jamo-0.4.1 munkres-1.1.4 panphon-0.21.2 unicodecsv-0.14.1\n"
          ]
        }
      ],
      "source": [
        "!pip install pythainlp\n",
        "!pip install epitran"
      ]
    },
    {
      "cell_type": "markdown",
      "metadata": {
        "id": "MqR6Klwc-UAH"
      },
      "source": [
        "## Import PyThaiNLP"
      ]
    },
    {
      "cell_type": "code",
      "execution_count": 16,
      "metadata": {
        "id": "9IhnIXQJ-oDg"
      },
      "outputs": [],
      "source": [
        "import pythainlp"
      ]
    },
    {
      "cell_type": "code",
      "execution_count": 17,
      "metadata": {
        "id": "R7CkITTf-UAH",
        "colab": {
          "base_uri": "https://localhost:8080/",
          "height": 0
        },
        "outputId": "ba3b1088-49ef-4336-9a94-3e77cf1873cf"
      },
      "outputs": [
        {
          "output_type": "execute_result",
          "data": {
            "text/plain": [
              "'5.1.0'"
            ],
            "application/vnd.google.colaboratory.intrinsic+json": {
              "type": "string"
            }
          },
          "metadata": {},
          "execution_count": 17
        }
      ],
      "source": [
        "import pythainlp\n",
        "\n",
        "pythainlp.__version__"
      ]
    },
    {
      "cell_type": "markdown",
      "metadata": {
        "id": "A6gy4MLGIgp9"
      },
      "source": [
        "## Thai Characters\n",
        "\n",
        "PyThaiNLP provides some ready-to-use Thai character set (e.g. Thai consonants, vowels, tonemarks, symbols) as a string for convenience. There are also few utility functions to test if a string is in Thai or not."
      ]
    },
    {
      "cell_type": "code",
      "execution_count": 18,
      "metadata": {
        "id": "GAvoeZg3Igp-",
        "colab": {
          "base_uri": "https://localhost:8080/",
          "height": 0
        },
        "outputId": "303a8b53-91dd-4f24-d9d2-5a5efacadc4c"
      },
      "outputs": [
        {
          "output_type": "execute_result",
          "data": {
            "text/plain": [
              "'กขฃคฅฆงจฉชซฌญฎฏฐฑฒณดตถทธนบปผฝพฟภมยรลวศษสหฬอฮฤฦะัาำิีึืุูเแโใไๅํ็่้๊๋ฯฺๆ์ํ๎๏๚๛๐๑๒๓๔๕๖๗๘๙฿'"
            ],
            "application/vnd.google.colaboratory.intrinsic+json": {
              "type": "string"
            }
          },
          "metadata": {},
          "execution_count": 18
        }
      ],
      "source": [
        "pythainlp.thai_characters"
      ]
    },
    {
      "cell_type": "code",
      "execution_count": 19,
      "metadata": {
        "id": "TFPtK_FL-UAI",
        "colab": {
          "base_uri": "https://localhost:8080/"
        },
        "outputId": "7722396d-7495-497a-c928-9b41943c1f9d"
      },
      "outputs": [
        {
          "output_type": "execute_result",
          "data": {
            "text/plain": [
              "88"
            ]
          },
          "metadata": {},
          "execution_count": 19
        }
      ],
      "source": [
        "len(pythainlp.thai_characters)"
      ]
    },
    {
      "cell_type": "code",
      "execution_count": 20,
      "metadata": {
        "id": "uPwx53A6IgqF",
        "colab": {
          "base_uri": "https://localhost:8080/",
          "height": 0
        },
        "outputId": "9a502a55-189b-4d5c-eebd-270f1ce8a9f5"
      },
      "outputs": [
        {
          "output_type": "execute_result",
          "data": {
            "text/plain": [
              "'กขฃคฅฆงจฉชซฌญฎฏฐฑฒณดตถทธนบปผฝพฟภมยรลวศษสหฬอฮ'"
            ],
            "application/vnd.google.colaboratory.intrinsic+json": {
              "type": "string"
            }
          },
          "metadata": {},
          "execution_count": 20
        }
      ],
      "source": [
        "pythainlp.thai_consonants"
      ]
    },
    {
      "cell_type": "code",
      "execution_count": 21,
      "metadata": {
        "id": "e5-lZjsd-UAJ",
        "colab": {
          "base_uri": "https://localhost:8080/"
        },
        "outputId": "c3cfb7eb-5661-47c8-f14d-e36feac9adc0"
      },
      "outputs": [
        {
          "output_type": "execute_result",
          "data": {
            "text/plain": [
              "44"
            ]
          },
          "metadata": {},
          "execution_count": 21
        }
      ],
      "source": [
        "len(pythainlp.thai_consonants)"
      ]
    },
    {
      "cell_type": "code",
      "execution_count": 22,
      "metadata": {
        "id": "5UA7Hwy_IgqI",
        "colab": {
          "base_uri": "https://localhost:8080/"
        },
        "outputId": "3be05a03-4d5e-4a38-dcff-3feacfecdcc0"
      },
      "outputs": [
        {
          "output_type": "execute_result",
          "data": {
            "text/plain": [
              "True"
            ]
          },
          "metadata": {},
          "execution_count": 22
        }
      ],
      "source": [
        "\"๔\" in pythainlp.thai_digits  # check if Thai digit \"4\" is in the character set"
      ]
    },
    {
      "cell_type": "markdown",
      "metadata": {
        "id": "32vFPqeB-UAJ"
      },
      "source": [
        "## Checking if a string contains Thai character or not, or how many"
      ]
    },
    {
      "cell_type": "code",
      "execution_count": 23,
      "metadata": {
        "id": "t3NvXqYFIgqK",
        "colab": {
          "base_uri": "https://localhost:8080/"
        },
        "outputId": "fb9e5372-985c-4c02-95f2-ca5499bd51da"
      },
      "outputs": [
        {
          "output_type": "execute_result",
          "data": {
            "text/plain": [
              "True"
            ]
          },
          "metadata": {},
          "execution_count": 23
        }
      ],
      "source": [
        "import pythainlp.util\n",
        "\n",
        "pythainlp.util.isthai(\"ก\")"
      ]
    },
    {
      "cell_type": "code",
      "execution_count": 24,
      "metadata": {
        "id": "sRzSQjugIgqM",
        "colab": {
          "base_uri": "https://localhost:8080/"
        },
        "outputId": "39a17070-b8c9-452d-94e2-e3804d5a5831"
      },
      "outputs": [
        {
          "output_type": "execute_result",
          "data": {
            "text/plain": [
              "False"
            ]
          },
          "metadata": {},
          "execution_count": 24
        }
      ],
      "source": [
        "pythainlp.util.isthai(\"(ก.พ.)\")"
      ]
    },
    {
      "cell_type": "code",
      "execution_count": 25,
      "metadata": {
        "id": "DP5yfJebIgqP",
        "colab": {
          "base_uri": "https://localhost:8080/"
        },
        "outputId": "0a9318c8-1544-4a6e-a203-79758c133415"
      },
      "outputs": [
        {
          "output_type": "execute_result",
          "data": {
            "text/plain": [
              "True"
            ]
          },
          "metadata": {},
          "execution_count": 25
        }
      ],
      "source": [
        "pythainlp.util.isthai(\"(ก.พ.)\", ignore_chars=\".()\")"
      ]
    },
    {
      "cell_type": "code",
      "execution_count": 26,
      "metadata": {
        "id": "WDZtB1BND8m_"
      },
      "outputs": [],
      "source": [
        "from pythainlp import sent_tokenize\n",
        "from pythainlp.corpus.common import thai_words\n",
        "from pythainlp import Tokenizer\n",
        "from pythainlp.tokenize import subword_tokenize\n",
        "from pythainlp.tokenize import word_tokenize\n",
        "from pythainlp.tag import pos_tag\n",
        "from pythainlp.corpus import thai_stopwords"
      ]
    },
    {
      "cell_type": "code",
      "execution_count": 27,
      "metadata": {
        "colab": {
          "base_uri": "https://localhost:8080/"
        },
        "id": "p7Q3qoEPYegy",
        "outputId": "fbcc0e3c-9574-4130-bf9a-fd343b4dbfea"
      },
      "outputs": [
        {
          "output_type": "stream",
          "name": "stdout",
          "text": [
            "โน็ตบุ๊ค\n"
          ]
        }
      ],
      "source": [
        "from pythainlp.tokenize import word_detokenize\n",
        "print(word_detokenize(['โน็', 'ตบุ๊ค']))"
      ]
    },
    {
      "cell_type": "markdown",
      "metadata": {
        "id": "8VFPOHyZIgqh"
      },
      "source": [
        "#NLP for TSL"
      ]
    },
    {
      "cell_type": "code",
      "execution_count": 28,
      "metadata": {
        "colab": {
          "base_uri": "https://localhost:8080/"
        },
        "id": "Tej0ddpak8uG",
        "outputId": "d3f0da2e-b598-4aa5-a8c7-98bca6731d7a"
      },
      "outputs": [
        {
          "output_type": "stream",
          "name": "stdout",
          "text": [
            "custom dictionary: ['นี่', 'หนังสือ', 'ใช่ไหม']\n",
            "Original words: ['นี่', 'หนังสือ', 'ใช่ไหม']\n",
            "Filtered words: ['นี่', 'หนังสือ']\n",
            "Lemmatized words: ['นี่', 'หนังสือ']\n",
            "POS Tags: [('นี่', 'PDMN'), ('หนังสือ', 'NCMN')]\n",
            "Reordered sentence (TSL): นี่ หนังสือ\n"
          ]
        }
      ],
      "source": [
        "from pythainlp.tokenize import word_tokenize, Tokenizer\n",
        "from pythainlp.corpus import thai_stopwords, thai_words\n",
        "from pythainlp.tag import pos_tag\n",
        "\n",
        "# ฟังก์ชันสำหรับการปรับรูปเป็นคำพื้นฐาน\n",
        "def get_lemma(word):\n",
        "    lemmas = {\n",
        "        \"สวัสดีค่ะ\": \"สวัสดี\",\n",
        "        \"ที่ปรึกษา\": \"ปรึกษา\",\n",
        "        \"สอบถาม\": \"ถาม\",\n",
        "    }\n",
        "    return lemmas.get(word, word)\n",
        "\n",
        "# ฟังก์ชันสำหรับการเรียงคำตามไวยากรณ์ของ TSL\n",
        "def reorder_to_tsl(words):\n",
        "    # กรองคำบางคำออกไปตามลักษณะของไวยากรณ์ TSL\n",
        "    simplified_sentence = [word for word in words if word not in ['คือ', 'เป็น', 'อยู่', 'มี', 'จะ', 'ได้', 'แล้ว', 'ก็', 'ที่', 'นั้น', 'นี้']]\n",
        "\n",
        "    # จัดลำดับคำตามเวลา (ถ้ามี)\n",
        "    time_words = ['วันนี้', 'พรุ่งนี้', 'เมื่อวาน', 'ตอนเช้า', 'ตอนเย็น', 'หนึ่งสัปดาห์หน้า']\n",
        "    time_elements = [word for word in simplified_sentence if word in time_words]\n",
        "    non_time_elements = [word for word in simplified_sentence if word not in time_words]\n",
        "\n",
        "    # รวมส่วนที่เป็นเวลาขึ้นก่อน และส่วนอื่นๆ ต่อท้าย\n",
        "    reordered_sentence = time_elements + non_time_elements\n",
        "\n",
        "    return ' '.join(reordered_sentence)\n",
        "\n",
        "# ข้อความตัวอย่าง\n",
        "text1 = \"นี่หนังสือใช่ไหม\"\n",
        "\n",
        "# สร้าง custom dictionary สำหรับการตัดคำ\n",
        "words = set(thai_words())\n",
        "words.discard(\"การเรียน\")  # ลบคำที่ไม่ต้องการออกจาก dictionary\n",
        "custom_tokenizer = Tokenizer(words)\n",
        "\n",
        "# ตัดคำ\n",
        "tokenized_words = custom_tokenizer.word_tokenize(text1)\n",
        "print(\"custom dictionary:\", tokenized_words)\n",
        "\n",
        "# ดึง stop words ภาษาไทยและลบคำที่ไม่จำเป็นออก\n",
        "stopwords = set(thai_stopwords())\n",
        "stopwords.discard(\"นี่\")  # เก็บคำว่า \"นี่\"\n",
        "\n",
        "# ลบคำที่อยู่ใน stop words\n",
        "filtered_words = [word for word in tokenized_words if word not in stopwords]\n",
        "print(\"Original words:\", tokenized_words)\n",
        "print(\"Filtered words:\", filtered_words)\n",
        "\n",
        "# ปรับคำให้เป็นรูปพื้นฐาน (lemmatization)\n",
        "lemmatized_words = [get_lemma(word) for word in filtered_words]\n",
        "print(\"Lemmatized words:\", lemmatized_words)\n",
        "\n",
        "# เพิ่ม POS tagging สำหรับคำที่ผ่านการ lemmatization แล้ว\n",
        "pos_tags = pos_tag(lemmatized_words)\n",
        "print(\"POS Tags:\", pos_tags)\n",
        "\n",
        "# เรียงคำตามไวยากรณ์ของ TSL\n",
        "tsl_sentence = reorder_to_tsl(lemmatized_words)\n",
        "print(\"Reordered sentence (TSL):\", tsl_sentence)"
      ]
    },
    {
      "cell_type": "code",
      "execution_count": 29,
      "metadata": {
        "colab": {
          "base_uri": "https://localhost:8080/"
        },
        "id": "BV6F4h21oqtP",
        "outputId": "51aed828-fcfc-45c7-8c33-4d7a7a15088c"
      },
      "outputs": [
        {
          "output_type": "execute_result",
          "data": {
            "text/plain": [
              "str"
            ]
          },
          "metadata": {},
          "execution_count": 29
        }
      ],
      "source": [
        "type(tsl_sentence)"
      ]
    },
    {
      "cell_type": "code",
      "execution_count": 30,
      "metadata": {
        "colab": {
          "base_uri": "https://localhost:8080/"
        },
        "id": "ebMHetxLxTRO",
        "outputId": "be72365e-736b-47b2-d87e-831584e6d351"
      },
      "outputs": [
        {
          "output_type": "stream",
          "name": "stdout",
          "text": [
            "Original: นี่หนังสือใช่ไหม\n",
            "Processed: ['นี่', 'หนังสือ']\n",
            "\n",
            "Original: นั่นสมุดใช่ไหม\n",
            "Processed: ['นั่น', 'สมุด']\n",
            "\n",
            "Original: นี่อะไร\n",
            "Processed: ['นี่', 'อะไร']\n",
            "\n",
            "Original: นี่นาฬิกาหรือปากกา\n",
            "Processed: ['นี่', 'นาฬิกา', 'หรือ', 'ปากกา']\n",
            "\n",
            "Original: คุณเข้าใจไหม\n",
            "Processed: ['คุณ', 'เข้าใจ']\n",
            "\n",
            "Original: ฉันขอโทษ\n",
            "Processed: ['ฉัน', 'ขอโทษ']\n",
            "\n",
            "Original: ขอบคุณนะพี่ชาย\n",
            "Processed: ['ขอบคุณ', 'พี่ชาย']\n",
            "\n",
            "Original: โทรศัพท์อยู่ที่ไหน\n",
            "Processed: ['โทรศัพท์', 'อยู่', 'ที่ไหน']\n",
            "\n",
            "Original: คุณเป็นคนที่ไหน\n",
            "Processed: ['คุณ', 'คน', 'ที่ไหน']\n",
            "\n",
            "Original: ขายราคาเท่าไร\n",
            "Processed: ['ขาย', 'ราคา', 'เท่าไร']\n",
            "\n",
            "Original: โทรศัพท์อยู่บนโต๊ะใช่ไหม\n",
            "Processed: ['โทรศัพท์', 'อยู่', 'บน', 'โต๊ะ']\n",
            "\n",
            "Original: เขาเป็นคนญี่ปุ่นหรือคนเกาหลีใต้\n",
            "Processed: ['เขา', 'คน', 'ญี่ปุ่น', 'หรือ', 'คน', 'เกาหลีใต้']\n",
            "\n",
            "Original: ภาษาไทยยากไหม\n",
            "Processed: ['ภาษาไทย', 'ยาก']\n",
            "\n",
            "Original: ภาษาไทยง่าย\n",
            "Processed: ['ภาษาไทย', 'ง่าย']\n",
            "\n",
            "Original: ราคาแพง\n",
            "Processed: ['ราคา', 'แพง']\n",
            "\n",
            "Original: หนังสืออยู่บนเก้าอี้\n",
            "Processed: ['หนังสือ', 'อยู่', 'บน', 'เก้าอี้']\n",
            "\n",
            "Original: คุณชอบอาหารอะไร\n",
            "Processed: ['คุณ', 'ชอบ', 'อาหาร', 'อะไร']\n",
            "\n",
            "Original: คุณชอบอาหารจีนไหม\n",
            "Processed: ['คุณ', 'ชอบ', 'อาหาร', 'จีน']\n",
            "\n",
            "Original: คุณชอบอาหารไทยหรืออาหารจีน\n",
            "Processed: ['คุณ', 'ชอบ', 'อาหาร', 'ไทย', 'หรือ', 'อาหาร', 'จีน']\n",
            "\n",
            "Original: คุณอ่านภาษาไทยได้ไหม\n",
            "Processed: ['คุณ', 'อ่าน', 'ภาษาไทย']\n",
            "\n",
            "Original: คุณเขียนภาษาไทยได้ไหม\n",
            "Processed: ['คุณ', 'เขียน', 'ภาษาไทย']\n",
            "\n",
            "Original: คุณจะไปที่ไหน\n",
            "Processed: ['คุณ', 'ไป', 'ที่ไหน']\n",
            "\n",
            "Original: เขาชอบดื่มอะไร\n",
            "Processed: ['เขา', 'ชอบ', 'ดื่ม', 'อะไร']\n",
            "\n",
            "Original: เขาทำงานที่ไหน\n",
            "Processed: ['เขา', 'ทำงาน', 'ที่ไหน']\n",
            "\n",
            "Original: ขอโทษ พูดช้าลงหน่อยได้ไหม\n",
            "Processed: ['ขอโทษ', 'พูด', 'ช้า', 'ลง']\n",
            "\n",
            "Original: พูดอีกทีได้ไหม\n",
            "Processed: ['พูด', 'อีกที']\n",
            "\n",
            "Original: เขามีเวลาว่างทุกวันเสาร์\n",
            "Processed: ['เขา', 'มี', 'เวลา', 'ว่าง', 'วันเสาร์']\n",
            "\n",
            "Original: เมื่อวานนี้ไปทำงาน\n",
            "Processed: ['เมื่อวานนี้', 'ไป', 'ทำงาน']\n",
            "\n",
            "Original: หนึ่งสัปดาห์หน้าจะเรียนภาษาไทย\n",
            "Processed: ['หนึ่งสัปดาห์หน้า', 'เรียน', 'ภาษาไทย']\n",
            "\n",
            "Original: หนึ่งสัปดาห์ที่แล้วกลับบ้านช้าทุกวัน\n",
            "Processed: ['หนึ่งสัปดาห์ที่แล้ว', 'กลับบ้าน', 'ช้า', 'ทุกวัน']\n",
            "\n",
            "Original: อีกสามปีจะกลับประเทศไทย\n",
            "Processed: ['อีก', 'สาม', 'ปี', 'กลับ', 'ประเทศไทย']\n",
            "\n",
            "Original: ตอนเที่ยงกินข้าวมันไก่แล้ว\n",
            "Processed: ['ตอนเที่ยง', 'กิน', 'ข้าวมันไก่', 'แล้ว']\n",
            "\n",
            "Original: ผมพบกับแฟนที่สวนสัตว์\n",
            "Processed: ['ผม', 'พบ', 'แฟน', 'สวนสัตว์']\n",
            "\n",
            "Original: ตอนนี้เวลากี่โมง\n",
            "Processed: ['ตอนนี้', 'เวลา', 'กี่โมง']\n",
            "\n",
            "Original: คุณกินข้าวเช้ากี่โมง\n",
            "Processed: ['คุณ', 'กิน', 'ข้าว', 'เช้า', 'กี่โมง']\n",
            "\n",
            "Original: เขามาช้า\n",
            "Processed: ['เขา', 'มาสาย']\n",
            "\n",
            "Original: ผมเรียนภาษาไทยเริ่มจากเวลาบ่ายโมง\n",
            "Processed: ['ผม', 'เรียน', 'ภาษาไทย', 'เริ่ม', 'เวลา', 'บ่ายโมง']\n",
            "\n",
            "Original: ผมอ่านหนังสืออยู่ตอนนี้\n",
            "Processed: ['ผม', 'อ่าน', 'หนังสือ', 'อยู่', 'ตอนนี้']\n",
            "\n",
            "Original: เขาจะไปสนามบินเวลาเที่ยงตรง\n",
            "Processed: ['เขา', 'ไป', 'สนามบิน', 'เวลา', 'เที่ยง', 'ตรง']\n",
            "\n",
            "Original: ผมจะทำอาหารไทยตอนเที่ยง\n",
            "Processed: ['ผม', 'ทำ', 'อาหาร', 'ไทย', 'ตอนเที่ยง']\n",
            "\n",
            "Original: สามารถไปเข้าห้องน้ำได้ห้านาที\n",
            "Processed: ['สามารถ', 'ไป', 'เข้า', 'ห้องน้ำ', 'ห้า', 'นาที']\n",
            "\n",
            "Original: ผมทำงานห้าชั่วโมง\n",
            "Processed: ['ผม', 'ทำงาน', 'ห้า', 'ชั่วโมง']\n",
            "\n",
            "Original: อีกสิบนาทีจะกลับบ้าน\n",
            "Processed: ['อีก', 'สิบ', 'นาที', 'กลับบ้าน']\n",
            "\n",
            "Original: พรุ่งนี้ดิฉันทำงานเวลาเช้า\n",
            "Processed: ['พรุ่งนี้', 'ดิฉัน', 'ทำงาน', 'เวลา', 'เช้า']\n",
            "\n",
            "Original: คุณจะไปธนาคารกี่โมง\n",
            "Processed: ['คุณ', 'ไป', 'ธนาคาร', 'กี่โมง']\n",
            "\n",
            "Original: วันนี้วันหยุด ทำอะไรดี\n",
            "Processed: ['วันนี้', 'วันหยุด', 'ทำ', 'อะไร', 'ดี']\n",
            "\n",
            "Original: พรุ่งนี้วันอาทิตย์\n",
            "Processed: ['พรุ่งนี้', 'วันอาทิตย์']\n",
            "\n",
            "Original: สิ้นเดือนแล้วเงินเดือนออก\n",
            "Processed: ['สิ้นเดือน', 'แล้ว', 'เงินเดือน', 'ออก']\n",
            "\n",
            "Original: วันปีใหม่ไปเที่ยวที่ไหน\n",
            "Processed: ['วันปีใหม่', 'ไปเที่ยว', 'ที่ไหน']\n",
            "\n",
            "Original: คุณจะไปประเทศไทยเดือนอะไร\n",
            "Processed: ['คุณ', 'ไป', 'ประเทศไทย', 'เดือน', 'อะไร']\n",
            "\n",
            "Original: วันหยุดนี้คุณจะทำอะไร\n",
            "Processed: ['วันหยุด', 'คุณ', 'ทำ', 'อะไร']\n",
            "\n",
            "Original: เมื่อวานนี้คุณทำอะไร\n",
            "Processed: ['เมื่อวานนี้', 'คุณ', 'ทำ', 'อะไร']\n",
            "\n",
            "Original: ผมอยู่ประเทศไทยนานหกปีแล้ว\n",
            "Processed: ['ผม', 'อยู่', 'ประเทศไทย', 'นาน', 'หก', 'ปี', 'แล้ว']\n",
            "\n",
            "Original: หนึ่งสัปดาห์หน้าจะทำอะไร\n",
            "Processed: ['หนึ่งสัปดาห์หน้า', 'ทำ', 'อะไร']\n",
            "\n",
            "Original: เมื่อวานซืนคุยโทรศัพท์กับแฟนสองชั่วโมง\n",
            "Processed: ['เมื่อวานซืน', 'คุย', 'โทรศัพท์', 'แฟน', 'สอง', 'ชั่วโมง']\n",
            "\n",
            "Original: เขาไปทำงานแต่เช้า\n",
            "Processed: ['เขา', 'ไป', 'ทำงาน', 'เช้า']\n",
            "\n",
            "Original: วันเสาร์ฉันชอบไปเดินเล่น\n",
            "Processed: ['วันเสาร์', 'ฉัน', 'ชอบ', 'ไป', 'เดิน', 'เล่น']\n",
            "\n",
            "Original: ผมกลับประเทศอังกฤษเดือนธันวาคม\n",
            "Processed: ['ผม', 'กลับ', 'ประเทศ', 'อังกฤษ', 'เดือน', 'ธันวาคม']\n",
            "\n",
            "Original: คุณไปออกกำลังกายกี่โมง\n",
            "Processed: ['คุณ', 'ไป', 'ออกกำลังกาย', 'กี่โมง']\n",
            "\n",
            "Original: คุณกินข้าวหรือยัง\n",
            "Processed: ['คุณ', 'กิน', 'ข้าว', 'หรือ', 'ยัง']\n",
            "\n",
            "Original: คุณอยากทำอะไร\n",
            "Processed: ['คุณ', 'อยาก', 'ทำ', 'อะไร']\n",
            "\n",
            "Original: ฉันเคยไปประเทศเม็กซิโก\n",
            "Processed: ['ฉัน', 'เคย', 'ไป', 'ประเทศ', 'เม็กซิโก']\n",
            "\n",
            "Original: อากาศร้อน เมื่อไรจะเข้าฤดูหนาว\n",
            "Processed: ['อากาศ', 'ร้อน', 'เมื่อไร', 'เข้า', 'ฤดู', 'หนาว']\n",
            "\n",
            "Original: คุณพ่อไปกินข้าวที่ร้านอาหาร\n",
            "Processed: ['คุณ', 'พ่อ', 'ไป', 'กิน', 'ข้าว', 'ร้านอาหาร']\n",
            "\n",
            "Original: ปกติคุณไปทำงานยังไง\n",
            "Processed: ['ปกติ', 'คุณ', 'ไป', 'ทำงาน']\n",
            "\n",
            "Original: ไปที่ไหนมา\n",
            "Processed: ['ไป', 'ที่ไหน', 'มา']\n",
            "\n",
            "Original: ผมอยากไปหาคุณ\n",
            "Processed: ['ผม', 'อยาก', 'ไปหา', 'คุณ']\n",
            "\n",
            "Original: ฝนตกหนักมาก\n",
            "Processed: ['ฝนตกหนัก', 'มาก']\n",
            "\n",
            "Original: ผมขับรถยนต์ไปทำงาน\n",
            "Processed: ['ผม', 'ขับรถ', 'รถยนต์', 'ไป', 'ทำงาน']\n",
            "\n",
            "Original: ผมชอบคุยกับคนไทย\n",
            "Processed: ['ผม', 'ชอบ', 'คุย', 'คน', 'ไทย']\n",
            "\n",
            "Original: ประเทศไทยไม่มีหิมะตก\n",
            "Processed: ['ประเทศไทย', 'ไม่มี', 'หิมะ', 'ตก']\n",
            "\n",
            "Original: ภูเขาเดี๋ยวนี้ไม่มีต้นไม้\n",
            "Processed: ['ภูเขา', 'เดี๋ยวนี้', 'ไม่มี', 'ต้นไม้']\n",
            "\n",
            "Original: ที่บ้านไม่มีคนอยู่\n",
            "Processed: ['บ้าน', 'ไม่มี', 'คน', 'อยู่']\n",
            "\n",
            "Original: วันนี้มีไปทำธุระ\n",
            "Processed: ['วันนี้', 'มี', 'ไป', 'ทำ', 'ธุระ']\n",
            "\n",
            "Original: ผมทานข้าวแล้ว\n",
            "Processed: ['ผม', 'กิน', 'ข้าว', 'แล้ว']\n",
            "\n",
            "Original: ผมยังไม่ทานข้าว\n",
            "Processed: ['ผม', 'ยัง', 'ไม่กิน', 'ข้าว']\n",
            "\n",
            "Original: ฉันนั่งร้องเพลงคาราโอเกะ\n",
            "Processed: ['ฉัน', 'นั่ง', 'ร้องเพลงคาราโอเกะ']\n",
            "\n",
            "Original: เขายืนคุยกับคุณ\n",
            "Processed: ['เขา', 'ยืน', 'คุย', 'คุณ']\n",
            "\n",
            "Original: ผมชอบนั่งอ่านหนังสือที่บ้าน\n",
            "Processed: ['ผม', 'ชอบ', 'นั่ง', 'อ่าน', 'หนังสือ', 'บ้าน']\n",
            "\n",
            "Original: พรุ่งนี้อยากไปเที่ยวกับแฟน\n",
            "Processed: ['พรุ่งนี้', 'อยาก', 'ไปเที่ยว', 'แฟน']\n",
            "\n",
            "Original: เขายังไม่อยากเรียนภาษาไทยตอนนี้\n",
            "Processed: ['เขา', 'ยัง', 'ไม่', 'อยาก', 'เรียน', 'ภาษาไทย', 'ตอนนี้']\n",
            "\n",
            "Original: วันนี้ไม่อยากทำอะไร\n",
            "Processed: ['วันนี้', 'ไม่', 'อยาก', 'ทำ', 'อะไร']\n",
            "\n",
            "Original: นี่ใคร\n",
            "Processed: ['นี่', 'ใคร']\n",
            "\n",
            "Original: ฉันไปว่ายน้ำออกกำลังกาย\n",
            "Processed: ['ฉัน', 'ไป', 'ว่ายน้ำ', 'ออกกำลังกาย']\n",
            "\n",
            "Original: จำผมได้ไหม\n",
            "Processed: ['จำ', 'ผม']\n",
            "\n",
            "Original: ได้ยินฉันไหม\n",
            "Processed: ['ได้ยิน', 'ฉัน']\n",
            "\n",
            "Original: มองเห็นเขาไหม\n",
            "Processed: ['มอง', 'เห็น', 'เขา']\n",
            "\n",
            "Original: รู้จักเขาไหม\n",
            "Processed: ['รู้จัก', 'เขา']\n",
            "\n",
            "Original: ทำงานเสร็จแล้ว\n",
            "Processed: ['ทำงาน', 'เสร็จแล้ว']\n",
            "\n",
            "Original: เมื่อวานนี้นอนหลับไม่ดี\n",
            "Processed: ['เมื่อวานนี้', 'นอนหลับ', 'ไม่ดี']\n",
            "\n",
            "Original: ง่วงนอนต้องการดื่มกาแฟ\n",
            "Processed: ['ง่วงนอน', 'ต้องการ', 'ดื่ม', 'กาแฟ']\n",
            "\n",
            "Original: เขาฟังภาษาไทยไม่ได้\n",
            "Processed: ['เขา', 'ฟัง', 'ภาษาไทย', 'ไม่']\n",
            "\n",
            "Original: ผมอ่านหนังสือภาษาไทยยังไม่ได้\n",
            "Processed: ['ผม', 'อ่าน', 'หนังสือ', 'ภาษาไทย', 'ยัง', 'ไม่']\n",
            "\n",
            "Original: กินเผ็ดไม่ได้\n",
            "Processed: ['กิน', 'เผ็ด', 'ไม่']\n",
            "\n",
            "Original: ไปประเทศไทยไม่ได้\n",
            "Processed: ['ไป', 'ประเทศไทย', 'ไม่']\n",
            "\n",
            "Original: ผมคิดถึงคุณมาก\n",
            "Processed: ['ผม', 'คิดถึง', 'คุณ', 'มาก']\n",
            "\n",
            "Original: เขามองดูทะเล\n",
            "Processed: ['เขา', 'มองดู', 'ทะเล']\n",
            "\n",
            "Original: ผมพูดภาษาไทยได้นิดหน่อย\n",
            "Processed: ['ผม', 'พูด', 'ภาษาไทย', 'นิดหน่อย']\n",
            "\n",
            "Original: เขาอ่านภาษาอังกฤษไม่ผิดเลย\n",
            "Processed: ['เขา', 'อ่าน', 'ภาษาอังกฤษ', 'ไม่', 'ผิด']\n",
            "\n",
            "Original: อาหารไทยอร่อยมาก\n",
            "Processed: ['อาหาร', 'ไทย', 'อร่อย', 'มาก']\n",
            "\n",
            "Original: คุณจะไปประเทศไทยเดือนอะไร\n",
            "Processed: ['คุณ', 'ไป', 'ประเทศไทย', 'เดือน', 'อะไร']\n",
            "\n",
            "Original: เขาชื่อเล่นอะไร\n",
            "Processed: ['เขา', 'ชื่อเล่น', 'อะไร']\n",
            "\n",
            "Original: พรุ่งนี้จะไปตัดผม\n",
            "Processed: ['พรุ่งนี้', 'ไป', 'ตัด', 'ผม']\n",
            "\n",
            "Original: ผมโกนหนวดทุกวันเวลาเช้า\n",
            "Processed: ['ผม', 'โกนหนวด', 'ทุกวัน', 'เวลา', 'เช้า']\n",
            "\n",
            "Original: คนไทยชอบอาบน้ำ\n",
            "Processed: ['คน', 'ไทย', 'ชอบ', 'อาบน้ำ']\n",
            "\n",
            "Original: จะไปซื้อสบู่กับยาสีฟัน\n",
            "Processed: ['ไป', 'ซื้อ', 'สบู่', 'ยาสีฟัน']\n",
            "\n",
            "Original: เขาชอบซื้อเสื้อแขนยาว\n",
            "Processed: ['เขา', 'ชอบ', 'ซื้อ', 'เสื้อแขนยาว']\n",
            "\n",
            "Original: ครอบครัวคุณมีกี่คน\n",
            "Processed: ['ครอบครัว', 'คุณ', 'มี', 'คน']\n",
            "\n",
            "Original: คุณทำงานอะไร\n",
            "Processed: ['คุณ', 'ทำงาน', 'อะไร']\n",
            "\n",
            "Original: คุณแต่งงานหรือยัง\n",
            "Processed: ['คุณ', 'แต่งงาน', 'หรือ', 'ยัง']\n",
            "\n",
            "Original: คุณมีลูกหรือยัง\n",
            "Processed: ['คุณ', 'มีลูก', 'หรือ', 'ยัง']\n",
            "\n",
            "Original: คุณอายุกี่ปี\n",
            "Processed: ['คุณ', 'อายุ', 'ปี']\n",
            "\n",
            "Original: บ้านคุณมีแมวไหม\n",
            "Processed: ['บ้าน', 'คุณ', 'มี', 'แมว']\n",
            "\n",
            "Original: ใครเป็นครูภาษาไทย\n",
            "Processed: ['ใคร', 'ครู', 'ภาษาไทย']\n",
            "\n",
            "Original: ทำไมคุณเรียนภาษาไทย\n",
            "Processed: ['ทำไม', 'คุณ', 'เรียน', 'ภาษาไทย']\n",
            "\n",
            "Original: ทำไมคุณไม่มาวัดหนึ่งสัปดาห์ที่แล้ว\n",
            "Processed: ['ทำไม', 'คุณ', 'ไม่', 'มา', 'วัด', 'หนึ่งสัปดาห์ที่แล้ว']\n",
            "\n",
            "Original: ถ้าคุณรวย คุณอยากจะทำอะไร\n",
            "Processed: ['ถ้า', 'คุณ', 'รวย', 'คุณ', 'อยาก', 'ทำ', 'อะไร']\n",
            "\n",
            "Original: ถ้าฝนตกควรทำอะไรดี\n",
            "Processed: ['ถ้า', 'ฝนตก', 'ทำ', 'อะไร', 'ดี']\n",
            "\n",
            "Original: วันนี้อยากไปหาหมอฟัน\n",
            "Processed: ['วันนี้', 'อยาก', 'ไปหา', 'หมอฟัน']\n",
            "\n",
            "Original: ผมมีลุงที่อยู่อังกฤษ\n",
            "Processed: ['ผม', 'มี', 'ลุง', 'อยู่', 'อังกฤษ']\n",
            "\n",
            "Original: เขามีครอบครัวอยู่ที่ไทย\n",
            "Processed: ['เขา', 'มี', 'ครอบครัว', 'อยู่', 'ไทย']\n",
            "\n",
            "Original: ผมอยากแต่งงานกับคุณ\n",
            "Processed: ['ผม', 'อยาก', 'แต่งงาน', 'คุณ']\n",
            "\n",
            "Original: ผมรักคุณมาก\n",
            "Processed: ['ผม', 'รัก', 'คุณ', 'มาก']\n",
            "\n",
            "Original: เขาสูงมาก\n",
            "Processed: ['เขา', 'สูง', 'มาก']\n",
            "\n",
            "Original: คุณเรียนภาษาไทยกี่ชั่วโมง\n",
            "Processed: ['คุณ', 'เรียน', 'ภาษาไทย', 'ชั่วโมง']\n",
            "\n",
            "Original: ผมชอบสีขาวมากกว่าสีดำ\n",
            "Processed: ['ผม', 'ชอบ', 'สีขาว', 'สีดำ']\n",
            "\n",
            "Original: เครื่องบินลำนี้ใหญ่มาก\n",
            "Processed: ['เครื่องบิน', 'ลำ', 'ใหญ่', 'มาก']\n",
            "\n",
            "Original: เขารักเธอมาก\n",
            "Processed: ['เขา', 'รัก', 'มาก']\n",
            "\n",
            "Original: เขาเกลียดคุณเพราะคุณชอบโกหก\n",
            "Processed: ['เขา', 'เกลียด', 'คุณ', 'คุณ', 'ชอบ', 'โกหก']\n",
            "\n",
            "Original: เสื้อยืดตัวนี้ไม่แพง\n",
            "Processed: ['เสื้อยืด', 'ตัว', 'ไม่', 'แพง']\n",
            "\n",
            "Original: ใครเขียนหนังสือสวย\n",
            "Processed: ['ใคร', 'เขียน', 'หนังสือ', 'สวย']\n",
            "\n",
            "Original: คุณชอบไปเที่ยวที่ไหน\n",
            "Processed: ['คุณ', 'ชอบ', 'ไปเที่ยว', 'ที่ไหน']\n",
            "\n",
            "Original: วันนี้กินกล้วยหอม\n",
            "Processed: ['วันนี้', 'กิน', 'กล้วยหอม']\n",
            "\n",
            "Original: เมื่อวานนี้คุณอ่านหนังสืออะไร\n",
            "Processed: ['เมื่อวานนี้', 'คุณ', 'อ่าน', 'หนังสือ', 'อะไร']\n",
            "\n",
            "Original: ผมมีทีวีสามเครื่อง คอมพิวเตอร์หนึ่งเครื่อง\n",
            "Processed: ['ผม', 'มี', 'ทีวี', 'สาม', 'เครื่อง', 'คอมพิวเตอร์', 'หนึ่ง', 'เครื่อง']\n",
            "\n",
            "Original: นั่งเครื่องบินมาลงกรุงเทพฯ\n",
            "Processed: ['นั่ง', 'เครื่องบิน', 'มา', 'ลง', 'กรุงเทพฯ']\n",
            "\n",
            "Original: ผมซื้อบ้านใหม่\n",
            "Processed: ['ผม', 'ซื้อ', 'บ้าน', 'ใหม่']\n",
            "\n",
            "Original: เนื้อชิ้นนี้อร่อยมาก\n",
            "Processed: ['เนื้อ', 'ชิ้น', 'อร่อย', 'มาก']\n",
            "\n",
            "Original: ดอกไม้ดอกนี้สวยมาก\n",
            "Processed: ['ดอกไม้', 'ดอก', 'สวย', 'มาก']\n",
            "\n",
            "Original: มีอาหารหกจานอยู่บนโต๊ะ\n",
            "Processed: ['มี', 'อาหาร', 'หก', 'จาน', 'อยู่', 'บน', 'โต๊ะ']\n",
            "\n"
          ]
        }
      ],
      "source": [
        "from pythainlp.tokenize import Tokenizer, word_tokenize\n",
        "from pythainlp.corpus.common import thai_stopwords, thai_words\n",
        "\n",
        "# Example sentences list\n",
        "sentences = [\n",
        "     \"นี่หนังสือใช่ไหม\", \"นั่นสมุดใช่ไหม\", \"นี่อะไร\", \"นี่นาฬิกาหรือปากกา\", \"คุณเข้าใจไหม\",\n",
        "     \"ฉันขอโทษ\", \"ขอบคุณนะพี่ชาย\", \"โทรศัพท์อยู่ที่ไหน\", \"คุณเป็นคนที่ไหน\", \"ขายราคาเท่าไร\",\n",
        "     \"โทรศัพท์อยู่บนโต๊ะใช่ไหม\", \"เขาเป็นคนญี่ปุ่นหรือคนเกาหลีใต้\", \"ภาษาไทยยากไหม\", \"ภาษาไทยง่าย\",\n",
        "     \"ราคาแพง\", \"หนังสืออยู่บนเก้าอี้\", \"คุณชอบอาหารอะไร\", \"คุณชอบอาหารจีนไหม\", \"คุณชอบอาหารไทยหรืออาหารจีน\",\n",
        "    \"คุณอ่านภาษาไทยได้ไหม\", \"คุณเขียนภาษาไทยได้ไหม\", \"คุณจะไปที่ไหน\", \"เขาชอบดื่มอะไร\", \"เขาทำงานที่ไหน\",\n",
        "    \"ขอโทษ พูดช้าลงหน่อยได้ไหม\", \"พูดอีกทีได้ไหม\", \"เขามีเวลาว่างทุกวันเสาร์\", \"เมื่อวานนี้ไปทำงาน\",\n",
        "    \"หนึ่งสัปดาห์หน้าจะเรียนภาษาไทย\", \"หนึ่งสัปดาห์ที่แล้วกลับบ้านช้าทุกวัน\", \"อีกสามปีจะกลับประเทศไทย\",\n",
        "    \"ตอนเที่ยงกินข้าวมันไก่แล้ว\", \"ผมพบกับแฟนที่สวนสัตว์\", \"ตอนนี้เวลากี่โมง\", \"คุณกินข้าวเช้ากี่โมง\",\n",
        "    \"เขามาช้า\", \"ผมเรียนภาษาไทยเริ่มจากเวลาบ่ายโมง\", \"ผมอ่านหนังสืออยู่ตอนนี้\", \"เขาจะไปสนามบินเวลาเที่ยงตรง\",\n",
        "    \"ผมจะทำอาหารไทยตอนเที่ยง\", \"สามารถไปเข้าห้องน้ำได้ห้านาที\", \"ผมทำงานห้าชั่วโมง\", \"อีกสิบนาทีจะกลับบ้าน\",\n",
        "    \"พรุ่งนี้ดิฉันทำงานเวลาเช้า\", \"คุณจะไปธนาคารกี่โมง\", \"วันนี้วันหยุด ทำอะไรดี\", \"พรุ่งนี้วันอาทิตย์\",\n",
        "    \"สิ้นเดือนแล้วเงินเดือนออก\", \"วันปีใหม่ไปเที่ยวที่ไหน\", \"คุณจะไปประเทศไทยเดือนอะไร\", \"วันหยุดนี้คุณจะทำอะไร\",\n",
        "    \"เมื่อวานนี้คุณทำอะไร\", \"ผมอยู่ประเทศไทยนานหกปีแล้ว\", \"หนึ่งสัปดาห์หน้าจะทำอะไร\",\n",
        "    \"เมื่อวานซืนคุยโทรศัพท์กับแฟนสองชั่วโมง\", \"เขาไปทำงานแต่เช้า\", \"วันเสาร์ฉันชอบไปเดินเล่น\",\n",
        "    \"ผมกลับประเทศอังกฤษเดือนธันวาคม\", \"คุณไปออกกำลังกายกี่โมง\", \"คุณกินข้าวหรือยัง\", \"คุณอยากทำอะไร\",\n",
        "    \"ฉันเคยไปประเทศเม็กซิโก\", \"อากาศร้อน เมื่อไรจะเข้าฤดูหนาว\", \"คุณพ่อไปกินข้าวที่ร้านอาหาร\", \"ปกติคุณไปทำงานยังไง\",\n",
        "    \"ไปที่ไหนมา\", \"ผมอยากไปหาคุณ\", \"ฝนตกหนักมาก\", \"ผมขับรถยนต์ไปทำงาน\", \"ผมชอบคุยกับคนไทย\",\n",
        "    \"ประเทศไทยไม่มีหิมะตก\", \"ภูเขาเดี๋ยวนี้ไม่มีต้นไม้\", \"ที่บ้านไม่มีคนอยู่\", \"วันนี้มีไปทำธุระ\", \"ผมทานข้าวแล้ว\",\n",
        "    \"ผมยังไม่ทานข้าว\", \"ฉันนั่งร้องเพลงคาราโอเกะ\", \"เขายืนคุยกับคุณ\", \"ผมชอบนั่งอ่านหนังสือที่บ้าน\",\n",
        "    \"พรุ่งนี้อยากไปเที่ยวกับแฟน\", \"เขายังไม่อยากเรียนภาษาไทยตอนนี้\", \"วันนี้ไม่อยากทำอะไร\", \"นี่ใคร\",\n",
        "    \"ฉันไปว่ายน้ำออกกำลังกาย\", \"จำผมได้ไหม\", \"ได้ยินฉันไหม\", \"มองเห็นเขาไหม\", \"รู้จักเขาไหม\", \"ทำงานเสร็จแล้ว\",\n",
        "    \"เมื่อวานนี้นอนหลับไม่ดี\", \"ง่วงนอนต้องการดื่มกาแฟ\", \"เขาฟังภาษาไทยไม่ได้\", \"ผมอ่านหนังสือภาษาไทยยังไม่ได้\",\n",
        "    \"กินเผ็ดไม่ได้\", \"ไปประเทศไทยไม่ได้\", \"ผมคิดถึงคุณมาก\", \"เขามองดูทะเล\", \"ผมพูดภาษาไทยได้นิดหน่อย\",\n",
        "    \"เขาอ่านภาษาอังกฤษไม่ผิดเลย\", \"อาหารไทยอร่อยมาก\", \"คุณจะไปประเทศไทยเดือนอะไร\", \"เขาชื่อเล่นอะไร\",\n",
        "    \"พรุ่งนี้จะไปตัดผม\", \"ผมโกนหนวดทุกวันเวลาเช้า\", \"คนไทยชอบอาบน้ำ\", \"จะไปซื้อสบู่กับยาสีฟัน\",\n",
        "    \"เขาชอบซื้อเสื้อแขนยาว\", \"ครอบครัวคุณมีกี่คน\", \"คุณทำงานอะไร\", \"คุณแต่งงานหรือยัง\", \"คุณมีลูกหรือยัง\",\n",
        "    \"คุณอายุกี่ปี\", \"บ้านคุณมีแมวไหม\", \"ใครเป็นครูภาษาไทย\", \"ทำไมคุณเรียนภาษาไทย\", \"ทำไมคุณไม่มาวัดหนึ่งสัปดาห์ที่แล้ว\",\n",
        "    \"ถ้าคุณรวย คุณอยากจะทำอะไร\", \"ถ้าฝนตกควรทำอะไรดี\", \"วันนี้อยากไปหาหมอฟัน\", \"ผมมีลุงที่อยู่อังกฤษ\",\n",
        "    \"เขามีครอบครัวอยู่ที่ไทย\", \"ผมอยากแต่งงานกับคุณ\", \"ผมรักคุณมาก\", \"เขาสูงมาก\", \"คุณเรียนภาษาไทยกี่ชั่วโมง\",\n",
        "    \"ผมชอบสีขาวมากกว่าสีดำ\", \"เครื่องบินลำนี้ใหญ่มาก\", \"เขารักเธอมาก\", \"เขาเกลียดคุณเพราะคุณชอบโกหก\",\n",
        "    \"เสื้อยืดตัวนี้ไม่แพง\", \"ใครเขียนหนังสือสวย\", \"คุณชอบไปเที่ยวที่ไหน\", \"วันนี้กินกล้วยหอม\",\n",
        "    \"เมื่อวานนี้คุณอ่านหนังสืออะไร\", \"ผมมีทีวีสามเครื่อง คอมพิวเตอร์หนึ่งเครื่อง\",\n",
        "    \"นั่งเครื่องบินมาลงกรุงเทพฯ\", \"ผมซื้อบ้านใหม่\", \"เนื้อชิ้นนี้อร่อยมาก\", \"ดอกไม้ดอกนี้สวยมาก\",\n",
        "    \"มีอาหารหกจานอยู่บนโต๊ะ\"\n",
        "]\n",
        "# sentences = [\"วันนี้เธอกินข้าวหรือยัง\"]\n",
        "# Set of words that should not be filtered out (คำศัพท์ที่ไม่ควรตัดออก)\n",
        "important_words = {\n",
        "  \"นี่\", \"หนังสือ\", \"นั่น\", \"สมุด\", \"อะไร\", \"นาฬิกา\", \"หรือ\", \"ปากกา\", \"คุณ\", \"เข้าใจ\",\n",
        "    \"ฉัน\", \"ขอโทษ\", \"ขอบคุณ\", \"โทรศัพท์\", \"อยู่\", \"ที่ไหน\", \"คน\", \"ขาย\", \"ราคา\", \"บน\",\n",
        "    \"โต๊ะ\", \"ญี่ปุ่น\", \"เกาหลีใต้\", \"ภาษาไทย\", \"ยาก\", \"ง่าย\", \"แพง\", \"เก้าอี้\", \"ชอบ\",\n",
        "    \"อาหาร\", \"จีน\", \"ไทย\", \"อ่าน\", \"เขียน\", \"ไป\", \"ที่ไหน\", \"เขา\", \"ดื่ม\", \"ทำงาน\",\n",
        "    \"ขอโทษ\", \"พูด\", \"ช้า\", \"ลง\", \"อีก\", \"มี\", \"เวลา\", \"ว่าง\", \"ทุกวัน\", \"เสาร์\",\n",
        "    \"เมื่อวานนี้\", \"หนึ่งสัปดาห์หน้า\", \"เรียน\", \"หนึ่งสัปดาห์ที่แล้ว\", \"กลับบ้าน\", \"สาม\",\n",
        "    \"ปี\", \"กลับ\", \"ประเทศไทย\", \"ตอนเที่ยง\", \"กิน\", \"ข้าวมันไก่\", \"แล้ว\", \"ผม\", \"พบ\",\n",
        "    \"แฟน\", \"เริ่ม\", \"ตอนนี้\", \"กี่โมง\", \"ข้าว\", \"เช้า\", \"สี่\", \"สนามบิน\", \"พี่ชาย\",\n",
        "    \"สวนสัตว์\", \"อ่าน\", \"ตอนนี้\", \"เที่ยง\", \"ทำ\", \"ได้\", \"สามารถ\", \"ห้องน้ำ\", \"นาที\",\n",
        "    \"เข้า\", \"ห้า\", \"ชั่วโมง\", \"สิบ\", \"กลับบ้าน\", \"ดิฉัน\", \"พรุ่งนี้\", \"ธนาคาร\", \"วันนี้\",\n",
        "    \"วันหยุด\", \"ดี\", \"วันอาทิตย์\", \"สิ้นเดือน\", \"เงินเดือน\", \"ออก\", \"วันปีใหม่\", \"ไปเที่ยว\",\n",
        "    \"ที่ไหน\", \"เดือน\", \"เมื่อวานนี้\", \"นาน\", \"หนึ่งสัปดาห์หน้า\", \"เมื่อวานซืน\", \"คุย\",\n",
        "    \"วันเสาร์\", \"ชอบ\", \"เดิน\", \"เล่น\", \"อังกฤษ\", \"ธันวาคม\", \"ออกกำลังกาย\", \"กิน\",\n",
        "    \"ยัง\", \"เมื่อไร\", \"อยาก\", \"เคย\", \"เม็กซิโก\", \"อากาศ\", \"ร้อน\", \"ฤดู\", \"หนาว\",\n",
        "    \"พ่อ\", \"ที่ไหน\", \"หา\", \"มาก\", \"ขับรถ\", \"รถยนต์\", \"คุย\", \"ไทย\", \"ไม่มี\", \"หิมะ\",\n",
        "    \"ตก\", \"ภูเขา\", \"เดี๋ยวนี้\", \"ต้นไม้\", \"บ้าน\", \"คน\", \"ธุระ\", \"หา\", \"ไม่\", \"ไม่กิน\",\n",
        "    \"นั่ง\", \"ฟัง\", \"ร้องเพลงคาราโอเกะ\", \"ยืน\", \"ใคร\", \"ว่ายน้ำ\", \"ออกกำลังกาย\", \"จำ\",\n",
        "    \"ได้\", \"ได้ยิน\", \"มอง\", \"เห็น\", \"รู้จัก\", \"เสร็จแล้ว\", \"นอนหลับ\", \"ไม่ดี\", \"ง่วงนอน\",\n",
        "    \"ดื่ม\", \"กาแฟ\", \"ต้องการ\", \"เผ็ด\", \"คิดถึง\", \"มองดู\", \"ทะเล\", \"นิดหน่อย\",\n",
        "    \"ภาษาอังกฤษ\", \"ผิด\", \"อร่อย\", \"ชื่อเล่น\", \"ตัด\", \"ผม (เส้นผม)\", \"โกนหนวด\", \"เช้า\",\n",
        "    \"อาบน้ำ\", \"ซื้อ\", \"สบู่\", \"ยาสีฟัน\", \"เสื้อแขนยาว\", \"ครอบครัว\", \"แต่งงาน\", \"ลูก\",\n",
        "    \"อายุ\", \"แมว\", \"ครู\", \"ทำไม\", \"ถ้า\", \"รวย\", \"ฝนตก\", \"หมอ\", \"ฟัน\", \"ดิฉัน\",\n",
        "    \"ลุง\", \"รัก\", \"สูง\", \"เกลียด\", \"โกหก\", \"สวย\", \"กล้วยหอม\", \"สอง\", \"สาม\", \"คอมพิวเตอร์\",\n",
        "    \"หนึ่ง\", \"กรุงเทพฯ\", \"นั่ง\", \"ลง\", \"ใหม่\", \"ดอกไม้\",\"เท่าไร\"\n",
        "}\n",
        "\n",
        "# Custom function for lemmatization\n",
        "def get_lemma(word):\n",
        "    lemmas = {\n",
        "        \"มาช้า\": \"มาสาย\",\n",
        "        \"ขับ\": \"ขับรถ\",\n",
        "         \"ทาน\": \"กิน\",\n",
        "        \"ไม่ทาน\": \"ไม่กิน\",\n",
        "        \"ผม \": \"ผม (เส้นผม)\",\n",
        "        \"ไม่ทาน\": \"ไม่กิน\",\n",
        "        # Add more lemmas as needed\n",
        "    }\n",
        "    return lemmas.get(word, word)\n",
        "\n",
        "# Reordering for TSL (focus on time elements first)\n",
        "def reorder_to_tsl(words):\n",
        "    simplified_sentence = [word for word in words if word not in ['คือ', 'เป็น', 'จะ', 'ก็', 'ที่', 'นั้น', 'นี้','ได้']]\n",
        "\n",
        "    # Define common time-related words\n",
        "    time_words = ['วันนี้', 'พรุ่งนี้', 'เมื่อวาน', 'ตอนเช้า', 'ตอนเย็น', 'หนึ่งสัปดาห์หน้า']\n",
        "    time_elements = [word for word in simplified_sentence if word in time_words]\n",
        "    non_time_elements = [word for word in simplified_sentence if word not in time_words]\n",
        "\n",
        "    # Reorder by placing time elements first\n",
        "    reordered_sentence = time_elements + non_time_elements\n",
        "    return reordered_sentence  # Return as a list\n",
        "\n",
        "# Create a custom tokenizer by defining words to be used\n",
        "custom_words = set(thai_words())\n",
        "custom_words.discard(\"คนญี่ปุ่น\")\n",
        "custom_words.discard(\"ราคาแพง\")\n",
        "custom_words.discard(\"อาหารจีน\")\n",
        "custom_words.discard(\"เวลาว่าง\")\n",
        "custom_words.discard(\"กินข้าว\")\n",
        "custom_words.discard(\"อ่านหนังสือ\")\n",
        "custom_words.discard(\"เที่ยงตรง\")\n",
        "custom_words.discard(\"ทำอาหาร\")\n",
        "custom_words.discard(\"แต่เช้า\")\n",
        "custom_words.discard(\"เดินเล่น\")\n",
        "custom_words.discard(\"ฤดูหนาว\")\n",
        "custom_words.discard(\"คุณพ่อ\")\n",
        "custom_words.discard(\"ทานข้าว\")\n",
        "custom_words.discard(\"มองเห็น\")\n",
        "custom_words.discard(\"ตัดผม\")\n",
        "custom_words.discard(\"คนไทย\")\n",
        "custom_words.discard(\"ที่อยู่\")\n",
        "custom_words.discard(\"หรือยัง\")\n",
        "custom_words.discard(\"มีครอบครัว\")\n",
        "custom_words.discard(\"เขียนหนังสือ\")\n",
        "custom_words.discard(\"ยืดตัว\")\n",
        "custom_words.discard(\"ไม้ดอก\")\n",
        "custom_words.discard(\"\")\n",
        "\n",
        "custom_words.add(\"เมื่อวานนี้\")\n",
        "custom_words.add(\"หนึ่งสัปดาห์หน้า\")\n",
        "custom_words.add(\"หนึ่งสัปดาห์ที่แล้ว\")\n",
        "custom_words.add(\"ประเทศไทย\")\n",
        "custom_words.add(\"กี่โมง\")\n",
        "custom_words.add(\"มาช้า\")\n",
        "custom_words.add(\"วันปีใหม่\")\n",
        "custom_words.add(\"วันเสาร์\")\n",
        "custom_words.add(\"ฝนตกหนัก\")\n",
        "custom_words.add(\"ไม่มี\")\n",
        "custom_words.add(\"ร้องเพลงคาราโอเกะ\")\n",
        "custom_words.add(\"ไม่ทาน\")\n",
        "custom_words.add(\"เสร็จแล้ว\")\n",
        "custom_words.add(\"ไม่ดี\")\n",
        "custom_words.add(\"โกนหนวด\")\n",
        "custom_words.add(\"สีขาว\")\n",
        "custom_words.add(\"สีดำ\")\n",
        "custom_words.add(\"เสื้อยืด\")\n",
        "custom_words.add(\"\")\n",
        "custom_words.add(\"\")\n",
        "\n",
        "# Remove words that should not be in the dictionary\n",
        "custom_tokenizer = Tokenizer(custom_words)\n",
        "\n",
        "# Stopwords\n",
        "stopwords = set(thai_stopwords())\n",
        "stopwords.add(\"ไหม\")\n",
        "stopwords.add(\"กี่\")\n",
        "stopwords.add(\"\")\n",
        "stopwords.add(\"\")\n",
        "stopwords.add(\"\")\n",
        "\n",
        "stopwords.add(\" \")\n",
        "stopwords.discard(\"อยู่\")\n",
        "stopwords.discard(\"ตรง\")\n",
        "stopwords.discard(\"มา\")\n",
        "stopwords.discard(\"หรือยัง\")\n",
        "stopwords.discard(\"ยัง\")\n",
        "stopwords.discard(\"ได้\")\n",
        "stopwords.discard(\"ใหญ่\")\n",
        "stopwords.discard(\"ตัว\")\n",
        "stopwords.discard(\"\")\n",
        "stopwords.discard(\"\")\n",
        "\n",
        "\n",
        "# Process each sentence through tokenization, stopword removal, lemmatization, and reordering\n",
        "def process_sentence(sentence):\n",
        "    # Tokenization using custom tokenizer\n",
        "    tokens = custom_tokenizer.word_tokenize(sentence)\n",
        "\n",
        "    # Stopword filtering, but keeping important words\n",
        "    filtered_tokens = [token for token in tokens if token not in stopwords or token in important_words]\n",
        "\n",
        "    # Lemmatization\n",
        "    lemmatized_tokens = [get_lemma(token) for token in filtered_tokens]\n",
        "\n",
        "    # Sentence reordering for TSL\n",
        "    reordered_sentence = reorder_to_tsl(lemmatized_tokens)\n",
        "\n",
        "    return reordered_sentence\n",
        "\n",
        "# Process all sentences in the list\n",
        "processed_sentences_train = [process_sentence(sentence) for sentence in sentences]\n",
        "\n",
        " # Output the results\n",
        "for i, sentence in enumerate(processed_sentences_train):\n",
        "    print(f\"Original: {sentences[i]}\")\n",
        "    print(f\"Processed: {sentence}\\n\")"
      ]
    },
    {
      "cell_type": "code",
      "execution_count": 31,
      "metadata": {
        "colab": {
          "base_uri": "https://localhost:8080/"
        },
        "id": "SvGeQiiULQG1",
        "outputId": "e860eebf-9b33-414c-b062-af193cc2e26a"
      },
      "outputs": [
        {
          "output_type": "execute_result",
          "data": {
            "text/plain": [
              "[['นี่', 'หนังสือ'],\n",
              " ['นั่น', 'สมุด'],\n",
              " ['นี่', 'อะไร'],\n",
              " ['นี่', 'นาฬิกา', 'หรือ', 'ปากกา'],\n",
              " ['คุณ', 'เข้าใจ'],\n",
              " ['ฉัน', 'ขอโทษ'],\n",
              " ['ขอบคุณ', 'พี่ชาย'],\n",
              " ['โทรศัพท์', 'อยู่', 'ที่ไหน'],\n",
              " ['คุณ', 'คน', 'ที่ไหน'],\n",
              " ['ขาย', 'ราคา', 'เท่าไร'],\n",
              " ['โทรศัพท์', 'อยู่', 'บน', 'โต๊ะ'],\n",
              " ['เขา', 'คน', 'ญี่ปุ่น', 'หรือ', 'คน', 'เกาหลีใต้'],\n",
              " ['ภาษาไทย', 'ยาก'],\n",
              " ['ภาษาไทย', 'ง่าย'],\n",
              " ['ราคา', 'แพง'],\n",
              " ['หนังสือ', 'อยู่', 'บน', 'เก้าอี้'],\n",
              " ['คุณ', 'ชอบ', 'อาหาร', 'อะไร'],\n",
              " ['คุณ', 'ชอบ', 'อาหาร', 'จีน'],\n",
              " ['คุณ', 'ชอบ', 'อาหาร', 'ไทย', 'หรือ', 'อาหาร', 'จีน'],\n",
              " ['คุณ', 'อ่าน', 'ภาษาไทย'],\n",
              " ['คุณ', 'เขียน', 'ภาษาไทย'],\n",
              " ['คุณ', 'ไป', 'ที่ไหน'],\n",
              " ['เขา', 'ชอบ', 'ดื่ม', 'อะไร'],\n",
              " ['เขา', 'ทำงาน', 'ที่ไหน'],\n",
              " ['ขอโทษ', 'พูด', 'ช้า', 'ลง'],\n",
              " ['พูด', 'อีกที'],\n",
              " ['เขา', 'มี', 'เวลา', 'ว่าง', 'วันเสาร์'],\n",
              " ['เมื่อวานนี้', 'ไป', 'ทำงาน'],\n",
              " ['หนึ่งสัปดาห์หน้า', 'เรียน', 'ภาษาไทย'],\n",
              " ['หนึ่งสัปดาห์ที่แล้ว', 'กลับบ้าน', 'ช้า', 'ทุกวัน'],\n",
              " ['อีก', 'สาม', 'ปี', 'กลับ', 'ประเทศไทย'],\n",
              " ['ตอนเที่ยง', 'กิน', 'ข้าวมันไก่', 'แล้ว'],\n",
              " ['ผม', 'พบ', 'แฟน', 'สวนสัตว์'],\n",
              " ['ตอนนี้', 'เวลา', 'กี่โมง'],\n",
              " ['คุณ', 'กิน', 'ข้าว', 'เช้า', 'กี่โมง'],\n",
              " ['เขา', 'มาสาย'],\n",
              " ['ผม', 'เรียน', 'ภาษาไทย', 'เริ่ม', 'เวลา', 'บ่ายโมง'],\n",
              " ['ผม', 'อ่าน', 'หนังสือ', 'อยู่', 'ตอนนี้'],\n",
              " ['เขา', 'ไป', 'สนามบิน', 'เวลา', 'เที่ยง', 'ตรง'],\n",
              " ['ผม', 'ทำ', 'อาหาร', 'ไทย', 'ตอนเที่ยง'],\n",
              " ['สามารถ', 'ไป', 'เข้า', 'ห้องน้ำ', 'ห้า', 'นาที'],\n",
              " ['ผม', 'ทำงาน', 'ห้า', 'ชั่วโมง'],\n",
              " ['อีก', 'สิบ', 'นาที', 'กลับบ้าน'],\n",
              " ['พรุ่งนี้', 'ดิฉัน', 'ทำงาน', 'เวลา', 'เช้า'],\n",
              " ['คุณ', 'ไป', 'ธนาคาร', 'กี่โมง'],\n",
              " ['วันนี้', 'วันหยุด', 'ทำ', 'อะไร', 'ดี'],\n",
              " ['พรุ่งนี้', 'วันอาทิตย์'],\n",
              " ['สิ้นเดือน', 'แล้ว', 'เงินเดือน', 'ออก'],\n",
              " ['วันปีใหม่', 'ไปเที่ยว', 'ที่ไหน'],\n",
              " ['คุณ', 'ไป', 'ประเทศไทย', 'เดือน', 'อะไร'],\n",
              " ['วันหยุด', 'คุณ', 'ทำ', 'อะไร'],\n",
              " ['เมื่อวานนี้', 'คุณ', 'ทำ', 'อะไร'],\n",
              " ['ผม', 'อยู่', 'ประเทศไทย', 'นาน', 'หก', 'ปี', 'แล้ว'],\n",
              " ['หนึ่งสัปดาห์หน้า', 'ทำ', 'อะไร'],\n",
              " ['เมื่อวานซืน', 'คุย', 'โทรศัพท์', 'แฟน', 'สอง', 'ชั่วโมง'],\n",
              " ['เขา', 'ไป', 'ทำงาน', 'เช้า'],\n",
              " ['วันเสาร์', 'ฉัน', 'ชอบ', 'ไป', 'เดิน', 'เล่น'],\n",
              " ['ผม', 'กลับ', 'ประเทศ', 'อังกฤษ', 'เดือน', 'ธันวาคม'],\n",
              " ['คุณ', 'ไป', 'ออกกำลังกาย', 'กี่โมง'],\n",
              " ['คุณ', 'กิน', 'ข้าว', 'หรือ', 'ยัง'],\n",
              " ['คุณ', 'อยาก', 'ทำ', 'อะไร'],\n",
              " ['ฉัน', 'เคย', 'ไป', 'ประเทศ', 'เม็กซิโก'],\n",
              " ['อากาศ', 'ร้อน', 'เมื่อไร', 'เข้า', 'ฤดู', 'หนาว'],\n",
              " ['คุณ', 'พ่อ', 'ไป', 'กิน', 'ข้าว', 'ร้านอาหาร'],\n",
              " ['ปกติ', 'คุณ', 'ไป', 'ทำงาน'],\n",
              " ['ไป', 'ที่ไหน', 'มา'],\n",
              " ['ผม', 'อยาก', 'ไปหา', 'คุณ'],\n",
              " ['ฝนตกหนัก', 'มาก'],\n",
              " ['ผม', 'ขับรถ', 'รถยนต์', 'ไป', 'ทำงาน'],\n",
              " ['ผม', 'ชอบ', 'คุย', 'คน', 'ไทย'],\n",
              " ['ประเทศไทย', 'ไม่มี', 'หิมะ', 'ตก'],\n",
              " ['ภูเขา', 'เดี๋ยวนี้', 'ไม่มี', 'ต้นไม้'],\n",
              " ['บ้าน', 'ไม่มี', 'คน', 'อยู่'],\n",
              " ['วันนี้', 'มี', 'ไป', 'ทำ', 'ธุระ'],\n",
              " ['ผม', 'กิน', 'ข้าว', 'แล้ว'],\n",
              " ['ผม', 'ยัง', 'ไม่กิน', 'ข้าว'],\n",
              " ['ฉัน', 'นั่ง', 'ร้องเพลงคาราโอเกะ'],\n",
              " ['เขา', 'ยืน', 'คุย', 'คุณ'],\n",
              " ['ผม', 'ชอบ', 'นั่ง', 'อ่าน', 'หนังสือ', 'บ้าน'],\n",
              " ['พรุ่งนี้', 'อยาก', 'ไปเที่ยว', 'แฟน'],\n",
              " ['เขา', 'ยัง', 'ไม่', 'อยาก', 'เรียน', 'ภาษาไทย', 'ตอนนี้'],\n",
              " ['วันนี้', 'ไม่', 'อยาก', 'ทำ', 'อะไร'],\n",
              " ['นี่', 'ใคร'],\n",
              " ['ฉัน', 'ไป', 'ว่ายน้ำ', 'ออกกำลังกาย'],\n",
              " ['จำ', 'ผม'],\n",
              " ['ได้ยิน', 'ฉัน'],\n",
              " ['มอง', 'เห็น', 'เขา'],\n",
              " ['รู้จัก', 'เขา'],\n",
              " ['ทำงาน', 'เสร็จแล้ว'],\n",
              " ['เมื่อวานนี้', 'นอนหลับ', 'ไม่ดี'],\n",
              " ['ง่วงนอน', 'ต้องการ', 'ดื่ม', 'กาแฟ'],\n",
              " ['เขา', 'ฟัง', 'ภาษาไทย', 'ไม่'],\n",
              " ['ผม', 'อ่าน', 'หนังสือ', 'ภาษาไทย', 'ยัง', 'ไม่'],\n",
              " ['กิน', 'เผ็ด', 'ไม่'],\n",
              " ['ไป', 'ประเทศไทย', 'ไม่'],\n",
              " ['ผม', 'คิดถึง', 'คุณ', 'มาก'],\n",
              " ['เขา', 'มองดู', 'ทะเล'],\n",
              " ['ผม', 'พูด', 'ภาษาไทย', 'นิดหน่อย'],\n",
              " ['เขา', 'อ่าน', 'ภาษาอังกฤษ', 'ไม่', 'ผิด'],\n",
              " ['อาหาร', 'ไทย', 'อร่อย', 'มาก'],\n",
              " ['คุณ', 'ไป', 'ประเทศไทย', 'เดือน', 'อะไร'],\n",
              " ['เขา', 'ชื่อเล่น', 'อะไร'],\n",
              " ['พรุ่งนี้', 'ไป', 'ตัด', 'ผม'],\n",
              " ['ผม', 'โกนหนวด', 'ทุกวัน', 'เวลา', 'เช้า'],\n",
              " ['คน', 'ไทย', 'ชอบ', 'อาบน้ำ'],\n",
              " ['ไป', 'ซื้อ', 'สบู่', 'ยาสีฟัน'],\n",
              " ['เขา', 'ชอบ', 'ซื้อ', 'เสื้อแขนยาว'],\n",
              " ['ครอบครัว', 'คุณ', 'มี', 'คน'],\n",
              " ['คุณ', 'ทำงาน', 'อะไร'],\n",
              " ['คุณ', 'แต่งงาน', 'หรือ', 'ยัง'],\n",
              " ['คุณ', 'มีลูก', 'หรือ', 'ยัง'],\n",
              " ['คุณ', 'อายุ', 'ปี'],\n",
              " ['บ้าน', 'คุณ', 'มี', 'แมว'],\n",
              " ['ใคร', 'ครู', 'ภาษาไทย'],\n",
              " ['ทำไม', 'คุณ', 'เรียน', 'ภาษาไทย'],\n",
              " ['ทำไม', 'คุณ', 'ไม่', 'มา', 'วัด', 'หนึ่งสัปดาห์ที่แล้ว'],\n",
              " ['ถ้า', 'คุณ', 'รวย', 'คุณ', 'อยาก', 'ทำ', 'อะไร'],\n",
              " ['ถ้า', 'ฝนตก', 'ทำ', 'อะไร', 'ดี'],\n",
              " ['วันนี้', 'อยาก', 'ไปหา', 'หมอฟัน'],\n",
              " ['ผม', 'มี', 'ลุง', 'อยู่', 'อังกฤษ'],\n",
              " ['เขา', 'มี', 'ครอบครัว', 'อยู่', 'ไทย'],\n",
              " ['ผม', 'อยาก', 'แต่งงาน', 'คุณ'],\n",
              " ['ผม', 'รัก', 'คุณ', 'มาก'],\n",
              " ['เขา', 'สูง', 'มาก'],\n",
              " ['คุณ', 'เรียน', 'ภาษาไทย', 'ชั่วโมง'],\n",
              " ['ผม', 'ชอบ', 'สีขาว', 'สีดำ'],\n",
              " ['เครื่องบิน', 'ลำ', 'ใหญ่', 'มาก'],\n",
              " ['เขา', 'รัก', 'มาก'],\n",
              " ['เขา', 'เกลียด', 'คุณ', 'คุณ', 'ชอบ', 'โกหก'],\n",
              " ['เสื้อยืด', 'ตัว', 'ไม่', 'แพง'],\n",
              " ['ใคร', 'เขียน', 'หนังสือ', 'สวย'],\n",
              " ['คุณ', 'ชอบ', 'ไปเที่ยว', 'ที่ไหน'],\n",
              " ['วันนี้', 'กิน', 'กล้วยหอม'],\n",
              " ['เมื่อวานนี้', 'คุณ', 'อ่าน', 'หนังสือ', 'อะไร'],\n",
              " ['ผม', 'มี', 'ทีวี', 'สาม', 'เครื่อง', 'คอมพิวเตอร์', 'หนึ่ง', 'เครื่อง'],\n",
              " ['นั่ง', 'เครื่องบิน', 'มา', 'ลง', 'กรุงเทพฯ'],\n",
              " ['ผม', 'ซื้อ', 'บ้าน', 'ใหม่'],\n",
              " ['เนื้อ', 'ชิ้น', 'อร่อย', 'มาก'],\n",
              " ['ดอกไม้', 'ดอก', 'สวย', 'มาก'],\n",
              " ['มี', 'อาหาร', 'หก', 'จาน', 'อยู่', 'บน', 'โต๊ะ']]"
            ]
          },
          "metadata": {},
          "execution_count": 31
        }
      ],
      "source": [
        "processed_sentences_train"
      ]
    },
    {
      "cell_type": "code",
      "execution_count": 32,
      "metadata": {
        "colab": {
          "base_uri": "https://localhost:8080/"
        },
        "id": "bJUAOUgD2WDg",
        "outputId": "3515ea24-96ae-49ae-d611-3dc964db1cdb"
      },
      "outputs": [
        {
          "output_type": "stream",
          "name": "stdout",
          "text": [
            "Sentence-level Accuracy: 89.29%\n",
            "Predicted: ['นี่', 'หนังสือ']\n",
            "Ground Truth: ['นี่', 'หนังสือ']\n",
            "---\n",
            "Predicted: ['นั่น', 'สมุด']\n",
            "Ground Truth: ['นั่น', 'สมุด']\n",
            "---\n",
            "Predicted: ['นี่', 'อะไร']\n",
            "Ground Truth: ['นี่่', 'อะไร']\n",
            "---\n",
            "Predicted: ['นี่', 'นาฬิกา', 'หรือ', 'ปากกา']\n",
            "Ground Truth: ['นี่', 'นาฬิกา', 'หรือ', 'ปากกา']\n",
            "---\n",
            "Predicted: ['คุณ', 'เข้าใจ']\n",
            "Ground Truth: ['คุณ', 'เข้าใจ']\n",
            "---\n",
            "Predicted: ['ฉัน', 'ขอโทษ']\n",
            "Ground Truth: ['ฉัน', 'ขอโทษ']\n",
            "---\n",
            "Predicted: ['ขอบคุณ', 'พี่ชาย']\n",
            "Ground Truth: ['ขอบคุณ', 'พี่ชาย']\n",
            "---\n",
            "Predicted: ['โทรศัพท์', 'อยู่', 'ที่ไหน']\n",
            "Ground Truth: ['โทรศัพท์', 'อยู่', 'ที่ไหน']\n",
            "---\n",
            "Predicted: ['คุณ', 'คน', 'ที่ไหน']\n",
            "Ground Truth: ['คุณ', 'คน', 'ที่ี่ไหน']\n",
            "---\n",
            "Predicted: ['ขาย', 'ราคา', 'เท่าไร']\n",
            "Ground Truth: ['ขาย', 'ราคา', 'เท่าไร']\n",
            "---\n"
          ]
        }
      ],
      "source": [
        "import pandas as pd\n",
        "import numpy as np\n",
        "\n",
        "# Path to the ground truth file\n",
        "ground_truth_tokens_path = '/content/drive/MyDrive/Thesis/Project/ประโยคจากหนังสือ.xlsx'\n",
        "\n",
        "# Load the data from the Excel sheet (sheet_name=2 refers to the 3rd sheet)\n",
        "df = pd.read_excel(ground_truth_tokens_path, sheet_name=2)\n",
        "\n",
        "# Columns representing tokenized words\n",
        "selected_columns = ['word_1', 'word_2', 'word_3', 'word_4', 'word_5', 'word_6', 'word_7']\n",
        "\n",
        "# Extract the relevant columns\n",
        "df_selected = df[selected_columns]\n",
        "\n",
        "# Convert the DataFrame to a list of lists (ground truth tokens)\n",
        "ground_truth_tokens = df_selected.values.tolist()\n",
        "\n",
        "# Predicted tokens (ensure that processed_sentences_train is defined)\n",
        "predicted_tokens = processed_sentences_train  # Ensure this is a list of lists as well\n",
        "\n",
        "# ฟังก์ชันทำความสะอาดประโยคโดยการกำจัดค่า nan ออก\n",
        "def clean_tokens(tokens):\n",
        "    return [token for token in tokens if token is not np.nan]\n",
        "\n",
        "# ทำความสะอาดทั้ง predicted และ ground truth\n",
        "cleaned_predicted_tokens = [clean_tokens(pred) for pred in predicted_tokens]\n",
        "cleaned_ground_truth_tokens = [clean_tokens(gt) for gt in ground_truth_tokens]\n",
        "\n",
        "# ฟังก์ชันคำนวณความแม่นยำสำหรับแต่ละประโยค\n",
        "def calculate_sentence_accuracy(predicted, ground_truth):\n",
        "    correct_sentences = sum([pred == gt for pred, gt in zip(predicted, ground_truth)])\n",
        "    accuracy = correct_sentences / len(ground_truth) * 100\n",
        "    return accuracy\n",
        "\n",
        "# คำนวณความแม่นยำหลังทำความสะอาดข้อมูล\n",
        "accuracy = calculate_sentence_accuracy(cleaned_predicted_tokens, cleaned_ground_truth_tokens)\n",
        "\n",
        "# แสดงผล\n",
        "print(f\"Sentence-level Accuracy: {accuracy:.2f}%\")\n",
        "\n",
        "for i in range(10):\n",
        "    print(f\"Predicted: {cleaned_predicted_tokens[i]}\")\n",
        "    print(f\"Ground Truth: {cleaned_ground_truth_tokens[i]}\")\n",
        "    print(\"---\")"
      ]
    },
    {
      "cell_type": "code",
      "execution_count": 33,
      "metadata": {
        "id": "TAzZQYW0vB20"
      },
      "outputs": [],
      "source": [
        "from pythainlp.tokenize import Tokenizer, word_tokenize\n",
        "from pythainlp.corpus.common import thai_stopwords, thai_words\n",
        "\n",
        "sentences = [\n",
        "     \"นี่หนังสือใช่ไหม\", \"นั่นสมุดใช่ไหม\", \"นี่อะไร\", \"นี่นาฬิกาหรือปากกา\", \"คุณเข้าใจไหม\",\n",
        "     \"ฉันขอโทษ\", \"ขอบคุณนะพี่ชาย\", \"โทรศัพท์อยู่ที่ไหน\", \"คุณเป็นคนที่ไหน\", \"ขายราคาเท่าไร\",\n",
        "     \"โทรศัพท์อยู่บนโต๊ะใช่ไหม\", \"เขาเป็นคนญี่ปุ่นหรือคนเกาหลีใต้\", \"ภาษาไทยยากไหม\", \"ภาษาไทยง่าย\",\n",
        "     \"ราคาแพง\", \"หนังสืออยู่บนเก้าอี้\", \"คุณชอบอาหารอะไร\", \"คุณชอบอาหารจีนไหม\", \"คุณชอบอาหารไทยหรืออาหารจีน\",\n",
        "    \"คุณอ่านภาษาไทยได้ไหม\", \"คุณเขียนภาษาไทยได้ไหม\", \"คุณจะไปที่ไหน\", \"เขาชอบดื่มอะไร\", \"เขาทำงานที่ไหน\",\n",
        "    \"ขอโทษ พูดช้าลงหน่อยได้ไหม\", \"พูดอีกทีได้ไหม\", \"เขามีเวลาว่างทุกวันเสาร์\", \"เมื่อวานนี้ไปทำงาน\",\n",
        "    \"หนึ่งสัปดาห์หน้าจะเรียนภาษาไทย\", \"หนึ่งสัปดาห์ที่แล้วกลับบ้านช้าทุกวัน\", \"อีกสามปีจะกลับประเทศไทย\",\n",
        "    \"ตอนเที่ยงกินข้าวมันไก่แล้ว\", \"ผมพบกับแฟนที่สวนสัตว์\", \"ตอนนี้เวลากี่โมง\", \"คุณกินข้าวเช้ากี่โมง\",\n",
        "    \"เขามาช้า\", \"ผมเรียนภาษาไทยเริ่มจากเวลาบ่ายโมง\", \"ผมอ่านหนังสืออยู่ตอนนี้\", \"เขาจะไปสนามบินเวลาเที่ยงตรง\",\n",
        "    \"ผมจะทำอาหารไทยตอนเที่ยง\", \"สามารถไปเข้าห้องน้ำได้ห้านาที\", \"ผมทำงานห้าชั่วโมง\", \"อีกสิบนาทีจะกลับบ้าน\",\n",
        "    \"พรุ่งนี้ดิฉันทำงานเวลาเช้า\", \"คุณจะไปธนาคารกี่โมง\", \"วันนี้วันหยุด ทำอะไรดี\", \"พรุ่งนี้วันอาทิตย์\",\n",
        "    \"สิ้นเดือนแล้วเงินเดือนออก\", \"วันปีใหม่ไปเที่ยวที่ไหน\", \"คุณจะไปประเทศไทยเดือนอะไร\", \"วันหยุดนี้คุณจะทำอะไร\",\n",
        "    \"เมื่อวานนี้คุณทำอะไร\", \"ผมอยู่ประเทศไทยนานหกปีแล้ว\", \"หนึ่งสัปดาห์หน้าจะทำอะไร\",\n",
        "    \"เมื่อวานซืนคุยโทรศัพท์กับแฟนสองชั่วโมง\", \"เขาไปทำงานแต่เช้า\", \"วันเสาร์ฉันชอบไปเดินเล่น\",\n",
        "    \"ผมกลับประเทศอังกฤษเดือนธันวาคม\", \"คุณไปออกกำลังกายกี่โมง\", \"คุณกินข้าวหรือยัง\", \"คุณอยากทำอะไร\",\n",
        "    \"ฉันเคยไปประเทศเม็กซิโก\", \"อากาศร้อน เมื่อไรจะเข้าฤดูหนาว\", \"คุณพ่อไปกินข้าวที่ร้านอาหาร\", \"ปกติคุณไปทำงานยังไง\",\n",
        "    \"ไปที่ไหนมา\", \"ผมอยากไปหาคุณ\", \"ฝนตกหนักมาก\", \"ผมขับรถยนต์ไปทำงาน\", \"ผมชอบคุยกับคนไทย\",\n",
        "    \"ประเทศไทยไม่มีหิมะตก\", \"ภูเขาเดี๋ยวนี้ไม่มีต้นไม้\", \"ที่บ้านไม่มีคนอยู่\", \"วันนี้มีไปทำธุระ\", \"ผมทานข้าวแล้ว\",\n",
        "    \"ผมยังไม่ทานข้าว\", \"ฉันนั่งร้องเพลงคาราโอเกะ\", \"เขายืนคุยกับคุณ\", \"ผมชอบนั่งอ่านหนังสือที่บ้าน\",\n",
        "    \"พรุ่งนี้อยากไปเที่ยวกับแฟน\", \"เขายังไม่อยากเรียนภาษาไทยตอนนี้\", \"วันนี้ไม่อยากทำอะไร\", \"นี่ใคร\",\n",
        "    \"ฉันไปว่ายน้ำออกกำลังกาย\", \"จำผมได้ไหม\", \"ได้ยินฉันไหม\", \"มองเห็นเขาไหม\", \"รู้จักเขาไหม\", \"ทำงานเสร็จแล้ว\",\n",
        "    \"เมื่อวานนี้นอนหลับไม่ดี\", \"ง่วงนอนต้องการดื่มกาแฟ\", \"เขาฟังภาษาไทยไม่ได้\", \"ผมอ่านหนังสือภาษาไทยยังไม่ได้\",\n",
        "    \"กินเผ็ดไม่ได้\", \"ไปประเทศไทยไม่ได้\", \"ผมคิดถึงคุณมาก\", \"เขามองดูทะเล\", \"ผมพูดภาษาไทยได้นิดหน่อย\",\n",
        "    \"เขาอ่านภาษาอังกฤษไม่ผิดเลย\", \"อาหารไทยอร่อยมาก\", \"คุณจะไปประเทศไทยเดือนอะไร\", \"เขาชื่อเล่นอะไร\",\n",
        "    \"พรุ่งนี้จะไปตัดผม\", \"ผมโกนหนวดทุกวันเวลาเช้า\", \"คนไทยชอบอาบน้ำ\", \"จะไปซื้อสบู่กับยาสีฟัน\",\n",
        "    \"เขาชอบซื้อเสื้อแขนยาว\", \"ครอบครัวคุณมีกี่คน\", \"คุณทำงานอะไร\", \"คุณแต่งงานหรือยัง\", \"คุณมีลูกหรือยัง\",\n",
        "    \"คุณอายุกี่ปี\", \"บ้านคุณมีแมวไหม\", \"ใครเป็นครูภาษาไทย\", \"ทำไมคุณเรียนภาษาไทย\", \"ทำไมคุณไม่มาวัดหนึ่งสัปดาห์ที่แล้ว\",\n",
        "    \"ถ้าคุณรวย คุณอยากจะทำอะไร\", \"ถ้าฝนตกควรทำอะไรดี\", \"วันนี้อยากไปหาหมอฟัน\", \"ผมมีลุงที่อยู่อังกฤษ\",\n",
        "    \"เขามีครอบครัวอยู่ที่ไทย\", \"ผมอยากแต่งงานกับคุณ\", \"ผมรักคุณมาก\", \"เขาสูงมาก\", \"คุณเรียนภาษาไทยกี่ชั่วโมง\",\n",
        "    \"ผมชอบสีขาวมากกว่าสีดำ\", \"เครื่องบินลำนี้ใหญ่มาก\", \"เขารักเธอมาก\", \"เขาเกลียดคุณเพราะคุณชอบโกหก\",\n",
        "    \"เสื้อยืดตัวนี้ไม่แพง\", \"ใครเขียนหนังสือสวย\", \"คุณชอบไปเที่ยวที่ไหน\", \"วันนี้กินกล้วยหอม\",\n",
        "    \"เมื่อวานนี้คุณอ่านหนังสืออะไร\", \"ผมมีทีวีสามเครื่อง คอมพิวเตอร์หนึ่งเครื่อง\",\n",
        "    \"นั่งเครื่องบินมาลงกรุงเทพฯ\", \"ผมซื้อบ้านใหม่\", \"เนื้อชิ้นนี้อร่อยมาก\", \"ดอกไม้ดอกนี้สวยมาก\",\n",
        "    \"มีอาหารหกจานอยู่บนโต๊ะ\"\n",
        "]\n",
        "# Set of words that should not be filtered out (คำศัพท์ที่ไม่ควรตัดออก)\n",
        "important_words = {\n",
        "\n",
        "}\n",
        "\n",
        "# Custom function for lemmatization\n",
        "def get_lemma(word):\n",
        "    lemmas = {\n",
        "\n",
        "        # Add more lemmas as needed\n",
        "    }\n",
        "    return lemmas.get(word, word)\n",
        "\n",
        "# Reordering for TSL (focus on time elements first)\n",
        "def reorder_to_tsl(words):\n",
        "    simplified_sentence = [word for word in words if word not in ['คือ', 'เป็น', 'จะ', 'ก็', 'ที่', 'นั้น', 'นี้','ได้']]\n",
        "\n",
        "    # Define common time-related words\n",
        "    time_words = ['วันนี้', 'พรุ่งนี้', 'เมื่อวาน', 'ตอนเช้า', 'ตอนเย็น', 'หนึ่งสัปดาห์หน้า']\n",
        "    time_elements = [word for word in simplified_sentence if word in time_words]\n",
        "    non_time_elements = [word for word in simplified_sentence if word not in time_words]\n",
        "\n",
        "    # Reorder by placing time elements first\n",
        "    reordered_sentence = time_elements + non_time_elements\n",
        "    return reordered_sentence  # Return as a list\n",
        "\n",
        "# Create a custom tokenizer by defining words to be used\n",
        "# Remove words that should not be in the dictionary\n",
        "custom_tokenizer = Tokenizer(custom_words)\n",
        "\n",
        "# Stopwords\n",
        "stopwords = set(thai_stopwords())\n",
        "\n",
        "# Process each sentence through tokenization, stopword removal, lemmatization, and reordering\n",
        "def process_sentence(sentence):\n",
        "    # Tokenization using custom tokenizer\n",
        "    tokens = custom_tokenizer.word_tokenize(sentence)\n",
        "\n",
        "    # Stopword filtering, but keeping important words\n",
        "    filtered_tokens = [token for token in tokens if token not in stopwords or token in important_words]\n",
        "\n",
        "    # Lemmatization\n",
        "    lemmatized_tokens = [get_lemma(token) for token in filtered_tokens]\n",
        "\n",
        "    # Sentence reordering for TSL\n",
        "    reordered_sentence = reorder_to_tsl(lemmatized_tokens)\n",
        "\n",
        "    return reordered_sentence\n",
        "\n",
        "# Process all sentences in the list\n",
        "processed_sentences_train_notcostom = [process_sentence(sentence) for sentence in sentences]"
      ]
    },
    {
      "cell_type": "code",
      "execution_count": 34,
      "metadata": {
        "colab": {
          "base_uri": "https://localhost:8080/"
        },
        "id": "iqYTim6iI4WV",
        "outputId": "2949f0aa-834c-404b-d4f1-1d50b3e1a96e"
      },
      "outputs": [
        {
          "output_type": "stream",
          "name": "stdout",
          "text": [
            "Sentence-level Accuracy: 92.14%\n"
          ]
        }
      ],
      "source": [
        "predicted_tokens = processed_sentences_train\n",
        "ground_truth_tokens = [\n",
        "    ['นี่', 'หนังสือ'],\n",
        "    ['นั่น', 'สมุด'],\n",
        "    ['นี่', 'อะไร'],\n",
        "    ['นี่', 'นาฬิกา', 'หรือ', 'ปากกา'],\n",
        "    ['คุณ', 'เข้าใจ'],\n",
        "    ['ฉัน', 'ขอโทษ'],\n",
        "    ['ขอบคุณ', 'พี่ชาย'],\n",
        "    ['โทรศัพท์', 'อยู่', 'ที่ไหน'],\n",
        "    ['คุณ', 'คน', 'ที่ไหน'],\n",
        "    ['ขาย', 'ราคา', 'เท่าไร'],\n",
        "    ['โทรศัพท์', 'อยู่', 'บน', 'โต๊ะ'],\n",
        "    ['เขา', 'คน', 'ญี่ปุ่น', 'หรือ', 'คน', 'เกาหลีใต้'],\n",
        "    ['ภาษาไทย', 'ยาก'],\n",
        "    ['ภาษาไทย', 'ง่าย'],\n",
        "    ['ราคา', 'แพง'],\n",
        "    ['หนังสือ', 'อยู่', 'บน', 'เก้าอี้'],\n",
        "    ['คุณ', 'ชอบ', 'อาหาร', 'อะไร'],\n",
        "    ['คุณ', 'ชอบ', 'อาหาร', 'จีน'],\n",
        "    ['คุณ', 'ชอบ', 'อาหาร', 'ไทย', 'หรือ', 'อาหาร', 'จีน'],\n",
        "    ['คุณ', 'อ่าน', 'ภาษาไทย'],\n",
        "    ['คุณ', 'เขียน', 'ภาษาไทย'],\n",
        "    ['คุณ', 'ไป', 'ที่ไหน'],\n",
        "    ['เขา', 'ชอบ', 'ดื่ม', 'อะไร'],\n",
        "    ['เขา', 'ทำงาน', 'ที่ไหน'],\n",
        "    ['ขอโทษ', 'พูด', 'ช้า', 'ลง'],\n",
        "    ['พูด', 'อีกที'],\n",
        "    ['เขา', 'มี', 'เวลา', 'ว่าง', 'ทุกวัน', 'เสาร์'],\n",
        "    ['เมื่อวานนี้', 'ไป', 'ทำงาน'],\n",
        "    ['หนึ่งสัปดาห์หน้า', 'เรียน', 'ภาษาไทย'],\n",
        "    ['หนึ่งสัปดาห์ที่แล้ว', 'กลับบ้าน', 'ช้า', 'ทุกวัน'],\n",
        "    ['อีก', 'สาม', 'ปี', 'กลับ', 'ประเทศไทย'],\n",
        "    ['ตอนเที่ยง', 'กิน', 'ข้าวมันไก่', 'แล้ว'],\n",
        "    ['ผม', 'พบ', 'แฟน', 'สวนสัตว์'],\n",
        "    ['ตอนนี้', 'เวลา', 'กี่โมง'],\n",
        "    ['คุณ', 'กิน', 'ข้าว', 'เช้า', 'กี่โมง'],\n",
        "    ['เขา', 'มาสาย'],\n",
        "    ['ผม', 'เรียน', 'ภาษาไทย', 'เริ่ม', 'เวลา', 'บ่าย'],\n",
        "    ['ผม', 'อ่าน', 'หนังสือ', 'อยู่', 'ตอนนี้'],\n",
        "    ['เขา', 'ไป', 'สนามบิน', 'เวลา', 'เที่ยง', 'ตรง'],\n",
        "    ['ผม', 'ทำ', 'อาหาร', 'ไทย', 'ตอนเที่ยง'],\n",
        "    ['สามารถ', 'ไป', 'เข้า', 'ห้องน้ำ', 'ได้', 'ห้า', 'นาที'],\n",
        "    ['ผม', 'ทำงาน', 'ห้า', 'ชั่วโมง'],\n",
        "    ['อีก', 'สิบ', 'นาที', 'กลับบ้าน'],\n",
        "    ['พรุ่งนี้', 'ดิฉัน', 'ทำงาน', 'เวลา', 'เช้า'],\n",
        "    ['คุณ', 'ไป', 'ธนาคาร', 'กี่โมง'],\n",
        "    ['วันนี้', 'วันหยุด', 'ทำ', 'อะไร', 'ดี'],\n",
        "    ['พรุ่งนี้', 'วันอาทิตย์'],\n",
        "    ['', 'แล้ว', 'เงินเดือน', 'ออก'],\n",
        "    ['วันปีใหม่', 'ไปเที่ยว', 'ที่ไหน'],\n",
        "    ['คุณ', 'ไป', 'ประเทศไทย', 'เดือน', 'อะไร'],\n",
        "    ['วันหยุด', 'คุณ', 'ทำ', 'อะไร'],\n",
        "    ['เมื่อวานนี้', 'คุณ', 'ทำ', 'อะไร'],\n",
        "    ['ผม', 'อยู่', 'ประเทศไทย', 'นาน', 'หก', 'ปี', 'แล้ว'],\n",
        "    ['หนึ่งสัปดาห์หน้า', 'ทำ', 'อะไร'],\n",
        "    ['เมื่อวานซืน', 'คุย', 'โทรศัพท์', 'แฟน', 'สอง', 'ชั่วโมง'],\n",
        "    ['เขา', 'ไป', 'ทำงาน', 'เช้า'],\n",
        "    ['วันเสาร์', 'ฉัน', 'ชอบ', 'ไป', 'เดิน', 'เล่น'],\n",
        "    ['ผม', 'กลับ', 'ประเทศ', 'อังกฤษ', 'เดือน', 'ธันวาคม'],\n",
        "    ['คุณ', 'ไป', 'ออกกำลังกาย', 'กี่โมง'],\n",
        "    ['คุณ', 'กิน', 'ข้าว', 'หรือ', 'ยัง'],\n",
        "    ['คุณ', 'อยาก', 'ทำ', 'อะไร'],\n",
        "    ['ฉัน', 'เคย', 'ไป', 'ประเทศ', 'เม็กซิโก'],\n",
        "    ['อากาศ', 'ร้อน', 'เมื่อไร', 'เข้า', 'ฤดู', 'หนาว'],\n",
        "    ['คุณ', 'พ่อ', 'ไป', 'กิน', 'ข้าว', 'ร้าน', 'อาหาร'],\n",
        "    ['ปกติ', 'คุณ', 'ไป', 'ทำงาน'],\n",
        "    ['ไป', 'ที่ไหน', 'มา'],\n",
        "    ['ผม', 'อยาก', 'ไป', 'หา', 'คุณ'],\n",
        "    ['ฝนตกหนัก', 'มาก'],\n",
        "    ['ผม', 'ขับรถ', 'รถยนต์', 'ไป', 'ทำงาน'],\n",
        "    ['ผม', 'ชอบ', 'คุย', 'คน', 'ไทย'],\n",
        "    ['ประเทศไทย', 'ไม่มี', 'หิมะ', 'ตก'],\n",
        "    ['ภูเขา', 'เดี๋ยวนี้', 'ไม่มี', 'ต้นไม้'],\n",
        "    ['บ้าน', 'ไม่มี', 'คน', 'อยู่'],\n",
        "    ['วันนี้', 'มี', 'ไป', 'ทำ', 'ธุระ'],\n",
        "    ['ผม', 'กิน', 'ข้าว', 'แล้ว'],\n",
        "    ['ผม', 'ยัง', 'ไม่กิน', 'ข้าว'],\n",
        "    ['ฉัน', 'นั่ง', 'ร้องเพลงคาราโอเกะ'],\n",
        "    ['เขา', 'ยืน', 'คุย', 'คุณ'],\n",
        "    ['ผม', 'ชอบ', 'นั่ง', 'อ่าน', 'หนังสือ', 'บ้าน'],\n",
        "    ['พรุ่งนี้', 'อยาก', 'ไปเที่ยว', 'แฟน'],\n",
        "    ['เขา', 'ยัง', 'ไม่', 'อยาก', 'เรียน', 'ภาษาไทย', 'ตอนนี้'],\n",
        "    ['วันนี้', 'ไม่', 'อยาก', 'ทำ', 'อะไร'],\n",
        "    ['นี่', 'ใคร'],\n",
        "    ['ฉัน', 'ไป', 'ว่ายน้ำ', 'ออกกำลังกาย'],\n",
        "    ['จำ', 'ผม'],\n",
        "    ['ได้ยิน', 'ฉัน'],\n",
        "    ['มอง', 'เห็น', 'เขา'],\n",
        "    ['รู้จัก', 'เขา'],\n",
        "    ['ทำงาน', 'เสร็จแล้ว'],\n",
        "    ['เมื่อวานนี้', 'นอนหลับ', 'ไม่ดี'],\n",
        "    ['ง่วงนอน', 'ต้องการ', 'ดื่ม', 'กาแฟ'],\n",
        "    ['เขา', 'ฟัง', 'ภาษาไทย', 'ไม่'],\n",
        "    ['ผม', 'อ่าน', 'หนังสือ', 'ภาษาไทย', 'ยัง', 'ไม่'],\n",
        "    ['กิน', 'เผ็ด', 'ไม่'],\n",
        "    ['ไป', 'ประเทศไทย', 'ไม่'],\n",
        "    ['ผม', 'คิดถึง', 'คุณ', 'มาก'],\n",
        "    ['เขา', 'มองดู', 'ทะเล'],\n",
        "    ['ผม', 'พูด', 'ภาษาไทย', 'นิดหน่อย'],\n",
        "    ['เขา', 'อ่าน', 'ภาษาอังกฤษ', 'ไม่', 'ผิด'],\n",
        "    ['อาหาร', 'ไทย', 'อร่อย', 'มาก'],\n",
        "    ['คุณ', 'ไป', 'ประเทศไทย', 'เดือน', 'อะไร'],\n",
        "    ['เขา', 'ชื่อเล่น', 'อะไร'],\n",
        "    ['พรุ่งนี้', 'ไป', 'ตัด', 'ผม', '(เส้นผม)'],\n",
        "    ['ผม', 'โกนหนวด', 'ทุกวัน', 'เวลา', 'เช้า'],\n",
        "    ['คน', 'ไทย', 'ชอบ', 'อาบน้ำ'],\n",
        "    ['ไป', 'ซื้อ', 'สบู่', 'ยาสีฟัน'],\n",
        "    ['เขา', 'ชอบ', 'ซื้อ', 'เสื้อแขนยาว'],\n",
        "    ['ครอบครัว', 'คุณ', 'มี', 'คน'],\n",
        "    ['คุณ', 'ทำงาน', 'อะไร'],\n",
        "    ['คุณ', 'แต่งงาน', 'หรือ', 'ยัง'],\n",
        "    ['คุณ', 'มี', 'ลูก', 'หรือ', 'ยัง'],\n",
        "    ['คุณ', 'อายุ', 'ปี'],\n",
        "    ['บ้าน', 'คุณ', 'มี', 'แมว'],\n",
        "    ['ใคร', 'ครู', 'ภาษาไทย'],\n",
        "    ['ทำไม', 'คุณ', 'เรียน', 'ภาษาไทย'],\n",
        "    ['ทำไม', 'คุณ', 'ไม่', 'มา', 'วัด', 'หนึ่งสัปดาห์ที่แล้ว'],\n",
        "    ['ถ้า', 'คุณ', 'รวย', 'คุณ', 'อยาก', 'ทำ', 'อะไร'],\n",
        "    ['ถ้า', 'ฝนตก', 'ทำ', 'อะไร', 'ดี'],\n",
        "    ['วันนี้', 'อยาก', 'ไป', 'หา', 'หมอ', 'ฟัน'],\n",
        "    ['ผม', 'มี', 'ลุง', 'อยู่', 'อังกฤษ'],\n",
        "    ['เขา', 'มี', 'ครอบครัว', 'อยู่', 'ไทย'],\n",
        "    ['ผม', 'อยาก', 'แต่งงาน', 'คุณ'],\n",
        "    ['ผม', 'รัก', 'คุณ', 'มาก'],\n",
        "    ['เขา', 'สูง', 'มาก'],\n",
        "    ['คุณ', 'เรียน', 'ภาษาไทย', 'ชั่วโมง'],\n",
        "    ['ผม', 'ชอบ', 'สีขาว', 'มาก', 'สีดำ'],\n",
        "    ['เครื่องบิน', 'ลำ', 'ใหญ่', 'มาก'],\n",
        "    ['เขา', 'รัก', 'เธอ', 'มาก'],\n",
        "    ['เขา', 'เกลียด', 'คุณ', 'คุณ', 'ชอบ', 'โกหก'],\n",
        "    ['เสื้อยืด', 'ตัว', 'ไม่', 'แพง'],\n",
        "    ['ใคร', 'เขียน', 'หนังสือ', 'สวย'],\n",
        "    ['คุณ', 'ชอบ', 'ไปเที่ยว', 'ที่ไหน'],\n",
        "    ['วันนี้', 'กิน', 'กล้วยหอม'],\n",
        "    ['เมื่อวานนี้', 'คุณ', 'อ่าน', 'หนังสือ', 'อะไร'],\n",
        "    ['ผม', 'มี', 'ทีวี', 'สาม', 'เครื่อง', 'คอมพิวเตอร์', 'หนึ่ง', 'เครื่อง'],\n",
        "    ['นั่ง', 'เครื่องบิน', 'มา', 'ลง', 'กรุงเทพฯ'],\n",
        "    ['ผม', 'ซื้อ', 'บ้าน', 'ใหม่'],\n",
        "    ['เนื้อ', 'ชิ้น', 'อร่อย', 'มาก'],\n",
        "    ['ดอกไม้', 'ดอก', 'สวย', 'มาก'],\n",
        "    ['มี', 'อาหาร', 'หก', 'จาน', 'อยู่', 'บน', 'โต๊ะ']\n",
        "]\n",
        "    # ฟังก์ชันคำนวณความแม่นยำสำหรับแต่ละประโยค\n",
        "def calculate_sentence_accuracy(predicted, ground_truth):\n",
        "    # ตรวจสอบว่าแต่ละประโยคตรงกันหรือไม่\n",
        "    correct_sentences = sum([pred == gt for pred, gt in zip(predicted, ground_truth)])\n",
        "\n",
        "    # คำนวณเปอร์เซ็นต์ความแม่นยำ\n",
        "    accuracy = correct_sentences / len(ground_truth) * 100\n",
        "    return accuracy\n",
        "\n",
        "# คำนวณความแม่นยำสำหรับแต่ละประโยค\n",
        "accuracy = calculate_sentence_accuracy(predicted_tokens, ground_truth_tokens)\n",
        "\n",
        "# แสดงผล\n",
        "print(f\"Sentence-level Accuracy: {accuracy:.2f}%\")"
      ]
    },
    {
      "cell_type": "code",
      "execution_count": 35,
      "metadata": {
        "colab": {
          "base_uri": "https://localhost:8080/"
        },
        "id": "i60p6XmCvXfv",
        "outputId": "43a8ef59-33d2-4085-aa17-4b6e6338b8e2"
      },
      "outputs": [
        {
          "output_type": "stream",
          "name": "stdout",
          "text": [
            "Sentence-level Accuracy: 11.43%\n"
          ]
        }
      ],
      "source": [
        "from sklearn.metrics import accuracy_score\n",
        "\n",
        "# ตัวอย่างคำที่ตัดออกจากข้อความ\n",
        "predicted_tokens = processed_sentences_train_notcostom\n",
        "# คำที่ถูกต้องจากเฉลย\n",
        "ground_truth_tokens = [\n",
        "    ['นี่', 'หนังสือ'],\n",
        "    ['นั่น', 'สมุด'],\n",
        "    ['นี่', 'อะไร'],\n",
        "    ['นี่', 'นาฬิกา', 'หรือ', 'ปากกา'],\n",
        "    ['คุณ', 'เข้าใจ'],\n",
        "    ['ฉัน', 'ขอโทษ'],\n",
        "    ['ขอบคุณ', 'พี่ชาย'],\n",
        "    ['โทรศัพท์', 'อยู่', 'ที่ไหน'],\n",
        "    ['คุณ', 'คน', 'ที่ไหน'],\n",
        "    ['ขาย', 'ราคา', 'เท่าไร'],\n",
        "    ['โทรศัพท์', 'อยู่', 'บน', 'โต๊ะ'],\n",
        "    ['เขา', 'คน', 'ญี่ปุ่น', 'หรือ', 'คน', 'เกาหลีใต้'],\n",
        "    ['ภาษาไทย', 'ยาก'],\n",
        "    ['ภาษาไทย', 'ง่าย'],\n",
        "    ['ราคา', 'แพง'],\n",
        "    ['หนังสือ', 'อยู่', 'บน', 'เก้าอี้'],\n",
        "    ['คุณ', 'ชอบ', 'อาหาร', 'อะไร'],\n",
        "    ['คุณ', 'ชอบ', 'อาหาร', 'จีน'],\n",
        "    ['คุณ', 'ชอบ', 'อาหาร', 'ไทย', 'หรือ', 'อาหาร', 'จีน'],\n",
        "    ['คุณ', 'อ่าน', 'ภาษาไทย'],\n",
        "    ['คุณ', 'เขียน', 'ภาษาไทย'],\n",
        "    ['คุณ', 'ไป', 'ที่ไหน'],\n",
        "    ['เขา', 'ชอบ', 'ดื่ม', 'อะไร'],\n",
        "    ['เขา', 'ทำงาน', 'ที่ไหน'],\n",
        "    ['ขอโทษ', 'พูด', 'ช้า', 'ลง'],\n",
        "    ['พูด', 'อีกที'],\n",
        "    ['เขา', 'มี', 'เวลา', 'ว่าง', 'ทุกวัน', 'เสาร์'],\n",
        "    ['เมื่อวานนี้', 'ไป', 'ทำงาน'],\n",
        "    ['หนึ่งสัปดาห์หน้า', 'เรียน', 'ภาษาไทย'],\n",
        "    ['หนึ่งสัปดาห์ที่แล้ว', 'กลับบ้าน', 'ช้า', 'ทุกวัน'],\n",
        "    ['อีก', 'สาม', 'ปี', 'กลับ', 'ประเทศไทย'],\n",
        "    ['ตอนเที่ยง', 'กิน', 'ข้าวมันไก่', 'แล้ว'],\n",
        "    ['ผม', 'พบ', 'แฟน', 'สวนสัตว์'],\n",
        "    ['ตอนนี้', 'เวลา', 'กี่โมง'],\n",
        "    ['คุณ', 'กิน', 'ข้าว', 'เช้า', 'กี่โมง'],\n",
        "    ['เขา', 'มาสาย'],\n",
        "    ['ผม', 'เรียน', 'ภาษาไทย', 'เริ่ม', 'เวลา', 'บ่าย'],\n",
        "    ['ผม', 'อ่าน', 'หนังสือ', 'อยู่', 'ตอนนี้'],\n",
        "    ['เขา', 'ไป', 'สนามบิน', 'เวลา', 'เที่ยง', 'ตรง'],\n",
        "    ['ผม', 'ทำ', 'อาหาร', 'ไทย', 'ตอนเที่ยง'],\n",
        "    ['สามารถ', 'ไป', 'เข้า', 'ห้องน้ำ', 'ได้', 'ห้า', 'นาที'],\n",
        "    ['ผม', 'ทำงาน', 'ห้า', 'ชั่วโมง'],\n",
        "    ['อีก', 'สิบ', 'นาที', 'กลับบ้าน'],\n",
        "    ['พรุ่งนี้', 'ดิฉัน', 'ทำงาน', 'เวลา', 'เช้า'],\n",
        "    ['คุณ', 'ไป', 'ธนาคาร', 'กี่โมง'],\n",
        "    ['วันนี้', 'วันหยุด', 'ทำ', 'อะไร', 'ดี'],\n",
        "    ['พรุ่งนี้', 'วันอาทิตย์'],\n",
        "    ['', 'แล้ว', 'เงินเดือน', 'ออก'],\n",
        "    ['วันปีใหม่', 'ไปเที่ยว', 'ที่ไหน'],\n",
        "    ['คุณ', 'ไป', 'ประเทศไทย', 'เดือน', 'อะไร'],\n",
        "    ['วันหยุด', 'คุณ', 'ทำ', 'อะไร'],\n",
        "    ['เมื่อวานนี้', 'คุณ', 'ทำ', 'อะไร'],\n",
        "    ['ผม', 'อยู่', 'ประเทศไทย', 'นาน', 'หก', 'ปี', 'แล้ว'],\n",
        "    ['หนึ่งสัปดาห์หน้า', 'ทำ', 'อะไร'],\n",
        "    ['เมื่อวานซืน', 'คุย', 'โทรศัพท์', 'แฟน', 'สอง', 'ชั่วโมง'],\n",
        "    ['เขา', 'ไป', 'ทำงาน', 'เช้า'],\n",
        "    ['วันเสาร์', 'ฉัน', 'ชอบ', 'ไป', 'เดิน', 'เล่น'],\n",
        "    ['ผม', 'กลับ', 'ประเทศ', 'อังกฤษ', 'เดือน', 'ธันวาคม'],\n",
        "    ['คุณ', 'ไป', 'ออกกำลังกาย', 'กี่โมง'],\n",
        "    ['คุณ', 'กิน', 'ข้าว', 'หรือ', 'ยัง'],\n",
        "    ['คุณ', 'อยาก', 'ทำ', 'อะไร'],\n",
        "    ['ฉัน', 'เคย', 'ไป', 'ประเทศ', 'เม็กซิโก'],\n",
        "    ['อากาศ', 'ร้อน', 'เมื่อไร', 'เข้า', 'ฤดู', 'หนาว'],\n",
        "    ['คุณ', 'พ่อ', 'ไป', 'กิน', 'ข้าว', 'ร้าน', 'อาหาร'],\n",
        "    ['ปกติ', 'คุณ', 'ไป', 'ทำงาน'],\n",
        "    ['ไป', 'ที่ไหน', 'มา'],\n",
        "    ['ผม', 'อยาก', 'ไป', 'หา', 'คุณ'],\n",
        "    ['ฝนตกหนัก', 'มาก'],\n",
        "    ['ผม', 'ขับรถ', 'รถยนต์', 'ไป', 'ทำงาน'],\n",
        "    ['ผม', 'ชอบ', 'คุย', 'คน', 'ไทย'],\n",
        "    ['ประเทศไทย', 'ไม่มี', 'หิมะ', 'ตก'],\n",
        "    ['ภูเขา', 'เดี๋ยวนี้', 'ไม่มี', 'ต้นไม้'],\n",
        "    ['บ้าน', 'ไม่มี', 'คน', 'อยู่'],\n",
        "    ['วันนี้', 'มี', 'ไป', 'ทำ', 'ธุระ'],\n",
        "    ['ผม', 'กิน', 'ข้าว', 'แล้ว'],\n",
        "    ['ผม', 'ยัง', 'ไม่กิน', 'ข้าว'],\n",
        "    ['ฉัน', 'นั่ง', 'ร้องเพลงคาราโอเกะ'],\n",
        "    ['เขา', 'ยืน', 'คุย', 'คุณ'],\n",
        "    ['ผม', 'ชอบ', 'นั่ง', 'อ่าน', 'หนังสือ', 'บ้าน'],\n",
        "    ['พรุ่งนี้', 'อยาก', 'ไปเที่ยว', 'แฟน'],\n",
        "    ['เขา', 'ยัง', 'ไม่', 'อยาก', 'เรียน', 'ภาษาไทย', 'ตอนนี้'],\n",
        "    ['วันนี้', 'ไม่', 'อยาก', 'ทำ', 'อะไร'],\n",
        "    ['นี่', 'ใคร'],\n",
        "    ['ฉัน', 'ไป', 'ว่ายน้ำ', 'ออกกำลังกาย'],\n",
        "    ['จำ', 'ผม'],\n",
        "    ['ได้ยิน', 'ฉัน'],\n",
        "    ['มอง', 'เห็น', 'เขา'],\n",
        "    ['รู้จัก', 'เขา'],\n",
        "    ['ทำงาน', 'เสร็จแล้ว'],\n",
        "    ['เมื่อวานนี้', 'นอนหลับ', 'ไม่ดี'],\n",
        "    ['ง่วงนอน', 'ต้องการ', 'ดื่ม', 'กาแฟ'],\n",
        "    ['เขา', 'ฟัง', 'ภาษาไทย', 'ไม่'],\n",
        "    ['ผม', 'อ่าน', 'หนังสือ', 'ภาษาไทย', 'ยัง', 'ไม่'],\n",
        "    ['กิน', 'เผ็ด', 'ไม่'],\n",
        "    ['ไป', 'ประเทศไทย', 'ไม่'],\n",
        "    ['ผม', 'คิดถึง', 'คุณ', 'มาก'],\n",
        "    ['เขา', 'มองดู', 'ทะเล'],\n",
        "    ['ผม', 'พูด', 'ภาษาไทย', 'นิดหน่อย'],\n",
        "    ['เขา', 'อ่าน', 'ภาษาอังกฤษ', 'ไม่', 'ผิด'],\n",
        "    ['อาหาร', 'ไทย', 'อร่อย', 'มาก'],\n",
        "    ['คุณ', 'ไป', 'ประเทศไทย', 'เดือน', 'อะไร'],\n",
        "    ['เขา', 'ชื่อเล่น', 'อะไร'],\n",
        "    ['พรุ่งนี้', 'ไป', 'ตัด', 'ผม', '(เส้นผม)'],\n",
        "    ['ผม', 'โกนหนวด', 'ทุกวัน', 'เวลา', 'เช้า'],\n",
        "    ['คน', 'ไทย', 'ชอบ', 'อาบน้ำ'],\n",
        "    ['ไป', 'ซื้อ', 'สบู่', 'ยาสีฟัน'],\n",
        "    ['เขา', 'ชอบ', 'ซื้อ', 'เสื้อแขนยาว'],\n",
        "    ['ครอบครัว', 'คุณ', 'มี', 'คน'],\n",
        "    ['คุณ', 'ทำงาน', 'อะไร'],\n",
        "    ['คุณ', 'แต่งงาน', 'หรือ', 'ยัง'],\n",
        "    ['คุณ', 'มี', 'ลูก', 'หรือ', 'ยัง'],\n",
        "    ['คุณ', 'อายุ', 'ปี'],\n",
        "    ['บ้าน', 'คุณ', 'มี', 'แมว'],\n",
        "    ['ใคร', 'ครู', 'ภาษาไทย'],\n",
        "    ['ทำไม', 'คุณ', 'เรียน', 'ภาษาไทย'],\n",
        "    ['ทำไม', 'คุณ', 'ไม่', 'มา', 'วัด', 'หนึ่งสัปดาห์ที่แล้ว'],\n",
        "    ['ถ้า', 'คุณ', 'รวย', 'คุณ', 'อยาก', 'ทำ', 'อะไร'],\n",
        "    ['ถ้า', 'ฝนตก', 'ทำ', 'อะไร', 'ดี'],\n",
        "    ['วันนี้', 'อยาก', 'ไป', 'หา', 'หมอ', 'ฟัน'],\n",
        "    ['ผม', 'มี', 'ลุง', 'อยู่', 'อังกฤษ'],\n",
        "    ['เขา', 'มี', 'ครอบครัว', 'อยู่', 'ไทย'],\n",
        "    ['ผม', 'อยาก', 'แต่งงาน', 'คุณ'],\n",
        "    ['ผม', 'รัก', 'คุณ', 'มาก'],\n",
        "    ['เขา', 'สูง', 'มาก'],\n",
        "    ['คุณ', 'เรียน', 'ภาษาไทย', 'ชั่วโมง'],\n",
        "    ['ผม', 'ชอบ', 'สีขาว', 'มาก', 'สีดำ'],\n",
        "    ['เครื่องบิน', 'ลำ', 'ใหญ่', 'มาก'],\n",
        "    ['เขา', 'รัก', 'เธอ', 'มาก'],\n",
        "    ['เขา', 'เกลียด', 'คุณ', 'คุณ', 'ชอบ', 'โกหก'],\n",
        "    ['เสื้อยืด', 'ตัว', 'ไม่', 'แพง'],\n",
        "    ['ใคร', 'เขียน', 'หนังสือ', 'สวย'],\n",
        "    ['คุณ', 'ชอบ', 'ไปเที่ยว', 'ที่ไหน'],\n",
        "    ['วันนี้', 'กิน', 'กล้วยหอม'],\n",
        "    ['เมื่อวานนี้', 'คุณ', 'อ่าน', 'หนังสือ', 'อะไร'],\n",
        "    ['ผม', 'มี', 'ทีวี', 'สาม', 'เครื่อง', 'คอมพิวเตอร์', 'หนึ่ง', 'เครื่อง'],\n",
        "    ['นั่ง', 'เครื่องบิน', 'มา', 'ลง', 'กรุงเทพฯ'],\n",
        "    ['ผม', 'ซื้อ', 'บ้าน', 'ใหม่'],\n",
        "    ['เนื้อ', 'ชิ้น', 'อร่อย', 'มาก'],\n",
        "    ['ดอกไม้', 'ดอก', 'สวย', 'มาก'],\n",
        "    ['มี', 'อาหาร', 'หก', 'จาน', 'อยู่', 'บน', 'โต๊ะ']\n",
        "]\n",
        "\n",
        "# ฟังก์ชันคำนวณความแม่นยำสำหรับแต่ละประโยค\n",
        "def calculate_sentence_accuracy(predicted, ground_truth):\n",
        "    # ตรวจสอบว่าแต่ละประโยคตรงกันหรือไม่\n",
        "    correct_sentences = sum([pred == gt for pred, gt in zip(predicted, ground_truth)])\n",
        "\n",
        "    # คำนวณเปอร์เซ็นต์ความแม่นยำ\n",
        "    accuracy = correct_sentences / len(ground_truth) * 100\n",
        "    return accuracy\n",
        "\n",
        "# คำนวณความแม่นยำสำหรับแต่ละประโยค\n",
        "accuracy = calculate_sentence_accuracy(predicted_tokens, ground_truth_tokens)\n",
        "\n",
        "# แสดงผล\n",
        "print(f\"Sentence-level Accuracy: {accuracy:.2f}%\")"
      ]
    },
    {
      "cell_type": "code",
      "execution_count": 36,
      "metadata": {
        "colab": {
          "base_uri": "https://localhost:8080/"
        },
        "id": "vW0u2QG7LAnL",
        "outputId": "a9342160-655c-4e06-e849-035492949d07"
      },
      "outputs": [
        {
          "output_type": "stream",
          "name": "stdout",
          "text": [
            "Original: สวัสดีครับ\n",
            "Processed: สวัสดี\n",
            "\n",
            "Original: สบายดีหรือ\n",
            "Processed: สบายดี\n",
            "\n",
            "Original: ขอบคุณครับ\n",
            "Processed: ขอบคุณ\n",
            "\n",
            "Original: ขอบพระคุณครับ\n",
            "Processed: ขอบพระคุณ\n",
            "\n",
            "Original: ขอบใจครับ\n",
            "Processed: ขอบใจ\n",
            "\n",
            "Original: เชิญครับ\n",
            "Processed: เชิญ\n",
            "\n",
            "Original: ดีใจที่ได้พบคุณ\n",
            "Processed: ดีใจ\n",
            "\n",
            "Original: ลาก่อนนะ\n",
            "Processed: ลาก่อน\n",
            "\n",
            "Original: พบกันใหม่นะ\n",
            "Processed: พบกัน\n",
            "\n",
            "Original: พบกันใหม่วันจันทร์\n",
            "Processed: พบกัน จันทร์\n",
            "\n",
            "Original: ราตรีสวัสดิ์\n",
            "Processed: ราตรีสวัสดิ์\n",
            "\n",
            "Original: นายพงษ์พบมิสเตอร์จอห์นตอนเช้า\n",
            "Processed: พงษ์ มิสเตอร์ จอห์น ตอนเช้า\n",
            "\n",
            "Original: สวัสดีครับคุณจอห์น\n",
            "Processed: สวัสดี จอห์น\n",
            "\n",
            "Original: แล้วคุณล่ะ\n",
            "Processed: ล่ะ\n",
            "\n",
            "Original: ผมสบายดีครับ\n",
            "Processed: ผม สบายดี\n",
            "\n",
            "Original: นางสาวแดงพบมิสเตอร์เจมส์ในตอนบ่าย\n",
            "Processed: แดง มิสเตอร์ เจมส์ ตอนบ่าย\n",
            "\n",
            "Original: มิสเตอร์ดำพบนางสาวมาเรียในตอนกลางคืน\n",
            "Processed: มิสเตอร์ ดำ เรีย ตอนกลางคืน\n",
            "\n",
            "Original: นายพงษ์แนะนำให้มิสเตอร์จอห์นรู้จักกับนางสาวแดง\n",
            "Processed: พงษ์ แนะนำ มิสเตอร์ จอห์น รู้จัก แดง\n",
            "\n",
            "Original: ผมขอแนะนำให้คุณรู้จักคุณแดง\n",
            "Processed: ผม แนะนำ รู้จัก แดง\n",
            "\n",
            "Original: ผมดีใจที่ได้รู้จัก\n",
            "Processed: ผม ดีใจ รู้จัก\n",
            "\n",
            "Original: คุณรู้จักคุณแดงหรือเปล่า\n",
            "Processed: รู้จัก แดง\n",
            "\n",
            "Original: ขอถามหน่อยว่าคุณเป็นใคร\n",
            "Processed: ถาม\n",
            "\n",
            "Original: นี่คือนามบัตรของผม\n",
            "Processed: นามบัตร ผม\n",
            "\n",
            "Original: ผมดีใจที่ได้รู้จักคุณ\n",
            "Processed: ผม ดีใจ รู้จัก\n",
            "\n",
            "Original: คุณมาจากไหน\n",
            "Processed: มาจาก\n",
            "\n",
            "Original: คุณเป็นคนที่ไหน\n",
            "Processed: คน\n",
            "\n",
            "Original: ผมเป็นคนเชียงใหม่\n",
            "Processed: ผม คน เชียงใหม่\n",
            "\n",
            "Original: คุณอยู่ที่ไหน\n",
            "Processed: \n",
            "\n",
            "Original: ผมอยู่ในกรุงเทพ\n",
            "Processed: ผม กรุงเทพ\n",
            "\n",
            "Original: ผมอยู่ถนนสุขุมวิท\n",
            "Processed: ผม ถนน สุขุมวิท\n",
            "\n",
            "Original: ฉันอยู่บ้านเลขที่ 17/231 สุขุมวิท ซอย 6\n",
            "Processed: บ้าน เลขที่   17 /231   สุขุมวิท   ซอย   6\n",
            "\n",
            "Original: ลูกชายคุณสบายดีหรือ\n",
            "Processed: ลูกชาย สบายดี\n",
            "\n",
            "Original: ครอบครัวคุณสบายดีหรือ\n",
            "Processed: ครอบครัว สบายดี\n",
            "\n",
            "Original: คุณพ่อคุณสบายดีหรือ\n",
            "Processed: พ่อคุณ สบายดี\n",
            "\n",
            "Original: คุณพูดภาษาอังกฤษได้ไหม\n",
            "Processed: ภาษาอังกฤษ ไหม\n",
            "\n",
            "Original: เปล่าผมพูดภาษาอังกฤษไม่ได้\n",
            "Processed: เปล่า ผม ภาษาอังกฤษ\n",
            "\n",
            "Original: ผมพูดภาษาอังกฤษได้นิดหน่อย\n",
            "Processed: ผม ภาษาอังกฤษ\n",
            "\n",
            "Original: ผมไม่เข้าใจ\n",
            "Processed: ผม\n",
            "\n",
            "Original: ผมไม่รู้\n",
            "Processed: ผม รู้\n",
            "\n",
            "Original: ผมพููดภาษาคุณไม่ได้\n",
            "Processed: ผม พู ูด ภาษา\n",
            "\n",
            "Original: กรุณาพูดช้าๆ\n",
            "Processed: กรุณา\n",
            "\n",
            "Original: พูดอีกทีสิ\n",
            "Processed: อีกที สิ\n",
            "\n",
            "Original: คุณพูดได้กี่ภาษา\n",
            "Processed: กี่ ภาษา\n",
            "\n",
            "Original: คุณเข้าใจไหม\n",
            "Processed: ไหม\n",
            "\n",
            "Original: คุณเข้าใจที่ผมพูดไหม\n",
            "Processed: ผม ไหม\n",
            "\n",
            "Original: ภาษาไทยยากไหม\n",
            "Processed: ภาษาไทย ไหม\n",
            "\n",
            "Original: ภาษาไทยง่ายมากใช่ไหม\n",
            "Processed: ภาษาไทย\n",
            "\n",
            "Original: ผมพูดภาษาไทย, อังกฤษ,เยอรมันและสวีเดน\n",
            "Processed: ผม ภาษาไทย ,   อังกฤษ , เยอรมัน สวีเดน\n",
            "\n",
            "Original: กี่โมงแล้ว\n",
            "Processed: กี่ โมง\n",
            "\n",
            "Original: คุณชื่ออะไร\n",
            "Processed: ชื่อ\n",
            "\n",
            "Original: พบกันใหม่วันจันทร์\n",
            "Processed: พบกัน จันทร์\n",
            "\n",
            "Original: พบกันใหม่นะ\n",
            "Processed: พบกัน\n",
            "\n",
            "Original: ขอโทษครับ\n",
            "Processed: ขอโทษ\n",
            "\n",
            "Original: ช่วยฉันหน่อยได้ไหม\n",
            "Processed: ไหม\n",
            "\n",
            "Original: บอกฉันหน่อยได้ไหม\n",
            "Processed: ไหม\n",
            "\n",
            "Original: ที่นี่มีไหม\n",
            "Processed: ที่นี่ ไหม\n",
            "\n",
            "Original: ที่นี่มีน้ำดื่มไหม\n",
            "Processed: ที่นี่ น้ำดื่ม ไหม\n",
            "\n",
            "Original: คุณมีบุหรี่ไหม\n",
            "Processed: บุหรี่ ไหม\n",
            "\n",
            "Original: ราคาเท่าไหร่\n",
            "Processed: ราคา\n",
            "\n",
            "Original: ฉันไปนะ\n",
            "Processed: \n",
            "\n",
            "Original: ไชโย\n",
            "Processed: ไชโย\n",
            "\n",
            "Original: คุณรับเครดิตการ์ดไหม\n",
            "Processed: เครดิตการ์ด ไหม\n",
            "\n",
            "Original: ห้องน้ำอยู่ที่ไหน\n",
            "Processed: ห้องน้ำ\n",
            "\n",
            "Original: เที่ยวบินไปเชียงใหม่ออกเมื่อไหร่\n",
            "Processed: เที่ยวบิน เชียงใหม่\n",
            "\n",
            "Original: เป็นเที่ยวบินตรงใช่ไหม\n",
            "Processed: เที่ยวบิน\n",
            "\n",
            "Original: ฉันต้องเปลี่ยนเครื่องบินไหม\n",
            "Processed: เครื่องบิน ไหม\n",
            "\n",
            "Original: ฉันต้องเช็คอินเมื่อไหร่\n",
            "Processed: เช็ค อิน\n",
            "\n",
            "Original: ฉันต้องการตั๋วเดี่ยวหนึ่งใบไปเชียงใหม่\n",
            "Processed: ต้องการ ตั๋ว เดี่ยว ใบ เชียงใหม่\n",
            "\n",
            "Original: ฉันต้องการตั๋วไปกลับไปเชียงใหม่\n",
            "Processed: ต้องการ ตั๋วไปกลับ เชียงใหม่\n",
            "\n",
            "Original: ฉันต้องการที่นั่งไม่สูบบุหรี่\n",
            "Processed: ต้องการ ที่นั่ง สูบบุหรี่\n",
            "\n",
            "Original: ฉันต้องการที่นั่งใกล้หน้าต่าง\n",
            "Processed: ต้องการ ที่นั่ง หน้าต่าง\n",
            "\n",
            "Original: เที่ยวบินนี้จะเลื่อนเวลาออกไปกี่ชั่วโมง\n",
            "Processed: เที่ยวบิน เลื่อนเวลา กี่ ชั่วโมง\n",
            "\n",
            "Original: เที่ยวบินนี้จะช้ากี่ชั่วโมง\n",
            "Processed: เที่ยวบิน กี่ ชั่วโมง\n",
            "\n",
            "Original: เที่ยวบินไปเชียงใหม่อยู่ประตูไหน\n",
            "Processed: เที่ยวบิน เชียงใหม่ ประตู\n",
            "\n",
            "Original: เราจะถึงเชียงใหม่กี่โมง\n",
            "Processed: เชียงใหม่ กี่ โมง\n",
            "\n",
            "Original: ฉันรู้สึกไม่สบายมาก\n",
            "Processed: รู้สึก\n",
            "\n",
            "Original: คุณมีห้องว่างไหม\n",
            "Processed: ห้อง ว่าง ไหม\n",
            "\n",
            "Original: ฉันได้จองไว้แล้ว\n",
            "Processed: จอง\n",
            "\n",
            "Original: ฉันต้องการห้องเดี่ยว\n",
            "Processed: ต้องการ ห้อง เดี่ยว\n",
            "\n",
            "Original: ฉันต้องการห้องคู่\n",
            "Processed: ต้องการ ห้อง คู่\n",
            "\n",
            "Original: ฉันต้องการห้องที่มีห้องน้ำในตัว\n",
            "Processed: ต้องการ ห้อง ห้องน้ำ ตัว\n",
            "\n",
            "Original: ฉันต้องการห้องที่มีระเบียง\n",
            "Processed: ต้องการ ห้อง ระเบียง\n",
            "\n",
            "Original: ฉันต้องการห้องเพียงคืนเดียว\n",
            "Processed: ต้องการ ห้อง คืน\n",
            "\n",
            "Original: คืนละเท่าไหร่\n",
            "Processed: คืน\n",
            "\n",
            "Original: ฉันยังไม่รู้ฉันจะพักกี่คืน\n",
            "Processed: รู้ พัก กี่ คืน\n",
            "\n",
            "Original: คำตอบที่คุณจะได้รับ\n",
            "Processed: คำตอบ\n",
            "\n",
            "Original: ฉันเสียใจ\n",
            "Processed: เสียใจ\n",
            "\n",
            "Original: ห้องเต็มแล้ว\n",
            "Processed: ห้อง เต็ม\n",
            "\n",
            "Original: ไม่มีห้องเดี่ยวเหลืออยู่แล้ว\n",
            "Processed: ห้อง เดี่ยว อยู่แล้ว\n",
            "\n",
            "Original: ไม่มีห้องคู่เหลืออยู่แล้ว\n",
            "Processed: ห้อง คู่ อยู่แล้ว\n",
            "\n",
            "Original: คุณจะชำระเงินอย่างไร\n",
            "Processed: ชำระเงิน\n",
            "\n",
            "Original: กรุณาเขียนรายละเอียดในแบบฟอร์มนี้\n",
            "Processed: กรุณา รายละเอียด แบบฟอร์ม\n",
            "\n",
            "Original: กรุณาเซ็นต์ชื่อ\n",
            "Processed: กรุณา เซ็นต์ ชื่อ\n",
            "\n",
            "Original: กรุณาชำระเงินล่วงหน้า\n",
            "Processed: กรุณา ชำระเงิน ล่วงหน้า\n",
            "\n",
            "Original: อาหารเช้ากี่โมง\n",
            "Processed: อาหารเช้า กี่ โมง\n",
            "\n",
            "Original: อาหารเย็นกี่โมง\n",
            "Processed: อาหารเย็น กี่ โมง\n",
            "\n",
            "Original: กรุณานำกระเป๋าเดินทางไปที่ห้องฉันด้วย\n",
            "Processed: กรุณา กระเป๋าเดินทาง ห้อง\n",
            "\n",
            "Original: ฉันทานอาหารเช้าในห้องได้ไหม\n",
            "Processed: ทาน อาหารเช้า ห้อง ไหม\n",
            "\n",
            "Original: ฉันจะกลับวันพรุ่งนี้\n",
            "Processed: วันพรุ่งนี้\n",
            "\n",
            "Original: เก็บตังค์ด้วยครับ\n",
            "Processed: ตังค์\n",
            "\n",
            "Original: ฉันชำระเงินด้วยบัตรเครดิต\n",
            "Processed: ชำระเงิน บัตรเครดิต\n",
            "\n",
            "Original: ฉันชำำระเงินสด\n",
            "Processed: ชำ ำ ระ เงินสด\n",
            "\n",
            "Original: กรุณาเรียกแท็กซี่ให้ฉันหน่อยได้ไหม\n",
            "Processed: กรุณา แท็กซี่ ไหม\n",
            "\n",
            "Original: กรุณาแนะนำโรงแรมแห่งอื่นให้ฉันได้ไหม\n",
            "Processed: กรุณา แนะนำ โรงแรม ไหม\n",
            "\n",
            "Original: รถไฟออกเมื่อไหร่\n",
            "Processed: รถไฟ\n",
            "\n",
            "Original: รถไฟมาถึงสถานีเมื่อไหร่\n",
            "Processed: รถไฟ มาถึง สถานี\n",
            "\n",
            "Original: รถไฟมาถึงสถานี 2 ทุ่ม\n",
            "Processed: รถไฟ มาถึง สถานี   2   ทุ่ม\n",
            "\n",
            "Original: เชิญนั่งครับ\n",
            "Processed: เชิญ นั่ง\n",
            "\n",
            "Original: คุณเรียกสิ่งนี้เป็นภาษาไทยว่ายังไง\n",
            "Processed: ภาษาไทย\n",
            "\n",
            "Original: นั่นหมายความว่าอย่างไร\n",
            "Processed: หมายความว่า\n",
            "\n",
            "Original: พบกันใหม่\n",
            "Processed: พบกัน\n",
            "\n",
            "Original: ผมหิว\n",
            "Processed: ผม หิว\n",
            "\n",
            "Original: ผมกระหายน้ำ\n",
            "Processed: ผม กระหายน้ำ\n",
            "\n",
            "Original: ผมหลงทาง\n",
            "Processed: ผม หลงทาง\n",
            "\n",
            "Original: เร็วหน่อย\n",
            "Processed: \n",
            "\n",
            "Original: คุณต้องการอะไร\n",
            "Processed: ต้องการ\n",
            "\n",
            "Original: อะไรนะ\n",
            "Processed: \n",
            "\n",
            "Original: เป็นอะไรไป\n",
            "Processed: \n",
            "\n",
            "Original: เกิดอะไรขึ้น\n",
            "Processed: \n",
            "\n",
            "Original: รอเดี๋ยว\n",
            "Processed: รอเดี๋ยว\n",
            "\n",
            "Original: รอสักครู่นะครับ\n",
            "Processed: รอ สักครู่\n",
            "\n",
            "Original: คุณจะไปไหน\n",
            "Processed: \n",
            "\n",
            "Original: ช่วยตัวเองนะ\n",
            "Processed: ช่วยตัวเอง\n",
            "\n",
            "Original: เชิญตามสบายนะ\n",
            "Processed: เชิญ ตามสบาย\n",
            "\n",
            "Original: ทำต่อไป\n",
            "Processed: ทำ ต่อไป\n",
            "\n",
            "Original: ดูที่นั่นซิ\n",
            "Processed: ดู ที่นั่น ซิ\n",
            "\n",
            "Original: มันมากเกินไป\n",
            "Processed: มากเกินไป\n",
            "\n",
            "Original: มันแพงเกินไป\n",
            "Processed: แพง เกินไป\n",
            "\n",
            "Original: คุณใจดีมาก\n",
            "Processed: ใจ ดีมาก\n",
            "\n",
            "Original: ผมไม่ได้คิดเช่นนั้น\n",
            "Processed: ผม ได้คิด\n",
            "\n",
            "Original: คุณรู้ไหม\n",
            "Processed: รู้ ไหม\n",
            "\n",
            "Original: เปล่าผมไม่รู้\n",
            "Processed: เปล่า ผม รู้\n",
            "\n",
            "Original: จดไว้สิ\n",
            "Processed: สิ\n",
            "\n",
            "Original: ยาวเท่าไหร่\n",
            "Processed: \n",
            "\n",
            "Original: ใช่แล้ว\n",
            "Processed: \n",
            "\n",
            "Original: สายเกินไปแล้ว\n",
            "Processed: สาย เกินไป\n",
            "\n",
            "Original: เช้าเกินไปแล้ว\n",
            "Processed: เช้า เกินไป\n",
            "\n",
            "Original: เร็วที่สุดเท่าที่จะทำได้\n",
            "Processed: ที่จะ ทำได้\n",
            "\n",
            "Original: ไม่เป็นไร\n",
            "Processed: \n",
            "\n",
            "Original: ระวังนะ\n",
            "Processed: ระวัง\n",
            "\n",
            "Original: ฟังสิ!ฟังนะ!\n",
            "Processed: ฟัง สิ ! ฟัง !\n",
            "\n",
            "Original: ดูนี่สิ\n",
            "Processed: ดู สิ\n",
            "\n",
            "Original: มีอะไรจะให้ผมช่วยบ้าง\n",
            "Processed: ผม\n",
            "\n",
            "Original: ผมผิดเอง\n",
            "Processed: ผม\n",
            "\n",
            "Original: มันเป็นความผิดของผม\n",
            "Processed: ความผิด ผม\n",
            "\n",
            "Original: ผมไม่ผิด\n",
            "Processed: ผม\n",
            "\n",
            "Original: มันไม่ใช่ความผิดของผม\n",
            "Processed: ความผิด ผม\n",
            "\n",
            "Original: ออกไป\n",
            "Processed: \n",
            "\n",
            "Original: คุณคิดว่าอย่างไร\n",
            "Processed: \n",
            "\n",
            "Original: ขอเลขโทรศัพท์หน่อยสิ\n",
            "Processed: เลข โทรศัพท์ สิ\n",
            "\n",
            "Original: ผมเข้าไปข้างในได้ไหม\n",
            "Processed: ผม เข้าไป ข้างใน ไหม\n",
            "\n",
            "Original: คุณเห็นไหม\n",
            "Processed: ไหม\n",
            "\n",
            "Original: ผมขอสูบบุหรี่ได้ไหม\n",
            "Processed: ผม สูบบุหรี่ ไหม\n",
            "\n",
            "Original: ผมต้องจ่ายเท่าไหร่\n",
            "Processed: ผม จ่าย\n",
            "\n",
            "Original: ขออนุญาตถ่ายรูปได้ไหม\n",
            "Processed: ขออนุญาต ถ่ายรูป ไหม\n",
            "\n",
            "Original: เรียกแท็กซี่ให้ผมหน่อยได้ไหม\n",
            "Processed: แท็กซี่ ผม ไหม\n",
            "\n",
            "Original: พาผมกลับไปที่โรงแรมเดี๋ยวนี้\n",
            "Processed: ผม โรงแรม เดี๋ยวนี้\n",
            "\n",
            "Original: วันนี้อัตราแลกเปลี่ยนเป็นเท่าไหร่\n",
            "Processed: อัตราแลกเปลี่ยน\n",
            "\n",
            "Original: ผมต้องการไปซื้อของ\n",
            "Processed: ผม ต้องการ ซื้อ\n",
            "\n"
          ]
        }
      ],
      "source": [
        "from pythainlp.tokenize import word_tokenize\n",
        "from pythainlp.corpus.common import thai_stopwords\n",
        "\n",
        "sentences = [\n",
        "    \"สวัสดีครับ\", \"สบายดีหรือ\", \"ขอบคุณครับ\", \"ขอบพระคุณครับ\", \"ขอบใจครับ\", \"เชิญครับ\",\n",
        "    \"ดีใจที่ได้พบคุณ\", \"ลาก่อนนะ\", \"พบกันใหม่นะ\", \"พบกันใหม่วันจันทร์\", \"ราตรีสวัสดิ์\",\n",
        "    \"นายพงษ์พบมิสเตอร์จอห์นตอนเช้า\", \"สวัสดีครับคุณจอห์น\", \"แล้วคุณล่ะ\", \"ผมสบายดีครับ\",\n",
        "    \"นางสาวแดงพบมิสเตอร์เจมส์ในตอนบ่าย\", \"มิสเตอร์ดำพบนางสาวมาเรียในตอนกลางคืน\",\n",
        "    \"นายพงษ์แนะนำให้มิสเตอร์จอห์นรู้จักกับนางสาวแดง\", \"ผมขอแนะนำให้คุณรู้จักคุณแดง\",\n",
        "    \"ผมดีใจที่ได้รู้จัก\", \"คุณรู้จักคุณแดงหรือเปล่า\", \"ขอถามหน่อยว่าคุณเป็นใคร\",\n",
        "    \"นี่คือนามบัตรของผม\", \"ผมดีใจที่ได้รู้จักคุณ\", \"คุณมาจากไหน\", \"คุณเป็นคนที่ไหน\",\n",
        "    \"ผมเป็นคนเชียงใหม่\", \"คุณอยู่ที่ไหน\", \"ผมอยู่ในกรุงเทพ\", \"ผมอยู่ถนนสุขุมวิท\",\n",
        "    \"ฉันอยู่บ้านเลขที่ 17/231 สุขุมวิท ซอย 6\", \"ลูกชายคุณสบายดีหรือ\", \"ครอบครัวคุณสบายดีหรือ\",\n",
        "    \"คุณพ่อคุณสบายดีหรือ\", \"คุณพูดภาษาอังกฤษได้ไหม\", \"เปล่าผมพูดภาษาอังกฤษไม่ได้\",\n",
        "    \"ผมพูดภาษาอังกฤษได้นิดหน่อย\", \"ผมไม่เข้าใจ\", \"ผมไม่รู้\", \"ผมพููดภาษาคุณไม่ได้\",\n",
        "    \"กรุณาพูดช้าๆ\", \"พูดอีกทีสิ\", \"คุณพูดได้กี่ภาษา\", \"คุณเข้าใจไหม\", \"คุณเข้าใจที่ผมพูดไหม\",\n",
        "    \"ภาษาไทยยากไหม\", \"ภาษาไทยง่ายมากใช่ไหม\", \"ผมพูดภาษาไทย, อังกฤษ,เยอรมันและสวีเดน\",\n",
        "    \"กี่โมงแล้ว\", \"คุณชื่ออะไร\", \"พบกันใหม่วันจันทร์\", \"พบกันใหม่นะ\", \"ขอโทษครับ\",\n",
        "    \"ช่วยฉันหน่อยได้ไหม\", \"บอกฉันหน่อยได้ไหม\", \"ที่นี่มีไหม\", \"ที่นี่มีน้ำดื่มไหม\",\n",
        "    \"คุณมีบุหรี่ไหม\", \"ราคาเท่าไหร่\", \"ฉันไปนะ\", \"ไชโย\", \"คุณรับเครดิตการ์ดไหม\",\n",
        "    \"ห้องน้ำอยู่ที่ไหน\", \"เที่ยวบินไปเชียงใหม่ออกเมื่อไหร่\", \"เป็นเที่ยวบินตรงใช่ไหม\",\n",
        "    \"ฉันต้องเปลี่ยนเครื่องบินไหม\", \"ฉันต้องเช็คอินเมื่อไหร่\", \"ฉันต้องการตั๋วเดี่ยวหนึ่งใบไปเชียงใหม่\",\n",
        "    \"ฉันต้องการตั๋วไปกลับไปเชียงใหม่\", \"ฉันต้องการที่นั่งไม่สูบบุหรี่\", \"ฉันต้องการที่นั่งใกล้หน้าต่าง\",\n",
        "    \"เที่ยวบินนี้จะเลื่อนเวลาออกไปกี่ชั่วโมง\", \"เที่ยวบินนี้จะช้ากี่ชั่วโมง\",\n",
        "    \"เที่ยวบินไปเชียงใหม่อยู่ประตูไหน\", \"เราจะถึงเชียงใหม่กี่โมง\", \"ฉันรู้สึกไม่สบายมาก\",\n",
        "    \"คุณมีห้องว่างไหม\", \"ฉันได้จองไว้แล้ว\", \"ฉันต้องการห้องเดี่ยว\", \"ฉันต้องการห้องคู่\",\n",
        "    \"ฉันต้องการห้องที่มีห้องน้ำในตัว\", \"ฉันต้องการห้องที่มีระเบียง\", \"ฉันต้องการห้องเพียงคืนเดียว\",\n",
        "    \"คืนละเท่าไหร่\", \"ฉันยังไม่รู้ฉันจะพักกี่คืน\", \"คำตอบที่คุณจะได้รับ\", \"ฉันเสียใจ\",\n",
        "    \"ห้องเต็มแล้ว\", \"ไม่มีห้องเดี่ยวเหลืออยู่แล้ว\", \"ไม่มีห้องคู่เหลืออยู่แล้ว\",\n",
        "    \"คุณจะชำระเงินอย่างไร\", \"กรุณาเขียนรายละเอียดในแบบฟอร์มนี้\", \"กรุณาเซ็นต์ชื่อ\",\n",
        "    \"กรุณาชำระเงินล่วงหน้า\", \"อาหารเช้ากี่โมง\", \"อาหารเย็นกี่โมง\",\n",
        "    \"กรุณานำกระเป๋าเดินทางไปที่ห้องฉันด้วย\", \"ฉันทานอาหารเช้าในห้องได้ไหม\", \"ฉันจะกลับวันพรุ่งนี้\",\n",
        "    \"เก็บตังค์ด้วยครับ\", \"ฉันชำระเงินด้วยบัตรเครดิต\", \"ฉันชำำระเงินสด\",\n",
        "    \"กรุณาเรียกแท็กซี่ให้ฉันหน่อยได้ไหม\", \"กรุณาแนะนำโรงแรมแห่งอื่นให้ฉันได้ไหม\",\n",
        "    \"รถไฟออกเมื่อไหร่\", \"รถไฟมาถึงสถานีเมื่อไหร่\", \"รถไฟมาถึงสถานี 2 ทุ่ม\", \"เชิญนั่งครับ\",\n",
        "    \"คุณเรียกสิ่งนี้เป็นภาษาไทยว่ายังไง\", \"นั่นหมายความว่าอย่างไร\", \"พบกันใหม่\", \"ผมหิว\",\n",
        "    \"ผมกระหายน้ำ\", \"ผมหลงทาง\", \"เร็วหน่อย\", \"คุณต้องการอะไร\", \"อะไรนะ\", \"เป็นอะไรไป\",\n",
        "    \"เกิดอะไรขึ้น\", \"รอเดี๋ยว\", \"รอสักครู่นะครับ\", \"คุณจะไปไหน\", \"ช่วยตัวเองนะ\",\n",
        "    \"เชิญตามสบายนะ\", \"ทำต่อไป\", \"ดูที่นั่นซิ\", \"มันมากเกินไป\", \"มันแพงเกินไป\",\n",
        "    \"คุณใจดีมาก\", \"ผมไม่ได้คิดเช่นนั้น\", \"คุณรู้ไหม\", \"เปล่าผมไม่รู้\", \"จดไว้สิ\",\n",
        "    \"ยาวเท่าไหร่\", \"ใช่แล้ว\", \"สายเกินไปแล้ว\", \"เช้าเกินไปแล้ว\", \"เร็วที่สุดเท่าที่จะทำได้\",\n",
        "    \"ไม่เป็นไร\", \"ระวังนะ\", \"ฟังสิ!ฟังนะ!\", \"ดูนี่สิ\", \"มีอะไรจะให้ผมช่วยบ้าง\", \"ผมผิดเอง\",\n",
        "    \"มันเป็นความผิดของผม\", \"ผมไม่ผิด\", \"มันไม่ใช่ความผิดของผม\", \"ออกไป\", \"คุณคิดว่าอย่างไร\",\n",
        "    \"ขอเลขโทรศัพท์หน่อยสิ\", \"ผมเข้าไปข้างในได้ไหม\", \"คุณเห็นไหม\", \"ผมขอสูบบุหรี่ได้ไหม\",\n",
        "    \"ผมต้องจ่ายเท่าไหร่\", \"ขออนุญาตถ่ายรูปได้ไหม\", \"เรียกแท็กซี่ให้ผมหน่อยได้ไหม\",\n",
        "    \"พาผมกลับไปที่โรงแรมเดี๋ยวนี้\", \"วันนี้อัตราแลกเปลี่ยนเป็นเท่าไหร่\", \"ผมต้องการไปซื้อของ\"\n",
        "]\n",
        "\n",
        "# Example stopwords (can be expanded)\n",
        "stopwords = set(thai_stopwords())\n",
        "\n",
        "def process_sentence(sentence):\n",
        "    # Tokenization\n",
        "    tokens = word_tokenize(sentence, engine=\"newmm\")\n",
        "\n",
        "    # Stopword filtering\n",
        "    filtered_tokens = [token for token in tokens if token not in stopwords]\n",
        "\n",
        "    # Lemmatization (dummy implementation)\n",
        "    lemmatized_tokens = [token for token in filtered_tokens]  # Add lemmatization logic here\n",
        "\n",
        "    # Sentence reordering (dummy implementation)\n",
        "    reordered_sentence = \" \".join(lemmatized_tokens)  # Add reordering logic here\n",
        "\n",
        "    return reordered_sentence\n",
        "\n",
        "# Process all sentences in the list\n",
        "processed_sentences_test = [process_sentence(sentence) for sentence in sentences]\n",
        "\n",
        "# Output the results\n",
        "for i, sentence in enumerate(processed_sentences_test):\n",
        "    print(f\"Original: {sentences[i]}\")\n",
        "    print(f\"Processed: {sentence}\\n\")"
      ]
    },
    {
      "cell_type": "code",
      "execution_count": 37,
      "metadata": {
        "colab": {
          "base_uri": "https://localhost:8080/"
        },
        "id": "UggOwkPdPumY",
        "outputId": "749a6431-4317-4593-d342-d59c0c355476"
      },
      "outputs": [
        {
          "output_type": "execute_result",
          "data": {
            "text/plain": [
              "['สวัสดี',\n",
              " 'สบายดี',\n",
              " 'ขอบคุณ',\n",
              " 'ขอบพระคุณ',\n",
              " 'ขอบใจ',\n",
              " 'เชิญ',\n",
              " 'ดีใจ',\n",
              " 'ลาก่อน',\n",
              " 'พบกัน',\n",
              " 'พบกัน จันทร์',\n",
              " 'ราตรีสวัสดิ์',\n",
              " 'พงษ์ มิสเตอร์ จอห์น ตอนเช้า',\n",
              " 'สวัสดี จอห์น',\n",
              " 'ล่ะ',\n",
              " 'ผม สบายดี',\n",
              " 'แดง มิสเตอร์ เจมส์ ตอนบ่าย',\n",
              " 'มิสเตอร์ ดำ เรีย ตอนกลางคืน',\n",
              " 'พงษ์ แนะนำ มิสเตอร์ จอห์น รู้จัก แดง',\n",
              " 'ผม แนะนำ รู้จัก แดง',\n",
              " 'ผม ดีใจ รู้จัก',\n",
              " 'รู้จัก แดง',\n",
              " 'ถาม',\n",
              " 'นามบัตร ผม',\n",
              " 'ผม ดีใจ รู้จัก',\n",
              " 'มาจาก',\n",
              " 'คน',\n",
              " 'ผม คน เชียงใหม่',\n",
              " '',\n",
              " 'ผม กรุงเทพ',\n",
              " 'ผม ถนน สุขุมวิท',\n",
              " 'บ้าน เลขที่   17 /231   สุขุมวิท   ซอย   6',\n",
              " 'ลูกชาย สบายดี',\n",
              " 'ครอบครัว สบายดี',\n",
              " 'พ่อคุณ สบายดี',\n",
              " 'ภาษาอังกฤษ ไหม',\n",
              " 'เปล่า ผม ภาษาอังกฤษ',\n",
              " 'ผม ภาษาอังกฤษ',\n",
              " 'ผม',\n",
              " 'ผม รู้',\n",
              " 'ผม พู ูด ภาษา',\n",
              " 'กรุณา',\n",
              " 'อีกที สิ',\n",
              " 'กี่ ภาษา',\n",
              " 'ไหม',\n",
              " 'ผม ไหม',\n",
              " 'ภาษาไทย ไหม',\n",
              " 'ภาษาไทย',\n",
              " 'ผม ภาษาไทย ,   อังกฤษ , เยอรมัน สวีเดน',\n",
              " 'กี่ โมง',\n",
              " 'ชื่อ',\n",
              " 'พบกัน จันทร์',\n",
              " 'พบกัน',\n",
              " 'ขอโทษ',\n",
              " 'ไหม',\n",
              " 'ไหม',\n",
              " 'ที่นี่ ไหม',\n",
              " 'ที่นี่ น้ำดื่ม ไหม',\n",
              " 'บุหรี่ ไหม',\n",
              " 'ราคา',\n",
              " '',\n",
              " 'ไชโย',\n",
              " 'เครดิตการ์ด ไหม',\n",
              " 'ห้องน้ำ',\n",
              " 'เที่ยวบิน เชียงใหม่',\n",
              " 'เที่ยวบิน',\n",
              " 'เครื่องบิน ไหม',\n",
              " 'เช็ค อิน',\n",
              " 'ต้องการ ตั๋ว เดี่ยว ใบ เชียงใหม่',\n",
              " 'ต้องการ ตั๋วไปกลับ เชียงใหม่',\n",
              " 'ต้องการ ที่นั่ง สูบบุหรี่',\n",
              " 'ต้องการ ที่นั่ง หน้าต่าง',\n",
              " 'เที่ยวบิน เลื่อนเวลา กี่ ชั่วโมง',\n",
              " 'เที่ยวบิน กี่ ชั่วโมง',\n",
              " 'เที่ยวบิน เชียงใหม่ ประตู',\n",
              " 'เชียงใหม่ กี่ โมง',\n",
              " 'รู้สึก',\n",
              " 'ห้อง ว่าง ไหม',\n",
              " 'จอง',\n",
              " 'ต้องการ ห้อง เดี่ยว',\n",
              " 'ต้องการ ห้อง คู่',\n",
              " 'ต้องการ ห้อง ห้องน้ำ ตัว',\n",
              " 'ต้องการ ห้อง ระเบียง',\n",
              " 'ต้องการ ห้อง คืน',\n",
              " 'คืน',\n",
              " 'รู้ พัก กี่ คืน',\n",
              " 'คำตอบ',\n",
              " 'เสียใจ',\n",
              " 'ห้อง เต็ม',\n",
              " 'ห้อง เดี่ยว อยู่แล้ว',\n",
              " 'ห้อง คู่ อยู่แล้ว',\n",
              " 'ชำระเงิน',\n",
              " 'กรุณา รายละเอียด แบบฟอร์ม',\n",
              " 'กรุณา เซ็นต์ ชื่อ',\n",
              " 'กรุณา ชำระเงิน ล่วงหน้า',\n",
              " 'อาหารเช้า กี่ โมง',\n",
              " 'อาหารเย็น กี่ โมง',\n",
              " 'กรุณา กระเป๋าเดินทาง ห้อง',\n",
              " 'ทาน อาหารเช้า ห้อง ไหม',\n",
              " 'วันพรุ่งนี้',\n",
              " 'ตังค์',\n",
              " 'ชำระเงิน บัตรเครดิต',\n",
              " 'ชำ ำ ระ เงินสด',\n",
              " 'กรุณา แท็กซี่ ไหม',\n",
              " 'กรุณา แนะนำ โรงแรม ไหม',\n",
              " 'รถไฟ',\n",
              " 'รถไฟ มาถึง สถานี',\n",
              " 'รถไฟ มาถึง สถานี   2   ทุ่ม',\n",
              " 'เชิญ นั่ง',\n",
              " 'ภาษาไทย',\n",
              " 'หมายความว่า',\n",
              " 'พบกัน',\n",
              " 'ผม หิว',\n",
              " 'ผม กระหายน้ำ',\n",
              " 'ผม หลงทาง',\n",
              " '',\n",
              " 'ต้องการ',\n",
              " '',\n",
              " '',\n",
              " '',\n",
              " 'รอเดี๋ยว',\n",
              " 'รอ สักครู่',\n",
              " '',\n",
              " 'ช่วยตัวเอง',\n",
              " 'เชิญ ตามสบาย',\n",
              " 'ทำ ต่อไป',\n",
              " 'ดู ที่นั่น ซิ',\n",
              " 'มากเกินไป',\n",
              " 'แพง เกินไป',\n",
              " 'ใจ ดีมาก',\n",
              " 'ผม ได้คิด',\n",
              " 'รู้ ไหม',\n",
              " 'เปล่า ผม รู้',\n",
              " 'สิ',\n",
              " '',\n",
              " '',\n",
              " 'สาย เกินไป',\n",
              " 'เช้า เกินไป',\n",
              " 'ที่จะ ทำได้',\n",
              " '',\n",
              " 'ระวัง',\n",
              " 'ฟัง สิ ! ฟัง !',\n",
              " 'ดู สิ',\n",
              " 'ผม',\n",
              " 'ผม',\n",
              " 'ความผิด ผม',\n",
              " 'ผม',\n",
              " 'ความผิด ผม',\n",
              " '',\n",
              " '',\n",
              " 'เลข โทรศัพท์ สิ',\n",
              " 'ผม เข้าไป ข้างใน ไหม',\n",
              " 'ไหม',\n",
              " 'ผม สูบบุหรี่ ไหม',\n",
              " 'ผม จ่าย',\n",
              " 'ขออนุญาต ถ่ายรูป ไหม',\n",
              " 'แท็กซี่ ผม ไหม',\n",
              " 'ผม โรงแรม เดี๋ยวนี้',\n",
              " 'อัตราแลกเปลี่ยน',\n",
              " 'ผม ต้องการ ซื้อ']"
            ]
          },
          "metadata": {},
          "execution_count": 37
        }
      ],
      "source": [
        "processed_sentences_test"
      ]
    }
  ],
  "metadata": {
    "colab": {
      "collapsed_sections": [
        "MqR6Klwc-UAH",
        "A6gy4MLGIgp9"
      ],
      "provenance": [],
      "include_colab_link": true
    },
    "kernelspec": {
      "display_name": "Python 3",
      "name": "python3"
    },
    "language_info": {
      "name": "python"
    }
  },
  "nbformat": 4,
  "nbformat_minor": 0
}